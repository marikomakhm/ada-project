{
 "cells": [
  {
   "cell_type": "markdown",
   "metadata": {},
   "source": [
    "# Who's the biggest tax evader?"
   ]
  },
  {
   "cell_type": "markdown",
   "metadata": {},
   "source": [
    "#### Imports:"
   ]
  },
  {
   "cell_type": "code",
   "execution_count": 1,
   "metadata": {},
   "outputs": [
    {
     "data": {
      "text/html": [
       "<script type=\"text/javascript\">window.PlotlyConfig = {MathJaxConfig: 'local'};</script><script type=\"text/javascript\">if (window.MathJax) {MathJax.Hub.Config({SVG: {font: \"STIX-Web\"}});}</script><script>requirejs.config({paths: { 'plotly': ['https://cdn.plot.ly/plotly-latest.min']},});if(!window._Plotly) {require(['plotly'],function(plotly) {window._Plotly=plotly;});}</script>"
      ],
      "text/vnd.plotly.v1+html": [
       "<script type=\"text/javascript\">window.PlotlyConfig = {MathJaxConfig: 'local'};</script><script type=\"text/javascript\">if (window.MathJax) {MathJax.Hub.Config({SVG: {font: \"STIX-Web\"}});}</script><script>requirejs.config({paths: { 'plotly': ['https://cdn.plot.ly/plotly-latest.min']},});if(!window._Plotly) {require(['plotly'],function(plotly) {window._Plotly=plotly;});}</script>"
      ]
     },
     "metadata": {},
     "output_type": "display_data"
    }
   ],
   "source": [
    "import plotly.plotly as py\n",
    "import pandas as pd\n",
    "import pycountry\n",
    "import numpy as np\n",
    "import matplotlib.pyplot as plt\n",
    "from plotly.offline import download_plotlyjs, init_notebook_mode, plot, iplot\n",
    "init_notebook_mode(connected=True)"
   ]
  },
  {
   "cell_type": "markdown",
   "metadata": {},
   "source": [
    "## 1. Data cleaning and preprocessing"
   ]
  },
  {
   "cell_type": "code",
   "execution_count": 2,
   "metadata": {},
   "outputs": [],
   "source": [
    "# Load country codes\n",
    "df_country_codes = pd.read_csv('data/countries_codes.csv', low_memory=False).set_index('COUNTRY')"
   ]
  },
  {
   "cell_type": "code",
   "execution_count": 3,
   "metadata": {},
   "outputs": [],
   "source": [
    "# Load datasets\n",
    "## Load panama papers datasets\n",
    "pp_edges = pd.read_csv('data/panama_papers/panama_papers.edges.csv', low_memory=False)\n",
    "pp_nodes_address = pd.read_csv('data/panama_papers/panama_papers.nodes.address.csv', low_memory=False)\n",
    "pp_nodes_entity = pd.read_csv('data/panama_papers/panama_papers.nodes.entity.csv', low_memory=False)\n",
    "pp_nodes_intermediary = pd.read_csv('data/panama_papers/panama_papers.nodes.intermediary.csv', low_memory=False)\n",
    "pp_nodes_officer = pd.read_csv('data/panama_papers/panama_papers.nodes.officer.csv', low_memory=False)\n",
    "## Load UN datasets\n",
    "un_hdi_components_2014 = pd.read_csv('data/un/hdi_components.csv', low_memory=False)\n",
    "un_gdp_per_capita = pd.read_csv('data/un/gdp_per_capita.csv', low_memory=False)\n",
    "un_gdp_per_capita_ppp = pd.read_csv('data/un/gdp_per_capita_PPP.csv', low_memory=False)\n",
    "## Load world bank datasets\n",
    "wb_gini = pd.read_csv('data/world_bank/gini_index.csv', low_memory=False)\n",
    "wb_income_share_20_per = pd.read_csv('data/world_bank/income_share_20_per.csv', low_memory=False)\n",
    "wb_population_total = pd.read_csv('data/world_bank/population_total.csv', low_memory=False)"
   ]
  },
  {
   "cell_type": "code",
   "execution_count": 22,
   "metadata": {},
   "outputs": [],
   "source": [
    "# TIM\n",
    "wb_co2 = pd.read_excel('data/co2_emissions.xls')"
   ]
  },
  {
   "cell_type": "code",
   "execution_count": 4,
   "metadata": {},
   "outputs": [],
   "source": [
    "# We only consider statistics that date from 2000 onwards\n",
    "years_to_drop = list(map(str, np.arange(1960, 2000)))\n",
    "wb_gini = wb_gini.drop(columns=years_to_drop)\n",
    "wb_income_share_20_per = wb_income_share_20_per.drop(columns=years_to_drop)"
   ]
  },
  {
   "cell_type": "code",
   "execution_count": 5,
   "metadata": {},
   "outputs": [],
   "source": [
    "# We select the rightmost value (most recent) for each row\n",
    "gini_values = wb_gini.stack().groupby(level=0).last().reindex(wb_gini.index)\n",
    "\n",
    "# Only select valid values and label other values as NaN\n",
    "wb_gini['Gini'] = pd.to_numeric(gini_values, errors='coerce')\n",
    "\n",
    "# Only select relevant columns\n",
    "wb_gini = wb_gini[['Country Name', 'Country Code', 'Gini']]"
   ]
  },
  {
   "cell_type": "code",
   "execution_count": 6,
   "metadata": {},
   "outputs": [],
   "source": [
    "# We select the rightmost value (most recent) for each row\n",
    "income_share_20_per_values = wb_income_share_20_per.stack().groupby(level=0).last().reindex(wb_income_share_20_per.index)\n",
    "\n",
    "# Only select valid values and label other values as NaN\n",
    "wb_income_share_20_per['Income Share'] = pd.to_numeric(income_share_20_per_values, errors='coerce')\n",
    "\n",
    "# Only select relevant columns\n",
    "wb_income_share_20_per = wb_income_share_20_per[['Country Name', 'Country Code', 'Income Share']]"
   ]
  },
  {
   "cell_type": "code",
   "execution_count": 23,
   "metadata": {},
   "outputs": [],
   "source": [
    "# TIM\n",
    "\n",
    "# We select the rightmost value (most recent) for each row\n",
    "wb_co2_values = wb_co2.stack().groupby(level=0).last().reindex(wb_co2.index)\n",
    "\n",
    "# Only select valid values and label other values as NaN\n",
    "wb_co2['CO2 Emissions'] = pd.to_numeric(wb_co2_values, errors='coerce')\n",
    "\n",
    "# Only keep most recent values for each country\n",
    "wb_co2 = wb_co2[['Country Name', 'Country Code', 'CO2 Emissions']]\n",
    "\n",
    "# Remove countries without indicator information\n",
    "wb_co2 = wb_co2.dropna()"
   ]
  },
  {
   "cell_type": "code",
   "execution_count": 7,
   "metadata": {},
   "outputs": [],
   "source": [
    "# Join UN datasets with country codes DataFrame\n",
    "un_hdi_components_2014 = un_hdi_components_2014.join(df_country_codes, on='Country')\n",
    "un_gdp_per_capita = un_gdp_per_capita.join(df_country_codes, on='Country')\n",
    "un_gdp_per_capita_ppp = un_gdp_per_capita_ppp.join(df_country_codes, on='Country')"
   ]
  },
  {
   "cell_type": "code",
   "execution_count": 8,
   "metadata": {},
   "outputs": [],
   "source": [
    "# List of UN DataFrames\n",
    "un_dfs = [un_hdi_components_2014, un_gdp_per_capita, un_gdp_per_capita_ppp]\n",
    "\n",
    "# Define dictionary containing pairs (country name: ISO country code)\n",
    "countries = dict()\n",
    "\n",
    "for country in pycountry.countries:\n",
    "    countries[country.name] = country.alpha_3  \n",
    "\n",
    "for df in un_dfs:\n",
    "    nan_values = df['CODE'].isna()\n",
    "    input_countries = list(df[nan_values]['Country'].values)\n",
    "        \n",
    "    codes = []\n",
    "    for country in input_countries:\n",
    "        if country in countries:\n",
    "            codes.append(countries.get(country))\n",
    "        else:        \n",
    "            accepted = []\n",
    "            str_country = str(country)\n",
    "            # check if string contains either common or official country name\n",
    "            for p_country in pycountry.countries:\n",
    "                if p_country.name in str_country or (hasattr(p_country, 'common_name') and p_country.common_name in str_country):\n",
    "                    accepted.append(p_country.alpha_3)\n",
    "            if len(accepted) == 1:\n",
    "                codes.append(accepted[0])\n",
    "            else:\n",
    "                codes.append(None)\n",
    "\n",
    "    df.loc[nan_values, 'CODE'] = codes\n",
    "    # Remove rows that were not found\n",
    "    df = df[df['CODE'].notnull()]"
   ]
  },
  {
   "cell_type": "code",
   "execution_count": 9,
   "metadata": {
    "scrolled": false
   },
   "outputs": [],
   "source": [
    "pp_references_country = pp_nodes_address.groupby(['country_codes', 'countries']).size().reset_index(name='counts')"
   ]
  },
  {
   "cell_type": "code",
   "execution_count": 10,
   "metadata": {},
   "outputs": [],
   "source": [
    "wb_population_2014 = wb_population_total[['Country Code', '2014']]\n",
    "occurrence_pop = pp_references_country.merge(wb_population_2014, left_on='country_codes', right_on='Country Code')\n",
    "occurrence_pop['counts_1000'] = 1000 * occurrence_pop['counts'] / occurrence_pop['2014']"
   ]
  },
  {
   "cell_type": "markdown",
   "metadata": {},
   "source": [
    "## 2. Data analysis and observations"
   ]
  },
  {
   "cell_type": "markdown",
   "metadata": {},
   "source": [
    "### 2.1 Panama Papers and population"
   ]
  },
  {
   "cell_type": "code",
   "execution_count": 11,
   "metadata": {},
   "outputs": [
    {
     "data": {
      "image/png": "[encoded data removed]",
      "text/plain": [
       "<Figure size 432x288 with 1 Axes>"
      ]
     },
     "metadata": {
      "needs_background": "light"
     },
     "output_type": "display_data"
    }
   ],
   "source": [
    "occurrence_pop['counts_1000'].plot.hist(title='Distribution of references per 1000 inhabitants', bins=100, logy=True)\n",
    "plt.xlabel('Number of occurrences in Panama Papers per 1000 inhabitants')\n",
    "plt.show()"
   ]
  },
  {
   "cell_type": "code",
   "execution_count": 12,
   "metadata": {},
   "outputs": [],
   "source": [
    "pp_intermediary_country = pp_nodes_intermediary.groupby(['country_codes', 'countries']).size().reset_index(name='counts')\n",
    "pp_intermediary_country = pp_intermediary_country.sort_values('counts', ascending=False)"
   ]
  },
  {
   "cell_type": "markdown",
   "metadata": {},
   "source": [
    "We display the distribution using a map:"
   ]
  },
  {
   "cell_type": "code",
   "execution_count": 13,
   "metadata": {},
   "outputs": [
    {
     "data": {
      "application/vnd.plotly.v1+json": {
       "config": {
        "linkText": "Export to plot.ly",
        "plotlyServerURL": "https://plot.ly",
        "showLink": true
       },
       "data": [
        {
         "autocolorscale": false,
         "colorbar": {
          "autotick": false,
          "tickprefix": "",
          "title": "Number of references"
         },
         "colorscale": [
          [
           0,
           "rgb(5, 10, 172)"
          ],
          [
           0.35,
           "rgb(40, 60, 190)"
          ],
          [
           0.5,
           "rgb(70, 100, 245)"
          ],
          [
           0.6,
           "rgb(90, 120, 245)"
          ],
          [
           0.7,
           "rgb(106, 137, 247)"
          ],
          [
           1,
           "rgb(220, 220, 220)"
          ]
         ],
         "locations": [
          "HKG",
          "GBR",
          "CHE",
          "USA",
          "PAN",
          "GTM",
          "BRA",
          "LUX",
          "ECU",
          "JEY;GBR",
          "URY",
          "CHN",
          "GGY;GBR",
          "COL",
          "IMN",
          "ESP",
          "THA",
          "VEN",
          "MCO",
          "ARE",
          "ISR",
          "LIE",
          "CRI",
          "CYP",
          "BHS",
          "FRA",
          "CAN",
          "ARG",
          "RUS",
          "GIB",
          "GRC",
          "DEU",
          "CHL",
          "DOM",
          "SGP",
          "ZAF",
          "MUS",
          "ITA",
          "TWN",
          "NLD",
          "MLT",
          "LBN",
          "AUS",
          "IRL",
          "BEL",
          "SAU",
          "MEX",
          "PRT",
          "CYM",
          "VGB",
          "SLV",
          "BMU",
          "PER",
          "SWE",
          "AND",
          "BOL",
          "EGY",
          "NZL",
          "TUR",
          "AUT",
          "MYS",
          "PHL",
          "KWT",
          "IDN",
          "JOR",
          "UKR",
          "JPN",
          "FIN",
          "PAN;USA",
          "POL",
          "BRB",
          "KEN",
          "LVA",
          "HUN",
          "BHR",
          "CZE",
          "HND",
          "NIC",
          "NOR",
          "PRY",
          "DNK",
          "EST",
          "BLZ",
          "NGA",
          "QAT",
          "ISL",
          "BGR",
          "CUB",
          "SYC",
          "TCA",
          "HKG;CHN",
          "VNM",
          "KNA",
          "KOR",
          "IND",
          "ABW",
          "ZWE",
          "MAC;CHN",
          "USA;VEN",
          "ROU",
          "PAN;MEX",
          "SYR",
          "USA;PAN",
          "SVN",
          "LKA",
          "LCA",
          "TUN",
          "TTO",
          "USA;COL",
          "MOZ",
          "PAK",
          "HRV",
          "SGP;HKG",
          "ATG",
          "CHN;HKG",
          "CHE;GBR",
          "PAN;ESP",
          "PAN;BRA",
          "NIU",
          "PAN;CHE",
          "CYP;LUX",
          "BWA",
          "PAN;DEU",
          "THA;HKG",
          "MKD",
          "CUW",
          "PAN;GTM",
          "PAN;CAN",
          "MAR",
          "TZA",
          "MNE;SRB",
          "BLR",
          "GBR;LUX",
          "USA;ARG",
          "ZMB",
          "VUT",
          "GHA",
          "GBR;MCO",
          "CHE;MCO",
          "LTU",
          "CHE;LUX",
          "BEL;NLD",
          "VCT",
          "VCT;HUN",
          "ATG;PHL",
          "SGP;GBR",
          "VGB;USA",
          "CHE;FRA",
          "VIR",
          "SEN;CAN",
          "ARG;BHS",
          "URY;ARG",
          "SDN",
          "BGD",
          "RUS;CAN",
          "RUS;BEL",
          "CHE;IMN",
          "ARE;CYP",
          "CHE;ISR",
          "TWN;HKG",
          "USA;SAU",
          "SGP;MYS",
          "SGP;PHL",
          "URY;VEN",
          "BEL;CAN",
          "BHS;CHN",
          "BLZ;LUX",
          "USA;CRI",
          "USA;DOM",
          "USA;FRA",
          "USA;GBR",
          "USA;KOR",
          "SYC;CZE",
          "USA;MCO",
          "CHE;BHS",
          "USA;POL",
          "SXM;NLD",
          "CHE;DEU",
          "TZA;MUS",
          "CHE;ESP",
          "UGA",
          "PAN;GBR",
          "PRI",
          "JPN;HKG",
          "EGY;GRC",
          "LBY",
          "LBR",
          "ESP;URY",
          "KWT;JOR",
          "FRA;MCO",
          "GBR;ARE",
          "AGO",
          "GBR;ARG",
          "KEN;NZL",
          "GBR;ESP",
          "KAZ",
          "GBR;ITA",
          "ECU;BHS",
          "JEY;PAN",
          "JEY;IMN",
          "JEY;CYP",
          "JEY;CHE",
          "ITA;CHE",
          "GBR;THA",
          "ISR;PER",
          "GEO",
          "IRN",
          "GIB;ESP",
          "GRC;GBR",
          "IMN;GBR",
          "LSO",
          "LUX;MCO",
          "CHE;POL",
          "COL;USA",
          "PER;ESP",
          "CIV",
          "PAN;VEN",
          "CIV;BOL",
          "PAN;URY",
          "HND;GTM",
          "PAN;DOM",
          "PAN;CRI",
          "COL;ECU",
          "OMN",
          "NZL;NIU",
          "COL;SLV",
          "NLD;LUX",
          "DMA;DOM",
          "CRI;CAN",
          "CRI;PAN",
          "CYP;GRC",
          "MWI",
          "MUS;GBR",
          "MLT;GBR",
          "CYP;LVA",
          "MEX;PRI",
          "CYP;POL",
          "MDA",
          "MCO;BRA",
          "DJI",
          "KNA;GBR"
         ],
         "marker": {
          "line": {
           "color": "rgb(180,180,180)",
           "width": 0.5
          }
         },
         "reversescale": true,
         "text": [
          "Hong Kong",
          "United Kingdom",
          "Switzerland",
          "United States",
          "Panama",
          "Guatemala",
          "Brazil",
          "Luxembourg",
          "Ecuador",
          "Jersey;United Kingdom",
          "Uruguay",
          "China",
          "Guernsey;United Kingdom",
          "Colombia",
          "Isle of Man",
          "Spain",
          "Thailand",
          "Venezuela",
          "Monaco",
          "United Arab Emirates",
          "Israel",
          "Liechtenstein",
          "Costa Rica",
          "Cyprus",
          "Bahamas",
          "France",
          "Canada",
          "Argentina",
          "Russia",
          "Gibraltar",
          "Greece",
          "Germany",
          "Chile",
          "Dominican Republic",
          "Singapore",
          "South Africa",
          "Mauritius",
          "Italy",
          "Taiwan",
          "Netherlands",
          "Malta",
          "Lebanon",
          "Australia",
          "Ireland",
          "Belgium",
          "Saudi Arabia",
          "Mexico",
          "Portugal",
          "Cayman Islands",
          "British Virgin Islands",
          "El Salvador",
          "Bermuda",
          "Peru",
          "Sweden",
          "Andorra",
          "Bolivia",
          "Egypt",
          "New Zealand",
          "Turkey",
          "Austria",
          "Malaysia",
          "Philippines",
          "Kuwait",
          "Indonesia",
          "Jordan",
          "Ukraine",
          "Japan",
          "Finland",
          "Panama;United States",
          "Poland",
          "Barbados",
          "Kenya",
          "Latvia",
          "Hungary",
          "Bahrain",
          "Czech Republic",
          "Honduras",
          "Nicaragua",
          "Norway",
          "Paraguay",
          "Denmark",
          "Estonia",
          "Belize",
          "Nigeria",
          "Qatar",
          "Iceland",
          "Bulgaria",
          "Cuba",
          "Seychelles",
          "Turks and Caicos Islands",
          "Hong Kong;China",
          "Viet Nam",
          "Saint Kitts and Nevis",
          "South Korea",
          "India",
          "Aruba",
          "Zimbabwe",
          "Macao;China",
          "United States;Venezuela",
          "Romania",
          "Panama;Mexico",
          "Syria",
          "United States;Panama",
          "Slovenia",
          "Sri Lanka",
          "Saint Lucia",
          "Tunisia",
          "Trinidad and Tobago",
          "United States;Colombia",
          "Mozambique",
          "Pakistan",
          "Croatia",
          "Singapore;Hong Kong",
          "Antigua and Barbuda",
          "China;Hong Kong",
          "Switzerland;United Kingdom",
          "Panama;Spain",
          "Panama;Brazil",
          "Niue",
          "Panama;Switzerland",
          "Cyprus;Luxembourg",
          "Botswana",
          "Panama;Germany",
          "Thailand;Hong Kong",
          "Macedonia",
          "Curaçao",
          "Panama;Guatemala",
          "Panama;Canada",
          "Morocco",
          "Tanzania",
          "Montenegro;Serbia",
          "Belarus",
          "United Kingdom;Luxembourg",
          "United States;Argentina",
          "Zambia",
          "Vanuatu",
          "Ghana",
          "United Kingdom;Monaco",
          "Switzerland;Monaco",
          "Lithuania",
          "Switzerland;Luxembourg",
          "Belgium;Netherlands",
          "Saint Vincent and the Grenadines",
          "Saint Vincent and the Grenadines;Hungary",
          "Antigua and Barbuda;Philippines",
          "Singapore;United Kingdom",
          "British Virgin Islands;United States",
          "Switzerland;France",
          "U.S. Virgin Islands",
          "Senegal;Canada",
          "Argentina;Bahamas",
          "Uruguay;Argentina",
          "Sudan",
          "Bangladesh",
          "Russia;Canada",
          "Russia;Belgium",
          "Switzerland;Isle of Man",
          "United Arab Emirates;Cyprus",
          "Switzerland;Israel",
          "Taiwan;Hong Kong",
          "United States;Saudi Arabia",
          "Singapore;Malaysia",
          "Singapore;Philippines",
          "Uruguay;Venezuela",
          "Belgium;Canada",
          "Bahamas;China",
          "Belize;Luxembourg",
          "United States;Costa Rica",
          "United States;Dominican Republic",
          "United States;France",
          "United States;United Kingdom",
          "United States;South Korea",
          "Seychelles;Czech Republic",
          "United States;Monaco",
          "Switzerland;Bahamas",
          "United States;Poland",
          "Sint Maarten (Dutch part);Netherlands",
          "Switzerland;Germany",
          "Tanzania;Mauritius",
          "Switzerland;Spain",
          "Uganda",
          "Panama;United Kingdom",
          "Puerto Rico",
          "Japan;Hong Kong",
          "Egypt;Greece",
          "Libya",
          "Liberia",
          "Spain;Uruguay",
          "Kuwait;Jordan",
          "France;Monaco",
          "United Kingdom;United Arab Emirates",
          "Angola",
          "United Kingdom;Argentina",
          "Kenya;New Zealand",
          "United Kingdom;Spain",
          "Kazakhstan",
          "United Kingdom;Italy",
          "Ecuador;Bahamas",
          "Jersey;Panama",
          "Jersey;Isle of Man",
          "Jersey;Cyprus",
          "Jersey;Switzerland",
          "Italy;Switzerland",
          "United Kingdom;Thailand",
          "Israel;Peru",
          "Georgia",
          "Iran",
          "Gibraltar;Spain",
          "Greece;United Kingdom",
          "Isle of Man;United Kingdom",
          "Lesotho",
          "Luxembourg;Monaco",
          "Switzerland;Poland",
          "Colombia;United States",
          "Peru;Spain",
          "Côte d'Ivoire",
          "Panama;Venezuela",
          "Côte d'Ivoire;Bolivia",
          "Panama;Uruguay",
          "Honduras;Guatemala",
          "Panama;Dominican Republic",
          "Panama;Costa Rica",
          "Colombia;Ecuador",
          "Oman",
          "New Zealand;Niue",
          "Colombia;El Salvador",
          "Netherlands;Luxembourg",
          "Dominica;Dominican Republic",
          "Costa Rica;Canada",
          "Costa Rica;Panama",
          "Cyprus;Greece",
          "Malawi",
          "Mauritius;United Kingdom",
          "Malta;United Kingdom",
          "Cyprus;Latvia",
          "Mexico;Puerto Rico",
          "Cyprus;Poland",
          "Moldova",
          "Monaco;Brazil",
          "Djibouti",
          "Saint Kitts and Nevis;United Kingdom"
         ],
         "type": "choropleth",
         "z": [
          2202,
          1367,
          1218,
          603,
          552,
          441,
          399,
          398,
          323,
          310,
          296,
          253,
          236,
          227,
          206,
          194,
          184,
          180,
          163,
          133,
          132,
          117,
          116,
          108,
          106,
          98,
          96,
          89,
          73,
          71,
          68,
          67,
          65,
          60,
          57,
          56,
          55,
          49,
          49,
          49,
          43,
          42,
          39,
          36,
          35,
          34,
          32,
          32,
          32,
          30,
          30,
          23,
          22,
          22,
          21,
          19,
          19,
          19,
          18,
          16,
          15,
          15,
          15,
          14,
          13,
          13,
          13,
          12,
          12,
          12,
          12,
          12,
          11,
          11,
          11,
          10,
          10,
          10,
          10,
          9,
          9,
          9,
          8,
          8,
          7,
          7,
          7,
          7,
          6,
          6,
          6,
          6,
          5,
          5,
          5,
          5,
          5,
          4,
          4,
          4,
          4,
          4,
          4,
          4,
          3,
          3,
          3,
          3,
          3,
          3,
          3,
          3,
          3,
          3,
          3,
          3,
          3,
          3,
          3,
          3,
          2,
          2,
          2,
          2,
          2,
          2,
          2,
          2,
          2,
          2,
          2,
          2,
          2,
          2,
          2,
          2,
          2,
          2,
          2,
          2,
          1,
          1,
          1,
          1,
          1,
          1,
          1,
          1,
          1,
          1,
          1,
          1,
          1,
          1,
          1,
          1,
          1,
          1,
          1,
          1,
          1,
          1,
          1,
          1,
          1,
          1,
          1,
          1,
          1,
          1,
          1,
          1,
          1,
          1,
          1,
          1,
          1,
          1,
          1,
          1,
          1,
          1,
          1,
          1,
          1,
          1,
          1,
          1,
          1,
          1,
          1,
          1,
          1,
          1,
          1,
          1,
          1,
          1,
          1,
          1,
          1,
          1,
          1,
          1,
          1,
          1,
          1,
          1,
          1,
          1,
          1,
          1,
          1,
          1,
          1,
          1,
          1,
          1,
          1,
          1,
          1,
          1,
          1,
          1,
          1,
          1,
          1,
          1,
          1,
          1,
          1,
          1,
          1,
          1,
          1,
          1,
          1,
          1,
          1,
          1,
          1
         ]
        }
       ],
       "layout": {
        "geo": {
         "bgcolor": "rgba(255, 255, 255, 0.0)",
         "countrycolor": "rgb(217, 217, 217)",
         "projection": {
          "type": "Mercator"
         },
         "resolution": 50,
         "showcoastlines": false,
         "showcountries": true,
         "showframe": false
        },
        "title": "References in Panama Papers"
       }
      },
      "text/html": [
       "<div id=\"5da0507f-5ad9-4c59-b63f-d085531d738f\" style=\"height: 525px; width: 100%;\" class=\"plotly-graph-div\"></div><script type=\"text/javascript\">require([\"plotly\"], function(Plotly) { window.PLOTLYENV=window.PLOTLYENV || {};window.PLOTLYENV.BASE_URL=\"https://plot.ly\";Plotly.newPlot(\"5da0507f-5ad9-4c59-b63f-d085531d738f\", [{\"type\": \"choropleth\", \"locations\": [\"HKG\", \"GBR\", \"CHE\", \"USA\", \"PAN\", \"GTM\", \"BRA\", \"LUX\", \"ECU\", \"JEY;GBR\", \"URY\", \"CHN\", \"GGY;GBR\", \"COL\", \"IMN\", \"ESP\", \"THA\", \"VEN\", \"MCO\", \"ARE\", \"ISR\", \"LIE\", \"CRI\", \"CYP\", \"BHS\", \"FRA\", \"CAN\", \"ARG\", \"RUS\", \"GIB\", \"GRC\", \"DEU\", \"CHL\", \"DOM\", \"SGP\", \"ZAF\", \"MUS\", \"ITA\", \"TWN\", \"NLD\", \"MLT\", \"LBN\", \"AUS\", \"IRL\", \"BEL\", \"SAU\", \"MEX\", \"PRT\", \"CYM\", \"VGB\", \"SLV\", \"BMU\", \"PER\", \"SWE\", \"AND\", \"BOL\", \"EGY\", \"NZL\", \"TUR\", \"AUT\", \"MYS\", \"PHL\", \"KWT\", \"IDN\", \"JOR\", \"UKR\", \"JPN\", \"FIN\", \"PAN;USA\", \"POL\", \"BRB\", \"KEN\", \"LVA\", \"HUN\", \"BHR\", \"CZE\", \"HND\", \"NIC\", \"NOR\", \"PRY\", \"DNK\", \"EST\", \"BLZ\", \"NGA\", \"QAT\", \"ISL\", \"BGR\", \"CUB\", \"SYC\", \"TCA\", \"HKG;CHN\", \"VNM\", \"KNA\", \"KOR\", \"IND\", \"ABW\", \"ZWE\", \"MAC;CHN\", \"USA;VEN\", \"ROU\", \"PAN;MEX\", \"SYR\", \"USA;PAN\", \"SVN\", \"LKA\", \"LCA\", \"TUN\", \"TTO\", \"USA;COL\", \"MOZ\", \"PAK\", \"HRV\", \"SGP;HKG\", \"ATG\", \"CHN;HKG\", \"CHE;GBR\", \"PAN;ESP\", \"PAN;BRA\", \"NIU\", \"PAN;CHE\", \"CYP;LUX\", \"BWA\", \"PAN;DEU\", \"THA;HKG\", \"MKD\", \"CUW\", \"PAN;GTM\", \"PAN;CAN\", \"MAR\", \"TZA\", \"MNE;SRB\", \"BLR\", \"GBR;LUX\", \"USA;ARG\", \"ZMB\", \"VUT\", \"GHA\", \"GBR;MCO\", \"CHE;MCO\", \"LTU\", \"CHE;LUX\", \"BEL;NLD\", \"VCT\", \"VCT;HUN\", \"ATG;PHL\", \"SGP;GBR\", \"VGB;USA\", \"CHE;FRA\", \"VIR\", \"SEN;CAN\", \"ARG;BHS\", \"URY;ARG\", \"SDN\", \"BGD\", \"RUS;CAN\", \"RUS;BEL\", \"CHE;IMN\", \"ARE;CYP\", \"CHE;ISR\", \"TWN;HKG\", \"USA;SAU\", \"SGP;MYS\", \"SGP;PHL\", \"URY;VEN\", \"BEL;CAN\", \"BHS;CHN\", \"BLZ;LUX\", \"USA;CRI\", \"USA;DOM\", \"USA;FRA\", \"USA;GBR\", \"USA;KOR\", \"SYC;CZE\", \"USA;MCO\", \"CHE;BHS\", \"USA;POL\", \"SXM;NLD\", \"CHE;DEU\", \"TZA;MUS\", \"CHE;ESP\", \"UGA\", \"PAN;GBR\", \"PRI\", \"JPN;HKG\", \"EGY;GRC\", \"LBY\", \"LBR\", \"ESP;URY\", \"KWT;JOR\", \"FRA;MCO\", \"GBR;ARE\", \"AGO\", \"GBR;ARG\", \"KEN;NZL\", \"GBR;ESP\", \"KAZ\", \"GBR;ITA\", \"ECU;BHS\", \"JEY;PAN\", \"JEY;IMN\", \"JEY;CYP\", \"JEY;CHE\", \"ITA;CHE\", \"GBR;THA\", \"ISR;PER\", \"GEO\", \"IRN\", \"GIB;ESP\", \"GRC;GBR\", \"IMN;GBR\", \"LSO\", \"LUX;MCO\", \"CHE;POL\", \"COL;USA\", \"PER;ESP\", \"CIV\", \"PAN;VEN\", \"CIV;BOL\", \"PAN;URY\", \"HND;GTM\", \"PAN;DOM\", \"PAN;CRI\", \"COL;ECU\", \"OMN\", \"NZL;NIU\", \"COL;SLV\", \"NLD;LUX\", \"DMA;DOM\", \"CRI;CAN\", \"CRI;PAN\", \"CYP;GRC\", \"MWI\", \"MUS;GBR\", \"MLT;GBR\", \"CYP;LVA\", \"MEX;PRI\", \"CYP;POL\", \"MDA\", \"MCO;BRA\", \"DJI\", \"KNA;GBR\"], \"z\": [2202, 1367, 1218, 603, 552, 441, 399, 398, 323, 310, 296, 253, 236, 227, 206, 194, 184, 180, 163, 133, 132, 117, 116, 108, 106, 98, 96, 89, 73, 71, 68, 67, 65, 60, 57, 56, 55, 49, 49, 49, 43, 42, 39, 36, 35, 34, 32, 32, 32, 30, 30, 23, 22, 22, 21, 19, 19, 19, 18, 16, 15, 15, 15, 14, 13, 13, 13, 12, 12, 12, 12, 12, 11, 11, 11, 10, 10, 10, 10, 9, 9, 9, 8, 8, 7, 7, 7, 7, 6, 6, 6, 6, 5, 5, 5, 5, 5, 4, 4, 4, 4, 4, 4, 4, 3, 3, 3, 3, 3, 3, 3, 3, 3, 3, 3, 3, 3, 3, 3, 3, 2, 2, 2, 2, 2, 2, 2, 2, 2, 2, 2, 2, 2, 2, 2, 2, 2, 2, 2, 2, 1, 1, 1, 1, 1, 1, 1, 1, 1, 1, 1, 1, 1, 1, 1, 1, 1, 1, 1, 1, 1, 1, 1, 1, 1, 1, 1, 1, 1, 1, 1, 1, 1, 1, 1, 1, 1, 1, 1, 1, 1, 1, 1, 1, 1, 1, 1, 1, 1, 1, 1, 1, 1, 1, 1, 1, 1, 1, 1, 1, 1, 1, 1, 1, 1, 1, 1, 1, 1, 1, 1, 1, 1, 1, 1, 1, 1, 1, 1, 1, 1, 1, 1, 1, 1, 1, 1, 1, 1, 1, 1, 1, 1, 1, 1, 1, 1, 1, 1, 1, 1], \"text\": [\"Hong Kong\", \"United Kingdom\", \"Switzerland\", \"United States\", \"Panama\", \"Guatemala\", \"Brazil\", \"Luxembourg\", \"Ecuador\", \"Jersey;United Kingdom\", \"Uruguay\", \"China\", \"Guernsey;United Kingdom\", \"Colombia\", \"Isle of Man\", \"Spain\", \"Thailand\", \"Venezuela\", \"Monaco\", \"United Arab Emirates\", \"Israel\", \"Liechtenstein\", \"Costa Rica\", \"Cyprus\", \"Bahamas\", \"France\", \"Canada\", \"Argentina\", \"Russia\", \"Gibraltar\", \"Greece\", \"Germany\", \"Chile\", \"Dominican Republic\", \"Singapore\", \"South Africa\", \"Mauritius\", \"Italy\", \"Taiwan\", \"Netherlands\", \"Malta\", \"Lebanon\", \"Australia\", \"Ireland\", \"Belgium\", \"Saudi Arabia\", \"Mexico\", \"Portugal\", \"Cayman Islands\", \"British Virgin Islands\", \"El Salvador\", \"Bermuda\", \"Peru\", \"Sweden\", \"Andorra\", \"Bolivia\", \"Egypt\", \"New Zealand\", \"Turkey\", \"Austria\", \"Malaysia\", \"Philippines\", \"Kuwait\", \"Indonesia\", \"Jordan\", \"Ukraine\", \"Japan\", \"Finland\", \"Panama;United States\", \"Poland\", \"Barbados\", \"Kenya\", \"Latvia\", \"Hungary\", \"Bahrain\", \"Czech Republic\", \"Honduras\", \"Nicaragua\", \"Norway\", \"Paraguay\", \"Denmark\", \"Estonia\", \"Belize\", \"Nigeria\", \"Qatar\", \"Iceland\", \"Bulgaria\", \"Cuba\", \"Seychelles\", \"Turks and Caicos Islands\", \"Hong Kong;China\", \"Viet Nam\", \"Saint Kitts and Nevis\", \"South Korea\", \"India\", \"Aruba\", \"Zimbabwe\", \"Macao;China\", \"United States;Venezuela\", \"Romania\", \"Panama;Mexico\", \"Syria\", \"United States;Panama\", \"Slovenia\", \"Sri Lanka\", \"Saint Lucia\", \"Tunisia\", \"Trinidad and Tobago\", \"United States;Colombia\", \"Mozambique\", \"Pakistan\", \"Croatia\", \"Singapore;Hong Kong\", \"Antigua and Barbuda\", \"China;Hong Kong\", \"Switzerland;United Kingdom\", \"Panama;Spain\", \"Panama;Brazil\", \"Niue\", \"Panama;Switzerland\", \"Cyprus;Luxembourg\", \"Botswana\", \"Panama;Germany\", \"Thailand;Hong Kong\", \"Macedonia\", \"Cura\\u00e7ao\", \"Panama;Guatemala\", \"Panama;Canada\", \"Morocco\", \"Tanzania\", \"Montenegro;Serbia\", \"Belarus\", \"United Kingdom;Luxembourg\", \"United States;Argentina\", \"Zambia\", \"Vanuatu\", \"Ghana\", \"United Kingdom;Monaco\", \"Switzerland;Monaco\", \"Lithuania\", \"Switzerland;Luxembourg\", \"Belgium;Netherlands\", \"Saint Vincent and the Grenadines\", \"Saint Vincent and the Grenadines;Hungary\", \"Antigua and Barbuda;Philippines\", \"Singapore;United Kingdom\", \"British Virgin Islands;United States\", \"Switzerland;France\", \"U.S. Virgin Islands\", \"Senegal;Canada\", \"Argentina;Bahamas\", \"Uruguay;Argentina\", \"Sudan\", \"Bangladesh\", \"Russia;Canada\", \"Russia;Belgium\", \"Switzerland;Isle of Man\", \"United Arab Emirates;Cyprus\", \"Switzerland;Israel\", \"Taiwan;Hong Kong\", \"United States;Saudi Arabia\", \"Singapore;Malaysia\", \"Singapore;Philippines\", \"Uruguay;Venezuela\", \"Belgium;Canada\", \"Bahamas;China\", \"Belize;Luxembourg\", \"United States;Costa Rica\", \"United States;Dominican Republic\", \"United States;France\", \"United States;United Kingdom\", \"United States;South Korea\", \"Seychelles;Czech Republic\", \"United States;Monaco\", \"Switzerland;Bahamas\", \"United States;Poland\", \"Sint Maarten (Dutch part);Netherlands\", \"Switzerland;Germany\", \"Tanzania;Mauritius\", \"Switzerland;Spain\", \"Uganda\", \"Panama;United Kingdom\", \"Puerto Rico\", \"Japan;Hong Kong\", \"Egypt;Greece\", \"Libya\", \"Liberia\", \"Spain;Uruguay\", \"Kuwait;Jordan\", \"France;Monaco\", \"United Kingdom;United Arab Emirates\", \"Angola\", \"United Kingdom;Argentina\", \"Kenya;New Zealand\", \"United Kingdom;Spain\", \"Kazakhstan\", \"United Kingdom;Italy\", \"Ecuador;Bahamas\", \"Jersey;Panama\", \"Jersey;Isle of Man\", \"Jersey;Cyprus\", \"Jersey;Switzerland\", \"Italy;Switzerland\", \"United Kingdom;Thailand\", \"Israel;Peru\", \"Georgia\", \"Iran\", \"Gibraltar;Spain\", \"Greece;United Kingdom\", \"Isle of Man;United Kingdom\", \"Lesotho\", \"Luxembourg;Monaco\", \"Switzerland;Poland\", \"Colombia;United States\", \"Peru;Spain\", \"C\\u00f4te d'Ivoire\", \"Panama;Venezuela\", \"C\\u00f4te d'Ivoire;Bolivia\", \"Panama;Uruguay\", \"Honduras;Guatemala\", \"Panama;Dominican Republic\", \"Panama;Costa Rica\", \"Colombia;Ecuador\", \"Oman\", \"New Zealand;Niue\", \"Colombia;El Salvador\", \"Netherlands;Luxembourg\", \"Dominica;Dominican Republic\", \"Costa Rica;Canada\", \"Costa Rica;Panama\", \"Cyprus;Greece\", \"Malawi\", \"Mauritius;United Kingdom\", \"Malta;United Kingdom\", \"Cyprus;Latvia\", \"Mexico;Puerto Rico\", \"Cyprus;Poland\", \"Moldova\", \"Monaco;Brazil\", \"Djibouti\", \"Saint Kitts and Nevis;United Kingdom\"], \"colorscale\": [[0, \"rgb(5, 10, 172)\"], [0.35, \"rgb(40, 60, 190)\"], [0.5, \"rgb(70, 100, 245)\"], [0.6, \"rgb(90, 120, 245)\"], [0.7, \"rgb(106, 137, 247)\"], [1, \"rgb(220, 220, 220)\"]], \"autocolorscale\": false, \"reversescale\": true, \"marker\": {\"line\": {\"color\": \"rgb(180,180,180)\", \"width\": 0.5}}, \"colorbar\": {\"autotick\": false, \"tickprefix\": \"\", \"title\": \"Number of references\"}}], {\"title\": \"References in Panama Papers\", \"geo\": {\"showcountries\": true, \"countrycolor\": \"rgb(217, 217, 217)\", \"showframe\": false, \"resolution\": 50, \"showcoastlines\": false, \"projection\": {\"type\": \"Mercator\"}, \"bgcolor\": \"rgba(255, 255, 255, 0.0)\"}}, {\"showLink\": true, \"linkText\": \"Export to plot.ly\", \"plotlyServerURL\": \"https://plot.ly\"})});</script><script type=\"text/javascript\">window.addEventListener(\"resize\", function(){window._Plotly.Plots.resize(document.getElementById(\"5da0507f-5ad9-4c59-b63f-d085531d738f\"));});</script>"
      ],
      "text/vnd.plotly.v1+html": [
       "<div id=\"5da0507f-5ad9-4c59-b63f-d085531d738f\" style=\"height: 525px; width: 100%;\" class=\"plotly-graph-div\"></div><script type=\"text/javascript\">require([\"plotly\"], function(Plotly) { window.PLOTLYENV=window.PLOTLYENV || {};window.PLOTLYENV.BASE_URL=\"https://plot.ly\";Plotly.newPlot(\"5da0507f-5ad9-4c59-b63f-d085531d738f\", [{\"type\": \"choropleth\", \"locations\": [\"HKG\", \"GBR\", \"CHE\", \"USA\", \"PAN\", \"GTM\", \"BRA\", \"LUX\", \"ECU\", \"JEY;GBR\", \"URY\", \"CHN\", \"GGY;GBR\", \"COL\", \"IMN\", \"ESP\", \"THA\", \"VEN\", \"MCO\", \"ARE\", \"ISR\", \"LIE\", \"CRI\", \"CYP\", \"BHS\", \"FRA\", \"CAN\", \"ARG\", \"RUS\", \"GIB\", \"GRC\", \"DEU\", \"CHL\", \"DOM\", \"SGP\", \"ZAF\", \"MUS\", \"ITA\", \"TWN\", \"NLD\", \"MLT\", \"LBN\", \"AUS\", \"IRL\", \"BEL\", \"SAU\", \"MEX\", \"PRT\", \"CYM\", \"VGB\", \"SLV\", \"BMU\", \"PER\", \"SWE\", \"AND\", \"BOL\", \"EGY\", \"NZL\", \"TUR\", \"AUT\", \"MYS\", \"PHL\", \"KWT\", \"IDN\", \"JOR\", \"UKR\", \"JPN\", \"FIN\", \"PAN;USA\", \"POL\", \"BRB\", \"KEN\", \"LVA\", \"HUN\", \"BHR\", \"CZE\", \"HND\", \"NIC\", \"NOR\", \"PRY\", \"DNK\", \"EST\", \"BLZ\", \"NGA\", \"QAT\", \"ISL\", \"BGR\", \"CUB\", \"SYC\", \"TCA\", \"HKG;CHN\", \"VNM\", \"KNA\", \"KOR\", \"IND\", \"ABW\", \"ZWE\", \"MAC;CHN\", \"USA;VEN\", \"ROU\", \"PAN;MEX\", \"SYR\", \"USA;PAN\", \"SVN\", \"LKA\", \"LCA\", \"TUN\", \"TTO\", \"USA;COL\", \"MOZ\", \"PAK\", \"HRV\", \"SGP;HKG\", \"ATG\", \"CHN;HKG\", \"CHE;GBR\", \"PAN;ESP\", \"PAN;BRA\", \"NIU\", \"PAN;CHE\", \"CYP;LUX\", \"BWA\", \"PAN;DEU\", \"THA;HKG\", \"MKD\", \"CUW\", \"PAN;GTM\", \"PAN;CAN\", \"MAR\", \"TZA\", \"MNE;SRB\", \"BLR\", \"GBR;LUX\", \"USA;ARG\", \"ZMB\", \"VUT\", \"GHA\", \"GBR;MCO\", \"CHE;MCO\", \"LTU\", \"CHE;LUX\", \"BEL;NLD\", \"VCT\", \"VCT;HUN\", \"ATG;PHL\", \"SGP;GBR\", \"VGB;USA\", \"CHE;FRA\", \"VIR\", \"SEN;CAN\", \"ARG;BHS\", \"URY;ARG\", \"SDN\", \"BGD\", \"RUS;CAN\", \"RUS;BEL\", \"CHE;IMN\", \"ARE;CYP\", \"CHE;ISR\", \"TWN;HKG\", \"USA;SAU\", \"SGP;MYS\", \"SGP;PHL\", \"URY;VEN\", \"BEL;CAN\", \"BHS;CHN\", \"BLZ;LUX\", \"USA;CRI\", \"USA;DOM\", \"USA;FRA\", \"USA;GBR\", \"USA;KOR\", \"SYC;CZE\", \"USA;MCO\", \"CHE;BHS\", \"USA;POL\", \"SXM;NLD\", \"CHE;DEU\", \"TZA;MUS\", \"CHE;ESP\", \"UGA\", \"PAN;GBR\", \"PRI\", \"JPN;HKG\", \"EGY;GRC\", \"LBY\", \"LBR\", \"ESP;URY\", \"KWT;JOR\", \"FRA;MCO\", \"GBR;ARE\", \"AGO\", \"GBR;ARG\", \"KEN;NZL\", \"GBR;ESP\", \"KAZ\", \"GBR;ITA\", \"ECU;BHS\", \"JEY;PAN\", \"JEY;IMN\", \"JEY;CYP\", \"JEY;CHE\", \"ITA;CHE\", \"GBR;THA\", \"ISR;PER\", \"GEO\", \"IRN\", \"GIB;ESP\", \"GRC;GBR\", \"IMN;GBR\", \"LSO\", \"LUX;MCO\", \"CHE;POL\", \"COL;USA\", \"PER;ESP\", \"CIV\", \"PAN;VEN\", \"CIV;BOL\", \"PAN;URY\", \"HND;GTM\", \"PAN;DOM\", \"PAN;CRI\", \"COL;ECU\", \"OMN\", \"NZL;NIU\", \"COL;SLV\", \"NLD;LUX\", \"DMA;DOM\", \"CRI;CAN\", \"CRI;PAN\", \"CYP;GRC\", \"MWI\", \"MUS;GBR\", \"MLT;GBR\", \"CYP;LVA\", \"MEX;PRI\", \"CYP;POL\", \"MDA\", \"MCO;BRA\", \"DJI\", \"KNA;GBR\"], \"z\": [2202, 1367, 1218, 603, 552, 441, 399, 398, 323, 310, 296, 253, 236, 227, 206, 194, 184, 180, 163, 133, 132, 117, 116, 108, 106, 98, 96, 89, 73, 71, 68, 67, 65, 60, 57, 56, 55, 49, 49, 49, 43, 42, 39, 36, 35, 34, 32, 32, 32, 30, 30, 23, 22, 22, 21, 19, 19, 19, 18, 16, 15, 15, 15, 14, 13, 13, 13, 12, 12, 12, 12, 12, 11, 11, 11, 10, 10, 10, 10, 9, 9, 9, 8, 8, 7, 7, 7, 7, 6, 6, 6, 6, 5, 5, 5, 5, 5, 4, 4, 4, 4, 4, 4, 4, 3, 3, 3, 3, 3, 3, 3, 3, 3, 3, 3, 3, 3, 3, 3, 3, 2, 2, 2, 2, 2, 2, 2, 2, 2, 2, 2, 2, 2, 2, 2, 2, 2, 2, 2, 2, 1, 1, 1, 1, 1, 1, 1, 1, 1, 1, 1, 1, 1, 1, 1, 1, 1, 1, 1, 1, 1, 1, 1, 1, 1, 1, 1, 1, 1, 1, 1, 1, 1, 1, 1, 1, 1, 1, 1, 1, 1, 1, 1, 1, 1, 1, 1, 1, 1, 1, 1, 1, 1, 1, 1, 1, 1, 1, 1, 1, 1, 1, 1, 1, 1, 1, 1, 1, 1, 1, 1, 1, 1, 1, 1, 1, 1, 1, 1, 1, 1, 1, 1, 1, 1, 1, 1, 1, 1, 1, 1, 1, 1, 1, 1, 1, 1, 1, 1, 1, 1], \"text\": [\"Hong Kong\", \"United Kingdom\", \"Switzerland\", \"United States\", \"Panama\", \"Guatemala\", \"Brazil\", \"Luxembourg\", \"Ecuador\", \"Jersey;United Kingdom\", \"Uruguay\", \"China\", \"Guernsey;United Kingdom\", \"Colombia\", \"Isle of Man\", \"Spain\", \"Thailand\", \"Venezuela\", \"Monaco\", \"United Arab Emirates\", \"Israel\", \"Liechtenstein\", \"Costa Rica\", \"Cyprus\", \"Bahamas\", \"France\", \"Canada\", \"Argentina\", \"Russia\", \"Gibraltar\", \"Greece\", \"Germany\", \"Chile\", \"Dominican Republic\", \"Singapore\", \"South Africa\", \"Mauritius\", \"Italy\", \"Taiwan\", \"Netherlands\", \"Malta\", \"Lebanon\", \"Australia\", \"Ireland\", \"Belgium\", \"Saudi Arabia\", \"Mexico\", \"Portugal\", \"Cayman Islands\", \"British Virgin Islands\", \"El Salvador\", \"Bermuda\", \"Peru\", \"Sweden\", \"Andorra\", \"Bolivia\", \"Egypt\", \"New Zealand\", \"Turkey\", \"Austria\", \"Malaysia\", \"Philippines\", \"Kuwait\", \"Indonesia\", \"Jordan\", \"Ukraine\", \"Japan\", \"Finland\", \"Panama;United States\", \"Poland\", \"Barbados\", \"Kenya\", \"Latvia\", \"Hungary\", \"Bahrain\", \"Czech Republic\", \"Honduras\", \"Nicaragua\", \"Norway\", \"Paraguay\", \"Denmark\", \"Estonia\", \"Belize\", \"Nigeria\", \"Qatar\", \"Iceland\", \"Bulgaria\", \"Cuba\", \"Seychelles\", \"Turks and Caicos Islands\", \"Hong Kong;China\", \"Viet Nam\", \"Saint Kitts and Nevis\", \"South Korea\", \"India\", \"Aruba\", \"Zimbabwe\", \"Macao;China\", \"United States;Venezuela\", \"Romania\", \"Panama;Mexico\", \"Syria\", \"United States;Panama\", \"Slovenia\", \"Sri Lanka\", \"Saint Lucia\", \"Tunisia\", \"Trinidad and Tobago\", \"United States;Colombia\", \"Mozambique\", \"Pakistan\", \"Croatia\", \"Singapore;Hong Kong\", \"Antigua and Barbuda\", \"China;Hong Kong\", \"Switzerland;United Kingdom\", \"Panama;Spain\", \"Panama;Brazil\", \"Niue\", \"Panama;Switzerland\", \"Cyprus;Luxembourg\", \"Botswana\", \"Panama;Germany\", \"Thailand;Hong Kong\", \"Macedonia\", \"Cura\\u00e7ao\", \"Panama;Guatemala\", \"Panama;Canada\", \"Morocco\", \"Tanzania\", \"Montenegro;Serbia\", \"Belarus\", \"United Kingdom;Luxembourg\", \"United States;Argentina\", \"Zambia\", \"Vanuatu\", \"Ghana\", \"United Kingdom;Monaco\", \"Switzerland;Monaco\", \"Lithuania\", \"Switzerland;Luxembourg\", \"Belgium;Netherlands\", \"Saint Vincent and the Grenadines\", \"Saint Vincent and the Grenadines;Hungary\", \"Antigua and Barbuda;Philippines\", \"Singapore;United Kingdom\", \"British Virgin Islands;United States\", \"Switzerland;France\", \"U.S. Virgin Islands\", \"Senegal;Canada\", \"Argentina;Bahamas\", \"Uruguay;Argentina\", \"Sudan\", \"Bangladesh\", \"Russia;Canada\", \"Russia;Belgium\", \"Switzerland;Isle of Man\", \"United Arab Emirates;Cyprus\", \"Switzerland;Israel\", \"Taiwan;Hong Kong\", \"United States;Saudi Arabia\", \"Singapore;Malaysia\", \"Singapore;Philippines\", \"Uruguay;Venezuela\", \"Belgium;Canada\", \"Bahamas;China\", \"Belize;Luxembourg\", \"United States;Costa Rica\", \"United States;Dominican Republic\", \"United States;France\", \"United States;United Kingdom\", \"United States;South Korea\", \"Seychelles;Czech Republic\", \"United States;Monaco\", \"Switzerland;Bahamas\", \"United States;Poland\", \"Sint Maarten (Dutch part);Netherlands\", \"Switzerland;Germany\", \"Tanzania;Mauritius\", \"Switzerland;Spain\", \"Uganda\", \"Panama;United Kingdom\", \"Puerto Rico\", \"Japan;Hong Kong\", \"Egypt;Greece\", \"Libya\", \"Liberia\", \"Spain;Uruguay\", \"Kuwait;Jordan\", \"France;Monaco\", \"United Kingdom;United Arab Emirates\", \"Angola\", \"United Kingdom;Argentina\", \"Kenya;New Zealand\", \"United Kingdom;Spain\", \"Kazakhstan\", \"United Kingdom;Italy\", \"Ecuador;Bahamas\", \"Jersey;Panama\", \"Jersey;Isle of Man\", \"Jersey;Cyprus\", \"Jersey;Switzerland\", \"Italy;Switzerland\", \"United Kingdom;Thailand\", \"Israel;Peru\", \"Georgia\", \"Iran\", \"Gibraltar;Spain\", \"Greece;United Kingdom\", \"Isle of Man;United Kingdom\", \"Lesotho\", \"Luxembourg;Monaco\", \"Switzerland;Poland\", \"Colombia;United States\", \"Peru;Spain\", \"C\\u00f4te d'Ivoire\", \"Panama;Venezuela\", \"C\\u00f4te d'Ivoire;Bolivia\", \"Panama;Uruguay\", \"Honduras;Guatemala\", \"Panama;Dominican Republic\", \"Panama;Costa Rica\", \"Colombia;Ecuador\", \"Oman\", \"New Zealand;Niue\", \"Colombia;El Salvador\", \"Netherlands;Luxembourg\", \"Dominica;Dominican Republic\", \"Costa Rica;Canada\", \"Costa Rica;Panama\", \"Cyprus;Greece\", \"Malawi\", \"Mauritius;United Kingdom\", \"Malta;United Kingdom\", \"Cyprus;Latvia\", \"Mexico;Puerto Rico\", \"Cyprus;Poland\", \"Moldova\", \"Monaco;Brazil\", \"Djibouti\", \"Saint Kitts and Nevis;United Kingdom\"], \"colorscale\": [[0, \"rgb(5, 10, 172)\"], [0.35, \"rgb(40, 60, 190)\"], [0.5, \"rgb(70, 100, 245)\"], [0.6, \"rgb(90, 120, 245)\"], [0.7, \"rgb(106, 137, 247)\"], [1, \"rgb(220, 220, 220)\"]], \"autocolorscale\": false, \"reversescale\": true, \"marker\": {\"line\": {\"color\": \"rgb(180,180,180)\", \"width\": 0.5}}, \"colorbar\": {\"autotick\": false, \"tickprefix\": \"\", \"title\": \"Number of references\"}}], {\"title\": \"References in Panama Papers\", \"geo\": {\"showcountries\": true, \"countrycolor\": \"rgb(217, 217, 217)\", \"showframe\": false, \"resolution\": 50, \"showcoastlines\": false, \"projection\": {\"type\": \"Mercator\"}, \"bgcolor\": \"rgba(255, 255, 255, 0.0)\"}}, {\"showLink\": true, \"linkText\": \"Export to plot.ly\", \"plotlyServerURL\": \"https://plot.ly\"})});</script><script type=\"text/javascript\">window.addEventListener(\"resize\", function(){window._Plotly.Plots.resize(document.getElementById(\"5da0507f-5ad9-4c59-b63f-d085531d738f\"));});</script>"
      ]
     },
     "metadata": {},
     "output_type": "display_data"
    }
   ],
   "source": [
    "data = [ dict(\n",
    "        type = 'choropleth',\n",
    "        locations = pp_intermediary_country['country_codes'],\n",
    "        z = pp_intermediary_country['counts'],\n",
    "        text = pp_intermediary_country['countries'],\n",
    "        colorscale = [[0,\"rgb(5, 10, 172)\"],[0.35,\"rgb(40, 60, 190)\"],[0.5,\"rgb(70, 100, 245)\"],\\\n",
    "            [0.6,\"rgb(90, 120, 245)\"],[0.7,\"rgb(106, 137, 247)\"],[1,\"rgb(220, 220, 220)\"]],\n",
    "        autocolorscale = False,\n",
    "        reversescale = True,\n",
    "        marker = dict(\n",
    "            line = dict (\n",
    "                color = 'rgb(180,180,180)',\n",
    "                width = 0.5\n",
    "            ) ),\n",
    "        colorbar = dict(\n",
    "            autotick = False,\n",
    "            tickprefix = '',\n",
    "            title = 'Number of references'),\n",
    "      ) ]\n",
    "\n",
    "\"\"\"\n",
    "layout = {\n",
    "  \"geo\": {\n",
    "    \"coastlinewidth\": 2, \n",
    "    \"countrycolor\": \"rgb(204, 204, 204)\", \n",
    "    \"lakecolor\": \"rgb(255, 255, 255)\", \n",
    "    \"landcolor\": \"rgb(204, 204, 204)\", \n",
    "    \"lataxis\": {\n",
    "      \"dtick\": 10, \n",
    "      \"range\": [20, 60], \n",
    "      \"showgrid\": True\n",
    "    }, \n",
    "    \"lonaxis\": {\n",
    "      \"dtick\": 20, \n",
    "      \"range\": [-100, 20], \n",
    "      \"showgrid\": True\n",
    "    }, \n",
    "    \"projection\": {\"type\": \"equirectangular\"}, \n",
    "    \"resolution\": 50, \n",
    "    \"showlakes\": True, \n",
    "    \"showland\": False\n",
    "  }, \n",
    "  \"showlegend\": False, \n",
    "  \"title\": \"Seoul to Hong Kong Great Circle\"\n",
    "}\n",
    "\n",
    "\"\"\"\n",
    "layout = dict(\n",
    "    title = 'References in Panama Papers',\n",
    "    geo = dict(\n",
    "        showcountries = True,\n",
    "        countrycolor = \"rgb(217, 217, 217)\",\n",
    "        showframe = False,\n",
    "        resolution=50,\n",
    "        showcoastlines = False,\n",
    "        projection = dict(\n",
    "            type = 'Mercator'\n",
    "        ),\n",
    "        bgcolor = 'rgba(255, 255, 255, 0.0)',\n",
    "    )\n",
    ")\n",
    "\n",
    "\n",
    "fig = dict( data=data, layout=layout )\n",
    "\n",
    "iplot( fig, validate=False)"
   ]
  },
  {
   "cell_type": "code",
   "execution_count": 14,
   "metadata": {},
   "outputs": [],
   "source": [
    "min_count = pp_intermediary_country['counts'].min()\n",
    "max_count = pp_intermediary_country['counts'].max()"
   ]
  },
  {
   "cell_type": "code",
   "execution_count": 15,
   "metadata": {},
   "outputs": [],
   "source": [
    "def firstOrDefault(values, default):\n",
    "    if values is None or len(values) == 0:\n",
    "        return default\n",
    "    return values[0]"
   ]
  },
  {
   "cell_type": "markdown",
   "metadata": {},
   "source": [
    "## 3. Milestone 3"
   ]
  },
  {
   "cell_type": "markdown",
   "metadata": {},
   "source": [
    "We can see from the tables that most of the countries involved in the Panama Papers affair are small islands, which unfortunately are not displayed by the `Plotly` library. For the next milestone, we will fix that issue either by finding a solution that still works with `Plotly` or by using a different library, such as `folium`.\n",
    "\n",
    "So far, we have made insightful observations that match the reports found in the media, particularly about which countries were most involved in this affair.\n",
    "\n",
    "For the next milestone, we will further investigate the links between the countries, and try to understand the correlation of socio-economic factors with the locations of entities, officers and intermediaries involved in Panama Papers. More specifically, we intend to:\n",
    "- Find which socio-economic factors are correlated with the results we found so far, and how they are correlated\n",
    "- Display the links between the countries using a graph similar to the one found [here](https://plot.ly/python/lines-on-maps/)\n",
    "- Fix issues with certain countries (particularly small islands) not being displayed in the graph\n",
    "-"
   ]
  },
  {
   "cell_type": "code",
   "execution_count": 16,
   "metadata": {},
   "outputs": [],
   "source": [
    "pp_edges_parsed = pp_edges[['START_ID', 'TYPE', 'END_ID']]"
   ]
  },
  {
   "cell_type": "code",
   "execution_count": 17,
   "metadata": {},
   "outputs": [],
   "source": [
    "# only keep relevant columns\n",
    "pp_nodes_intermediary_parsed = pp_nodes_intermediary[['node_id', 'country_codes', 'countries']]\n",
    "pp_nodes_entity_parsed = pp_nodes_entity[['node_id', 'country_codes', 'countries']]\n",
    "pp_nodes_officer_parsed = pp_nodes_officer[['node_id', 'country_codes', 'countries']]\n",
    "pp_nodes_address_parsed = pp_nodes_address[['node_id', 'country_codes', 'countries']]"
   ]
  },
  {
   "cell_type": "code",
   "execution_count": 18,
   "metadata": {},
   "outputs": [],
   "source": [
    "countries_location = pd.read_csv('data/countries_latitude_longitude.csv')\n",
    "countries_location = countries_location[['Alpha-3 code', 'Latitude (average)', 'Longitude (average)']]\n",
    "countries_location = countries_location.rename(columns={'Alpha-3 code': 'Code', 'Latitude (average)': 'lat', \n",
    "                                                        'Longitude (average)': 'long'})"
   ]
  },
  {
   "cell_type": "code",
   "execution_count": 19,
   "metadata": {},
   "outputs": [],
   "source": [
    "# DataFrame containing id, country code and country of every node in panama papers\n",
    "pp_nodes = pp_nodes_entity_parsed.append(pp_nodes_intermediary_parsed).append(pp_nodes_officer_parsed)\\\n",
    "                    .append(pp_nodes_address_parsed)\n",
    "\n",
    "pp_nodes = pp_nodes.dropna()\n",
    "\n",
    "pp_nodes = pp_nodes.merge(countries_location, left_on='country_codes', right_on='Code')\\\n",
    "    .drop(columns='Code')"
   ]
  },
  {
   "cell_type": "code",
   "execution_count": 20,
   "metadata": {},
   "outputs": [],
   "source": [
    "# get country of origin nodes\n",
    "pp_edges_countries = pp_nodes.merge(pp_edges_parsed, left_on='node_id', right_on='START_ID')\n",
    "pp_edges_countries = pp_edges_countries.rename(columns={'node_id': 'id_1', 'country_codes': 'cc_1', \n",
    "                                                        'countries': 'country_1', 'lat': 'lat_1', 'long': 'long_1'})\n",
    "\n",
    "# get country of destination nodes\n",
    "pp_edges_countries = pp_edges_countries.merge(pp_nodes, left_on='END_ID', right_on='node_id')\n",
    "pp_edges_countries = pp_edges_countries.rename(columns={'node_id': 'id_2', 'country_codes': 'cc_2', \n",
    "                                                        'countries': 'country_2', 'lat': 'lat_2', 'long': 'long_2'})\n",
    "\n",
    "# only keep relevant columns\n",
    "pp_edges_countries = pp_edges_countries.drop(columns=['id_1', 'id_2'])"
   ]
  },
  {
   "cell_type": "code",
   "execution_count": 21,
   "metadata": {},
   "outputs": [],
   "source": [
    "within_country = pp_edges_countries['cc_1'] == pp_edges_countries['cc_2']"
   ]
  },
  {
   "cell_type": "code",
   "execution_count": 44,
   "metadata": {},
   "outputs": [],
   "source": [
    "# remove countries that do not have international\n",
    "pp_edges_international = pp_edges_countries[~within_country]\n",
    "pp_edges_national = pp_edges_countries[within_country]"
   ]
  },
  {
   "cell_type": "code",
   "execution_count": 45,
   "metadata": {},
   "outputs": [],
   "source": [
    "pp_edges_national = pp_edges_national.groupby(['cc_1', 'country_1']).size().reset_index(name='count')"
   ]
  },
  {
   "cell_type": "code",
   "execution_count": 46,
   "metadata": {},
   "outputs": [],
   "source": [
    "pp_edges_international = pp_edges_international.groupby(['cc_1', 'country_1', 'cc_2', 'country_2', \n",
    "                                'long_1', 'lat_1', 'long_2', 'lat_2']).size().reset_index(name='count')\\\n",
    "                                .sort_values('count', ascending=False)"
   ]
  },
  {
   "cell_type": "code",
   "execution_count": 25,
   "metadata": {
    "scrolled": false
   },
   "outputs": [
    {
     "data": {
      "application/vnd.plotly.v1+json": {
       "config": {
        "linkText": "Export to plot.ly",
        "plotlyServerURL": "https://plot.ly",
        "showLink": true
       },
       "data": [
        {
         "autocolorscale": false,
         "colorbar": {
          "autotick": false,
          "tickprefix": "",
          "title": "Number of references"
         },
         "colorscale": [
          [
           0,
           "rgb(5, 10, 172)"
          ],
          [
           0.35,
           "rgb(40, 60, 190)"
          ],
          [
           0.5,
           "rgb(70, 100, 245)"
          ],
          [
           0.6,
           "rgb(90, 120, 245)"
          ],
          [
           0.7,
           "rgb(106, 137, 247)"
          ],
          [
           1,
           "rgb(220, 220, 220)"
          ]
         ],
         "locations": [
          "ABW",
          "AGO",
          "AIA",
          "ALB",
          "AND",
          "ARE",
          "ARG",
          "ARM",
          "ASM",
          "ATG",
          "AUS",
          "AUT",
          "AZE",
          "BEL",
          "BEN",
          "BFA",
          "BGD",
          "BGR",
          "BHR",
          "BHS",
          "BIH",
          "BLR",
          "BLZ",
          "BMU",
          "BOL",
          "BRA",
          "BRB",
          "BRN",
          "BWA",
          "CAF",
          "CAN",
          "CHE",
          "CHL",
          "CHN",
          "CIV",
          "CMR",
          "COD",
          "COK",
          "COL",
          "CPV",
          "CRI",
          "CUB",
          "CYM",
          "CYP",
          "CZE",
          "DEU",
          "DJI",
          "DMA",
          "DNK",
          "DOM",
          "DZA",
          "ECU",
          "EGY",
          "ESP",
          "EST",
          "ETH",
          "FIN",
          "FJI",
          "FRA",
          "GAB",
          "GBR",
          "GEO",
          "GGY",
          "GHA",
          "GIB",
          "GIN",
          "GMB",
          "GNB",
          "GNQ",
          "GRC",
          "GRD",
          "GTM",
          "GUM",
          "GUY",
          "HKG",
          "HND",
          "HRV",
          "HTI",
          "HUN",
          "IDN",
          "IMN",
          "IND",
          "IRL",
          "IRN",
          "IRQ",
          "ISL",
          "ISR",
          "ITA",
          "JAM",
          "JEY",
          "JOR",
          "JPN",
          "KAZ",
          "KEN",
          "KGZ",
          "KHM",
          "KNA",
          "KOR",
          "KWT",
          "LAO",
          "LBN",
          "LBR",
          "LBY",
          "LCA",
          "LIE",
          "LKA",
          "LSO",
          "LTU",
          "LUX",
          "LVA",
          "MAC",
          "MAR",
          "MCO",
          "MDA",
          "MDG",
          "MDV",
          "MEX",
          "MHL",
          "MKD",
          "MLI",
          "MLT",
          "MMR",
          "MNE",
          "MNG",
          "MOZ",
          "MTQ",
          "MUS",
          "MWI",
          "MYS",
          "NAM",
          "NER",
          "NGA",
          "NIC",
          "NIU",
          "NLD",
          "NOR",
          "NPL",
          "NRU",
          "NZL",
          "OMN",
          "PAK",
          "PAN",
          "PER",
          "PHL",
          "PNG",
          "POL",
          "PRI",
          "PRT",
          "PRY",
          "PSE",
          "QAT",
          "REU",
          "ROU",
          "RUS",
          "RWA",
          "SAU",
          "SDN",
          "SEN",
          "SGP",
          "SLB",
          "SLE",
          "SLV",
          "SMR",
          "SOM",
          "SRB",
          "SUR",
          "SVK",
          "SVN",
          "SWE",
          "SWZ",
          "SYC",
          "SYR",
          "TCA",
          "TCD",
          "TGO",
          "THA",
          "TJK",
          "TKM",
          "TTO",
          "TUN",
          "TUR",
          "TWN",
          "TZA",
          "UGA",
          "UKR",
          "URY",
          "USA",
          "UZB",
          "VCT",
          "VEN",
          "VGB",
          "VIR",
          "VNM",
          "VUT",
          "WSM",
          "YEM",
          "ZAF",
          "ZMB",
          "ZWE"
         ],
         "marker": {
          "line": {
           "color": "rgb(180,180,180)",
           "width": 0.5
          }
         },
         "reversescale": true,
         "text": [
          "Aruba",
          "Angola",
          "Anguilla",
          "Albania",
          "Andorra",
          "United Arab Emirates",
          "Argentina",
          "Armenia",
          "American Samoa",
          "Antigua and Barbuda",
          "Australia",
          "Austria",
          "Azerbaijan",
          "Belgium",
          "Benin",
          "Burkina Faso",
          "Bangladesh",
          "Bulgaria",
          "Bahrain",
          "Bahamas",
          "Bosnia and Herzegovina",
          "Belarus",
          "Belize",
          "Bermuda",
          "Bolivia",
          "Brazil",
          "Barbados",
          "Brunei",
          "Botswana",
          "Central African Republic",
          "Canada",
          "Switzerland",
          "Chile",
          "China",
          "Côte d'Ivoire",
          "Cameroon",
          "DR Congo",
          "Cook Islands",
          "Colombia",
          "Cape Verde",
          "Costa Rica",
          "Cuba",
          "Cayman Islands",
          "Cyprus",
          "Czech Republic",
          "Germany",
          "Djibouti",
          "Dominica",
          "Denmark",
          "Dominican Republic",
          "Algeria",
          "Ecuador",
          "Egypt",
          "Spain",
          "Estonia",
          "Ethiopia",
          "Finland",
          "Fiji",
          "France",
          "Gabon",
          "United Kingdom",
          "Georgia",
          "Guernsey",
          "Ghana",
          "Gibraltar",
          "Guinea",
          "Gambia",
          "Guinea-Bissau",
          "Equatorial Guinea",
          "Greece",
          "Grenada",
          "Guatemala",
          "Guam",
          "Guyana",
          "Hong Kong",
          "Honduras",
          "Croatia",
          "Haiti",
          "Hungary",
          "Indonesia",
          "Isle of Man",
          "India",
          "Ireland",
          "Iran",
          "Iraq",
          "Iceland",
          "Israel",
          "Italy",
          "Jamaica",
          "Jersey",
          "Jordan",
          "Japan",
          "Kazakhstan",
          "Kenya",
          "Kyrgyzstan",
          "Cambodia",
          "Saint Kitts and Nevis",
          "South Korea",
          "Kuwait",
          "Laos",
          "Lebanon",
          "Liberia",
          "Libya",
          "Saint Lucia",
          "Liechtenstein",
          "Sri Lanka",
          "Lesotho",
          "Lithuania",
          "Luxembourg",
          "Latvia",
          "Macao",
          "Morocco",
          "Monaco",
          "Moldova",
          "Madagascar",
          "Maldives",
          "Mexico",
          "Marshall Islands",
          "Macedonia",
          "Mali",
          "Malta",
          "Myanmar",
          "Montenegro",
          "Mongolia",
          "Mozambique",
          "Martinique",
          "Mauritius",
          "Malawi",
          "Malaysia",
          "Namibia",
          "Niger",
          "Nigeria",
          "Nicaragua",
          "Niue",
          "Netherlands",
          "Norway",
          "Nepal",
          "Nauru",
          "New Zealand",
          "Oman",
          "Pakistan",
          "Panama",
          "Peru",
          "Philippines",
          "Papua New Guinea",
          "Poland",
          "Puerto Rico",
          "Portugal",
          "Paraguay",
          "Palestine",
          "Qatar",
          "Réunion",
          "Romania",
          "Russia",
          "Rwanda",
          "Saudi Arabia",
          "Sudan",
          "Senegal",
          "Singapore",
          "Solomon Islands",
          "Sierra Leone",
          "El Salvador",
          "San Marino",
          "Somalia",
          "Serbia",
          "Suriname",
          "Slovakia",
          "Slovenia",
          "Sweden",
          "Swaziland",
          "Seychelles",
          "Syria",
          "Turks and Caicos Islands",
          "Chad",
          "Togo",
          "Thailand",
          "Tajikistan",
          "Turkmenistan",
          "Trinidad and Tobago",
          "Tunisia",
          "Turkey",
          "Taiwan",
          "Tanzania",
          "Uganda",
          "Ukraine",
          "Uruguay",
          "United States",
          "Uzbekistan",
          "Saint Vincent and the Grenadines",
          "Venezuela",
          "British Virgin Islands",
          "U.S. Virgin Islands",
          "Viet Nam",
          "Vanuatu",
          "Samoa",
          "Yemen",
          "South Africa",
          "Zambia",
          "Zimbabwe"
         ],
         "type": "choropleth",
         "z": [
          69,
          78,
          259,
          27,
          578,
          6769,
          1645,
          28,
          17,
          219,
          1189,
          121,
          93,
          347,
          8,
          1,
          26,
          181,
          99,
          4348,
          4,
          89,
          842,
          433,
          162,
          4040,
          81,
          45,
          113,
          43,
          1298,
          42163,
          380,
          32764,
          33,
          46,
          48,
          15,
          4232,
          24,
          1560,
          37,
          799,
          5959,
          273,
          455,
          3,
          561,
          64,
          944,
          19,
          3648,
          343,
          2001,
          1044,
          2,
          100,
          3,
          1129,
          31,
          15893,
          76,
          9352,
          47,
          3899,
          8,
          7,
          2,
          2,
          604,
          2,
          2312,
          5,
          2,
          67626,
          50,
          37,
          227,
          276,
          1082,
          8983,
          426,
          446,
          141,
          30,
          232,
          2143,
          1485,
          24,
          18696,
          843,
          425,
          185,
          214,
          1,
          19,
          965,
          182,
          237,
          54,
          1392,
          119,
          48,
          26,
          3953,
          26,
          1,
          61,
          14118,
          1485,
          243,
          113,
          5502,
          69,
          10,
          16,
          326,
          202,
          4,
          20,
          1123,
          18,
          17,
          44,
          32,
          7,
          3435,
          38,
          1533,
          33,
          1,
          200,
          27,
          241,
          464,
          103,
          7,
          14,
          384,
          65,
          223,
          15291,
          1713,
          413,
          2,
          326,
          9,
          565,
          69,
          11,
          145,
          2,
          102,
          9390,
          3,
          887,
          10,
          19,
          8121,
          2,
          4,
          395,
          1,
          31,
          32,
          6,
          121,
          92,
          202,
          21,
          2245,
          68,
          66,
          53,
          3,
          2210,
          7,
          7,
          23,
          37,
          769,
          8879,
          46,
          9,
          745,
          8955,
          7013,
          86,
          46,
          1652,
          11967,
          21,
          110,
          557,
          394,
          10,
          2048,
          49,
          299
         ]
        }
       ],
       "layout": {
        "geo": {
         "bgcolor": "rgba(255, 255, 255, 0.0)",
         "countrycolor": "rgb(217, 217, 217)",
         "projection": {
          "type": "Mercator"
         },
         "resolution": 50,
         "showcoastlines": false,
         "showcountries": true,
         "showframe": false
        },
        "title": "Number of national Panama Paper links"
       }
      },
      "text/html": [
       "<div id=\"6c41a4d1-be3f-480d-b4a8-d182ac1ef8f4\" style=\"height: 525px; width: 100%;\" class=\"plotly-graph-div\"></div><script type=\"text/javascript\">require([\"plotly\"], function(Plotly) { window.PLOTLYENV=window.PLOTLYENV || {};window.PLOTLYENV.BASE_URL=\"https://plot.ly\";Plotly.newPlot(\"6c41a4d1-be3f-480d-b4a8-d182ac1ef8f4\", [{\"type\": \"choropleth\", \"locations\": [\"ABW\", \"AGO\", \"AIA\", \"ALB\", \"AND\", \"ARE\", \"ARG\", \"ARM\", \"ASM\", \"ATG\", \"AUS\", \"AUT\", \"AZE\", \"BEL\", \"BEN\", \"BFA\", \"BGD\", \"BGR\", \"BHR\", \"BHS\", \"BIH\", \"BLR\", \"BLZ\", \"BMU\", \"BOL\", \"BRA\", \"BRB\", \"BRN\", \"BWA\", \"CAF\", \"CAN\", \"CHE\", \"CHL\", \"CHN\", \"CIV\", \"CMR\", \"COD\", \"COK\", \"COL\", \"CPV\", \"CRI\", \"CUB\", \"CYM\", \"CYP\", \"CZE\", \"DEU\", \"DJI\", \"DMA\", \"DNK\", \"DOM\", \"DZA\", \"ECU\", \"EGY\", \"ESP\", \"EST\", \"ETH\", \"FIN\", \"FJI\", \"FRA\", \"GAB\", \"GBR\", \"GEO\", \"GGY\", \"GHA\", \"GIB\", \"GIN\", \"GMB\", \"GNB\", \"GNQ\", \"GRC\", \"GRD\", \"GTM\", \"GUM\", \"GUY\", \"HKG\", \"HND\", \"HRV\", \"HTI\", \"HUN\", \"IDN\", \"IMN\", \"IND\", \"IRL\", \"IRN\", \"IRQ\", \"ISL\", \"ISR\", \"ITA\", \"JAM\", \"JEY\", \"JOR\", \"JPN\", \"KAZ\", \"KEN\", \"KGZ\", \"KHM\", \"KNA\", \"KOR\", \"KWT\", \"LAO\", \"LBN\", \"LBR\", \"LBY\", \"LCA\", \"LIE\", \"LKA\", \"LSO\", \"LTU\", \"LUX\", \"LVA\", \"MAC\", \"MAR\", \"MCO\", \"MDA\", \"MDG\", \"MDV\", \"MEX\", \"MHL\", \"MKD\", \"MLI\", \"MLT\", \"MMR\", \"MNE\", \"MNG\", \"MOZ\", \"MTQ\", \"MUS\", \"MWI\", \"MYS\", \"NAM\", \"NER\", \"NGA\", \"NIC\", \"NIU\", \"NLD\", \"NOR\", \"NPL\", \"NRU\", \"NZL\", \"OMN\", \"PAK\", \"PAN\", \"PER\", \"PHL\", \"PNG\", \"POL\", \"PRI\", \"PRT\", \"PRY\", \"PSE\", \"QAT\", \"REU\", \"ROU\", \"RUS\", \"RWA\", \"SAU\", \"SDN\", \"SEN\", \"SGP\", \"SLB\", \"SLE\", \"SLV\", \"SMR\", \"SOM\", \"SRB\", \"SUR\", \"SVK\", \"SVN\", \"SWE\", \"SWZ\", \"SYC\", \"SYR\", \"TCA\", \"TCD\", \"TGO\", \"THA\", \"TJK\", \"TKM\", \"TTO\", \"TUN\", \"TUR\", \"TWN\", \"TZA\", \"UGA\", \"UKR\", \"URY\", \"USA\", \"UZB\", \"VCT\", \"VEN\", \"VGB\", \"VIR\", \"VNM\", \"VUT\", \"WSM\", \"YEM\", \"ZAF\", \"ZMB\", \"ZWE\"], \"z\": [69, 78, 259, 27, 578, 6769, 1645, 28, 17, 219, 1189, 121, 93, 347, 8, 1, 26, 181, 99, 4348, 4, 89, 842, 433, 162, 4040, 81, 45, 113, 43, 1298, 42163, 380, 32764, 33, 46, 48, 15, 4232, 24, 1560, 37, 799, 5959, 273, 455, 3, 561, 64, 944, 19, 3648, 343, 2001, 1044, 2, 100, 3, 1129, 31, 15893, 76, 9352, 47, 3899, 8, 7, 2, 2, 604, 2, 2312, 5, 2, 67626, 50, 37, 227, 276, 1082, 8983, 426, 446, 141, 30, 232, 2143, 1485, 24, 18696, 843, 425, 185, 214, 1, 19, 965, 182, 237, 54, 1392, 119, 48, 26, 3953, 26, 1, 61, 14118, 1485, 243, 113, 5502, 69, 10, 16, 326, 202, 4, 20, 1123, 18, 17, 44, 32, 7, 3435, 38, 1533, 33, 1, 200, 27, 241, 464, 103, 7, 14, 384, 65, 223, 15291, 1713, 413, 2, 326, 9, 565, 69, 11, 145, 2, 102, 9390, 3, 887, 10, 19, 8121, 2, 4, 395, 1, 31, 32, 6, 121, 92, 202, 21, 2245, 68, 66, 53, 3, 2210, 7, 7, 23, 37, 769, 8879, 46, 9, 745, 8955, 7013, 86, 46, 1652, 11967, 21, 110, 557, 394, 10, 2048, 49, 299], \"text\": [\"Aruba\", \"Angola\", \"Anguilla\", \"Albania\", \"Andorra\", \"United Arab Emirates\", \"Argentina\", \"Armenia\", \"American Samoa\", \"Antigua and Barbuda\", \"Australia\", \"Austria\", \"Azerbaijan\", \"Belgium\", \"Benin\", \"Burkina Faso\", \"Bangladesh\", \"Bulgaria\", \"Bahrain\", \"Bahamas\", \"Bosnia and Herzegovina\", \"Belarus\", \"Belize\", \"Bermuda\", \"Bolivia\", \"Brazil\", \"Barbados\", \"Brunei\", \"Botswana\", \"Central African Republic\", \"Canada\", \"Switzerland\", \"Chile\", \"China\", \"C\\u00f4te d'Ivoire\", \"Cameroon\", \"DR Congo\", \"Cook Islands\", \"Colombia\", \"Cape Verde\", \"Costa Rica\", \"Cuba\", \"Cayman Islands\", \"Cyprus\", \"Czech Republic\", \"Germany\", \"Djibouti\", \"Dominica\", \"Denmark\", \"Dominican Republic\", \"Algeria\", \"Ecuador\", \"Egypt\", \"Spain\", \"Estonia\", \"Ethiopia\", \"Finland\", \"Fiji\", \"France\", \"Gabon\", \"United Kingdom\", \"Georgia\", \"Guernsey\", \"Ghana\", \"Gibraltar\", \"Guinea\", \"Gambia\", \"Guinea-Bissau\", \"Equatorial Guinea\", \"Greece\", \"Grenada\", \"Guatemala\", \"Guam\", \"Guyana\", \"Hong Kong\", \"Honduras\", \"Croatia\", \"Haiti\", \"Hungary\", \"Indonesia\", \"Isle of Man\", \"India\", \"Ireland\", \"Iran\", \"Iraq\", \"Iceland\", \"Israel\", \"Italy\", \"Jamaica\", \"Jersey\", \"Jordan\", \"Japan\", \"Kazakhstan\", \"Kenya\", \"Kyrgyzstan\", \"Cambodia\", \"Saint Kitts and Nevis\", \"South Korea\", \"Kuwait\", \"Laos\", \"Lebanon\", \"Liberia\", \"Libya\", \"Saint Lucia\", \"Liechtenstein\", \"Sri Lanka\", \"Lesotho\", \"Lithuania\", \"Luxembourg\", \"Latvia\", \"Macao\", \"Morocco\", \"Monaco\", \"Moldova\", \"Madagascar\", \"Maldives\", \"Mexico\", \"Marshall Islands\", \"Macedonia\", \"Mali\", \"Malta\", \"Myanmar\", \"Montenegro\", \"Mongolia\", \"Mozambique\", \"Martinique\", \"Mauritius\", \"Malawi\", \"Malaysia\", \"Namibia\", \"Niger\", \"Nigeria\", \"Nicaragua\", \"Niue\", \"Netherlands\", \"Norway\", \"Nepal\", \"Nauru\", \"New Zealand\", \"Oman\", \"Pakistan\", \"Panama\", \"Peru\", \"Philippines\", \"Papua New Guinea\", \"Poland\", \"Puerto Rico\", \"Portugal\", \"Paraguay\", \"Palestine\", \"Qatar\", \"R\\u00e9union\", \"Romania\", \"Russia\", \"Rwanda\", \"Saudi Arabia\", \"Sudan\", \"Senegal\", \"Singapore\", \"Solomon Islands\", \"Sierra Leone\", \"El Salvador\", \"San Marino\", \"Somalia\", \"Serbia\", \"Suriname\", \"Slovakia\", \"Slovenia\", \"Sweden\", \"Swaziland\", \"Seychelles\", \"Syria\", \"Turks and Caicos Islands\", \"Chad\", \"Togo\", \"Thailand\", \"Tajikistan\", \"Turkmenistan\", \"Trinidad and Tobago\", \"Tunisia\", \"Turkey\", \"Taiwan\", \"Tanzania\", \"Uganda\", \"Ukraine\", \"Uruguay\", \"United States\", \"Uzbekistan\", \"Saint Vincent and the Grenadines\", \"Venezuela\", \"British Virgin Islands\", \"U.S. Virgin Islands\", \"Viet Nam\", \"Vanuatu\", \"Samoa\", \"Yemen\", \"South Africa\", \"Zambia\", \"Zimbabwe\"], \"colorscale\": [[0, \"rgb(5, 10, 172)\"], [0.35, \"rgb(40, 60, 190)\"], [0.5, \"rgb(70, 100, 245)\"], [0.6, \"rgb(90, 120, 245)\"], [0.7, \"rgb(106, 137, 247)\"], [1, \"rgb(220, 220, 220)\"]], \"autocolorscale\": false, \"reversescale\": true, \"marker\": {\"line\": {\"color\": \"rgb(180,180,180)\", \"width\": 0.5}}, \"colorbar\": {\"autotick\": false, \"tickprefix\": \"\", \"title\": \"Number of references\"}}], {\"title\": \"Number of national Panama Paper links\", \"geo\": {\"showcountries\": true, \"countrycolor\": \"rgb(217, 217, 217)\", \"showframe\": false, \"resolution\": 50, \"showcoastlines\": false, \"projection\": {\"type\": \"Mercator\"}, \"bgcolor\": \"rgba(255, 255, 255, 0.0)\"}}, {\"showLink\": true, \"linkText\": \"Export to plot.ly\", \"plotlyServerURL\": \"https://plot.ly\"})});</script><script type=\"text/javascript\">window.addEventListener(\"resize\", function(){window._Plotly.Plots.resize(document.getElementById(\"6c41a4d1-be3f-480d-b4a8-d182ac1ef8f4\"));});</script>"
      ],
      "text/vnd.plotly.v1+html": [
       "<div id=\"6c41a4d1-be3f-480d-b4a8-d182ac1ef8f4\" style=\"height: 525px; width: 100%;\" class=\"plotly-graph-div\"></div><script type=\"text/javascript\">require([\"plotly\"], function(Plotly) { window.PLOTLYENV=window.PLOTLYENV || {};window.PLOTLYENV.BASE_URL=\"https://plot.ly\";Plotly.newPlot(\"6c41a4d1-be3f-480d-b4a8-d182ac1ef8f4\", [{\"type\": \"choropleth\", \"locations\": [\"ABW\", \"AGO\", \"AIA\", \"ALB\", \"AND\", \"ARE\", \"ARG\", \"ARM\", \"ASM\", \"ATG\", \"AUS\", \"AUT\", \"AZE\", \"BEL\", \"BEN\", \"BFA\", \"BGD\", \"BGR\", \"BHR\", \"BHS\", \"BIH\", \"BLR\", \"BLZ\", \"BMU\", \"BOL\", \"BRA\", \"BRB\", \"BRN\", \"BWA\", \"CAF\", \"CAN\", \"CHE\", \"CHL\", \"CHN\", \"CIV\", \"CMR\", \"COD\", \"COK\", \"COL\", \"CPV\", \"CRI\", \"CUB\", \"CYM\", \"CYP\", \"CZE\", \"DEU\", \"DJI\", \"DMA\", \"DNK\", \"DOM\", \"DZA\", \"ECU\", \"EGY\", \"ESP\", \"EST\", \"ETH\", \"FIN\", \"FJI\", \"FRA\", \"GAB\", \"GBR\", \"GEO\", \"GGY\", \"GHA\", \"GIB\", \"GIN\", \"GMB\", \"GNB\", \"GNQ\", \"GRC\", \"GRD\", \"GTM\", \"GUM\", \"GUY\", \"HKG\", \"HND\", \"HRV\", \"HTI\", \"HUN\", \"IDN\", \"IMN\", \"IND\", \"IRL\", \"IRN\", \"IRQ\", \"ISL\", \"ISR\", \"ITA\", \"JAM\", \"JEY\", \"JOR\", \"JPN\", \"KAZ\", \"KEN\", \"KGZ\", \"KHM\", \"KNA\", \"KOR\", \"KWT\", \"LAO\", \"LBN\", \"LBR\", \"LBY\", \"LCA\", \"LIE\", \"LKA\", \"LSO\", \"LTU\", \"LUX\", \"LVA\", \"MAC\", \"MAR\", \"MCO\", \"MDA\", \"MDG\", \"MDV\", \"MEX\", \"MHL\", \"MKD\", \"MLI\", \"MLT\", \"MMR\", \"MNE\", \"MNG\", \"MOZ\", \"MTQ\", \"MUS\", \"MWI\", \"MYS\", \"NAM\", \"NER\", \"NGA\", \"NIC\", \"NIU\", \"NLD\", \"NOR\", \"NPL\", \"NRU\", \"NZL\", \"OMN\", \"PAK\", \"PAN\", \"PER\", \"PHL\", \"PNG\", \"POL\", \"PRI\", \"PRT\", \"PRY\", \"PSE\", \"QAT\", \"REU\", \"ROU\", \"RUS\", \"RWA\", \"SAU\", \"SDN\", \"SEN\", \"SGP\", \"SLB\", \"SLE\", \"SLV\", \"SMR\", \"SOM\", \"SRB\", \"SUR\", \"SVK\", \"SVN\", \"SWE\", \"SWZ\", \"SYC\", \"SYR\", \"TCA\", \"TCD\", \"TGO\", \"THA\", \"TJK\", \"TKM\", \"TTO\", \"TUN\", \"TUR\", \"TWN\", \"TZA\", \"UGA\", \"UKR\", \"URY\", \"USA\", \"UZB\", \"VCT\", \"VEN\", \"VGB\", \"VIR\", \"VNM\", \"VUT\", \"WSM\", \"YEM\", \"ZAF\", \"ZMB\", \"ZWE\"], \"z\": [69, 78, 259, 27, 578, 6769, 1645, 28, 17, 219, 1189, 121, 93, 347, 8, 1, 26, 181, 99, 4348, 4, 89, 842, 433, 162, 4040, 81, 45, 113, 43, 1298, 42163, 380, 32764, 33, 46, 48, 15, 4232, 24, 1560, 37, 799, 5959, 273, 455, 3, 561, 64, 944, 19, 3648, 343, 2001, 1044, 2, 100, 3, 1129, 31, 15893, 76, 9352, 47, 3899, 8, 7, 2, 2, 604, 2, 2312, 5, 2, 67626, 50, 37, 227, 276, 1082, 8983, 426, 446, 141, 30, 232, 2143, 1485, 24, 18696, 843, 425, 185, 214, 1, 19, 965, 182, 237, 54, 1392, 119, 48, 26, 3953, 26, 1, 61, 14118, 1485, 243, 113, 5502, 69, 10, 16, 326, 202, 4, 20, 1123, 18, 17, 44, 32, 7, 3435, 38, 1533, 33, 1, 200, 27, 241, 464, 103, 7, 14, 384, 65, 223, 15291, 1713, 413, 2, 326, 9, 565, 69, 11, 145, 2, 102, 9390, 3, 887, 10, 19, 8121, 2, 4, 395, 1, 31, 32, 6, 121, 92, 202, 21, 2245, 68, 66, 53, 3, 2210, 7, 7, 23, 37, 769, 8879, 46, 9, 745, 8955, 7013, 86, 46, 1652, 11967, 21, 110, 557, 394, 10, 2048, 49, 299], \"text\": [\"Aruba\", \"Angola\", \"Anguilla\", \"Albania\", \"Andorra\", \"United Arab Emirates\", \"Argentina\", \"Armenia\", \"American Samoa\", \"Antigua and Barbuda\", \"Australia\", \"Austria\", \"Azerbaijan\", \"Belgium\", \"Benin\", \"Burkina Faso\", \"Bangladesh\", \"Bulgaria\", \"Bahrain\", \"Bahamas\", \"Bosnia and Herzegovina\", \"Belarus\", \"Belize\", \"Bermuda\", \"Bolivia\", \"Brazil\", \"Barbados\", \"Brunei\", \"Botswana\", \"Central African Republic\", \"Canada\", \"Switzerland\", \"Chile\", \"China\", \"C\\u00f4te d'Ivoire\", \"Cameroon\", \"DR Congo\", \"Cook Islands\", \"Colombia\", \"Cape Verde\", \"Costa Rica\", \"Cuba\", \"Cayman Islands\", \"Cyprus\", \"Czech Republic\", \"Germany\", \"Djibouti\", \"Dominica\", \"Denmark\", \"Dominican Republic\", \"Algeria\", \"Ecuador\", \"Egypt\", \"Spain\", \"Estonia\", \"Ethiopia\", \"Finland\", \"Fiji\", \"France\", \"Gabon\", \"United Kingdom\", \"Georgia\", \"Guernsey\", \"Ghana\", \"Gibraltar\", \"Guinea\", \"Gambia\", \"Guinea-Bissau\", \"Equatorial Guinea\", \"Greece\", \"Grenada\", \"Guatemala\", \"Guam\", \"Guyana\", \"Hong Kong\", \"Honduras\", \"Croatia\", \"Haiti\", \"Hungary\", \"Indonesia\", \"Isle of Man\", \"India\", \"Ireland\", \"Iran\", \"Iraq\", \"Iceland\", \"Israel\", \"Italy\", \"Jamaica\", \"Jersey\", \"Jordan\", \"Japan\", \"Kazakhstan\", \"Kenya\", \"Kyrgyzstan\", \"Cambodia\", \"Saint Kitts and Nevis\", \"South Korea\", \"Kuwait\", \"Laos\", \"Lebanon\", \"Liberia\", \"Libya\", \"Saint Lucia\", \"Liechtenstein\", \"Sri Lanka\", \"Lesotho\", \"Lithuania\", \"Luxembourg\", \"Latvia\", \"Macao\", \"Morocco\", \"Monaco\", \"Moldova\", \"Madagascar\", \"Maldives\", \"Mexico\", \"Marshall Islands\", \"Macedonia\", \"Mali\", \"Malta\", \"Myanmar\", \"Montenegro\", \"Mongolia\", \"Mozambique\", \"Martinique\", \"Mauritius\", \"Malawi\", \"Malaysia\", \"Namibia\", \"Niger\", \"Nigeria\", \"Nicaragua\", \"Niue\", \"Netherlands\", \"Norway\", \"Nepal\", \"Nauru\", \"New Zealand\", \"Oman\", \"Pakistan\", \"Panama\", \"Peru\", \"Philippines\", \"Papua New Guinea\", \"Poland\", \"Puerto Rico\", \"Portugal\", \"Paraguay\", \"Palestine\", \"Qatar\", \"R\\u00e9union\", \"Romania\", \"Russia\", \"Rwanda\", \"Saudi Arabia\", \"Sudan\", \"Senegal\", \"Singapore\", \"Solomon Islands\", \"Sierra Leone\", \"El Salvador\", \"San Marino\", \"Somalia\", \"Serbia\", \"Suriname\", \"Slovakia\", \"Slovenia\", \"Sweden\", \"Swaziland\", \"Seychelles\", \"Syria\", \"Turks and Caicos Islands\", \"Chad\", \"Togo\", \"Thailand\", \"Tajikistan\", \"Turkmenistan\", \"Trinidad and Tobago\", \"Tunisia\", \"Turkey\", \"Taiwan\", \"Tanzania\", \"Uganda\", \"Ukraine\", \"Uruguay\", \"United States\", \"Uzbekistan\", \"Saint Vincent and the Grenadines\", \"Venezuela\", \"British Virgin Islands\", \"U.S. Virgin Islands\", \"Viet Nam\", \"Vanuatu\", \"Samoa\", \"Yemen\", \"South Africa\", \"Zambia\", \"Zimbabwe\"], \"colorscale\": [[0, \"rgb(5, 10, 172)\"], [0.35, \"rgb(40, 60, 190)\"], [0.5, \"rgb(70, 100, 245)\"], [0.6, \"rgb(90, 120, 245)\"], [0.7, \"rgb(106, 137, 247)\"], [1, \"rgb(220, 220, 220)\"]], \"autocolorscale\": false, \"reversescale\": true, \"marker\": {\"line\": {\"color\": \"rgb(180,180,180)\", \"width\": 0.5}}, \"colorbar\": {\"autotick\": false, \"tickprefix\": \"\", \"title\": \"Number of references\"}}], {\"title\": \"Number of national Panama Paper links\", \"geo\": {\"showcountries\": true, \"countrycolor\": \"rgb(217, 217, 217)\", \"showframe\": false, \"resolution\": 50, \"showcoastlines\": false, \"projection\": {\"type\": \"Mercator\"}, \"bgcolor\": \"rgba(255, 255, 255, 0.0)\"}}, {\"showLink\": true, \"linkText\": \"Export to plot.ly\", \"plotlyServerURL\": \"https://plot.ly\"})});</script><script type=\"text/javascript\">window.addEventListener(\"resize\", function(){window._Plotly.Plots.resize(document.getElementById(\"6c41a4d1-be3f-480d-b4a8-d182ac1ef8f4\"));});</script>"
      ]
     },
     "metadata": {},
     "output_type": "display_data"
    }
   ],
   "source": [
    "data = [ dict(\n",
    "        type = 'choropleth',\n",
    "        locations = pp_edges_national['cc_1'],\n",
    "        z = pp_edges_national['count'],\n",
    "        text = pp_edges_national['country_1'],\n",
    "        colorscale = [[0,\"rgb(5, 10, 172)\"],[0.35,\"rgb(40, 60, 190)\"],[0.5,\"rgb(70, 100, 245)\"],\\\n",
    "            [0.6,\"rgb(90, 120, 245)\"],[0.7,\"rgb(106, 137, 247)\"],[1,\"rgb(220, 220, 220)\"]],\n",
    "        autocolorscale = False,\n",
    "        reversescale = True,\n",
    "        marker = dict(\n",
    "            line = dict (\n",
    "                color = 'rgb(180,180,180)',\n",
    "                width = 0.5\n",
    "            ) ),\n",
    "        colorbar = dict(\n",
    "            autotick = False,\n",
    "            tickprefix = '',\n",
    "            title = 'Number of references'),\n",
    "      ) ]\n",
    "\n",
    "layout = dict(\n",
    "    title = 'Number of national Panama Paper links',\n",
    "    geo = dict(\n",
    "        showcountries = True,\n",
    "        countrycolor = \"rgb(217, 217, 217)\",\n",
    "        showframe = False,\n",
    "        resolution=50,\n",
    "        showcoastlines = False,\n",
    "        projection = dict(\n",
    "            type = 'Mercator'\n",
    "        ),\n",
    "        bgcolor = 'rgba(255, 255, 255, 0.0)',\n",
    "    )\n",
    ")\n",
    "\n",
    "\n",
    "fig = dict(data=data, layout=layout)\n",
    "\n",
    "iplot(fig, validate=False)"
   ]
  },
  {
   "cell_type": "code",
   "execution_count": 47,
   "metadata": {},
   "outputs": [],
   "source": [
    "max_edges_international = pp_edges_international['count'].max()"
   ]
  },
  {
   "cell_type": "code",
   "execution_count": 48,
   "metadata": {},
   "outputs": [],
   "source": [
    "pp_countries = pp_nodes.drop(columns='node_id').drop_duplicates()"
   ]
  },
  {
   "cell_type": "code",
   "execution_count": 49,
   "metadata": {},
   "outputs": [],
   "source": [
    "# only keep edges with over 10 occurrences\n",
    "pp_edges_international = pp_edges_international[pp_edges_international['count'] > 10]"
   ]
  },
  {
   "cell_type": "code",
   "execution_count": 52,
   "metadata": {},
   "outputs": [],
   "source": [
    "pp_edges_international = pp_edges_international.reset_index(drop=True)"
   ]
  },
  {
   "cell_type": "code",
   "execution_count": 79,
   "metadata": {},
   "outputs": [
    {
     "data": {
      "application/vnd.plotly.v1+json": {
       "config": {
        "linkText": "Export to plot.ly",
        "plotlyServerURL": "https://plot.ly",
        "showLink": true
       },
       "data": [
        {
         "hoverinfo": "none",
         "lat": [
          35,
          22.25
         ],
         "line": {
          "color": "red",
          "width": 1.2
         },
         "lon": [
          105,
          114.1667
         ],
         "mode": "lines",
         "opacity": 5.51,
         "type": "scattergeo"
        },
        {
         "hoverinfo": "none",
         "lat": [
          18.5,
          22.25
         ],
         "line": {
          "color": "red",
          "width": 1.2
         },
         "lon": [
          -64.5,
          114.1667
         ],
         "mode": "lines",
         "opacity": 1.3205,
         "type": "scattergeo"
        },
        {
         "hoverinfo": "none",
         "lat": [
          18.5,
          47
         ],
         "line": {
          "color": "red",
          "width": 1.2
         },
         "lon": [
          -64.5,
          8
         ],
         "mode": "lines",
         "opacity": 1.0875,
         "type": "scattergeo"
        },
        {
         "hoverinfo": "none",
         "lat": [
          49.75,
          9
         ],
         "line": {
          "color": "red",
          "width": 1.2
         },
         "lon": [
          6.1667,
          -80
         ],
         "mode": "lines",
         "opacity": 1.04825,
         "type": "scattergeo"
        },
        {
         "hoverinfo": "none",
         "lat": [
          9,
          47
         ],
         "line": {
          "color": "red",
          "width": 1.2
         },
         "lon": [
          -80,
          8
         ],
         "mode": "lines",
         "opacity": 1.02325,
         "type": "scattergeo"
        },
        {
         "hoverinfo": "none",
         "lat": [
          -10,
          24.25
         ],
         "line": {
          "color": "red",
          "width": 1.2
         },
         "lon": [
          -76,
          -76
         ],
         "mode": "lines",
         "opacity": 0.958,
         "type": "scattergeo"
        },
        {
         "hoverinfo": "none",
         "lat": [
          -13.5833,
          22.25
         ],
         "line": {
          "color": "red",
          "width": 1.2
         },
         "lon": [
          -172.3333,
          114.1667
         ],
         "mode": "lines",
         "opacity": 0.7105,
         "type": "scattergeo"
        },
        {
         "hoverinfo": "none",
         "lat": [
          -4.5833,
          24
         ],
         "line": {
          "color": "red",
          "width": 1.2
         },
         "lon": [
          55.6667,
          54
         ],
         "mode": "lines",
         "opacity": 0.65,
         "type": "scattergeo"
        },
        {
         "hoverinfo": "none",
         "lat": [
          35,
          24
         ],
         "line": {
          "color": "red",
          "width": 1.2
         },
         "lon": [
          33,
          54
         ],
         "mode": "lines",
         "opacity": 0.5165,
         "type": "scattergeo"
        },
        {
         "hoverinfo": "none",
         "lat": [
          38,
          22.25
         ],
         "line": {
          "color": "red",
          "width": 1.2
         },
         "lon": [
          -97,
          114.1667
         ],
         "mode": "lines",
         "opacity": 0.466,
         "type": "scattergeo"
        },
        {
         "hoverinfo": "none",
         "lat": [
          -29,
          49.21
         ],
         "line": {
          "color": "red",
          "width": 1.2
         },
         "lon": [
          24,
          -2.13
         ],
         "mode": "lines",
         "opacity": 0.45,
         "type": "scattergeo"
        },
        {
         "hoverinfo": "none",
         "lat": [
          49.75,
          -13.5833
         ],
         "line": {
          "color": "red",
          "width": 1.2
         },
         "lon": [
          15.5,
          -172.3333
         ],
         "mode": "lines",
         "opacity": 0.40775,
         "type": "scattergeo"
        },
        {
         "hoverinfo": "none",
         "lat": [
          54,
          31
         ],
         "line": {
          "color": "red",
          "width": 1.2
         },
         "lon": [
          -2,
          36
         ],
         "mode": "lines",
         "opacity": 0.4075,
         "type": "scattergeo"
        },
        {
         "hoverinfo": "none",
         "lat": [
          23.5,
          22.25
         ],
         "line": {
          "color": "red",
          "width": 1.2
         },
         "lon": [
          121,
          114.1667
         ],
         "mode": "lines",
         "opacity": 0.40375,
         "type": "scattergeo"
        },
        {
         "hoverinfo": "none",
         "lat": [
          60,
          17.25
         ],
         "line": {
          "color": "red",
          "width": 1.2
         },
         "lon": [
          -95,
          -88.75
         ],
         "mode": "lines",
         "opacity": 0.2945,
         "type": "scattergeo"
        },
        {
         "hoverinfo": "none",
         "lat": [
          2.5,
          1.3667
         ],
         "line": {
          "color": "red",
          "width": 1.2
         },
         "lon": [
          112.5,
          103.8
         ],
         "mode": "lines",
         "opacity": 0.27475,
         "type": "scattergeo"
        },
        {
         "hoverinfo": "none",
         "lat": [
          18.5,
          1.3667
         ],
         "line": {
          "color": "red",
          "width": 1.2
         },
         "lon": [
          -64.5,
          103.8
         ],
         "mode": "lines",
         "opacity": 0.258,
         "type": "scattergeo"
        },
        {
         "hoverinfo": "none",
         "lat": [
          49.21,
          54
         ],
         "line": {
          "color": "red",
          "width": 1.2
         },
         "lon": [
          -2.13,
          -2
         ],
         "mode": "lines",
         "opacity": 0.249,
         "type": "scattergeo"
        },
        {
         "hoverinfo": "none",
         "lat": [
          -5,
          1.3667
         ],
         "line": {
          "color": "red",
          "width": 1.2
         },
         "lon": [
          120,
          103.8
         ],
         "mode": "lines",
         "opacity": 0.23725,
         "type": "scattergeo"
        },
        {
         "hoverinfo": "none",
         "lat": [
          49.21,
          47
         ],
         "line": {
          "color": "red",
          "width": 1.2
         },
         "lon": [
          -2.13,
          8
         ],
         "mode": "lines",
         "opacity": 0.22325,
         "type": "scattergeo"
        },
        {
         "hoverinfo": "none",
         "lat": [
          18.5,
          49.21
         ],
         "line": {
          "color": "red",
          "width": 1.2
         },
         "lon": [
          -64.5,
          -2.13
         ],
         "mode": "lines",
         "opacity": 0.21625,
         "type": "scattergeo"
        },
        {
         "hoverinfo": "none",
         "lat": [
          35,
          -4.5833
         ],
         "line": {
          "color": "red",
          "width": 1.2
         },
         "lon": [
          33,
          55.6667
         ],
         "mode": "lines",
         "opacity": 0.20925,
         "type": "scattergeo"
        },
        {
         "hoverinfo": "none",
         "lat": [
          60,
          47
         ],
         "line": {
          "color": "red",
          "width": 1.2
         },
         "lon": [
          100,
          8
         ],
         "mode": "lines",
         "opacity": 0.20725,
         "type": "scattergeo"
        },
        {
         "hoverinfo": "none",
         "lat": [
          54,
          47
         ],
         "line": {
          "color": "red",
          "width": 1.2
         },
         "lon": [
          -2,
          8
         ],
         "mode": "lines",
         "opacity": 0.20725,
         "type": "scattergeo"
        },
        {
         "hoverinfo": "none",
         "lat": [
          -34,
          -33
         ],
         "line": {
          "color": "red",
          "width": 1.2
         },
         "lon": [
          -64,
          -56
         ],
         "mode": "lines",
         "opacity": 0.207,
         "type": "scattergeo"
        },
        {
         "hoverinfo": "none",
         "lat": [
          -29,
          49.5
         ],
         "line": {
          "color": "red",
          "width": 1.2
         },
         "lon": [
          24,
          -2.56
         ],
         "mode": "lines",
         "opacity": 0.206,
         "type": "scattergeo"
        },
        {
         "hoverinfo": "none",
         "lat": [
          18.5,
          24
         ],
         "line": {
          "color": "red",
          "width": 1.2
         },
         "lon": [
          -64.5,
          54
         ],
         "mode": "lines",
         "opacity": 0.2015,
         "type": "scattergeo"
        },
        {
         "hoverinfo": "none",
         "lat": [
          24.25,
          47
         ],
         "line": {
          "color": "red",
          "width": 1.2
         },
         "lon": [
          -76,
          8
         ],
         "mode": "lines",
         "opacity": 0.2005,
         "type": "scattergeo"
        },
        {
         "hoverinfo": "none",
         "lat": [
          54,
          36.1833
         ],
         "line": {
          "color": "red",
          "width": 1.2
         },
         "lon": [
          -2,
          -5.3667
         ],
         "mode": "lines",
         "opacity": 0.195,
         "type": "scattergeo"
        },
        {
         "hoverinfo": "none",
         "lat": [
          1.3667,
          22.25
         ],
         "line": {
          "color": "red",
          "width": 1.2
         },
         "lon": [
          103.8,
          114.1667
         ],
         "mode": "lines",
         "opacity": 0.18275,
         "type": "scattergeo"
        },
        {
         "hoverinfo": "none",
         "lat": [
          42.8333,
          43.7333
         ],
         "line": {
          "color": "red",
          "width": 1.2
         },
         "lon": [
          12.8333,
          7.4
         ],
         "mode": "lines",
         "opacity": 0.179,
         "type": "scattergeo"
        },
        {
         "hoverinfo": "none",
         "lat": [
          18.5,
          54.23
         ],
         "line": {
          "color": "red",
          "width": 1.2
         },
         "lon": [
          -64.5,
          -4.55
         ],
         "mode": "lines",
         "opacity": 0.17075,
         "type": "scattergeo"
        },
        {
         "hoverinfo": "none",
         "lat": [
          47,
          35
         ],
         "line": {
          "color": "red",
          "width": 1.2
         },
         "lon": [
          20,
          33
         ],
         "mode": "lines",
         "opacity": 0.16675,
         "type": "scattergeo"
        },
        {
         "hoverinfo": "none",
         "lat": [
          18.5,
          54
         ],
         "line": {
          "color": "red",
          "width": 1.2
         },
         "lon": [
          -64.5,
          -2
         ],
         "mode": "lines",
         "opacity": 0.1625,
         "type": "scattergeo"
        },
        {
         "hoverinfo": "none",
         "lat": [
          -10,
          -33
         ],
         "line": {
          "color": "red",
          "width": 1.2
         },
         "lon": [
          -55,
          -56
         ],
         "mode": "lines",
         "opacity": 0.162,
         "type": "scattergeo"
        },
        {
         "hoverinfo": "none",
         "lat": [
          54,
          49.21
         ],
         "line": {
          "color": "red",
          "width": 1.2
         },
         "lon": [
          -2,
          -2.13
         ],
         "mode": "lines",
         "opacity": 0.1585,
         "type": "scattergeo"
        },
        {
         "hoverinfo": "none",
         "lat": [
          24,
          54
         ],
         "line": {
          "color": "red",
          "width": 1.2
         },
         "lon": [
          54,
          -2
         ],
         "mode": "lines",
         "opacity": 0.15375,
         "type": "scattergeo"
        },
        {
         "hoverinfo": "none",
         "lat": [
          -27,
          22.25
         ],
         "line": {
          "color": "red",
          "width": 1.2
         },
         "lon": [
          133,
          114.1667
         ],
         "mode": "lines",
         "opacity": 0.14975,
         "type": "scattergeo"
        },
        {
         "hoverinfo": "none",
         "lat": [
          54,
          49.5
         ],
         "line": {
          "color": "red",
          "width": 1.2
         },
         "lon": [
          -2,
          -2.56
         ],
         "mode": "lines",
         "opacity": 0.149,
         "type": "scattergeo"
        },
        {
         "hoverinfo": "none",
         "lat": [
          -4.5833,
          9
         ],
         "line": {
          "color": "red",
          "width": 1.2
         },
         "lon": [
          55.6667,
          -80
         ],
         "mode": "lines",
         "opacity": 0.14875,
         "type": "scattergeo"
        },
        {
         "hoverinfo": "none",
         "lat": [
          49.21,
          49.5
         ],
         "line": {
          "color": "red",
          "width": 1.2
         },
         "lon": [
          -2.13,
          -2.56
         ],
         "mode": "lines",
         "opacity": 0.1455,
         "type": "scattergeo"
        },
        {
         "hoverinfo": "none",
         "lat": [
          24.25,
          24
         ],
         "line": {
          "color": "red",
          "width": 1.2
         },
         "lon": [
          -76,
          54
         ],
         "mode": "lines",
         "opacity": 0.144,
         "type": "scattergeo"
        },
        {
         "hoverinfo": "none",
         "lat": [
          9,
          24.25
         ],
         "line": {
          "color": "red",
          "width": 1.2
         },
         "lon": [
          -80,
          -76
         ],
         "mode": "lines",
         "opacity": 0.141,
         "type": "scattergeo"
        },
        {
         "hoverinfo": "none",
         "lat": [
          60,
          24
         ],
         "line": {
          "color": "red",
          "width": 1.2
         },
         "lon": [
          100,
          54
         ],
         "mode": "lines",
         "opacity": 0.1385,
         "type": "scattergeo"
        },
        {
         "hoverinfo": "none",
         "lat": [
          -13.5833,
          9
         ],
         "line": {
          "color": "red",
          "width": 1.2
         },
         "lon": [
          -172.3333,
          -80
         ],
         "mode": "lines",
         "opacity": 0.134,
         "type": "scattergeo"
        },
        {
         "hoverinfo": "none",
         "lat": [
          17.3333,
          35
         ],
         "line": {
          "color": "red",
          "width": 1.2
         },
         "lon": [
          -62.75,
          33
         ],
         "mode": "lines",
         "opacity": 0.13275,
         "type": "scattergeo"
        },
        {
         "hoverinfo": "none",
         "lat": [
          18.5,
          36.1833
         ],
         "line": {
          "color": "red",
          "width": 1.2
         },
         "lon": [
          -64.5,
          -5.3667
         ],
         "mode": "lines",
         "opacity": 0.1265,
         "type": "scattergeo"
        },
        {
         "hoverinfo": "none",
         "lat": [
          -16,
          -13.5833
         ],
         "line": {
          "color": "red",
          "width": 1.2
         },
         "lon": [
          167,
          -172.3333
         ],
         "mode": "lines",
         "opacity": 0.12525,
         "type": "scattergeo"
        },
        {
         "hoverinfo": "none",
         "lat": [
          18.5,
          49.5
         ],
         "line": {
          "color": "red",
          "width": 1.2
         },
         "lon": [
          -64.5,
          -2.56
         ],
         "mode": "lines",
         "opacity": 0.125,
         "type": "scattergeo"
        },
        {
         "hoverinfo": "none",
         "lat": [
          35,
          -13.5833
         ],
         "line": {
          "color": "red",
          "width": 1.2
         },
         "lon": [
          33,
          -172.3333
         ],
         "mode": "lines",
         "opacity": 0.123,
         "type": "scattergeo"
        },
        {
         "hoverinfo": "none",
         "lat": [
          -4.5833,
          60
         ],
         "line": {
          "color": "red",
          "width": 1.2
         },
         "lon": [
          55.6667,
          100
         ],
         "mode": "lines",
         "opacity": 0.11725,
         "type": "scattergeo"
        },
        {
         "hoverinfo": "none",
         "lat": [
          47.1667,
          47
         ],
         "line": {
          "color": "red",
          "width": 1.2
         },
         "lon": [
          9.5333,
          8
         ],
         "mode": "lines",
         "opacity": 0.11675,
         "type": "scattergeo"
        },
        {
         "hoverinfo": "none",
         "lat": [
          54,
          54.23
         ],
         "line": {
          "color": "red",
          "width": 1.2
         },
         "lon": [
          -2,
          -4.55
         ],
         "mode": "lines",
         "opacity": 0.111,
         "type": "scattergeo"
        },
        {
         "hoverinfo": "none",
         "lat": [
          9,
          49.75
         ],
         "line": {
          "color": "red",
          "width": 1.2
         },
         "lon": [
          -80,
          6.1667
         ],
         "mode": "lines",
         "opacity": 0.11075,
         "type": "scattergeo"
        },
        {
         "hoverinfo": "none",
         "lat": [
          39,
          47
         ],
         "line": {
          "color": "red",
          "width": 1.2
         },
         "lon": [
          35,
          8
         ],
         "mode": "lines",
         "opacity": 0.1095,
         "type": "scattergeo"
        },
        {
         "hoverinfo": "none",
         "lat": [
          -13.5833,
          35
         ],
         "line": {
          "color": "red",
          "width": 1.2
         },
         "lon": [
          -172.3333,
          105
         ],
         "mode": "lines",
         "opacity": 0.10775,
         "type": "scattergeo"
        },
        {
         "hoverinfo": "none",
         "lat": [
          2.5,
          22.25
         ],
         "line": {
          "color": "red",
          "width": 1.2
         },
         "lon": [
          112.5,
          114.1667
         ],
         "mode": "lines",
         "opacity": 0.106,
         "type": "scattergeo"
        },
        {
         "hoverinfo": "none",
         "lat": [
          15.4167,
          -13.5833
         ],
         "line": {
          "color": "red",
          "width": 1.2
         },
         "lon": [
          -61.3333,
          -172.3333
         ],
         "mode": "lines",
         "opacity": 0.1,
         "type": "scattergeo"
        },
        {
         "hoverinfo": "none",
         "lat": [
          47,
          24
         ],
         "line": {
          "color": "red",
          "width": 1.2
         },
         "lon": [
          8,
          54
         ],
         "mode": "lines",
         "opacity": 0.09975,
         "type": "scattergeo"
        },
        {
         "hoverinfo": "none",
         "lat": [
          -10,
          47
         ],
         "line": {
          "color": "red",
          "width": 1.2
         },
         "lon": [
          -55,
          8
         ],
         "mode": "lines",
         "opacity": 0.09825,
         "type": "scattergeo"
        },
        {
         "hoverinfo": "none",
         "lat": [
          49.5,
          47
         ],
         "line": {
          "color": "red",
          "width": 1.2
         },
         "lon": [
          -2.56,
          8
         ],
         "mode": "lines",
         "opacity": 0.0965,
         "type": "scattergeo"
        },
        {
         "hoverinfo": "none",
         "lat": [
          18.5,
          35
         ],
         "line": {
          "color": "red",
          "width": 1.2
         },
         "lon": [
          -64.5,
          33
         ],
         "mode": "lines",
         "opacity": 0.096,
         "type": "scattergeo"
        },
        {
         "hoverinfo": "none",
         "lat": [
          19.5,
          22.25
         ],
         "line": {
          "color": "red",
          "width": 1.2
         },
         "lon": [
          -80.5,
          114.1667
         ],
         "mode": "lines",
         "opacity": 0.0945,
         "type": "scattergeo"
        },
        {
         "hoverinfo": "none",
         "lat": [
          54,
          22.25
         ],
         "line": {
          "color": "red",
          "width": 1.2
         },
         "lon": [
          -2,
          114.1667
         ],
         "mode": "lines",
         "opacity": 0.09275,
         "type": "scattergeo"
        },
        {
         "hoverinfo": "none",
         "lat": [
          54.23,
          49.21
         ],
         "line": {
          "color": "red",
          "width": 1.2
         },
         "lon": [
          -4.55,
          -2.13
         ],
         "mode": "lines",
         "opacity": 0.0915,
         "type": "scattergeo"
        },
        {
         "hoverinfo": "none",
         "lat": [
          60,
          22.25
         ],
         "line": {
          "color": "red",
          "width": 1.2
         },
         "lon": [
          -95,
          114.1667
         ],
         "mode": "lines",
         "opacity": 0.08575,
         "type": "scattergeo"
        },
        {
         "hoverinfo": "none",
         "lat": [
          49.5,
          54
         ],
         "line": {
          "color": "red",
          "width": 1.2
         },
         "lon": [
          -2.56,
          -2
         ],
         "mode": "lines",
         "opacity": 0.084,
         "type": "scattergeo"
        },
        {
         "hoverinfo": "none",
         "lat": [
          24.25,
          1.3667
         ],
         "line": {
          "color": "red",
          "width": 1.2
         },
         "lon": [
          -76,
          103.8
         ],
         "mode": "lines",
         "opacity": 0.08325,
         "type": "scattergeo"
        },
        {
         "hoverinfo": "none",
         "lat": [
          36,
          22.25
         ],
         "line": {
          "color": "red",
          "width": 1.2
         },
         "lon": [
          138,
          114.1667
         ],
         "mode": "lines",
         "opacity": 0.0825,
         "type": "scattergeo"
        },
        {
         "hoverinfo": "none",
         "lat": [
          18.5,
          49.75
         ],
         "line": {
          "color": "red",
          "width": 1.2
         },
         "lon": [
          -64.5,
          6.1667
         ],
         "mode": "lines",
         "opacity": 0.08125,
         "type": "scattergeo"
        },
        {
         "hoverinfo": "none",
         "lat": [
          -13.5833,
          47
         ],
         "line": {
          "color": "red",
          "width": 1.2
         },
         "lon": [
          -172.3333,
          8
         ],
         "mode": "lines",
         "opacity": 0.08075,
         "type": "scattergeo"
        },
        {
         "hoverinfo": "none",
         "lat": [
          24,
          31
         ],
         "line": {
          "color": "red",
          "width": 1.2
         },
         "lon": [
          54,
          36
         ],
         "mode": "lines",
         "opacity": 0.08025,
         "type": "scattergeo"
        },
        {
         "hoverinfo": "none",
         "lat": [
          47,
          -20.2833
         ],
         "line": {
          "color": "red",
          "width": 1.2
         },
         "lon": [
          8,
          57.55
         ],
         "mode": "lines",
         "opacity": 0.07975,
         "type": "scattergeo"
        },
        {
         "hoverinfo": "none",
         "lat": [
          18.5,
          35
         ],
         "line": {
          "color": "red",
          "width": 1.2
         },
         "lon": [
          -64.5,
          105
         ],
         "mode": "lines",
         "opacity": 0.078,
         "type": "scattergeo"
        },
        {
         "hoverinfo": "none",
         "lat": [
          18.5,
          60
         ],
         "line": {
          "color": "red",
          "width": 1.2
         },
         "lon": [
          -64.5,
          100
         ],
         "mode": "lines",
         "opacity": 0.077,
         "type": "scattergeo"
        },
        {
         "hoverinfo": "none",
         "lat": [
          -10,
          38
         ],
         "line": {
          "color": "red",
          "width": 1.2
         },
         "lon": [
          -55,
          -97
         ],
         "mode": "lines",
         "opacity": 0.075,
         "type": "scattergeo"
        },
        {
         "hoverinfo": "none",
         "lat": [
          9,
          47.1667
         ],
         "line": {
          "color": "red",
          "width": 1.2
         },
         "lon": [
          -80,
          9.5333
         ],
         "mode": "lines",
         "opacity": 0.07425,
         "type": "scattergeo"
        },
        {
         "hoverinfo": "none",
         "lat": [
          49.21,
          -20.2833
         ],
         "line": {
          "color": "red",
          "width": 1.2
         },
         "lon": [
          -2.13,
          57.55
         ],
         "mode": "lines",
         "opacity": 0.07425,
         "type": "scattergeo"
        },
        {
         "hoverinfo": "none",
         "lat": [
          46,
          47
         ],
         "line": {
          "color": "red",
          "width": 1.2
         },
         "lon": [
          2,
          8
         ],
         "mode": "lines",
         "opacity": 0.07425,
         "type": "scattergeo"
        },
        {
         "hoverinfo": "none",
         "lat": [
          24.25,
          35
         ],
         "line": {
          "color": "red",
          "width": 1.2
         },
         "lon": [
          -76,
          33
         ],
         "mode": "lines",
         "opacity": 0.074,
         "type": "scattergeo"
        },
        {
         "hoverinfo": "none",
         "lat": [
          17.3333,
          -13.5833
         ],
         "line": {
          "color": "red",
          "width": 1.2
         },
         "lon": [
          -62.75,
          -172.3333
         ],
         "mode": "lines",
         "opacity": 0.07375,
         "type": "scattergeo"
        },
        {
         "hoverinfo": "none",
         "lat": [
          9,
          54
         ],
         "line": {
          "color": "red",
          "width": 1.2
         },
         "lon": [
          -80,
          -2
         ],
         "mode": "lines",
         "opacity": 0.0735,
         "type": "scattergeo"
        },
        {
         "hoverinfo": "none",
         "lat": [
          33.8333,
          31
         ],
         "line": {
          "color": "red",
          "width": 1.2
         },
         "lon": [
          35.8333,
          36
         ],
         "mode": "lines",
         "opacity": 0.07075,
         "type": "scattergeo"
        },
        {
         "hoverinfo": "none",
         "lat": [
          54.23,
          35
         ],
         "line": {
          "color": "red",
          "width": 1.2
         },
         "lon": [
          -4.55,
          33
         ],
         "mode": "lines",
         "opacity": 0.07075,
         "type": "scattergeo"
        },
        {
         "hoverinfo": "none",
         "lat": [
          49.5,
          49.21
         ],
         "line": {
          "color": "red",
          "width": 1.2
         },
         "lon": [
          -2.56,
          -2.13
         ],
         "mode": "lines",
         "opacity": 0.0695,
         "type": "scattergeo"
        },
        {
         "hoverinfo": "none",
         "lat": [
          -4.5833,
          47
         ],
         "line": {
          "color": "red",
          "width": 1.2
         },
         "lon": [
          55.6667,
          8
         ],
         "mode": "lines",
         "opacity": 0.06925,
         "type": "scattergeo"
        },
        {
         "hoverinfo": "none",
         "lat": [
          22.1667,
          22.25
         ],
         "line": {
          "color": "red",
          "width": 1.2
         },
         "lon": [
          113.55,
          114.1667
         ],
         "mode": "lines",
         "opacity": 0.0665,
         "type": "scattergeo"
        },
        {
         "hoverinfo": "none",
         "lat": [
          -20.2833,
          -13.5833
         ],
         "line": {
          "color": "red",
          "width": 1.2
         },
         "lon": [
          57.55,
          -172.3333
         ],
         "mode": "lines",
         "opacity": 0.06525,
         "type": "scattergeo"
        },
        {
         "hoverinfo": "none",
         "lat": [
          9,
          24
         ],
         "line": {
          "color": "red",
          "width": 1.2
         },
         "lon": [
          -80,
          54
         ],
         "mode": "lines",
         "opacity": 0.065,
         "type": "scattergeo"
        },
        {
         "hoverinfo": "none",
         "lat": [
          47,
          -19.0333
         ],
         "line": {
          "color": "red",
          "width": 1.2
         },
         "lon": [
          8,
          -169.8667
         ],
         "mode": "lines",
         "opacity": 0.06325,
         "type": "scattergeo"
        },
        {
         "hoverinfo": "none",
         "lat": [
          40,
          47
         ],
         "line": {
          "color": "red",
          "width": 1.2
         },
         "lon": [
          -4,
          8
         ],
         "mode": "lines",
         "opacity": 0.063,
         "type": "scattergeo"
        },
        {
         "hoverinfo": "none",
         "lat": [
          18.5,
          47.1667
         ],
         "line": {
          "color": "red",
          "width": 1.2
         },
         "lon": [
          -64.5,
          9.5333
         ],
         "mode": "lines",
         "opacity": 0.0625,
         "type": "scattergeo"
        },
        {
         "hoverinfo": "none",
         "lat": [
          -13.5833,
          23.5
         ],
         "line": {
          "color": "red",
          "width": 1.2
         },
         "lon": [
          -172.3333,
          121
         ],
         "mode": "lines",
         "opacity": 0.06225,
         "type": "scattergeo"
        },
        {
         "hoverinfo": "none",
         "lat": [
          47,
          24.25
         ],
         "line": {
          "color": "red",
          "width": 1.2
         },
         "lon": [
          8,
          -76
         ],
         "mode": "lines",
         "opacity": 0.06125,
         "type": "scattergeo"
        },
        {
         "hoverinfo": "none",
         "lat": [
          13,
          22.25
         ],
         "line": {
          "color": "red",
          "width": 1.2
         },
         "lon": [
          122,
          114.1667
         ],
         "mode": "lines",
         "opacity": 0.06125,
         "type": "scattergeo"
        },
        {
         "hoverinfo": "none",
         "lat": [
          60,
          59
         ],
         "line": {
          "color": "red",
          "width": 1.2
         },
         "lon": [
          100,
          26
         ],
         "mode": "lines",
         "opacity": 0.06075,
         "type": "scattergeo"
        },
        {
         "hoverinfo": "none",
         "lat": [
          18.5,
          24.25
         ],
         "line": {
          "color": "red",
          "width": 1.2
         },
         "lon": [
          -64.5,
          -76
         ],
         "mode": "lines",
         "opacity": 0.05975,
         "type": "scattergeo"
        },
        {
         "hoverinfo": "none",
         "lat": [
          -13.5833,
          1.3667
         ],
         "line": {
          "color": "red",
          "width": 1.2
         },
         "lon": [
          -172.3333,
          103.8
         ],
         "mode": "lines",
         "opacity": 0.05925,
         "type": "scattergeo"
        },
        {
         "hoverinfo": "none",
         "lat": [
          -33,
          18.5
         ],
         "line": {
          "color": "red",
          "width": 1.2
         },
         "lon": [
          -56,
          -64.5
         ],
         "mode": "lines",
         "opacity": 0.059,
         "type": "scattergeo"
        },
        {
         "hoverinfo": "none",
         "lat": [
          49.21,
          54.23
         ],
         "line": {
          "color": "red",
          "width": 1.2
         },
         "lon": [
          -2.13,
          -4.55
         ],
         "mode": "lines",
         "opacity": 0.05875,
         "type": "scattergeo"
        },
        {
         "hoverinfo": "none",
         "lat": [
          17.25,
          57
         ],
         "line": {
          "color": "red",
          "width": 1.2
         },
         "lon": [
          -88.75,
          25
         ],
         "mode": "lines",
         "opacity": 0.05825,
         "type": "scattergeo"
        },
        {
         "hoverinfo": "none",
         "lat": [
          38,
          47
         ],
         "line": {
          "color": "red",
          "width": 1.2
         },
         "lon": [
          -97,
          8
         ],
         "mode": "lines",
         "opacity": 0.05775,
         "type": "scattergeo"
        },
        {
         "hoverinfo": "none",
         "lat": [
          54.23,
          24
         ],
         "line": {
          "color": "red",
          "width": 1.2
         },
         "lon": [
          -4.55,
          54
         ],
         "mode": "lines",
         "opacity": 0.05725,
         "type": "scattergeo"
        },
        {
         "hoverinfo": "none",
         "lat": [
          15,
          22.25
         ],
         "line": {
          "color": "red",
          "width": 1.2
         },
         "lon": [
          100,
          114.1667
         ],
         "mode": "lines",
         "opacity": 0.05675,
         "type": "scattergeo"
        },
        {
         "hoverinfo": "none",
         "lat": [
          24,
          47
         ],
         "line": {
          "color": "red",
          "width": 1.2
         },
         "lon": [
          54,
          8
         ],
         "mode": "lines",
         "opacity": 0.05525,
         "type": "scattergeo"
        },
        {
         "hoverinfo": "none",
         "lat": [
          9,
          59
         ],
         "line": {
          "color": "red",
          "width": 1.2
         },
         "lon": [
          -80,
          26
         ],
         "mode": "lines",
         "opacity": 0.055,
         "type": "scattergeo"
        },
        {
         "hoverinfo": "none",
         "lat": [
          19,
          22.25
         ],
         "line": {
          "color": "red",
          "width": 1.2
         },
         "lon": [
          -72.4167,
          114.1667
         ],
         "mode": "lines",
         "opacity": 0.055,
         "type": "scattergeo"
        },
        {
         "hoverinfo": "none",
         "lat": [
          60,
          22.25
         ],
         "line": {
          "color": "red",
          "width": 1.2
         },
         "lon": [
          100,
          114.1667
         ],
         "mode": "lines",
         "opacity": 0.0545,
         "type": "scattergeo"
        },
        {
         "hoverinfo": "none",
         "lat": [
          22.25,
          35
         ],
         "line": {
          "color": "red",
          "width": 1.2
         },
         "lon": [
          114.1667,
          105
         ],
         "mode": "lines",
         "opacity": 0.05225,
         "type": "scattergeo"
        },
        {
         "hoverinfo": "none",
         "lat": [
          -4.5833,
          54
         ],
         "line": {
          "color": "red",
          "width": 1.2
         },
         "lon": [
          55.6667,
          -2
         ],
         "mode": "lines",
         "opacity": 0.05225,
         "type": "scattergeo"
        },
        {
         "hoverinfo": "none",
         "lat": [
          23.5,
          1.3667
         ],
         "line": {
          "color": "red",
          "width": 1.2
         },
         "lon": [
          121,
          103.8
         ],
         "mode": "lines",
         "opacity": 0.0515,
         "type": "scattergeo"
        },
        {
         "hoverinfo": "none",
         "lat": [
          -4.5833,
          49.75
         ],
         "line": {
          "color": "red",
          "width": 1.2
         },
         "lon": [
          55.6667,
          6.1667
         ],
         "mode": "lines",
         "opacity": 0.0515,
         "type": "scattergeo"
        },
        {
         "hoverinfo": "none",
         "lat": [
          25,
          31
         ],
         "line": {
          "color": "red",
          "width": 1.2
         },
         "lon": [
          45,
          36
         ],
         "mode": "lines",
         "opacity": 0.05075,
         "type": "scattergeo"
        },
        {
         "hoverinfo": "none",
         "lat": [
          60,
          35
         ],
         "line": {
          "color": "red",
          "width": 1.2
         },
         "lon": [
          100,
          33
         ],
         "mode": "lines",
         "opacity": 0.0505,
         "type": "scattergeo"
        },
        {
         "hoverinfo": "none",
         "lat": [
          49.5,
          22.25
         ],
         "line": {
          "color": "red",
          "width": 1.2
         },
         "lon": [
          -2.56,
          114.1667
         ],
         "mode": "lines",
         "opacity": 0.0505,
         "type": "scattergeo"
        },
        {
         "hoverinfo": "none",
         "lat": [
          22.25,
          1.3667
         ],
         "line": {
          "color": "red",
          "width": 1.2
         },
         "lon": [
          114.1667,
          103.8
         ],
         "mode": "lines",
         "opacity": 0.05025,
         "type": "scattergeo"
        },
        {
         "hoverinfo": "none",
         "lat": [
          17.05,
          -13.5833
         ],
         "line": {
          "color": "red",
          "width": 1.2
         },
         "lon": [
          -61.8,
          -172.3333
         ],
         "mode": "lines",
         "opacity": 0.05025,
         "type": "scattergeo"
        },
        {
         "hoverinfo": "none",
         "lat": [
          49.5,
          54.23
         ],
         "line": {
          "color": "red",
          "width": 1.2
         },
         "lon": [
          -2.56,
          -4.55
         ],
         "mode": "lines",
         "opacity": 0.05,
         "type": "scattergeo"
        },
        {
         "hoverinfo": "none",
         "lat": [
          18.25,
          42.8333
         ],
         "line": {
          "color": "red",
          "width": 1.2
         },
         "lon": [
          -63.1667,
          12.8333
         ],
         "mode": "lines",
         "opacity": 0.05,
         "type": "scattergeo"
        },
        {
         "hoverinfo": "none",
         "lat": [
          65,
          49.75
         ],
         "line": {
          "color": "red",
          "width": 1.2
         },
         "lon": [
          -18,
          6.1667
         ],
         "mode": "lines",
         "opacity": 0.04925,
         "type": "scattergeo"
        },
        {
         "hoverinfo": "none",
         "lat": [
          31.5,
          47
         ],
         "line": {
          "color": "red",
          "width": 1.2
         },
         "lon": [
          34.75,
          8
         ],
         "mode": "lines",
         "opacity": 0.04925,
         "type": "scattergeo"
        },
        {
         "hoverinfo": "none",
         "lat": [
          24.25,
          22.25
         ],
         "line": {
          "color": "red",
          "width": 1.2
         },
         "lon": [
          -76,
          114.1667
         ],
         "mode": "lines",
         "opacity": 0.04925,
         "type": "scattergeo"
        },
        {
         "hoverinfo": "none",
         "lat": [
          25,
          47
         ],
         "line": {
          "color": "red",
          "width": 1.2
         },
         "lon": [
          45,
          8
         ],
         "mode": "lines",
         "opacity": 0.04825,
         "type": "scattergeo"
        },
        {
         "hoverinfo": "none",
         "lat": [
          -27,
          -13.5833
         ],
         "line": {
          "color": "red",
          "width": 1.2
         },
         "lon": [
          133,
          -172.3333
         ],
         "mode": "lines",
         "opacity": 0.048,
         "type": "scattergeo"
        },
        {
         "hoverinfo": "none",
         "lat": [
          -20,
          54.23
         ],
         "line": {
          "color": "red",
          "width": 1.2
         },
         "lon": [
          30,
          -4.55
         ],
         "mode": "lines",
         "opacity": 0.048,
         "type": "scattergeo"
        },
        {
         "hoverinfo": "none",
         "lat": [
          18.5,
          -20.2833
         ],
         "line": {
          "color": "red",
          "width": 1.2
         },
         "lon": [
          -64.5,
          57.55
         ],
         "mode": "lines",
         "opacity": 0.047,
         "type": "scattergeo"
        },
        {
         "hoverinfo": "none",
         "lat": [
          47,
          47.1667
         ],
         "line": {
          "color": "red",
          "width": 1.2
         },
         "lon": [
          8,
          9.5333
         ],
         "mode": "lines",
         "opacity": 0.047,
         "type": "scattergeo"
        },
        {
         "hoverinfo": "none",
         "lat": [
          24,
          -13.5833
         ],
         "line": {
          "color": "red",
          "width": 1.2
         },
         "lon": [
          54,
          -172.3333
         ],
         "mode": "lines",
         "opacity": 0.04675,
         "type": "scattergeo"
        },
        {
         "hoverinfo": "none",
         "lat": [
          9,
          4
         ],
         "line": {
          "color": "red",
          "width": 1.2
         },
         "lon": [
          -80,
          -72
         ],
         "mode": "lines",
         "opacity": 0.0455,
         "type": "scattergeo"
        },
        {
         "hoverinfo": "none",
         "lat": [
          -4.5833,
          22.25
         ],
         "line": {
          "color": "red",
          "width": 1.2
         },
         "lon": [
          55.6667,
          114.1667
         ],
         "mode": "lines",
         "opacity": 0.04525,
         "type": "scattergeo"
        },
        {
         "hoverinfo": "none",
         "lat": [
          47,
          54
         ],
         "line": {
          "color": "red",
          "width": 1.2
         },
         "lon": [
          8,
          -2
         ],
         "mode": "lines",
         "opacity": 0.04475,
         "type": "scattergeo"
        },
        {
         "hoverinfo": "none",
         "lat": [
          49.21,
          22.25
         ],
         "line": {
          "color": "red",
          "width": 1.2
         },
         "lon": [
          -2.13,
          114.1667
         ],
         "mode": "lines",
         "opacity": 0.04475,
         "type": "scattergeo"
        },
        {
         "hoverinfo": "none",
         "lat": [
          9,
          22.25
         ],
         "line": {
          "color": "red",
          "width": 1.2
         },
         "lon": [
          -80,
          114.1667
         ],
         "mode": "lines",
         "opacity": 0.04475,
         "type": "scattergeo"
        },
        {
         "hoverinfo": "none",
         "lat": [
          54.23,
          47
         ],
         "line": {
          "color": "red",
          "width": 1.2
         },
         "lon": [
          -4.55,
          8
         ],
         "mode": "lines",
         "opacity": 0.0445,
         "type": "scattergeo"
        },
        {
         "hoverinfo": "none",
         "lat": [
          49.21,
          24
         ],
         "line": {
          "color": "red",
          "width": 1.2
         },
         "lon": [
          -2.13,
          54
         ],
         "mode": "lines",
         "opacity": 0.0445,
         "type": "scattergeo"
        },
        {
         "hoverinfo": "none",
         "lat": [
          -19.0333,
          47
         ],
         "line": {
          "color": "red",
          "width": 1.2
         },
         "lon": [
          -169.8667,
          8
         ],
         "mode": "lines",
         "opacity": 0.044,
         "type": "scattergeo"
        },
        {
         "hoverinfo": "none",
         "lat": [
          -29,
          -13.5833
         ],
         "line": {
          "color": "red",
          "width": 1.2
         },
         "lon": [
          24,
          -172.3333
         ],
         "mode": "lines",
         "opacity": 0.04375,
         "type": "scattergeo"
        },
        {
         "hoverinfo": "none",
         "lat": [
          49.5,
          -20.2833
         ],
         "line": {
          "color": "red",
          "width": 1.2
         },
         "lon": [
          -2.56,
          57.55
         ],
         "mode": "lines",
         "opacity": 0.04325,
         "type": "scattergeo"
        },
        {
         "hoverinfo": "none",
         "lat": [
          17.3333,
          47
         ],
         "line": {
          "color": "red",
          "width": 1.2
         },
         "lon": [
          -62.75,
          8
         ],
         "mode": "lines",
         "opacity": 0.043,
         "type": "scattergeo"
        },
        {
         "hoverinfo": "none",
         "lat": [
          46,
          22.25
         ],
         "line": {
          "color": "red",
          "width": 1.2
         },
         "lon": [
          2,
          114.1667
         ],
         "mode": "lines",
         "opacity": 0.0425,
         "type": "scattergeo"
        },
        {
         "hoverinfo": "none",
         "lat": [
          25,
          54
         ],
         "line": {
          "color": "red",
          "width": 1.2
         },
         "lon": [
          45,
          -2
         ],
         "mode": "lines",
         "opacity": 0.04175,
         "type": "scattergeo"
        },
        {
         "hoverinfo": "none",
         "lat": [
          17.25,
          -13.5833
         ],
         "line": {
          "color": "red",
          "width": 1.2
         },
         "lon": [
          -88.75,
          -172.3333
         ],
         "mode": "lines",
         "opacity": 0.04125,
         "type": "scattergeo"
        },
        {
         "hoverinfo": "none",
         "lat": [
          8,
          38
         ],
         "line": {
          "color": "red",
          "width": 1.2
         },
         "lon": [
          -66,
          -97
         ],
         "mode": "lines",
         "opacity": 0.041,
         "type": "scattergeo"
        },
        {
         "hoverinfo": "none",
         "lat": [
          54.23,
          36.1833
         ],
         "line": {
          "color": "red",
          "width": 1.2
         },
         "lon": [
          -4.55,
          -5.3667
         ],
         "mode": "lines",
         "opacity": 0.04025,
         "type": "scattergeo"
        },
        {
         "hoverinfo": "none",
         "lat": [
          -34,
          38
         ],
         "line": {
          "color": "red",
          "width": 1.2
         },
         "lon": [
          -64,
          -97
         ],
         "mode": "lines",
         "opacity": 0.03975,
         "type": "scattergeo"
        },
        {
         "hoverinfo": "none",
         "lat": [
          35,
          49.21
         ],
         "line": {
          "color": "red",
          "width": 1.2
         },
         "lon": [
          33,
          -2.13
         ],
         "mode": "lines",
         "opacity": 0.03975,
         "type": "scattergeo"
        },
        {
         "hoverinfo": "none",
         "lat": [
          9,
          54
         ],
         "line": {
          "color": "red",
          "width": 1.2
         },
         "lon": [
          168,
          -2
         ],
         "mode": "lines",
         "opacity": 0.03925,
         "type": "scattergeo"
        },
        {
         "hoverinfo": "none",
         "lat": [
          17.25,
          47
         ],
         "line": {
          "color": "red",
          "width": 1.2
         },
         "lon": [
          -88.75,
          8
         ],
         "mode": "lines",
         "opacity": 0.039,
         "type": "scattergeo"
        },
        {
         "hoverinfo": "none",
         "lat": [
          -5,
          22.25
         ],
         "line": {
          "color": "red",
          "width": 1.2
         },
         "lon": [
          120,
          114.1667
         ],
         "mode": "lines",
         "opacity": 0.03825,
         "type": "scattergeo"
        },
        {
         "hoverinfo": "none",
         "lat": [
          49.75,
          54
         ],
         "line": {
          "color": "red",
          "width": 1.2
         },
         "lon": [
          6.1667,
          -2
         ],
         "mode": "lines",
         "opacity": 0.03775,
         "type": "scattergeo"
        },
        {
         "hoverinfo": "none",
         "lat": [
          27,
          47
         ],
         "line": {
          "color": "red",
          "width": 1.2
         },
         "lon": [
          30,
          8
         ],
         "mode": "lines",
         "opacity": 0.0375,
         "type": "scattergeo"
        },
        {
         "hoverinfo": "none",
         "lat": [
          38,
          9
         ],
         "line": {
          "color": "red",
          "width": 1.2
         },
         "lon": [
          -97,
          -80
         ],
         "mode": "lines",
         "opacity": 0.03725,
         "type": "scattergeo"
        },
        {
         "hoverinfo": "none",
         "lat": [
          54.23,
          49.5
         ],
         "line": {
          "color": "red",
          "width": 1.2
         },
         "lon": [
          -4.55,
          -2.56
         ],
         "mode": "lines",
         "opacity": 0.03725,
         "type": "scattergeo"
        },
        {
         "hoverinfo": "none",
         "lat": [
          18.5,
          31
         ],
         "line": {
          "color": "red",
          "width": 1.2
         },
         "lon": [
          -64.5,
          36
         ],
         "mode": "lines",
         "opacity": 0.03725,
         "type": "scattergeo"
        },
        {
         "hoverinfo": "none",
         "lat": [
          -20,
          49.5
         ],
         "line": {
          "color": "red",
          "width": 1.2
         },
         "lon": [
          30,
          -2.56
         ],
         "mode": "lines",
         "opacity": 0.03675,
         "type": "scattergeo"
        },
        {
         "hoverinfo": "none",
         "lat": [
          37,
          22.25
         ],
         "line": {
          "color": "red",
          "width": 1.2
         },
         "lon": [
          127.5,
          114.1667
         ],
         "mode": "lines",
         "opacity": 0.0365,
         "type": "scattergeo"
        },
        {
         "hoverinfo": "none",
         "lat": [
          49.75,
          19
         ],
         "line": {
          "color": "red",
          "width": 1.2
         },
         "lon": [
          6.1667,
          -70.6667
         ],
         "mode": "lines",
         "opacity": 0.03625,
         "type": "scattergeo"
        },
        {
         "hoverinfo": "none",
         "lat": [
          17.3333,
          60
         ],
         "line": {
          "color": "red",
          "width": 1.2
         },
         "lon": [
          -62.75,
          100
         ],
         "mode": "lines",
         "opacity": 0.03625,
         "type": "scattergeo"
        },
        {
         "hoverinfo": "none",
         "lat": [
          39.5,
          47
         ],
         "line": {
          "color": "red",
          "width": 1.2
         },
         "lon": [
          -8,
          8
         ],
         "mode": "lines",
         "opacity": 0.036,
         "type": "scattergeo"
        },
        {
         "hoverinfo": "none",
         "lat": [
          -10,
          18.5
         ],
         "line": {
          "color": "red",
          "width": 1.2
         },
         "lon": [
          -55,
          -64.5
         ],
         "mode": "lines",
         "opacity": 0.03575,
         "type": "scattergeo"
        },
        {
         "hoverinfo": "none",
         "lat": [
          60,
          54
         ],
         "line": {
          "color": "red",
          "width": 1.2
         },
         "lon": [
          100,
          -2
         ],
         "mode": "lines",
         "opacity": 0.03525,
         "type": "scattergeo"
        },
        {
         "hoverinfo": "none",
         "lat": [
          47,
          49.21
         ],
         "line": {
          "color": "red",
          "width": 1.2
         },
         "lon": [
          8,
          -2.13
         ],
         "mode": "lines",
         "opacity": 0.035,
         "type": "scattergeo"
        },
        {
         "hoverinfo": "none",
         "lat": [
          18.5,
          38
         ],
         "line": {
          "color": "red",
          "width": 1.2
         },
         "lon": [
          -64.5,
          -97
         ],
         "mode": "lines",
         "opacity": 0.03475,
         "type": "scattergeo"
        },
        {
         "hoverinfo": "none",
         "lat": [
          9,
          -2
         ],
         "line": {
          "color": "red",
          "width": 1.2
         },
         "lon": [
          -80,
          -77.5
         ],
         "mode": "lines",
         "opacity": 0.0345,
         "type": "scattergeo"
        },
        {
         "hoverinfo": "none",
         "lat": [
          54,
          53
         ],
         "line": {
          "color": "red",
          "width": 1.2
         },
         "lon": [
          -2,
          -8
         ],
         "mode": "lines",
         "opacity": 0.0335,
         "type": "scattergeo"
        },
        {
         "hoverinfo": "none",
         "lat": [
          35,
          1.3667
         ],
         "line": {
          "color": "red",
          "width": 1.2
         },
         "lon": [
          105,
          103.8
         ],
         "mode": "lines",
         "opacity": 0.0335,
         "type": "scattergeo"
        },
        {
         "hoverinfo": "none",
         "lat": [
          54,
          35
         ],
         "line": {
          "color": "red",
          "width": 1.2
         },
         "lon": [
          -2,
          33
         ],
         "mode": "lines",
         "opacity": 0.03325,
         "type": "scattergeo"
        },
        {
         "hoverinfo": "none",
         "lat": [
          30,
          54
         ],
         "line": {
          "color": "red",
          "width": 1.2
         },
         "lon": [
          70,
          -2
         ],
         "mode": "lines",
         "opacity": 0.033,
         "type": "scattergeo"
        },
        {
         "hoverinfo": "none",
         "lat": [
          -4.5833,
          47.1667
         ],
         "line": {
          "color": "red",
          "width": 1.2
         },
         "lon": [
          55.6667,
          9.5333
         ],
         "mode": "lines",
         "opacity": 0.033,
         "type": "scattergeo"
        },
        {
         "hoverinfo": "none",
         "lat": [
          35,
          60
         ],
         "line": {
          "color": "red",
          "width": 1.2
         },
         "lon": [
          33,
          100
         ],
         "mode": "lines",
         "opacity": 0.033,
         "type": "scattergeo"
        },
        {
         "hoverinfo": "none",
         "lat": [
          49.21,
          1.3667
         ],
         "line": {
          "color": "red",
          "width": 1.2
         },
         "lon": [
          -2.13,
          103.8
         ],
         "mode": "lines",
         "opacity": 0.03225,
         "type": "scattergeo"
        },
        {
         "hoverinfo": "none",
         "lat": [
          17.3333,
          43.7333
         ],
         "line": {
          "color": "red",
          "width": 1.2
         },
         "lon": [
          -62.75,
          7.4
         ],
         "mode": "lines",
         "opacity": 0.03225,
         "type": "scattergeo"
        },
        {
         "hoverinfo": "none",
         "lat": [
          19.5,
          47
         ],
         "line": {
          "color": "red",
          "width": 1.2
         },
         "lon": [
          -80.5,
          8
         ],
         "mode": "lines",
         "opacity": 0.032,
         "type": "scattergeo"
        },
        {
         "hoverinfo": "none",
         "lat": [
          31,
          47
         ],
         "line": {
          "color": "red",
          "width": 1.2
         },
         "lon": [
          36,
          8
         ],
         "mode": "lines",
         "opacity": 0.03125,
         "type": "scattergeo"
        },
        {
         "hoverinfo": "none",
         "lat": [
          49,
          24
         ],
         "line": {
          "color": "red",
          "width": 1.2
         },
         "lon": [
          32,
          54
         ],
         "mode": "lines",
         "opacity": 0.03125,
         "type": "scattergeo"
        },
        {
         "hoverinfo": "none",
         "lat": [
          47,
          49.5
         ],
         "line": {
          "color": "red",
          "width": 1.2
         },
         "lon": [
          8,
          -2.56
         ],
         "mode": "lines",
         "opacity": 0.03125,
         "type": "scattergeo"
        },
        {
         "hoverinfo": "none",
         "lat": [
          32.3333,
          60
         ],
         "line": {
          "color": "red",
          "width": 1.2
         },
         "lon": [
          -64.75,
          -95
         ],
         "mode": "lines",
         "opacity": 0.03125,
         "type": "scattergeo"
        },
        {
         "hoverinfo": "none",
         "lat": [
          35,
          23.5
         ],
         "line": {
          "color": "red",
          "width": 1.2
         },
         "lon": [
          105,
          121
         ],
         "mode": "lines",
         "opacity": 0.03125,
         "type": "scattergeo"
        },
        {
         "hoverinfo": "none",
         "lat": [
          38,
          35
         ],
         "line": {
          "color": "red",
          "width": 1.2
         },
         "lon": [
          -97,
          105
         ],
         "mode": "lines",
         "opacity": 0.03125,
         "type": "scattergeo"
        },
        {
         "hoverinfo": "none",
         "lat": [
          -4.5833,
          49.5
         ],
         "line": {
          "color": "red",
          "width": 1.2
         },
         "lon": [
          55.6667,
          -2.56
         ],
         "mode": "lines",
         "opacity": 0.031,
         "type": "scattergeo"
        },
        {
         "hoverinfo": "none",
         "lat": [
          35,
          47
         ],
         "line": {
          "color": "red",
          "width": 1.2
         },
         "lon": [
          33,
          8
         ],
         "mode": "lines",
         "opacity": 0.03075,
         "type": "scattergeo"
        },
        {
         "hoverinfo": "none",
         "lat": [
          -4.5833,
          35
         ],
         "line": {
          "color": "red",
          "width": 1.2
         },
         "lon": [
          55.6667,
          33
         ],
         "mode": "lines",
         "opacity": 0.03075,
         "type": "scattergeo"
        },
        {
         "hoverinfo": "none",
         "lat": [
          20,
          22.25
         ],
         "line": {
          "color": "red",
          "width": 1.2
         },
         "lon": [
          77,
          114.1667
         ],
         "mode": "lines",
         "opacity": 0.0305,
         "type": "scattergeo"
        },
        {
         "hoverinfo": "none",
         "lat": [
          60,
          57
         ],
         "line": {
          "color": "red",
          "width": 1.2
         },
         "lon": [
          100,
          25
         ],
         "mode": "lines",
         "opacity": 0.0305,
         "type": "scattergeo"
        },
        {
         "hoverinfo": "none",
         "lat": [
          54,
          60
         ],
         "line": {
          "color": "red",
          "width": 1.2
         },
         "lon": [
          -2,
          100
         ],
         "mode": "lines",
         "opacity": 0.0295,
         "type": "scattergeo"
        },
        {
         "hoverinfo": "none",
         "lat": [
          33.8333,
          47
         ],
         "line": {
          "color": "red",
          "width": 1.2
         },
         "lon": [
          35.8333,
          8
         ],
         "mode": "lines",
         "opacity": 0.02925,
         "type": "scattergeo"
        },
        {
         "hoverinfo": "none",
         "lat": [
          -33,
          -23
         ],
         "line": {
          "color": "red",
          "width": 1.2
         },
         "lon": [
          -56,
          -58
         ],
         "mode": "lines",
         "opacity": 0.029,
         "type": "scattergeo"
        },
        {
         "hoverinfo": "none",
         "lat": [
          9,
          -33
         ],
         "line": {
          "color": "red",
          "width": 1.2
         },
         "lon": [
          -80,
          -56
         ],
         "mode": "lines",
         "opacity": 0.02875,
         "type": "scattergeo"
        },
        {
         "hoverinfo": "none",
         "lat": [
          23.5,
          35
         ],
         "line": {
          "color": "red",
          "width": 1.2
         },
         "lon": [
          121,
          105
         ],
         "mode": "lines",
         "opacity": 0.02825,
         "type": "scattergeo"
        },
        {
         "hoverinfo": "none",
         "lat": [
          32.3333,
          22.25
         ],
         "line": {
          "color": "red",
          "width": 1.2
         },
         "lon": [
          -64.75,
          114.1667
         ],
         "mode": "lines",
         "opacity": 0.02825,
         "type": "scattergeo"
        },
        {
         "hoverinfo": "none",
         "lat": [
          9,
          42.5
         ],
         "line": {
          "color": "red",
          "width": 1.2
         },
         "lon": [
          -80,
          1.6
         ],
         "mode": "lines",
         "opacity": 0.028,
         "type": "scattergeo"
        },
        {
         "hoverinfo": "none",
         "lat": [
          18.5,
          9
         ],
         "line": {
          "color": "red",
          "width": 1.2
         },
         "lon": [
          -64.5,
          -80
         ],
         "mode": "lines",
         "opacity": 0.02775,
         "type": "scattergeo"
        },
        {
         "hoverinfo": "none",
         "lat": [
          10,
          35.8333
         ],
         "line": {
          "color": "red",
          "width": 1.2
         },
         "lon": [
          -84,
          14.5833
         ],
         "mode": "lines",
         "opacity": 0.027,
         "type": "scattergeo"
        },
        {
         "hoverinfo": "none",
         "lat": [
          54,
          24
         ],
         "line": {
          "color": "red",
          "width": 1.2
         },
         "lon": [
          -2,
          54
         ],
         "mode": "lines",
         "opacity": 0.027,
         "type": "scattergeo"
        },
        {
         "hoverinfo": "none",
         "lat": [
          17.3333,
          49.5
         ],
         "line": {
          "color": "red",
          "width": 1.2
         },
         "lon": [
          -62.75,
          -2.56
         ],
         "mode": "lines",
         "opacity": 0.027,
         "type": "scattergeo"
        },
        {
         "hoverinfo": "none",
         "lat": [
          20,
          1.3667
         ],
         "line": {
          "color": "red",
          "width": 1.2
         },
         "lon": [
          77,
          103.8
         ],
         "mode": "lines",
         "opacity": 0.0265,
         "type": "scattergeo"
        },
        {
         "hoverinfo": "none",
         "lat": [
          24.25,
          49.5
         ],
         "line": {
          "color": "red",
          "width": 1.2
         },
         "lon": [
          -76,
          -2.56
         ],
         "mode": "lines",
         "opacity": 0.0265,
         "type": "scattergeo"
        },
        {
         "hoverinfo": "none",
         "lat": [
          46,
          49.75
         ],
         "line": {
          "color": "red",
          "width": 1.2
         },
         "lon": [
          2,
          6.1667
         ],
         "mode": "lines",
         "opacity": 0.0265,
         "type": "scattergeo"
        },
        {
         "hoverinfo": "none",
         "lat": [
          43.7333,
          47
         ],
         "line": {
          "color": "red",
          "width": 1.2
         },
         "lon": [
          7.4,
          8
         ],
         "mode": "lines",
         "opacity": 0.02625,
         "type": "scattergeo"
        },
        {
         "hoverinfo": "none",
         "lat": [
          18.5,
          52.5
         ],
         "line": {
          "color": "red",
          "width": 1.2
         },
         "lon": [
          -64.5,
          5.75
         ],
         "mode": "lines",
         "opacity": 0.026,
         "type": "scattergeo"
        },
        {
         "hoverinfo": "none",
         "lat": [
          49.75,
          47
         ],
         "line": {
          "color": "red",
          "width": 1.2
         },
         "lon": [
          6.1667,
          8
         ],
         "mode": "lines",
         "opacity": 0.026,
         "type": "scattergeo"
        },
        {
         "hoverinfo": "none",
         "lat": [
          54.23,
          54
         ],
         "line": {
          "color": "red",
          "width": 1.2
         },
         "lon": [
          -4.55,
          -2
         ],
         "mode": "lines",
         "opacity": 0.025,
         "type": "scattergeo"
        },
        {
         "hoverinfo": "none",
         "lat": [
          -20.2833,
          47
         ],
         "line": {
          "color": "red",
          "width": 1.2
         },
         "lon": [
          57.55,
          8
         ],
         "mode": "lines",
         "opacity": 0.025,
         "type": "scattergeo"
        },
        {
         "hoverinfo": "none",
         "lat": [
          38,
          54
         ],
         "line": {
          "color": "red",
          "width": 1.2
         },
         "lon": [
          -97,
          -2
         ],
         "mode": "lines",
         "opacity": 0.02475,
         "type": "scattergeo"
        },
        {
         "hoverinfo": "none",
         "lat": [
          -29,
          47
         ],
         "line": {
          "color": "red",
          "width": 1.2
         },
         "lon": [
          24,
          8
         ],
         "mode": "lines",
         "opacity": 0.02475,
         "type": "scattergeo"
        },
        {
         "hoverinfo": "none",
         "lat": [
          -10,
          49.75
         ],
         "line": {
          "color": "red",
          "width": 1.2
         },
         "lon": [
          -55,
          6.1667
         ],
         "mode": "lines",
         "opacity": 0.02475,
         "type": "scattergeo"
        },
        {
         "hoverinfo": "none",
         "lat": [
          -29,
          54.23
         ],
         "line": {
          "color": "red",
          "width": 1.2
         },
         "lon": [
          24,
          -4.55
         ],
         "mode": "lines",
         "opacity": 0.0245,
         "type": "scattergeo"
        },
        {
         "hoverinfo": "none",
         "lat": [
          51,
          22.25
         ],
         "line": {
          "color": "red",
          "width": 1.2
         },
         "lon": [
          9,
          114.1667
         ],
         "mode": "lines",
         "opacity": 0.0245,
         "type": "scattergeo"
        },
        {
         "hoverinfo": "none",
         "lat": [
          24.25,
          49.21
         ],
         "line": {
          "color": "red",
          "width": 1.2
         },
         "lon": [
          -76,
          -2.13
         ],
         "mode": "lines",
         "opacity": 0.024,
         "type": "scattergeo"
        },
        {
         "hoverinfo": "none",
         "lat": [
          50.8333,
          49.75
         ],
         "line": {
          "color": "red",
          "width": 1.2
         },
         "lon": [
          4,
          6.1667
         ],
         "mode": "lines",
         "opacity": 0.024,
         "type": "scattergeo"
        },
        {
         "hoverinfo": "none",
         "lat": [
          48.6667,
          43.7333
         ],
         "line": {
          "color": "red",
          "width": 1.2
         },
         "lon": [
          19.5,
          7.4
         ],
         "mode": "lines",
         "opacity": 0.02375,
         "type": "scattergeo"
        },
        {
         "hoverinfo": "none",
         "lat": [
          51,
          9
         ],
         "line": {
          "color": "red",
          "width": 1.2
         },
         "lon": [
          9,
          -80
         ],
         "mode": "lines",
         "opacity": 0.02375,
         "type": "scattergeo"
        },
        {
         "hoverinfo": "none",
         "lat": [
          54,
          38
         ],
         "line": {
          "color": "red",
          "width": 1.2
         },
         "lon": [
          -2,
          -97
         ],
         "mode": "lines",
         "opacity": 0.0235,
         "type": "scattergeo"
        },
        {
         "hoverinfo": "none",
         "lat": [
          42.8333,
          22.25
         ],
         "line": {
          "color": "red",
          "width": 1.2
         },
         "lon": [
          12.8333,
          114.1667
         ],
         "mode": "lines",
         "opacity": 0.0235,
         "type": "scattergeo"
        },
        {
         "hoverinfo": "none",
         "lat": [
          -20.2833,
          49.5
         ],
         "line": {
          "color": "red",
          "width": 1.2
         },
         "lon": [
          57.55,
          -2.56
         ],
         "mode": "lines",
         "opacity": 0.0235,
         "type": "scattergeo"
        },
        {
         "hoverinfo": "none",
         "lat": [
          54,
          43.7333
         ],
         "line": {
          "color": "red",
          "width": 1.2
         },
         "lon": [
          -2,
          7.4
         ],
         "mode": "lines",
         "opacity": 0.02325,
         "type": "scattergeo"
        },
        {
         "hoverinfo": "none",
         "lat": [
          9,
          43.7333
         ],
         "line": {
          "color": "red",
          "width": 1.2
         },
         "lon": [
          -80,
          7.4
         ],
         "mode": "lines",
         "opacity": 0.02325,
         "type": "scattergeo"
        },
        {
         "hoverinfo": "none",
         "lat": [
          38,
          31
         ],
         "line": {
          "color": "red",
          "width": 1.2
         },
         "lon": [
          -97,
          36
         ],
         "mode": "lines",
         "opacity": 0.02325,
         "type": "scattergeo"
        },
        {
         "hoverinfo": "none",
         "lat": [
          -27,
          49.5
         ],
         "line": {
          "color": "red",
          "width": 1.2
         },
         "lon": [
          133,
          -2.56
         ],
         "mode": "lines",
         "opacity": 0.02325,
         "type": "scattergeo"
        },
        {
         "hoverinfo": "none",
         "lat": [
          39,
          47
         ],
         "line": {
          "color": "red",
          "width": 1.2
         },
         "lon": [
          22,
          8
         ],
         "mode": "lines",
         "opacity": 0.02325,
         "type": "scattergeo"
        },
        {
         "hoverinfo": "none",
         "lat": [
          -20.2833,
          54
         ],
         "line": {
          "color": "red",
          "width": 1.2
         },
         "lon": [
          57.55,
          -2
         ],
         "mode": "lines",
         "opacity": 0.02325,
         "type": "scattergeo"
        },
        {
         "hoverinfo": "none",
         "lat": [
          54,
          -20.2833
         ],
         "line": {
          "color": "red",
          "width": 1.2
         },
         "lon": [
          -2,
          57.55
         ],
         "mode": "lines",
         "opacity": 0.0225,
         "type": "scattergeo"
        },
        {
         "hoverinfo": "none",
         "lat": [
          18.5,
          43.7333
         ],
         "line": {
          "color": "red",
          "width": 1.2
         },
         "lon": [
          -64.5,
          7.4
         ],
         "mode": "lines",
         "opacity": 0.0225,
         "type": "scattergeo"
        },
        {
         "hoverinfo": "none",
         "lat": [
          47,
          36.1833
         ],
         "line": {
          "color": "red",
          "width": 1.2
         },
         "lon": [
          8,
          -5.3667
         ],
         "mode": "lines",
         "opacity": 0.0225,
         "type": "scattergeo"
        },
        {
         "hoverinfo": "none",
         "lat": [
          38,
          1.3667
         ],
         "line": {
          "color": "red",
          "width": 1.2
         },
         "lon": [
          -97,
          103.8
         ],
         "mode": "lines",
         "opacity": 0.0225,
         "type": "scattergeo"
        },
        {
         "hoverinfo": "none",
         "lat": [
          47,
          35.8333
         ],
         "line": {
          "color": "red",
          "width": 1.2
         },
         "lon": [
          8,
          14.5833
         ],
         "mode": "lines",
         "opacity": 0.02225,
         "type": "scattergeo"
        },
        {
         "hoverinfo": "none",
         "lat": [
          23,
          38
         ],
         "line": {
          "color": "red",
          "width": 1.2
         },
         "lon": [
          -102,
          -97
         ],
         "mode": "lines",
         "opacity": 0.02225,
         "type": "scattergeo"
        },
        {
         "hoverinfo": "none",
         "lat": [
          60,
          47
         ],
         "line": {
          "color": "red",
          "width": 1.2
         },
         "lon": [
          -95,
          8
         ],
         "mode": "lines",
         "opacity": 0.02225,
         "type": "scattergeo"
        },
        {
         "hoverinfo": "none",
         "lat": [
          54,
          52.5
         ],
         "line": {
          "color": "red",
          "width": 1.2
         },
         "lon": [
          -2,
          5.75
         ],
         "mode": "lines",
         "opacity": 0.022,
         "type": "scattergeo"
        },
        {
         "hoverinfo": "none",
         "lat": [
          18.5,
          59
         ],
         "line": {
          "color": "red",
          "width": 1.2
         },
         "lon": [
          -64.5,
          26
         ],
         "mode": "lines",
         "opacity": 0.022,
         "type": "scattergeo"
        },
        {
         "hoverinfo": "none",
         "lat": [
          15,
          1.3667
         ],
         "line": {
          "color": "red",
          "width": 1.2
         },
         "lon": [
          100,
          103.8
         ],
         "mode": "lines",
         "opacity": 0.022,
         "type": "scattergeo"
        },
        {
         "hoverinfo": "none",
         "lat": [
          -22,
          49.5
         ],
         "line": {
          "color": "red",
          "width": 1.2
         },
         "lon": [
          24,
          -2.56
         ],
         "mode": "lines",
         "opacity": 0.02175,
         "type": "scattergeo"
        },
        {
         "hoverinfo": "none",
         "lat": [
          1.3667,
          60
         ],
         "line": {
          "color": "red",
          "width": 1.2
         },
         "lon": [
          103.8,
          -95
         ],
         "mode": "lines",
         "opacity": 0.02175,
         "type": "scattergeo"
        },
        {
         "hoverinfo": "none",
         "lat": [
          54,
          15
         ],
         "line": {
          "color": "red",
          "width": 1.2
         },
         "lon": [
          -2,
          100
         ],
         "mode": "lines",
         "opacity": 0.0215,
         "type": "scattergeo"
        },
        {
         "hoverinfo": "none",
         "lat": [
          35,
          18.5
         ],
         "line": {
          "color": "red",
          "width": 1.2
         },
         "lon": [
          33,
          -64.5
         ],
         "mode": "lines",
         "opacity": 0.0215,
         "type": "scattergeo"
        },
        {
         "hoverinfo": "none",
         "lat": [
          9,
          -10
         ],
         "line": {
          "color": "red",
          "width": 1.2
         },
         "lon": [
          -80,
          -55
         ],
         "mode": "lines",
         "opacity": 0.0215,
         "type": "scattergeo"
        },
        {
         "hoverinfo": "none",
         "lat": [
          49,
          60
         ],
         "line": {
          "color": "red",
          "width": 1.2
         },
         "lon": [
          32,
          100
         ],
         "mode": "lines",
         "opacity": 0.0215,
         "type": "scattergeo"
        },
        {
         "hoverinfo": "none",
         "lat": [
          39,
          24
         ],
         "line": {
          "color": "red",
          "width": 1.2
         },
         "lon": [
          22,
          54
         ],
         "mode": "lines",
         "opacity": 0.02125,
         "type": "scattergeo"
        },
        {
         "hoverinfo": "none",
         "lat": [
          24,
          36.1833
         ],
         "line": {
          "color": "red",
          "width": 1.2
         },
         "lon": [
          54,
          -5.3667
         ],
         "mode": "lines",
         "opacity": 0.02125,
         "type": "scattergeo"
        },
        {
         "hoverinfo": "none",
         "lat": [
          35,
          54.23
         ],
         "line": {
          "color": "red",
          "width": 1.2
         },
         "lon": [
          33,
          -4.55
         ],
         "mode": "lines",
         "opacity": 0.02125,
         "type": "scattergeo"
        },
        {
         "hoverinfo": "none",
         "lat": [
          35,
          54
         ],
         "line": {
          "color": "red",
          "width": 1.2
         },
         "lon": [
          33,
          -2
         ],
         "mode": "lines",
         "opacity": 0.02125,
         "type": "scattergeo"
        },
        {
         "hoverinfo": "none",
         "lat": [
          4,
          9
         ],
         "line": {
          "color": "red",
          "width": 1.2
         },
         "lon": [
          -72,
          -80
         ],
         "mode": "lines",
         "opacity": 0.02075,
         "type": "scattergeo"
        },
        {
         "hoverinfo": "none",
         "lat": [
          49.21,
          47.1667
         ],
         "line": {
          "color": "red",
          "width": 1.2
         },
         "lon": [
          -2.13,
          9.5333
         ],
         "mode": "lines",
         "opacity": 0.02075,
         "type": "scattergeo"
        },
        {
         "hoverinfo": "none",
         "lat": [
          52.5,
          22.25
         ],
         "line": {
          "color": "red",
          "width": 1.2
         },
         "lon": [
          5.75,
          114.1667
         ],
         "mode": "lines",
         "opacity": 0.0205,
         "type": "scattergeo"
        },
        {
         "hoverinfo": "none",
         "lat": [
          60,
          54.23
         ],
         "line": {
          "color": "red",
          "width": 1.2
         },
         "lon": [
          100,
          -4.55
         ],
         "mode": "lines",
         "opacity": 0.02,
         "type": "scattergeo"
        },
        {
         "hoverinfo": "none",
         "lat": [
          -41,
          22.25
         ],
         "line": {
          "color": "red",
          "width": 1.2
         },
         "lon": [
          174,
          114.1667
         ],
         "mode": "lines",
         "opacity": 0.02,
         "type": "scattergeo"
        },
        {
         "hoverinfo": "none",
         "lat": [
          24,
          54.23
         ],
         "line": {
          "color": "red",
          "width": 1.2
         },
         "lon": [
          54,
          -4.55
         ],
         "mode": "lines",
         "opacity": 0.02,
         "type": "scattergeo"
        },
        {
         "hoverinfo": "none",
         "lat": [
          -16,
          -4.5833
         ],
         "line": {
          "color": "red",
          "width": 1.2
         },
         "lon": [
          167,
          55.6667
         ],
         "mode": "lines",
         "opacity": 0.02,
         "type": "scattergeo"
        },
        {
         "hoverinfo": "none",
         "lat": [
          47.1667,
          36.1833
         ],
         "line": {
          "color": "red",
          "width": 1.2
         },
         "lon": [
          9.5333,
          -5.3667
         ],
         "mode": "lines",
         "opacity": 0.01975,
         "type": "scattergeo"
        },
        {
         "hoverinfo": "none",
         "lat": [
          20,
          54.23
         ],
         "line": {
          "color": "red",
          "width": 1.2
         },
         "lon": [
          77,
          -4.55
         ],
         "mode": "lines",
         "opacity": 0.01975,
         "type": "scattergeo"
        },
        {
         "hoverinfo": "none",
         "lat": [
          17.3333,
          54.23
         ],
         "line": {
          "color": "red",
          "width": 1.2
         },
         "lon": [
          -62.75,
          -4.55
         ],
         "mode": "lines",
         "opacity": 0.01975,
         "type": "scattergeo"
        },
        {
         "hoverinfo": "none",
         "lat": [
          49,
          47
         ],
         "line": {
          "color": "red",
          "width": 1.2
         },
         "lon": [
          32,
          8
         ],
         "mode": "lines",
         "opacity": 0.01975,
         "type": "scattergeo"
        },
        {
         "hoverinfo": "none",
         "lat": [
          36.1833,
          47
         ],
         "line": {
          "color": "red",
          "width": 1.2
         },
         "lon": [
          -5.3667,
          8
         ],
         "mode": "lines",
         "opacity": 0.01975,
         "type": "scattergeo"
        },
        {
         "hoverinfo": "none",
         "lat": [
          54,
          49.75
         ],
         "line": {
          "color": "red",
          "width": 1.2
         },
         "lon": [
          -2,
          6.1667
         ],
         "mode": "lines",
         "opacity": 0.0195,
         "type": "scattergeo"
        },
        {
         "hoverinfo": "none",
         "lat": [
          18.25,
          4
         ],
         "line": {
          "color": "red",
          "width": 1.2
         },
         "lon": [
          -63.1667,
          -72
         ],
         "mode": "lines",
         "opacity": 0.01925,
         "type": "scattergeo"
        },
        {
         "hoverinfo": "none",
         "lat": [
          18.5,
          31.5
         ],
         "line": {
          "color": "red",
          "width": 1.2
         },
         "lon": [
          -64.5,
          34.75
         ],
         "mode": "lines",
         "opacity": 0.01925,
         "type": "scattergeo"
        },
        {
         "hoverinfo": "none",
         "lat": [
          -29,
          54
         ],
         "line": {
          "color": "red",
          "width": 1.2
         },
         "lon": [
          24,
          -2
         ],
         "mode": "lines",
         "opacity": 0.01925,
         "type": "scattergeo"
        },
        {
         "hoverinfo": "none",
         "lat": [
          17.25,
          22.25
         ],
         "line": {
          "color": "red",
          "width": 1.2
         },
         "lon": [
          -88.75,
          114.1667
         ],
         "mode": "lines",
         "opacity": 0.01925,
         "type": "scattergeo"
        },
        {
         "hoverinfo": "none",
         "lat": [
          50.8333,
          47
         ],
         "line": {
          "color": "red",
          "width": 1.2
         },
         "lon": [
          4,
          8
         ],
         "mode": "lines",
         "opacity": 0.01925,
         "type": "scattergeo"
        },
        {
         "hoverinfo": "none",
         "lat": [
          -27,
          1.3667
         ],
         "line": {
          "color": "red",
          "width": 1.2
         },
         "lon": [
          133,
          103.8
         ],
         "mode": "lines",
         "opacity": 0.019,
         "type": "scattergeo"
        },
        {
         "hoverinfo": "none",
         "lat": [
          38,
          24
         ],
         "line": {
          "color": "red",
          "width": 1.2
         },
         "lon": [
          -97,
          54
         ],
         "mode": "lines",
         "opacity": 0.019,
         "type": "scattergeo"
        },
        {
         "hoverinfo": "none",
         "lat": [
          18.5,
          35.8333
         ],
         "line": {
          "color": "red",
          "width": 1.2
         },
         "lon": [
          -64.5,
          14.5833
         ],
         "mode": "lines",
         "opacity": 0.01875,
         "type": "scattergeo"
        },
        {
         "hoverinfo": "none",
         "lat": [
          18.25,
          24
         ],
         "line": {
          "color": "red",
          "width": 1.2
         },
         "lon": [
          -63.1667,
          54
         ],
         "mode": "lines",
         "opacity": 0.01875,
         "type": "scattergeo"
        },
        {
         "hoverinfo": "none",
         "lat": [
          53,
          49.21
         ],
         "line": {
          "color": "red",
          "width": 1.2
         },
         "lon": [
          -8,
          -2.13
         ],
         "mode": "lines",
         "opacity": 0.01875,
         "type": "scattergeo"
        },
        {
         "hoverinfo": "none",
         "lat": [
          38,
          49.5
         ],
         "line": {
          "color": "red",
          "width": 1.2
         },
         "lon": [
          -97,
          -2.56
         ],
         "mode": "lines",
         "opacity": 0.01875,
         "type": "scattergeo"
        },
        {
         "hoverinfo": "none",
         "lat": [
          38,
          24.25
         ],
         "line": {
          "color": "red",
          "width": 1.2
         },
         "lon": [
          -97,
          -76
         ],
         "mode": "lines",
         "opacity": 0.0185,
         "type": "scattergeo"
        },
        {
         "hoverinfo": "none",
         "lat": [
          38,
          49.21
         ],
         "line": {
          "color": "red",
          "width": 1.2
         },
         "lon": [
          -97,
          -2.13
         ],
         "mode": "lines",
         "opacity": 0.0185,
         "type": "scattergeo"
        },
        {
         "hoverinfo": "none",
         "lat": [
          8,
          9
         ],
         "line": {
          "color": "red",
          "width": 1.2
         },
         "lon": [
          -66,
          -80
         ],
         "mode": "lines",
         "opacity": 0.0185,
         "type": "scattergeo"
        },
        {
         "hoverinfo": "none",
         "lat": [
          38,
          17.25
         ],
         "line": {
          "color": "red",
          "width": 1.2
         },
         "lon": [
          -97,
          -88.75
         ],
         "mode": "lines",
         "opacity": 0.0185,
         "type": "scattergeo"
        },
        {
         "hoverinfo": "none",
         "lat": [
          49.21,
          36.1833
         ],
         "line": {
          "color": "red",
          "width": 1.2
         },
         "lon": [
          -2.13,
          -5.3667
         ],
         "mode": "lines",
         "opacity": 0.01825,
         "type": "scattergeo"
        },
        {
         "hoverinfo": "none",
         "lat": [
          4,
          47
         ],
         "line": {
          "color": "red",
          "width": 1.2
         },
         "lon": [
          -72,
          8
         ],
         "mode": "lines",
         "opacity": 0.018,
         "type": "scattergeo"
        },
        {
         "hoverinfo": "none",
         "lat": [
          9,
          10
         ],
         "line": {
          "color": "red",
          "width": 1.2
         },
         "lon": [
          -80,
          -84
         ],
         "mode": "lines",
         "opacity": 0.018,
         "type": "scattergeo"
        },
        {
         "hoverinfo": "none",
         "lat": [
          9,
          38
         ],
         "line": {
          "color": "red",
          "width": 1.2
         },
         "lon": [
          -80,
          -97
         ],
         "mode": "lines",
         "opacity": 0.018,
         "type": "scattergeo"
        },
        {
         "hoverinfo": "none",
         "lat": [
          47,
          22.25
         ],
         "line": {
          "color": "red",
          "width": 1.2
         },
         "lon": [
          8,
          114.1667
         ],
         "mode": "lines",
         "opacity": 0.018,
         "type": "scattergeo"
        },
        {
         "hoverinfo": "none",
         "lat": [
          49.5,
          24
         ],
         "line": {
          "color": "red",
          "width": 1.2
         },
         "lon": [
          -2.56,
          54
         ],
         "mode": "lines",
         "opacity": 0.01775,
         "type": "scattergeo"
        },
        {
         "hoverinfo": "none",
         "lat": [
          54,
          31.5
         ],
         "line": {
          "color": "red",
          "width": 1.2
         },
         "lon": [
          -2,
          34.75
         ],
         "mode": "lines",
         "opacity": 0.0175,
         "type": "scattergeo"
        },
        {
         "hoverinfo": "none",
         "lat": [
          46,
          54
         ],
         "line": {
          "color": "red",
          "width": 1.2
         },
         "lon": [
          2,
          -2
         ],
         "mode": "lines",
         "opacity": 0.0175,
         "type": "scattergeo"
        },
        {
         "hoverinfo": "none",
         "lat": [
          -20.2833,
          -4.5833
         ],
         "line": {
          "color": "red",
          "width": 1.2
         },
         "lon": [
          57.55,
          55.6667
         ],
         "mode": "lines",
         "opacity": 0.0175,
         "type": "scattergeo"
        },
        {
         "hoverinfo": "none",
         "lat": [
          24,
          49.21
         ],
         "line": {
          "color": "red",
          "width": 1.2
         },
         "lon": [
          54,
          -2.13
         ],
         "mode": "lines",
         "opacity": 0.0175,
         "type": "scattergeo"
        },
        {
         "hoverinfo": "none",
         "lat": [
          1,
          47
         ],
         "line": {
          "color": "red",
          "width": 1.2
         },
         "lon": [
          38,
          8
         ],
         "mode": "lines",
         "opacity": 0.0175,
         "type": "scattergeo"
        },
        {
         "hoverinfo": "none",
         "lat": [
          62,
          49.5
         ],
         "line": {
          "color": "red",
          "width": 1.2
         },
         "lon": [
          10,
          -2.56
         ],
         "mode": "lines",
         "opacity": 0.0175,
         "type": "scattergeo"
        },
        {
         "hoverinfo": "none",
         "lat": [
          60,
          24.25
         ],
         "line": {
          "color": "red",
          "width": 1.2
         },
         "lon": [
          100,
          -76
         ],
         "mode": "lines",
         "opacity": 0.0175,
         "type": "scattergeo"
        },
        {
         "hoverinfo": "none",
         "lat": [
          20,
          35
         ],
         "line": {
          "color": "red",
          "width": 1.2
         },
         "lon": [
          77,
          33
         ],
         "mode": "lines",
         "opacity": 0.01725,
         "type": "scattergeo"
        },
        {
         "hoverinfo": "none",
         "lat": [
          38,
          -2
         ],
         "line": {
          "color": "red",
          "width": 1.2
         },
         "lon": [
          -97,
          -77.5
         ],
         "mode": "lines",
         "opacity": 0.01725,
         "type": "scattergeo"
        },
        {
         "hoverinfo": "none",
         "lat": [
          -13.5833,
          24
         ],
         "line": {
          "color": "red",
          "width": 1.2
         },
         "lon": [
          -172.3333,
          54
         ],
         "mode": "lines",
         "opacity": 0.01725,
         "type": "scattergeo"
        },
        {
         "hoverinfo": "none",
         "lat": [
          60,
          54
         ],
         "line": {
          "color": "red",
          "width": 1.2
         },
         "lon": [
          -95,
          -2
         ],
         "mode": "lines",
         "opacity": 0.017,
         "type": "scattergeo"
        },
        {
         "hoverinfo": "none",
         "lat": [
          60,
          49.21
         ],
         "line": {
          "color": "red",
          "width": 1.2
         },
         "lon": [
          100,
          -2.13
         ],
         "mode": "lines",
         "opacity": 0.017,
         "type": "scattergeo"
        },
        {
         "hoverinfo": "none",
         "lat": [
          24,
          35
         ],
         "line": {
          "color": "red",
          "width": 1.2
         },
         "lon": [
          54,
          33
         ],
         "mode": "lines",
         "opacity": 0.017,
         "type": "scattergeo"
        },
        {
         "hoverinfo": "none",
         "lat": [
          19,
          15.4167
         ],
         "line": {
          "color": "red",
          "width": 1.2
         },
         "lon": [
          -70.6667,
          -61.3333
         ],
         "mode": "lines",
         "opacity": 0.017,
         "type": "scattergeo"
        },
        {
         "hoverinfo": "none",
         "lat": [
          54,
          35.8333
         ],
         "line": {
          "color": "red",
          "width": 1.2
         },
         "lon": [
          -2,
          14.5833
         ],
         "mode": "lines",
         "opacity": 0.01675,
         "type": "scattergeo"
        },
        {
         "hoverinfo": "none",
         "lat": [
          -29,
          -20.2833
         ],
         "line": {
          "color": "red",
          "width": 1.2
         },
         "lon": [
          24,
          57.55
         ],
         "mode": "lines",
         "opacity": 0.01675,
         "type": "scattergeo"
        },
        {
         "hoverinfo": "none",
         "lat": [
          47,
          43.7333
         ],
         "line": {
          "color": "red",
          "width": 1.2
         },
         "lon": [
          8,
          7.4
         ],
         "mode": "lines",
         "opacity": 0.01675,
         "type": "scattergeo"
        },
        {
         "hoverinfo": "none",
         "lat": [
          60,
          49.75
         ],
         "line": {
          "color": "red",
          "width": 1.2
         },
         "lon": [
          100,
          6.1667
         ],
         "mode": "lines",
         "opacity": 0.0165,
         "type": "scattergeo"
        },
        {
         "hoverinfo": "none",
         "lat": [
          6.5,
          35
         ],
         "line": {
          "color": "red",
          "width": 1.2
         },
         "lon": [
          -9.5,
          33
         ],
         "mode": "lines",
         "opacity": 0.0165,
         "type": "scattergeo"
        },
        {
         "hoverinfo": "none",
         "lat": [
          36.1833,
          54
         ],
         "line": {
          "color": "red",
          "width": 1.2
         },
         "lon": [
          -5.3667,
          -2
         ],
         "mode": "lines",
         "opacity": 0.0165,
         "type": "scattergeo"
        },
        {
         "hoverinfo": "none",
         "lat": [
          38,
          15
         ],
         "line": {
          "color": "red",
          "width": 1.2
         },
         "lon": [
          -97,
          100
         ],
         "mode": "lines",
         "opacity": 0.01625,
         "type": "scattergeo"
        },
        {
         "hoverinfo": "none",
         "lat": [
          22.25,
          47
         ],
         "line": {
          "color": "red",
          "width": 1.2
         },
         "lon": [
          114.1667,
          8
         ],
         "mode": "lines",
         "opacity": 0.01625,
         "type": "scattergeo"
        },
        {
         "hoverinfo": "none",
         "lat": [
          47,
          49.75
         ],
         "line": {
          "color": "red",
          "width": 1.2
         },
         "lon": [
          8,
          6.1667
         ],
         "mode": "lines",
         "opacity": 0.01625,
         "type": "scattergeo"
        },
        {
         "hoverinfo": "none",
         "lat": [
          16,
          22.25
         ],
         "line": {
          "color": "red",
          "width": 1.2
         },
         "lon": [
          106,
          114.1667
         ],
         "mode": "lines",
         "opacity": 0.016,
         "type": "scattergeo"
        },
        {
         "hoverinfo": "none",
         "lat": [
          17.25,
          60
         ],
         "line": {
          "color": "red",
          "width": 1.2
         },
         "lon": [
          -88.75,
          100
         ],
         "mode": "lines",
         "opacity": 0.016,
         "type": "scattergeo"
        },
        {
         "hoverinfo": "none",
         "lat": [
          -10,
          17.25
         ],
         "line": {
          "color": "red",
          "width": 1.2
         },
         "lon": [
          -55,
          -88.75
         ],
         "mode": "lines",
         "opacity": 0.016,
         "type": "scattergeo"
        },
        {
         "hoverinfo": "none",
         "lat": [
          54,
          1.3667
         ],
         "line": {
          "color": "red",
          "width": 1.2
         },
         "lon": [
          -2,
          103.8
         ],
         "mode": "lines",
         "opacity": 0.01575,
         "type": "scattergeo"
        },
        {
         "hoverinfo": "none",
         "lat": [
          15.5,
          38
         ],
         "line": {
          "color": "red",
          "width": 1.2
         },
         "lon": [
          -90.25,
          -97
         ],
         "mode": "lines",
         "opacity": 0.01575,
         "type": "scattergeo"
        },
        {
         "hoverinfo": "none",
         "lat": [
          17.3333,
          -4.5833
         ],
         "line": {
          "color": "red",
          "width": 1.2
         },
         "lon": [
          -62.75,
          55.6667
         ],
         "mode": "lines",
         "opacity": 0.01575,
         "type": "scattergeo"
        },
        {
         "hoverinfo": "none",
         "lat": [
          40,
          36.1833
         ],
         "line": {
          "color": "red",
          "width": 1.2
         },
         "lon": [
          -4,
          -5.3667
         ],
         "mode": "lines",
         "opacity": 0.01575,
         "type": "scattergeo"
        },
        {
         "hoverinfo": "none",
         "lat": [
          54,
          49
         ],
         "line": {
          "color": "red",
          "width": 1.2
         },
         "lon": [
          -2,
          32
         ],
         "mode": "lines",
         "opacity": 0.01575,
         "type": "scattergeo"
        },
        {
         "hoverinfo": "none",
         "lat": [
          47.1667,
          54
         ],
         "line": {
          "color": "red",
          "width": 1.2
         },
         "lon": [
          9.5333,
          -2
         ],
         "mode": "lines",
         "opacity": 0.01575,
         "type": "scattergeo"
        },
        {
         "hoverinfo": "none",
         "lat": [
          47,
          31
         ],
         "line": {
          "color": "red",
          "width": 1.2
         },
         "lon": [
          8,
          36
         ],
         "mode": "lines",
         "opacity": 0.0155,
         "type": "scattergeo"
        },
        {
         "hoverinfo": "none",
         "lat": [
          31,
          -20.2833
         ],
         "line": {
          "color": "red",
          "width": 1.2
         },
         "lon": [
          36,
          57.55
         ],
         "mode": "lines",
         "opacity": 0.0155,
         "type": "scattergeo"
        },
        {
         "hoverinfo": "none",
         "lat": [
          -30,
          -33
         ],
         "line": {
          "color": "red",
          "width": 1.2
         },
         "lon": [
          -71,
          -56
         ],
         "mode": "lines",
         "opacity": 0.01525,
         "type": "scattergeo"
        },
        {
         "hoverinfo": "none",
         "lat": [
          -41,
          47
         ],
         "line": {
          "color": "red",
          "width": 1.2
         },
         "lon": [
          174,
          8
         ],
         "mode": "lines",
         "opacity": 0.01525,
         "type": "scattergeo"
        },
        {
         "hoverinfo": "none",
         "lat": [
          47,
          54.23
         ],
         "line": {
          "color": "red",
          "width": 1.2
         },
         "lon": [
          8,
          -4.55
         ],
         "mode": "lines",
         "opacity": 0.015,
         "type": "scattergeo"
        },
        {
         "hoverinfo": "none",
         "lat": [
          15.4167,
          -4.5833
         ],
         "line": {
          "color": "red",
          "width": 1.2
         },
         "lon": [
          -61.3333,
          55.6667
         ],
         "mode": "lines",
         "opacity": 0.015,
         "type": "scattergeo"
        },
        {
         "hoverinfo": "none",
         "lat": [
          49.21,
          31
         ],
         "line": {
          "color": "red",
          "width": 1.2
         },
         "lon": [
          -2.13,
          36
         ],
         "mode": "lines",
         "opacity": 0.01475,
         "type": "scattergeo"
        },
        {
         "hoverinfo": "none",
         "lat": [
          29.3375,
          49.21
         ],
         "line": {
          "color": "red",
          "width": 1.2
         },
         "lon": [
          47.6581,
          -2.13
         ],
         "mode": "lines",
         "opacity": 0.01475,
         "type": "scattergeo"
        },
        {
         "hoverinfo": "none",
         "lat": [
          9,
          54.23
         ],
         "line": {
          "color": "red",
          "width": 1.2
         },
         "lon": [
          -80,
          -4.55
         ],
         "mode": "lines",
         "opacity": 0.01475,
         "type": "scattergeo"
        },
        {
         "hoverinfo": "none",
         "lat": [
          42.8333,
          47
         ],
         "line": {
          "color": "red",
          "width": 1.2
         },
         "lon": [
          12.8333,
          8
         ],
         "mode": "lines",
         "opacity": 0.01475,
         "type": "scattergeo"
        },
        {
         "hoverinfo": "none",
         "lat": [
          1.3667,
          47
         ],
         "line": {
          "color": "red",
          "width": 1.2
         },
         "lon": [
          103.8,
          8
         ],
         "mode": "lines",
         "opacity": 0.01475,
         "type": "scattergeo"
        },
        {
         "hoverinfo": "none",
         "lat": [
          -33,
          9
         ],
         "line": {
          "color": "red",
          "width": 1.2
         },
         "lon": [
          -56,
          -80
         ],
         "mode": "lines",
         "opacity": 0.0145,
         "type": "scattergeo"
        },
        {
         "hoverinfo": "none",
         "lat": [
          18.5,
          -10
         ],
         "line": {
          "color": "red",
          "width": 1.2
         },
         "lon": [
          -64.5,
          -55
         ],
         "mode": "lines",
         "opacity": 0.0145,
         "type": "scattergeo"
        },
        {
         "hoverinfo": "none",
         "lat": [
          40,
          22.25
         ],
         "line": {
          "color": "red",
          "width": 1.2
         },
         "lon": [
          -4,
          114.1667
         ],
         "mode": "lines",
         "opacity": 0.01425,
         "type": "scattergeo"
        },
        {
         "hoverinfo": "none",
         "lat": [
          35,
          47
         ],
         "line": {
          "color": "red",
          "width": 1.2
         },
         "lon": [
          105,
          8
         ],
         "mode": "lines",
         "opacity": 0.01425,
         "type": "scattergeo"
        },
        {
         "hoverinfo": "none",
         "lat": [
          49.75,
          -4.5833
         ],
         "line": {
          "color": "red",
          "width": 1.2
         },
         "lon": [
          15.5,
          55.6667
         ],
         "mode": "lines",
         "opacity": 0.01425,
         "type": "scattergeo"
        },
        {
         "hoverinfo": "none",
         "lat": [
          9,
          35
         ],
         "line": {
          "color": "red",
          "width": 1.2
         },
         "lon": [
          -80,
          33
         ],
         "mode": "lines",
         "opacity": 0.01425,
         "type": "scattergeo"
        },
        {
         "hoverinfo": "none",
         "lat": [
          -27,
          35
         ],
         "line": {
          "color": "red",
          "width": 1.2
         },
         "lon": [
          133,
          33
         ],
         "mode": "lines",
         "opacity": 0.01425,
         "type": "scattergeo"
        },
        {
         "hoverinfo": "none",
         "lat": [
          25,
          49.21
         ],
         "line": {
          "color": "red",
          "width": 1.2
         },
         "lon": [
          45,
          -2.13
         ],
         "mode": "lines",
         "opacity": 0.01425,
         "type": "scattergeo"
        },
        {
         "hoverinfo": "none",
         "lat": [
          54,
          46
         ],
         "line": {
          "color": "red",
          "width": 1.2
         },
         "lon": [
          -2,
          2
         ],
         "mode": "lines",
         "opacity": 0.01425,
         "type": "scattergeo"
        },
        {
         "hoverinfo": "none",
         "lat": [
          18.5,
          15
         ],
         "line": {
          "color": "red",
          "width": 1.2
         },
         "lon": [
          -64.5,
          100
         ],
         "mode": "lines",
         "opacity": 0.014,
         "type": "scattergeo"
        },
        {
         "hoverinfo": "none",
         "lat": [
          9,
          60
         ],
         "line": {
          "color": "red",
          "width": 1.2
         },
         "lon": [
          -80,
          100
         ],
         "mode": "lines",
         "opacity": 0.014,
         "type": "scattergeo"
        },
        {
         "hoverinfo": "none",
         "lat": [
          49.21,
          43.7333
         ],
         "line": {
          "color": "red",
          "width": 1.2
         },
         "lon": [
          -2.13,
          7.4
         ],
         "mode": "lines",
         "opacity": 0.014,
         "type": "scattergeo"
        },
        {
         "hoverinfo": "none",
         "lat": [
          49.21,
          17.25
         ],
         "line": {
          "color": "red",
          "width": 1.2
         },
         "lon": [
          -2.13,
          -88.75
         ],
         "mode": "lines",
         "opacity": 0.014,
         "type": "scattergeo"
        },
        {
         "hoverinfo": "none",
         "lat": [
          53,
          36.1833
         ],
         "line": {
          "color": "red",
          "width": 1.2
         },
         "lon": [
          -8,
          -5.3667
         ],
         "mode": "lines",
         "opacity": 0.014,
         "type": "scattergeo"
        },
        {
         "hoverinfo": "none",
         "lat": [
          2.5,
          54
         ],
         "line": {
          "color": "red",
          "width": 1.2
         },
         "lon": [
          112.5,
          -2
         ],
         "mode": "lines",
         "opacity": 0.014,
         "type": "scattergeo"
        },
        {
         "hoverinfo": "none",
         "lat": [
          54,
          9
         ],
         "line": {
          "color": "red",
          "width": 1.2
         },
         "lon": [
          -2,
          -80
         ],
         "mode": "lines",
         "opacity": 0.01375,
         "type": "scattergeo"
        },
        {
         "hoverinfo": "none",
         "lat": [
          -19.0333,
          49.75
         ],
         "line": {
          "color": "red",
          "width": 1.2
         },
         "lon": [
          -169.8667,
          6.1667
         ],
         "mode": "lines",
         "opacity": 0.01375,
         "type": "scattergeo"
        },
        {
         "hoverinfo": "none",
         "lat": [
          48,
          47
         ],
         "line": {
          "color": "red",
          "width": 1.2
         },
         "lon": [
          68,
          8
         ],
         "mode": "lines",
         "opacity": 0.01375,
         "type": "scattergeo"
        },
        {
         "hoverinfo": "none",
         "lat": [
          -4.5833,
          35
         ],
         "line": {
          "color": "red",
          "width": 1.2
         },
         "lon": [
          55.6667,
          105
         ],
         "mode": "lines",
         "opacity": 0.0135,
         "type": "scattergeo"
        },
        {
         "hoverinfo": "none",
         "lat": [
          18.25,
          -2
         ],
         "line": {
          "color": "red",
          "width": 1.2
         },
         "lon": [
          -63.1667,
          -77.5
         ],
         "mode": "lines",
         "opacity": 0.0135,
         "type": "scattergeo"
        },
        {
         "hoverinfo": "none",
         "lat": [
          47,
          9
         ],
         "line": {
          "color": "red",
          "width": 1.2
         },
         "lon": [
          8,
          -80
         ],
         "mode": "lines",
         "opacity": 0.0135,
         "type": "scattergeo"
        },
        {
         "hoverinfo": "none",
         "lat": [
          31.5,
          54
         ],
         "line": {
          "color": "red",
          "width": 1.2
         },
         "lon": [
          34.75,
          -2
         ],
         "mode": "lines",
         "opacity": 0.0135,
         "type": "scattergeo"
        },
        {
         "hoverinfo": "none",
         "lat": [
          9,
          47
         ],
         "line": {
          "color": "red",
          "width": 1.2
         },
         "lon": [
          168,
          8
         ],
         "mode": "lines",
         "opacity": 0.0135,
         "type": "scattergeo"
        },
        {
         "hoverinfo": "none",
         "lat": [
          9,
          49.21
         ],
         "line": {
          "color": "red",
          "width": 1.2
         },
         "lon": [
          -80,
          -2.13
         ],
         "mode": "lines",
         "opacity": 0.01325,
         "type": "scattergeo"
        },
        {
         "hoverinfo": "none",
         "lat": [
          22.25,
          49.21
         ],
         "line": {
          "color": "red",
          "width": 1.2
         },
         "lon": [
          114.1667,
          -2.13
         ],
         "mode": "lines",
         "opacity": 0.01325,
         "type": "scattergeo"
        },
        {
         "hoverinfo": "none",
         "lat": [
          -10,
          9
         ],
         "line": {
          "color": "red",
          "width": 1.2
         },
         "lon": [
          -55,
          -80
         ],
         "mode": "lines",
         "opacity": 0.01325,
         "type": "scattergeo"
        },
        {
         "hoverinfo": "none",
         "lat": [
          27,
          54
         ],
         "line": {
          "color": "red",
          "width": 1.2
         },
         "lon": [
          30,
          -2
         ],
         "mode": "lines",
         "opacity": 0.01325,
         "type": "scattergeo"
        },
        {
         "hoverinfo": "none",
         "lat": [
          10,
          54
         ],
         "line": {
          "color": "red",
          "width": 1.2
         },
         "lon": [
          8,
          -2
         ],
         "mode": "lines",
         "opacity": 0.013,
         "type": "scattergeo"
        },
        {
         "hoverinfo": "none",
         "lat": [
          35.8333,
          47
         ],
         "line": {
          "color": "red",
          "width": 1.2
         },
         "lon": [
          14.5833,
          8
         ],
         "mode": "lines",
         "opacity": 0.013,
         "type": "scattergeo"
        },
        {
         "hoverinfo": "none",
         "lat": [
          18.5,
          10
         ],
         "line": {
          "color": "red",
          "width": 1.2
         },
         "lon": [
          -64.5,
          -84
         ],
         "mode": "lines",
         "opacity": 0.013,
         "type": "scattergeo"
        },
        {
         "hoverinfo": "none",
         "lat": [
          54,
          24.25
         ],
         "line": {
          "color": "red",
          "width": 1.2
         },
         "lon": [
          -2,
          -76
         ],
         "mode": "lines",
         "opacity": 0.013,
         "type": "scattergeo"
        },
        {
         "hoverinfo": "none",
         "lat": [
          22.25,
          54
         ],
         "line": {
          "color": "red",
          "width": 1.2
         },
         "lon": [
          114.1667,
          -2
         ],
         "mode": "lines",
         "opacity": 0.013,
         "type": "scattergeo"
        },
        {
         "hoverinfo": "none",
         "lat": [
          9,
          15.5
         ],
         "line": {
          "color": "red",
          "width": 1.2
         },
         "lon": [
          -80,
          -90.25
         ],
         "mode": "lines",
         "opacity": 0.01275,
         "type": "scattergeo"
        },
        {
         "hoverinfo": "none",
         "lat": [
          19.5,
          1.3667
         ],
         "line": {
          "color": "red",
          "width": 1.2
         },
         "lon": [
          -80.5,
          103.8
         ],
         "mode": "lines",
         "opacity": 0.01275,
         "type": "scattergeo"
        },
        {
         "hoverinfo": "none",
         "lat": [
          38,
          -33
         ],
         "line": {
          "color": "red",
          "width": 1.2
         },
         "lon": [
          -97,
          -56
         ],
         "mode": "lines",
         "opacity": 0.01275,
         "type": "scattergeo"
        },
        {
         "hoverinfo": "none",
         "lat": [
          2.5,
          15
         ],
         "line": {
          "color": "red",
          "width": 1.2
         },
         "lon": [
          112.5,
          100
         ],
         "mode": "lines",
         "opacity": 0.0125,
         "type": "scattergeo"
        },
        {
         "hoverinfo": "none",
         "lat": [
          39,
          35
         ],
         "line": {
          "color": "red",
          "width": 1.2
         },
         "lon": [
          22,
          33
         ],
         "mode": "lines",
         "opacity": 0.0125,
         "type": "scattergeo"
        },
        {
         "hoverinfo": "none",
         "lat": [
          6.5,
          47
         ],
         "line": {
          "color": "red",
          "width": 1.2
         },
         "lon": [
          -9.5,
          8
         ],
         "mode": "lines",
         "opacity": 0.0125,
         "type": "scattergeo"
        },
        {
         "hoverinfo": "none",
         "lat": [
          49.75,
          54.23
         ],
         "line": {
          "color": "red",
          "width": 1.2
         },
         "lon": [
          6.1667,
          -4.55
         ],
         "mode": "lines",
         "opacity": 0.0125,
         "type": "scattergeo"
        },
        {
         "hoverinfo": "none",
         "lat": [
          54,
          33.8333
         ],
         "line": {
          "color": "red",
          "width": 1.2
         },
         "lon": [
          -2,
          35.8333
         ],
         "mode": "lines",
         "opacity": 0.01225,
         "type": "scattergeo"
        },
        {
         "hoverinfo": "none",
         "lat": [
          -20,
          -20.2833
         ],
         "line": {
          "color": "red",
          "width": 1.2
         },
         "lon": [
          30,
          57.55
         ],
         "mode": "lines",
         "opacity": 0.01225,
         "type": "scattergeo"
        },
        {
         "hoverinfo": "none",
         "lat": [
          6.5,
          22.25
         ],
         "line": {
          "color": "red",
          "width": 1.2
         },
         "lon": [
          -9.5,
          114.1667
         ],
         "mode": "lines",
         "opacity": 0.01225,
         "type": "scattergeo"
        },
        {
         "hoverinfo": "none",
         "lat": [
          62,
          22.25
         ],
         "line": {
          "color": "red",
          "width": 1.2
         },
         "lon": [
          15,
          114.1667
         ],
         "mode": "lines",
         "opacity": 0.01225,
         "type": "scattergeo"
        },
        {
         "hoverinfo": "none",
         "lat": [
          18.5,
          15.5
         ],
         "line": {
          "color": "red",
          "width": 1.2
         },
         "lon": [
          -64.5,
          -90.25
         ],
         "mode": "lines",
         "opacity": 0.012,
         "type": "scattergeo"
        },
        {
         "hoverinfo": "none",
         "lat": [
          -10,
          43.7333
         ],
         "line": {
          "color": "red",
          "width": 1.2
         },
         "lon": [
          -55,
          7.4
         ],
         "mode": "lines",
         "opacity": 0.012,
         "type": "scattergeo"
        },
        {
         "hoverinfo": "none",
         "lat": [
          48,
          60
         ],
         "line": {
          "color": "red",
          "width": 1.2
         },
         "lon": [
          68,
          100
         ],
         "mode": "lines",
         "opacity": 0.012,
         "type": "scattergeo"
        },
        {
         "hoverinfo": "none",
         "lat": [
          31.5,
          22.25
         ],
         "line": {
          "color": "red",
          "width": 1.2
         },
         "lon": [
          34.75,
          114.1667
         ],
         "mode": "lines",
         "opacity": 0.01175,
         "type": "scattergeo"
        },
        {
         "hoverinfo": "none",
         "lat": [
          7,
          22.25
         ],
         "line": {
          "color": "red",
          "width": 1.2
         },
         "lon": [
          21,
          114.1667
         ],
         "mode": "lines",
         "opacity": 0.01175,
         "type": "scattergeo"
        },
        {
         "hoverinfo": "none",
         "lat": [
          18.5,
          -2
         ],
         "line": {
          "color": "red",
          "width": 1.2
         },
         "lon": [
          -64.5,
          -77.5
         ],
         "mode": "lines",
         "opacity": 0.01175,
         "type": "scattergeo"
        },
        {
         "hoverinfo": "none",
         "lat": [
          31.5,
          60
         ],
         "line": {
          "color": "red",
          "width": 1.2
         },
         "lon": [
          34.75,
          100
         ],
         "mode": "lines",
         "opacity": 0.01175,
         "type": "scattergeo"
        },
        {
         "hoverinfo": "none",
         "lat": [
          19.5,
          35
         ],
         "line": {
          "color": "red",
          "width": 1.2
         },
         "lon": [
          -80.5,
          105
         ],
         "mode": "lines",
         "opacity": 0.01175,
         "type": "scattergeo"
        },
        {
         "hoverinfo": "none",
         "lat": [
          49,
          54
         ],
         "line": {
          "color": "red",
          "width": 1.2
         },
         "lon": [
          32,
          -2
         ],
         "mode": "lines",
         "opacity": 0.01175,
         "type": "scattergeo"
        },
        {
         "hoverinfo": "none",
         "lat": [
          22.25,
          38
         ],
         "line": {
          "color": "red",
          "width": 1.2
         },
         "lon": [
          114.1667,
          -97
         ],
         "mode": "lines",
         "opacity": 0.0115,
         "type": "scattergeo"
        },
        {
         "hoverinfo": "none",
         "lat": [
          38,
          35.8333
         ],
         "line": {
          "color": "red",
          "width": 1.2
         },
         "lon": [
          -97,
          14.5833
         ],
         "mode": "lines",
         "opacity": 0.0115,
         "type": "scattergeo"
        },
        {
         "hoverinfo": "none",
         "lat": [
          -19.0333,
          1.3667
         ],
         "line": {
          "color": "red",
          "width": 1.2
         },
         "lon": [
          -169.8667,
          103.8
         ],
         "mode": "lines",
         "opacity": 0.0115,
         "type": "scattergeo"
        },
        {
         "hoverinfo": "none",
         "lat": [
          24.25,
          60
         ],
         "line": {
          "color": "red",
          "width": 1.2
         },
         "lon": [
          -76,
          100
         ],
         "mode": "lines",
         "opacity": 0.0115,
         "type": "scattergeo"
        },
        {
         "hoverinfo": "none",
         "lat": [
          24,
          22.25
         ],
         "line": {
          "color": "red",
          "width": 1.2
         },
         "lon": [
          54,
          114.1667
         ],
         "mode": "lines",
         "opacity": 0.0115,
         "type": "scattergeo"
        },
        {
         "hoverinfo": "none",
         "lat": [
          49.21,
          31.5
         ],
         "line": {
          "color": "red",
          "width": 1.2
         },
         "lon": [
          -2.13,
          34.75
         ],
         "mode": "lines",
         "opacity": 0.01125,
         "type": "scattergeo"
        },
        {
         "hoverinfo": "none",
         "lat": [
          10,
          24.25
         ],
         "line": {
          "color": "red",
          "width": 1.2
         },
         "lon": [
          -84,
          -76
         ],
         "mode": "lines",
         "opacity": 0.01125,
         "type": "scattergeo"
        },
        {
         "hoverinfo": "none",
         "lat": [
          -41,
          54
         ],
         "line": {
          "color": "red",
          "width": 1.2
         },
         "lon": [
          174,
          -2
         ],
         "mode": "lines",
         "opacity": 0.01125,
         "type": "scattergeo"
        },
        {
         "hoverinfo": "none",
         "lat": [
          18.5,
          -4.5833
         ],
         "line": {
          "color": "red",
          "width": 1.2
         },
         "lon": [
          -64.5,
          55.6667
         ],
         "mode": "lines",
         "opacity": 0.01125,
         "type": "scattergeo"
        },
        {
         "hoverinfo": "none",
         "lat": [
          30,
          24
         ],
         "line": {
          "color": "red",
          "width": 1.2
         },
         "lon": [
          70,
          54
         ],
         "mode": "lines",
         "opacity": 0.01125,
         "type": "scattergeo"
        },
        {
         "hoverinfo": "none",
         "lat": [
          -4.5833,
          33.8333
         ],
         "line": {
          "color": "red",
          "width": 1.2
         },
         "lon": [
          55.6667,
          35.8333
         ],
         "mode": "lines",
         "opacity": 0.01125,
         "type": "scattergeo"
        },
        {
         "hoverinfo": "none",
         "lat": [
          -4.5833,
          54.23
         ],
         "line": {
          "color": "red",
          "width": 1.2
         },
         "lon": [
          55.6667,
          -4.55
         ],
         "mode": "lines",
         "opacity": 0.01125,
         "type": "scattergeo"
        },
        {
         "hoverinfo": "none",
         "lat": [
          20,
          47
         ],
         "line": {
          "color": "red",
          "width": 1.2
         },
         "lon": [
          77,
          8
         ],
         "mode": "lines",
         "opacity": 0.01125,
         "type": "scattergeo"
        },
        {
         "hoverinfo": "none",
         "lat": [
          24.25,
          36.1833
         ],
         "line": {
          "color": "red",
          "width": 1.2
         },
         "lon": [
          -76,
          -5.3667
         ],
         "mode": "lines",
         "opacity": 0.011,
         "type": "scattergeo"
        },
        {
         "hoverinfo": "none",
         "lat": [
          36.1833,
          32
         ],
         "line": {
          "color": "red",
          "width": 1.2
         },
         "lon": [
          -5.3667,
          -5
         ],
         "mode": "lines",
         "opacity": 0.011,
         "type": "scattergeo"
        },
        {
         "hoverinfo": "none",
         "lat": [
          -20.2833,
          54.23
         ],
         "line": {
          "color": "red",
          "width": 1.2
         },
         "lon": [
          57.55,
          -4.55
         ],
         "mode": "lines",
         "opacity": 0.011,
         "type": "scattergeo"
        },
        {
         "hoverinfo": "none",
         "lat": [
          42.8333,
          49.75
         ],
         "line": {
          "color": "red",
          "width": 1.2
         },
         "lon": [
          12.8333,
          6.1667
         ],
         "mode": "lines",
         "opacity": 0.011,
         "type": "scattergeo"
        },
        {
         "hoverinfo": "none",
         "lat": [
          33.8333,
          54
         ],
         "line": {
          "color": "red",
          "width": 1.2
         },
         "lon": [
          35.8333,
          -2
         ],
         "mode": "lines",
         "opacity": 0.011,
         "type": "scattergeo"
        },
        {
         "hoverinfo": "none",
         "lat": [
          -29,
          43.7333
         ],
         "line": {
          "color": "red",
          "width": 1.2
         },
         "lon": [
          24,
          7.4
         ],
         "mode": "lines",
         "opacity": 0.011,
         "type": "scattergeo"
        },
        {
         "hoverinfo": "none",
         "lat": [
          18.25,
          47
         ],
         "line": {
          "color": "red",
          "width": 1.2
         },
         "lon": [
          -63.1667,
          8
         ],
         "mode": "lines",
         "opacity": 0.01075,
         "type": "scattergeo"
        },
        {
         "hoverinfo": "none",
         "lat": [
          24.25,
          54
         ],
         "line": {
          "color": "red",
          "width": 1.2
         },
         "lon": [
          -76,
          -2
         ],
         "mode": "lines",
         "opacity": 0.01075,
         "type": "scattergeo"
        },
        {
         "hoverinfo": "none",
         "lat": [
          -13.5833,
          31.5
         ],
         "line": {
          "color": "red",
          "width": 1.2
         },
         "lon": [
          -172.3333,
          34.75
         ],
         "mode": "lines",
         "opacity": 0.01075,
         "type": "scattergeo"
        },
        {
         "hoverinfo": "none",
         "lat": [
          60,
          38
         ],
         "line": {
          "color": "red",
          "width": 1.2
         },
         "lon": [
          100,
          -97
         ],
         "mode": "lines",
         "opacity": 0.01075,
         "type": "scattergeo"
        },
        {
         "hoverinfo": "none",
         "lat": [
          18.5,
          23.5
         ],
         "line": {
          "color": "red",
          "width": 1.2
         },
         "lon": [
          -64.5,
          121
         ],
         "mode": "lines",
         "opacity": 0.01075,
         "type": "scattergeo"
        },
        {
         "hoverinfo": "none",
         "lat": [
          33.8333,
          49.21
         ],
         "line": {
          "color": "red",
          "width": 1.2
         },
         "lon": [
          35.8333,
          -2.13
         ],
         "mode": "lines",
         "opacity": 0.01075,
         "type": "scattergeo"
        },
        {
         "hoverinfo": "none",
         "lat": [
          39.5,
          52.5
         ],
         "line": {
          "color": "red",
          "width": 1.2
         },
         "lon": [
          -8,
          5.75
         ],
         "mode": "lines",
         "opacity": 0.01075,
         "type": "scattergeo"
        },
        {
         "hoverinfo": "none",
         "lat": [
          8,
          47
         ],
         "line": {
          "color": "red",
          "width": 1.2
         },
         "lon": [
          -66,
          8
         ],
         "mode": "lines",
         "opacity": 0.01075,
         "type": "scattergeo"
        },
        {
         "hoverinfo": "none",
         "lat": [
          19.5,
          49.21
         ],
         "line": {
          "color": "red",
          "width": 1.2
         },
         "lon": [
          -80.5,
          -2.13
         ],
         "mode": "lines",
         "opacity": 0.0105,
         "type": "scattergeo"
        },
        {
         "hoverinfo": "none",
         "lat": [
          62,
          49.5
         ],
         "line": {
          "color": "red",
          "width": 1.2
         },
         "lon": [
          15,
          -2.56
         ],
         "mode": "lines",
         "opacity": 0.0105,
         "type": "scattergeo"
        },
        {
         "hoverinfo": "none",
         "lat": [
          1,
          54
         ],
         "line": {
          "color": "red",
          "width": 1.2
         },
         "lon": [
          38,
          -2
         ],
         "mode": "lines",
         "opacity": 0.0105,
         "type": "scattergeo"
        },
        {
         "hoverinfo": "none",
         "lat": [
          1.3667,
          54
         ],
         "line": {
          "color": "red",
          "width": 1.2
         },
         "lon": [
          103.8,
          -2
         ],
         "mode": "lines",
         "opacity": 0.0105,
         "type": "scattergeo"
        },
        {
         "hoverinfo": "none",
         "lat": [
          20,
          54
         ],
         "line": {
          "color": "red",
          "width": 1.2
         },
         "lon": [
          77,
          -2
         ],
         "mode": "lines",
         "opacity": 0.0105,
         "type": "scattergeo"
        },
        {
         "hoverinfo": "none",
         "lat": [
          4,
          38
         ],
         "line": {
          "color": "red",
          "width": 1.2
         },
         "lon": [
          -72,
          -97
         ],
         "mode": "lines",
         "opacity": 0.01025,
         "type": "scattergeo"
        },
        {
         "hoverinfo": "none",
         "lat": [
          1.3667,
          49.21
         ],
         "line": {
          "color": "red",
          "width": 1.2
         },
         "lon": [
          103.8,
          -2.13
         ],
         "mode": "lines",
         "opacity": 0.01025,
         "type": "scattergeo"
        },
        {
         "hoverinfo": "none",
         "lat": [
          42,
          47
         ],
         "line": {
          "color": "red",
          "width": 1.2
         },
         "lon": [
          43.5,
          8
         ],
         "mode": "lines",
         "opacity": 0.01025,
         "type": "scattergeo"
        },
        {
         "hoverinfo": "none",
         "lat": [
          17.25,
          -33
         ],
         "line": {
          "color": "red",
          "width": 1.2
         },
         "lon": [
          -88.75,
          -56
         ],
         "mode": "lines",
         "opacity": 0.01025,
         "type": "scattergeo"
        },
        {
         "hoverinfo": "none",
         "lat": [
          32.3333,
          47
         ],
         "line": {
          "color": "red",
          "width": 1.2
         },
         "lon": [
          -64.75,
          8
         ],
         "mode": "lines",
         "opacity": 0.01025,
         "type": "scattergeo"
        },
        {
         "hoverinfo": "none",
         "lat": [
          54.23,
          35.8333
         ],
         "line": {
          "color": "red",
          "width": 1.2
         },
         "lon": [
          -4.55,
          14.5833
         ],
         "mode": "lines",
         "opacity": 0.01025,
         "type": "scattergeo"
        },
        {
         "hoverinfo": "none",
         "lat": [
          24.25,
          -33
         ],
         "line": {
          "color": "red",
          "width": 1.2
         },
         "lon": [
          -76,
          -56
         ],
         "mode": "lines",
         "opacity": 0.01,
         "type": "scattergeo"
        },
        {
         "hoverinfo": "none",
         "lat": [
          -34,
          47
         ],
         "line": {
          "color": "red",
          "width": 1.2
         },
         "lon": [
          -64,
          8
         ],
         "mode": "lines",
         "opacity": 0.01,
         "type": "scattergeo"
        },
        {
         "hoverinfo": "none",
         "lat": [
          -2,
          38
         ],
         "line": {
          "color": "red",
          "width": 1.2
         },
         "lon": [
          -77.5,
          -97
         ],
         "mode": "lines",
         "opacity": 0.01,
         "type": "scattergeo"
        },
        {
         "hoverinfo": "none",
         "lat": [
          54.23,
          38
         ],
         "line": {
          "color": "red",
          "width": 1.2
         },
         "lon": [
          -4.55,
          -97
         ],
         "mode": "lines",
         "opacity": 0.01,
         "type": "scattergeo"
        },
        {
         "hoverinfo": "none",
         "lat": [
          49.21,
          24.25
         ],
         "line": {
          "color": "red",
          "width": 1.2
         },
         "lon": [
          -2.13,
          -76
         ],
         "mode": "lines",
         "opacity": 0.01,
         "type": "scattergeo"
        },
        {
         "hoverinfo": "none",
         "lat": [
          -4.5833,
          1.3667
         ],
         "line": {
          "color": "red",
          "width": 1.2
         },
         "lon": [
          55.6667,
          103.8
         ],
         "mode": "lines",
         "opacity": 0.01,
         "type": "scattergeo"
        },
        {
         "hoverinfo": "none",
         "lat": [
          9,
          17.25
         ],
         "line": {
          "color": "red",
          "width": 1.2
         },
         "lon": [
          -80,
          -88.75
         ],
         "mode": "lines",
         "opacity": 0.01,
         "type": "scattergeo"
        },
        {
         "hoverinfo": "none",
         "lat": [
          43.7333,
          24
         ],
         "line": {
          "color": "red",
          "width": 1.2
         },
         "lon": [
          7.4,
          54
         ],
         "mode": "lines",
         "opacity": 0.01,
         "type": "scattergeo"
        },
        {
         "hoverinfo": "none",
         "lat": [
          -27,
          54
         ],
         "line": {
          "color": "red",
          "width": 1.2
         },
         "lon": [
          133,
          -2
         ],
         "mode": "lines",
         "opacity": 0.01,
         "type": "scattergeo"
        },
        {
         "hoverinfo": "none",
         "lat": [
          24,
          -4.5833
         ],
         "line": {
          "color": "red",
          "width": 1.2
         },
         "lon": [
          54,
          55.6667
         ],
         "mode": "lines",
         "opacity": 0.01,
         "type": "scattergeo"
        },
        {
         "hoverinfo": "none",
         "lat": [
          60,
          35
         ],
         "line": {
          "color": "red",
          "width": 1.2
         },
         "lon": [
          -95,
          105
         ],
         "mode": "lines",
         "opacity": 0.00975,
         "type": "scattergeo"
        },
        {
         "hoverinfo": "none",
         "lat": [
          9,
          40
         ],
         "line": {
          "color": "red",
          "width": 1.2
         },
         "lon": [
          -80,
          -4
         ],
         "mode": "lines",
         "opacity": 0.00975,
         "type": "scattergeo"
        },
        {
         "hoverinfo": "none",
         "lat": [
          22.25,
          15
         ],
         "line": {
          "color": "red",
          "width": 1.2
         },
         "lon": [
          114.1667,
          100
         ],
         "mode": "lines",
         "opacity": 0.00975,
         "type": "scattergeo"
        },
        {
         "hoverinfo": "none",
         "lat": [
          36.1833,
          -29
         ],
         "line": {
          "color": "red",
          "width": 1.2
         },
         "lon": [
          -5.3667,
          24
         ],
         "mode": "lines",
         "opacity": 0.00975,
         "type": "scattergeo"
        },
        {
         "hoverinfo": "none",
         "lat": [
          60,
          -4.5833
         ],
         "line": {
          "color": "red",
          "width": 1.2
         },
         "lon": [
          100,
          55.6667
         ],
         "mode": "lines",
         "opacity": 0.00975,
         "type": "scattergeo"
        },
        {
         "hoverinfo": "none",
         "lat": [
          54.23,
          -20.2833
         ],
         "line": {
          "color": "red",
          "width": 1.2
         },
         "lon": [
          -4.55,
          57.55
         ],
         "mode": "lines",
         "opacity": 0.00975,
         "type": "scattergeo"
        },
        {
         "hoverinfo": "none",
         "lat": [
          -2,
          24.25
         ],
         "line": {
          "color": "red",
          "width": 1.2
         },
         "lon": [
          -77.5,
          -76
         ],
         "mode": "lines",
         "opacity": 0.0095,
         "type": "scattergeo"
        },
        {
         "hoverinfo": "none",
         "lat": [
          38,
          4
         ],
         "line": {
          "color": "red",
          "width": 1.2
         },
         "lon": [
          -97,
          -72
         ],
         "mode": "lines",
         "opacity": 0.0095,
         "type": "scattergeo"
        },
        {
         "hoverinfo": "none",
         "lat": [
          32,
          47
         ],
         "line": {
          "color": "red",
          "width": 1.2
         },
         "lon": [
          -5,
          8
         ],
         "mode": "lines",
         "opacity": 0.0095,
         "type": "scattergeo"
        },
        {
         "hoverinfo": "none",
         "lat": [
          -23,
          -33
         ],
         "line": {
          "color": "red",
          "width": 1.2
         },
         "lon": [
          -58,
          -56
         ],
         "mode": "lines",
         "opacity": 0.0095,
         "type": "scattergeo"
        },
        {
         "hoverinfo": "none",
         "lat": [
          47,
          60
         ],
         "line": {
          "color": "red",
          "width": 1.2
         },
         "lon": [
          29,
          100
         ],
         "mode": "lines",
         "opacity": 0.0095,
         "type": "scattergeo"
        },
        {
         "hoverinfo": "none",
         "lat": [
          24.25,
          43.7333
         ],
         "line": {
          "color": "red",
          "width": 1.2
         },
         "lon": [
          -76,
          7.4
         ],
         "mode": "lines",
         "opacity": 0.0095,
         "type": "scattergeo"
        },
        {
         "hoverinfo": "none",
         "lat": [
          10,
          47
         ],
         "line": {
          "color": "red",
          "width": 1.2
         },
         "lon": [
          8,
          8
         ],
         "mode": "lines",
         "opacity": 0.0095,
         "type": "scattergeo"
        },
        {
         "hoverinfo": "none",
         "lat": [
          -29,
          22.25
         ],
         "line": {
          "color": "red",
          "width": 1.2
         },
         "lon": [
          24,
          114.1667
         ],
         "mode": "lines",
         "opacity": 0.00925,
         "type": "scattergeo"
        },
        {
         "hoverinfo": "none",
         "lat": [
          50.8333,
          22.25
         ],
         "line": {
          "color": "red",
          "width": 1.2
         },
         "lon": [
          4,
          114.1667
         ],
         "mode": "lines",
         "opacity": 0.00925,
         "type": "scattergeo"
        },
        {
         "hoverinfo": "none",
         "lat": [
          18.5,
          -33
         ],
         "line": {
          "color": "red",
          "width": 1.2
         },
         "lon": [
          -64.5,
          -56
         ],
         "mode": "lines",
         "opacity": 0.00925,
         "type": "scattergeo"
        },
        {
         "hoverinfo": "none",
         "lat": [
          9,
          1.3667
         ],
         "line": {
          "color": "red",
          "width": 1.2
         },
         "lon": [
          -80,
          103.8
         ],
         "mode": "lines",
         "opacity": 0.00925,
         "type": "scattergeo"
        },
        {
         "hoverinfo": "none",
         "lat": [
          40,
          -13.5833
         ],
         "line": {
          "color": "red",
          "width": 1.2
         },
         "lon": [
          -4,
          -172.3333
         ],
         "mode": "lines",
         "opacity": 0.00925,
         "type": "scattergeo"
        },
        {
         "hoverinfo": "none",
         "lat": [
          -34,
          9
         ],
         "line": {
          "color": "red",
          "width": 1.2
         },
         "lon": [
          -64,
          -80
         ],
         "mode": "lines",
         "opacity": 0.00925,
         "type": "scattergeo"
        },
        {
         "hoverinfo": "none",
         "lat": [
          43.7333,
          54.23
         ],
         "line": {
          "color": "red",
          "width": 1.2
         },
         "lon": [
          7.4,
          -4.55
         ],
         "mode": "lines",
         "opacity": 0.00925,
         "type": "scattergeo"
        },
        {
         "hoverinfo": "none",
         "lat": [
          46,
          22.25
         ],
         "line": {
          "color": "red",
          "width": 1.2
         },
         "lon": [
          105,
          114.1667
         ],
         "mode": "lines",
         "opacity": 0.00925,
         "type": "scattergeo"
        },
        {
         "hoverinfo": "none",
         "lat": [
          33.8333,
          24
         ],
         "line": {
          "color": "red",
          "width": 1.2
         },
         "lon": [
          35.8333,
          54
         ],
         "mode": "lines",
         "opacity": 0.00925,
         "type": "scattergeo"
        },
        {
         "hoverinfo": "none",
         "lat": [
          38,
          54.23
         ],
         "line": {
          "color": "red",
          "width": 1.2
         },
         "lon": [
          -97,
          -4.55
         ],
         "mode": "lines",
         "opacity": 0.009,
         "type": "scattergeo"
        },
        {
         "hoverinfo": "none",
         "lat": [
          49.21,
          38
         ],
         "line": {
          "color": "red",
          "width": 1.2
         },
         "lon": [
          -2.13,
          -97
         ],
         "mode": "lines",
         "opacity": 0.009,
         "type": "scattergeo"
        },
        {
         "hoverinfo": "none",
         "lat": [
          -27,
          49.21
         ],
         "line": {
          "color": "red",
          "width": 1.2
         },
         "lon": [
          133,
          -2.13
         ],
         "mode": "lines",
         "opacity": 0.009,
         "type": "scattergeo"
        },
        {
         "hoverinfo": "none",
         "lat": [
          10,
          47
         ],
         "line": {
          "color": "red",
          "width": 1.2
         },
         "lon": [
          -84,
          8
         ],
         "mode": "lines",
         "opacity": 0.009,
         "type": "scattergeo"
        },
        {
         "hoverinfo": "none",
         "lat": [
          43.7333,
          49.75
         ],
         "line": {
          "color": "red",
          "width": 1.2
         },
         "lon": [
          7.4,
          6.1667
         ],
         "mode": "lines",
         "opacity": 0.009,
         "type": "scattergeo"
        },
        {
         "hoverinfo": "none",
         "lat": [
          26,
          31
         ],
         "line": {
          "color": "red",
          "width": 1.2
         },
         "lon": [
          50.55,
          36
         ],
         "mode": "lines",
         "opacity": 0.009,
         "type": "scattergeo"
        },
        {
         "hoverinfo": "none",
         "lat": [
          49.21,
          9
         ],
         "line": {
          "color": "red",
          "width": 1.2
         },
         "lon": [
          -2.13,
          -80
         ],
         "mode": "lines",
         "opacity": 0.009,
         "type": "scattergeo"
        },
        {
         "hoverinfo": "none",
         "lat": [
          60,
          47.1667
         ],
         "line": {
          "color": "red",
          "width": 1.2
         },
         "lon": [
          100,
          9.5333
         ],
         "mode": "lines",
         "opacity": 0.009,
         "type": "scattergeo"
        },
        {
         "hoverinfo": "none",
         "lat": [
          49.75,
          39.5
         ],
         "line": {
          "color": "red",
          "width": 1.2
         },
         "lon": [
          6.1667,
          -8
         ],
         "mode": "lines",
         "opacity": 0.009,
         "type": "scattergeo"
        },
        {
         "hoverinfo": "none",
         "lat": [
          10,
          33.8333
         ],
         "line": {
          "color": "red",
          "width": 1.2
         },
         "lon": [
          8,
          35.8333
         ],
         "mode": "lines",
         "opacity": 0.009,
         "type": "scattergeo"
        },
        {
         "hoverinfo": "none",
         "lat": [
          10,
          31
         ],
         "line": {
          "color": "red",
          "width": 1.2
         },
         "lon": [
          8,
          36
         ],
         "mode": "lines",
         "opacity": 0.009,
         "type": "scattergeo"
        },
        {
         "hoverinfo": "none",
         "lat": [
          47.1667,
          24
         ],
         "line": {
          "color": "red",
          "width": 1.2
         },
         "lon": [
          9.5333,
          54
         ],
         "mode": "lines",
         "opacity": 0.00875,
         "type": "scattergeo"
        },
        {
         "hoverinfo": "none",
         "lat": [
          1.3667,
          15
         ],
         "line": {
          "color": "red",
          "width": 1.2
         },
         "lon": [
          103.8,
          100
         ],
         "mode": "lines",
         "opacity": 0.00875,
         "type": "scattergeo"
        },
        {
         "hoverinfo": "none",
         "lat": [
          19.5,
          54
         ],
         "line": {
          "color": "red",
          "width": 1.2
         },
         "lon": [
          -80.5,
          -2
         ],
         "mode": "lines",
         "opacity": 0.00875,
         "type": "scattergeo"
        },
        {
         "hoverinfo": "none",
         "lat": [
          40,
          -33
         ],
         "line": {
          "color": "red",
          "width": 1.2
         },
         "lon": [
          -4,
          -56
         ],
         "mode": "lines",
         "opacity": 0.00875,
         "type": "scattergeo"
        },
        {
         "hoverinfo": "none",
         "lat": [
          24,
          20
         ],
         "line": {
          "color": "red",
          "width": 1.2
         },
         "lon": [
          54,
          77
         ],
         "mode": "lines",
         "opacity": 0.00875,
         "type": "scattergeo"
        },
        {
         "hoverinfo": "none",
         "lat": [
          27,
          31
         ],
         "line": {
          "color": "red",
          "width": 1.2
         },
         "lon": [
          30,
          36
         ],
         "mode": "lines",
         "opacity": 0.00875,
         "type": "scattergeo"
        },
        {
         "hoverinfo": "none",
         "lat": [
          51,
          47
         ],
         "line": {
          "color": "red",
          "width": 1.2
         },
         "lon": [
          9,
          8
         ],
         "mode": "lines",
         "opacity": 0.00875,
         "type": "scattergeo"
        },
        {
         "hoverinfo": "none",
         "lat": [
          38,
          60
         ],
         "line": {
          "color": "red",
          "width": 1.2
         },
         "lon": [
          -97,
          100
         ],
         "mode": "lines",
         "opacity": 0.00875,
         "type": "scattergeo"
        },
        {
         "hoverinfo": "none",
         "lat": [
          46,
          1.3667
         ],
         "line": {
          "color": "red",
          "width": 1.2
         },
         "lon": [
          2,
          103.8
         ],
         "mode": "lines",
         "opacity": 0.00875,
         "type": "scattergeo"
        },
        {
         "hoverinfo": "none",
         "lat": [
          17.25,
          31.5
         ],
         "line": {
          "color": "red",
          "width": 1.2
         },
         "lon": [
          -88.75,
          34.75
         ],
         "mode": "lines",
         "opacity": 0.00875,
         "type": "scattergeo"
        },
        {
         "hoverinfo": "none",
         "lat": [
          49.21,
          35
         ],
         "line": {
          "color": "red",
          "width": 1.2
         },
         "lon": [
          -2.13,
          33
         ],
         "mode": "lines",
         "opacity": 0.0085,
         "type": "scattergeo"
        },
        {
         "hoverinfo": "none",
         "lat": [
          -10,
          22.25
         ],
         "line": {
          "color": "red",
          "width": 1.2
         },
         "lon": [
          -55,
          114.1667
         ],
         "mode": "lines",
         "opacity": 0.0085,
         "type": "scattergeo"
        },
        {
         "hoverinfo": "none",
         "lat": [
          47.1667,
          49.5
         ],
         "line": {
          "color": "red",
          "width": 1.2
         },
         "lon": [
          9.5333,
          -2.56
         ],
         "mode": "lines",
         "opacity": 0.0085,
         "type": "scattergeo"
        },
        {
         "hoverinfo": "none",
         "lat": [
          -4.5833,
          43.7333
         ],
         "line": {
          "color": "red",
          "width": 1.2
         },
         "lon": [
          55.6667,
          7.4
         ],
         "mode": "lines",
         "opacity": 0.0085,
         "type": "scattergeo"
        },
        {
         "hoverinfo": "none",
         "lat": [
          24,
          49.5
         ],
         "line": {
          "color": "red",
          "width": 1.2
         },
         "lon": [
          54,
          -2.56
         ],
         "mode": "lines",
         "opacity": 0.0085,
         "type": "scattergeo"
        },
        {
         "hoverinfo": "none",
         "lat": [
          13,
          1.3667
         ],
         "line": {
          "color": "red",
          "width": 1.2
         },
         "lon": [
          122,
          103.8
         ],
         "mode": "lines",
         "opacity": 0.0085,
         "type": "scattergeo"
        },
        {
         "hoverinfo": "none",
         "lat": [
          54.23,
          22.25
         ],
         "line": {
          "color": "red",
          "width": 1.2
         },
         "lon": [
          -4.55,
          114.1667
         ],
         "mode": "lines",
         "opacity": 0.0085,
         "type": "scattergeo"
        },
        {
         "hoverinfo": "none",
         "lat": [
          18.5,
          33.8333
         ],
         "line": {
          "color": "red",
          "width": 1.2
         },
         "lon": [
          -64.5,
          35.8333
         ],
         "mode": "lines",
         "opacity": 0.0085,
         "type": "scattergeo"
        },
        {
         "hoverinfo": "none",
         "lat": [
          49,
          35
         ],
         "line": {
          "color": "red",
          "width": 1.2
         },
         "lon": [
          32,
          33
         ],
         "mode": "lines",
         "opacity": 0.0085,
         "type": "scattergeo"
        },
        {
         "hoverinfo": "none",
         "lat": [
          10,
          22.25
         ],
         "line": {
          "color": "red",
          "width": 1.2
         },
         "lon": [
          49,
          114.1667
         ],
         "mode": "lines",
         "opacity": 0.00825,
         "type": "scattergeo"
        },
        {
         "hoverinfo": "none",
         "lat": [
          36.1833,
          54.23
         ],
         "line": {
          "color": "red",
          "width": 1.2
         },
         "lon": [
          -5.3667,
          -4.55
         ],
         "mode": "lines",
         "opacity": 0.00825,
         "type": "scattergeo"
        },
        {
         "hoverinfo": "none",
         "lat": [
          15,
          54
         ],
         "line": {
          "color": "red",
          "width": 1.2
         },
         "lon": [
          100,
          -2
         ],
         "mode": "lines",
         "opacity": 0.00825,
         "type": "scattergeo"
        },
        {
         "hoverinfo": "none",
         "lat": [
          53,
          54
         ],
         "line": {
          "color": "red",
          "width": 1.2
         },
         "lon": [
          -8,
          -2
         ],
         "mode": "lines",
         "opacity": 0.00825,
         "type": "scattergeo"
        },
        {
         "hoverinfo": "none",
         "lat": [
          49.5,
          36.1833
         ],
         "line": {
          "color": "red",
          "width": 1.2
         },
         "lon": [
          -2.56,
          -5.3667
         ],
         "mode": "lines",
         "opacity": 0.00825,
         "type": "scattergeo"
        },
        {
         "hoverinfo": "none",
         "lat": [
          22.25,
          49.75
         ],
         "line": {
          "color": "red",
          "width": 1.2
         },
         "lon": [
          114.1667,
          6.1667
         ],
         "mode": "lines",
         "opacity": 0.00825,
         "type": "scattergeo"
        },
        {
         "hoverinfo": "none",
         "lat": [
          36.1833,
          40
         ],
         "line": {
          "color": "red",
          "width": 1.2
         },
         "lon": [
          -5.3667,
          -4
         ],
         "mode": "lines",
         "opacity": 0.00825,
         "type": "scattergeo"
        },
        {
         "hoverinfo": "none",
         "lat": [
          -13.5833,
          54.23
         ],
         "line": {
          "color": "red",
          "width": 1.2
         },
         "lon": [
          -172.3333,
          -4.55
         ],
         "mode": "lines",
         "opacity": 0.00825,
         "type": "scattergeo"
        },
        {
         "hoverinfo": "none",
         "lat": [
          40,
          54
         ],
         "line": {
          "color": "red",
          "width": 1.2
         },
         "lon": [
          -4,
          -2
         ],
         "mode": "lines",
         "opacity": 0.00825,
         "type": "scattergeo"
        },
        {
         "hoverinfo": "none",
         "lat": [
          60,
          24
         ],
         "line": {
          "color": "red",
          "width": 1.2
         },
         "lon": [
          -95,
          54
         ],
         "mode": "lines",
         "opacity": 0.00825,
         "type": "scattergeo"
        },
        {
         "hoverinfo": "none",
         "lat": [
          38,
          43.7333
         ],
         "line": {
          "color": "red",
          "width": 1.2
         },
         "lon": [
          -97,
          7.4
         ],
         "mode": "lines",
         "opacity": 0.008,
         "type": "scattergeo"
        },
        {
         "hoverinfo": "none",
         "lat": [
          51,
          49.75
         ],
         "line": {
          "color": "red",
          "width": 1.2
         },
         "lon": [
          9,
          6.1667
         ],
         "mode": "lines",
         "opacity": 0.008,
         "type": "scattergeo"
        },
        {
         "hoverinfo": "none",
         "lat": [
          -20.2833,
          49.21
         ],
         "line": {
          "color": "red",
          "width": 1.2
         },
         "lon": [
          57.55,
          -2.13
         ],
         "mode": "lines",
         "opacity": 0.008,
         "type": "scattergeo"
        },
        {
         "hoverinfo": "none",
         "lat": [
          38,
          15.5
         ],
         "line": {
          "color": "red",
          "width": 1.2
         },
         "lon": [
          -97,
          -90.25
         ],
         "mode": "lines",
         "opacity": 0.008,
         "type": "scattergeo"
        },
        {
         "hoverinfo": "none",
         "lat": [
          4.5,
          1.3667
         ],
         "line": {
          "color": "red",
          "width": 1.2
         },
         "lon": [
          114.6667,
          103.8
         ],
         "mode": "lines",
         "opacity": 0.008,
         "type": "scattergeo"
        },
        {
         "hoverinfo": "none",
         "lat": [
          18.5,
          40
         ],
         "line": {
          "color": "red",
          "width": 1.2
         },
         "lon": [
          -64.5,
          -4
         ],
         "mode": "lines",
         "opacity": 0.008,
         "type": "scattergeo"
        },
        {
         "hoverinfo": "none",
         "lat": [
          31.5,
          49.21
         ],
         "line": {
          "color": "red",
          "width": 1.2
         },
         "lon": [
          34.75,
          -2.13
         ],
         "mode": "lines",
         "opacity": 0.008,
         "type": "scattergeo"
        },
        {
         "hoverinfo": "none",
         "lat": [
          25,
          24
         ],
         "line": {
          "color": "red",
          "width": 1.2
         },
         "lon": [
          45,
          54
         ],
         "mode": "lines",
         "opacity": 0.008,
         "type": "scattergeo"
        },
        {
         "hoverinfo": "none",
         "lat": [
          35,
          54
         ],
         "line": {
          "color": "red",
          "width": 1.2
         },
         "lon": [
          105,
          -2
         ],
         "mode": "lines",
         "opacity": 0.00775,
         "type": "scattergeo"
        },
        {
         "hoverinfo": "none",
         "lat": [
          -10,
          24.25
         ],
         "line": {
          "color": "red",
          "width": 1.2
         },
         "lon": [
          -55,
          -76
         ],
         "mode": "lines",
         "opacity": 0.00775,
         "type": "scattergeo"
        },
        {
         "hoverinfo": "none",
         "lat": [
          24.25,
          9
         ],
         "line": {
          "color": "red",
          "width": 1.2
         },
         "lon": [
          -76,
          -80
         ],
         "mode": "lines",
         "opacity": 0.00775,
         "type": "scattergeo"
        },
        {
         "hoverinfo": "none",
         "lat": [
          53,
          54.23
         ],
         "line": {
          "color": "red",
          "width": 1.2
         },
         "lon": [
          -8,
          -4.55
         ],
         "mode": "lines",
         "opacity": 0.00775,
         "type": "scattergeo"
        },
        {
         "hoverinfo": "none",
         "lat": [
          24,
          38
         ],
         "line": {
          "color": "red",
          "width": 1.2
         },
         "lon": [
          54,
          -97
         ],
         "mode": "lines",
         "opacity": 0.00775,
         "type": "scattergeo"
        },
        {
         "hoverinfo": "none",
         "lat": [
          31,
          54
         ],
         "line": {
          "color": "red",
          "width": 1.2
         },
         "lon": [
          36,
          -2
         ],
         "mode": "lines",
         "opacity": 0.00775,
         "type": "scattergeo"
        },
        {
         "hoverinfo": "none",
         "lat": [
          1,
          49.21
         ],
         "line": {
          "color": "red",
          "width": 1.2
         },
         "lon": [
          38,
          -2.13
         ],
         "mode": "lines",
         "opacity": 0.00775,
         "type": "scattergeo"
        },
        {
         "hoverinfo": "none",
         "lat": [
          42.8333,
          35.8333
         ],
         "line": {
          "color": "red",
          "width": 1.2
         },
         "lon": [
          12.8333,
          14.5833
         ],
         "mode": "lines",
         "opacity": 0.00775,
         "type": "scattergeo"
        },
        {
         "hoverinfo": "none",
         "lat": [
          35,
          47.1667
         ],
         "line": {
          "color": "red",
          "width": 1.2
         },
         "lon": [
          33,
          9.5333
         ],
         "mode": "lines",
         "opacity": 0.00775,
         "type": "scattergeo"
        },
        {
         "hoverinfo": "none",
         "lat": [
          24.25,
          54.23
         ],
         "line": {
          "color": "red",
          "width": 1.2
         },
         "lon": [
          -76,
          -4.55
         ],
         "mode": "lines",
         "opacity": 0.0075,
         "type": "scattergeo"
        },
        {
         "hoverinfo": "none",
         "lat": [
          -13.5833,
          17.25
         ],
         "line": {
          "color": "red",
          "width": 1.2
         },
         "lon": [
          -172.3333,
          -88.75
         ],
         "mode": "lines",
         "opacity": 0.0075,
         "type": "scattergeo"
        },
        {
         "hoverinfo": "none",
         "lat": [
          43.7333,
          54
         ],
         "line": {
          "color": "red",
          "width": 1.2
         },
         "lon": [
          7.4,
          -2
         ],
         "mode": "lines",
         "opacity": 0.0075,
         "type": "scattergeo"
        },
        {
         "hoverinfo": "none",
         "lat": [
          49.21,
          49.75
         ],
         "line": {
          "color": "red",
          "width": 1.2
         },
         "lon": [
          -2.13,
          6.1667
         ],
         "mode": "lines",
         "opacity": 0.0075,
         "type": "scattergeo"
        },
        {
         "hoverinfo": "none",
         "lat": [
          17.25,
          24
         ],
         "line": {
          "color": "red",
          "width": 1.2
         },
         "lon": [
          -88.75,
          54
         ],
         "mode": "lines",
         "opacity": 0.0075,
         "type": "scattergeo"
        },
        {
         "hoverinfo": "none",
         "lat": [
          47,
          39.5
         ],
         "line": {
          "color": "red",
          "width": 1.2
         },
         "lon": [
          8,
          -8
         ],
         "mode": "lines",
         "opacity": 0.0075,
         "type": "scattergeo"
        },
        {
         "hoverinfo": "none",
         "lat": [
          35,
          22.25
         ],
         "line": {
          "color": "red",
          "width": 1.2
         },
         "lon": [
          33,
          114.1667
         ],
         "mode": "lines",
         "opacity": 0.0075,
         "type": "scattergeo"
        },
        {
         "hoverinfo": "none",
         "lat": [
          9,
          8
         ],
         "line": {
          "color": "red",
          "width": 1.2
         },
         "lon": [
          -80,
          -66
         ],
         "mode": "lines",
         "opacity": 0.00725,
         "type": "scattergeo"
        },
        {
         "hoverinfo": "none",
         "lat": [
          40,
          9
         ],
         "line": {
          "color": "red",
          "width": 1.2
         },
         "lon": [
          -4,
          -80
         ],
         "mode": "lines",
         "opacity": 0.00725,
         "type": "scattergeo"
        },
        {
         "hoverinfo": "none",
         "lat": [
          47.3333,
          54.23
         ],
         "line": {
          "color": "red",
          "width": 1.2
         },
         "lon": [
          13.3333,
          -4.55
         ],
         "mode": "lines",
         "opacity": 0.00725,
         "type": "scattergeo"
        },
        {
         "hoverinfo": "none",
         "lat": [
          24,
          -20.2833
         ],
         "line": {
          "color": "red",
          "width": 1.2
         },
         "lon": [
          54,
          57.55
         ],
         "mode": "lines",
         "opacity": 0.00725,
         "type": "scattergeo"
        },
        {
         "hoverinfo": "none",
         "lat": [
          39,
          -4.5833
         ],
         "line": {
          "color": "red",
          "width": 1.2
         },
         "lon": [
          35,
          55.6667
         ],
         "mode": "lines",
         "opacity": 0.00725,
         "type": "scattergeo"
        },
        {
         "hoverinfo": "none",
         "lat": [
          -34,
          24.25
         ],
         "line": {
          "color": "red",
          "width": 1.2
         },
         "lon": [
          -64,
          -76
         ],
         "mode": "lines",
         "opacity": 0.00725,
         "type": "scattergeo"
        },
        {
         "hoverinfo": "none",
         "lat": [
          25.5,
          49.21
         ],
         "line": {
          "color": "red",
          "width": 1.2
         },
         "lon": [
          51.25,
          -2.13
         ],
         "mode": "lines",
         "opacity": 0.00725,
         "type": "scattergeo"
        },
        {
         "hoverinfo": "none",
         "lat": [
          8,
          4
         ],
         "line": {
          "color": "red",
          "width": 1.2
         },
         "lon": [
          -66,
          -72
         ],
         "mode": "lines",
         "opacity": 0.00725,
         "type": "scattergeo"
        },
        {
         "hoverinfo": "none",
         "lat": [
          49.75,
          18.5
         ],
         "line": {
          "color": "red",
          "width": 1.2
         },
         "lon": [
          6.1667,
          -64.5
         ],
         "mode": "lines",
         "opacity": 0.007,
         "type": "scattergeo"
        },
        {
         "hoverinfo": "none",
         "lat": [
          47,
          38
         ],
         "line": {
          "color": "red",
          "width": 1.2
         },
         "lon": [
          8,
          -97
         ],
         "mode": "lines",
         "opacity": 0.007,
         "type": "scattergeo"
        },
        {
         "hoverinfo": "none",
         "lat": [
          16,
          1.3667
         ],
         "line": {
          "color": "red",
          "width": 1.2
         },
         "lon": [
          106,
          103.8
         ],
         "mode": "lines",
         "opacity": 0.007,
         "type": "scattergeo"
        },
        {
         "hoverinfo": "none",
         "lat": [
          39,
          54
         ],
         "line": {
          "color": "red",
          "width": 1.2
         },
         "lon": [
          35,
          -2
         ],
         "mode": "lines",
         "opacity": 0.007,
         "type": "scattergeo"
        },
        {
         "hoverinfo": "none",
         "lat": [
          40,
          42.5
         ],
         "line": {
          "color": "red",
          "width": 1.2
         },
         "lon": [
          -4,
          1.6
         ],
         "mode": "lines",
         "opacity": 0.007,
         "type": "scattergeo"
        },
        {
         "hoverinfo": "none",
         "lat": [
          36,
          1.3667
         ],
         "line": {
          "color": "red",
          "width": 1.2
         },
         "lon": [
          138,
          103.8
         ],
         "mode": "lines",
         "opacity": 0.007,
         "type": "scattergeo"
        },
        {
         "hoverinfo": "none",
         "lat": [
          39,
          22.25
         ],
         "line": {
          "color": "red",
          "width": 1.2
         },
         "lon": [
          35,
          114.1667
         ],
         "mode": "lines",
         "opacity": 0.007,
         "type": "scattergeo"
        },
        {
         "hoverinfo": "none",
         "lat": [
          22.25,
          23.5
         ],
         "line": {
          "color": "red",
          "width": 1.2
         },
         "lon": [
          114.1667,
          121
         ],
         "mode": "lines",
         "opacity": 0.007,
         "type": "scattergeo"
        },
        {
         "hoverinfo": "none",
         "lat": [
          57,
          47
         ],
         "line": {
          "color": "red",
          "width": 1.2
         },
         "lon": [
          25,
          8
         ],
         "mode": "lines",
         "opacity": 0.007,
         "type": "scattergeo"
        },
        {
         "hoverinfo": "none",
         "lat": [
          20,
          49.21
         ],
         "line": {
          "color": "red",
          "width": 1.2
         },
         "lon": [
          77,
          -2.13
         ],
         "mode": "lines",
         "opacity": 0.007,
         "type": "scattergeo"
        },
        {
         "hoverinfo": "none",
         "lat": [
          15,
          38
         ],
         "line": {
          "color": "red",
          "width": 1.2
         },
         "lon": [
          100,
          -97
         ],
         "mode": "lines",
         "opacity": 0.007,
         "type": "scattergeo"
        },
        {
         "hoverinfo": "none",
         "lat": [
          -29,
          24
         ],
         "line": {
          "color": "red",
          "width": 1.2
         },
         "lon": [
          24,
          54
         ],
         "mode": "lines",
         "opacity": 0.007,
         "type": "scattergeo"
        },
        {
         "hoverinfo": "none",
         "lat": [
          37,
          1.3667
         ],
         "line": {
          "color": "red",
          "width": 1.2
         },
         "lon": [
          127.5,
          103.8
         ],
         "mode": "lines",
         "opacity": 0.007,
         "type": "scattergeo"
        },
        {
         "hoverinfo": "none",
         "lat": [
          2.5,
          10
         ],
         "line": {
          "color": "red",
          "width": 1.2
         },
         "lon": [
          112.5,
          -84
         ],
         "mode": "lines",
         "opacity": 0.007,
         "type": "scattergeo"
        },
        {
         "hoverinfo": "none",
         "lat": [
          49.5,
          43.7333
         ],
         "line": {
          "color": "red",
          "width": 1.2
         },
         "lon": [
          -2.56,
          7.4
         ],
         "mode": "lines",
         "opacity": 0.007,
         "type": "scattergeo"
        },
        {
         "hoverinfo": "none",
         "lat": [
          1.3667,
          35
         ],
         "line": {
          "color": "red",
          "width": 1.2
         },
         "lon": [
          103.8,
          105
         ],
         "mode": "lines",
         "opacity": 0.00675,
         "type": "scattergeo"
        },
        {
         "hoverinfo": "none",
         "lat": [
          47.1667,
          40
         ],
         "line": {
          "color": "red",
          "width": 1.2
         },
         "lon": [
          9.5333,
          -4
         ],
         "mode": "lines",
         "opacity": 0.00675,
         "type": "scattergeo"
        },
        {
         "hoverinfo": "none",
         "lat": [
          35,
          59
         ],
         "line": {
          "color": "red",
          "width": 1.2
         },
         "lon": [
          33,
          26
         ],
         "mode": "lines",
         "opacity": 0.00675,
         "type": "scattergeo"
        },
        {
         "hoverinfo": "none",
         "lat": [
          52,
          22.25
         ],
         "line": {
          "color": "red",
          "width": 1.2
         },
         "lon": [
          20,
          114.1667
         ],
         "mode": "lines",
         "opacity": 0.00675,
         "type": "scattergeo"
        },
        {
         "hoverinfo": "none",
         "lat": [
          36.1833,
          49.5
         ],
         "line": {
          "color": "red",
          "width": 1.2
         },
         "lon": [
          -5.3667,
          -2.56
         ],
         "mode": "lines",
         "opacity": 0.00675,
         "type": "scattergeo"
        },
        {
         "hoverinfo": "none",
         "lat": [
          15.4167,
          19
         ],
         "line": {
          "color": "red",
          "width": 1.2
         },
         "lon": [
          -61.3333,
          -70.6667
         ],
         "mode": "lines",
         "opacity": 0.00675,
         "type": "scattergeo"
        },
        {
         "hoverinfo": "none",
         "lat": [
          49.5,
          24.25
         ],
         "line": {
          "color": "red",
          "width": 1.2
         },
         "lon": [
          -2.56,
          -76
         ],
         "mode": "lines",
         "opacity": 0.00675,
         "type": "scattergeo"
        },
        {
         "hoverinfo": "none",
         "lat": [
          60,
          49.5
         ],
         "line": {
          "color": "red",
          "width": 1.2
         },
         "lon": [
          -95,
          -2.56
         ],
         "mode": "lines",
         "opacity": 0.00675,
         "type": "scattergeo"
        },
        {
         "hoverinfo": "none",
         "lat": [
          41,
          57
         ],
         "line": {
          "color": "red",
          "width": 1.2
         },
         "lon": [
          64,
          25
         ],
         "mode": "lines",
         "opacity": 0.00675,
         "type": "scattergeo"
        },
        {
         "hoverinfo": "none",
         "lat": [
          -4.5833,
          -2
         ],
         "line": {
          "color": "red",
          "width": 1.2
         },
         "lon": [
          55.6667,
          -77.5
         ],
         "mode": "lines",
         "opacity": 0.00675,
         "type": "scattergeo"
        },
        {
         "hoverinfo": "none",
         "lat": [
          25,
          49.5
         ],
         "line": {
          "color": "red",
          "width": 1.2
         },
         "lon": [
          45,
          -2.56
         ],
         "mode": "lines",
         "opacity": 0.00675,
         "type": "scattergeo"
        },
        {
         "hoverinfo": "none",
         "lat": [
          -4.5833,
          15
         ],
         "line": {
          "color": "red",
          "width": 1.2
         },
         "lon": [
          55.6667,
          100
         ],
         "mode": "lines",
         "opacity": 0.00675,
         "type": "scattergeo"
        },
        {
         "hoverinfo": "none",
         "lat": [
          32.3333,
          49.5
         ],
         "line": {
          "color": "red",
          "width": 1.2
         },
         "lon": [
          -64.75,
          -2.56
         ],
         "mode": "lines",
         "opacity": 0.00675,
         "type": "scattergeo"
        },
        {
         "hoverinfo": "none",
         "lat": [
          38,
          36.1833
         ],
         "line": {
          "color": "red",
          "width": 1.2
         },
         "lon": [
          -97,
          -5.3667
         ],
         "mode": "lines",
         "opacity": 0.00675,
         "type": "scattergeo"
        },
        {
         "hoverinfo": "none",
         "lat": [
          -27,
          15
         ],
         "line": {
          "color": "red",
          "width": 1.2
         },
         "lon": [
          133,
          100
         ],
         "mode": "lines",
         "opacity": 0.00675,
         "type": "scattergeo"
        },
        {
         "hoverinfo": "none",
         "lat": [
          -27,
          54.23
         ],
         "line": {
          "color": "red",
          "width": 1.2
         },
         "lon": [
          133,
          -4.55
         ],
         "mode": "lines",
         "opacity": 0.00675,
         "type": "scattergeo"
        },
        {
         "hoverinfo": "none",
         "lat": [
          -4.5833,
          -10
         ],
         "line": {
          "color": "red",
          "width": 1.2
         },
         "lon": [
          55.6667,
          -55
         ],
         "mode": "lines",
         "opacity": 0.00675,
         "type": "scattergeo"
        },
        {
         "hoverinfo": "none",
         "lat": [
          9,
          35.8333
         ],
         "line": {
          "color": "red",
          "width": 1.2
         },
         "lon": [
          -80,
          14.5833
         ],
         "mode": "lines",
         "opacity": 0.00675,
         "type": "scattergeo"
        },
        {
         "hoverinfo": "none",
         "lat": [
          9,
          33.8333
         ],
         "line": {
          "color": "red",
          "width": 1.2
         },
         "lon": [
          -80,
          35.8333
         ],
         "mode": "lines",
         "opacity": 0.00675,
         "type": "scattergeo"
        },
        {
         "hoverinfo": "none",
         "lat": [
          43.7333,
          22.25
         ],
         "line": {
          "color": "red",
          "width": 1.2
         },
         "lon": [
          7.4,
          114.1667
         ],
         "mode": "lines",
         "opacity": 0.00675,
         "type": "scattergeo"
        },
        {
         "hoverinfo": "none",
         "lat": [
          39,
          49.21
         ],
         "line": {
          "color": "red",
          "width": 1.2
         },
         "lon": [
          35,
          -2.13
         ],
         "mode": "lines",
         "opacity": 0.00675,
         "type": "scattergeo"
        },
        {
         "hoverinfo": "none",
         "lat": [
          19,
          38
         ],
         "line": {
          "color": "red",
          "width": 1.2
         },
         "lon": [
          -70.6667,
          -97
         ],
         "mode": "lines",
         "opacity": 0.0065,
         "type": "scattergeo"
        },
        {
         "hoverinfo": "none",
         "lat": [
          18.5,
          39.5
         ],
         "line": {
          "color": "red",
          "width": 1.2
         },
         "lon": [
          -64.5,
          -8
         ],
         "mode": "lines",
         "opacity": 0.0065,
         "type": "scattergeo"
        },
        {
         "hoverinfo": "none",
         "lat": [
          9,
          49.5
         ],
         "line": {
          "color": "red",
          "width": 1.2
         },
         "lon": [
          -80,
          -2.56
         ],
         "mode": "lines",
         "opacity": 0.0065,
         "type": "scattergeo"
        },
        {
         "hoverinfo": "none",
         "lat": [
          -27,
          49
         ],
         "line": {
          "color": "red",
          "width": 1.2
         },
         "lon": [
          133,
          32
         ],
         "mode": "lines",
         "opacity": 0.0065,
         "type": "scattergeo"
        },
        {
         "hoverinfo": "none",
         "lat": [
          -19.0333,
          22.25
         ],
         "line": {
          "color": "red",
          "width": 1.2
         },
         "lon": [
          -169.8667,
          114.1667
         ],
         "mode": "lines",
         "opacity": 0.0065,
         "type": "scattergeo"
        },
        {
         "hoverinfo": "none",
         "lat": [
          15,
          47
         ],
         "line": {
          "color": "red",
          "width": 1.2
         },
         "lon": [
          100,
          8
         ],
         "mode": "lines",
         "opacity": 0.0065,
         "type": "scattergeo"
        },
        {
         "hoverinfo": "none",
         "lat": [
          47.1667,
          49.21
         ],
         "line": {
          "color": "red",
          "width": 1.2
         },
         "lon": [
          9.5333,
          -2.13
         ],
         "mode": "lines",
         "opacity": 0.0065,
         "type": "scattergeo"
        },
        {
         "hoverinfo": "none",
         "lat": [
          62,
          49.75
         ],
         "line": {
          "color": "red",
          "width": 1.2
         },
         "lon": [
          10,
          6.1667
         ],
         "mode": "lines",
         "opacity": 0.0065,
         "type": "scattergeo"
        },
        {
         "hoverinfo": "none",
         "lat": [
          -41,
          54.23
         ],
         "line": {
          "color": "red",
          "width": 1.2
         },
         "lon": [
          174,
          -4.55
         ],
         "mode": "lines",
         "opacity": 0.0065,
         "type": "scattergeo"
        },
        {
         "hoverinfo": "none",
         "lat": [
          -27,
          47
         ],
         "line": {
          "color": "red",
          "width": 1.2
         },
         "lon": [
          133,
          8
         ],
         "mode": "lines",
         "opacity": 0.0065,
         "type": "scattergeo"
        },
        {
         "hoverinfo": "none",
         "lat": [
          42.8333,
          24
         ],
         "line": {
          "color": "red",
          "width": 1.2
         },
         "lon": [
          12.8333,
          54
         ],
         "mode": "lines",
         "opacity": 0.0065,
         "type": "scattergeo"
        },
        {
         "hoverinfo": "none",
         "lat": [
          22.25,
          49.5
         ],
         "line": {
          "color": "red",
          "width": 1.2
         },
         "lon": [
          114.1667,
          -2.56
         ],
         "mode": "lines",
         "opacity": 0.0065,
         "type": "scattergeo"
        },
        {
         "hoverinfo": "none",
         "lat": [
          -13.5833,
          54
         ],
         "line": {
          "color": "red",
          "width": 1.2
         },
         "lon": [
          -172.3333,
          -2
         ],
         "mode": "lines",
         "opacity": 0.0065,
         "type": "scattergeo"
        },
        {
         "hoverinfo": "none",
         "lat": [
          54,
          39
         ],
         "line": {
          "color": "red",
          "width": 1.2
         },
         "lon": [
          -2,
          22
         ],
         "mode": "lines",
         "opacity": 0.0065,
         "type": "scattergeo"
        },
        {
         "hoverinfo": "none",
         "lat": [
          47,
          35
         ],
         "line": {
          "color": "red",
          "width": 1.2
         },
         "lon": [
          8,
          33
         ],
         "mode": "lines",
         "opacity": 0.0065,
         "type": "scattergeo"
        },
        {
         "hoverinfo": "none",
         "lat": [
          49.5,
          38
         ],
         "line": {
          "color": "red",
          "width": 1.2
         },
         "lon": [
          -2.56,
          -97
         ],
         "mode": "lines",
         "opacity": 0.0065,
         "type": "scattergeo"
        },
        {
         "hoverinfo": "none",
         "lat": [
          39,
          49.75
         ],
         "line": {
          "color": "red",
          "width": 1.2
         },
         "lon": [
          22,
          6.1667
         ],
         "mode": "lines",
         "opacity": 0.0065,
         "type": "scattergeo"
        },
        {
         "hoverinfo": "none",
         "lat": [
          35,
          49.75
         ],
         "line": {
          "color": "red",
          "width": 1.2
         },
         "lon": [
          33,
          6.1667
         ],
         "mode": "lines",
         "opacity": 0.00625,
         "type": "scattergeo"
        },
        {
         "hoverinfo": "none",
         "lat": [
          -12.5,
          47
         ],
         "line": {
          "color": "red",
          "width": 1.2
         },
         "lon": [
          18.5,
          8
         ],
         "mode": "lines",
         "opacity": 0.00625,
         "type": "scattergeo"
        },
        {
         "hoverinfo": "none",
         "lat": [
          18.5,
          4
         ],
         "line": {
          "color": "red",
          "width": 1.2
         },
         "lon": [
          -64.5,
          -72
         ],
         "mode": "lines",
         "opacity": 0.00625,
         "type": "scattergeo"
        },
        {
         "hoverinfo": "none",
         "lat": [
          60,
          1.3667
         ],
         "line": {
          "color": "red",
          "width": 1.2
         },
         "lon": [
          -95,
          103.8
         ],
         "mode": "lines",
         "opacity": 0.00625,
         "type": "scattergeo"
        },
        {
         "hoverinfo": "none",
         "lat": [
          24,
          60
         ],
         "line": {
          "color": "red",
          "width": 1.2
         },
         "lon": [
          54,
          100
         ],
         "mode": "lines",
         "opacity": 0.00625,
         "type": "scattergeo"
        },
        {
         "hoverinfo": "none",
         "lat": [
          49.21,
          53
         ],
         "line": {
          "color": "red",
          "width": 1.2
         },
         "lon": [
          -2.13,
          -8
         ],
         "mode": "lines",
         "opacity": 0.00625,
         "type": "scattergeo"
        },
        {
         "hoverinfo": "none",
         "lat": [
          46,
          33.8333
         ],
         "line": {
          "color": "red",
          "width": 1.2
         },
         "lon": [
          2,
          35.8333
         ],
         "mode": "lines",
         "opacity": 0.00625,
         "type": "scattergeo"
        },
        {
         "hoverinfo": "none",
         "lat": [
          18.5,
          19
         ],
         "line": {
          "color": "red",
          "width": 1.2
         },
         "lon": [
          -64.5,
          -70.6667
         ],
         "mode": "lines",
         "opacity": 0.00625,
         "type": "scattergeo"
        },
        {
         "hoverinfo": "none",
         "lat": [
          49.5,
          1.3667
         ],
         "line": {
          "color": "red",
          "width": 1.2
         },
         "lon": [
          -2.56,
          103.8
         ],
         "mode": "lines",
         "opacity": 0.00625,
         "type": "scattergeo"
        },
        {
         "hoverinfo": "none",
         "lat": [
          9,
          19
         ],
         "line": {
          "color": "red",
          "width": 1.2
         },
         "lon": [
          -80,
          -70.6667
         ],
         "mode": "lines",
         "opacity": 0.00625,
         "type": "scattergeo"
        },
        {
         "hoverinfo": "none",
         "lat": [
          17.3333,
          22.25
         ],
         "line": {
          "color": "red",
          "width": 1.2
         },
         "lon": [
          -62.75,
          114.1667
         ],
         "mode": "lines",
         "opacity": 0.00625,
         "type": "scattergeo"
        },
        {
         "hoverinfo": "none",
         "lat": [
          -4.5833,
          -13.5833
         ],
         "line": {
          "color": "red",
          "width": 1.2
         },
         "lon": [
          55.6667,
          -172.3333
         ],
         "mode": "lines",
         "opacity": 0.006,
         "type": "scattergeo"
        },
        {
         "hoverinfo": "none",
         "lat": [
          -26.5,
          49.5
         ],
         "line": {
          "color": "red",
          "width": 1.2
         },
         "lon": [
          31.5,
          -2.56
         ],
         "mode": "lines",
         "opacity": 0.006,
         "type": "scattergeo"
        },
        {
         "hoverinfo": "none",
         "lat": [
          62,
          47
         ],
         "line": {
          "color": "red",
          "width": 1.2
         },
         "lon": [
          15,
          8
         ],
         "mode": "lines",
         "opacity": 0.006,
         "type": "scattergeo"
        },
        {
         "hoverinfo": "none",
         "lat": [
          17.25,
          -4.5833
         ],
         "line": {
          "color": "red",
          "width": 1.2
         },
         "lon": [
          -88.75,
          55.6667
         ],
         "mode": "lines",
         "opacity": 0.006,
         "type": "scattergeo"
        },
        {
         "hoverinfo": "none",
         "lat": [
          6.5,
          54.23
         ],
         "line": {
          "color": "red",
          "width": 1.2
         },
         "lon": [
          -9.5,
          -4.55
         ],
         "mode": "lines",
         "opacity": 0.006,
         "type": "scattergeo"
        },
        {
         "hoverinfo": "none",
         "lat": [
          18.5,
          47
         ],
         "line": {
          "color": "red",
          "width": 1.2
         },
         "lon": [
          -64.5,
          20
         ],
         "mode": "lines",
         "opacity": 0.006,
         "type": "scattergeo"
        },
        {
         "hoverinfo": "none",
         "lat": [
          31.5,
          24
         ],
         "line": {
          "color": "red",
          "width": 1.2
         },
         "lon": [
          34.75,
          54
         ],
         "mode": "lines",
         "opacity": 0.006,
         "type": "scattergeo"
        },
        {
         "hoverinfo": "none",
         "lat": [
          -41,
          38
         ],
         "line": {
          "color": "red",
          "width": 1.2
         },
         "lon": [
          174,
          -97
         ],
         "mode": "lines",
         "opacity": 0.006,
         "type": "scattergeo"
        },
        {
         "hoverinfo": "none",
         "lat": [
          54,
          35
         ],
         "line": {
          "color": "red",
          "width": 1.2
         },
         "lon": [
          -2,
          105
         ],
         "mode": "lines",
         "opacity": 0.006,
         "type": "scattergeo"
        },
        {
         "hoverinfo": "none",
         "lat": [
          9,
          36.1833
         ],
         "line": {
          "color": "red",
          "width": 1.2
         },
         "lon": [
          -80,
          -5.3667
         ],
         "mode": "lines",
         "opacity": 0.006,
         "type": "scattergeo"
        },
        {
         "hoverinfo": "none",
         "lat": [
          40,
          24.25
         ],
         "line": {
          "color": "red",
          "width": 1.2
         },
         "lon": [
          -4,
          -76
         ],
         "mode": "lines",
         "opacity": 0.006,
         "type": "scattergeo"
        },
        {
         "hoverinfo": "none",
         "lat": [
          43,
          35
         ],
         "line": {
          "color": "red",
          "width": 1.2
         },
         "lon": [
          25,
          33
         ],
         "mode": "lines",
         "opacity": 0.00575,
         "type": "scattergeo"
        },
        {
         "hoverinfo": "none",
         "lat": [
          38,
          23.5
         ],
         "line": {
          "color": "red",
          "width": 1.2
         },
         "lon": [
          -97,
          121
         ],
         "mode": "lines",
         "opacity": 0.00575,
         "type": "scattergeo"
        },
        {
         "hoverinfo": "none",
         "lat": [
          47.1667,
          49.75
         ],
         "line": {
          "color": "red",
          "width": 1.2
         },
         "lon": [
          9.5333,
          6.1667
         ],
         "mode": "lines",
         "opacity": 0.00575,
         "type": "scattergeo"
        },
        {
         "hoverinfo": "none",
         "lat": [
          18.25,
          22.25
         ],
         "line": {
          "color": "red",
          "width": 1.2
         },
         "lon": [
          -63.1667,
          114.1667
         ],
         "mode": "lines",
         "opacity": 0.00575,
         "type": "scattergeo"
        },
        {
         "hoverinfo": "none",
         "lat": [
          17.3333,
          1.3667
         ],
         "line": {
          "color": "red",
          "width": 1.2
         },
         "lon": [
          -62.75,
          103.8
         ],
         "mode": "lines",
         "opacity": 0.00575,
         "type": "scattergeo"
        },
        {
         "hoverinfo": "none",
         "lat": [
          22.25,
          60
         ],
         "line": {
          "color": "red",
          "width": 1.2
         },
         "lon": [
          114.1667,
          100
         ],
         "mode": "lines",
         "opacity": 0.00575,
         "type": "scattergeo"
        },
        {
         "hoverinfo": "none",
         "lat": [
          25,
          47
         ],
         "line": {
          "color": "red",
          "width": 1.2
         },
         "lon": [
          17,
          8
         ],
         "mode": "lines",
         "opacity": 0.00575,
         "type": "scattergeo"
        },
        {
         "hoverinfo": "none",
         "lat": [
          17.05,
          -4.5833
         ],
         "line": {
          "color": "red",
          "width": 1.2
         },
         "lon": [
          -61.8,
          55.6667
         ],
         "mode": "lines",
         "opacity": 0.00575,
         "type": "scattergeo"
        },
        {
         "hoverinfo": "none",
         "lat": [
          47,
          31.5
         ],
         "line": {
          "color": "red",
          "width": 1.2
         },
         "lon": [
          8,
          34.75
         ],
         "mode": "lines",
         "opacity": 0.00575,
         "type": "scattergeo"
        },
        {
         "hoverinfo": "none",
         "lat": [
          36.1833,
          49.75
         ],
         "line": {
          "color": "red",
          "width": 1.2
         },
         "lon": [
          -5.3667,
          6.1667
         ],
         "mode": "lines",
         "opacity": 0.00575,
         "type": "scattergeo"
        },
        {
         "hoverinfo": "none",
         "lat": [
          43.7333,
          49.5
         ],
         "line": {
          "color": "red",
          "width": 1.2
         },
         "lon": [
          7.4,
          -2.56
         ],
         "mode": "lines",
         "opacity": 0.00575,
         "type": "scattergeo"
        },
        {
         "hoverinfo": "none",
         "lat": [
          23,
          47
         ],
         "line": {
          "color": "red",
          "width": 1.2
         },
         "lon": [
          -102,
          8
         ],
         "mode": "lines",
         "opacity": 0.00575,
         "type": "scattergeo"
        },
        {
         "hoverinfo": "none",
         "lat": [
          46,
          49.5
         ],
         "line": {
          "color": "red",
          "width": 1.2
         },
         "lon": [
          2,
          -2.56
         ],
         "mode": "lines",
         "opacity": 0.00575,
         "type": "scattergeo"
        },
        {
         "hoverinfo": "none",
         "lat": [
          13,
          49.21
         ],
         "line": {
          "color": "red",
          "width": 1.2
         },
         "lon": [
          122,
          -2.13
         ],
         "mode": "lines",
         "opacity": 0.0055,
         "type": "scattergeo"
        },
        {
         "hoverinfo": "none",
         "lat": [
          43,
          47
         ],
         "line": {
          "color": "red",
          "width": 1.2
         },
         "lon": [
          25,
          8
         ],
         "mode": "lines",
         "opacity": 0.0055,
         "type": "scattergeo"
        },
        {
         "hoverinfo": "none",
         "lat": [
          15,
          22.25
         ],
         "line": {
          "color": "red",
          "width": 1.2
         },
         "lon": [
          19,
          114.1667
         ],
         "mode": "lines",
         "opacity": 0.0055,
         "type": "scattergeo"
        },
        {
         "hoverinfo": "none",
         "lat": [
          47.1667,
          32
         ],
         "line": {
          "color": "red",
          "width": 1.2
         },
         "lon": [
          9.5333,
          -5
         ],
         "mode": "lines",
         "opacity": 0.0055,
         "type": "scattergeo"
        },
        {
         "hoverinfo": "none",
         "lat": [
          23,
          24.25
         ],
         "line": {
          "color": "red",
          "width": 1.2
         },
         "lon": [
          -102,
          -76
         ],
         "mode": "lines",
         "opacity": 0.0055,
         "type": "scattergeo"
        },
        {
         "hoverinfo": "none",
         "lat": [
          27,
          15.5
         ],
         "line": {
          "color": "red",
          "width": 1.2
         },
         "lon": [
          30,
          -90.25
         ],
         "mode": "lines",
         "opacity": 0.0055,
         "type": "scattergeo"
        },
        {
         "hoverinfo": "none",
         "lat": [
          40,
          43.7333
         ],
         "line": {
          "color": "red",
          "width": 1.2
         },
         "lon": [
          -4,
          7.4
         ],
         "mode": "lines",
         "opacity": 0.0055,
         "type": "scattergeo"
        },
        {
         "hoverinfo": "none",
         "lat": [
          60,
          49.21
         ],
         "line": {
          "color": "red",
          "width": 1.2
         },
         "lon": [
          -95,
          -2.13
         ],
         "mode": "lines",
         "opacity": 0.0055,
         "type": "scattergeo"
        },
        {
         "hoverinfo": "none",
         "lat": [
          38,
          10
         ],
         "line": {
          "color": "red",
          "width": 1.2
         },
         "lon": [
          -97,
          -84
         ],
         "mode": "lines",
         "opacity": 0.0055,
         "type": "scattergeo"
        },
        {
         "hoverinfo": "none",
         "lat": [
          53,
          47
         ],
         "line": {
          "color": "red",
          "width": 1.2
         },
         "lon": [
          -8,
          8
         ],
         "mode": "lines",
         "opacity": 0.0055,
         "type": "scattergeo"
        },
        {
         "hoverinfo": "none",
         "lat": [
          -12.5,
          52.5
         ],
         "line": {
          "color": "red",
          "width": 1.2
         },
         "lon": [
          18.5,
          5.75
         ],
         "mode": "lines",
         "opacity": 0.0055,
         "type": "scattergeo"
        },
        {
         "hoverinfo": "none",
         "lat": [
          18.5,
          57
         ],
         "line": {
          "color": "red",
          "width": 1.2
         },
         "lon": [
          -64.5,
          25
         ],
         "mode": "lines",
         "opacity": 0.0055,
         "type": "scattergeo"
        },
        {
         "hoverinfo": "none",
         "lat": [
          -20.2833,
          1.3667
         ],
         "line": {
          "color": "red",
          "width": 1.2
         },
         "lon": [
          57.55,
          103.8
         ],
         "mode": "lines",
         "opacity": 0.0055,
         "type": "scattergeo"
        },
        {
         "hoverinfo": "none",
         "lat": [
          54,
          60
         ],
         "line": {
          "color": "red",
          "width": 1.2
         },
         "lon": [
          -2,
          -95
         ],
         "mode": "lines",
         "opacity": 0.0055,
         "type": "scattergeo"
        },
        {
         "hoverinfo": "none",
         "lat": [
          32,
          22.25
         ],
         "line": {
          "color": "red",
          "width": 1.2
         },
         "lon": [
          53,
          114.1667
         ],
         "mode": "lines",
         "opacity": 0.0055,
         "type": "scattergeo"
        },
        {
         "hoverinfo": "none",
         "lat": [
          49,
          49.21
         ],
         "line": {
          "color": "red",
          "width": 1.2
         },
         "lon": [
          32,
          -2.13
         ],
         "mode": "lines",
         "opacity": 0.0055,
         "type": "scattergeo"
        },
        {
         "hoverinfo": "none",
         "lat": [
          32.3333,
          54
         ],
         "line": {
          "color": "red",
          "width": 1.2
         },
         "lon": [
          -64.75,
          -2
         ],
         "mode": "lines",
         "opacity": 0.0055,
         "type": "scattergeo"
        },
        {
         "hoverinfo": "none",
         "lat": [
          35,
          49
         ],
         "line": {
          "color": "red",
          "width": 1.2
         },
         "lon": [
          33,
          32
         ],
         "mode": "lines",
         "opacity": 0.00525,
         "type": "scattergeo"
        },
        {
         "hoverinfo": "none",
         "lat": [
          4,
          24.25
         ],
         "line": {
          "color": "red",
          "width": 1.2
         },
         "lon": [
          -72,
          -76
         ],
         "mode": "lines",
         "opacity": 0.00525,
         "type": "scattergeo"
        },
        {
         "hoverinfo": "none",
         "lat": [
          22.25,
          54.23
         ],
         "line": {
          "color": "red",
          "width": 1.2
         },
         "lon": [
          114.1667,
          -4.55
         ],
         "mode": "lines",
         "opacity": 0.00525,
         "type": "scattergeo"
        },
        {
         "hoverinfo": "none",
         "lat": [
          47,
          47
         ],
         "line": {
          "color": "red",
          "width": 1.2
         },
         "lon": [
          20,
          8
         ],
         "mode": "lines",
         "opacity": 0.00525,
         "type": "scattergeo"
        },
        {
         "hoverinfo": "none",
         "lat": [
          46,
          54.23
         ],
         "line": {
          "color": "red",
          "width": 1.2
         },
         "lon": [
          2,
          -4.55
         ],
         "mode": "lines",
         "opacity": 0.00525,
         "type": "scattergeo"
        },
        {
         "hoverinfo": "none",
         "lat": [
          47.3333,
          47
         ],
         "line": {
          "color": "red",
          "width": 1.2
         },
         "lon": [
          13.3333,
          8
         ],
         "mode": "lines",
         "opacity": 0.00525,
         "type": "scattergeo"
        },
        {
         "hoverinfo": "none",
         "lat": [
          25.5,
          49.75
         ],
         "line": {
          "color": "red",
          "width": 1.2
         },
         "lon": [
          51.25,
          6.1667
         ],
         "mode": "lines",
         "opacity": 0.00525,
         "type": "scattergeo"
        },
        {
         "hoverinfo": "none",
         "lat": [
          2.5,
          49.21
         ],
         "line": {
          "color": "red",
          "width": 1.2
         },
         "lon": [
          112.5,
          -2.13
         ],
         "mode": "lines",
         "opacity": 0.00525,
         "type": "scattergeo"
        },
        {
         "hoverinfo": "none",
         "lat": [
          38,
          49.75
         ],
         "line": {
          "color": "red",
          "width": 1.2
         },
         "lon": [
          -97,
          6.1667
         ],
         "mode": "lines",
         "opacity": 0.00525,
         "type": "scattergeo"
        },
        {
         "hoverinfo": "none",
         "lat": [
          39,
          54
         ],
         "line": {
          "color": "red",
          "width": 1.2
         },
         "lon": [
          22,
          -2
         ],
         "mode": "lines",
         "opacity": 0.00525,
         "type": "scattergeo"
        },
        {
         "hoverinfo": "none",
         "lat": [
          8,
          42.5
         ],
         "line": {
          "color": "red",
          "width": 1.2
         },
         "lon": [
          -66,
          1.6
         ],
         "mode": "lines",
         "opacity": 0.00525,
         "type": "scattergeo"
        },
        {
         "hoverinfo": "none",
         "lat": [
          -33,
          47
         ],
         "line": {
          "color": "red",
          "width": 1.2
         },
         "lon": [
          -56,
          8
         ],
         "mode": "lines",
         "opacity": 0.00525,
         "type": "scattergeo"
        },
        {
         "hoverinfo": "none",
         "lat": [
          8,
          22.25
         ],
         "line": {
          "color": "red",
          "width": 1.2
         },
         "lon": [
          -66,
          114.1667
         ],
         "mode": "lines",
         "opacity": 0.00525,
         "type": "scattergeo"
        },
        {
         "hoverinfo": "none",
         "lat": [
          24,
          1.3667
         ],
         "line": {
          "color": "red",
          "width": 1.2
         },
         "lon": [
          54,
          103.8
         ],
         "mode": "lines",
         "opacity": 0.00525,
         "type": "scattergeo"
        },
        {
         "hoverinfo": "none",
         "lat": [
          -29,
          38
         ],
         "line": {
          "color": "red",
          "width": 1.2
         },
         "lon": [
          24,
          -97
         ],
         "mode": "lines",
         "opacity": 0.00525,
         "type": "scattergeo"
        },
        {
         "hoverinfo": "none",
         "lat": [
          42.8333,
          38
         ],
         "line": {
          "color": "red",
          "width": 1.2
         },
         "lon": [
          12.8333,
          -97
         ],
         "mode": "lines",
         "opacity": 0.005,
         "type": "scattergeo"
        },
        {
         "hoverinfo": "none",
         "lat": [
          29.3375,
          54
         ],
         "line": {
          "color": "red",
          "width": 1.2
         },
         "lon": [
          47.6581,
          -2
         ],
         "mode": "lines",
         "opacity": 0.005,
         "type": "scattergeo"
        },
        {
         "hoverinfo": "none",
         "lat": [
          35,
          33.8333
         ],
         "line": {
          "color": "red",
          "width": 1.2
         },
         "lon": [
          105,
          35.8333
         ],
         "mode": "lines",
         "opacity": 0.005,
         "type": "scattergeo"
        },
        {
         "hoverinfo": "none",
         "lat": [
          39,
          24
         ],
         "line": {
          "color": "red",
          "width": 1.2
         },
         "lon": [
          35,
          54
         ],
         "mode": "lines",
         "opacity": 0.005,
         "type": "scattergeo"
        },
        {
         "hoverinfo": "none",
         "lat": [
          46,
          24
         ],
         "line": {
          "color": "red",
          "width": 1.2
         },
         "lon": [
          25,
          54
         ],
         "mode": "lines",
         "opacity": 0.005,
         "type": "scattergeo"
        },
        {
         "hoverinfo": "none",
         "lat": [
          39,
          54.23
         ],
         "line": {
          "color": "red",
          "width": 1.2
         },
         "lon": [
          35,
          -4.55
         ],
         "mode": "lines",
         "opacity": 0.005,
         "type": "scattergeo"
        },
        {
         "hoverinfo": "none",
         "lat": [
          43,
          24
         ],
         "line": {
          "color": "red",
          "width": 1.2
         },
         "lon": [
          25,
          54
         ],
         "mode": "lines",
         "opacity": 0.005,
         "type": "scattergeo"
        },
        {
         "hoverinfo": "none",
         "lat": [
          60,
          35
         ],
         "line": {
          "color": "red",
          "width": 1.2
         },
         "lon": [
          100,
          105
         ],
         "mode": "lines",
         "opacity": 0.005,
         "type": "scattergeo"
        },
        {
         "hoverinfo": "none",
         "lat": [
          32,
          31
         ],
         "line": {
          "color": "red",
          "width": 1.2
         },
         "lon": [
          35.25,
          36
         ],
         "mode": "lines",
         "opacity": 0.005,
         "type": "scattergeo"
        },
        {
         "hoverinfo": "none",
         "lat": [
          40.5,
          47
         ],
         "line": {
          "color": "red",
          "width": 1.2
         },
         "lon": [
          47.5,
          8
         ],
         "mode": "lines",
         "opacity": 0.005,
         "type": "scattergeo"
        },
        {
         "hoverinfo": "none",
         "lat": [
          47,
          60
         ],
         "line": {
          "color": "red",
          "width": 1.2
         },
         "lon": [
          20,
          100
         ],
         "mode": "lines",
         "opacity": 0.005,
         "type": "scattergeo"
        },
        {
         "hoverinfo": "none",
         "lat": [
          24.25,
          38
         ],
         "line": {
          "color": "red",
          "width": 1.2
         },
         "lon": [
          -76,
          -97
         ],
         "mode": "lines",
         "opacity": 0.005,
         "type": "scattergeo"
        },
        {
         "hoverinfo": "none",
         "lat": [
          47,
          1.3667
         ],
         "line": {
          "color": "red",
          "width": 1.2
         },
         "lon": [
          8,
          103.8
         ],
         "mode": "lines",
         "opacity": 0.005,
         "type": "scattergeo"
        },
        {
         "hoverinfo": "none",
         "lat": [
          24.25,
          47.1667
         ],
         "line": {
          "color": "red",
          "width": 1.2
         },
         "lon": [
          -76,
          9.5333
         ],
         "mode": "lines",
         "opacity": 0.005,
         "type": "scattergeo"
        },
        {
         "hoverinfo": "none",
         "lat": [
          15.5,
          9
         ],
         "line": {
          "color": "red",
          "width": 1.2
         },
         "lon": [
          -90.25,
          -80
         ],
         "mode": "lines",
         "opacity": 0.005,
         "type": "scattergeo"
        },
        {
         "hoverinfo": "none",
         "lat": [
          10,
          54.23
         ],
         "line": {
          "color": "red",
          "width": 1.2
         },
         "lon": [
          8,
          -4.55
         ],
         "mode": "lines",
         "opacity": 0.005,
         "type": "scattergeo"
        },
        {
         "hoverinfo": "none",
         "lat": [
          -34,
          22.25
         ],
         "line": {
          "color": "red",
          "width": 1.2
         },
         "lon": [
          -64,
          114.1667
         ],
         "mode": "lines",
         "opacity": 0.005,
         "type": "scattergeo"
        },
        {
         "hoverinfo": "none",
         "lat": [
          18.25,
          31.5
         ],
         "line": {
          "color": "red",
          "width": 1.2
         },
         "lon": [
          -63.1667,
          34.75
         ],
         "mode": "lines",
         "opacity": 0.005,
         "type": "scattergeo"
        },
        {
         "hoverinfo": "none",
         "lat": [
          15.4167,
          38
         ],
         "line": {
          "color": "red",
          "width": 1.2
         },
         "lon": [
          -61.3333,
          -97
         ],
         "mode": "lines",
         "opacity": 0.005,
         "type": "scattergeo"
        },
        {
         "hoverinfo": "none",
         "lat": [
          27,
          24
         ],
         "line": {
          "color": "red",
          "width": 1.2
         },
         "lon": [
          30,
          54
         ],
         "mode": "lines",
         "opacity": 0.00475,
         "type": "scattergeo"
        },
        {
         "hoverinfo": "none",
         "lat": [
          37,
          35
         ],
         "line": {
          "color": "red",
          "width": 1.2
         },
         "lon": [
          127.5,
          105
         ],
         "mode": "lines",
         "opacity": 0.00475,
         "type": "scattergeo"
        },
        {
         "hoverinfo": "none",
         "lat": [
          15.4167,
          9
         ],
         "line": {
          "color": "red",
          "width": 1.2
         },
         "lon": [
          -61.3333,
          -80
         ],
         "mode": "lines",
         "opacity": 0.00475,
         "type": "scattergeo"
        },
        {
         "hoverinfo": "none",
         "lat": [
          47,
          22.25
         ],
         "line": {
          "color": "red",
          "width": 1.2
         },
         "lon": [
          20,
          114.1667
         ],
         "mode": "lines",
         "opacity": 0.00475,
         "type": "scattergeo"
        },
        {
         "hoverinfo": "none",
         "lat": [
          29.3375,
          47
         ],
         "line": {
          "color": "red",
          "width": 1.2
         },
         "lon": [
          47.6581,
          8
         ],
         "mode": "lines",
         "opacity": 0.00475,
         "type": "scattergeo"
        },
        {
         "hoverinfo": "none",
         "lat": [
          13,
          15
         ],
         "line": {
          "color": "red",
          "width": 1.2
         },
         "lon": [
          122,
          100
         ],
         "mode": "lines",
         "opacity": 0.00475,
         "type": "scattergeo"
        },
        {
         "hoverinfo": "none",
         "lat": [
          36,
          15
         ],
         "line": {
          "color": "red",
          "width": 1.2
         },
         "lon": [
          138,
          100
         ],
         "mode": "lines",
         "opacity": 0.00475,
         "type": "scattergeo"
        },
        {
         "hoverinfo": "none",
         "lat": [
          17.25,
          35
         ],
         "line": {
          "color": "red",
          "width": 1.2
         },
         "lon": [
          -88.75,
          33
         ],
         "mode": "lines",
         "opacity": 0.00475,
         "type": "scattergeo"
        },
        {
         "hoverinfo": "none",
         "lat": [
          40,
          38
         ],
         "line": {
          "color": "red",
          "width": 1.2
         },
         "lon": [
          -4,
          -97
         ],
         "mode": "lines",
         "opacity": 0.00475,
         "type": "scattergeo"
        },
        {
         "hoverinfo": "none",
         "lat": [
          54.23,
          47.1667
         ],
         "line": {
          "color": "red",
          "width": 1.2
         },
         "lon": [
          -4.55,
          9.5333
         ],
         "mode": "lines",
         "opacity": 0.00475,
         "type": "scattergeo"
        },
        {
         "hoverinfo": "none",
         "lat": [
          47.1667,
          54.23
         ],
         "line": {
          "color": "red",
          "width": 1.2
         },
         "lon": [
          9.5333,
          -4.55
         ],
         "mode": "lines",
         "opacity": 0.00475,
         "type": "scattergeo"
        },
        {
         "hoverinfo": "none",
         "lat": [
          35,
          49.5
         ],
         "line": {
          "color": "red",
          "width": 1.2
         },
         "lon": [
          33,
          -2.56
         ],
         "mode": "lines",
         "opacity": 0.00475,
         "type": "scattergeo"
        },
        {
         "hoverinfo": "none",
         "lat": [
          35,
          36.1833
         ],
         "line": {
          "color": "red",
          "width": 1.2
         },
         "lon": [
          33,
          -5.3667
         ],
         "mode": "lines",
         "opacity": 0.00475,
         "type": "scattergeo"
        },
        {
         "hoverinfo": "none",
         "lat": [
          59,
          47
         ],
         "line": {
          "color": "red",
          "width": 1.2
         },
         "lon": [
          26,
          8
         ],
         "mode": "lines",
         "opacity": 0.00475,
         "type": "scattergeo"
        },
        {
         "hoverinfo": "none",
         "lat": [
          46,
          24
         ],
         "line": {
          "color": "red",
          "width": 1.2
         },
         "lon": [
          2,
          54
         ],
         "mode": "lines",
         "opacity": 0.00475,
         "type": "scattergeo"
        },
        {
         "hoverinfo": "none",
         "lat": [
          35,
          17.3333
         ],
         "line": {
          "color": "red",
          "width": 1.2
         },
         "lon": [
          33,
          -62.75
         ],
         "mode": "lines",
         "opacity": 0.00475,
         "type": "scattergeo"
        },
        {
         "hoverinfo": "none",
         "lat": [
          36.1833,
          31
         ],
         "line": {
          "color": "red",
          "width": 1.2
         },
         "lon": [
          -5.3667,
          36
         ],
         "mode": "lines",
         "opacity": 0.00475,
         "type": "scattergeo"
        },
        {
         "hoverinfo": "none",
         "lat": [
          38,
          -34
         ],
         "line": {
          "color": "red",
          "width": 1.2
         },
         "lon": [
          -97,
          -64
         ],
         "mode": "lines",
         "opacity": 0.00475,
         "type": "scattergeo"
        },
        {
         "hoverinfo": "none",
         "lat": [
          13.25,
          47
         ],
         "line": {
          "color": "red",
          "width": 1.2
         },
         "lon": [
          -61.2,
          8
         ],
         "mode": "lines",
         "opacity": 0.00475,
         "type": "scattergeo"
        },
        {
         "hoverinfo": "none",
         "lat": [
          49.75,
          47
         ],
         "line": {
          "color": "red",
          "width": 1.2
         },
         "lon": [
          15.5,
          8
         ],
         "mode": "lines",
         "opacity": 0.00475,
         "type": "scattergeo"
        },
        {
         "hoverinfo": "none",
         "lat": [
          -17,
          13.8333
         ],
         "line": {
          "color": "red",
          "width": 1.2
         },
         "lon": [
          -65,
          -88.9167
         ],
         "mode": "lines",
         "opacity": 0.0045,
         "type": "scattergeo"
        },
        {
         "hoverinfo": "none",
         "lat": [
          18.25,
          49.5
         ],
         "line": {
          "color": "red",
          "width": 1.2
         },
         "lon": [
          -63.1667,
          -2.56
         ],
         "mode": "lines",
         "opacity": 0.0045,
         "type": "scattergeo"
        },
        {
         "hoverinfo": "none",
         "lat": [
          48,
          24
         ],
         "line": {
          "color": "red",
          "width": 1.2
         },
         "lon": [
          68,
          54
         ],
         "mode": "lines",
         "opacity": 0.0045,
         "type": "scattergeo"
        },
        {
         "hoverinfo": "none",
         "lat": [
          54.23,
          60
         ],
         "line": {
          "color": "red",
          "width": 1.2
         },
         "lon": [
          -4.55,
          100
         ],
         "mode": "lines",
         "opacity": 0.0045,
         "type": "scattergeo"
        },
        {
         "hoverinfo": "none",
         "lat": [
          24.25,
          -2
         ],
         "line": {
          "color": "red",
          "width": 1.2
         },
         "lon": [
          -76,
          -77.5
         ],
         "mode": "lines",
         "opacity": 0.0045,
         "type": "scattergeo"
        },
        {
         "hoverinfo": "none",
         "lat": [
          52,
          35
         ],
         "line": {
          "color": "red",
          "width": 1.2
         },
         "lon": [
          20,
          33
         ],
         "mode": "lines",
         "opacity": 0.0045,
         "type": "scattergeo"
        },
        {
         "hoverinfo": "none",
         "lat": [
          49.21,
          46
         ],
         "line": {
          "color": "red",
          "width": 1.2
         },
         "lon": [
          -2.13,
          2
         ],
         "mode": "lines",
         "opacity": 0.0045,
         "type": "scattergeo"
        },
        {
         "hoverinfo": "none",
         "lat": [
          10,
          9
         ],
         "line": {
          "color": "red",
          "width": 1.2
         },
         "lon": [
          -84,
          -80
         ],
         "mode": "lines",
         "opacity": 0.0045,
         "type": "scattergeo"
        },
        {
         "hoverinfo": "none",
         "lat": [
          -41,
          43.7333
         ],
         "line": {
          "color": "red",
          "width": 1.2
         },
         "lon": [
          174,
          7.4
         ],
         "mode": "lines",
         "opacity": 0.0045,
         "type": "scattergeo"
        },
        {
         "hoverinfo": "none",
         "lat": [
          35,
          24.25
         ],
         "line": {
          "color": "red",
          "width": 1.2
         },
         "lon": [
          33,
          -76
         ],
         "mode": "lines",
         "opacity": 0.0045,
         "type": "scattergeo"
        },
        {
         "hoverinfo": "none",
         "lat": [
          35,
          47
         ],
         "line": {
          "color": "red",
          "width": 1.2
         },
         "lon": [
          38,
          8
         ],
         "mode": "lines",
         "opacity": 0.0045,
         "type": "scattergeo"
        },
        {
         "hoverinfo": "none",
         "lat": [
          45.1667,
          47
         ],
         "line": {
          "color": "red",
          "width": 1.2
         },
         "lon": [
          15.5,
          8
         ],
         "mode": "lines",
         "opacity": 0.0045,
         "type": "scattergeo"
        },
        {
         "hoverinfo": "none",
         "lat": [
          20,
          24
         ],
         "line": {
          "color": "red",
          "width": 1.2
         },
         "lon": [
          77,
          54
         ],
         "mode": "lines",
         "opacity": 0.0045,
         "type": "scattergeo"
        },
        {
         "hoverinfo": "none",
         "lat": [
          -2,
          9
         ],
         "line": {
          "color": "red",
          "width": 1.2
         },
         "lon": [
          -77.5,
          -80
         ],
         "mode": "lines",
         "opacity": 0.0045,
         "type": "scattergeo"
        },
        {
         "hoverinfo": "none",
         "lat": [
          49.75,
          49.5
         ],
         "line": {
          "color": "red",
          "width": 1.2
         },
         "lon": [
          6.1667,
          -2.56
         ],
         "mode": "lines",
         "opacity": 0.0045,
         "type": "scattergeo"
        },
        {
         "hoverinfo": "none",
         "lat": [
          -20.2833,
          22.25
         ],
         "line": {
          "color": "red",
          "width": 1.2
         },
         "lon": [
          57.55,
          114.1667
         ],
         "mode": "lines",
         "opacity": 0.0045,
         "type": "scattergeo"
        },
        {
         "hoverinfo": "none",
         "lat": [
          52.5,
          47
         ],
         "line": {
          "color": "red",
          "width": 1.2
         },
         "lon": [
          5.75,
          8
         ],
         "mode": "lines",
         "opacity": 0.0045,
         "type": "scattergeo"
        },
        {
         "hoverinfo": "none",
         "lat": [
          15.5,
          13
         ],
         "line": {
          "color": "red",
          "width": 1.2
         },
         "lon": [
          -90.25,
          122
         ],
         "mode": "lines",
         "opacity": 0.0045,
         "type": "scattergeo"
        },
        {
         "hoverinfo": "none",
         "lat": [
          -13.5,
          54
         ],
         "line": {
          "color": "red",
          "width": 1.2
         },
         "lon": [
          34,
          -2
         ],
         "mode": "lines",
         "opacity": 0.0045,
         "type": "scattergeo"
        },
        {
         "hoverinfo": "none",
         "lat": [
          9,
          22.25
         ],
         "line": {
          "color": "red",
          "width": 1.2
         },
         "lon": [
          168,
          114.1667
         ],
         "mode": "lines",
         "opacity": 0.0045,
         "type": "scattergeo"
        },
        {
         "hoverinfo": "none",
         "lat": [
          57,
          60
         ],
         "line": {
          "color": "red",
          "width": 1.2
         },
         "lon": [
          25,
          100
         ],
         "mode": "lines",
         "opacity": 0.0045,
         "type": "scattergeo"
        },
        {
         "hoverinfo": "none",
         "lat": [
          22.25,
          24
         ],
         "line": {
          "color": "red",
          "width": 1.2
         },
         "lon": [
          114.1667,
          54
         ],
         "mode": "lines",
         "opacity": 0.0045,
         "type": "scattergeo"
        },
        {
         "hoverinfo": "none",
         "lat": [
          -27,
          24
         ],
         "line": {
          "color": "red",
          "width": 1.2
         },
         "lon": [
          133,
          54
         ],
         "mode": "lines",
         "opacity": 0.00425,
         "type": "scattergeo"
        },
        {
         "hoverinfo": "none",
         "lat": [
          54,
          49.75
         ],
         "line": {
          "color": "red",
          "width": 1.2
         },
         "lon": [
          -2,
          15.5
         ],
         "mode": "lines",
         "opacity": 0.00425,
         "type": "scattergeo"
        },
        {
         "hoverinfo": "none",
         "lat": [
          49,
          57
         ],
         "line": {
          "color": "red",
          "width": 1.2
         },
         "lon": [
          32,
          25
         ],
         "mode": "lines",
         "opacity": 0.00425,
         "type": "scattergeo"
        },
        {
         "hoverinfo": "none",
         "lat": [
          18,
          47
         ],
         "line": {
          "color": "red",
          "width": 1.2
         },
         "lon": [
          105,
          8
         ],
         "mode": "lines",
         "opacity": 0.00425,
         "type": "scattergeo"
        },
        {
         "hoverinfo": "none",
         "lat": [
          -27,
          35
         ],
         "line": {
          "color": "red",
          "width": 1.2
         },
         "lon": [
          133,
          105
         ],
         "mode": "lines",
         "opacity": 0.00425,
         "type": "scattergeo"
        },
        {
         "hoverinfo": "none",
         "lat": [
          19.5,
          49.5
         ],
         "line": {
          "color": "red",
          "width": 1.2
         },
         "lon": [
          -80.5,
          -2.56
         ],
         "mode": "lines",
         "opacity": 0.00425,
         "type": "scattergeo"
        },
        {
         "hoverinfo": "none",
         "lat": [
          18.5,
          -34
         ],
         "line": {
          "color": "red",
          "width": 1.2
         },
         "lon": [
          -64.5,
          -64
         ],
         "mode": "lines",
         "opacity": 0.00425,
         "type": "scattergeo"
        },
        {
         "hoverinfo": "none",
         "lat": [
          54.23,
          43.7333
         ],
         "line": {
          "color": "red",
          "width": 1.2
         },
         "lon": [
          -4.55,
          7.4
         ],
         "mode": "lines",
         "opacity": 0.00425,
         "type": "scattergeo"
        },
        {
         "hoverinfo": "none",
         "lat": [
          24.25,
          49.75
         ],
         "line": {
          "color": "red",
          "width": 1.2
         },
         "lon": [
          -76,
          6.1667
         ],
         "mode": "lines",
         "opacity": 0.00425,
         "type": "scattergeo"
        },
        {
         "hoverinfo": "none",
         "lat": [
          65,
          9
         ],
         "line": {
          "color": "red",
          "width": 1.2
         },
         "lon": [
          -18,
          -80
         ],
         "mode": "lines",
         "opacity": 0.00425,
         "type": "scattergeo"
        },
        {
         "hoverinfo": "none",
         "lat": [
          49.21,
          25.5
         ],
         "line": {
          "color": "red",
          "width": 1.2
         },
         "lon": [
          -2.13,
          51.25
         ],
         "mode": "lines",
         "opacity": 0.00425,
         "type": "scattergeo"
        },
        {
         "hoverinfo": "none",
         "lat": [
          8,
          24.25
         ],
         "line": {
          "color": "red",
          "width": 1.2
         },
         "lon": [
          -66,
          -76
         ],
         "mode": "lines",
         "opacity": 0.00425,
         "type": "scattergeo"
        },
        {
         "hoverinfo": "none",
         "lat": [
          18,
          49.21
         ],
         "line": {
          "color": "red",
          "width": 1.2
         },
         "lon": [
          105,
          -2.13
         ],
         "mode": "lines",
         "opacity": 0.00425,
         "type": "scattergeo"
        },
        {
         "hoverinfo": "none",
         "lat": [
          33.8333,
          49.5
         ],
         "line": {
          "color": "red",
          "width": 1.2
         },
         "lon": [
          35.8333,
          -2.56
         ],
         "mode": "lines",
         "opacity": 0.00425,
         "type": "scattergeo"
        },
        {
         "hoverinfo": "none",
         "lat": [
          38,
          8
         ],
         "line": {
          "color": "red",
          "width": 1.2
         },
         "lon": [
          -97,
          -66
         ],
         "mode": "lines",
         "opacity": 0.00425,
         "type": "scattergeo"
        },
        {
         "hoverinfo": "none",
         "lat": [
          24.25,
          39.5
         ],
         "line": {
          "color": "red",
          "width": 1.2
         },
         "lon": [
          -76,
          -8
         ],
         "mode": "lines",
         "opacity": 0.00425,
         "type": "scattergeo"
        },
        {
         "hoverinfo": "none",
         "lat": [
          -22,
          54
         ],
         "line": {
          "color": "red",
          "width": 1.2
         },
         "lon": [
          17,
          -2
         ],
         "mode": "lines",
         "opacity": 0.00425,
         "type": "scattergeo"
        },
        {
         "hoverinfo": "none",
         "lat": [
          24,
          49
         ],
         "line": {
          "color": "red",
          "width": 1.2
         },
         "lon": [
          54,
          32
         ],
         "mode": "lines",
         "opacity": 0.00425,
         "type": "scattergeo"
        },
        {
         "hoverinfo": "none",
         "lat": [
          46,
          15
         ],
         "line": {
          "color": "red",
          "width": 1.2
         },
         "lon": [
          2,
          100
         ],
         "mode": "lines",
         "opacity": 0.00425,
         "type": "scattergeo"
        },
        {
         "hoverinfo": "none",
         "lat": [
          9,
          35
         ],
         "line": {
          "color": "red",
          "width": 1.2
         },
         "lon": [
          168,
          33
         ],
         "mode": "lines",
         "opacity": 0.00425,
         "type": "scattergeo"
        },
        {
         "hoverinfo": "none",
         "lat": [
          24.25,
          -10
         ],
         "line": {
          "color": "red",
          "width": 1.2
         },
         "lon": [
          -76,
          -55
         ],
         "mode": "lines",
         "opacity": 0.00425,
         "type": "scattergeo"
        },
        {
         "hoverinfo": "none",
         "lat": [
          10,
          49.21
         ],
         "line": {
          "color": "red",
          "width": 1.2
         },
         "lon": [
          8,
          -2.13
         ],
         "mode": "lines",
         "opacity": 0.00425,
         "type": "scattergeo"
        },
        {
         "hoverinfo": "none",
         "lat": [
          -22,
          54.23
         ],
         "line": {
          "color": "red",
          "width": 1.2
         },
         "lon": [
          24,
          -4.55
         ],
         "mode": "lines",
         "opacity": 0.00425,
         "type": "scattergeo"
        },
        {
         "hoverinfo": "none",
         "lat": [
          40.5,
          57
         ],
         "line": {
          "color": "red",
          "width": 1.2
         },
         "lon": [
          47.5,
          25
         ],
         "mode": "lines",
         "opacity": 0.00425,
         "type": "scattergeo"
        },
        {
         "hoverinfo": "none",
         "lat": [
          62,
          15
         ],
         "line": {
          "color": "red",
          "width": 1.2
         },
         "lon": [
          15,
          100
         ],
         "mode": "lines",
         "opacity": 0.00425,
         "type": "scattergeo"
        },
        {
         "hoverinfo": "none",
         "lat": [
          35.8333,
          54
         ],
         "line": {
          "color": "red",
          "width": 1.2
         },
         "lon": [
          14.5833,
          -2
         ],
         "mode": "lines",
         "opacity": 0.00425,
         "type": "scattergeo"
        },
        {
         "hoverinfo": "none",
         "lat": [
          24,
          49.75
         ],
         "line": {
          "color": "red",
          "width": 1.2
         },
         "lon": [
          54,
          6.1667
         ],
         "mode": "lines",
         "opacity": 0.00425,
         "type": "scattergeo"
        },
        {
         "hoverinfo": "none",
         "lat": [
          21,
          24
         ],
         "line": {
          "color": "red",
          "width": 1.2
         },
         "lon": [
          57,
          54
         ],
         "mode": "lines",
         "opacity": 0.00425,
         "type": "scattergeo"
        },
        {
         "hoverinfo": "none",
         "lat": [
          26,
          54
         ],
         "line": {
          "color": "red",
          "width": 1.2
         },
         "lon": [
          50.55,
          -2
         ],
         "mode": "lines",
         "opacity": 0.00425,
         "type": "scattergeo"
        },
        {
         "hoverinfo": "none",
         "lat": [
          48,
          38
         ],
         "line": {
          "color": "red",
          "width": 1.2
         },
         "lon": [
          68,
          -97
         ],
         "mode": "lines",
         "opacity": 0.00425,
         "type": "scattergeo"
        },
        {
         "hoverinfo": "none",
         "lat": [
          30,
          47
         ],
         "line": {
          "color": "red",
          "width": 1.2
         },
         "lon": [
          70,
          8
         ],
         "mode": "lines",
         "opacity": 0.00425,
         "type": "scattergeo"
        },
        {
         "hoverinfo": "none",
         "lat": [
          30,
          22.25
         ],
         "line": {
          "color": "red",
          "width": 1.2
         },
         "lon": [
          70,
          114.1667
         ],
         "mode": "lines",
         "opacity": 0.00425,
         "type": "scattergeo"
        },
        {
         "hoverinfo": "none",
         "lat": [
          49.75,
          22.25
         ],
         "line": {
          "color": "red",
          "width": 1.2
         },
         "lon": [
          6.1667,
          114.1667
         ],
         "mode": "lines",
         "opacity": 0.00425,
         "type": "scattergeo"
        },
        {
         "hoverinfo": "none",
         "lat": [
          35.8333,
          49.21
         ],
         "line": {
          "color": "red",
          "width": 1.2
         },
         "lon": [
          14.5833,
          -2.13
         ],
         "mode": "lines",
         "opacity": 0.004,
         "type": "scattergeo"
        },
        {
         "hoverinfo": "none",
         "lat": [
          19.5,
          24
         ],
         "line": {
          "color": "red",
          "width": 1.2
         },
         "lon": [
          -80.5,
          54
         ],
         "mode": "lines",
         "opacity": 0.004,
         "type": "scattergeo"
        },
        {
         "hoverinfo": "none",
         "lat": [
          24.25,
          -20.2833
         ],
         "line": {
          "color": "red",
          "width": 1.2
         },
         "lon": [
          -76,
          57.55
         ],
         "mode": "lines",
         "opacity": 0.004,
         "type": "scattergeo"
        },
        {
         "hoverinfo": "none",
         "lat": [
          54,
          10
         ],
         "line": {
          "color": "red",
          "width": 1.2
         },
         "lon": [
          -2,
          8
         ],
         "mode": "lines",
         "opacity": 0.004,
         "type": "scattergeo"
        },
        {
         "hoverinfo": "none",
         "lat": [
          1.3667,
          38
         ],
         "line": {
          "color": "red",
          "width": 1.2
         },
         "lon": [
          103.8,
          -97
         ],
         "mode": "lines",
         "opacity": 0.004,
         "type": "scattergeo"
        },
        {
         "hoverinfo": "none",
         "lat": [
          23,
          9
         ],
         "line": {
          "color": "red",
          "width": 1.2
         },
         "lon": [
          -102,
          -80
         ],
         "mode": "lines",
         "opacity": 0.004,
         "type": "scattergeo"
        },
        {
         "hoverinfo": "none",
         "lat": [
          -4.5833,
          24.25
         ],
         "line": {
          "color": "red",
          "width": 1.2
         },
         "lon": [
          55.6667,
          -76
         ],
         "mode": "lines",
         "opacity": 0.004,
         "type": "scattergeo"
        },
        {
         "hoverinfo": "none",
         "lat": [
          -33,
          38
         ],
         "line": {
          "color": "red",
          "width": 1.2
         },
         "lon": [
          -56,
          -97
         ],
         "mode": "lines",
         "opacity": 0.004,
         "type": "scattergeo"
        },
        {
         "hoverinfo": "none",
         "lat": [
          31.5,
          35
         ],
         "line": {
          "color": "red",
          "width": 1.2
         },
         "lon": [
          34.75,
          33
         ],
         "mode": "lines",
         "opacity": 0.004,
         "type": "scattergeo"
        },
        {
         "hoverinfo": "none",
         "lat": [
          17.25,
          54.23
         ],
         "line": {
          "color": "red",
          "width": 1.2
         },
         "lon": [
          -88.75,
          -4.55
         ],
         "mode": "lines",
         "opacity": 0.004,
         "type": "scattergeo"
        },
        {
         "hoverinfo": "none",
         "lat": [
          32,
          49.21
         ],
         "line": {
          "color": "red",
          "width": 1.2
         },
         "lon": [
          53,
          -2.13
         ],
         "mode": "lines",
         "opacity": 0.004,
         "type": "scattergeo"
        },
        {
         "hoverinfo": "none",
         "lat": [
          49.5,
          60
         ],
         "line": {
          "color": "red",
          "width": 1.2
         },
         "lon": [
          -2.56,
          -95
         ],
         "mode": "lines",
         "opacity": 0.004,
         "type": "scattergeo"
        },
        {
         "hoverinfo": "none",
         "lat": [
          13,
          31
         ],
         "line": {
          "color": "red",
          "width": 1.2
         },
         "lon": [
          122,
          36
         ],
         "mode": "lines",
         "opacity": 0.004,
         "type": "scattergeo"
        },
        {
         "hoverinfo": "none",
         "lat": [
          13,
          9
         ],
         "line": {
          "color": "red",
          "width": 1.2
         },
         "lon": [
          122,
          -80
         ],
         "mode": "lines",
         "opacity": 0.004,
         "type": "scattergeo"
        },
        {
         "hoverinfo": "none",
         "lat": [
          53,
          22.25
         ],
         "line": {
          "color": "red",
          "width": 1.2
         },
         "lon": [
          -8,
          114.1667
         ],
         "mode": "lines",
         "opacity": 0.004,
         "type": "scattergeo"
        },
        {
         "hoverinfo": "none",
         "lat": [
          -27,
          -4.5833
         ],
         "line": {
          "color": "red",
          "width": 1.2
         },
         "lon": [
          133,
          55.6667
         ],
         "mode": "lines",
         "opacity": 0.004,
         "type": "scattergeo"
        },
        {
         "hoverinfo": "none",
         "lat": [
          32,
          54
         ],
         "line": {
          "color": "red",
          "width": 1.2
         },
         "lon": [
          53,
          -2
         ],
         "mode": "lines",
         "opacity": 0.004,
         "type": "scattergeo"
        },
        {
         "hoverinfo": "none",
         "lat": [
          -34,
          31
         ],
         "line": {
          "color": "red",
          "width": 1.2
         },
         "lon": [
          -64,
          36
         ],
         "mode": "lines",
         "opacity": 0.004,
         "type": "scattergeo"
        },
        {
         "hoverinfo": "none",
         "lat": [
          -13.5833,
          -10
         ],
         "line": {
          "color": "red",
          "width": 1.2
         },
         "lon": [
          -172.3333,
          -55
         ],
         "mode": "lines",
         "opacity": 0.004,
         "type": "scattergeo"
        },
        {
         "hoverinfo": "none",
         "lat": [
          52.5,
          49.21
         ],
         "line": {
          "color": "red",
          "width": 1.2
         },
         "lon": [
          5.75,
          -2.13
         ],
         "mode": "lines",
         "opacity": 0.004,
         "type": "scattergeo"
        },
        {
         "hoverinfo": "none",
         "lat": [
          49.21,
          -29
         ],
         "line": {
          "color": "red",
          "width": 1.2
         },
         "lon": [
          -2.13,
          24
         ],
         "mode": "lines",
         "opacity": 0.004,
         "type": "scattergeo"
        },
        {
         "hoverinfo": "none",
         "lat": [
          46,
          35
         ],
         "line": {
          "color": "red",
          "width": 1.2
         },
         "lon": [
          2,
          105
         ],
         "mode": "lines",
         "opacity": 0.004,
         "type": "scattergeo"
        },
        {
         "hoverinfo": "none",
         "lat": [
          46,
          35.8333
         ],
         "line": {
          "color": "red",
          "width": 1.2
         },
         "lon": [
          2,
          14.5833
         ],
         "mode": "lines",
         "opacity": 0.004,
         "type": "scattergeo"
        },
        {
         "hoverinfo": "none",
         "lat": [
          62,
          54
         ],
         "line": {
          "color": "red",
          "width": 1.2
         },
         "lon": [
          10,
          -2
         ],
         "mode": "lines",
         "opacity": 0.004,
         "type": "scattergeo"
        },
        {
         "hoverinfo": "none",
         "lat": [
          46,
          47
         ],
         "line": {
          "color": "red",
          "width": 1.2
         },
         "lon": [
          25,
          8
         ],
         "mode": "lines",
         "opacity": 0.004,
         "type": "scattergeo"
        },
        {
         "hoverinfo": "none",
         "lat": [
          54,
          -33
         ],
         "line": {
          "color": "red",
          "width": 1.2
         },
         "lon": [
          -2,
          -56
         ],
         "mode": "lines",
         "opacity": 0.004,
         "type": "scattergeo"
        },
        {
         "hoverinfo": "none",
         "lat": [
          50.8333,
          24
         ],
         "line": {
          "color": "red",
          "width": 1.2
         },
         "lon": [
          4,
          54
         ],
         "mode": "lines",
         "opacity": 0.00375,
         "type": "scattergeo"
        },
        {
         "hoverinfo": "none",
         "lat": [
          54,
          47.1667
         ],
         "line": {
          "color": "red",
          "width": 1.2
         },
         "lon": [
          -2,
          9.5333
         ],
         "mode": "lines",
         "opacity": 0.00375,
         "type": "scattergeo"
        },
        {
         "hoverinfo": "none",
         "lat": [
          -13.5833,
          47.1667
         ],
         "line": {
          "color": "red",
          "width": 1.2
         },
         "lon": [
          -172.3333,
          9.5333
         ],
         "mode": "lines",
         "opacity": 0.00375,
         "type": "scattergeo"
        },
        {
         "hoverinfo": "none",
         "lat": [
          25,
          54
         ],
         "line": {
          "color": "red",
          "width": 1.2
         },
         "lon": [
          17,
          -2
         ],
         "mode": "lines",
         "opacity": 0.00375,
         "type": "scattergeo"
        },
        {
         "hoverinfo": "none",
         "lat": [
          36.1833,
          49.21
         ],
         "line": {
          "color": "red",
          "width": 1.2
         },
         "lon": [
          -5.3667,
          -2.13
         ],
         "mode": "lines",
         "opacity": 0.00375,
         "type": "scattergeo"
        },
        {
         "hoverinfo": "none",
         "lat": [
          53,
          49.5
         ],
         "line": {
          "color": "red",
          "width": 1.2
         },
         "lon": [
          -8,
          -2.56
         ],
         "mode": "lines",
         "opacity": 0.00375,
         "type": "scattergeo"
        },
        {
         "hoverinfo": "none",
         "lat": [
          23,
          49.75
         ],
         "line": {
          "color": "red",
          "width": 1.2
         },
         "lon": [
          -102,
          6.1667
         ],
         "mode": "lines",
         "opacity": 0.00375,
         "type": "scattergeo"
        },
        {
         "hoverinfo": "none",
         "lat": [
          47.3333,
          22.25
         ],
         "line": {
          "color": "red",
          "width": 1.2
         },
         "lon": [
          13.3333,
          114.1667
         ],
         "mode": "lines",
         "opacity": 0.00375,
         "type": "scattergeo"
        },
        {
         "hoverinfo": "none",
         "lat": [
          47,
          52.5
         ],
         "line": {
          "color": "red",
          "width": 1.2
         },
         "lon": [
          8,
          5.75
         ],
         "mode": "lines",
         "opacity": 0.00375,
         "type": "scattergeo"
        },
        {
         "hoverinfo": "none",
         "lat": [
          49.75,
          31
         ],
         "line": {
          "color": "red",
          "width": 1.2
         },
         "lon": [
          6.1667,
          36
         ],
         "mode": "lines",
         "opacity": 0.00375,
         "type": "scattergeo"
        },
        {
         "hoverinfo": "none",
         "lat": [
          51,
          60
         ],
         "line": {
          "color": "red",
          "width": 1.2
         },
         "lon": [
          9,
          100
         ],
         "mode": "lines",
         "opacity": 0.00375,
         "type": "scattergeo"
        },
        {
         "hoverinfo": "none",
         "lat": [
          54,
          8
         ],
         "line": {
          "color": "red",
          "width": 1.2
         },
         "lon": [
          -2,
          -5
         ],
         "mode": "lines",
         "opacity": 0.00375,
         "type": "scattergeo"
        },
        {
         "hoverinfo": "none",
         "lat": [
          50.8333,
          9
         ],
         "line": {
          "color": "red",
          "width": 1.2
         },
         "lon": [
          4,
          -80
         ],
         "mode": "lines",
         "opacity": 0.00375,
         "type": "scattergeo"
        },
        {
         "hoverinfo": "none",
         "lat": [
          -41,
          24.25
         ],
         "line": {
          "color": "red",
          "width": 1.2
         },
         "lon": [
          174,
          -76
         ],
         "mode": "lines",
         "opacity": 0.00375,
         "type": "scattergeo"
        },
        {
         "hoverinfo": "none",
         "lat": [
          54,
          57
         ],
         "line": {
          "color": "red",
          "width": 1.2
         },
         "lon": [
          -2,
          25
         ],
         "mode": "lines",
         "opacity": 0.00375,
         "type": "scattergeo"
        },
        {
         "hoverinfo": "none",
         "lat": [
          17.25,
          9
         ],
         "line": {
          "color": "red",
          "width": 1.2
         },
         "lon": [
          -88.75,
          -80
         ],
         "mode": "lines",
         "opacity": 0.00375,
         "type": "scattergeo"
        },
        {
         "hoverinfo": "none",
         "lat": [
          60,
          9
         ],
         "line": {
          "color": "red",
          "width": 1.2
         },
         "lon": [
          -95,
          -80
         ],
         "mode": "lines",
         "opacity": 0.00375,
         "type": "scattergeo"
        },
        {
         "hoverinfo": "none",
         "lat": [
          49.21,
          52.5
         ],
         "line": {
          "color": "red",
          "width": 1.2
         },
         "lon": [
          -2.13,
          5.75
         ],
         "mode": "lines",
         "opacity": 0.00375,
         "type": "scattergeo"
        },
        {
         "hoverinfo": "none",
         "lat": [
          49.21,
          -41
         ],
         "line": {
          "color": "red",
          "width": 1.2
         },
         "lon": [
          -2.13,
          174
         ],
         "mode": "lines",
         "opacity": 0.00375,
         "type": "scattergeo"
        },
        {
         "hoverinfo": "none",
         "lat": [
          -4.5833,
          -33
         ],
         "line": {
          "color": "red",
          "width": 1.2
         },
         "lon": [
          55.6667,
          -56
         ],
         "mode": "lines",
         "opacity": 0.00375,
         "type": "scattergeo"
        },
        {
         "hoverinfo": "none",
         "lat": [
          46,
          31.5
         ],
         "line": {
          "color": "red",
          "width": 1.2
         },
         "lon": [
          2,
          34.75
         ],
         "mode": "lines",
         "opacity": 0.00375,
         "type": "scattergeo"
        },
        {
         "hoverinfo": "none",
         "lat": [
          49.21,
          15
         ],
         "line": {
          "color": "red",
          "width": 1.2
         },
         "lon": [
          -2.13,
          100
         ],
         "mode": "lines",
         "opacity": 0.00375,
         "type": "scattergeo"
        },
        {
         "hoverinfo": "none",
         "lat": [
          42,
          35
         ],
         "line": {
          "color": "red",
          "width": 1.2
         },
         "lon": [
          43.5,
          33
         ],
         "mode": "lines",
         "opacity": 0.00375,
         "type": "scattergeo"
        },
        {
         "hoverinfo": "none",
         "lat": [
          10,
          35
         ],
         "line": {
          "color": "red",
          "width": 1.2
         },
         "lon": [
          8,
          33
         ],
         "mode": "lines",
         "opacity": 0.00375,
         "type": "scattergeo"
        },
        {
         "hoverinfo": "none",
         "lat": [
          60,
          36.1833
         ],
         "line": {
          "color": "red",
          "width": 1.2
         },
         "lon": [
          100,
          -5.3667
         ],
         "mode": "lines",
         "opacity": 0.00375,
         "type": "scattergeo"
        },
        {
         "hoverinfo": "none",
         "lat": [
          48,
          22.25
         ],
         "line": {
          "color": "red",
          "width": 1.2
         },
         "lon": [
          68,
          114.1667
         ],
         "mode": "lines",
         "opacity": 0.00375,
         "type": "scattergeo"
        },
        {
         "hoverinfo": "none",
         "lat": [
          48,
          57
         ],
         "line": {
          "color": "red",
          "width": 1.2
         },
         "lon": [
          68,
          25
         ],
         "mode": "lines",
         "opacity": 0.00375,
         "type": "scattergeo"
        },
        {
         "hoverinfo": "none",
         "lat": [
          9,
          18.5
         ],
         "line": {
          "color": "red",
          "width": 1.2
         },
         "lon": [
          -80,
          -64.5
         ],
         "mode": "lines",
         "opacity": 0.00375,
         "type": "scattergeo"
        },
        {
         "hoverinfo": "none",
         "lat": [
          9,
          57
         ],
         "line": {
          "color": "red",
          "width": 1.2
         },
         "lon": [
          -80,
          25
         ],
         "mode": "lines",
         "opacity": 0.00375,
         "type": "scattergeo"
        },
        {
         "hoverinfo": "none",
         "lat": [
          9,
          31
         ],
         "line": {
          "color": "red",
          "width": 1.2
         },
         "lon": [
          -80,
          36
         ],
         "mode": "lines",
         "opacity": 0.00375,
         "type": "scattergeo"
        },
        {
         "hoverinfo": "none",
         "lat": [
          13,
          22.25
         ],
         "line": {
          "color": "red",
          "width": 1.2
         },
         "lon": [
          105,
          114.1667
         ],
         "mode": "lines",
         "opacity": 0.00375,
         "type": "scattergeo"
        },
        {
         "hoverinfo": "none",
         "lat": [
          17.3333,
          24.25
         ],
         "line": {
          "color": "red",
          "width": 1.2
         },
         "lon": [
          -62.75,
          -76
         ],
         "mode": "lines",
         "opacity": 0.00375,
         "type": "scattergeo"
        },
        {
         "hoverinfo": "none",
         "lat": [
          0,
          47
         ],
         "line": {
          "color": "red",
          "width": 1.2
         },
         "lon": [
          25,
          8
         ],
         "mode": "lines",
         "opacity": 0.00375,
         "type": "scattergeo"
        },
        {
         "hoverinfo": "none",
         "lat": [
          49.75,
          35
         ],
         "line": {
          "color": "red",
          "width": 1.2
         },
         "lon": [
          6.1667,
          33
         ],
         "mode": "lines",
         "opacity": 0.00375,
         "type": "scattergeo"
        },
        {
         "hoverinfo": "none",
         "lat": [
          40,
          35.8333
         ],
         "line": {
          "color": "red",
          "width": 1.2
         },
         "lon": [
          -4,
          14.5833
         ],
         "mode": "lines",
         "opacity": 0.00375,
         "type": "scattergeo"
        },
        {
         "hoverinfo": "none",
         "lat": [
          49.21,
          19.5
         ],
         "line": {
          "color": "red",
          "width": 1.2
         },
         "lon": [
          -2.13,
          -80.5
         ],
         "mode": "lines",
         "opacity": 0.00375,
         "type": "scattergeo"
        },
        {
         "hoverinfo": "none",
         "lat": [
          60,
          49
         ],
         "line": {
          "color": "red",
          "width": 1.2
         },
         "lon": [
          100,
          32
         ],
         "mode": "lines",
         "opacity": 0.00375,
         "type": "scattergeo"
        },
        {
         "hoverinfo": "none",
         "lat": [
          54,
          25
         ],
         "line": {
          "color": "red",
          "width": 1.2
         },
         "lon": [
          -2,
          45
         ],
         "mode": "lines",
         "opacity": 0.00375,
         "type": "scattergeo"
        },
        {
         "hoverinfo": "none",
         "lat": [
          49.5,
          35
         ],
         "line": {
          "color": "red",
          "width": 1.2
         },
         "lon": [
          -2.56,
          33
         ],
         "mode": "lines",
         "opacity": 0.0035,
         "type": "scattergeo"
        },
        {
         "hoverinfo": "none",
         "lat": [
          54,
          13.1667
         ],
         "line": {
          "color": "red",
          "width": 1.2
         },
         "lon": [
          -2,
          -59.5333
         ],
         "mode": "lines",
         "opacity": 0.0035,
         "type": "scattergeo"
        },
        {
         "hoverinfo": "none",
         "lat": [
          35,
          15
         ],
         "line": {
          "color": "red",
          "width": 1.2
         },
         "lon": [
          105,
          100
         ],
         "mode": "lines",
         "opacity": 0.0035,
         "type": "scattergeo"
        },
        {
         "hoverinfo": "none",
         "lat": [
          33.8333,
          43.7333
         ],
         "line": {
          "color": "red",
          "width": 1.2
         },
         "lon": [
          35.8333,
          7.4
         ],
         "mode": "lines",
         "opacity": 0.0035,
         "type": "scattergeo"
        },
        {
         "hoverinfo": "none",
         "lat": [
          49.75,
          49.21
         ],
         "line": {
          "color": "red",
          "width": 1.2
         },
         "lon": [
          6.1667,
          -2.13
         ],
         "mode": "lines",
         "opacity": 0.0035,
         "type": "scattergeo"
        },
        {
         "hoverinfo": "none",
         "lat": [
          49.21,
          60
         ],
         "line": {
          "color": "red",
          "width": 1.2
         },
         "lon": [
          -2.13,
          -95
         ],
         "mode": "lines",
         "opacity": 0.0035,
         "type": "scattergeo"
        },
        {
         "hoverinfo": "none",
         "lat": [
          -4.5833,
          49.21
         ],
         "line": {
          "color": "red",
          "width": 1.2
         },
         "lon": [
          55.6667,
          -2.13
         ],
         "mode": "lines",
         "opacity": 0.0035,
         "type": "scattergeo"
        },
        {
         "hoverinfo": "none",
         "lat": [
          34,
          47
         ],
         "line": {
          "color": "red",
          "width": 1.2
         },
         "lon": [
          9,
          8
         ],
         "mode": "lines",
         "opacity": 0.0035,
         "type": "scattergeo"
        },
        {
         "hoverinfo": "none",
         "lat": [
          -41,
          1.3667
         ],
         "line": {
          "color": "red",
          "width": 1.2
         },
         "lon": [
          174,
          103.8
         ],
         "mode": "lines",
         "opacity": 0.0035,
         "type": "scattergeo"
        },
        {
         "hoverinfo": "none",
         "lat": [
          51,
          15
         ],
         "line": {
          "color": "red",
          "width": 1.2
         },
         "lon": [
          9,
          100
         ],
         "mode": "lines",
         "opacity": 0.0035,
         "type": "scattergeo"
        },
        {
         "hoverinfo": "none",
         "lat": [
          9,
          24
         ],
         "line": {
          "color": "red",
          "width": 1.2
         },
         "lon": [
          168,
          54
         ],
         "mode": "lines",
         "opacity": 0.0035,
         "type": "scattergeo"
        },
        {
         "hoverinfo": "none",
         "lat": [
          46,
          60
         ],
         "line": {
          "color": "red",
          "width": 1.2
         },
         "lon": [
          2,
          100
         ],
         "mode": "lines",
         "opacity": 0.0035,
         "type": "scattergeo"
        },
        {
         "hoverinfo": "none",
         "lat": [
          49.75,
          36.1833
         ],
         "line": {
          "color": "red",
          "width": 1.2
         },
         "lon": [
          6.1667,
          -5.3667
         ],
         "mode": "lines",
         "opacity": 0.0035,
         "type": "scattergeo"
        },
        {
         "hoverinfo": "none",
         "lat": [
          9,
          -30
         ],
         "line": {
          "color": "red",
          "width": 1.2
         },
         "lon": [
          -80,
          -71
         ],
         "mode": "lines",
         "opacity": 0.0035,
         "type": "scattergeo"
        },
        {
         "hoverinfo": "none",
         "lat": [
          24,
          22.25
         ],
         "line": {
          "color": "red",
          "width": 1.2
         },
         "lon": [
          90,
          114.1667
         ],
         "mode": "lines",
         "opacity": 0.0035,
         "type": "scattergeo"
        },
        {
         "hoverinfo": "none",
         "lat": [
          18.25,
          24.25
         ],
         "line": {
          "color": "red",
          "width": 1.2
         },
         "lon": [
          -63.1667,
          -76
         ],
         "mode": "lines",
         "opacity": 0.0035,
         "type": "scattergeo"
        },
        {
         "hoverinfo": "none",
         "lat": [
          50.8333,
          49.5
         ],
         "line": {
          "color": "red",
          "width": 1.2
         },
         "lon": [
          4,
          -2.56
         ],
         "mode": "lines",
         "opacity": 0.0035,
         "type": "scattergeo"
        },
        {
         "hoverinfo": "none",
         "lat": [
          17.25,
          49.75
         ],
         "line": {
          "color": "red",
          "width": 1.2
         },
         "lon": [
          -88.75,
          6.1667
         ],
         "mode": "lines",
         "opacity": 0.0035,
         "type": "scattergeo"
        },
        {
         "hoverinfo": "none",
         "lat": [
          43.7333,
          38
         ],
         "line": {
          "color": "red",
          "width": 1.2
         },
         "lon": [
          7.4,
          -97
         ],
         "mode": "lines",
         "opacity": 0.0035,
         "type": "scattergeo"
        },
        {
         "hoverinfo": "none",
         "lat": [
          -30,
          35
         ],
         "line": {
          "color": "red",
          "width": 1.2
         },
         "lon": [
          -71,
          105
         ],
         "mode": "lines",
         "opacity": 0.0035,
         "type": "scattergeo"
        },
        {
         "hoverinfo": "none",
         "lat": [
          54,
          42.8333
         ],
         "line": {
          "color": "red",
          "width": 1.2
         },
         "lon": [
          -2,
          12.8333
         ],
         "mode": "lines",
         "opacity": 0.0035,
         "type": "scattergeo"
        },
        {
         "hoverinfo": "none",
         "lat": [
          -20.2833,
          60
         ],
         "line": {
          "color": "red",
          "width": 1.2
         },
         "lon": [
          57.55,
          100
         ],
         "mode": "lines",
         "opacity": 0.0035,
         "type": "scattergeo"
        },
        {
         "hoverinfo": "none",
         "lat": [
          40,
          49.75
         ],
         "line": {
          "color": "red",
          "width": 1.2
         },
         "lon": [
          -4,
          6.1667
         ],
         "mode": "lines",
         "opacity": 0.0035,
         "type": "scattergeo"
        },
        {
         "hoverinfo": "none",
         "lat": [
          43.7333,
          31
         ],
         "line": {
          "color": "red",
          "width": 1.2
         },
         "lon": [
          7.4,
          36
         ],
         "mode": "lines",
         "opacity": 0.0035,
         "type": "scattergeo"
        },
        {
         "hoverinfo": "none",
         "lat": [
          60,
          15
         ],
         "line": {
          "color": "red",
          "width": 1.2
         },
         "lon": [
          -95,
          100
         ],
         "mode": "lines",
         "opacity": 0.0035,
         "type": "scattergeo"
        },
        {
         "hoverinfo": "none",
         "lat": [
          1.3667,
          54.23
         ],
         "line": {
          "color": "red",
          "width": 1.2
         },
         "lon": [
          103.8,
          -4.55
         ],
         "mode": "lines",
         "opacity": 0.0035,
         "type": "scattergeo"
        },
        {
         "hoverinfo": "none",
         "lat": [
          6.5,
          54
         ],
         "line": {
          "color": "red",
          "width": 1.2
         },
         "lon": [
          -9.5,
          -2
         ],
         "mode": "lines",
         "opacity": 0.0035,
         "type": "scattergeo"
        },
        {
         "hoverinfo": "none",
         "lat": [
          1.3667,
          49.75
         ],
         "line": {
          "color": "red",
          "width": 1.2
         },
         "lon": [
          103.8,
          6.1667
         ],
         "mode": "lines",
         "opacity": 0.0035,
         "type": "scattergeo"
        },
        {
         "hoverinfo": "none",
         "lat": [
          41,
          -4.5833
         ],
         "line": {
          "color": "red",
          "width": 1.2
         },
         "lon": [
          64,
          55.6667
         ],
         "mode": "lines",
         "opacity": 0.0035,
         "type": "scattergeo"
        },
        {
         "hoverinfo": "none",
         "lat": [
          49.5,
          49.75
         ],
         "line": {
          "color": "red",
          "width": 1.2
         },
         "lon": [
          -2.56,
          6.1667
         ],
         "mode": "lines",
         "opacity": 0.0035,
         "type": "scattergeo"
        },
        {
         "hoverinfo": "none",
         "lat": [
          43.7333,
          46
         ],
         "line": {
          "color": "red",
          "width": 1.2
         },
         "lon": [
          7.4,
          2
         ],
         "mode": "lines",
         "opacity": 0.0035,
         "type": "scattergeo"
        },
        {
         "hoverinfo": "none",
         "lat": [
          24.25,
          19.5
         ],
         "line": {
          "color": "red",
          "width": 1.2
         },
         "lon": [
          -76,
          -80.5
         ],
         "mode": "lines",
         "opacity": 0.0035,
         "type": "scattergeo"
        },
        {
         "hoverinfo": "none",
         "lat": [
          2.5,
          47
         ],
         "line": {
          "color": "red",
          "width": 1.2
         },
         "lon": [
          112.5,
          8
         ],
         "mode": "lines",
         "opacity": 0.0035,
         "type": "scattergeo"
        },
        {
         "hoverinfo": "none",
         "lat": [
          54,
          -13.5833
         ],
         "line": {
          "color": "red",
          "width": 1.2
         },
         "lon": [
          -2,
          -172.3333
         ],
         "mode": "lines",
         "opacity": 0.0035,
         "type": "scattergeo"
        },
        {
         "hoverinfo": "none",
         "lat": [
          40,
          60
         ],
         "line": {
          "color": "red",
          "width": 1.2
         },
         "lon": [
          45,
          100
         ],
         "mode": "lines",
         "opacity": 0.0035,
         "type": "scattergeo"
        },
        {
         "hoverinfo": "none",
         "lat": [
          39.5,
          49.21
         ],
         "line": {
          "color": "red",
          "width": 1.2
         },
         "lon": [
          -8,
          -2.13
         ],
         "mode": "lines",
         "opacity": 0.0035,
         "type": "scattergeo"
        },
        {
         "hoverinfo": "none",
         "lat": [
          60,
          43.7333
         ],
         "line": {
          "color": "red",
          "width": 1.2
         },
         "lon": [
          -95,
          7.4
         ],
         "mode": "lines",
         "opacity": 0.0035,
         "type": "scattergeo"
        },
        {
         "hoverinfo": "none",
         "lat": [
          47,
          33.8333
         ],
         "line": {
          "color": "red",
          "width": 1.2
         },
         "lon": [
          8,
          35.8333
         ],
         "mode": "lines",
         "opacity": 0.0035,
         "type": "scattergeo"
        },
        {
         "hoverinfo": "none",
         "lat": [
          49.5,
          32.3333
         ],
         "line": {
          "color": "red",
          "width": 1.2
         },
         "lon": [
          -2.56,
          -64.75
         ],
         "mode": "lines",
         "opacity": 0.00325,
         "type": "scattergeo"
        },
        {
         "hoverinfo": "none",
         "lat": [
          49.5,
          47.1667
         ],
         "line": {
          "color": "red",
          "width": 1.2
         },
         "lon": [
          -2.56,
          9.5333
         ],
         "mode": "lines",
         "opacity": 0.00325,
         "type": "scattergeo"
        },
        {
         "hoverinfo": "none",
         "lat": [
          46,
          9
         ],
         "line": {
          "color": "red",
          "width": 1.2
         },
         "lon": [
          2,
          -80
         ],
         "mode": "lines",
         "opacity": 0.00325,
         "type": "scattergeo"
        },
        {
         "hoverinfo": "none",
         "lat": [
          54.23,
          -33
         ],
         "line": {
          "color": "red",
          "width": 1.2
         },
         "lon": [
          -4.55,
          -56
         ],
         "mode": "lines",
         "opacity": 0.00325,
         "type": "scattergeo"
        },
        {
         "hoverinfo": "none",
         "lat": [
          54,
          -29
         ],
         "line": {
          "color": "red",
          "width": 1.2
         },
         "lon": [
          -2,
          24
         ],
         "mode": "lines",
         "opacity": 0.00325,
         "type": "scattergeo"
        },
        {
         "hoverinfo": "none",
         "lat": [
          49.21,
          60
         ],
         "line": {
          "color": "red",
          "width": 1.2
         },
         "lon": [
          -2.13,
          100
         ],
         "mode": "lines",
         "opacity": 0.00325,
         "type": "scattergeo"
        },
        {
         "hoverinfo": "none",
         "lat": [
          16,
          49.21
         ],
         "line": {
          "color": "red",
          "width": 1.2
         },
         "lon": [
          -24,
          -2.13
         ],
         "mode": "lines",
         "opacity": 0.00325,
         "type": "scattergeo"
        },
        {
         "hoverinfo": "none",
         "lat": [
          60,
          60
         ],
         "line": {
          "color": "red",
          "width": 1.2
         },
         "lon": [
          -95,
          100
         ],
         "mode": "lines",
         "opacity": 0.00325,
         "type": "scattergeo"
        },
        {
         "hoverinfo": "none",
         "lat": [
          39.5,
          54.23
         ],
         "line": {
          "color": "red",
          "width": 1.2
         },
         "lon": [
          -8,
          -4.55
         ],
         "mode": "lines",
         "opacity": 0.00325,
         "type": "scattergeo"
        },
        {
         "hoverinfo": "none",
         "lat": [
          25.5,
          54
         ],
         "line": {
          "color": "red",
          "width": 1.2
         },
         "lon": [
          51.25,
          -2
         ],
         "mode": "lines",
         "opacity": 0.00325,
         "type": "scattergeo"
        },
        {
         "hoverinfo": "none",
         "lat": [
          53,
          60
         ],
         "line": {
          "color": "red",
          "width": 1.2
         },
         "lon": [
          28,
          100
         ],
         "mode": "lines",
         "opacity": 0.00325,
         "type": "scattergeo"
        },
        {
         "hoverinfo": "none",
         "lat": [
          16,
          60
         ],
         "line": {
          "color": "red",
          "width": 1.2
         },
         "lon": [
          -24,
          -95
         ],
         "mode": "lines",
         "opacity": 0.00325,
         "type": "scattergeo"
        },
        {
         "hoverinfo": "none",
         "lat": [
          1.3667,
          24
         ],
         "line": {
          "color": "red",
          "width": 1.2
         },
         "lon": [
          103.8,
          54
         ],
         "mode": "lines",
         "opacity": 0.00325,
         "type": "scattergeo"
        },
        {
         "hoverinfo": "none",
         "lat": [
          10,
          -2
         ],
         "line": {
          "color": "red",
          "width": 1.2
         },
         "lon": [
          -84,
          -77.5
         ],
         "mode": "lines",
         "opacity": 0.00325,
         "type": "scattergeo"
        },
        {
         "hoverinfo": "none",
         "lat": [
          32.3333,
          49.21
         ],
         "line": {
          "color": "red",
          "width": 1.2
         },
         "lon": [
          -64.75,
          -2.13
         ],
         "mode": "lines",
         "opacity": 0.00325,
         "type": "scattergeo"
        },
        {
         "hoverinfo": "none",
         "lat": [
          35,
          31
         ],
         "line": {
          "color": "red",
          "width": 1.2
         },
         "lon": [
          38,
          36
         ],
         "mode": "lines",
         "opacity": 0.00325,
         "type": "scattergeo"
        },
        {
         "hoverinfo": "none",
         "lat": [
          33.8333,
          22.25
         ],
         "line": {
          "color": "red",
          "width": 1.2
         },
         "lon": [
          35.8333,
          114.1667
         ],
         "mode": "lines",
         "opacity": 0.00325,
         "type": "scattergeo"
        },
        {
         "hoverinfo": "none",
         "lat": [
          6,
          49.21
         ],
         "line": {
          "color": "red",
          "width": 1.2
         },
         "lon": [
          12,
          -2.13
         ],
         "mode": "lines",
         "opacity": 0.00325,
         "type": "scattergeo"
        },
        {
         "hoverinfo": "none",
         "lat": [
          39,
          49.75
         ],
         "line": {
          "color": "red",
          "width": 1.2
         },
         "lon": [
          35,
          6.1667
         ],
         "mode": "lines",
         "opacity": 0.00325,
         "type": "scattergeo"
        },
        {
         "hoverinfo": "none",
         "lat": [
          19.5,
          54.23
         ],
         "line": {
          "color": "red",
          "width": 1.2
         },
         "lon": [
          -80.5,
          -4.55
         ],
         "mode": "lines",
         "opacity": 0.00325,
         "type": "scattergeo"
        },
        {
         "hoverinfo": "none",
         "lat": [
          52.5,
          35
         ],
         "line": {
          "color": "red",
          "width": 1.2
         },
         "lon": [
          5.75,
          33
         ],
         "mode": "lines",
         "opacity": 0.00325,
         "type": "scattergeo"
        },
        {
         "hoverinfo": "none",
         "lat": [
          17.25,
          35.8333
         ],
         "line": {
          "color": "red",
          "width": 1.2
         },
         "lon": [
          -88.75,
          14.5833
         ],
         "mode": "lines",
         "opacity": 0.00325,
         "type": "scattergeo"
        },
        {
         "hoverinfo": "none",
         "lat": [
          49.21,
          13.1667
         ],
         "line": {
          "color": "red",
          "width": 1.2
         },
         "lon": [
          -2.13,
          -59.5333
         ],
         "mode": "lines",
         "opacity": 0.00325,
         "type": "scattergeo"
        },
        {
         "hoverinfo": "none",
         "lat": [
          43.7333,
          49.21
         ],
         "line": {
          "color": "red",
          "width": 1.2
         },
         "lon": [
          7.4,
          -2.13
         ],
         "mode": "lines",
         "opacity": 0.00325,
         "type": "scattergeo"
        },
        {
         "hoverinfo": "none",
         "lat": [
          38,
          35
         ],
         "line": {
          "color": "red",
          "width": 1.2
         },
         "lon": [
          -97,
          33
         ],
         "mode": "lines",
         "opacity": 0.00325,
         "type": "scattergeo"
        },
        {
         "hoverinfo": "none",
         "lat": [
          49.75,
          22.25
         ],
         "line": {
          "color": "red",
          "width": 1.2
         },
         "lon": [
          15.5,
          114.1667
         ],
         "mode": "lines",
         "opacity": 0.00325,
         "type": "scattergeo"
        },
        {
         "hoverinfo": "none",
         "lat": [
          38,
          19
         ],
         "line": {
          "color": "red",
          "width": 1.2
         },
         "lon": [
          -97,
          -70.6667
         ],
         "mode": "lines",
         "opacity": 0.00325,
         "type": "scattergeo"
        },
        {
         "hoverinfo": "none",
         "lat": [
          35.8333,
          -20.2833
         ],
         "line": {
          "color": "red",
          "width": 1.2
         },
         "lon": [
          14.5833,
          57.55
         ],
         "mode": "lines",
         "opacity": 0.00325,
         "type": "scattergeo"
        },
        {
         "hoverinfo": "none",
         "lat": [
          46,
          35
         ],
         "line": {
          "color": "red",
          "width": 1.2
         },
         "lon": [
          105,
          105
         ],
         "mode": "lines",
         "opacity": 0.00325,
         "type": "scattergeo"
        },
        {
         "hoverinfo": "none",
         "lat": [
          41,
          60
         ],
         "line": {
          "color": "red",
          "width": 1.2
         },
         "lon": [
          64,
          100
         ],
         "mode": "lines",
         "opacity": 0.00325,
         "type": "scattergeo"
        },
        {
         "hoverinfo": "none",
         "lat": [
          8,
          31
         ],
         "line": {
          "color": "red",
          "width": 1.2
         },
         "lon": [
          -66,
          36
         ],
         "mode": "lines",
         "opacity": 0.00325,
         "type": "scattergeo"
        },
        {
         "hoverinfo": "none",
         "lat": [
          18.5,
          13.1667
         ],
         "line": {
          "color": "red",
          "width": 1.2
         },
         "lon": [
          -64.5,
          -59.5333
         ],
         "mode": "lines",
         "opacity": 0.00325,
         "type": "scattergeo"
        },
        {
         "hoverinfo": "none",
         "lat": [
          57,
          59
         ],
         "line": {
          "color": "red",
          "width": 1.2
         },
         "lon": [
          25,
          26
         ],
         "mode": "lines",
         "opacity": 0.00325,
         "type": "scattergeo"
        },
        {
         "hoverinfo": "none",
         "lat": [
          60,
          38
         ],
         "line": {
          "color": "red",
          "width": 1.2
         },
         "lon": [
          -95,
          -97
         ],
         "mode": "lines",
         "opacity": 0.003,
         "type": "scattergeo"
        },
        {
         "hoverinfo": "none",
         "lat": [
          17.25,
          38
         ],
         "line": {
          "color": "red",
          "width": 1.2
         },
         "lon": [
          -88.75,
          -97
         ],
         "mode": "lines",
         "opacity": 0.003,
         "type": "scattergeo"
        },
        {
         "hoverinfo": "none",
         "lat": [
          52,
          47
         ],
         "line": {
          "color": "red",
          "width": 1.2
         },
         "lon": [
          20,
          8
         ],
         "mode": "lines",
         "opacity": 0.003,
         "type": "scattergeo"
        },
        {
         "hoverinfo": "none",
         "lat": [
          -10,
          9
         ],
         "line": {
          "color": "red",
          "width": 1.2
         },
         "lon": [
          -76,
          -80
         ],
         "mode": "lines",
         "opacity": 0.003,
         "type": "scattergeo"
        },
        {
         "hoverinfo": "none",
         "lat": [
          23,
          54
         ],
         "line": {
          "color": "red",
          "width": 1.2
         },
         "lon": [
          -102,
          -2
         ],
         "mode": "lines",
         "opacity": 0.003,
         "type": "scattergeo"
        },
        {
         "hoverinfo": "none",
         "lat": [
          47,
          60
         ],
         "line": {
          "color": "red",
          "width": 1.2
         },
         "lon": [
          8,
          100
         ],
         "mode": "lines",
         "opacity": 0.003,
         "type": "scattergeo"
        },
        {
         "hoverinfo": "none",
         "lat": [
          23,
          22.25
         ],
         "line": {
          "color": "red",
          "width": 1.2
         },
         "lon": [
          -102,
          114.1667
         ],
         "mode": "lines",
         "opacity": 0.003,
         "type": "scattergeo"
        },
        {
         "hoverinfo": "none",
         "lat": [
          22,
          22.25
         ],
         "line": {
          "color": "red",
          "width": 1.2
         },
         "lon": [
          98,
          114.1667
         ],
         "mode": "lines",
         "opacity": 0.003,
         "type": "scattergeo"
        },
        {
         "hoverinfo": "none",
         "lat": [
          36.1833,
          59
         ],
         "line": {
          "color": "red",
          "width": 1.2
         },
         "lon": [
          -5.3667,
          26
         ],
         "mode": "lines",
         "opacity": 0.003,
         "type": "scattergeo"
        },
        {
         "hoverinfo": "none",
         "lat": [
          9,
          53
         ],
         "line": {
          "color": "red",
          "width": 1.2
         },
         "lon": [
          -80,
          -8
         ],
         "mode": "lines",
         "opacity": 0.003,
         "type": "scattergeo"
        },
        {
         "hoverinfo": "none",
         "lat": [
          49.5,
          9
         ],
         "line": {
          "color": "red",
          "width": 1.2
         },
         "lon": [
          -2.56,
          -80
         ],
         "mode": "lines",
         "opacity": 0.003,
         "type": "scattergeo"
        },
        {
         "hoverinfo": "none",
         "lat": [
          -41,
          49.5
         ],
         "line": {
          "color": "red",
          "width": 1.2
         },
         "lon": [
          174,
          -2.56
         ],
         "mode": "lines",
         "opacity": 0.003,
         "type": "scattergeo"
        },
        {
         "hoverinfo": "none",
         "lat": [
          60,
          31
         ],
         "line": {
          "color": "red",
          "width": 1.2
         },
         "lon": [
          -95,
          36
         ],
         "mode": "lines",
         "opacity": 0.003,
         "type": "scattergeo"
        },
        {
         "hoverinfo": "none",
         "lat": [
          2.5,
          35
         ],
         "line": {
          "color": "red",
          "width": 1.2
         },
         "lon": [
          112.5,
          105
         ],
         "mode": "lines",
         "opacity": 0.003,
         "type": "scattergeo"
        },
        {
         "hoverinfo": "none",
         "lat": [
          52,
          54
         ],
         "line": {
          "color": "red",
          "width": 1.2
         },
         "lon": [
          20,
          -2
         ],
         "mode": "lines",
         "opacity": 0.003,
         "type": "scattergeo"
        },
        {
         "hoverinfo": "none",
         "lat": [
          52.5,
          49.5
         ],
         "line": {
          "color": "red",
          "width": 1.2
         },
         "lon": [
          5.75,
          -2.56
         ],
         "mode": "lines",
         "opacity": 0.003,
         "type": "scattergeo"
        },
        {
         "hoverinfo": "none",
         "lat": [
          17.25,
          17.3333
         ],
         "line": {
          "color": "red",
          "width": 1.2
         },
         "lon": [
          -88.75,
          -62.75
         ],
         "mode": "lines",
         "opacity": 0.003,
         "type": "scattergeo"
        },
        {
         "hoverinfo": "none",
         "lat": [
          39.5,
          54
         ],
         "line": {
          "color": "red",
          "width": 1.2
         },
         "lon": [
          -8,
          -2
         ],
         "mode": "lines",
         "opacity": 0.003,
         "type": "scattergeo"
        },
        {
         "hoverinfo": "none",
         "lat": [
          -15,
          24
         ],
         "line": {
          "color": "red",
          "width": 1.2
         },
         "lon": [
          30,
          54
         ],
         "mode": "lines",
         "opacity": 0.003,
         "type": "scattergeo"
        },
        {
         "hoverinfo": "none",
         "lat": [
          -12.5,
          39.5
         ],
         "line": {
          "color": "red",
          "width": 1.2
         },
         "lon": [
          18.5,
          -8
         ],
         "mode": "lines",
         "opacity": 0.003,
         "type": "scattergeo"
        },
        {
         "hoverinfo": "none",
         "lat": [
          46,
          -20.2833
         ],
         "line": {
          "color": "red",
          "width": 1.2
         },
         "lon": [
          2,
          57.55
         ],
         "mode": "lines",
         "opacity": 0.003,
         "type": "scattergeo"
        },
        {
         "hoverinfo": "none",
         "lat": [
          -13.5833,
          15
         ],
         "line": {
          "color": "red",
          "width": 1.2
         },
         "lon": [
          -172.3333,
          100
         ],
         "mode": "lines",
         "opacity": 0.003,
         "type": "scattergeo"
        },
        {
         "hoverinfo": "none",
         "lat": [
          18.25,
          1.3667
         ],
         "line": {
          "color": "red",
          "width": 1.2
         },
         "lon": [
          -63.1667,
          103.8
         ],
         "mode": "lines",
         "opacity": 0.003,
         "type": "scattergeo"
        },
        {
         "hoverinfo": "none",
         "lat": [
          -13.5833,
          40
         ],
         "line": {
          "color": "red",
          "width": 1.2
         },
         "lon": [
          -172.3333,
          -4
         ],
         "mode": "lines",
         "opacity": 0.003,
         "type": "scattergeo"
        },
        {
         "hoverinfo": "none",
         "lat": [
          -13.5833,
          4
         ],
         "line": {
          "color": "red",
          "width": 1.2
         },
         "lon": [
          -172.3333,
          -72
         ],
         "mode": "lines",
         "opacity": 0.003,
         "type": "scattergeo"
        },
        {
         "hoverinfo": "none",
         "lat": [
          -1,
          22.25
         ],
         "line": {
          "color": "red",
          "width": 1.2
         },
         "lon": [
          11.75,
          114.1667
         ],
         "mode": "lines",
         "opacity": 0.003,
         "type": "scattergeo"
        },
        {
         "hoverinfo": "none",
         "lat": [
          38,
          18.5
         ],
         "line": {
          "color": "red",
          "width": 1.2
         },
         "lon": [
          -97,
          -64.5
         ],
         "mode": "lines",
         "opacity": 0.003,
         "type": "scattergeo"
        },
        {
         "hoverinfo": "none",
         "lat": [
          47.3333,
          54
         ],
         "line": {
          "color": "red",
          "width": 1.2
         },
         "lon": [
          13.3333,
          -2
         ],
         "mode": "lines",
         "opacity": 0.003,
         "type": "scattergeo"
        },
        {
         "hoverinfo": "none",
         "lat": [
          -33,
          -34
         ],
         "line": {
          "color": "red",
          "width": 1.2
         },
         "lon": [
          -56,
          -64
         ],
         "mode": "lines",
         "opacity": 0.003,
         "type": "scattergeo"
        },
        {
         "hoverinfo": "none",
         "lat": [
          49,
          22.25
         ],
         "line": {
          "color": "red",
          "width": 1.2
         },
         "lon": [
          32,
          114.1667
         ],
         "mode": "lines",
         "opacity": 0.003,
         "type": "scattergeo"
        },
        {
         "hoverinfo": "none",
         "lat": [
          -6,
          54
         ],
         "line": {
          "color": "red",
          "width": 1.2
         },
         "lon": [
          35,
          -2
         ],
         "mode": "lines",
         "opacity": 0.003,
         "type": "scattergeo"
        },
        {
         "hoverinfo": "none",
         "lat": [
          -6,
          47
         ],
         "line": {
          "color": "red",
          "width": 1.2
         },
         "lon": [
          35,
          8
         ],
         "mode": "lines",
         "opacity": 0.003,
         "type": "scattergeo"
        },
        {
         "hoverinfo": "none",
         "lat": [
          40.5,
          54
         ],
         "line": {
          "color": "red",
          "width": 1.2
         },
         "lon": [
          47.5,
          -2
         ],
         "mode": "lines",
         "opacity": 0.003,
         "type": "scattergeo"
        },
        {
         "hoverinfo": "none",
         "lat": [
          40.5,
          22.25
         ],
         "line": {
          "color": "red",
          "width": 1.2
         },
         "lon": [
          47.5,
          114.1667
         ],
         "mode": "lines",
         "opacity": 0.003,
         "type": "scattergeo"
        },
        {
         "hoverinfo": "none",
         "lat": [
          15,
          15
         ],
         "line": {
          "color": "red",
          "width": 1.2
         },
         "lon": [
          100,
          19
         ],
         "mode": "lines",
         "opacity": 0.003,
         "type": "scattergeo"
        },
        {
         "hoverinfo": "none",
         "lat": [
          15,
          54.23
         ],
         "line": {
          "color": "red",
          "width": 1.2
         },
         "lon": [
          100,
          -4.55
         ],
         "mode": "lines",
         "opacity": 0.003,
         "type": "scattergeo"
        },
        {
         "hoverinfo": "none",
         "lat": [
          -4.5833,
          49
         ],
         "line": {
          "color": "red",
          "width": 1.2
         },
         "lon": [
          55.6667,
          32
         ],
         "mode": "lines",
         "opacity": 0.003,
         "type": "scattergeo"
        },
        {
         "hoverinfo": "none",
         "lat": [
          -4.5833,
          -20.2833
         ],
         "line": {
          "color": "red",
          "width": 1.2
         },
         "lon": [
          55.6667,
          57.55
         ],
         "mode": "lines",
         "opacity": 0.003,
         "type": "scattergeo"
        },
        {
         "hoverinfo": "none",
         "lat": [
          47,
          24
         ],
         "line": {
          "color": "red",
          "width": 1.2
         },
         "lon": [
          29,
          54
         ],
         "mode": "lines",
         "opacity": 0.003,
         "type": "scattergeo"
        },
        {
         "hoverinfo": "none",
         "lat": [
          40,
          49.21
         ],
         "line": {
          "color": "red",
          "width": 1.2
         },
         "lon": [
          -4,
          -2.13
         ],
         "mode": "lines",
         "opacity": 0.003,
         "type": "scattergeo"
        },
        {
         "hoverinfo": "none",
         "lat": [
          25.5,
          31
         ],
         "line": {
          "color": "red",
          "width": 1.2
         },
         "lon": [
          51.25,
          36
         ],
         "mode": "lines",
         "opacity": 0.003,
         "type": "scattergeo"
        },
        {
         "hoverinfo": "none",
         "lat": [
          3.25,
          49.21
         ],
         "line": {
          "color": "red",
          "width": 1.2
         },
         "lon": [
          73,
          -2.13
         ],
         "mode": "lines",
         "opacity": 0.003,
         "type": "scattergeo"
        },
        {
         "hoverinfo": "none",
         "lat": [
          2.5,
          24.25
         ],
         "line": {
          "color": "red",
          "width": 1.2
         },
         "lon": [
          112.5,
          -76
         ],
         "mode": "lines",
         "opacity": 0.003,
         "type": "scattergeo"
        },
        {
         "hoverinfo": "none",
         "lat": [
          13.4667,
          54
         ],
         "line": {
          "color": "red",
          "width": 1.2
         },
         "lon": [
          -16.5667,
          -2
         ],
         "mode": "lines",
         "opacity": 0.003,
         "type": "scattergeo"
        },
        {
         "hoverinfo": "none",
         "lat": [
          10,
          38
         ],
         "line": {
          "color": "red",
          "width": 1.2
         },
         "lon": [
          -84,
          -97
         ],
         "mode": "lines",
         "opacity": 0.003,
         "type": "scattergeo"
        },
        {
         "hoverinfo": "none",
         "lat": [
          51,
          18.5
         ],
         "line": {
          "color": "red",
          "width": 1.2
         },
         "lon": [
          9,
          -64.5
         ],
         "mode": "lines",
         "opacity": 0.003,
         "type": "scattergeo"
        },
        {
         "hoverinfo": "none",
         "lat": [
          1,
          -20.2833
         ],
         "line": {
          "color": "red",
          "width": 1.2
         },
         "lon": [
          38,
          57.55
         ],
         "mode": "lines",
         "opacity": 0.003,
         "type": "scattergeo"
        },
        {
         "hoverinfo": "none",
         "lat": [
          42.8333,
          49.21
         ],
         "line": {
          "color": "red",
          "width": 1.2
         },
         "lon": [
          12.8333,
          -2.13
         ],
         "mode": "lines",
         "opacity": 0.003,
         "type": "scattergeo"
        },
        {
         "hoverinfo": "none",
         "lat": [
          18.25,
          22.25
         ],
         "line": {
          "color": "red",
          "width": 1.2
         },
         "lon": [
          -77.5,
          114.1667
         ],
         "mode": "lines",
         "opacity": 0.003,
         "type": "scattergeo"
        },
        {
         "hoverinfo": "none",
         "lat": [
          19.5,
          38
         ],
         "line": {
          "color": "red",
          "width": 1.2
         },
         "lon": [
          -80.5,
          -97
         ],
         "mode": "lines",
         "opacity": 0.003,
         "type": "scattergeo"
        },
        {
         "hoverinfo": "none",
         "lat": [
          29.3375,
          54.23
         ],
         "line": {
          "color": "red",
          "width": 1.2
         },
         "lon": [
          47.6581,
          -4.55
         ],
         "mode": "lines",
         "opacity": 0.003,
         "type": "scattergeo"
        },
        {
         "hoverinfo": "none",
         "lat": [
          19.5,
          9
         ],
         "line": {
          "color": "red",
          "width": 1.2
         },
         "lon": [
          -80.5,
          -80
         ],
         "mode": "lines",
         "opacity": 0.003,
         "type": "scattergeo"
        },
        {
         "hoverinfo": "none",
         "lat": [
          10,
          17.3333
         ],
         "line": {
          "color": "red",
          "width": 1.2
         },
         "lon": [
          -84,
          -62.75
         ],
         "mode": "lines",
         "opacity": 0.003,
         "type": "scattergeo"
        },
        {
         "hoverinfo": "none",
         "lat": [
          42.8333,
          54
         ],
         "line": {
          "color": "red",
          "width": 1.2
         },
         "lon": [
          12.8333,
          -2
         ],
         "mode": "lines",
         "opacity": 0.003,
         "type": "scattergeo"
        },
        {
         "hoverinfo": "none",
         "lat": [
          29.3375,
          24
         ],
         "line": {
          "color": "red",
          "width": 1.2
         },
         "lon": [
          47.6581,
          54
         ],
         "mode": "lines",
         "opacity": 0.003,
         "type": "scattergeo"
        },
        {
         "hoverinfo": "none",
         "lat": [
          -21.2333,
          22.25
         ],
         "line": {
          "color": "red",
          "width": 1.2
         },
         "lon": [
          -159.7667,
          114.1667
         ],
         "mode": "lines",
         "opacity": 0.003,
         "type": "scattergeo"
        },
        {
         "hoverinfo": "none",
         "lat": [
          47,
          49.75
         ],
         "line": {
          "color": "red",
          "width": 1.2
         },
         "lon": [
          20,
          6.1667
         ],
         "mode": "lines",
         "opacity": 0.003,
         "type": "scattergeo"
        },
        {
         "hoverinfo": "none",
         "lat": [
          17.3333,
          54
         ],
         "line": {
          "color": "red",
          "width": 1.2
         },
         "lon": [
          -62.75,
          -2
         ],
         "mode": "lines",
         "opacity": 0.003,
         "type": "scattergeo"
        },
        {
         "hoverinfo": "none",
         "lat": [
          36,
          35
         ],
         "line": {
          "color": "red",
          "width": 1.2
         },
         "lon": [
          138,
          105
         ],
         "mode": "lines",
         "opacity": 0.003,
         "type": "scattergeo"
        },
        {
         "hoverinfo": "none",
         "lat": [
          17.3333,
          17.25
         ],
         "line": {
          "color": "red",
          "width": 1.2
         },
         "lon": [
          -62.75,
          -88.75
         ],
         "mode": "lines",
         "opacity": 0.003,
         "type": "scattergeo"
        },
        {
         "hoverinfo": "none",
         "lat": [
          43.7333,
          1.3667
         ],
         "line": {
          "color": "red",
          "width": 1.2
         },
         "lon": [
          7.4,
          103.8
         ],
         "mode": "lines",
         "opacity": 0.003,
         "type": "scattergeo"
        },
        {
         "hoverinfo": "none",
         "lat": [
          22.25,
          60
         ],
         "line": {
          "color": "red",
          "width": 1.2
         },
         "lon": [
          114.1667,
          -95
         ],
         "mode": "lines",
         "opacity": 0.003,
         "type": "scattergeo"
        },
        {
         "hoverinfo": "none",
         "lat": [
          35,
          57
         ],
         "line": {
          "color": "red",
          "width": 1.2
         },
         "lon": [
          33,
          25
         ],
         "mode": "lines",
         "opacity": 0.003,
         "type": "scattergeo"
        },
        {
         "hoverinfo": "none",
         "lat": [
          22.1667,
          1.3667
         ],
         "line": {
          "color": "red",
          "width": 1.2
         },
         "lon": [
          113.55,
          103.8
         ],
         "mode": "lines",
         "opacity": 0.003,
         "type": "scattergeo"
        },
        {
         "hoverinfo": "none",
         "lat": [
          39,
          22.25
         ],
         "line": {
          "color": "red",
          "width": 1.2
         },
         "lon": [
          22,
          114.1667
         ],
         "mode": "lines",
         "opacity": 0.003,
         "type": "scattergeo"
        },
        {
         "hoverinfo": "none",
         "lat": [
          35,
          49.21
         ],
         "line": {
          "color": "red",
          "width": 1.2
         },
         "lon": [
          105,
          -2.13
         ],
         "mode": "lines",
         "opacity": 0.003,
         "type": "scattergeo"
        },
        {
         "hoverinfo": "none",
         "lat": [
          32,
          49.5
         ],
         "line": {
          "color": "red",
          "width": 1.2
         },
         "lon": [
          53,
          -2.56
         ],
         "mode": "lines",
         "opacity": 0.003,
         "type": "scattergeo"
        },
        {
         "hoverinfo": "none",
         "lat": [
          57,
          54
         ],
         "line": {
          "color": "red",
          "width": 1.2
         },
         "lon": [
          25,
          -2
         ],
         "mode": "lines",
         "opacity": 0.003,
         "type": "scattergeo"
        },
        {
         "hoverinfo": "none",
         "lat": [
          49.75,
          60
         ],
         "line": {
          "color": "red",
          "width": 1.2
         },
         "lon": [
          6.1667,
          100
         ],
         "mode": "lines",
         "opacity": 0.003,
         "type": "scattergeo"
        },
        {
         "hoverinfo": "none",
         "lat": [
          32,
          47
         ],
         "line": {
          "color": "red",
          "width": 1.2
         },
         "lon": [
          53,
          8
         ],
         "mode": "lines",
         "opacity": 0.003,
         "type": "scattergeo"
        },
        {
         "hoverinfo": "none",
         "lat": [
          42.8333,
          24.25
         ],
         "line": {
          "color": "red",
          "width": 1.2
         },
         "lon": [
          12.8333,
          -76
         ],
         "mode": "lines",
         "opacity": 0.00275,
         "type": "scattergeo"
        },
        {
         "hoverinfo": "none",
         "lat": [
          -29,
          36.1833
         ],
         "line": {
          "color": "red",
          "width": 1.2
         },
         "lon": [
          24,
          -5.3667
         ],
         "mode": "lines",
         "opacity": 0.00275,
         "type": "scattergeo"
        },
        {
         "hoverinfo": "none",
         "lat": [
          21.75,
          49.21
         ],
         "line": {
          "color": "red",
          "width": 1.2
         },
         "lon": [
          -71.5833,
          -2.13
         ],
         "mode": "lines",
         "opacity": 0.00275,
         "type": "scattergeo"
        },
        {
         "hoverinfo": "none",
         "lat": [
          21.75,
          36.1833
         ],
         "line": {
          "color": "red",
          "width": 1.2
         },
         "lon": [
          -71.5833,
          -5.3667
         ],
         "mode": "lines",
         "opacity": 0.00275,
         "type": "scattergeo"
        },
        {
         "hoverinfo": "none",
         "lat": [
          -4.5833,
          40
         ],
         "line": {
          "color": "red",
          "width": 1.2
         },
         "lon": [
          55.6667,
          -4
         ],
         "mode": "lines",
         "opacity": 0.00275,
         "type": "scattergeo"
        },
        {
         "hoverinfo": "none",
         "lat": [
          32,
          -13.5833
         ],
         "line": {
          "color": "red",
          "width": 1.2
         },
         "lon": [
          53,
          -172.3333
         ],
         "mode": "lines",
         "opacity": 0.00275,
         "type": "scattergeo"
        },
        {
         "hoverinfo": "none",
         "lat": [
          -4.5833,
          42.5
         ],
         "line": {
          "color": "red",
          "width": 1.2
         },
         "lon": [
          55.6667,
          1.6
         ],
         "mode": "lines",
         "opacity": 0.00275,
         "type": "scattergeo"
        },
        {
         "hoverinfo": "none",
         "lat": [
          62,
          49.75
         ],
         "line": {
          "color": "red",
          "width": 1.2
         },
         "lon": [
          15,
          6.1667
         ],
         "mode": "lines",
         "opacity": 0.00275,
         "type": "scattergeo"
        },
        {
         "hoverinfo": "none",
         "lat": [
          44,
          49.21
         ],
         "line": {
          "color": "red",
          "width": 1.2
         },
         "lon": [
          21,
          -2.13
         ],
         "mode": "lines",
         "opacity": 0.00275,
         "type": "scattergeo"
        },
        {
         "hoverinfo": "none",
         "lat": [
          -15,
          54.23
         ],
         "line": {
          "color": "red",
          "width": 1.2
         },
         "lon": [
          30,
          -4.55
         ],
         "mode": "lines",
         "opacity": 0.00275,
         "type": "scattergeo"
        },
        {
         "hoverinfo": "none",
         "lat": [
          36,
          23.5
         ],
         "line": {
          "color": "red",
          "width": 1.2
         },
         "lon": [
          138,
          121
         ],
         "mode": "lines",
         "opacity": 0.00275,
         "type": "scattergeo"
        },
        {
         "hoverinfo": "none",
         "lat": [
          -20,
          49.21
         ],
         "line": {
          "color": "red",
          "width": 1.2
         },
         "lon": [
          30,
          -2.13
         ],
         "mode": "lines",
         "opacity": 0.00275,
         "type": "scattergeo"
        },
        {
         "hoverinfo": "none",
         "lat": [
          51,
          43.7333
         ],
         "line": {
          "color": "red",
          "width": 1.2
         },
         "lon": [
          9,
          7.4
         ],
         "mode": "lines",
         "opacity": 0.00275,
         "type": "scattergeo"
        },
        {
         "hoverinfo": "none",
         "lat": [
          -13.5833,
          49.75
         ],
         "line": {
          "color": "red",
          "width": 1.2
         },
         "lon": [
          -172.3333,
          6.1667
         ],
         "mode": "lines",
         "opacity": 0.00275,
         "type": "scattergeo"
        },
        {
         "hoverinfo": "none",
         "lat": [
          39,
          53
         ],
         "line": {
          "color": "red",
          "width": 1.2
         },
         "lon": [
          35,
          -8
         ],
         "mode": "lines",
         "opacity": 0.00275,
         "type": "scattergeo"
        },
        {
         "hoverinfo": "none",
         "lat": [
          54,
          -27
         ],
         "line": {
          "color": "red",
          "width": 1.2
         },
         "lon": [
          -2,
          133
         ],
         "mode": "lines",
         "opacity": 0.00275,
         "type": "scattergeo"
        },
        {
         "hoverinfo": "none",
         "lat": [
          -5,
          15
         ],
         "line": {
          "color": "red",
          "width": 1.2
         },
         "lon": [
          120,
          100
         ],
         "mode": "lines",
         "opacity": 0.00275,
         "type": "scattergeo"
        },
        {
         "hoverinfo": "none",
         "lat": [
          46,
          24.25
         ],
         "line": {
          "color": "red",
          "width": 1.2
         },
         "lon": [
          2,
          -76
         ],
         "mode": "lines",
         "opacity": 0.00275,
         "type": "scattergeo"
        },
        {
         "hoverinfo": "none",
         "lat": [
          54.23,
          9
         ],
         "line": {
          "color": "red",
          "width": 1.2
         },
         "lon": [
          -4.55,
          -80
         ],
         "mode": "lines",
         "opacity": 0.00275,
         "type": "scattergeo"
        },
        {
         "hoverinfo": "none",
         "lat": [
          49,
          35.8333
         ],
         "line": {
          "color": "red",
          "width": 1.2
         },
         "lon": [
          32,
          14.5833
         ],
         "mode": "lines",
         "opacity": 0.00275,
         "type": "scattergeo"
        },
        {
         "hoverinfo": "none",
         "lat": [
          42.8333,
          9
         ],
         "line": {
          "color": "red",
          "width": 1.2
         },
         "lon": [
          12.8333,
          -80
         ],
         "mode": "lines",
         "opacity": 0.00275,
         "type": "scattergeo"
        },
        {
         "hoverinfo": "none",
         "lat": [
          35,
          31.5
         ],
         "line": {
          "color": "red",
          "width": 1.2
         },
         "lon": [
          33,
          34.75
         ],
         "mode": "lines",
         "opacity": 0.00275,
         "type": "scattergeo"
        },
        {
         "hoverinfo": "none",
         "lat": [
          31.5,
          9
         ],
         "line": {
          "color": "red",
          "width": 1.2
         },
         "lon": [
          34.75,
          -80
         ],
         "mode": "lines",
         "opacity": 0.00275,
         "type": "scattergeo"
        },
        {
         "hoverinfo": "none",
         "lat": [
          38,
          31.5
         ],
         "line": {
          "color": "red",
          "width": 1.2
         },
         "lon": [
          -97,
          34.75
         ],
         "mode": "lines",
         "opacity": 0.00275,
         "type": "scattergeo"
        },
        {
         "hoverinfo": "none",
         "lat": [
          54,
          51
         ],
         "line": {
          "color": "red",
          "width": 1.2
         },
         "lon": [
          -2,
          9
         ],
         "mode": "lines",
         "opacity": 0.00275,
         "type": "scattergeo"
        },
        {
         "hoverinfo": "none",
         "lat": [
          54,
          19.5
         ],
         "line": {
          "color": "red",
          "width": 1.2
         },
         "lon": [
          -2,
          -80.5
         ],
         "mode": "lines",
         "opacity": 0.00275,
         "type": "scattergeo"
        },
        {
         "hoverinfo": "none",
         "lat": [
          42.8333,
          49.5
         ],
         "line": {
          "color": "red",
          "width": 1.2
         },
         "lon": [
          12.8333,
          -2.56
         ],
         "mode": "lines",
         "opacity": 0.00275,
         "type": "scattergeo"
        },
        {
         "hoverinfo": "none",
         "lat": [
          -13.5833,
          24.25
         ],
         "line": {
          "color": "red",
          "width": 1.2
         },
         "lon": [
          -172.3333,
          -76
         ],
         "mode": "lines",
         "opacity": 0.00275,
         "type": "scattergeo"
        },
        {
         "hoverinfo": "none",
         "lat": [
          53,
          59
         ],
         "line": {
          "color": "red",
          "width": 1.2
         },
         "lon": [
          28,
          26
         ],
         "mode": "lines",
         "opacity": 0.00275,
         "type": "scattergeo"
        },
        {
         "hoverinfo": "none",
         "lat": [
          60,
          9
         ],
         "line": {
          "color": "red",
          "width": 1.2
         },
         "lon": [
          100,
          -80
         ],
         "mode": "lines",
         "opacity": 0.00275,
         "type": "scattergeo"
        },
        {
         "hoverinfo": "none",
         "lat": [
          27,
          49.21
         ],
         "line": {
          "color": "red",
          "width": 1.2
         },
         "lon": [
          30,
          -2.13
         ],
         "mode": "lines",
         "opacity": 0.00275,
         "type": "scattergeo"
        },
        {
         "hoverinfo": "none",
         "lat": [
          -10,
          54
         ],
         "line": {
          "color": "red",
          "width": 1.2
         },
         "lon": [
          -55,
          -2
         ],
         "mode": "lines",
         "opacity": 0.00275,
         "type": "scattergeo"
        },
        {
         "hoverinfo": "none",
         "lat": [
          9,
          -10
         ],
         "line": {
          "color": "red",
          "width": 1.2
         },
         "lon": [
          -80,
          -76
         ],
         "mode": "lines",
         "opacity": 0.00275,
         "type": "scattergeo"
        },
        {
         "hoverinfo": "none",
         "lat": [
          49.5,
          15
         ],
         "line": {
          "color": "red",
          "width": 1.2
         },
         "lon": [
          -2.56,
          100
         ],
         "mode": "lines",
         "opacity": 0.00275,
         "type": "scattergeo"
        },
        {
         "hoverinfo": "none",
         "lat": [
          29.3375,
          49.5
         ],
         "line": {
          "color": "red",
          "width": 1.2
         },
         "lon": [
          47.6581,
          -2.56
         ],
         "mode": "lines",
         "opacity": 0.00275,
         "type": "scattergeo"
        },
        {
         "hoverinfo": "none",
         "lat": [
          6,
          35
         ],
         "line": {
          "color": "red",
          "width": 1.2
         },
         "lon": [
          12,
          33
         ],
         "mode": "lines",
         "opacity": 0.00275,
         "type": "scattergeo"
        },
        {
         "hoverinfo": "none",
         "lat": [
          35.8333,
          60
         ],
         "line": {
          "color": "red",
          "width": 1.2
         },
         "lon": [
          14.5833,
          100
         ],
         "mode": "lines",
         "opacity": 0.00275,
         "type": "scattergeo"
        },
        {
         "hoverinfo": "none",
         "lat": [
          22.25,
          -20.2833
         ],
         "line": {
          "color": "red",
          "width": 1.2
         },
         "lon": [
          114.1667,
          57.55
         ],
         "mode": "lines",
         "opacity": 0.00275,
         "type": "scattergeo"
        },
        {
         "hoverinfo": "none",
         "lat": [
          22.25,
          24.25
         ],
         "line": {
          "color": "red",
          "width": 1.2
         },
         "lon": [
          114.1667,
          -76
         ],
         "mode": "lines",
         "opacity": 0.00275,
         "type": "scattergeo"
        },
        {
         "hoverinfo": "none",
         "lat": [
          19,
          49.21
         ],
         "line": {
          "color": "red",
          "width": 1.2
         },
         "lon": [
          -72.4167,
          -2.13
         ],
         "mode": "lines",
         "opacity": 0.00275,
         "type": "scattergeo"
        },
        {
         "hoverinfo": "none",
         "lat": [
          19,
          -33
         ],
         "line": {
          "color": "red",
          "width": 1.2
         },
         "lon": [
          -70.6667,
          -56
         ],
         "mode": "lines",
         "opacity": 0.00275,
         "type": "scattergeo"
        },
        {
         "hoverinfo": "none",
         "lat": [
          -20.2833,
          -33
         ],
         "line": {
          "color": "red",
          "width": 1.2
         },
         "lon": [
          57.55,
          -56
         ],
         "mode": "lines",
         "opacity": 0.00275,
         "type": "scattergeo"
        },
        {
         "hoverinfo": "none",
         "lat": [
          42,
          60
         ],
         "line": {
          "color": "red",
          "width": 1.2
         },
         "lon": [
          43.5,
          100
         ],
         "mode": "lines",
         "opacity": 0.00275,
         "type": "scattergeo"
        },
        {
         "hoverinfo": "none",
         "lat": [
          52.5,
          60
         ],
         "line": {
          "color": "red",
          "width": 1.2
         },
         "lon": [
          5.75,
          100
         ],
         "mode": "lines",
         "opacity": 0.00275,
         "type": "scattergeo"
        },
        {
         "hoverinfo": "none",
         "lat": [
          51,
          54
         ],
         "line": {
          "color": "red",
          "width": 1.2
         },
         "lon": [
          9,
          -2
         ],
         "mode": "lines",
         "opacity": 0.00275,
         "type": "scattergeo"
        },
        {
         "hoverinfo": "none",
         "lat": [
          47,
          51
         ],
         "line": {
          "color": "red",
          "width": 1.2
         },
         "lon": [
          8,
          9
         ],
         "mode": "lines",
         "opacity": 0.00275,
         "type": "scattergeo"
        },
        {
         "hoverinfo": "none",
         "lat": [
          17.3333,
          -2
         ],
         "line": {
          "color": "red",
          "width": 1.2
         },
         "lon": [
          -62.75,
          -77.5
         ],
         "mode": "lines",
         "opacity": 0.00275,
         "type": "scattergeo"
        },
        {
         "hoverinfo": "none",
         "lat": [
          39.5,
          22.25
         ],
         "line": {
          "color": "red",
          "width": 1.2
         },
         "lon": [
          -8,
          114.1667
         ],
         "mode": "lines",
         "opacity": 0.00275,
         "type": "scattergeo"
        },
        {
         "hoverinfo": "none",
         "lat": [
          36.1833,
          22.25
         ],
         "line": {
          "color": "red",
          "width": 1.2
         },
         "lon": [
          -5.3667,
          114.1667
         ],
         "mode": "lines",
         "opacity": 0.00275,
         "type": "scattergeo"
        },
        {
         "hoverinfo": "none",
         "lat": [
          4,
          -2
         ],
         "line": {
          "color": "red",
          "width": 1.2
         },
         "lon": [
          -72,
          -77.5
         ],
         "mode": "lines",
         "opacity": 0.00275,
         "type": "scattergeo"
        },
        {
         "hoverinfo": "none",
         "lat": [
          33.8333,
          15
         ],
         "line": {
          "color": "red",
          "width": 1.2
         },
         "lon": [
          35.8333,
          100
         ],
         "mode": "lines",
         "opacity": 0.00275,
         "type": "scattergeo"
        },
        {
         "hoverinfo": "none",
         "lat": [
          23,
          35.8333
         ],
         "line": {
          "color": "red",
          "width": 1.2
         },
         "lon": [
          -102,
          14.5833
         ],
         "mode": "lines",
         "opacity": 0.00275,
         "type": "scattergeo"
        },
        {
         "hoverinfo": "none",
         "lat": [
          40,
          49.5
         ],
         "line": {
          "color": "red",
          "width": 1.2
         },
         "lon": [
          -4,
          -2.56
         ],
         "mode": "lines",
         "opacity": 0.00275,
         "type": "scattergeo"
        },
        {
         "hoverinfo": "none",
         "lat": [
          25.5,
          54.23
         ],
         "line": {
          "color": "red",
          "width": 1.2
         },
         "lon": [
          51.25,
          -4.55
         ],
         "mode": "lines",
         "opacity": 0.00275,
         "type": "scattergeo"
        },
        {
         "hoverinfo": "none",
         "lat": [
          60,
          35
         ],
         "line": {
          "color": "red",
          "width": 1.2
         },
         "lon": [
          -95,
          33
         ],
         "mode": "lines",
         "opacity": 0.00275,
         "type": "scattergeo"
        },
        {
         "hoverinfo": "none",
         "lat": [
          60,
          54.23
         ],
         "line": {
          "color": "red",
          "width": 1.2
         },
         "lon": [
          -95,
          -4.55
         ],
         "mode": "lines",
         "opacity": 0.00275,
         "type": "scattergeo"
        },
        {
         "hoverinfo": "none",
         "lat": [
          29.3375,
          31
         ],
         "line": {
          "color": "red",
          "width": 1.2
         },
         "lon": [
          47.6581,
          36
         ],
         "mode": "lines",
         "opacity": 0.00275,
         "type": "scattergeo"
        },
        {
         "hoverinfo": "text",
         "lat": [
          22.25,
          23.5,
          35,
          47,
          1.3667,
          -10,
          9,
          -13.5833,
          47.1667,
          40,
          15,
          4,
          49.21,
          42.5,
          -4.5833,
          53,
          50.8333,
          31.5,
          36.1833,
          49.5,
          24,
          35,
          8,
          54.23,
          33.8333,
          56,
          -33,
          31,
          24.25,
          54,
          17.25,
          49.75,
          -2,
          15.5,
          51,
          -20.2833,
          39,
          38,
          43.7333,
          59,
          -19.0333,
          49.75,
          52.5,
          47,
          10,
          39.5,
          19.5,
          -29,
          35.8333,
          -41,
          8,
          19,
          46,
          42.8333,
          60,
          60,
          39,
          25,
          25.5,
          23,
          -10,
          32.3333,
          13.8333,
          -27,
          17.3333,
          -34,
          36,
          47.3333,
          -14.3333,
          -23,
          -30,
          27,
          62,
          18.5,
          52,
          46,
          13,
          13.8833,
          -5,
          15,
          37,
          13.25,
          29.3375,
          19,
          -20,
          15,
          13,
          21.75,
          57,
          10,
          49,
          18.25,
          1,
          46,
          62,
          -17,
          56,
          16,
          12.5,
          43,
          2.5,
          64,
          32,
          -29.5,
          -18.25,
          22.1667,
          8,
          42,
          15,
          17.05,
          20,
          41.8333,
          32,
          14,
          15.4167,
          -22,
          -22,
          21.5,
          6.5,
          -21.2333,
          35,
          53,
          11.5,
          13.1667,
          34,
          26,
          45.1667,
          -0.5333,
          40.5,
          30,
          25,
          1,
          41,
          11,
          65,
          7,
          18.3333,
          -6,
          18.25,
          -13.5,
          15,
          13.4667,
          21,
          18.25,
          17,
          42,
          48,
          -16,
          47,
          -12.5,
          24,
          7,
          4.5,
          41,
          6,
          -15,
          48.6667,
          13,
          46,
          13,
          28,
          16,
          33,
          0,
          18,
          44,
          28,
          3.25,
          -20,
          8.5,
          -2,
          10,
          40,
          -26.5,
          40,
          14.6667,
          39,
          -18,
          -1,
          22,
          9,
          13.4667,
          8,
          9.5,
          11,
          4,
          44,
          16,
          8,
          5,
          32,
          12,
          -8,
          2,
          -21.1,
          -6,
          12.1167,
          43.7667,
          41,
          40
         ],
         "locations": [
          "HKG",
          "TWN",
          "CHN",
          "CHE",
          "SGP",
          "BRA",
          "PAN",
          "WSM",
          "LIE",
          "ESP",
          "THA",
          "COL",
          "JEY",
          "AND",
          "SYC",
          "IRL",
          "BEL",
          "ISR",
          "GIB",
          "GGY",
          "ARE",
          "CYP",
          "VEN",
          "IMN",
          "LBN",
          "DNK",
          "URY",
          "JOR",
          "BHS",
          "GBR",
          "BLZ",
          "LUX",
          "ECU",
          "GTM",
          "DEU",
          "MUS",
          "TUR",
          "USA",
          "MCO",
          "EST",
          "NIU",
          "CZE",
          "NLD",
          "HUN",
          "CRI",
          "PRT",
          "CYM",
          "ZAF",
          "MLT",
          "NZL",
          "CIV",
          "DOM",
          "FRA",
          "ITA",
          "CAN",
          "RUS",
          "GRC",
          "SAU",
          "QAT",
          "MEX",
          "PER",
          "BMU",
          "SLV",
          "AUS",
          "KNA",
          "ARG",
          "JPN",
          "AUT",
          "ASM",
          "PRY",
          "CHL",
          "EGY",
          "SWE",
          "VGB",
          "POL",
          "SVN",
          "PHL",
          "LCA",
          "IDN",
          "HND",
          "KOR",
          "VCT",
          "KWT",
          "HTI",
          "ZWE",
          "SDN",
          "NIC",
          "TCA",
          "LVA",
          "NGA",
          "UKR",
          "AIA",
          "KEN",
          "ROU",
          "NOR",
          "BOL",
          "LTU",
          "VNM",
          "ABW",
          "BGR",
          "MYS",
          "FIN",
          "IRN",
          "LSO",
          "MOZ",
          "MAC",
          "GHA",
          "GEO",
          "YEM",
          "ATG",
          "IND",
          "MKD",
          "MAR",
          "SEN",
          "DMA",
          "NAM",
          "BWA",
          "CUB",
          "LBR",
          "COK",
          "SYR",
          "BLR",
          "DJI",
          "BRB",
          "TUN",
          "BHR",
          "HRV",
          "NRU",
          "AZE",
          "PAK",
          "LBY",
          "UGA",
          "UZB",
          "TTO",
          "ISL",
          "LKA",
          "VIR",
          "TZA",
          "PRI",
          "MWI",
          "TCD",
          "GUM",
          "OMN",
          "JAM",
          "MLI",
          "MNE",
          "KAZ",
          "VUT",
          "MDA",
          "AGO",
          "BGD",
          "CAF",
          "BRN",
          "ALB",
          "CMR",
          "ZMB",
          "SVK",
          "KHM",
          "MNG",
          "BFA",
          "NPL",
          "CPV",
          "IRQ",
          "COD",
          "LAO",
          "SRB",
          "DZA",
          "MDV",
          "MDG",
          "SLE",
          "RWA",
          "SOM",
          "ARM",
          "SWZ",
          "TKM",
          "MTQ",
          "TJK",
          "FJI",
          "GAB",
          "MMR",
          "MHL",
          "GMB",
          "TGO",
          "BEN",
          "GIN",
          "SUR",
          "BIH",
          "NER",
          "ETH",
          "GUY",
          "PSE",
          "GNB",
          "SLB",
          "GNQ",
          "REU",
          "PNG",
          "GRD",
          "SMR",
          "KGZ",
          "PRK"
         ],
         "lon": [
          114.1667,
          121,
          105,
          8,
          103.8,
          -55,
          -80,
          -172.3333,
          9.5333,
          -4,
          100,
          -72,
          -2.13,
          1.6,
          55.6667,
          -8,
          4,
          34.75,
          -5.3667,
          -2.56,
          54,
          33,
          -66,
          -4.55,
          35.8333,
          10,
          -56,
          36,
          -76,
          -2,
          -88.75,
          6.1667,
          -77.5,
          -90.25,
          9,
          57.55,
          35,
          -97,
          7.4,
          26,
          -169.8667,
          15.5,
          5.75,
          20,
          -84,
          -8,
          -80.5,
          24,
          14.5833,
          174,
          -5,
          -70.6667,
          2,
          12.8333,
          -95,
          100,
          22,
          45,
          51.25,
          -102,
          -76,
          -64.75,
          -88.9167,
          133,
          -62.75,
          -64,
          138,
          13.3333,
          -170,
          -58,
          -71,
          30,
          15,
          -64.5,
          20,
          15,
          122,
          -61.1333,
          120,
          -86.5,
          127.5,
          -61.2,
          47.6581,
          -72.4167,
          30,
          30,
          -85,
          -71.5833,
          25,
          8,
          32,
          -63.1667,
          38,
          25,
          10,
          -65,
          24,
          106,
          -69.9667,
          25,
          112.5,
          26,
          53,
          28.5,
          35,
          113.55,
          -2,
          43.5,
          48,
          -61.8,
          77,
          22,
          -5,
          -14,
          -61.3333,
          17,
          24,
          -80,
          -9.5,
          -159.7667,
          38,
          28,
          43,
          -59.5333,
          9,
          50.55,
          15.5,
          166.9167,
          47.5,
          70,
          17,
          32,
          64,
          -61,
          -18,
          81,
          -64.8333,
          35,
          -66.5,
          34,
          19,
          144.7833,
          57,
          -77.5,
          -4,
          19,
          68,
          167,
          29,
          18.5,
          90,
          21,
          114.6667,
          20,
          12,
          30,
          19.5,
          105,
          105,
          -2,
          84,
          -24,
          44,
          25,
          105,
          21,
          3,
          73,
          47,
          -11.5,
          30,
          49,
          45,
          31.5,
          60,
          -61,
          71,
          175,
          11.75,
          98,
          168,
          -16.5667,
          1.1667,
          2.25,
          -10,
          -56,
          18,
          8,
          38,
          -59,
          35.25,
          -15,
          159,
          10,
          55.6,
          147,
          -61.6667,
          12.4167,
          75,
          127
         ],
         "marker": {
          "color": "rgb(255, 0, 0)",
          "line": {
           "color": "rgba(68, 68, 68, 0)",
           "width": 3
          },
          "size": 2
         },
         "mode": "markers",
         "text": [
          "Hong Kong",
          "Taiwan",
          "China",
          "Switzerland",
          "Singapore",
          "Brazil",
          "Panama",
          "Samoa",
          "Liechtenstein",
          "Spain",
          "Thailand",
          "Colombia",
          "Jersey",
          "Andorra",
          "Seychelles",
          "Ireland",
          "Belgium",
          "Israel",
          "Gibraltar",
          "Guernsey",
          "United Arab Emirates",
          "Cyprus",
          "Venezuela",
          "Isle of Man",
          "Lebanon",
          "Denmark",
          "Uruguay",
          "Jordan",
          "Bahamas",
          "United Kingdom",
          "Belize",
          "Luxembourg",
          "Ecuador",
          "Guatemala",
          "Germany",
          "Mauritius",
          "Turkey",
          "United States",
          "Monaco",
          "Estonia",
          "Niue",
          "Czech Republic",
          "Netherlands",
          "Hungary",
          "Costa Rica",
          "Portugal",
          "Cayman Islands",
          "South Africa",
          "Malta",
          "New Zealand",
          "Côte d'Ivoire",
          "Dominican Republic",
          "France",
          "Italy",
          "Canada",
          "Russia",
          "Greece",
          "Saudi Arabia",
          "Qatar",
          "Mexico",
          "Peru",
          "Bermuda",
          "El Salvador",
          "Australia",
          "Saint Kitts and Nevis",
          "Argentina",
          "Japan",
          "Austria",
          "American Samoa",
          "Paraguay",
          "Chile",
          "Egypt",
          "Sweden",
          "British Virgin Islands",
          "Poland",
          "Slovenia",
          "Philippines",
          "Saint Lucia",
          "Indonesia",
          "Honduras",
          "South Korea",
          "Saint Vincent and the Grenadines",
          "Kuwait",
          "Haiti",
          "Zimbabwe",
          "Sudan",
          "Nicaragua",
          "Turks and Caicos Islands",
          "Latvia",
          "Nigeria",
          "Ukraine",
          "Anguilla",
          "Kenya",
          "Romania",
          "Norway",
          "Bolivia",
          "Lithuania",
          "Viet Nam",
          "Aruba",
          "Bulgaria",
          "Malaysia",
          "Finland",
          "Iran",
          "Lesotho",
          "Mozambique",
          "Macao",
          "Ghana",
          "Georgia",
          "Yemen",
          "Antigua and Barbuda",
          "India",
          "Macedonia",
          "Morocco",
          "Senegal",
          "Dominica",
          "Namibia",
          "Botswana",
          "Cuba",
          "Liberia",
          "Cook Islands",
          "Syria",
          "Belarus",
          "Djibouti",
          "Barbados",
          "Tunisia",
          "Bahrain",
          "Croatia",
          "Nauru",
          "Azerbaijan",
          "Pakistan",
          "Libya",
          "Uganda",
          "Uzbekistan",
          "Trinidad and Tobago",
          "Iceland",
          "Sri Lanka",
          "U.S. Virgin Islands",
          "Tanzania",
          "Puerto Rico",
          "Malawi",
          "Chad",
          "Guam",
          "Oman",
          "Jamaica",
          "Mali",
          "Montenegro",
          "Kazakhstan",
          "Vanuatu",
          "Moldova",
          "Angola",
          "Bangladesh",
          "Central African Republic",
          "Brunei",
          "Albania",
          "Cameroon",
          "Zambia",
          "Slovakia",
          "Cambodia",
          "Mongolia",
          "Burkina Faso",
          "Nepal",
          "Cape Verde",
          "Iraq",
          "DR Congo",
          "Laos",
          "Serbia",
          "Algeria",
          "Maldives",
          "Madagascar",
          "Sierra Leone",
          "Rwanda",
          "Somalia",
          "Armenia",
          "Swaziland",
          "Turkmenistan",
          "Martinique",
          "Tajikistan",
          "Fiji",
          "Gabon",
          "Myanmar",
          "Marshall Islands",
          "Gambia",
          "Togo",
          "Benin",
          "Guinea",
          "Suriname",
          "Bosnia and Herzegovina",
          "Niger",
          "Ethiopia",
          "Guyana",
          "Palestine",
          "Guinea-Bissau",
          "Solomon Islands",
          "Equatorial Guinea",
          "Réunion",
          "Papua New Guinea",
          "Grenada",
          "San Marino",
          "Kyrgyzstan",
          "North Korea"
         ],
         "type": "scattergeo"
        }
       ],
       "layout": {
        "geo": {
         "bgcolor": "rgba(255, 255, 255, 0.0)",
         "countrycolor": "rgb(217, 217, 217)",
         "projection": {
          "type": "Mercator"
         },
         "resolution": 10,
         "showcoastlines": false,
         "showcountries": true,
         "showframe": false
        },
        "showlegend": false,
        "title": "Panama Papers edges"
       }
      },
      "text/html": [
       "<div id=\"b39730a2-fc3d-4c90-a12d-edd04f248e0a\" style=\"height: 525px; width: 100%;\" class=\"plotly-graph-div\"></div><script type=\"text/javascript\">require([\"plotly\"], function(Plotly) { window.PLOTLYENV=window.PLOTLYENV || {};window.PLOTLYENV.BASE_URL=\"https://plot.ly\";Plotly.newPlot(\"b39730a2-fc3d-4c90-a12d-edd04f248e0a\", [{\"type\": \"scattergeo\", \"lon\": [105.0, 114.1667], \"lat\": [35.0, 22.25], \"mode\": \"lines\", \"hoverinfo\": \"none\", \"line\": {\"width\": 1.2, \"color\": \"red\"}, \"opacity\": 5.51}, {\"type\": \"scattergeo\", \"lon\": [-64.5, 114.1667], \"lat\": [18.5, 22.25], \"mode\": \"lines\", \"hoverinfo\": \"none\", \"line\": {\"width\": 1.2, \"color\": \"red\"}, \"opacity\": 1.3205}, {\"type\": \"scattergeo\", \"lon\": [-64.5, 8.0], \"lat\": [18.5, 47.0], \"mode\": \"lines\", \"hoverinfo\": \"none\", \"line\": {\"width\": 1.2, \"color\": \"red\"}, \"opacity\": 1.0875}, {\"type\": \"scattergeo\", \"lon\": [6.1667, -80.0], \"lat\": [49.75, 9.0], \"mode\": \"lines\", \"hoverinfo\": \"none\", \"line\": {\"width\": 1.2, \"color\": \"red\"}, \"opacity\": 1.04825}, {\"type\": \"scattergeo\", \"lon\": [-80.0, 8.0], \"lat\": [9.0, 47.0], \"mode\": \"lines\", \"hoverinfo\": \"none\", \"line\": {\"width\": 1.2, \"color\": \"red\"}, \"opacity\": 1.02325}, {\"type\": \"scattergeo\", \"lon\": [-76.0, -76.0], \"lat\": [-10.0, 24.25], \"mode\": \"lines\", \"hoverinfo\": \"none\", \"line\": {\"width\": 1.2, \"color\": \"red\"}, \"opacity\": 0.958}, {\"type\": \"scattergeo\", \"lon\": [-172.3333, 114.1667], \"lat\": [-13.5833, 22.25], \"mode\": \"lines\", \"hoverinfo\": \"none\", \"line\": {\"width\": 1.2, \"color\": \"red\"}, \"opacity\": 0.7105}, {\"type\": \"scattergeo\", \"lon\": [55.6667, 54.0], \"lat\": [-4.5833, 24.0], \"mode\": \"lines\", \"hoverinfo\": \"none\", \"line\": {\"width\": 1.2, \"color\": \"red\"}, \"opacity\": 0.65}, {\"type\": \"scattergeo\", \"lon\": [33.0, 54.0], \"lat\": [35.0, 24.0], \"mode\": \"lines\", \"hoverinfo\": \"none\", \"line\": {\"width\": 1.2, \"color\": \"red\"}, \"opacity\": 0.5165}, {\"type\": \"scattergeo\", \"lon\": [-97.0, 114.1667], \"lat\": [38.0, 22.25], \"mode\": \"lines\", \"hoverinfo\": \"none\", \"line\": {\"width\": 1.2, \"color\": \"red\"}, \"opacity\": 0.466}, {\"type\": \"scattergeo\", \"lon\": [24.0, -2.13], \"lat\": [-29.0, 49.21], \"mode\": \"lines\", \"hoverinfo\": \"none\", \"line\": {\"width\": 1.2, \"color\": \"red\"}, \"opacity\": 0.45}, {\"type\": \"scattergeo\", \"lon\": [15.5, -172.3333], \"lat\": [49.75, -13.5833], \"mode\": \"lines\", \"hoverinfo\": \"none\", \"line\": {\"width\": 1.2, \"color\": \"red\"}, \"opacity\": 0.40775}, {\"type\": \"scattergeo\", \"lon\": [-2.0, 36.0], \"lat\": [54.0, 31.0], \"mode\": \"lines\", \"hoverinfo\": \"none\", \"line\": {\"width\": 1.2, \"color\": \"red\"}, \"opacity\": 0.4075}, {\"type\": \"scattergeo\", \"lon\": [121.0, 114.1667], \"lat\": [23.5, 22.25], \"mode\": \"lines\", \"hoverinfo\": \"none\", \"line\": {\"width\": 1.2, \"color\": \"red\"}, \"opacity\": 0.40375}, {\"type\": \"scattergeo\", \"lon\": [-95.0, -88.75], \"lat\": [60.0, 17.25], \"mode\": \"lines\", \"hoverinfo\": \"none\", \"line\": {\"width\": 1.2, \"color\": \"red\"}, \"opacity\": 0.2945}, {\"type\": \"scattergeo\", \"lon\": [112.5, 103.8], \"lat\": [2.5, 1.3667], \"mode\": \"lines\", \"hoverinfo\": \"none\", \"line\": {\"width\": 1.2, \"color\": \"red\"}, \"opacity\": 0.27475}, {\"type\": \"scattergeo\", \"lon\": [-64.5, 103.8], \"lat\": [18.5, 1.3667], \"mode\": \"lines\", \"hoverinfo\": \"none\", \"line\": {\"width\": 1.2, \"color\": \"red\"}, \"opacity\": 0.258}, {\"type\": \"scattergeo\", \"lon\": [-2.13, -2.0], \"lat\": [49.21, 54.0], \"mode\": \"lines\", \"hoverinfo\": \"none\", \"line\": {\"width\": 1.2, \"color\": \"red\"}, \"opacity\": 0.249}, {\"type\": \"scattergeo\", \"lon\": [120.0, 103.8], \"lat\": [-5.0, 1.3667], \"mode\": \"lines\", \"hoverinfo\": \"none\", \"line\": {\"width\": 1.2, \"color\": \"red\"}, \"opacity\": 0.23725}, {\"type\": \"scattergeo\", \"lon\": [-2.13, 8.0], \"lat\": [49.21, 47.0], \"mode\": \"lines\", \"hoverinfo\": \"none\", \"line\": {\"width\": 1.2, \"color\": \"red\"}, \"opacity\": 0.22325}, {\"type\": \"scattergeo\", \"lon\": [-64.5, -2.13], \"lat\": [18.5, 49.21], \"mode\": \"lines\", \"hoverinfo\": \"none\", \"line\": {\"width\": 1.2, \"color\": \"red\"}, \"opacity\": 0.21625}, {\"type\": \"scattergeo\", \"lon\": [33.0, 55.6667], \"lat\": [35.0, -4.5833], \"mode\": \"lines\", \"hoverinfo\": \"none\", \"line\": {\"width\": 1.2, \"color\": \"red\"}, \"opacity\": 0.20925}, {\"type\": \"scattergeo\", \"lon\": [100.0, 8.0], \"lat\": [60.0, 47.0], \"mode\": \"lines\", \"hoverinfo\": \"none\", \"line\": {\"width\": 1.2, \"color\": \"red\"}, \"opacity\": 0.20725}, {\"type\": \"scattergeo\", \"lon\": [-2.0, 8.0], \"lat\": [54.0, 47.0], \"mode\": \"lines\", \"hoverinfo\": \"none\", \"line\": {\"width\": 1.2, \"color\": \"red\"}, \"opacity\": 0.20725}, {\"type\": \"scattergeo\", \"lon\": [-64.0, -56.0], \"lat\": [-34.0, -33.0], \"mode\": \"lines\", \"hoverinfo\": \"none\", \"line\": {\"width\": 1.2, \"color\": \"red\"}, \"opacity\": 0.207}, {\"type\": \"scattergeo\", \"lon\": [24.0, -2.56], \"lat\": [-29.0, 49.5], \"mode\": \"lines\", \"hoverinfo\": \"none\", \"line\": {\"width\": 1.2, \"color\": \"red\"}, \"opacity\": 0.206}, {\"type\": \"scattergeo\", \"lon\": [-64.5, 54.0], \"lat\": [18.5, 24.0], \"mode\": \"lines\", \"hoverinfo\": \"none\", \"line\": {\"width\": 1.2, \"color\": \"red\"}, \"opacity\": 0.2015}, {\"type\": \"scattergeo\", \"lon\": [-76.0, 8.0], \"lat\": [24.25, 47.0], \"mode\": \"lines\", \"hoverinfo\": \"none\", \"line\": {\"width\": 1.2, \"color\": \"red\"}, \"opacity\": 0.2005}, {\"type\": \"scattergeo\", \"lon\": [-2.0, -5.3667], \"lat\": [54.0, 36.1833], \"mode\": \"lines\", \"hoverinfo\": \"none\", \"line\": {\"width\": 1.2, \"color\": \"red\"}, \"opacity\": 0.195}, {\"type\": \"scattergeo\", \"lon\": [103.8, 114.1667], \"lat\": [1.3667, 22.25], \"mode\": \"lines\", \"hoverinfo\": \"none\", \"line\": {\"width\": 1.2, \"color\": \"red\"}, \"opacity\": 0.18275}, {\"type\": \"scattergeo\", \"lon\": [12.8333, 7.4], \"lat\": [42.8333, 43.7333], \"mode\": \"lines\", \"hoverinfo\": \"none\", \"line\": {\"width\": 1.2, \"color\": \"red\"}, \"opacity\": 0.179}, {\"type\": \"scattergeo\", \"lon\": [-64.5, -4.55], \"lat\": [18.5, 54.23], \"mode\": \"lines\", \"hoverinfo\": \"none\", \"line\": {\"width\": 1.2, \"color\": \"red\"}, \"opacity\": 0.17075}, {\"type\": \"scattergeo\", \"lon\": [20.0, 33.0], \"lat\": [47.0, 35.0], \"mode\": \"lines\", \"hoverinfo\": \"none\", \"line\": {\"width\": 1.2, \"color\": \"red\"}, \"opacity\": 0.16675}, {\"type\": \"scattergeo\", \"lon\": [-64.5, -2.0], \"lat\": [18.5, 54.0], \"mode\": \"lines\", \"hoverinfo\": \"none\", \"line\": {\"width\": 1.2, \"color\": \"red\"}, \"opacity\": 0.1625}, {\"type\": \"scattergeo\", \"lon\": [-55.0, -56.0], \"lat\": [-10.0, -33.0], \"mode\": \"lines\", \"hoverinfo\": \"none\", \"line\": {\"width\": 1.2, \"color\": \"red\"}, \"opacity\": 0.162}, {\"type\": \"scattergeo\", \"lon\": [-2.0, -2.13], \"lat\": [54.0, 49.21], \"mode\": \"lines\", \"hoverinfo\": \"none\", \"line\": {\"width\": 1.2, \"color\": \"red\"}, \"opacity\": 0.1585}, {\"type\": \"scattergeo\", \"lon\": [54.0, -2.0], \"lat\": [24.0, 54.0], \"mode\": \"lines\", \"hoverinfo\": \"none\", \"line\": {\"width\": 1.2, \"color\": \"red\"}, \"opacity\": 0.15375}, {\"type\": \"scattergeo\", \"lon\": [133.0, 114.1667], \"lat\": [-27.0, 22.25], \"mode\": \"lines\", \"hoverinfo\": \"none\", \"line\": {\"width\": 1.2, \"color\": \"red\"}, \"opacity\": 0.14975}, {\"type\": \"scattergeo\", \"lon\": [-2.0, -2.56], \"lat\": [54.0, 49.5], \"mode\": \"lines\", \"hoverinfo\": \"none\", \"line\": {\"width\": 1.2, \"color\": \"red\"}, \"opacity\": 0.149}, {\"type\": \"scattergeo\", \"lon\": [55.6667, -80.0], \"lat\": [-4.5833, 9.0], \"mode\": \"lines\", \"hoverinfo\": \"none\", \"line\": {\"width\": 1.2, \"color\": \"red\"}, \"opacity\": 0.14875}, {\"type\": \"scattergeo\", \"lon\": [-2.13, -2.56], \"lat\": [49.21, 49.5], \"mode\": \"lines\", \"hoverinfo\": \"none\", \"line\": {\"width\": 1.2, \"color\": \"red\"}, \"opacity\": 0.1455}, {\"type\": \"scattergeo\", \"lon\": [-76.0, 54.0], \"lat\": [24.25, 24.0], \"mode\": \"lines\", \"hoverinfo\": \"none\", \"line\": {\"width\": 1.2, \"color\": \"red\"}, \"opacity\": 0.144}, {\"type\": \"scattergeo\", \"lon\": [-80.0, -76.0], \"lat\": [9.0, 24.25], \"mode\": \"lines\", \"hoverinfo\": \"none\", \"line\": {\"width\": 1.2, \"color\": \"red\"}, \"opacity\": 0.141}, {\"type\": \"scattergeo\", \"lon\": [100.0, 54.0], \"lat\": [60.0, 24.0], \"mode\": \"lines\", \"hoverinfo\": \"none\", \"line\": {\"width\": 1.2, \"color\": \"red\"}, \"opacity\": 0.1385}, {\"type\": \"scattergeo\", \"lon\": [-172.3333, -80.0], \"lat\": [-13.5833, 9.0], \"mode\": \"lines\", \"hoverinfo\": \"none\", \"line\": {\"width\": 1.2, \"color\": \"red\"}, \"opacity\": 0.134}, {\"type\": \"scattergeo\", \"lon\": [-62.75, 33.0], \"lat\": [17.3333, 35.0], \"mode\": \"lines\", \"hoverinfo\": \"none\", \"line\": {\"width\": 1.2, \"color\": \"red\"}, \"opacity\": 0.13275}, {\"type\": \"scattergeo\", \"lon\": [-64.5, -5.3667], \"lat\": [18.5, 36.1833], \"mode\": \"lines\", \"hoverinfo\": \"none\", \"line\": {\"width\": 1.2, \"color\": \"red\"}, \"opacity\": 0.1265}, {\"type\": \"scattergeo\", \"lon\": [167.0, -172.3333], \"lat\": [-16.0, -13.5833], \"mode\": \"lines\", \"hoverinfo\": \"none\", \"line\": {\"width\": 1.2, \"color\": \"red\"}, \"opacity\": 0.12525}, {\"type\": \"scattergeo\", \"lon\": [-64.5, -2.56], \"lat\": [18.5, 49.5], \"mode\": \"lines\", \"hoverinfo\": \"none\", \"line\": {\"width\": 1.2, \"color\": \"red\"}, \"opacity\": 0.125}, {\"type\": \"scattergeo\", \"lon\": [33.0, -172.3333], \"lat\": [35.0, -13.5833], \"mode\": \"lines\", \"hoverinfo\": \"none\", \"line\": {\"width\": 1.2, \"color\": \"red\"}, \"opacity\": 0.123}, {\"type\": \"scattergeo\", \"lon\": [55.6667, 100.0], \"lat\": [-4.5833, 60.0], \"mode\": \"lines\", \"hoverinfo\": \"none\", \"line\": {\"width\": 1.2, \"color\": \"red\"}, \"opacity\": 0.11725}, {\"type\": \"scattergeo\", \"lon\": [9.5333, 8.0], \"lat\": [47.1667, 47.0], \"mode\": \"lines\", \"hoverinfo\": \"none\", \"line\": {\"width\": 1.2, \"color\": \"red\"}, \"opacity\": 0.11675}, {\"type\": \"scattergeo\", \"lon\": [-2.0, -4.55], \"lat\": [54.0, 54.23], \"mode\": \"lines\", \"hoverinfo\": \"none\", \"line\": {\"width\": 1.2, \"color\": \"red\"}, \"opacity\": 0.111}, {\"type\": \"scattergeo\", \"lon\": [-80.0, 6.1667], \"lat\": [9.0, 49.75], \"mode\": \"lines\", \"hoverinfo\": \"none\", \"line\": {\"width\": 1.2, \"color\": \"red\"}, \"opacity\": 0.11075}, {\"type\": \"scattergeo\", \"lon\": [35.0, 8.0], \"lat\": [39.0, 47.0], \"mode\": \"lines\", \"hoverinfo\": \"none\", \"line\": {\"width\": 1.2, \"color\": \"red\"}, \"opacity\": 0.1095}, {\"type\": \"scattergeo\", \"lon\": [-172.3333, 105.0], \"lat\": [-13.5833, 35.0], \"mode\": \"lines\", \"hoverinfo\": \"none\", \"line\": {\"width\": 1.2, \"color\": \"red\"}, \"opacity\": 0.10775}, {\"type\": \"scattergeo\", \"lon\": [112.5, 114.1667], \"lat\": [2.5, 22.25], \"mode\": \"lines\", \"hoverinfo\": \"none\", \"line\": {\"width\": 1.2, \"color\": \"red\"}, \"opacity\": 0.106}, {\"type\": \"scattergeo\", \"lon\": [-61.3333, -172.3333], \"lat\": [15.4167, -13.5833], \"mode\": \"lines\", \"hoverinfo\": \"none\", \"line\": {\"width\": 1.2, \"color\": \"red\"}, \"opacity\": 0.1}, {\"type\": \"scattergeo\", \"lon\": [8.0, 54.0], \"lat\": [47.0, 24.0], \"mode\": \"lines\", \"hoverinfo\": \"none\", \"line\": {\"width\": 1.2, \"color\": \"red\"}, \"opacity\": 0.09975}, {\"type\": \"scattergeo\", \"lon\": [-55.0, 8.0], \"lat\": [-10.0, 47.0], \"mode\": \"lines\", \"hoverinfo\": \"none\", \"line\": {\"width\": 1.2, \"color\": \"red\"}, \"opacity\": 0.09825}, {\"type\": \"scattergeo\", \"lon\": [-2.56, 8.0], \"lat\": [49.5, 47.0], \"mode\": \"lines\", \"hoverinfo\": \"none\", \"line\": {\"width\": 1.2, \"color\": \"red\"}, \"opacity\": 0.0965}, {\"type\": \"scattergeo\", \"lon\": [-64.5, 33.0], \"lat\": [18.5, 35.0], \"mode\": \"lines\", \"hoverinfo\": \"none\", \"line\": {\"width\": 1.2, \"color\": \"red\"}, \"opacity\": 0.096}, {\"type\": \"scattergeo\", \"lon\": [-80.5, 114.1667], \"lat\": [19.5, 22.25], \"mode\": \"lines\", \"hoverinfo\": \"none\", \"line\": {\"width\": 1.2, \"color\": \"red\"}, \"opacity\": 0.0945}, {\"type\": \"scattergeo\", \"lon\": [-2.0, 114.1667], \"lat\": [54.0, 22.25], \"mode\": \"lines\", \"hoverinfo\": \"none\", \"line\": {\"width\": 1.2, \"color\": \"red\"}, \"opacity\": 0.09275}, {\"type\": \"scattergeo\", \"lon\": [-4.55, -2.13], \"lat\": [54.23, 49.21], \"mode\": \"lines\", \"hoverinfo\": \"none\", \"line\": {\"width\": 1.2, \"color\": \"red\"}, \"opacity\": 0.0915}, {\"type\": \"scattergeo\", \"lon\": [-95.0, 114.1667], \"lat\": [60.0, 22.25], \"mode\": \"lines\", \"hoverinfo\": \"none\", \"line\": {\"width\": 1.2, \"color\": \"red\"}, \"opacity\": 0.08575}, {\"type\": \"scattergeo\", \"lon\": [-2.56, -2.0], \"lat\": [49.5, 54.0], \"mode\": \"lines\", \"hoverinfo\": \"none\", \"line\": {\"width\": 1.2, \"color\": \"red\"}, \"opacity\": 0.084}, {\"type\": \"scattergeo\", \"lon\": [-76.0, 103.8], \"lat\": [24.25, 1.3667], \"mode\": \"lines\", \"hoverinfo\": \"none\", \"line\": {\"width\": 1.2, \"color\": \"red\"}, \"opacity\": 0.08325}, {\"type\": \"scattergeo\", \"lon\": [138.0, 114.1667], \"lat\": [36.0, 22.25], \"mode\": \"lines\", \"hoverinfo\": \"none\", \"line\": {\"width\": 1.2, \"color\": \"red\"}, \"opacity\": 0.0825}, {\"type\": \"scattergeo\", \"lon\": [-64.5, 6.1667], \"lat\": [18.5, 49.75], \"mode\": \"lines\", \"hoverinfo\": \"none\", \"line\": {\"width\": 1.2, \"color\": \"red\"}, \"opacity\": 0.08125}, {\"type\": \"scattergeo\", \"lon\": [-172.3333, 8.0], \"lat\": [-13.5833, 47.0], \"mode\": \"lines\", \"hoverinfo\": \"none\", \"line\": {\"width\": 1.2, \"color\": \"red\"}, \"opacity\": 0.08075}, {\"type\": \"scattergeo\", \"lon\": [54.0, 36.0], \"lat\": [24.0, 31.0], \"mode\": \"lines\", \"hoverinfo\": \"none\", \"line\": {\"width\": 1.2, \"color\": \"red\"}, \"opacity\": 0.08025}, {\"type\": \"scattergeo\", \"lon\": [8.0, 57.55], \"lat\": [47.0, -20.2833], \"mode\": \"lines\", \"hoverinfo\": \"none\", \"line\": {\"width\": 1.2, \"color\": \"red\"}, \"opacity\": 0.07975}, {\"type\": \"scattergeo\", \"lon\": [-64.5, 105.0], \"lat\": [18.5, 35.0], \"mode\": \"lines\", \"hoverinfo\": \"none\", \"line\": {\"width\": 1.2, \"color\": \"red\"}, \"opacity\": 0.078}, {\"type\": \"scattergeo\", \"lon\": [-64.5, 100.0], \"lat\": [18.5, 60.0], \"mode\": \"lines\", \"hoverinfo\": \"none\", \"line\": {\"width\": 1.2, \"color\": \"red\"}, \"opacity\": 0.077}, {\"type\": \"scattergeo\", \"lon\": [-55.0, -97.0], \"lat\": [-10.0, 38.0], \"mode\": \"lines\", \"hoverinfo\": \"none\", \"line\": {\"width\": 1.2, \"color\": \"red\"}, \"opacity\": 0.075}, {\"type\": \"scattergeo\", \"lon\": [-80.0, 9.5333], \"lat\": [9.0, 47.1667], \"mode\": \"lines\", \"hoverinfo\": \"none\", \"line\": {\"width\": 1.2, \"color\": \"red\"}, \"opacity\": 0.07425}, {\"type\": \"scattergeo\", \"lon\": [-2.13, 57.55], \"lat\": [49.21, -20.2833], \"mode\": \"lines\", \"hoverinfo\": \"none\", \"line\": {\"width\": 1.2, \"color\": \"red\"}, \"opacity\": 0.07425}, {\"type\": \"scattergeo\", \"lon\": [2.0, 8.0], \"lat\": [46.0, 47.0], \"mode\": \"lines\", \"hoverinfo\": \"none\", \"line\": {\"width\": 1.2, \"color\": \"red\"}, \"opacity\": 0.07425}, {\"type\": \"scattergeo\", \"lon\": [-76.0, 33.0], \"lat\": [24.25, 35.0], \"mode\": \"lines\", \"hoverinfo\": \"none\", \"line\": {\"width\": 1.2, \"color\": \"red\"}, \"opacity\": 0.074}, {\"type\": \"scattergeo\", \"lon\": [-62.75, -172.3333], \"lat\": [17.3333, -13.5833], \"mode\": \"lines\", \"hoverinfo\": \"none\", \"line\": {\"width\": 1.2, \"color\": \"red\"}, \"opacity\": 0.07375}, {\"type\": \"scattergeo\", \"lon\": [-80.0, -2.0], \"lat\": [9.0, 54.0], \"mode\": \"lines\", \"hoverinfo\": \"none\", \"line\": {\"width\": 1.2, \"color\": \"red\"}, \"opacity\": 0.0735}, {\"type\": \"scattergeo\", \"lon\": [35.8333, 36.0], \"lat\": [33.8333, 31.0], \"mode\": \"lines\", \"hoverinfo\": \"none\", \"line\": {\"width\": 1.2, \"color\": \"red\"}, \"opacity\": 0.07075}, {\"type\": \"scattergeo\", \"lon\": [-4.55, 33.0], \"lat\": [54.23, 35.0], \"mode\": \"lines\", \"hoverinfo\": \"none\", \"line\": {\"width\": 1.2, \"color\": \"red\"}, \"opacity\": 0.07075}, {\"type\": \"scattergeo\", \"lon\": [-2.56, -2.13], \"lat\": [49.5, 49.21], \"mode\": \"lines\", \"hoverinfo\": \"none\", \"line\": {\"width\": 1.2, \"color\": \"red\"}, \"opacity\": 0.0695}, {\"type\": \"scattergeo\", \"lon\": [55.6667, 8.0], \"lat\": [-4.5833, 47.0], \"mode\": \"lines\", \"hoverinfo\": \"none\", \"line\": {\"width\": 1.2, \"color\": \"red\"}, \"opacity\": 0.06925}, {\"type\": \"scattergeo\", \"lon\": [113.55, 114.1667], \"lat\": [22.1667, 22.25], \"mode\": \"lines\", \"hoverinfo\": \"none\", \"line\": {\"width\": 1.2, \"color\": \"red\"}, \"opacity\": 0.0665}, {\"type\": \"scattergeo\", \"lon\": [57.55, -172.3333], \"lat\": [-20.2833, -13.5833], \"mode\": \"lines\", \"hoverinfo\": \"none\", \"line\": {\"width\": 1.2, \"color\": \"red\"}, \"opacity\": 0.06525}, {\"type\": \"scattergeo\", \"lon\": [-80.0, 54.0], \"lat\": [9.0, 24.0], \"mode\": \"lines\", \"hoverinfo\": \"none\", \"line\": {\"width\": 1.2, \"color\": \"red\"}, \"opacity\": 0.065}, {\"type\": \"scattergeo\", \"lon\": [8.0, -169.8667], \"lat\": [47.0, -19.0333], \"mode\": \"lines\", \"hoverinfo\": \"none\", \"line\": {\"width\": 1.2, \"color\": \"red\"}, \"opacity\": 0.06325}, {\"type\": \"scattergeo\", \"lon\": [-4.0, 8.0], \"lat\": [40.0, 47.0], \"mode\": \"lines\", \"hoverinfo\": \"none\", \"line\": {\"width\": 1.2, \"color\": \"red\"}, \"opacity\": 0.063}, {\"type\": \"scattergeo\", \"lon\": [-64.5, 9.5333], \"lat\": [18.5, 47.1667], \"mode\": \"lines\", \"hoverinfo\": \"none\", \"line\": {\"width\": 1.2, \"color\": \"red\"}, \"opacity\": 0.0625}, {\"type\": \"scattergeo\", \"lon\": [-172.3333, 121.0], \"lat\": [-13.5833, 23.5], \"mode\": \"lines\", \"hoverinfo\": \"none\", \"line\": {\"width\": 1.2, \"color\": \"red\"}, \"opacity\": 0.06225}, {\"type\": \"scattergeo\", \"lon\": [8.0, -76.0], \"lat\": [47.0, 24.25], \"mode\": \"lines\", \"hoverinfo\": \"none\", \"line\": {\"width\": 1.2, \"color\": \"red\"}, \"opacity\": 0.06125}, {\"type\": \"scattergeo\", \"lon\": [122.0, 114.1667], \"lat\": [13.0, 22.25], \"mode\": \"lines\", \"hoverinfo\": \"none\", \"line\": {\"width\": 1.2, \"color\": \"red\"}, \"opacity\": 0.06125}, {\"type\": \"scattergeo\", \"lon\": [100.0, 26.0], \"lat\": [60.0, 59.0], \"mode\": \"lines\", \"hoverinfo\": \"none\", \"line\": {\"width\": 1.2, \"color\": \"red\"}, \"opacity\": 0.06075}, {\"type\": \"scattergeo\", \"lon\": [-64.5, -76.0], \"lat\": [18.5, 24.25], \"mode\": \"lines\", \"hoverinfo\": \"none\", \"line\": {\"width\": 1.2, \"color\": \"red\"}, \"opacity\": 0.05975}, {\"type\": \"scattergeo\", \"lon\": [-172.3333, 103.8], \"lat\": [-13.5833, 1.3667], \"mode\": \"lines\", \"hoverinfo\": \"none\", \"line\": {\"width\": 1.2, \"color\": \"red\"}, \"opacity\": 0.05925}, {\"type\": \"scattergeo\", \"lon\": [-56.0, -64.5], \"lat\": [-33.0, 18.5], \"mode\": \"lines\", \"hoverinfo\": \"none\", \"line\": {\"width\": 1.2, \"color\": \"red\"}, \"opacity\": 0.059}, {\"type\": \"scattergeo\", \"lon\": [-2.13, -4.55], \"lat\": [49.21, 54.23], \"mode\": \"lines\", \"hoverinfo\": \"none\", \"line\": {\"width\": 1.2, \"color\": \"red\"}, \"opacity\": 0.05875}, {\"type\": \"scattergeo\", \"lon\": [-88.75, 25.0], \"lat\": [17.25, 57.0], \"mode\": \"lines\", \"hoverinfo\": \"none\", \"line\": {\"width\": 1.2, \"color\": \"red\"}, \"opacity\": 0.05825}, {\"type\": \"scattergeo\", \"lon\": [-97.0, 8.0], \"lat\": [38.0, 47.0], \"mode\": \"lines\", \"hoverinfo\": \"none\", \"line\": {\"width\": 1.2, \"color\": \"red\"}, \"opacity\": 0.05775}, {\"type\": \"scattergeo\", \"lon\": [-4.55, 54.0], \"lat\": [54.23, 24.0], \"mode\": \"lines\", \"hoverinfo\": \"none\", \"line\": {\"width\": 1.2, \"color\": \"red\"}, \"opacity\": 0.05725}, {\"type\": \"scattergeo\", \"lon\": [100.0, 114.1667], \"lat\": [15.0, 22.25], \"mode\": \"lines\", \"hoverinfo\": \"none\", \"line\": {\"width\": 1.2, \"color\": \"red\"}, \"opacity\": 0.05675}, {\"type\": \"scattergeo\", \"lon\": [54.0, 8.0], \"lat\": [24.0, 47.0], \"mode\": \"lines\", \"hoverinfo\": \"none\", \"line\": {\"width\": 1.2, \"color\": \"red\"}, \"opacity\": 0.05525}, {\"type\": \"scattergeo\", \"lon\": [-80.0, 26.0], \"lat\": [9.0, 59.0], \"mode\": \"lines\", \"hoverinfo\": \"none\", \"line\": {\"width\": 1.2, \"color\": \"red\"}, \"opacity\": 0.055}, {\"type\": \"scattergeo\", \"lon\": [-72.4167, 114.1667], \"lat\": [19.0, 22.25], \"mode\": \"lines\", \"hoverinfo\": \"none\", \"line\": {\"width\": 1.2, \"color\": \"red\"}, \"opacity\": 0.055}, {\"type\": \"scattergeo\", \"lon\": [100.0, 114.1667], \"lat\": [60.0, 22.25], \"mode\": \"lines\", \"hoverinfo\": \"none\", \"line\": {\"width\": 1.2, \"color\": \"red\"}, \"opacity\": 0.0545}, {\"type\": \"scattergeo\", \"lon\": [114.1667, 105.0], \"lat\": [22.25, 35.0], \"mode\": \"lines\", \"hoverinfo\": \"none\", \"line\": {\"width\": 1.2, \"color\": \"red\"}, \"opacity\": 0.05225}, {\"type\": \"scattergeo\", \"lon\": [55.6667, -2.0], \"lat\": [-4.5833, 54.0], \"mode\": \"lines\", \"hoverinfo\": \"none\", \"line\": {\"width\": 1.2, \"color\": \"red\"}, \"opacity\": 0.05225}, {\"type\": \"scattergeo\", \"lon\": [121.0, 103.8], \"lat\": [23.5, 1.3667], \"mode\": \"lines\", \"hoverinfo\": \"none\", \"line\": {\"width\": 1.2, \"color\": \"red\"}, \"opacity\": 0.0515}, {\"type\": \"scattergeo\", \"lon\": [55.6667, 6.1667], \"lat\": [-4.5833, 49.75], \"mode\": \"lines\", \"hoverinfo\": \"none\", \"line\": {\"width\": 1.2, \"color\": \"red\"}, \"opacity\": 0.0515}, {\"type\": \"scattergeo\", \"lon\": [45.0, 36.0], \"lat\": [25.0, 31.0], \"mode\": \"lines\", \"hoverinfo\": \"none\", \"line\": {\"width\": 1.2, \"color\": \"red\"}, \"opacity\": 0.05075}, {\"type\": \"scattergeo\", \"lon\": [100.0, 33.0], \"lat\": [60.0, 35.0], \"mode\": \"lines\", \"hoverinfo\": \"none\", \"line\": {\"width\": 1.2, \"color\": \"red\"}, \"opacity\": 0.0505}, {\"type\": \"scattergeo\", \"lon\": [-2.56, 114.1667], \"lat\": [49.5, 22.25], \"mode\": \"lines\", \"hoverinfo\": \"none\", \"line\": {\"width\": 1.2, \"color\": \"red\"}, \"opacity\": 0.0505}, {\"type\": \"scattergeo\", \"lon\": [114.1667, 103.8], \"lat\": [22.25, 1.3667], \"mode\": \"lines\", \"hoverinfo\": \"none\", \"line\": {\"width\": 1.2, \"color\": \"red\"}, \"opacity\": 0.05025}, {\"type\": \"scattergeo\", \"lon\": [-61.8, -172.3333], \"lat\": [17.05, -13.5833], \"mode\": \"lines\", \"hoverinfo\": \"none\", \"line\": {\"width\": 1.2, \"color\": \"red\"}, \"opacity\": 0.05025}, {\"type\": \"scattergeo\", \"lon\": [-2.56, -4.55], \"lat\": [49.5, 54.23], \"mode\": \"lines\", \"hoverinfo\": \"none\", \"line\": {\"width\": 1.2, \"color\": \"red\"}, \"opacity\": 0.05}, {\"type\": \"scattergeo\", \"lon\": [-63.1667, 12.8333], \"lat\": [18.25, 42.8333], \"mode\": \"lines\", \"hoverinfo\": \"none\", \"line\": {\"width\": 1.2, \"color\": \"red\"}, \"opacity\": 0.05}, {\"type\": \"scattergeo\", \"lon\": [-18.0, 6.1667], \"lat\": [65.0, 49.75], \"mode\": \"lines\", \"hoverinfo\": \"none\", \"line\": {\"width\": 1.2, \"color\": \"red\"}, \"opacity\": 0.04925}, {\"type\": \"scattergeo\", \"lon\": [34.75, 8.0], \"lat\": [31.5, 47.0], \"mode\": \"lines\", \"hoverinfo\": \"none\", \"line\": {\"width\": 1.2, \"color\": \"red\"}, \"opacity\": 0.04925}, {\"type\": \"scattergeo\", \"lon\": [-76.0, 114.1667], \"lat\": [24.25, 22.25], \"mode\": \"lines\", \"hoverinfo\": \"none\", \"line\": {\"width\": 1.2, \"color\": \"red\"}, \"opacity\": 0.04925}, {\"type\": \"scattergeo\", \"lon\": [45.0, 8.0], \"lat\": [25.0, 47.0], \"mode\": \"lines\", \"hoverinfo\": \"none\", \"line\": {\"width\": 1.2, \"color\": \"red\"}, \"opacity\": 0.04825}, {\"type\": \"scattergeo\", \"lon\": [133.0, -172.3333], \"lat\": [-27.0, -13.5833], \"mode\": \"lines\", \"hoverinfo\": \"none\", \"line\": {\"width\": 1.2, \"color\": \"red\"}, \"opacity\": 0.048}, {\"type\": \"scattergeo\", \"lon\": [30.0, -4.55], \"lat\": [-20.0, 54.23], \"mode\": \"lines\", \"hoverinfo\": \"none\", \"line\": {\"width\": 1.2, \"color\": \"red\"}, \"opacity\": 0.048}, {\"type\": \"scattergeo\", \"lon\": [-64.5, 57.55], \"lat\": [18.5, -20.2833], \"mode\": \"lines\", \"hoverinfo\": \"none\", \"line\": {\"width\": 1.2, \"color\": \"red\"}, \"opacity\": 0.047}, {\"type\": \"scattergeo\", \"lon\": [8.0, 9.5333], \"lat\": [47.0, 47.1667], \"mode\": \"lines\", \"hoverinfo\": \"none\", \"line\": {\"width\": 1.2, \"color\": \"red\"}, \"opacity\": 0.047}, {\"type\": \"scattergeo\", \"lon\": [54.0, -172.3333], \"lat\": [24.0, -13.5833], \"mode\": \"lines\", \"hoverinfo\": \"none\", \"line\": {\"width\": 1.2, \"color\": \"red\"}, \"opacity\": 0.04675}, {\"type\": \"scattergeo\", \"lon\": [-80.0, -72.0], \"lat\": [9.0, 4.0], \"mode\": \"lines\", \"hoverinfo\": \"none\", \"line\": {\"width\": 1.2, \"color\": \"red\"}, \"opacity\": 0.0455}, {\"type\": \"scattergeo\", \"lon\": [55.6667, 114.1667], \"lat\": [-4.5833, 22.25], \"mode\": \"lines\", \"hoverinfo\": \"none\", \"line\": {\"width\": 1.2, \"color\": \"red\"}, \"opacity\": 0.04525}, {\"type\": \"scattergeo\", \"lon\": [8.0, -2.0], \"lat\": [47.0, 54.0], \"mode\": \"lines\", \"hoverinfo\": \"none\", \"line\": {\"width\": 1.2, \"color\": \"red\"}, \"opacity\": 0.04475}, {\"type\": \"scattergeo\", \"lon\": [-2.13, 114.1667], \"lat\": [49.21, 22.25], \"mode\": \"lines\", \"hoverinfo\": \"none\", \"line\": {\"width\": 1.2, \"color\": \"red\"}, \"opacity\": 0.04475}, {\"type\": \"scattergeo\", \"lon\": [-80.0, 114.1667], \"lat\": [9.0, 22.25], \"mode\": \"lines\", \"hoverinfo\": \"none\", \"line\": {\"width\": 1.2, \"color\": \"red\"}, \"opacity\": 0.04475}, {\"type\": \"scattergeo\", \"lon\": [-4.55, 8.0], \"lat\": [54.23, 47.0], \"mode\": \"lines\", \"hoverinfo\": \"none\", \"line\": {\"width\": 1.2, \"color\": \"red\"}, \"opacity\": 0.0445}, {\"type\": \"scattergeo\", \"lon\": [-2.13, 54.0], \"lat\": [49.21, 24.0], \"mode\": \"lines\", \"hoverinfo\": \"none\", \"line\": {\"width\": 1.2, \"color\": \"red\"}, \"opacity\": 0.0445}, {\"type\": \"scattergeo\", \"lon\": [-169.8667, 8.0], \"lat\": [-19.0333, 47.0], \"mode\": \"lines\", \"hoverinfo\": \"none\", \"line\": {\"width\": 1.2, \"color\": \"red\"}, \"opacity\": 0.044}, {\"type\": \"scattergeo\", \"lon\": [24.0, -172.3333], \"lat\": [-29.0, -13.5833], \"mode\": \"lines\", \"hoverinfo\": \"none\", \"line\": {\"width\": 1.2, \"color\": \"red\"}, \"opacity\": 0.04375}, {\"type\": \"scattergeo\", \"lon\": [-2.56, 57.55], \"lat\": [49.5, -20.2833], \"mode\": \"lines\", \"hoverinfo\": \"none\", \"line\": {\"width\": 1.2, \"color\": \"red\"}, \"opacity\": 0.04325}, {\"type\": \"scattergeo\", \"lon\": [-62.75, 8.0], \"lat\": [17.3333, 47.0], \"mode\": \"lines\", \"hoverinfo\": \"none\", \"line\": {\"width\": 1.2, \"color\": \"red\"}, \"opacity\": 0.043}, {\"type\": \"scattergeo\", \"lon\": [2.0, 114.1667], \"lat\": [46.0, 22.25], \"mode\": \"lines\", \"hoverinfo\": \"none\", \"line\": {\"width\": 1.2, \"color\": \"red\"}, \"opacity\": 0.0425}, {\"type\": \"scattergeo\", \"lon\": [45.0, -2.0], \"lat\": [25.0, 54.0], \"mode\": \"lines\", \"hoverinfo\": \"none\", \"line\": {\"width\": 1.2, \"color\": \"red\"}, \"opacity\": 0.04175}, {\"type\": \"scattergeo\", \"lon\": [-88.75, -172.3333], \"lat\": [17.25, -13.5833], \"mode\": \"lines\", \"hoverinfo\": \"none\", \"line\": {\"width\": 1.2, \"color\": \"red\"}, \"opacity\": 0.04125}, {\"type\": \"scattergeo\", \"lon\": [-66.0, -97.0], \"lat\": [8.0, 38.0], \"mode\": \"lines\", \"hoverinfo\": \"none\", \"line\": {\"width\": 1.2, \"color\": \"red\"}, \"opacity\": 0.041}, {\"type\": \"scattergeo\", \"lon\": [-4.55, -5.3667], \"lat\": [54.23, 36.1833], \"mode\": \"lines\", \"hoverinfo\": \"none\", \"line\": {\"width\": 1.2, \"color\": \"red\"}, \"opacity\": 0.04025}, {\"type\": \"scattergeo\", \"lon\": [-64.0, -97.0], \"lat\": [-34.0, 38.0], \"mode\": \"lines\", \"hoverinfo\": \"none\", \"line\": {\"width\": 1.2, \"color\": \"red\"}, \"opacity\": 0.03975}, {\"type\": \"scattergeo\", \"lon\": [33.0, -2.13], \"lat\": [35.0, 49.21], \"mode\": \"lines\", \"hoverinfo\": \"none\", \"line\": {\"width\": 1.2, \"color\": \"red\"}, \"opacity\": 0.03975}, {\"type\": \"scattergeo\", \"lon\": [168.0, -2.0], \"lat\": [9.0, 54.0], \"mode\": \"lines\", \"hoverinfo\": \"none\", \"line\": {\"width\": 1.2, \"color\": \"red\"}, \"opacity\": 0.03925}, {\"type\": \"scattergeo\", \"lon\": [-88.75, 8.0], \"lat\": [17.25, 47.0], \"mode\": \"lines\", \"hoverinfo\": \"none\", \"line\": {\"width\": 1.2, \"color\": \"red\"}, \"opacity\": 0.039}, {\"type\": \"scattergeo\", \"lon\": [120.0, 114.1667], \"lat\": [-5.0, 22.25], \"mode\": \"lines\", \"hoverinfo\": \"none\", \"line\": {\"width\": 1.2, \"color\": \"red\"}, \"opacity\": 0.03825}, {\"type\": \"scattergeo\", \"lon\": [6.1667, -2.0], \"lat\": [49.75, 54.0], \"mode\": \"lines\", \"hoverinfo\": \"none\", \"line\": {\"width\": 1.2, \"color\": \"red\"}, \"opacity\": 0.03775}, {\"type\": \"scattergeo\", \"lon\": [30.0, 8.0], \"lat\": [27.0, 47.0], \"mode\": \"lines\", \"hoverinfo\": \"none\", \"line\": {\"width\": 1.2, \"color\": \"red\"}, \"opacity\": 0.0375}, {\"type\": \"scattergeo\", \"lon\": [-97.0, -80.0], \"lat\": [38.0, 9.0], \"mode\": \"lines\", \"hoverinfo\": \"none\", \"line\": {\"width\": 1.2, \"color\": \"red\"}, \"opacity\": 0.03725}, {\"type\": \"scattergeo\", \"lon\": [-4.55, -2.56], \"lat\": [54.23, 49.5], \"mode\": \"lines\", \"hoverinfo\": \"none\", \"line\": {\"width\": 1.2, \"color\": \"red\"}, \"opacity\": 0.03725}, {\"type\": \"scattergeo\", \"lon\": [-64.5, 36.0], \"lat\": [18.5, 31.0], \"mode\": \"lines\", \"hoverinfo\": \"none\", \"line\": {\"width\": 1.2, \"color\": \"red\"}, \"opacity\": 0.03725}, {\"type\": \"scattergeo\", \"lon\": [30.0, -2.56], \"lat\": [-20.0, 49.5], \"mode\": \"lines\", \"hoverinfo\": \"none\", \"line\": {\"width\": 1.2, \"color\": \"red\"}, \"opacity\": 0.03675}, {\"type\": \"scattergeo\", \"lon\": [127.5, 114.1667], \"lat\": [37.0, 22.25], \"mode\": \"lines\", \"hoverinfo\": \"none\", \"line\": {\"width\": 1.2, \"color\": \"red\"}, \"opacity\": 0.0365}, {\"type\": \"scattergeo\", \"lon\": [6.1667, -70.6667], \"lat\": [49.75, 19.0], \"mode\": \"lines\", \"hoverinfo\": \"none\", \"line\": {\"width\": 1.2, \"color\": \"red\"}, \"opacity\": 0.03625}, {\"type\": \"scattergeo\", \"lon\": [-62.75, 100.0], \"lat\": [17.3333, 60.0], \"mode\": \"lines\", \"hoverinfo\": \"none\", \"line\": {\"width\": 1.2, \"color\": \"red\"}, \"opacity\": 0.03625}, {\"type\": \"scattergeo\", \"lon\": [-8.0, 8.0], \"lat\": [39.5, 47.0], \"mode\": \"lines\", \"hoverinfo\": \"none\", \"line\": {\"width\": 1.2, \"color\": \"red\"}, \"opacity\": 0.036}, {\"type\": \"scattergeo\", \"lon\": [-55.0, -64.5], \"lat\": [-10.0, 18.5], \"mode\": \"lines\", \"hoverinfo\": \"none\", \"line\": {\"width\": 1.2, \"color\": \"red\"}, \"opacity\": 0.03575}, {\"type\": \"scattergeo\", \"lon\": [100.0, -2.0], \"lat\": [60.0, 54.0], \"mode\": \"lines\", \"hoverinfo\": \"none\", \"line\": {\"width\": 1.2, \"color\": \"red\"}, \"opacity\": 0.03525}, {\"type\": \"scattergeo\", \"lon\": [8.0, -2.13], \"lat\": [47.0, 49.21], \"mode\": \"lines\", \"hoverinfo\": \"none\", \"line\": {\"width\": 1.2, \"color\": \"red\"}, \"opacity\": 0.035}, {\"type\": \"scattergeo\", \"lon\": [-64.5, -97.0], \"lat\": [18.5, 38.0], \"mode\": \"lines\", \"hoverinfo\": \"none\", \"line\": {\"width\": 1.2, \"color\": \"red\"}, \"opacity\": 0.03475}, {\"type\": \"scattergeo\", \"lon\": [-80.0, -77.5], \"lat\": [9.0, -2.0], \"mode\": \"lines\", \"hoverinfo\": \"none\", \"line\": {\"width\": 1.2, \"color\": \"red\"}, \"opacity\": 0.0345}, {\"type\": \"scattergeo\", \"lon\": [-2.0, -8.0], \"lat\": [54.0, 53.0], \"mode\": \"lines\", \"hoverinfo\": \"none\", \"line\": {\"width\": 1.2, \"color\": \"red\"}, \"opacity\": 0.0335}, {\"type\": \"scattergeo\", \"lon\": [105.0, 103.8], \"lat\": [35.0, 1.3667], \"mode\": \"lines\", \"hoverinfo\": \"none\", \"line\": {\"width\": 1.2, \"color\": \"red\"}, \"opacity\": 0.0335}, {\"type\": \"scattergeo\", \"lon\": [-2.0, 33.0], \"lat\": [54.0, 35.0], \"mode\": \"lines\", \"hoverinfo\": \"none\", \"line\": {\"width\": 1.2, \"color\": \"red\"}, \"opacity\": 0.03325}, {\"type\": \"scattergeo\", \"lon\": [70.0, -2.0], \"lat\": [30.0, 54.0], \"mode\": \"lines\", \"hoverinfo\": \"none\", \"line\": {\"width\": 1.2, \"color\": \"red\"}, \"opacity\": 0.033}, {\"type\": \"scattergeo\", \"lon\": [55.6667, 9.5333], \"lat\": [-4.5833, 47.1667], \"mode\": \"lines\", \"hoverinfo\": \"none\", \"line\": {\"width\": 1.2, \"color\": \"red\"}, \"opacity\": 0.033}, {\"type\": \"scattergeo\", \"lon\": [33.0, 100.0], \"lat\": [35.0, 60.0], \"mode\": \"lines\", \"hoverinfo\": \"none\", \"line\": {\"width\": 1.2, \"color\": \"red\"}, \"opacity\": 0.033}, {\"type\": \"scattergeo\", \"lon\": [-2.13, 103.8], \"lat\": [49.21, 1.3667], \"mode\": \"lines\", \"hoverinfo\": \"none\", \"line\": {\"width\": 1.2, \"color\": \"red\"}, \"opacity\": 0.03225}, {\"type\": \"scattergeo\", \"lon\": [-62.75, 7.4], \"lat\": [17.3333, 43.7333], \"mode\": \"lines\", \"hoverinfo\": \"none\", \"line\": {\"width\": 1.2, \"color\": \"red\"}, \"opacity\": 0.03225}, {\"type\": \"scattergeo\", \"lon\": [-80.5, 8.0], \"lat\": [19.5, 47.0], \"mode\": \"lines\", \"hoverinfo\": \"none\", \"line\": {\"width\": 1.2, \"color\": \"red\"}, \"opacity\": 0.032}, {\"type\": \"scattergeo\", \"lon\": [36.0, 8.0], \"lat\": [31.0, 47.0], \"mode\": \"lines\", \"hoverinfo\": \"none\", \"line\": {\"width\": 1.2, \"color\": \"red\"}, \"opacity\": 0.03125}, {\"type\": \"scattergeo\", \"lon\": [32.0, 54.0], \"lat\": [49.0, 24.0], \"mode\": \"lines\", \"hoverinfo\": \"none\", \"line\": {\"width\": 1.2, \"color\": \"red\"}, \"opacity\": 0.03125}, {\"type\": \"scattergeo\", \"lon\": [8.0, -2.56], \"lat\": [47.0, 49.5], \"mode\": \"lines\", \"hoverinfo\": \"none\", \"line\": {\"width\": 1.2, \"color\": \"red\"}, \"opacity\": 0.03125}, {\"type\": \"scattergeo\", \"lon\": [-64.75, -95.0], \"lat\": [32.3333, 60.0], \"mode\": \"lines\", \"hoverinfo\": \"none\", \"line\": {\"width\": 1.2, \"color\": \"red\"}, \"opacity\": 0.03125}, {\"type\": \"scattergeo\", \"lon\": [105.0, 121.0], \"lat\": [35.0, 23.5], \"mode\": \"lines\", \"hoverinfo\": \"none\", \"line\": {\"width\": 1.2, \"color\": \"red\"}, \"opacity\": 0.03125}, {\"type\": \"scattergeo\", \"lon\": [-97.0, 105.0], \"lat\": [38.0, 35.0], \"mode\": \"lines\", \"hoverinfo\": \"none\", \"line\": {\"width\": 1.2, \"color\": \"red\"}, \"opacity\": 0.03125}, {\"type\": \"scattergeo\", \"lon\": [55.6667, -2.56], \"lat\": [-4.5833, 49.5], \"mode\": \"lines\", \"hoverinfo\": \"none\", \"line\": {\"width\": 1.2, \"color\": \"red\"}, \"opacity\": 0.031}, {\"type\": \"scattergeo\", \"lon\": [33.0, 8.0], \"lat\": [35.0, 47.0], \"mode\": \"lines\", \"hoverinfo\": \"none\", \"line\": {\"width\": 1.2, \"color\": \"red\"}, \"opacity\": 0.03075}, {\"type\": \"scattergeo\", \"lon\": [55.6667, 33.0], \"lat\": [-4.5833, 35.0], \"mode\": \"lines\", \"hoverinfo\": \"none\", \"line\": {\"width\": 1.2, \"color\": \"red\"}, \"opacity\": 0.03075}, {\"type\": \"scattergeo\", \"lon\": [77.0, 114.1667], \"lat\": [20.0, 22.25], \"mode\": \"lines\", \"hoverinfo\": \"none\", \"line\": {\"width\": 1.2, \"color\": \"red\"}, \"opacity\": 0.0305}, {\"type\": \"scattergeo\", \"lon\": [100.0, 25.0], \"lat\": [60.0, 57.0], \"mode\": \"lines\", \"hoverinfo\": \"none\", \"line\": {\"width\": 1.2, \"color\": \"red\"}, \"opacity\": 0.0305}, {\"type\": \"scattergeo\", \"lon\": [-2.0, 100.0], \"lat\": [54.0, 60.0], \"mode\": \"lines\", \"hoverinfo\": \"none\", \"line\": {\"width\": 1.2, \"color\": \"red\"}, \"opacity\": 0.0295}, {\"type\": \"scattergeo\", \"lon\": [35.8333, 8.0], \"lat\": [33.8333, 47.0], \"mode\": \"lines\", \"hoverinfo\": \"none\", \"line\": {\"width\": 1.2, \"color\": \"red\"}, \"opacity\": 0.02925}, {\"type\": \"scattergeo\", \"lon\": [-56.0, -58.0], \"lat\": [-33.0, -23.0], \"mode\": \"lines\", \"hoverinfo\": \"none\", \"line\": {\"width\": 1.2, \"color\": \"red\"}, \"opacity\": 0.029}, {\"type\": \"scattergeo\", \"lon\": [-80.0, -56.0], \"lat\": [9.0, -33.0], \"mode\": \"lines\", \"hoverinfo\": \"none\", \"line\": {\"width\": 1.2, \"color\": \"red\"}, \"opacity\": 0.02875}, {\"type\": \"scattergeo\", \"lon\": [121.0, 105.0], \"lat\": [23.5, 35.0], \"mode\": \"lines\", \"hoverinfo\": \"none\", \"line\": {\"width\": 1.2, \"color\": \"red\"}, \"opacity\": 0.02825}, {\"type\": \"scattergeo\", \"lon\": [-64.75, 114.1667], \"lat\": [32.3333, 22.25], \"mode\": \"lines\", \"hoverinfo\": \"none\", \"line\": {\"width\": 1.2, \"color\": \"red\"}, \"opacity\": 0.02825}, {\"type\": \"scattergeo\", \"lon\": [-80.0, 1.6], \"lat\": [9.0, 42.5], \"mode\": \"lines\", \"hoverinfo\": \"none\", \"line\": {\"width\": 1.2, \"color\": \"red\"}, \"opacity\": 0.028}, {\"type\": \"scattergeo\", \"lon\": [-64.5, -80.0], \"lat\": [18.5, 9.0], \"mode\": \"lines\", \"hoverinfo\": \"none\", \"line\": {\"width\": 1.2, \"color\": \"red\"}, \"opacity\": 0.02775}, {\"type\": \"scattergeo\", \"lon\": [-84.0, 14.5833], \"lat\": [10.0, 35.8333], \"mode\": \"lines\", \"hoverinfo\": \"none\", \"line\": {\"width\": 1.2, \"color\": \"red\"}, \"opacity\": 0.027}, {\"type\": \"scattergeo\", \"lon\": [-2.0, 54.0], \"lat\": [54.0, 24.0], \"mode\": \"lines\", \"hoverinfo\": \"none\", \"line\": {\"width\": 1.2, \"color\": \"red\"}, \"opacity\": 0.027}, {\"type\": \"scattergeo\", \"lon\": [-62.75, -2.56], \"lat\": [17.3333, 49.5], \"mode\": \"lines\", \"hoverinfo\": \"none\", \"line\": {\"width\": 1.2, \"color\": \"red\"}, \"opacity\": 0.027}, {\"type\": \"scattergeo\", \"lon\": [77.0, 103.8], \"lat\": [20.0, 1.3667], \"mode\": \"lines\", \"hoverinfo\": \"none\", \"line\": {\"width\": 1.2, \"color\": \"red\"}, \"opacity\": 0.0265}, {\"type\": \"scattergeo\", \"lon\": [-76.0, -2.56], \"lat\": [24.25, 49.5], \"mode\": \"lines\", \"hoverinfo\": \"none\", \"line\": {\"width\": 1.2, \"color\": \"red\"}, \"opacity\": 0.0265}, {\"type\": \"scattergeo\", \"lon\": [2.0, 6.1667], \"lat\": [46.0, 49.75], \"mode\": \"lines\", \"hoverinfo\": \"none\", \"line\": {\"width\": 1.2, \"color\": \"red\"}, \"opacity\": 0.0265}, {\"type\": \"scattergeo\", \"lon\": [7.4, 8.0], \"lat\": [43.7333, 47.0], \"mode\": \"lines\", \"hoverinfo\": \"none\", \"line\": {\"width\": 1.2, \"color\": \"red\"}, \"opacity\": 0.02625}, {\"type\": \"scattergeo\", \"lon\": [-64.5, 5.75], \"lat\": [18.5, 52.5], \"mode\": \"lines\", \"hoverinfo\": \"none\", \"line\": {\"width\": 1.2, \"color\": \"red\"}, \"opacity\": 0.026}, {\"type\": \"scattergeo\", \"lon\": [6.1667, 8.0], \"lat\": [49.75, 47.0], \"mode\": \"lines\", \"hoverinfo\": \"none\", \"line\": {\"width\": 1.2, \"color\": \"red\"}, \"opacity\": 0.026}, {\"type\": \"scattergeo\", \"lon\": [-4.55, -2.0], \"lat\": [54.23, 54.0], \"mode\": \"lines\", \"hoverinfo\": \"none\", \"line\": {\"width\": 1.2, \"color\": \"red\"}, \"opacity\": 0.025}, {\"type\": \"scattergeo\", \"lon\": [57.55, 8.0], \"lat\": [-20.2833, 47.0], \"mode\": \"lines\", \"hoverinfo\": \"none\", \"line\": {\"width\": 1.2, \"color\": \"red\"}, \"opacity\": 0.025}, {\"type\": \"scattergeo\", \"lon\": [-97.0, -2.0], \"lat\": [38.0, 54.0], \"mode\": \"lines\", \"hoverinfo\": \"none\", \"line\": {\"width\": 1.2, \"color\": \"red\"}, \"opacity\": 0.02475}, {\"type\": \"scattergeo\", \"lon\": [24.0, 8.0], \"lat\": [-29.0, 47.0], \"mode\": \"lines\", \"hoverinfo\": \"none\", \"line\": {\"width\": 1.2, \"color\": \"red\"}, \"opacity\": 0.02475}, {\"type\": \"scattergeo\", \"lon\": [-55.0, 6.1667], \"lat\": [-10.0, 49.75], \"mode\": \"lines\", \"hoverinfo\": \"none\", \"line\": {\"width\": 1.2, \"color\": \"red\"}, \"opacity\": 0.02475}, {\"type\": \"scattergeo\", \"lon\": [24.0, -4.55], \"lat\": [-29.0, 54.23], \"mode\": \"lines\", \"hoverinfo\": \"none\", \"line\": {\"width\": 1.2, \"color\": \"red\"}, \"opacity\": 0.0245}, {\"type\": \"scattergeo\", \"lon\": [9.0, 114.1667], \"lat\": [51.0, 22.25], \"mode\": \"lines\", \"hoverinfo\": \"none\", \"line\": {\"width\": 1.2, \"color\": \"red\"}, \"opacity\": 0.0245}, {\"type\": \"scattergeo\", \"lon\": [-76.0, -2.13], \"lat\": [24.25, 49.21], \"mode\": \"lines\", \"hoverinfo\": \"none\", \"line\": {\"width\": 1.2, \"color\": \"red\"}, \"opacity\": 0.024}, {\"type\": \"scattergeo\", \"lon\": [4.0, 6.1667], \"lat\": [50.8333, 49.75], \"mode\": \"lines\", \"hoverinfo\": \"none\", \"line\": {\"width\": 1.2, \"color\": \"red\"}, \"opacity\": 0.024}, {\"type\": \"scattergeo\", \"lon\": [19.5, 7.4], \"lat\": [48.6667, 43.7333], \"mode\": \"lines\", \"hoverinfo\": \"none\", \"line\": {\"width\": 1.2, \"color\": \"red\"}, \"opacity\": 0.02375}, {\"type\": \"scattergeo\", \"lon\": [9.0, -80.0], \"lat\": [51.0, 9.0], \"mode\": \"lines\", \"hoverinfo\": \"none\", \"line\": {\"width\": 1.2, \"color\": \"red\"}, \"opacity\": 0.02375}, {\"type\": \"scattergeo\", \"lon\": [-2.0, -97.0], \"lat\": [54.0, 38.0], \"mode\": \"lines\", \"hoverinfo\": \"none\", \"line\": {\"width\": 1.2, \"color\": \"red\"}, \"opacity\": 0.0235}, {\"type\": \"scattergeo\", \"lon\": [12.8333, 114.1667], \"lat\": [42.8333, 22.25], \"mode\": \"lines\", \"hoverinfo\": \"none\", \"line\": {\"width\": 1.2, \"color\": \"red\"}, \"opacity\": 0.0235}, {\"type\": \"scattergeo\", \"lon\": [57.55, -2.56], \"lat\": [-20.2833, 49.5], \"mode\": \"lines\", \"hoverinfo\": \"none\", \"line\": {\"width\": 1.2, \"color\": \"red\"}, \"opacity\": 0.0235}, {\"type\": \"scattergeo\", \"lon\": [-2.0, 7.4], \"lat\": [54.0, 43.7333], \"mode\": \"lines\", \"hoverinfo\": \"none\", \"line\": {\"width\": 1.2, \"color\": \"red\"}, \"opacity\": 0.02325}, {\"type\": \"scattergeo\", \"lon\": [-80.0, 7.4], \"lat\": [9.0, 43.7333], \"mode\": \"lines\", \"hoverinfo\": \"none\", \"line\": {\"width\": 1.2, \"color\": \"red\"}, \"opacity\": 0.02325}, {\"type\": \"scattergeo\", \"lon\": [-97.0, 36.0], \"lat\": [38.0, 31.0], \"mode\": \"lines\", \"hoverinfo\": \"none\", \"line\": {\"width\": 1.2, \"color\": \"red\"}, \"opacity\": 0.02325}, {\"type\": \"scattergeo\", \"lon\": [133.0, -2.56], \"lat\": [-27.0, 49.5], \"mode\": \"lines\", \"hoverinfo\": \"none\", \"line\": {\"width\": 1.2, \"color\": \"red\"}, \"opacity\": 0.02325}, {\"type\": \"scattergeo\", \"lon\": [22.0, 8.0], \"lat\": [39.0, 47.0], \"mode\": \"lines\", \"hoverinfo\": \"none\", \"line\": {\"width\": 1.2, \"color\": \"red\"}, \"opacity\": 0.02325}, {\"type\": \"scattergeo\", \"lon\": [57.55, -2.0], \"lat\": [-20.2833, 54.0], \"mode\": \"lines\", \"hoverinfo\": \"none\", \"line\": {\"width\": 1.2, \"color\": \"red\"}, \"opacity\": 0.02325}, {\"type\": \"scattergeo\", \"lon\": [-2.0, 57.55], \"lat\": [54.0, -20.2833], \"mode\": \"lines\", \"hoverinfo\": \"none\", \"line\": {\"width\": 1.2, \"color\": \"red\"}, \"opacity\": 0.0225}, {\"type\": \"scattergeo\", \"lon\": [-64.5, 7.4], \"lat\": [18.5, 43.7333], \"mode\": \"lines\", \"hoverinfo\": \"none\", \"line\": {\"width\": 1.2, \"color\": \"red\"}, \"opacity\": 0.0225}, {\"type\": \"scattergeo\", \"lon\": [8.0, -5.3667], \"lat\": [47.0, 36.1833], \"mode\": \"lines\", \"hoverinfo\": \"none\", \"line\": {\"width\": 1.2, \"color\": \"red\"}, \"opacity\": 0.0225}, {\"type\": \"scattergeo\", \"lon\": [-97.0, 103.8], \"lat\": [38.0, 1.3667], \"mode\": \"lines\", \"hoverinfo\": \"none\", \"line\": {\"width\": 1.2, \"color\": \"red\"}, \"opacity\": 0.0225}, {\"type\": \"scattergeo\", \"lon\": [8.0, 14.5833], \"lat\": [47.0, 35.8333], \"mode\": \"lines\", \"hoverinfo\": \"none\", \"line\": {\"width\": 1.2, \"color\": \"red\"}, \"opacity\": 0.02225}, {\"type\": \"scattergeo\", \"lon\": [-102.0, -97.0], \"lat\": [23.0, 38.0], \"mode\": \"lines\", \"hoverinfo\": \"none\", \"line\": {\"width\": 1.2, \"color\": \"red\"}, \"opacity\": 0.02225}, {\"type\": \"scattergeo\", \"lon\": [-95.0, 8.0], \"lat\": [60.0, 47.0], \"mode\": \"lines\", \"hoverinfo\": \"none\", \"line\": {\"width\": 1.2, \"color\": \"red\"}, \"opacity\": 0.02225}, {\"type\": \"scattergeo\", \"lon\": [-2.0, 5.75], \"lat\": [54.0, 52.5], \"mode\": \"lines\", \"hoverinfo\": \"none\", \"line\": {\"width\": 1.2, \"color\": \"red\"}, \"opacity\": 0.022}, {\"type\": \"scattergeo\", \"lon\": [-64.5, 26.0], \"lat\": [18.5, 59.0], \"mode\": \"lines\", \"hoverinfo\": \"none\", \"line\": {\"width\": 1.2, \"color\": \"red\"}, \"opacity\": 0.022}, {\"type\": \"scattergeo\", \"lon\": [100.0, 103.8], \"lat\": [15.0, 1.3667], \"mode\": \"lines\", \"hoverinfo\": \"none\", \"line\": {\"width\": 1.2, \"color\": \"red\"}, \"opacity\": 0.022}, {\"type\": \"scattergeo\", \"lon\": [24.0, -2.56], \"lat\": [-22.0, 49.5], \"mode\": \"lines\", \"hoverinfo\": \"none\", \"line\": {\"width\": 1.2, \"color\": \"red\"}, \"opacity\": 0.02175}, {\"type\": \"scattergeo\", \"lon\": [103.8, -95.0], \"lat\": [1.3667, 60.0], \"mode\": \"lines\", \"hoverinfo\": \"none\", \"line\": {\"width\": 1.2, \"color\": \"red\"}, \"opacity\": 0.02175}, {\"type\": \"scattergeo\", \"lon\": [-2.0, 100.0], \"lat\": [54.0, 15.0], \"mode\": \"lines\", \"hoverinfo\": \"none\", \"line\": {\"width\": 1.2, \"color\": \"red\"}, \"opacity\": 0.0215}, {\"type\": \"scattergeo\", \"lon\": [33.0, -64.5], \"lat\": [35.0, 18.5], \"mode\": \"lines\", \"hoverinfo\": \"none\", \"line\": {\"width\": 1.2, \"color\": \"red\"}, \"opacity\": 0.0215}, {\"type\": \"scattergeo\", \"lon\": [-80.0, -55.0], \"lat\": [9.0, -10.0], \"mode\": \"lines\", \"hoverinfo\": \"none\", \"line\": {\"width\": 1.2, \"color\": \"red\"}, \"opacity\": 0.0215}, {\"type\": \"scattergeo\", \"lon\": [32.0, 100.0], \"lat\": [49.0, 60.0], \"mode\": \"lines\", \"hoverinfo\": \"none\", \"line\": {\"width\": 1.2, \"color\": \"red\"}, \"opacity\": 0.0215}, {\"type\": \"scattergeo\", \"lon\": [22.0, 54.0], \"lat\": [39.0, 24.0], \"mode\": \"lines\", \"hoverinfo\": \"none\", \"line\": {\"width\": 1.2, \"color\": \"red\"}, \"opacity\": 0.02125}, {\"type\": \"scattergeo\", \"lon\": [54.0, -5.3667], \"lat\": [24.0, 36.1833], \"mode\": \"lines\", \"hoverinfo\": \"none\", \"line\": {\"width\": 1.2, \"color\": \"red\"}, \"opacity\": 0.02125}, {\"type\": \"scattergeo\", \"lon\": [33.0, -4.55], \"lat\": [35.0, 54.23], \"mode\": \"lines\", \"hoverinfo\": \"none\", \"line\": {\"width\": 1.2, \"color\": \"red\"}, \"opacity\": 0.02125}, {\"type\": \"scattergeo\", \"lon\": [33.0, -2.0], \"lat\": [35.0, 54.0], \"mode\": \"lines\", \"hoverinfo\": \"none\", \"line\": {\"width\": 1.2, \"color\": \"red\"}, \"opacity\": 0.02125}, {\"type\": \"scattergeo\", \"lon\": [-72.0, -80.0], \"lat\": [4.0, 9.0], \"mode\": \"lines\", \"hoverinfo\": \"none\", \"line\": {\"width\": 1.2, \"color\": \"red\"}, \"opacity\": 0.02075}, {\"type\": \"scattergeo\", \"lon\": [-2.13, 9.5333], \"lat\": [49.21, 47.1667], \"mode\": \"lines\", \"hoverinfo\": \"none\", \"line\": {\"width\": 1.2, \"color\": \"red\"}, \"opacity\": 0.02075}, {\"type\": \"scattergeo\", \"lon\": [5.75, 114.1667], \"lat\": [52.5, 22.25], \"mode\": \"lines\", \"hoverinfo\": \"none\", \"line\": {\"width\": 1.2, \"color\": \"red\"}, \"opacity\": 0.0205}, {\"type\": \"scattergeo\", \"lon\": [100.0, -4.55], \"lat\": [60.0, 54.23], \"mode\": \"lines\", \"hoverinfo\": \"none\", \"line\": {\"width\": 1.2, \"color\": \"red\"}, \"opacity\": 0.02}, {\"type\": \"scattergeo\", \"lon\": [174.0, 114.1667], \"lat\": [-41.0, 22.25], \"mode\": \"lines\", \"hoverinfo\": \"none\", \"line\": {\"width\": 1.2, \"color\": \"red\"}, \"opacity\": 0.02}, {\"type\": \"scattergeo\", \"lon\": [54.0, -4.55], \"lat\": [24.0, 54.23], \"mode\": \"lines\", \"hoverinfo\": \"none\", \"line\": {\"width\": 1.2, \"color\": \"red\"}, \"opacity\": 0.02}, {\"type\": \"scattergeo\", \"lon\": [167.0, 55.6667], \"lat\": [-16.0, -4.5833], \"mode\": \"lines\", \"hoverinfo\": \"none\", \"line\": {\"width\": 1.2, \"color\": \"red\"}, \"opacity\": 0.02}, {\"type\": \"scattergeo\", \"lon\": [9.5333, -5.3667], \"lat\": [47.1667, 36.1833], \"mode\": \"lines\", \"hoverinfo\": \"none\", \"line\": {\"width\": 1.2, \"color\": \"red\"}, \"opacity\": 0.01975}, {\"type\": \"scattergeo\", \"lon\": [77.0, -4.55], \"lat\": [20.0, 54.23], \"mode\": \"lines\", \"hoverinfo\": \"none\", \"line\": {\"width\": 1.2, \"color\": \"red\"}, \"opacity\": 0.01975}, {\"type\": \"scattergeo\", \"lon\": [-62.75, -4.55], \"lat\": [17.3333, 54.23], \"mode\": \"lines\", \"hoverinfo\": \"none\", \"line\": {\"width\": 1.2, \"color\": \"red\"}, \"opacity\": 0.01975}, {\"type\": \"scattergeo\", \"lon\": [32.0, 8.0], \"lat\": [49.0, 47.0], \"mode\": \"lines\", \"hoverinfo\": \"none\", \"line\": {\"width\": 1.2, \"color\": \"red\"}, \"opacity\": 0.01975}, {\"type\": \"scattergeo\", \"lon\": [-5.3667, 8.0], \"lat\": [36.1833, 47.0], \"mode\": \"lines\", \"hoverinfo\": \"none\", \"line\": {\"width\": 1.2, \"color\": \"red\"}, \"opacity\": 0.01975}, {\"type\": \"scattergeo\", \"lon\": [-2.0, 6.1667], \"lat\": [54.0, 49.75], \"mode\": \"lines\", \"hoverinfo\": \"none\", \"line\": {\"width\": 1.2, \"color\": \"red\"}, \"opacity\": 0.0195}, {\"type\": \"scattergeo\", \"lon\": [-63.1667, -72.0], \"lat\": [18.25, 4.0], \"mode\": \"lines\", \"hoverinfo\": \"none\", \"line\": {\"width\": 1.2, \"color\": \"red\"}, \"opacity\": 0.01925}, {\"type\": \"scattergeo\", \"lon\": [-64.5, 34.75], \"lat\": [18.5, 31.5], \"mode\": \"lines\", \"hoverinfo\": \"none\", \"line\": {\"width\": 1.2, \"color\": \"red\"}, \"opacity\": 0.01925}, {\"type\": \"scattergeo\", \"lon\": [24.0, -2.0], \"lat\": [-29.0, 54.0], \"mode\": \"lines\", \"hoverinfo\": \"none\", \"line\": {\"width\": 1.2, \"color\": \"red\"}, \"opacity\": 0.01925}, {\"type\": \"scattergeo\", \"lon\": [-88.75, 114.1667], \"lat\": [17.25, 22.25], \"mode\": \"lines\", \"hoverinfo\": \"none\", \"line\": {\"width\": 1.2, \"color\": \"red\"}, \"opacity\": 0.01925}, {\"type\": \"scattergeo\", \"lon\": [4.0, 8.0], \"lat\": [50.8333, 47.0], \"mode\": \"lines\", \"hoverinfo\": \"none\", \"line\": {\"width\": 1.2, \"color\": \"red\"}, \"opacity\": 0.01925}, {\"type\": \"scattergeo\", \"lon\": [133.0, 103.8], \"lat\": [-27.0, 1.3667], \"mode\": \"lines\", \"hoverinfo\": \"none\", \"line\": {\"width\": 1.2, \"color\": \"red\"}, \"opacity\": 0.019}, {\"type\": \"scattergeo\", \"lon\": [-97.0, 54.0], \"lat\": [38.0, 24.0], \"mode\": \"lines\", \"hoverinfo\": \"none\", \"line\": {\"width\": 1.2, \"color\": \"red\"}, \"opacity\": 0.019}, {\"type\": \"scattergeo\", \"lon\": [-64.5, 14.5833], \"lat\": [18.5, 35.8333], \"mode\": \"lines\", \"hoverinfo\": \"none\", \"line\": {\"width\": 1.2, \"color\": \"red\"}, \"opacity\": 0.01875}, {\"type\": \"scattergeo\", \"lon\": [-63.1667, 54.0], \"lat\": [18.25, 24.0], \"mode\": \"lines\", \"hoverinfo\": \"none\", \"line\": {\"width\": 1.2, \"color\": \"red\"}, \"opacity\": 0.01875}, {\"type\": \"scattergeo\", \"lon\": [-8.0, -2.13], \"lat\": [53.0, 49.21], \"mode\": \"lines\", \"hoverinfo\": \"none\", \"line\": {\"width\": 1.2, \"color\": \"red\"}, \"opacity\": 0.01875}, {\"type\": \"scattergeo\", \"lon\": [-97.0, -2.56], \"lat\": [38.0, 49.5], \"mode\": \"lines\", \"hoverinfo\": \"none\", \"line\": {\"width\": 1.2, \"color\": \"red\"}, \"opacity\": 0.01875}, {\"type\": \"scattergeo\", \"lon\": [-97.0, -76.0], \"lat\": [38.0, 24.25], \"mode\": \"lines\", \"hoverinfo\": \"none\", \"line\": {\"width\": 1.2, \"color\": \"red\"}, \"opacity\": 0.0185}, {\"type\": \"scattergeo\", \"lon\": [-97.0, -2.13], \"lat\": [38.0, 49.21], \"mode\": \"lines\", \"hoverinfo\": \"none\", \"line\": {\"width\": 1.2, \"color\": \"red\"}, \"opacity\": 0.0185}, {\"type\": \"scattergeo\", \"lon\": [-66.0, -80.0], \"lat\": [8.0, 9.0], \"mode\": \"lines\", \"hoverinfo\": \"none\", \"line\": {\"width\": 1.2, \"color\": \"red\"}, \"opacity\": 0.0185}, {\"type\": \"scattergeo\", \"lon\": [-97.0, -88.75], \"lat\": [38.0, 17.25], \"mode\": \"lines\", \"hoverinfo\": \"none\", \"line\": {\"width\": 1.2, \"color\": \"red\"}, \"opacity\": 0.0185}, {\"type\": \"scattergeo\", \"lon\": [-2.13, -5.3667], \"lat\": [49.21, 36.1833], \"mode\": \"lines\", \"hoverinfo\": \"none\", \"line\": {\"width\": 1.2, \"color\": \"red\"}, \"opacity\": 0.01825}, {\"type\": \"scattergeo\", \"lon\": [-72.0, 8.0], \"lat\": [4.0, 47.0], \"mode\": \"lines\", \"hoverinfo\": \"none\", \"line\": {\"width\": 1.2, \"color\": \"red\"}, \"opacity\": 0.018}, {\"type\": \"scattergeo\", \"lon\": [-80.0, -84.0], \"lat\": [9.0, 10.0], \"mode\": \"lines\", \"hoverinfo\": \"none\", \"line\": {\"width\": 1.2, \"color\": \"red\"}, \"opacity\": 0.018}, {\"type\": \"scattergeo\", \"lon\": [-80.0, -97.0], \"lat\": [9.0, 38.0], \"mode\": \"lines\", \"hoverinfo\": \"none\", \"line\": {\"width\": 1.2, \"color\": \"red\"}, \"opacity\": 0.018}, {\"type\": \"scattergeo\", \"lon\": [8.0, 114.1667], \"lat\": [47.0, 22.25], \"mode\": \"lines\", \"hoverinfo\": \"none\", \"line\": {\"width\": 1.2, \"color\": \"red\"}, \"opacity\": 0.018}, {\"type\": \"scattergeo\", \"lon\": [-2.56, 54.0], \"lat\": [49.5, 24.0], \"mode\": \"lines\", \"hoverinfo\": \"none\", \"line\": {\"width\": 1.2, \"color\": \"red\"}, \"opacity\": 0.01775}, {\"type\": \"scattergeo\", \"lon\": [-2.0, 34.75], \"lat\": [54.0, 31.5], \"mode\": \"lines\", \"hoverinfo\": \"none\", \"line\": {\"width\": 1.2, \"color\": \"red\"}, \"opacity\": 0.0175}, {\"type\": \"scattergeo\", \"lon\": [2.0, -2.0], \"lat\": [46.0, 54.0], \"mode\": \"lines\", \"hoverinfo\": \"none\", \"line\": {\"width\": 1.2, \"color\": \"red\"}, \"opacity\": 0.0175}, {\"type\": \"scattergeo\", \"lon\": [57.55, 55.6667], \"lat\": [-20.2833, -4.5833], \"mode\": \"lines\", \"hoverinfo\": \"none\", \"line\": {\"width\": 1.2, \"color\": \"red\"}, \"opacity\": 0.0175}, {\"type\": \"scattergeo\", \"lon\": [54.0, -2.13], \"lat\": [24.0, 49.21], \"mode\": \"lines\", \"hoverinfo\": \"none\", \"line\": {\"width\": 1.2, \"color\": \"red\"}, \"opacity\": 0.0175}, {\"type\": \"scattergeo\", \"lon\": [38.0, 8.0], \"lat\": [1.0, 47.0], \"mode\": \"lines\", \"hoverinfo\": \"none\", \"line\": {\"width\": 1.2, \"color\": \"red\"}, \"opacity\": 0.0175}, {\"type\": \"scattergeo\", \"lon\": [10.0, -2.56], \"lat\": [62.0, 49.5], \"mode\": \"lines\", \"hoverinfo\": \"none\", \"line\": {\"width\": 1.2, \"color\": \"red\"}, \"opacity\": 0.0175}, {\"type\": \"scattergeo\", \"lon\": [100.0, -76.0], \"lat\": [60.0, 24.25], \"mode\": \"lines\", \"hoverinfo\": \"none\", \"line\": {\"width\": 1.2, \"color\": \"red\"}, \"opacity\": 0.0175}, {\"type\": \"scattergeo\", \"lon\": [77.0, 33.0], \"lat\": [20.0, 35.0], \"mode\": \"lines\", \"hoverinfo\": \"none\", \"line\": {\"width\": 1.2, \"color\": \"red\"}, \"opacity\": 0.01725}, {\"type\": \"scattergeo\", \"lon\": [-97.0, -77.5], \"lat\": [38.0, -2.0], \"mode\": \"lines\", \"hoverinfo\": \"none\", \"line\": {\"width\": 1.2, \"color\": \"red\"}, \"opacity\": 0.01725}, {\"type\": \"scattergeo\", \"lon\": [-172.3333, 54.0], \"lat\": [-13.5833, 24.0], \"mode\": \"lines\", \"hoverinfo\": \"none\", \"line\": {\"width\": 1.2, \"color\": \"red\"}, \"opacity\": 0.01725}, {\"type\": \"scattergeo\", \"lon\": [-95.0, -2.0], \"lat\": [60.0, 54.0], \"mode\": \"lines\", \"hoverinfo\": \"none\", \"line\": {\"width\": 1.2, \"color\": \"red\"}, \"opacity\": 0.017}, {\"type\": \"scattergeo\", \"lon\": [100.0, -2.13], \"lat\": [60.0, 49.21], \"mode\": \"lines\", \"hoverinfo\": \"none\", \"line\": {\"width\": 1.2, \"color\": \"red\"}, \"opacity\": 0.017}, {\"type\": \"scattergeo\", \"lon\": [54.0, 33.0], \"lat\": [24.0, 35.0], \"mode\": \"lines\", \"hoverinfo\": \"none\", \"line\": {\"width\": 1.2, \"color\": \"red\"}, \"opacity\": 0.017}, {\"type\": \"scattergeo\", \"lon\": [-70.6667, -61.3333], \"lat\": [19.0, 15.4167], \"mode\": \"lines\", \"hoverinfo\": \"none\", \"line\": {\"width\": 1.2, \"color\": \"red\"}, \"opacity\": 0.017}, {\"type\": \"scattergeo\", \"lon\": [-2.0, 14.5833], \"lat\": [54.0, 35.8333], \"mode\": \"lines\", \"hoverinfo\": \"none\", \"line\": {\"width\": 1.2, \"color\": \"red\"}, \"opacity\": 0.01675}, {\"type\": \"scattergeo\", \"lon\": [24.0, 57.55], \"lat\": [-29.0, -20.2833], \"mode\": \"lines\", \"hoverinfo\": \"none\", \"line\": {\"width\": 1.2, \"color\": \"red\"}, \"opacity\": 0.01675}, {\"type\": \"scattergeo\", \"lon\": [8.0, 7.4], \"lat\": [47.0, 43.7333], \"mode\": \"lines\", \"hoverinfo\": \"none\", \"line\": {\"width\": 1.2, \"color\": \"red\"}, \"opacity\": 0.01675}, {\"type\": \"scattergeo\", \"lon\": [100.0, 6.1667], \"lat\": [60.0, 49.75], \"mode\": \"lines\", \"hoverinfo\": \"none\", \"line\": {\"width\": 1.2, \"color\": \"red\"}, \"opacity\": 0.0165}, {\"type\": \"scattergeo\", \"lon\": [-9.5, 33.0], \"lat\": [6.5, 35.0], \"mode\": \"lines\", \"hoverinfo\": \"none\", \"line\": {\"width\": 1.2, \"color\": \"red\"}, \"opacity\": 0.0165}, {\"type\": \"scattergeo\", \"lon\": [-5.3667, -2.0], \"lat\": [36.1833, 54.0], \"mode\": \"lines\", \"hoverinfo\": \"none\", \"line\": {\"width\": 1.2, \"color\": \"red\"}, \"opacity\": 0.0165}, {\"type\": \"scattergeo\", \"lon\": [-97.0, 100.0], \"lat\": [38.0, 15.0], \"mode\": \"lines\", \"hoverinfo\": \"none\", \"line\": {\"width\": 1.2, \"color\": \"red\"}, \"opacity\": 0.01625}, {\"type\": \"scattergeo\", \"lon\": [114.1667, 8.0], \"lat\": [22.25, 47.0], \"mode\": \"lines\", \"hoverinfo\": \"none\", \"line\": {\"width\": 1.2, \"color\": \"red\"}, \"opacity\": 0.01625}, {\"type\": \"scattergeo\", \"lon\": [8.0, 6.1667], \"lat\": [47.0, 49.75], \"mode\": \"lines\", \"hoverinfo\": \"none\", \"line\": {\"width\": 1.2, \"color\": \"red\"}, \"opacity\": 0.01625}, {\"type\": \"scattergeo\", \"lon\": [106.0, 114.1667], \"lat\": [16.0, 22.25], \"mode\": \"lines\", \"hoverinfo\": \"none\", \"line\": {\"width\": 1.2, \"color\": \"red\"}, \"opacity\": 0.016}, {\"type\": \"scattergeo\", \"lon\": [-88.75, 100.0], \"lat\": [17.25, 60.0], \"mode\": \"lines\", \"hoverinfo\": \"none\", \"line\": {\"width\": 1.2, \"color\": \"red\"}, \"opacity\": 0.016}, {\"type\": \"scattergeo\", \"lon\": [-55.0, -88.75], \"lat\": [-10.0, 17.25], \"mode\": \"lines\", \"hoverinfo\": \"none\", \"line\": {\"width\": 1.2, \"color\": \"red\"}, \"opacity\": 0.016}, {\"type\": \"scattergeo\", \"lon\": [-2.0, 103.8], \"lat\": [54.0, 1.3667], \"mode\": \"lines\", \"hoverinfo\": \"none\", \"line\": {\"width\": 1.2, \"color\": \"red\"}, \"opacity\": 0.01575}, {\"type\": \"scattergeo\", \"lon\": [-90.25, -97.0], \"lat\": [15.5, 38.0], \"mode\": \"lines\", \"hoverinfo\": \"none\", \"line\": {\"width\": 1.2, \"color\": \"red\"}, \"opacity\": 0.01575}, {\"type\": \"scattergeo\", \"lon\": [-62.75, 55.6667], \"lat\": [17.3333, -4.5833], \"mode\": \"lines\", \"hoverinfo\": \"none\", \"line\": {\"width\": 1.2, \"color\": \"red\"}, \"opacity\": 0.01575}, {\"type\": \"scattergeo\", \"lon\": [-4.0, -5.3667], \"lat\": [40.0, 36.1833], \"mode\": \"lines\", \"hoverinfo\": \"none\", \"line\": {\"width\": 1.2, \"color\": \"red\"}, \"opacity\": 0.01575}, {\"type\": \"scattergeo\", \"lon\": [-2.0, 32.0], \"lat\": [54.0, 49.0], \"mode\": \"lines\", \"hoverinfo\": \"none\", \"line\": {\"width\": 1.2, \"color\": \"red\"}, \"opacity\": 0.01575}, {\"type\": \"scattergeo\", \"lon\": [9.5333, -2.0], \"lat\": [47.1667, 54.0], \"mode\": \"lines\", \"hoverinfo\": \"none\", \"line\": {\"width\": 1.2, \"color\": \"red\"}, \"opacity\": 0.01575}, {\"type\": \"scattergeo\", \"lon\": [8.0, 36.0], \"lat\": [47.0, 31.0], \"mode\": \"lines\", \"hoverinfo\": \"none\", \"line\": {\"width\": 1.2, \"color\": \"red\"}, \"opacity\": 0.0155}, {\"type\": \"scattergeo\", \"lon\": [36.0, 57.55], \"lat\": [31.0, -20.2833], \"mode\": \"lines\", \"hoverinfo\": \"none\", \"line\": {\"width\": 1.2, \"color\": \"red\"}, \"opacity\": 0.0155}, {\"type\": \"scattergeo\", \"lon\": [-71.0, -56.0], \"lat\": [-30.0, -33.0], \"mode\": \"lines\", \"hoverinfo\": \"none\", \"line\": {\"width\": 1.2, \"color\": \"red\"}, \"opacity\": 0.01525}, {\"type\": \"scattergeo\", \"lon\": [174.0, 8.0], \"lat\": [-41.0, 47.0], \"mode\": \"lines\", \"hoverinfo\": \"none\", \"line\": {\"width\": 1.2, \"color\": \"red\"}, \"opacity\": 0.01525}, {\"type\": \"scattergeo\", \"lon\": [8.0, -4.55], \"lat\": [47.0, 54.23], \"mode\": \"lines\", \"hoverinfo\": \"none\", \"line\": {\"width\": 1.2, \"color\": \"red\"}, \"opacity\": 0.015}, {\"type\": \"scattergeo\", \"lon\": [-61.3333, 55.6667], \"lat\": [15.4167, -4.5833], \"mode\": \"lines\", \"hoverinfo\": \"none\", \"line\": {\"width\": 1.2, \"color\": \"red\"}, \"opacity\": 0.015}, {\"type\": \"scattergeo\", \"lon\": [-2.13, 36.0], \"lat\": [49.21, 31.0], \"mode\": \"lines\", \"hoverinfo\": \"none\", \"line\": {\"width\": 1.2, \"color\": \"red\"}, \"opacity\": 0.01475}, {\"type\": \"scattergeo\", \"lon\": [47.6581, -2.13], \"lat\": [29.3375, 49.21], \"mode\": \"lines\", \"hoverinfo\": \"none\", \"line\": {\"width\": 1.2, \"color\": \"red\"}, \"opacity\": 0.01475}, {\"type\": \"scattergeo\", \"lon\": [-80.0, -4.55], \"lat\": [9.0, 54.23], \"mode\": \"lines\", \"hoverinfo\": \"none\", \"line\": {\"width\": 1.2, \"color\": \"red\"}, \"opacity\": 0.01475}, {\"type\": \"scattergeo\", \"lon\": [12.8333, 8.0], \"lat\": [42.8333, 47.0], \"mode\": \"lines\", \"hoverinfo\": \"none\", \"line\": {\"width\": 1.2, \"color\": \"red\"}, \"opacity\": 0.01475}, {\"type\": \"scattergeo\", \"lon\": [103.8, 8.0], \"lat\": [1.3667, 47.0], \"mode\": \"lines\", \"hoverinfo\": \"none\", \"line\": {\"width\": 1.2, \"color\": \"red\"}, \"opacity\": 0.01475}, {\"type\": \"scattergeo\", \"lon\": [-56.0, -80.0], \"lat\": [-33.0, 9.0], \"mode\": \"lines\", \"hoverinfo\": \"none\", \"line\": {\"width\": 1.2, \"color\": \"red\"}, \"opacity\": 0.0145}, {\"type\": \"scattergeo\", \"lon\": [-64.5, -55.0], \"lat\": [18.5, -10.0], \"mode\": \"lines\", \"hoverinfo\": \"none\", \"line\": {\"width\": 1.2, \"color\": \"red\"}, \"opacity\": 0.0145}, {\"type\": \"scattergeo\", \"lon\": [-4.0, 114.1667], \"lat\": [40.0, 22.25], \"mode\": \"lines\", \"hoverinfo\": \"none\", \"line\": {\"width\": 1.2, \"color\": \"red\"}, \"opacity\": 0.01425}, {\"type\": \"scattergeo\", \"lon\": [105.0, 8.0], \"lat\": [35.0, 47.0], \"mode\": \"lines\", \"hoverinfo\": \"none\", \"line\": {\"width\": 1.2, \"color\": \"red\"}, \"opacity\": 0.01425}, {\"type\": \"scattergeo\", \"lon\": [15.5, 55.6667], \"lat\": [49.75, -4.5833], \"mode\": \"lines\", \"hoverinfo\": \"none\", \"line\": {\"width\": 1.2, \"color\": \"red\"}, \"opacity\": 0.01425}, {\"type\": \"scattergeo\", \"lon\": [-80.0, 33.0], \"lat\": [9.0, 35.0], \"mode\": \"lines\", \"hoverinfo\": \"none\", \"line\": {\"width\": 1.2, \"color\": \"red\"}, \"opacity\": 0.01425}, {\"type\": \"scattergeo\", \"lon\": [133.0, 33.0], \"lat\": [-27.0, 35.0], \"mode\": \"lines\", \"hoverinfo\": \"none\", \"line\": {\"width\": 1.2, \"color\": \"red\"}, \"opacity\": 0.01425}, {\"type\": \"scattergeo\", \"lon\": [45.0, -2.13], \"lat\": [25.0, 49.21], \"mode\": \"lines\", \"hoverinfo\": \"none\", \"line\": {\"width\": 1.2, \"color\": \"red\"}, \"opacity\": 0.01425}, {\"type\": \"scattergeo\", \"lon\": [-2.0, 2.0], \"lat\": [54.0, 46.0], \"mode\": \"lines\", \"hoverinfo\": \"none\", \"line\": {\"width\": 1.2, \"color\": \"red\"}, \"opacity\": 0.01425}, {\"type\": \"scattergeo\", \"lon\": [-64.5, 100.0], \"lat\": [18.5, 15.0], \"mode\": \"lines\", \"hoverinfo\": \"none\", \"line\": {\"width\": 1.2, \"color\": \"red\"}, \"opacity\": 0.014}, {\"type\": \"scattergeo\", \"lon\": [-80.0, 100.0], \"lat\": [9.0, 60.0], \"mode\": \"lines\", \"hoverinfo\": \"none\", \"line\": {\"width\": 1.2, \"color\": \"red\"}, \"opacity\": 0.014}, {\"type\": \"scattergeo\", \"lon\": [-2.13, 7.4], \"lat\": [49.21, 43.7333], \"mode\": \"lines\", \"hoverinfo\": \"none\", \"line\": {\"width\": 1.2, \"color\": \"red\"}, \"opacity\": 0.014}, {\"type\": \"scattergeo\", \"lon\": [-2.13, -88.75], \"lat\": [49.21, 17.25], \"mode\": \"lines\", \"hoverinfo\": \"none\", \"line\": {\"width\": 1.2, \"color\": \"red\"}, \"opacity\": 0.014}, {\"type\": \"scattergeo\", \"lon\": [-8.0, -5.3667], \"lat\": [53.0, 36.1833], \"mode\": \"lines\", \"hoverinfo\": \"none\", \"line\": {\"width\": 1.2, \"color\": \"red\"}, \"opacity\": 0.014}, {\"type\": \"scattergeo\", \"lon\": [112.5, -2.0], \"lat\": [2.5, 54.0], \"mode\": \"lines\", \"hoverinfo\": \"none\", \"line\": {\"width\": 1.2, \"color\": \"red\"}, \"opacity\": 0.014}, {\"type\": \"scattergeo\", \"lon\": [-2.0, -80.0], \"lat\": [54.0, 9.0], \"mode\": \"lines\", \"hoverinfo\": \"none\", \"line\": {\"width\": 1.2, \"color\": \"red\"}, \"opacity\": 0.01375}, {\"type\": \"scattergeo\", \"lon\": [-169.8667, 6.1667], \"lat\": [-19.0333, 49.75], \"mode\": \"lines\", \"hoverinfo\": \"none\", \"line\": {\"width\": 1.2, \"color\": \"red\"}, \"opacity\": 0.01375}, {\"type\": \"scattergeo\", \"lon\": [68.0, 8.0], \"lat\": [48.0, 47.0], \"mode\": \"lines\", \"hoverinfo\": \"none\", \"line\": {\"width\": 1.2, \"color\": \"red\"}, \"opacity\": 0.01375}, {\"type\": \"scattergeo\", \"lon\": [55.6667, 105.0], \"lat\": [-4.5833, 35.0], \"mode\": \"lines\", \"hoverinfo\": \"none\", \"line\": {\"width\": 1.2, \"color\": \"red\"}, \"opacity\": 0.0135}, {\"type\": \"scattergeo\", \"lon\": [-63.1667, -77.5], \"lat\": [18.25, -2.0], \"mode\": \"lines\", \"hoverinfo\": \"none\", \"line\": {\"width\": 1.2, \"color\": \"red\"}, \"opacity\": 0.0135}, {\"type\": \"scattergeo\", \"lon\": [8.0, -80.0], \"lat\": [47.0, 9.0], \"mode\": \"lines\", \"hoverinfo\": \"none\", \"line\": {\"width\": 1.2, \"color\": \"red\"}, \"opacity\": 0.0135}, {\"type\": \"scattergeo\", \"lon\": [34.75, -2.0], \"lat\": [31.5, 54.0], \"mode\": \"lines\", \"hoverinfo\": \"none\", \"line\": {\"width\": 1.2, \"color\": \"red\"}, \"opacity\": 0.0135}, {\"type\": \"scattergeo\", \"lon\": [168.0, 8.0], \"lat\": [9.0, 47.0], \"mode\": \"lines\", \"hoverinfo\": \"none\", \"line\": {\"width\": 1.2, \"color\": \"red\"}, \"opacity\": 0.0135}, {\"type\": \"scattergeo\", \"lon\": [-80.0, -2.13], \"lat\": [9.0, 49.21], \"mode\": \"lines\", \"hoverinfo\": \"none\", \"line\": {\"width\": 1.2, \"color\": \"red\"}, \"opacity\": 0.01325}, {\"type\": \"scattergeo\", \"lon\": [114.1667, -2.13], \"lat\": [22.25, 49.21], \"mode\": \"lines\", \"hoverinfo\": \"none\", \"line\": {\"width\": 1.2, \"color\": \"red\"}, \"opacity\": 0.01325}, {\"type\": \"scattergeo\", \"lon\": [-55.0, -80.0], \"lat\": [-10.0, 9.0], \"mode\": \"lines\", \"hoverinfo\": \"none\", \"line\": {\"width\": 1.2, \"color\": \"red\"}, \"opacity\": 0.01325}, {\"type\": \"scattergeo\", \"lon\": [30.0, -2.0], \"lat\": [27.0, 54.0], \"mode\": \"lines\", \"hoverinfo\": \"none\", \"line\": {\"width\": 1.2, \"color\": \"red\"}, \"opacity\": 0.01325}, {\"type\": \"scattergeo\", \"lon\": [8.0, -2.0], \"lat\": [10.0, 54.0], \"mode\": \"lines\", \"hoverinfo\": \"none\", \"line\": {\"width\": 1.2, \"color\": \"red\"}, \"opacity\": 0.013}, {\"type\": \"scattergeo\", \"lon\": [14.5833, 8.0], \"lat\": [35.8333, 47.0], \"mode\": \"lines\", \"hoverinfo\": \"none\", \"line\": {\"width\": 1.2, \"color\": \"red\"}, \"opacity\": 0.013}, {\"type\": \"scattergeo\", \"lon\": [-64.5, -84.0], \"lat\": [18.5, 10.0], \"mode\": \"lines\", \"hoverinfo\": \"none\", \"line\": {\"width\": 1.2, \"color\": \"red\"}, \"opacity\": 0.013}, {\"type\": \"scattergeo\", \"lon\": [-2.0, -76.0], \"lat\": [54.0, 24.25], \"mode\": \"lines\", \"hoverinfo\": \"none\", \"line\": {\"width\": 1.2, \"color\": \"red\"}, \"opacity\": 0.013}, {\"type\": \"scattergeo\", \"lon\": [114.1667, -2.0], \"lat\": [22.25, 54.0], \"mode\": \"lines\", \"hoverinfo\": \"none\", \"line\": {\"width\": 1.2, \"color\": \"red\"}, \"opacity\": 0.013}, {\"type\": \"scattergeo\", \"lon\": [-80.0, -90.25], \"lat\": [9.0, 15.5], \"mode\": \"lines\", \"hoverinfo\": \"none\", \"line\": {\"width\": 1.2, \"color\": \"red\"}, \"opacity\": 0.01275}, {\"type\": \"scattergeo\", \"lon\": [-80.5, 103.8], \"lat\": [19.5, 1.3667], \"mode\": \"lines\", \"hoverinfo\": \"none\", \"line\": {\"width\": 1.2, \"color\": \"red\"}, \"opacity\": 0.01275}, {\"type\": \"scattergeo\", \"lon\": [-97.0, -56.0], \"lat\": [38.0, -33.0], \"mode\": \"lines\", \"hoverinfo\": \"none\", \"line\": {\"width\": 1.2, \"color\": \"red\"}, \"opacity\": 0.01275}, {\"type\": \"scattergeo\", \"lon\": [112.5, 100.0], \"lat\": [2.5, 15.0], \"mode\": \"lines\", \"hoverinfo\": \"none\", \"line\": {\"width\": 1.2, \"color\": \"red\"}, \"opacity\": 0.0125}, {\"type\": \"scattergeo\", \"lon\": [22.0, 33.0], \"lat\": [39.0, 35.0], \"mode\": \"lines\", \"hoverinfo\": \"none\", \"line\": {\"width\": 1.2, \"color\": \"red\"}, \"opacity\": 0.0125}, {\"type\": \"scattergeo\", \"lon\": [-9.5, 8.0], \"lat\": [6.5, 47.0], \"mode\": \"lines\", \"hoverinfo\": \"none\", \"line\": {\"width\": 1.2, \"color\": \"red\"}, \"opacity\": 0.0125}, {\"type\": \"scattergeo\", \"lon\": [6.1667, -4.55], \"lat\": [49.75, 54.23], \"mode\": \"lines\", \"hoverinfo\": \"none\", \"line\": {\"width\": 1.2, \"color\": \"red\"}, \"opacity\": 0.0125}, {\"type\": \"scattergeo\", \"lon\": [-2.0, 35.8333], \"lat\": [54.0, 33.8333], \"mode\": \"lines\", \"hoverinfo\": \"none\", \"line\": {\"width\": 1.2, \"color\": \"red\"}, \"opacity\": 0.01225}, {\"type\": \"scattergeo\", \"lon\": [30.0, 57.55], \"lat\": [-20.0, -20.2833], \"mode\": \"lines\", \"hoverinfo\": \"none\", \"line\": {\"width\": 1.2, \"color\": \"red\"}, \"opacity\": 0.01225}, {\"type\": \"scattergeo\", \"lon\": [-9.5, 114.1667], \"lat\": [6.5, 22.25], \"mode\": \"lines\", \"hoverinfo\": \"none\", \"line\": {\"width\": 1.2, \"color\": \"red\"}, \"opacity\": 0.01225}, {\"type\": \"scattergeo\", \"lon\": [15.0, 114.1667], \"lat\": [62.0, 22.25], \"mode\": \"lines\", \"hoverinfo\": \"none\", \"line\": {\"width\": 1.2, \"color\": \"red\"}, \"opacity\": 0.01225}, {\"type\": \"scattergeo\", \"lon\": [-64.5, -90.25], \"lat\": [18.5, 15.5], \"mode\": \"lines\", \"hoverinfo\": \"none\", \"line\": {\"width\": 1.2, \"color\": \"red\"}, \"opacity\": 0.012}, {\"type\": \"scattergeo\", \"lon\": [-55.0, 7.4], \"lat\": [-10.0, 43.7333], \"mode\": \"lines\", \"hoverinfo\": \"none\", \"line\": {\"width\": 1.2, \"color\": \"red\"}, \"opacity\": 0.012}, {\"type\": \"scattergeo\", \"lon\": [68.0, 100.0], \"lat\": [48.0, 60.0], \"mode\": \"lines\", \"hoverinfo\": \"none\", \"line\": {\"width\": 1.2, \"color\": \"red\"}, \"opacity\": 0.012}, {\"type\": \"scattergeo\", \"lon\": [34.75, 114.1667], \"lat\": [31.5, 22.25], \"mode\": \"lines\", \"hoverinfo\": \"none\", \"line\": {\"width\": 1.2, \"color\": \"red\"}, \"opacity\": 0.01175}, {\"type\": \"scattergeo\", \"lon\": [21.0, 114.1667], \"lat\": [7.0, 22.25], \"mode\": \"lines\", \"hoverinfo\": \"none\", \"line\": {\"width\": 1.2, \"color\": \"red\"}, \"opacity\": 0.01175}, {\"type\": \"scattergeo\", \"lon\": [-64.5, -77.5], \"lat\": [18.5, -2.0], \"mode\": \"lines\", \"hoverinfo\": \"none\", \"line\": {\"width\": 1.2, \"color\": \"red\"}, \"opacity\": 0.01175}, {\"type\": \"scattergeo\", \"lon\": [34.75, 100.0], \"lat\": [31.5, 60.0], \"mode\": \"lines\", \"hoverinfo\": \"none\", \"line\": {\"width\": 1.2, \"color\": \"red\"}, \"opacity\": 0.01175}, {\"type\": \"scattergeo\", \"lon\": [-80.5, 105.0], \"lat\": [19.5, 35.0], \"mode\": \"lines\", \"hoverinfo\": \"none\", \"line\": {\"width\": 1.2, \"color\": \"red\"}, \"opacity\": 0.01175}, {\"type\": \"scattergeo\", \"lon\": [32.0, -2.0], \"lat\": [49.0, 54.0], \"mode\": \"lines\", \"hoverinfo\": \"none\", \"line\": {\"width\": 1.2, \"color\": \"red\"}, \"opacity\": 0.01175}, {\"type\": \"scattergeo\", \"lon\": [114.1667, -97.0], \"lat\": [22.25, 38.0], \"mode\": \"lines\", \"hoverinfo\": \"none\", \"line\": {\"width\": 1.2, \"color\": \"red\"}, \"opacity\": 0.0115}, {\"type\": \"scattergeo\", \"lon\": [-97.0, 14.5833], \"lat\": [38.0, 35.8333], \"mode\": \"lines\", \"hoverinfo\": \"none\", \"line\": {\"width\": 1.2, \"color\": \"red\"}, \"opacity\": 0.0115}, {\"type\": \"scattergeo\", \"lon\": [-169.8667, 103.8], \"lat\": [-19.0333, 1.3667], \"mode\": \"lines\", \"hoverinfo\": \"none\", \"line\": {\"width\": 1.2, \"color\": \"red\"}, \"opacity\": 0.0115}, {\"type\": \"scattergeo\", \"lon\": [-76.0, 100.0], \"lat\": [24.25, 60.0], \"mode\": \"lines\", \"hoverinfo\": \"none\", \"line\": {\"width\": 1.2, \"color\": \"red\"}, \"opacity\": 0.0115}, {\"type\": \"scattergeo\", \"lon\": [54.0, 114.1667], \"lat\": [24.0, 22.25], \"mode\": \"lines\", \"hoverinfo\": \"none\", \"line\": {\"width\": 1.2, \"color\": \"red\"}, \"opacity\": 0.0115}, {\"type\": \"scattergeo\", \"lon\": [-2.13, 34.75], \"lat\": [49.21, 31.5], \"mode\": \"lines\", \"hoverinfo\": \"none\", \"line\": {\"width\": 1.2, \"color\": \"red\"}, \"opacity\": 0.01125}, {\"type\": \"scattergeo\", \"lon\": [-84.0, -76.0], \"lat\": [10.0, 24.25], \"mode\": \"lines\", \"hoverinfo\": \"none\", \"line\": {\"width\": 1.2, \"color\": \"red\"}, \"opacity\": 0.01125}, {\"type\": \"scattergeo\", \"lon\": [174.0, -2.0], \"lat\": [-41.0, 54.0], \"mode\": \"lines\", \"hoverinfo\": \"none\", \"line\": {\"width\": 1.2, \"color\": \"red\"}, \"opacity\": 0.01125}, {\"type\": \"scattergeo\", \"lon\": [-64.5, 55.6667], \"lat\": [18.5, -4.5833], \"mode\": \"lines\", \"hoverinfo\": \"none\", \"line\": {\"width\": 1.2, \"color\": \"red\"}, \"opacity\": 0.01125}, {\"type\": \"scattergeo\", \"lon\": [70.0, 54.0], \"lat\": [30.0, 24.0], \"mode\": \"lines\", \"hoverinfo\": \"none\", \"line\": {\"width\": 1.2, \"color\": \"red\"}, \"opacity\": 0.01125}, {\"type\": \"scattergeo\", \"lon\": [55.6667, 35.8333], \"lat\": [-4.5833, 33.8333], \"mode\": \"lines\", \"hoverinfo\": \"none\", \"line\": {\"width\": 1.2, \"color\": \"red\"}, \"opacity\": 0.01125}, {\"type\": \"scattergeo\", \"lon\": [55.6667, -4.55], \"lat\": [-4.5833, 54.23], \"mode\": \"lines\", \"hoverinfo\": \"none\", \"line\": {\"width\": 1.2, \"color\": \"red\"}, \"opacity\": 0.01125}, {\"type\": \"scattergeo\", \"lon\": [77.0, 8.0], \"lat\": [20.0, 47.0], \"mode\": \"lines\", \"hoverinfo\": \"none\", \"line\": {\"width\": 1.2, \"color\": \"red\"}, \"opacity\": 0.01125}, {\"type\": \"scattergeo\", \"lon\": [-76.0, -5.3667], \"lat\": [24.25, 36.1833], \"mode\": \"lines\", \"hoverinfo\": \"none\", \"line\": {\"width\": 1.2, \"color\": \"red\"}, \"opacity\": 0.011}, {\"type\": \"scattergeo\", \"lon\": [-5.3667, -5.0], \"lat\": [36.1833, 32.0], \"mode\": \"lines\", \"hoverinfo\": \"none\", \"line\": {\"width\": 1.2, \"color\": \"red\"}, \"opacity\": 0.011}, {\"type\": \"scattergeo\", \"lon\": [57.55, -4.55], \"lat\": [-20.2833, 54.23], \"mode\": \"lines\", \"hoverinfo\": \"none\", \"line\": {\"width\": 1.2, \"color\": \"red\"}, \"opacity\": 0.011}, {\"type\": \"scattergeo\", \"lon\": [12.8333, 6.1667], \"lat\": [42.8333, 49.75], \"mode\": \"lines\", \"hoverinfo\": \"none\", \"line\": {\"width\": 1.2, \"color\": \"red\"}, \"opacity\": 0.011}, {\"type\": \"scattergeo\", \"lon\": [35.8333, -2.0], \"lat\": [33.8333, 54.0], \"mode\": \"lines\", \"hoverinfo\": \"none\", \"line\": {\"width\": 1.2, \"color\": \"red\"}, \"opacity\": 0.011}, {\"type\": \"scattergeo\", \"lon\": [24.0, 7.4], \"lat\": [-29.0, 43.7333], \"mode\": \"lines\", \"hoverinfo\": \"none\", \"line\": {\"width\": 1.2, \"color\": \"red\"}, \"opacity\": 0.011}, {\"type\": \"scattergeo\", \"lon\": [-63.1667, 8.0], \"lat\": [18.25, 47.0], \"mode\": \"lines\", \"hoverinfo\": \"none\", \"line\": {\"width\": 1.2, \"color\": \"red\"}, \"opacity\": 0.01075}, {\"type\": \"scattergeo\", \"lon\": [-76.0, -2.0], \"lat\": [24.25, 54.0], \"mode\": \"lines\", \"hoverinfo\": \"none\", \"line\": {\"width\": 1.2, \"color\": \"red\"}, \"opacity\": 0.01075}, {\"type\": \"scattergeo\", \"lon\": [-172.3333, 34.75], \"lat\": [-13.5833, 31.5], \"mode\": \"lines\", \"hoverinfo\": \"none\", \"line\": {\"width\": 1.2, \"color\": \"red\"}, \"opacity\": 0.01075}, {\"type\": \"scattergeo\", \"lon\": [100.0, -97.0], \"lat\": [60.0, 38.0], \"mode\": \"lines\", \"hoverinfo\": \"none\", \"line\": {\"width\": 1.2, \"color\": \"red\"}, \"opacity\": 0.01075}, {\"type\": \"scattergeo\", \"lon\": [-64.5, 121.0], \"lat\": [18.5, 23.5], \"mode\": \"lines\", \"hoverinfo\": \"none\", \"line\": {\"width\": 1.2, \"color\": \"red\"}, \"opacity\": 0.01075}, {\"type\": \"scattergeo\", \"lon\": [35.8333, -2.13], \"lat\": [33.8333, 49.21], \"mode\": \"lines\", \"hoverinfo\": \"none\", \"line\": {\"width\": 1.2, \"color\": \"red\"}, \"opacity\": 0.01075}, {\"type\": \"scattergeo\", \"lon\": [-8.0, 5.75], \"lat\": [39.5, 52.5], \"mode\": \"lines\", \"hoverinfo\": \"none\", \"line\": {\"width\": 1.2, \"color\": \"red\"}, \"opacity\": 0.01075}, {\"type\": \"scattergeo\", \"lon\": [-66.0, 8.0], \"lat\": [8.0, 47.0], \"mode\": \"lines\", \"hoverinfo\": \"none\", \"line\": {\"width\": 1.2, \"color\": \"red\"}, \"opacity\": 0.01075}, {\"type\": \"scattergeo\", \"lon\": [-80.5, -2.13], \"lat\": [19.5, 49.21], \"mode\": \"lines\", \"hoverinfo\": \"none\", \"line\": {\"width\": 1.2, \"color\": \"red\"}, \"opacity\": 0.0105}, {\"type\": \"scattergeo\", \"lon\": [15.0, -2.56], \"lat\": [62.0, 49.5], \"mode\": \"lines\", \"hoverinfo\": \"none\", \"line\": {\"width\": 1.2, \"color\": \"red\"}, \"opacity\": 0.0105}, {\"type\": \"scattergeo\", \"lon\": [38.0, -2.0], \"lat\": [1.0, 54.0], \"mode\": \"lines\", \"hoverinfo\": \"none\", \"line\": {\"width\": 1.2, \"color\": \"red\"}, \"opacity\": 0.0105}, {\"type\": \"scattergeo\", \"lon\": [103.8, -2.0], \"lat\": [1.3667, 54.0], \"mode\": \"lines\", \"hoverinfo\": \"none\", \"line\": {\"width\": 1.2, \"color\": \"red\"}, \"opacity\": 0.0105}, {\"type\": \"scattergeo\", \"lon\": [77.0, -2.0], \"lat\": [20.0, 54.0], \"mode\": \"lines\", \"hoverinfo\": \"none\", \"line\": {\"width\": 1.2, \"color\": \"red\"}, \"opacity\": 0.0105}, {\"type\": \"scattergeo\", \"lon\": [-72.0, -97.0], \"lat\": [4.0, 38.0], \"mode\": \"lines\", \"hoverinfo\": \"none\", \"line\": {\"width\": 1.2, \"color\": \"red\"}, \"opacity\": 0.01025}, {\"type\": \"scattergeo\", \"lon\": [103.8, -2.13], \"lat\": [1.3667, 49.21], \"mode\": \"lines\", \"hoverinfo\": \"none\", \"line\": {\"width\": 1.2, \"color\": \"red\"}, \"opacity\": 0.01025}, {\"type\": \"scattergeo\", \"lon\": [43.5, 8.0], \"lat\": [42.0, 47.0], \"mode\": \"lines\", \"hoverinfo\": \"none\", \"line\": {\"width\": 1.2, \"color\": \"red\"}, \"opacity\": 0.01025}, {\"type\": \"scattergeo\", \"lon\": [-88.75, -56.0], \"lat\": [17.25, -33.0], \"mode\": \"lines\", \"hoverinfo\": \"none\", \"line\": {\"width\": 1.2, \"color\": \"red\"}, \"opacity\": 0.01025}, {\"type\": \"scattergeo\", \"lon\": [-64.75, 8.0], \"lat\": [32.3333, 47.0], \"mode\": \"lines\", \"hoverinfo\": \"none\", \"line\": {\"width\": 1.2, \"color\": \"red\"}, \"opacity\": 0.01025}, {\"type\": \"scattergeo\", \"lon\": [-4.55, 14.5833], \"lat\": [54.23, 35.8333], \"mode\": \"lines\", \"hoverinfo\": \"none\", \"line\": {\"width\": 1.2, \"color\": \"red\"}, \"opacity\": 0.01025}, {\"type\": \"scattergeo\", \"lon\": [-76.0, -56.0], \"lat\": [24.25, -33.0], \"mode\": \"lines\", \"hoverinfo\": \"none\", \"line\": {\"width\": 1.2, \"color\": \"red\"}, \"opacity\": 0.01}, {\"type\": \"scattergeo\", \"lon\": [-64.0, 8.0], \"lat\": [-34.0, 47.0], \"mode\": \"lines\", \"hoverinfo\": \"none\", \"line\": {\"width\": 1.2, \"color\": \"red\"}, \"opacity\": 0.01}, {\"type\": \"scattergeo\", \"lon\": [-77.5, -97.0], \"lat\": [-2.0, 38.0], \"mode\": \"lines\", \"hoverinfo\": \"none\", \"line\": {\"width\": 1.2, \"color\": \"red\"}, \"opacity\": 0.01}, {\"type\": \"scattergeo\", \"lon\": [-4.55, -97.0], \"lat\": [54.23, 38.0], \"mode\": \"lines\", \"hoverinfo\": \"none\", \"line\": {\"width\": 1.2, \"color\": \"red\"}, \"opacity\": 0.01}, {\"type\": \"scattergeo\", \"lon\": [-2.13, -76.0], \"lat\": [49.21, 24.25], \"mode\": \"lines\", \"hoverinfo\": \"none\", \"line\": {\"width\": 1.2, \"color\": \"red\"}, \"opacity\": 0.01}, {\"type\": \"scattergeo\", \"lon\": [55.6667, 103.8], \"lat\": [-4.5833, 1.3667], \"mode\": \"lines\", \"hoverinfo\": \"none\", \"line\": {\"width\": 1.2, \"color\": \"red\"}, \"opacity\": 0.01}, {\"type\": \"scattergeo\", \"lon\": [-80.0, -88.75], \"lat\": [9.0, 17.25], \"mode\": \"lines\", \"hoverinfo\": \"none\", \"line\": {\"width\": 1.2, \"color\": \"red\"}, \"opacity\": 0.01}, {\"type\": \"scattergeo\", \"lon\": [7.4, 54.0], \"lat\": [43.7333, 24.0], \"mode\": \"lines\", \"hoverinfo\": \"none\", \"line\": {\"width\": 1.2, \"color\": \"red\"}, \"opacity\": 0.01}, {\"type\": \"scattergeo\", \"lon\": [133.0, -2.0], \"lat\": [-27.0, 54.0], \"mode\": \"lines\", \"hoverinfo\": \"none\", \"line\": {\"width\": 1.2, \"color\": \"red\"}, \"opacity\": 0.01}, {\"type\": \"scattergeo\", \"lon\": [54.0, 55.6667], \"lat\": [24.0, -4.5833], \"mode\": \"lines\", \"hoverinfo\": \"none\", \"line\": {\"width\": 1.2, \"color\": \"red\"}, \"opacity\": 0.01}, {\"type\": \"scattergeo\", \"lon\": [-95.0, 105.0], \"lat\": [60.0, 35.0], \"mode\": \"lines\", \"hoverinfo\": \"none\", \"line\": {\"width\": 1.2, \"color\": \"red\"}, \"opacity\": 0.00975}, {\"type\": \"scattergeo\", \"lon\": [-80.0, -4.0], \"lat\": [9.0, 40.0], \"mode\": \"lines\", \"hoverinfo\": \"none\", \"line\": {\"width\": 1.2, \"color\": \"red\"}, \"opacity\": 0.00975}, {\"type\": \"scattergeo\", \"lon\": [114.1667, 100.0], \"lat\": [22.25, 15.0], \"mode\": \"lines\", \"hoverinfo\": \"none\", \"line\": {\"width\": 1.2, \"color\": \"red\"}, \"opacity\": 0.00975}, {\"type\": \"scattergeo\", \"lon\": [-5.3667, 24.0], \"lat\": [36.1833, -29.0], \"mode\": \"lines\", \"hoverinfo\": \"none\", \"line\": {\"width\": 1.2, \"color\": \"red\"}, \"opacity\": 0.00975}, {\"type\": \"scattergeo\", \"lon\": [100.0, 55.6667], \"lat\": [60.0, -4.5833], \"mode\": \"lines\", \"hoverinfo\": \"none\", \"line\": {\"width\": 1.2, \"color\": \"red\"}, \"opacity\": 0.00975}, {\"type\": \"scattergeo\", \"lon\": [-4.55, 57.55], \"lat\": [54.23, -20.2833], \"mode\": \"lines\", \"hoverinfo\": \"none\", \"line\": {\"width\": 1.2, \"color\": \"red\"}, \"opacity\": 0.00975}, {\"type\": \"scattergeo\", \"lon\": [-77.5, -76.0], \"lat\": [-2.0, 24.25], \"mode\": \"lines\", \"hoverinfo\": \"none\", \"line\": {\"width\": 1.2, \"color\": \"red\"}, \"opacity\": 0.0095}, {\"type\": \"scattergeo\", \"lon\": [-97.0, -72.0], \"lat\": [38.0, 4.0], \"mode\": \"lines\", \"hoverinfo\": \"none\", \"line\": {\"width\": 1.2, \"color\": \"red\"}, \"opacity\": 0.0095}, {\"type\": \"scattergeo\", \"lon\": [-5.0, 8.0], \"lat\": [32.0, 47.0], \"mode\": \"lines\", \"hoverinfo\": \"none\", \"line\": {\"width\": 1.2, \"color\": \"red\"}, \"opacity\": 0.0095}, {\"type\": \"scattergeo\", \"lon\": [-58.0, -56.0], \"lat\": [-23.0, -33.0], \"mode\": \"lines\", \"hoverinfo\": \"none\", \"line\": {\"width\": 1.2, \"color\": \"red\"}, \"opacity\": 0.0095}, {\"type\": \"scattergeo\", \"lon\": [29.0, 100.0], \"lat\": [47.0, 60.0], \"mode\": \"lines\", \"hoverinfo\": \"none\", \"line\": {\"width\": 1.2, \"color\": \"red\"}, \"opacity\": 0.0095}, {\"type\": \"scattergeo\", \"lon\": [-76.0, 7.4], \"lat\": [24.25, 43.7333], \"mode\": \"lines\", \"hoverinfo\": \"none\", \"line\": {\"width\": 1.2, \"color\": \"red\"}, \"opacity\": 0.0095}, {\"type\": \"scattergeo\", \"lon\": [8.0, 8.0], \"lat\": [10.0, 47.0], \"mode\": \"lines\", \"hoverinfo\": \"none\", \"line\": {\"width\": 1.2, \"color\": \"red\"}, \"opacity\": 0.0095}, {\"type\": \"scattergeo\", \"lon\": [24.0, 114.1667], \"lat\": [-29.0, 22.25], \"mode\": \"lines\", \"hoverinfo\": \"none\", \"line\": {\"width\": 1.2, \"color\": \"red\"}, \"opacity\": 0.00925}, {\"type\": \"scattergeo\", \"lon\": [4.0, 114.1667], \"lat\": [50.8333, 22.25], \"mode\": \"lines\", \"hoverinfo\": \"none\", \"line\": {\"width\": 1.2, \"color\": \"red\"}, \"opacity\": 0.00925}, {\"type\": \"scattergeo\", \"lon\": [-64.5, -56.0], \"lat\": [18.5, -33.0], \"mode\": \"lines\", \"hoverinfo\": \"none\", \"line\": {\"width\": 1.2, \"color\": \"red\"}, \"opacity\": 0.00925}, {\"type\": \"scattergeo\", \"lon\": [-80.0, 103.8], \"lat\": [9.0, 1.3667], \"mode\": \"lines\", \"hoverinfo\": \"none\", \"line\": {\"width\": 1.2, \"color\": \"red\"}, \"opacity\": 0.00925}, {\"type\": \"scattergeo\", \"lon\": [-4.0, -172.3333], \"lat\": [40.0, -13.5833], \"mode\": \"lines\", \"hoverinfo\": \"none\", \"line\": {\"width\": 1.2, \"color\": \"red\"}, \"opacity\": 0.00925}, {\"type\": \"scattergeo\", \"lon\": [-64.0, -80.0], \"lat\": [-34.0, 9.0], \"mode\": \"lines\", \"hoverinfo\": \"none\", \"line\": {\"width\": 1.2, \"color\": \"red\"}, \"opacity\": 0.00925}, {\"type\": \"scattergeo\", \"lon\": [7.4, -4.55], \"lat\": [43.7333, 54.23], \"mode\": \"lines\", \"hoverinfo\": \"none\", \"line\": {\"width\": 1.2, \"color\": \"red\"}, \"opacity\": 0.00925}, {\"type\": \"scattergeo\", \"lon\": [105.0, 114.1667], \"lat\": [46.0, 22.25], \"mode\": \"lines\", \"hoverinfo\": \"none\", \"line\": {\"width\": 1.2, \"color\": \"red\"}, \"opacity\": 0.00925}, {\"type\": \"scattergeo\", \"lon\": [35.8333, 54.0], \"lat\": [33.8333, 24.0], \"mode\": \"lines\", \"hoverinfo\": \"none\", \"line\": {\"width\": 1.2, \"color\": \"red\"}, \"opacity\": 0.00925}, {\"type\": \"scattergeo\", \"lon\": [-97.0, -4.55], \"lat\": [38.0, 54.23], \"mode\": \"lines\", \"hoverinfo\": \"none\", \"line\": {\"width\": 1.2, \"color\": \"red\"}, \"opacity\": 0.009}, {\"type\": \"scattergeo\", \"lon\": [-2.13, -97.0], \"lat\": [49.21, 38.0], \"mode\": \"lines\", \"hoverinfo\": \"none\", \"line\": {\"width\": 1.2, \"color\": \"red\"}, \"opacity\": 0.009}, {\"type\": \"scattergeo\", \"lon\": [133.0, -2.13], \"lat\": [-27.0, 49.21], \"mode\": \"lines\", \"hoverinfo\": \"none\", \"line\": {\"width\": 1.2, \"color\": \"red\"}, \"opacity\": 0.009}, {\"type\": \"scattergeo\", \"lon\": [-84.0, 8.0], \"lat\": [10.0, 47.0], \"mode\": \"lines\", \"hoverinfo\": \"none\", \"line\": {\"width\": 1.2, \"color\": \"red\"}, \"opacity\": 0.009}, {\"type\": \"scattergeo\", \"lon\": [7.4, 6.1667], \"lat\": [43.7333, 49.75], \"mode\": \"lines\", \"hoverinfo\": \"none\", \"line\": {\"width\": 1.2, \"color\": \"red\"}, \"opacity\": 0.009}, {\"type\": \"scattergeo\", \"lon\": [50.55, 36.0], \"lat\": [26.0, 31.0], \"mode\": \"lines\", \"hoverinfo\": \"none\", \"line\": {\"width\": 1.2, \"color\": \"red\"}, \"opacity\": 0.009}, {\"type\": \"scattergeo\", \"lon\": [-2.13, -80.0], \"lat\": [49.21, 9.0], \"mode\": \"lines\", \"hoverinfo\": \"none\", \"line\": {\"width\": 1.2, \"color\": \"red\"}, \"opacity\": 0.009}, {\"type\": \"scattergeo\", \"lon\": [100.0, 9.5333], \"lat\": [60.0, 47.1667], \"mode\": \"lines\", \"hoverinfo\": \"none\", \"line\": {\"width\": 1.2, \"color\": \"red\"}, \"opacity\": 0.009}, {\"type\": \"scattergeo\", \"lon\": [6.1667, -8.0], \"lat\": [49.75, 39.5], \"mode\": \"lines\", \"hoverinfo\": \"none\", \"line\": {\"width\": 1.2, \"color\": \"red\"}, \"opacity\": 0.009}, {\"type\": \"scattergeo\", \"lon\": [8.0, 35.8333], \"lat\": [10.0, 33.8333], \"mode\": \"lines\", \"hoverinfo\": \"none\", \"line\": {\"width\": 1.2, \"color\": \"red\"}, \"opacity\": 0.009}, {\"type\": \"scattergeo\", \"lon\": [8.0, 36.0], \"lat\": [10.0, 31.0], \"mode\": \"lines\", \"hoverinfo\": \"none\", \"line\": {\"width\": 1.2, \"color\": \"red\"}, \"opacity\": 0.009}, {\"type\": \"scattergeo\", \"lon\": [9.5333, 54.0], \"lat\": [47.1667, 24.0], \"mode\": \"lines\", \"hoverinfo\": \"none\", \"line\": {\"width\": 1.2, \"color\": \"red\"}, \"opacity\": 0.00875}, {\"type\": \"scattergeo\", \"lon\": [103.8, 100.0], \"lat\": [1.3667, 15.0], \"mode\": \"lines\", \"hoverinfo\": \"none\", \"line\": {\"width\": 1.2, \"color\": \"red\"}, \"opacity\": 0.00875}, {\"type\": \"scattergeo\", \"lon\": [-80.5, -2.0], \"lat\": [19.5, 54.0], \"mode\": \"lines\", \"hoverinfo\": \"none\", \"line\": {\"width\": 1.2, \"color\": \"red\"}, \"opacity\": 0.00875}, {\"type\": \"scattergeo\", \"lon\": [-4.0, -56.0], \"lat\": [40.0, -33.0], \"mode\": \"lines\", \"hoverinfo\": \"none\", \"line\": {\"width\": 1.2, \"color\": \"red\"}, \"opacity\": 0.00875}, {\"type\": \"scattergeo\", \"lon\": [54.0, 77.0], \"lat\": [24.0, 20.0], \"mode\": \"lines\", \"hoverinfo\": \"none\", \"line\": {\"width\": 1.2, \"color\": \"red\"}, \"opacity\": 0.00875}, {\"type\": \"scattergeo\", \"lon\": [30.0, 36.0], \"lat\": [27.0, 31.0], \"mode\": \"lines\", \"hoverinfo\": \"none\", \"line\": {\"width\": 1.2, \"color\": \"red\"}, \"opacity\": 0.00875}, {\"type\": \"scattergeo\", \"lon\": [9.0, 8.0], \"lat\": [51.0, 47.0], \"mode\": \"lines\", \"hoverinfo\": \"none\", \"line\": {\"width\": 1.2, \"color\": \"red\"}, \"opacity\": 0.00875}, {\"type\": \"scattergeo\", \"lon\": [-97.0, 100.0], \"lat\": [38.0, 60.0], \"mode\": \"lines\", \"hoverinfo\": \"none\", \"line\": {\"width\": 1.2, \"color\": \"red\"}, \"opacity\": 0.00875}, {\"type\": \"scattergeo\", \"lon\": [2.0, 103.8], \"lat\": [46.0, 1.3667], \"mode\": \"lines\", \"hoverinfo\": \"none\", \"line\": {\"width\": 1.2, \"color\": \"red\"}, \"opacity\": 0.00875}, {\"type\": \"scattergeo\", \"lon\": [-88.75, 34.75], \"lat\": [17.25, 31.5], \"mode\": \"lines\", \"hoverinfo\": \"none\", \"line\": {\"width\": 1.2, \"color\": \"red\"}, \"opacity\": 0.00875}, {\"type\": \"scattergeo\", \"lon\": [-2.13, 33.0], \"lat\": [49.21, 35.0], \"mode\": \"lines\", \"hoverinfo\": \"none\", \"line\": {\"width\": 1.2, \"color\": \"red\"}, \"opacity\": 0.0085}, {\"type\": \"scattergeo\", \"lon\": [-55.0, 114.1667], \"lat\": [-10.0, 22.25], \"mode\": \"lines\", \"hoverinfo\": \"none\", \"line\": {\"width\": 1.2, \"color\": \"red\"}, \"opacity\": 0.0085}, {\"type\": \"scattergeo\", \"lon\": [9.5333, -2.56], \"lat\": [47.1667, 49.5], \"mode\": \"lines\", \"hoverinfo\": \"none\", \"line\": {\"width\": 1.2, \"color\": \"red\"}, \"opacity\": 0.0085}, {\"type\": \"scattergeo\", \"lon\": [55.6667, 7.4], \"lat\": [-4.5833, 43.7333], \"mode\": \"lines\", \"hoverinfo\": \"none\", \"line\": {\"width\": 1.2, \"color\": \"red\"}, \"opacity\": 0.0085}, {\"type\": \"scattergeo\", \"lon\": [54.0, -2.56], \"lat\": [24.0, 49.5], \"mode\": \"lines\", \"hoverinfo\": \"none\", \"line\": {\"width\": 1.2, \"color\": \"red\"}, \"opacity\": 0.0085}, {\"type\": \"scattergeo\", \"lon\": [122.0, 103.8], \"lat\": [13.0, 1.3667], \"mode\": \"lines\", \"hoverinfo\": \"none\", \"line\": {\"width\": 1.2, \"color\": \"red\"}, \"opacity\": 0.0085}, {\"type\": \"scattergeo\", \"lon\": [-4.55, 114.1667], \"lat\": [54.23, 22.25], \"mode\": \"lines\", \"hoverinfo\": \"none\", \"line\": {\"width\": 1.2, \"color\": \"red\"}, \"opacity\": 0.0085}, {\"type\": \"scattergeo\", \"lon\": [-64.5, 35.8333], \"lat\": [18.5, 33.8333], \"mode\": \"lines\", \"hoverinfo\": \"none\", \"line\": {\"width\": 1.2, \"color\": \"red\"}, \"opacity\": 0.0085}, {\"type\": \"scattergeo\", \"lon\": [32.0, 33.0], \"lat\": [49.0, 35.0], \"mode\": \"lines\", \"hoverinfo\": \"none\", \"line\": {\"width\": 1.2, \"color\": \"red\"}, \"opacity\": 0.0085}, {\"type\": \"scattergeo\", \"lon\": [49.0, 114.1667], \"lat\": [10.0, 22.25], \"mode\": \"lines\", \"hoverinfo\": \"none\", \"line\": {\"width\": 1.2, \"color\": \"red\"}, \"opacity\": 0.00825}, {\"type\": \"scattergeo\", \"lon\": [-5.3667, -4.55], \"lat\": [36.1833, 54.23], \"mode\": \"lines\", \"hoverinfo\": \"none\", \"line\": {\"width\": 1.2, \"color\": \"red\"}, \"opacity\": 0.00825}, {\"type\": \"scattergeo\", \"lon\": [100.0, -2.0], \"lat\": [15.0, 54.0], \"mode\": \"lines\", \"hoverinfo\": \"none\", \"line\": {\"width\": 1.2, \"color\": \"red\"}, \"opacity\": 0.00825}, {\"type\": \"scattergeo\", \"lon\": [-8.0, -2.0], \"lat\": [53.0, 54.0], \"mode\": \"lines\", \"hoverinfo\": \"none\", \"line\": {\"width\": 1.2, \"color\": \"red\"}, \"opacity\": 0.00825}, {\"type\": \"scattergeo\", \"lon\": [-2.56, -5.3667], \"lat\": [49.5, 36.1833], \"mode\": \"lines\", \"hoverinfo\": \"none\", \"line\": {\"width\": 1.2, \"color\": \"red\"}, \"opacity\": 0.00825}, {\"type\": \"scattergeo\", \"lon\": [114.1667, 6.1667], \"lat\": [22.25, 49.75], \"mode\": \"lines\", \"hoverinfo\": \"none\", \"line\": {\"width\": 1.2, \"color\": \"red\"}, \"opacity\": 0.00825}, {\"type\": \"scattergeo\", \"lon\": [-5.3667, -4.0], \"lat\": [36.1833, 40.0], \"mode\": \"lines\", \"hoverinfo\": \"none\", \"line\": {\"width\": 1.2, \"color\": \"red\"}, \"opacity\": 0.00825}, {\"type\": \"scattergeo\", \"lon\": [-172.3333, -4.55], \"lat\": [-13.5833, 54.23], \"mode\": \"lines\", \"hoverinfo\": \"none\", \"line\": {\"width\": 1.2, \"color\": \"red\"}, \"opacity\": 0.00825}, {\"type\": \"scattergeo\", \"lon\": [-4.0, -2.0], \"lat\": [40.0, 54.0], \"mode\": \"lines\", \"hoverinfo\": \"none\", \"line\": {\"width\": 1.2, \"color\": \"red\"}, \"opacity\": 0.00825}, {\"type\": \"scattergeo\", \"lon\": [-95.0, 54.0], \"lat\": [60.0, 24.0], \"mode\": \"lines\", \"hoverinfo\": \"none\", \"line\": {\"width\": 1.2, \"color\": \"red\"}, \"opacity\": 0.00825}, {\"type\": \"scattergeo\", \"lon\": [-97.0, 7.4], \"lat\": [38.0, 43.7333], \"mode\": \"lines\", \"hoverinfo\": \"none\", \"line\": {\"width\": 1.2, \"color\": \"red\"}, \"opacity\": 0.008}, {\"type\": \"scattergeo\", \"lon\": [9.0, 6.1667], \"lat\": [51.0, 49.75], \"mode\": \"lines\", \"hoverinfo\": \"none\", \"line\": {\"width\": 1.2, \"color\": \"red\"}, \"opacity\": 0.008}, {\"type\": \"scattergeo\", \"lon\": [57.55, -2.13], \"lat\": [-20.2833, 49.21], \"mode\": \"lines\", \"hoverinfo\": \"none\", \"line\": {\"width\": 1.2, \"color\": \"red\"}, \"opacity\": 0.008}, {\"type\": \"scattergeo\", \"lon\": [-97.0, -90.25], \"lat\": [38.0, 15.5], \"mode\": \"lines\", \"hoverinfo\": \"none\", \"line\": {\"width\": 1.2, \"color\": \"red\"}, \"opacity\": 0.008}, {\"type\": \"scattergeo\", \"lon\": [114.6667, 103.8], \"lat\": [4.5, 1.3667], \"mode\": \"lines\", \"hoverinfo\": \"none\", \"line\": {\"width\": 1.2, \"color\": \"red\"}, \"opacity\": 0.008}, {\"type\": \"scattergeo\", \"lon\": [-64.5, -4.0], \"lat\": [18.5, 40.0], \"mode\": \"lines\", \"hoverinfo\": \"none\", \"line\": {\"width\": 1.2, \"color\": \"red\"}, \"opacity\": 0.008}, {\"type\": \"scattergeo\", \"lon\": [34.75, -2.13], \"lat\": [31.5, 49.21], \"mode\": \"lines\", \"hoverinfo\": \"none\", \"line\": {\"width\": 1.2, \"color\": \"red\"}, \"opacity\": 0.008}, {\"type\": \"scattergeo\", \"lon\": [45.0, 54.0], \"lat\": [25.0, 24.0], \"mode\": \"lines\", \"hoverinfo\": \"none\", \"line\": {\"width\": 1.2, \"color\": \"red\"}, \"opacity\": 0.008}, {\"type\": \"scattergeo\", \"lon\": [105.0, -2.0], \"lat\": [35.0, 54.0], \"mode\": \"lines\", \"hoverinfo\": \"none\", \"line\": {\"width\": 1.2, \"color\": \"red\"}, \"opacity\": 0.00775}, {\"type\": \"scattergeo\", \"lon\": [-55.0, -76.0], \"lat\": [-10.0, 24.25], \"mode\": \"lines\", \"hoverinfo\": \"none\", \"line\": {\"width\": 1.2, \"color\": \"red\"}, \"opacity\": 0.00775}, {\"type\": \"scattergeo\", \"lon\": [-76.0, -80.0], \"lat\": [24.25, 9.0], \"mode\": \"lines\", \"hoverinfo\": \"none\", \"line\": {\"width\": 1.2, \"color\": \"red\"}, \"opacity\": 0.00775}, {\"type\": \"scattergeo\", \"lon\": [-8.0, -4.55], \"lat\": [53.0, 54.23], \"mode\": \"lines\", \"hoverinfo\": \"none\", \"line\": {\"width\": 1.2, \"color\": \"red\"}, \"opacity\": 0.00775}, {\"type\": \"scattergeo\", \"lon\": [54.0, -97.0], \"lat\": [24.0, 38.0], \"mode\": \"lines\", \"hoverinfo\": \"none\", \"line\": {\"width\": 1.2, \"color\": \"red\"}, \"opacity\": 0.00775}, {\"type\": \"scattergeo\", \"lon\": [36.0, -2.0], \"lat\": [31.0, 54.0], \"mode\": \"lines\", \"hoverinfo\": \"none\", \"line\": {\"width\": 1.2, \"color\": \"red\"}, \"opacity\": 0.00775}, {\"type\": \"scattergeo\", \"lon\": [38.0, -2.13], \"lat\": [1.0, 49.21], \"mode\": \"lines\", \"hoverinfo\": \"none\", \"line\": {\"width\": 1.2, \"color\": \"red\"}, \"opacity\": 0.00775}, {\"type\": \"scattergeo\", \"lon\": [12.8333, 14.5833], \"lat\": [42.8333, 35.8333], \"mode\": \"lines\", \"hoverinfo\": \"none\", \"line\": {\"width\": 1.2, \"color\": \"red\"}, \"opacity\": 0.00775}, {\"type\": \"scattergeo\", \"lon\": [33.0, 9.5333], \"lat\": [35.0, 47.1667], \"mode\": \"lines\", \"hoverinfo\": \"none\", \"line\": {\"width\": 1.2, \"color\": \"red\"}, \"opacity\": 0.00775}, {\"type\": \"scattergeo\", \"lon\": [-76.0, -4.55], \"lat\": [24.25, 54.23], \"mode\": \"lines\", \"hoverinfo\": \"none\", \"line\": {\"width\": 1.2, \"color\": \"red\"}, \"opacity\": 0.0075}, {\"type\": \"scattergeo\", \"lon\": [-172.3333, -88.75], \"lat\": [-13.5833, 17.25], \"mode\": \"lines\", \"hoverinfo\": \"none\", \"line\": {\"width\": 1.2, \"color\": \"red\"}, \"opacity\": 0.0075}, {\"type\": \"scattergeo\", \"lon\": [7.4, -2.0], \"lat\": [43.7333, 54.0], \"mode\": \"lines\", \"hoverinfo\": \"none\", \"line\": {\"width\": 1.2, \"color\": \"red\"}, \"opacity\": 0.0075}, {\"type\": \"scattergeo\", \"lon\": [-2.13, 6.1667], \"lat\": [49.21, 49.75], \"mode\": \"lines\", \"hoverinfo\": \"none\", \"line\": {\"width\": 1.2, \"color\": \"red\"}, \"opacity\": 0.0075}, {\"type\": \"scattergeo\", \"lon\": [-88.75, 54.0], \"lat\": [17.25, 24.0], \"mode\": \"lines\", \"hoverinfo\": \"none\", \"line\": {\"width\": 1.2, \"color\": \"red\"}, \"opacity\": 0.0075}, {\"type\": \"scattergeo\", \"lon\": [8.0, -8.0], \"lat\": [47.0, 39.5], \"mode\": \"lines\", \"hoverinfo\": \"none\", \"line\": {\"width\": 1.2, \"color\": \"red\"}, \"opacity\": 0.0075}, {\"type\": \"scattergeo\", \"lon\": [33.0, 114.1667], \"lat\": [35.0, 22.25], \"mode\": \"lines\", \"hoverinfo\": \"none\", \"line\": {\"width\": 1.2, \"color\": \"red\"}, \"opacity\": 0.0075}, {\"type\": \"scattergeo\", \"lon\": [-80.0, -66.0], \"lat\": [9.0, 8.0], \"mode\": \"lines\", \"hoverinfo\": \"none\", \"line\": {\"width\": 1.2, \"color\": \"red\"}, \"opacity\": 0.00725}, {\"type\": \"scattergeo\", \"lon\": [-4.0, -80.0], \"lat\": [40.0, 9.0], \"mode\": \"lines\", \"hoverinfo\": \"none\", \"line\": {\"width\": 1.2, \"color\": \"red\"}, \"opacity\": 0.00725}, {\"type\": \"scattergeo\", \"lon\": [13.3333, -4.55], \"lat\": [47.3333, 54.23], \"mode\": \"lines\", \"hoverinfo\": \"none\", \"line\": {\"width\": 1.2, \"color\": \"red\"}, \"opacity\": 0.00725}, {\"type\": \"scattergeo\", \"lon\": [54.0, 57.55], \"lat\": [24.0, -20.2833], \"mode\": \"lines\", \"hoverinfo\": \"none\", \"line\": {\"width\": 1.2, \"color\": \"red\"}, \"opacity\": 0.00725}, {\"type\": \"scattergeo\", \"lon\": [35.0, 55.6667], \"lat\": [39.0, -4.5833], \"mode\": \"lines\", \"hoverinfo\": \"none\", \"line\": {\"width\": 1.2, \"color\": \"red\"}, \"opacity\": 0.00725}, {\"type\": \"scattergeo\", \"lon\": [-64.0, -76.0], \"lat\": [-34.0, 24.25], \"mode\": \"lines\", \"hoverinfo\": \"none\", \"line\": {\"width\": 1.2, \"color\": \"red\"}, \"opacity\": 0.00725}, {\"type\": \"scattergeo\", \"lon\": [51.25, -2.13], \"lat\": [25.5, 49.21], \"mode\": \"lines\", \"hoverinfo\": \"none\", \"line\": {\"width\": 1.2, \"color\": \"red\"}, \"opacity\": 0.00725}, {\"type\": \"scattergeo\", \"lon\": [-66.0, -72.0], \"lat\": [8.0, 4.0], \"mode\": \"lines\", \"hoverinfo\": \"none\", \"line\": {\"width\": 1.2, \"color\": \"red\"}, \"opacity\": 0.00725}, {\"type\": \"scattergeo\", \"lon\": [6.1667, -64.5], \"lat\": [49.75, 18.5], \"mode\": \"lines\", \"hoverinfo\": \"none\", \"line\": {\"width\": 1.2, \"color\": \"red\"}, \"opacity\": 0.007}, {\"type\": \"scattergeo\", \"lon\": [8.0, -97.0], \"lat\": [47.0, 38.0], \"mode\": \"lines\", \"hoverinfo\": \"none\", \"line\": {\"width\": 1.2, \"color\": \"red\"}, \"opacity\": 0.007}, {\"type\": \"scattergeo\", \"lon\": [106.0, 103.8], \"lat\": [16.0, 1.3667], \"mode\": \"lines\", \"hoverinfo\": \"none\", \"line\": {\"width\": 1.2, \"color\": \"red\"}, \"opacity\": 0.007}, {\"type\": \"scattergeo\", \"lon\": [35.0, -2.0], \"lat\": [39.0, 54.0], \"mode\": \"lines\", \"hoverinfo\": \"none\", \"line\": {\"width\": 1.2, \"color\": \"red\"}, \"opacity\": 0.007}, {\"type\": \"scattergeo\", \"lon\": [-4.0, 1.6], \"lat\": [40.0, 42.5], \"mode\": \"lines\", \"hoverinfo\": \"none\", \"line\": {\"width\": 1.2, \"color\": \"red\"}, \"opacity\": 0.007}, {\"type\": \"scattergeo\", \"lon\": [138.0, 103.8], \"lat\": [36.0, 1.3667], \"mode\": \"lines\", \"hoverinfo\": \"none\", \"line\": {\"width\": 1.2, \"color\": \"red\"}, \"opacity\": 0.007}, {\"type\": \"scattergeo\", \"lon\": [35.0, 114.1667], \"lat\": [39.0, 22.25], \"mode\": \"lines\", \"hoverinfo\": \"none\", \"line\": {\"width\": 1.2, \"color\": \"red\"}, \"opacity\": 0.007}, {\"type\": \"scattergeo\", \"lon\": [114.1667, 121.0], \"lat\": [22.25, 23.5], \"mode\": \"lines\", \"hoverinfo\": \"none\", \"line\": {\"width\": 1.2, \"color\": \"red\"}, \"opacity\": 0.007}, {\"type\": \"scattergeo\", \"lon\": [25.0, 8.0], \"lat\": [57.0, 47.0], \"mode\": \"lines\", \"hoverinfo\": \"none\", \"line\": {\"width\": 1.2, \"color\": \"red\"}, \"opacity\": 0.007}, {\"type\": \"scattergeo\", \"lon\": [77.0, -2.13], \"lat\": [20.0, 49.21], \"mode\": \"lines\", \"hoverinfo\": \"none\", \"line\": {\"width\": 1.2, \"color\": \"red\"}, \"opacity\": 0.007}, {\"type\": \"scattergeo\", \"lon\": [100.0, -97.0], \"lat\": [15.0, 38.0], \"mode\": \"lines\", \"hoverinfo\": \"none\", \"line\": {\"width\": 1.2, \"color\": \"red\"}, \"opacity\": 0.007}, {\"type\": \"scattergeo\", \"lon\": [24.0, 54.0], \"lat\": [-29.0, 24.0], \"mode\": \"lines\", \"hoverinfo\": \"none\", \"line\": {\"width\": 1.2, \"color\": \"red\"}, \"opacity\": 0.007}, {\"type\": \"scattergeo\", \"lon\": [127.5, 103.8], \"lat\": [37.0, 1.3667], \"mode\": \"lines\", \"hoverinfo\": \"none\", \"line\": {\"width\": 1.2, \"color\": \"red\"}, \"opacity\": 0.007}, {\"type\": \"scattergeo\", \"lon\": [112.5, -84.0], \"lat\": [2.5, 10.0], \"mode\": \"lines\", \"hoverinfo\": \"none\", \"line\": {\"width\": 1.2, \"color\": \"red\"}, \"opacity\": 0.007}, {\"type\": \"scattergeo\", \"lon\": [-2.56, 7.4], \"lat\": [49.5, 43.7333], \"mode\": \"lines\", \"hoverinfo\": \"none\", \"line\": {\"width\": 1.2, \"color\": \"red\"}, \"opacity\": 0.007}, {\"type\": \"scattergeo\", \"lon\": [103.8, 105.0], \"lat\": [1.3667, 35.0], \"mode\": \"lines\", \"hoverinfo\": \"none\", \"line\": {\"width\": 1.2, \"color\": \"red\"}, \"opacity\": 0.00675}, {\"type\": \"scattergeo\", \"lon\": [9.5333, -4.0], \"lat\": [47.1667, 40.0], \"mode\": \"lines\", \"hoverinfo\": \"none\", \"line\": {\"width\": 1.2, \"color\": \"red\"}, \"opacity\": 0.00675}, {\"type\": \"scattergeo\", \"lon\": [33.0, 26.0], \"lat\": [35.0, 59.0], \"mode\": \"lines\", \"hoverinfo\": \"none\", \"line\": {\"width\": 1.2, \"color\": \"red\"}, \"opacity\": 0.00675}, {\"type\": \"scattergeo\", \"lon\": [20.0, 114.1667], \"lat\": [52.0, 22.25], \"mode\": \"lines\", \"hoverinfo\": \"none\", \"line\": {\"width\": 1.2, \"color\": \"red\"}, \"opacity\": 0.00675}, {\"type\": \"scattergeo\", \"lon\": [-5.3667, -2.56], \"lat\": [36.1833, 49.5], \"mode\": \"lines\", \"hoverinfo\": \"none\", \"line\": {\"width\": 1.2, \"color\": \"red\"}, \"opacity\": 0.00675}, {\"type\": \"scattergeo\", \"lon\": [-61.3333, -70.6667], \"lat\": [15.4167, 19.0], \"mode\": \"lines\", \"hoverinfo\": \"none\", \"line\": {\"width\": 1.2, \"color\": \"red\"}, \"opacity\": 0.00675}, {\"type\": \"scattergeo\", \"lon\": [-2.56, -76.0], \"lat\": [49.5, 24.25], \"mode\": \"lines\", \"hoverinfo\": \"none\", \"line\": {\"width\": 1.2, \"color\": \"red\"}, \"opacity\": 0.00675}, {\"type\": \"scattergeo\", \"lon\": [-95.0, -2.56], \"lat\": [60.0, 49.5], \"mode\": \"lines\", \"hoverinfo\": \"none\", \"line\": {\"width\": 1.2, \"color\": \"red\"}, \"opacity\": 0.00675}, {\"type\": \"scattergeo\", \"lon\": [64.0, 25.0], \"lat\": [41.0, 57.0], \"mode\": \"lines\", \"hoverinfo\": \"none\", \"line\": {\"width\": 1.2, \"color\": \"red\"}, \"opacity\": 0.00675}, {\"type\": \"scattergeo\", \"lon\": [55.6667, -77.5], \"lat\": [-4.5833, -2.0], \"mode\": \"lines\", \"hoverinfo\": \"none\", \"line\": {\"width\": 1.2, \"color\": \"red\"}, \"opacity\": 0.00675}, {\"type\": \"scattergeo\", \"lon\": [45.0, -2.56], \"lat\": [25.0, 49.5], \"mode\": \"lines\", \"hoverinfo\": \"none\", \"line\": {\"width\": 1.2, \"color\": \"red\"}, \"opacity\": 0.00675}, {\"type\": \"scattergeo\", \"lon\": [55.6667, 100.0], \"lat\": [-4.5833, 15.0], \"mode\": \"lines\", \"hoverinfo\": \"none\", \"line\": {\"width\": 1.2, \"color\": \"red\"}, \"opacity\": 0.00675}, {\"type\": \"scattergeo\", \"lon\": [-64.75, -2.56], \"lat\": [32.3333, 49.5], \"mode\": \"lines\", \"hoverinfo\": \"none\", \"line\": {\"width\": 1.2, \"color\": \"red\"}, \"opacity\": 0.00675}, {\"type\": \"scattergeo\", \"lon\": [-97.0, -5.3667], \"lat\": [38.0, 36.1833], \"mode\": \"lines\", \"hoverinfo\": \"none\", \"line\": {\"width\": 1.2, \"color\": \"red\"}, \"opacity\": 0.00675}, {\"type\": \"scattergeo\", \"lon\": [133.0, 100.0], \"lat\": [-27.0, 15.0], \"mode\": \"lines\", \"hoverinfo\": \"none\", \"line\": {\"width\": 1.2, \"color\": \"red\"}, \"opacity\": 0.00675}, {\"type\": \"scattergeo\", \"lon\": [133.0, -4.55], \"lat\": [-27.0, 54.23], \"mode\": \"lines\", \"hoverinfo\": \"none\", \"line\": {\"width\": 1.2, \"color\": \"red\"}, \"opacity\": 0.00675}, {\"type\": \"scattergeo\", \"lon\": [55.6667, -55.0], \"lat\": [-4.5833, -10.0], \"mode\": \"lines\", \"hoverinfo\": \"none\", \"line\": {\"width\": 1.2, \"color\": \"red\"}, \"opacity\": 0.00675}, {\"type\": \"scattergeo\", \"lon\": [-80.0, 14.5833], \"lat\": [9.0, 35.8333], \"mode\": \"lines\", \"hoverinfo\": \"none\", \"line\": {\"width\": 1.2, \"color\": \"red\"}, \"opacity\": 0.00675}, {\"type\": \"scattergeo\", \"lon\": [-80.0, 35.8333], \"lat\": [9.0, 33.8333], \"mode\": \"lines\", \"hoverinfo\": \"none\", \"line\": {\"width\": 1.2, \"color\": \"red\"}, \"opacity\": 0.00675}, {\"type\": \"scattergeo\", \"lon\": [7.4, 114.1667], \"lat\": [43.7333, 22.25], \"mode\": \"lines\", \"hoverinfo\": \"none\", \"line\": {\"width\": 1.2, \"color\": \"red\"}, \"opacity\": 0.00675}, {\"type\": \"scattergeo\", \"lon\": [35.0, -2.13], \"lat\": [39.0, 49.21], \"mode\": \"lines\", \"hoverinfo\": \"none\", \"line\": {\"width\": 1.2, \"color\": \"red\"}, \"opacity\": 0.00675}, {\"type\": \"scattergeo\", \"lon\": [-70.6667, -97.0], \"lat\": [19.0, 38.0], \"mode\": \"lines\", \"hoverinfo\": \"none\", \"line\": {\"width\": 1.2, \"color\": \"red\"}, \"opacity\": 0.0065}, {\"type\": \"scattergeo\", \"lon\": [-64.5, -8.0], \"lat\": [18.5, 39.5], \"mode\": \"lines\", \"hoverinfo\": \"none\", \"line\": {\"width\": 1.2, \"color\": \"red\"}, \"opacity\": 0.0065}, {\"type\": \"scattergeo\", \"lon\": [-80.0, -2.56], \"lat\": [9.0, 49.5], \"mode\": \"lines\", \"hoverinfo\": \"none\", \"line\": {\"width\": 1.2, \"color\": \"red\"}, \"opacity\": 0.0065}, {\"type\": \"scattergeo\", \"lon\": [133.0, 32.0], \"lat\": [-27.0, 49.0], \"mode\": \"lines\", \"hoverinfo\": \"none\", \"line\": {\"width\": 1.2, \"color\": \"red\"}, \"opacity\": 0.0065}, {\"type\": \"scattergeo\", \"lon\": [-169.8667, 114.1667], \"lat\": [-19.0333, 22.25], \"mode\": \"lines\", \"hoverinfo\": \"none\", \"line\": {\"width\": 1.2, \"color\": \"red\"}, \"opacity\": 0.0065}, {\"type\": \"scattergeo\", \"lon\": [100.0, 8.0], \"lat\": [15.0, 47.0], \"mode\": \"lines\", \"hoverinfo\": \"none\", \"line\": {\"width\": 1.2, \"color\": \"red\"}, \"opacity\": 0.0065}, {\"type\": \"scattergeo\", \"lon\": [9.5333, -2.13], \"lat\": [47.1667, 49.21], \"mode\": \"lines\", \"hoverinfo\": \"none\", \"line\": {\"width\": 1.2, \"color\": \"red\"}, \"opacity\": 0.0065}, {\"type\": \"scattergeo\", \"lon\": [10.0, 6.1667], \"lat\": [62.0, 49.75], \"mode\": \"lines\", \"hoverinfo\": \"none\", \"line\": {\"width\": 1.2, \"color\": \"red\"}, \"opacity\": 0.0065}, {\"type\": \"scattergeo\", \"lon\": [174.0, -4.55], \"lat\": [-41.0, 54.23], \"mode\": \"lines\", \"hoverinfo\": \"none\", \"line\": {\"width\": 1.2, \"color\": \"red\"}, \"opacity\": 0.0065}, {\"type\": \"scattergeo\", \"lon\": [133.0, 8.0], \"lat\": [-27.0, 47.0], \"mode\": \"lines\", \"hoverinfo\": \"none\", \"line\": {\"width\": 1.2, \"color\": \"red\"}, \"opacity\": 0.0065}, {\"type\": \"scattergeo\", \"lon\": [12.8333, 54.0], \"lat\": [42.8333, 24.0], \"mode\": \"lines\", \"hoverinfo\": \"none\", \"line\": {\"width\": 1.2, \"color\": \"red\"}, \"opacity\": 0.0065}, {\"type\": \"scattergeo\", \"lon\": [114.1667, -2.56], \"lat\": [22.25, 49.5], \"mode\": \"lines\", \"hoverinfo\": \"none\", \"line\": {\"width\": 1.2, \"color\": \"red\"}, \"opacity\": 0.0065}, {\"type\": \"scattergeo\", \"lon\": [-172.3333, -2.0], \"lat\": [-13.5833, 54.0], \"mode\": \"lines\", \"hoverinfo\": \"none\", \"line\": {\"width\": 1.2, \"color\": \"red\"}, \"opacity\": 0.0065}, {\"type\": \"scattergeo\", \"lon\": [-2.0, 22.0], \"lat\": [54.0, 39.0], \"mode\": \"lines\", \"hoverinfo\": \"none\", \"line\": {\"width\": 1.2, \"color\": \"red\"}, \"opacity\": 0.0065}, {\"type\": \"scattergeo\", \"lon\": [8.0, 33.0], \"lat\": [47.0, 35.0], \"mode\": \"lines\", \"hoverinfo\": \"none\", \"line\": {\"width\": 1.2, \"color\": \"red\"}, \"opacity\": 0.0065}, {\"type\": \"scattergeo\", \"lon\": [-2.56, -97.0], \"lat\": [49.5, 38.0], \"mode\": \"lines\", \"hoverinfo\": \"none\", \"line\": {\"width\": 1.2, \"color\": \"red\"}, \"opacity\": 0.0065}, {\"type\": \"scattergeo\", \"lon\": [22.0, 6.1667], \"lat\": [39.0, 49.75], \"mode\": \"lines\", \"hoverinfo\": \"none\", \"line\": {\"width\": 1.2, \"color\": \"red\"}, \"opacity\": 0.0065}, {\"type\": \"scattergeo\", \"lon\": [33.0, 6.1667], \"lat\": [35.0, 49.75], \"mode\": \"lines\", \"hoverinfo\": \"none\", \"line\": {\"width\": 1.2, \"color\": \"red\"}, \"opacity\": 0.00625}, {\"type\": \"scattergeo\", \"lon\": [18.5, 8.0], \"lat\": [-12.5, 47.0], \"mode\": \"lines\", \"hoverinfo\": \"none\", \"line\": {\"width\": 1.2, \"color\": \"red\"}, \"opacity\": 0.00625}, {\"type\": \"scattergeo\", \"lon\": [-64.5, -72.0], \"lat\": [18.5, 4.0], \"mode\": \"lines\", \"hoverinfo\": \"none\", \"line\": {\"width\": 1.2, \"color\": \"red\"}, \"opacity\": 0.00625}, {\"type\": \"scattergeo\", \"lon\": [-95.0, 103.8], \"lat\": [60.0, 1.3667], \"mode\": \"lines\", \"hoverinfo\": \"none\", \"line\": {\"width\": 1.2, \"color\": \"red\"}, \"opacity\": 0.00625}, {\"type\": \"scattergeo\", \"lon\": [54.0, 100.0], \"lat\": [24.0, 60.0], \"mode\": \"lines\", \"hoverinfo\": \"none\", \"line\": {\"width\": 1.2, \"color\": \"red\"}, \"opacity\": 0.00625}, {\"type\": \"scattergeo\", \"lon\": [-2.13, -8.0], \"lat\": [49.21, 53.0], \"mode\": \"lines\", \"hoverinfo\": \"none\", \"line\": {\"width\": 1.2, \"color\": \"red\"}, \"opacity\": 0.00625}, {\"type\": \"scattergeo\", \"lon\": [2.0, 35.8333], \"lat\": [46.0, 33.8333], \"mode\": \"lines\", \"hoverinfo\": \"none\", \"line\": {\"width\": 1.2, \"color\": \"red\"}, \"opacity\": 0.00625}, {\"type\": \"scattergeo\", \"lon\": [-64.5, -70.6667], \"lat\": [18.5, 19.0], \"mode\": \"lines\", \"hoverinfo\": \"none\", \"line\": {\"width\": 1.2, \"color\": \"red\"}, \"opacity\": 0.00625}, {\"type\": \"scattergeo\", \"lon\": [-2.56, 103.8], \"lat\": [49.5, 1.3667], \"mode\": \"lines\", \"hoverinfo\": \"none\", \"line\": {\"width\": 1.2, \"color\": \"red\"}, \"opacity\": 0.00625}, {\"type\": \"scattergeo\", \"lon\": [-80.0, -70.6667], \"lat\": [9.0, 19.0], \"mode\": \"lines\", \"hoverinfo\": \"none\", \"line\": {\"width\": 1.2, \"color\": \"red\"}, \"opacity\": 0.00625}, {\"type\": \"scattergeo\", \"lon\": [-62.75, 114.1667], \"lat\": [17.3333, 22.25], \"mode\": \"lines\", \"hoverinfo\": \"none\", \"line\": {\"width\": 1.2, \"color\": \"red\"}, \"opacity\": 0.00625}, {\"type\": \"scattergeo\", \"lon\": [55.6667, -172.3333], \"lat\": [-4.5833, -13.5833], \"mode\": \"lines\", \"hoverinfo\": \"none\", \"line\": {\"width\": 1.2, \"color\": \"red\"}, \"opacity\": 0.006}, {\"type\": \"scattergeo\", \"lon\": [31.5, -2.56], \"lat\": [-26.5, 49.5], \"mode\": \"lines\", \"hoverinfo\": \"none\", \"line\": {\"width\": 1.2, \"color\": \"red\"}, \"opacity\": 0.006}, {\"type\": \"scattergeo\", \"lon\": [15.0, 8.0], \"lat\": [62.0, 47.0], \"mode\": \"lines\", \"hoverinfo\": \"none\", \"line\": {\"width\": 1.2, \"color\": \"red\"}, \"opacity\": 0.006}, {\"type\": \"scattergeo\", \"lon\": [-88.75, 55.6667], \"lat\": [17.25, -4.5833], \"mode\": \"lines\", \"hoverinfo\": \"none\", \"line\": {\"width\": 1.2, \"color\": \"red\"}, \"opacity\": 0.006}, {\"type\": \"scattergeo\", \"lon\": [-9.5, -4.55], \"lat\": [6.5, 54.23], \"mode\": \"lines\", \"hoverinfo\": \"none\", \"line\": {\"width\": 1.2, \"color\": \"red\"}, \"opacity\": 0.006}, {\"type\": \"scattergeo\", \"lon\": [-64.5, 20.0], \"lat\": [18.5, 47.0], \"mode\": \"lines\", \"hoverinfo\": \"none\", \"line\": {\"width\": 1.2, \"color\": \"red\"}, \"opacity\": 0.006}, {\"type\": \"scattergeo\", \"lon\": [34.75, 54.0], \"lat\": [31.5, 24.0], \"mode\": \"lines\", \"hoverinfo\": \"none\", \"line\": {\"width\": 1.2, \"color\": \"red\"}, \"opacity\": 0.006}, {\"type\": \"scattergeo\", \"lon\": [174.0, -97.0], \"lat\": [-41.0, 38.0], \"mode\": \"lines\", \"hoverinfo\": \"none\", \"line\": {\"width\": 1.2, \"color\": \"red\"}, \"opacity\": 0.006}, {\"type\": \"scattergeo\", \"lon\": [-2.0, 105.0], \"lat\": [54.0, 35.0], \"mode\": \"lines\", \"hoverinfo\": \"none\", \"line\": {\"width\": 1.2, \"color\": \"red\"}, \"opacity\": 0.006}, {\"type\": \"scattergeo\", \"lon\": [-80.0, -5.3667], \"lat\": [9.0, 36.1833], \"mode\": \"lines\", \"hoverinfo\": \"none\", \"line\": {\"width\": 1.2, \"color\": \"red\"}, \"opacity\": 0.006}, {\"type\": \"scattergeo\", \"lon\": [-4.0, -76.0], \"lat\": [40.0, 24.25], \"mode\": \"lines\", \"hoverinfo\": \"none\", \"line\": {\"width\": 1.2, \"color\": \"red\"}, \"opacity\": 0.006}, {\"type\": \"scattergeo\", \"lon\": [25.0, 33.0], \"lat\": [43.0, 35.0], \"mode\": \"lines\", \"hoverinfo\": \"none\", \"line\": {\"width\": 1.2, \"color\": \"red\"}, \"opacity\": 0.00575}, {\"type\": \"scattergeo\", \"lon\": [-97.0, 121.0], \"lat\": [38.0, 23.5], \"mode\": \"lines\", \"hoverinfo\": \"none\", \"line\": {\"width\": 1.2, \"color\": \"red\"}, \"opacity\": 0.00575}, {\"type\": \"scattergeo\", \"lon\": [9.5333, 6.1667], \"lat\": [47.1667, 49.75], \"mode\": \"lines\", \"hoverinfo\": \"none\", \"line\": {\"width\": 1.2, \"color\": \"red\"}, \"opacity\": 0.00575}, {\"type\": \"scattergeo\", \"lon\": [-63.1667, 114.1667], \"lat\": [18.25, 22.25], \"mode\": \"lines\", \"hoverinfo\": \"none\", \"line\": {\"width\": 1.2, \"color\": \"red\"}, \"opacity\": 0.00575}, {\"type\": \"scattergeo\", \"lon\": [-62.75, 103.8], \"lat\": [17.3333, 1.3667], \"mode\": \"lines\", \"hoverinfo\": \"none\", \"line\": {\"width\": 1.2, \"color\": \"red\"}, \"opacity\": 0.00575}, {\"type\": \"scattergeo\", \"lon\": [114.1667, 100.0], \"lat\": [22.25, 60.0], \"mode\": \"lines\", \"hoverinfo\": \"none\", \"line\": {\"width\": 1.2, \"color\": \"red\"}, \"opacity\": 0.00575}, {\"type\": \"scattergeo\", \"lon\": [17.0, 8.0], \"lat\": [25.0, 47.0], \"mode\": \"lines\", \"hoverinfo\": \"none\", \"line\": {\"width\": 1.2, \"color\": \"red\"}, \"opacity\": 0.00575}, {\"type\": \"scattergeo\", \"lon\": [-61.8, 55.6667], \"lat\": [17.05, -4.5833], \"mode\": \"lines\", \"hoverinfo\": \"none\", \"line\": {\"width\": 1.2, \"color\": \"red\"}, \"opacity\": 0.00575}, {\"type\": \"scattergeo\", \"lon\": [8.0, 34.75], \"lat\": [47.0, 31.5], \"mode\": \"lines\", \"hoverinfo\": \"none\", \"line\": {\"width\": 1.2, \"color\": \"red\"}, \"opacity\": 0.00575}, {\"type\": \"scattergeo\", \"lon\": [-5.3667, 6.1667], \"lat\": [36.1833, 49.75], \"mode\": \"lines\", \"hoverinfo\": \"none\", \"line\": {\"width\": 1.2, \"color\": \"red\"}, \"opacity\": 0.00575}, {\"type\": \"scattergeo\", \"lon\": [7.4, -2.56], \"lat\": [43.7333, 49.5], \"mode\": \"lines\", \"hoverinfo\": \"none\", \"line\": {\"width\": 1.2, \"color\": \"red\"}, \"opacity\": 0.00575}, {\"type\": \"scattergeo\", \"lon\": [-102.0, 8.0], \"lat\": [23.0, 47.0], \"mode\": \"lines\", \"hoverinfo\": \"none\", \"line\": {\"width\": 1.2, \"color\": \"red\"}, \"opacity\": 0.00575}, {\"type\": \"scattergeo\", \"lon\": [2.0, -2.56], \"lat\": [46.0, 49.5], \"mode\": \"lines\", \"hoverinfo\": \"none\", \"line\": {\"width\": 1.2, \"color\": \"red\"}, \"opacity\": 0.00575}, {\"type\": \"scattergeo\", \"lon\": [122.0, -2.13], \"lat\": [13.0, 49.21], \"mode\": \"lines\", \"hoverinfo\": \"none\", \"line\": {\"width\": 1.2, \"color\": \"red\"}, \"opacity\": 0.0055}, {\"type\": \"scattergeo\", \"lon\": [25.0, 8.0], \"lat\": [43.0, 47.0], \"mode\": \"lines\", \"hoverinfo\": \"none\", \"line\": {\"width\": 1.2, \"color\": \"red\"}, \"opacity\": 0.0055}, {\"type\": \"scattergeo\", \"lon\": [19.0, 114.1667], \"lat\": [15.0, 22.25], \"mode\": \"lines\", \"hoverinfo\": \"none\", \"line\": {\"width\": 1.2, \"color\": \"red\"}, \"opacity\": 0.0055}, {\"type\": \"scattergeo\", \"lon\": [9.5333, -5.0], \"lat\": [47.1667, 32.0], \"mode\": \"lines\", \"hoverinfo\": \"none\", \"line\": {\"width\": 1.2, \"color\": \"red\"}, \"opacity\": 0.0055}, {\"type\": \"scattergeo\", \"lon\": [-102.0, -76.0], \"lat\": [23.0, 24.25], \"mode\": \"lines\", \"hoverinfo\": \"none\", \"line\": {\"width\": 1.2, \"color\": \"red\"}, \"opacity\": 0.0055}, {\"type\": \"scattergeo\", \"lon\": [30.0, -90.25], \"lat\": [27.0, 15.5], \"mode\": \"lines\", \"hoverinfo\": \"none\", \"line\": {\"width\": 1.2, \"color\": \"red\"}, \"opacity\": 0.0055}, {\"type\": \"scattergeo\", \"lon\": [-4.0, 7.4], \"lat\": [40.0, 43.7333], \"mode\": \"lines\", \"hoverinfo\": \"none\", \"line\": {\"width\": 1.2, \"color\": \"red\"}, \"opacity\": 0.0055}, {\"type\": \"scattergeo\", \"lon\": [-95.0, -2.13], \"lat\": [60.0, 49.21], \"mode\": \"lines\", \"hoverinfo\": \"none\", \"line\": {\"width\": 1.2, \"color\": \"red\"}, \"opacity\": 0.0055}, {\"type\": \"scattergeo\", \"lon\": [-97.0, -84.0], \"lat\": [38.0, 10.0], \"mode\": \"lines\", \"hoverinfo\": \"none\", \"line\": {\"width\": 1.2, \"color\": \"red\"}, \"opacity\": 0.0055}, {\"type\": \"scattergeo\", \"lon\": [-8.0, 8.0], \"lat\": [53.0, 47.0], \"mode\": \"lines\", \"hoverinfo\": \"none\", \"line\": {\"width\": 1.2, \"color\": \"red\"}, \"opacity\": 0.0055}, {\"type\": \"scattergeo\", \"lon\": [18.5, 5.75], \"lat\": [-12.5, 52.5], \"mode\": \"lines\", \"hoverinfo\": \"none\", \"line\": {\"width\": 1.2, \"color\": \"red\"}, \"opacity\": 0.0055}, {\"type\": \"scattergeo\", \"lon\": [-64.5, 25.0], \"lat\": [18.5, 57.0], \"mode\": \"lines\", \"hoverinfo\": \"none\", \"line\": {\"width\": 1.2, \"color\": \"red\"}, \"opacity\": 0.0055}, {\"type\": \"scattergeo\", \"lon\": [57.55, 103.8], \"lat\": [-20.2833, 1.3667], \"mode\": \"lines\", \"hoverinfo\": \"none\", \"line\": {\"width\": 1.2, \"color\": \"red\"}, \"opacity\": 0.0055}, {\"type\": \"scattergeo\", \"lon\": [-2.0, -95.0], \"lat\": [54.0, 60.0], \"mode\": \"lines\", \"hoverinfo\": \"none\", \"line\": {\"width\": 1.2, \"color\": \"red\"}, \"opacity\": 0.0055}, {\"type\": \"scattergeo\", \"lon\": [53.0, 114.1667], \"lat\": [32.0, 22.25], \"mode\": \"lines\", \"hoverinfo\": \"none\", \"line\": {\"width\": 1.2, \"color\": \"red\"}, \"opacity\": 0.0055}, {\"type\": \"scattergeo\", \"lon\": [32.0, -2.13], \"lat\": [49.0, 49.21], \"mode\": \"lines\", \"hoverinfo\": \"none\", \"line\": {\"width\": 1.2, \"color\": \"red\"}, \"opacity\": 0.0055}, {\"type\": \"scattergeo\", \"lon\": [-64.75, -2.0], \"lat\": [32.3333, 54.0], \"mode\": \"lines\", \"hoverinfo\": \"none\", \"line\": {\"width\": 1.2, \"color\": \"red\"}, \"opacity\": 0.0055}, {\"type\": \"scattergeo\", \"lon\": [33.0, 32.0], \"lat\": [35.0, 49.0], \"mode\": \"lines\", \"hoverinfo\": \"none\", \"line\": {\"width\": 1.2, \"color\": \"red\"}, \"opacity\": 0.00525}, {\"type\": \"scattergeo\", \"lon\": [-72.0, -76.0], \"lat\": [4.0, 24.25], \"mode\": \"lines\", \"hoverinfo\": \"none\", \"line\": {\"width\": 1.2, \"color\": \"red\"}, \"opacity\": 0.00525}, {\"type\": \"scattergeo\", \"lon\": [114.1667, -4.55], \"lat\": [22.25, 54.23], \"mode\": \"lines\", \"hoverinfo\": \"none\", \"line\": {\"width\": 1.2, \"color\": \"red\"}, \"opacity\": 0.00525}, {\"type\": \"scattergeo\", \"lon\": [20.0, 8.0], \"lat\": [47.0, 47.0], \"mode\": \"lines\", \"hoverinfo\": \"none\", \"line\": {\"width\": 1.2, \"color\": \"red\"}, \"opacity\": 0.00525}, {\"type\": \"scattergeo\", \"lon\": [2.0, -4.55], \"lat\": [46.0, 54.23], \"mode\": \"lines\", \"hoverinfo\": \"none\", \"line\": {\"width\": 1.2, \"color\": \"red\"}, \"opacity\": 0.00525}, {\"type\": \"scattergeo\", \"lon\": [13.3333, 8.0], \"lat\": [47.3333, 47.0], \"mode\": \"lines\", \"hoverinfo\": \"none\", \"line\": {\"width\": 1.2, \"color\": \"red\"}, \"opacity\": 0.00525}, {\"type\": \"scattergeo\", \"lon\": [51.25, 6.1667], \"lat\": [25.5, 49.75], \"mode\": \"lines\", \"hoverinfo\": \"none\", \"line\": {\"width\": 1.2, \"color\": \"red\"}, \"opacity\": 0.00525}, {\"type\": \"scattergeo\", \"lon\": [112.5, -2.13], \"lat\": [2.5, 49.21], \"mode\": \"lines\", \"hoverinfo\": \"none\", \"line\": {\"width\": 1.2, \"color\": \"red\"}, \"opacity\": 0.00525}, {\"type\": \"scattergeo\", \"lon\": [-97.0, 6.1667], \"lat\": [38.0, 49.75], \"mode\": \"lines\", \"hoverinfo\": \"none\", \"line\": {\"width\": 1.2, \"color\": \"red\"}, \"opacity\": 0.00525}, {\"type\": \"scattergeo\", \"lon\": [22.0, -2.0], \"lat\": [39.0, 54.0], \"mode\": \"lines\", \"hoverinfo\": \"none\", \"line\": {\"width\": 1.2, \"color\": \"red\"}, \"opacity\": 0.00525}, {\"type\": \"scattergeo\", \"lon\": [-66.0, 1.6], \"lat\": [8.0, 42.5], \"mode\": \"lines\", \"hoverinfo\": \"none\", \"line\": {\"width\": 1.2, \"color\": \"red\"}, \"opacity\": 0.00525}, {\"type\": \"scattergeo\", \"lon\": [-56.0, 8.0], \"lat\": [-33.0, 47.0], \"mode\": \"lines\", \"hoverinfo\": \"none\", \"line\": {\"width\": 1.2, \"color\": \"red\"}, \"opacity\": 0.00525}, {\"type\": \"scattergeo\", \"lon\": [-66.0, 114.1667], \"lat\": [8.0, 22.25], \"mode\": \"lines\", \"hoverinfo\": \"none\", \"line\": {\"width\": 1.2, \"color\": \"red\"}, \"opacity\": 0.00525}, {\"type\": \"scattergeo\", \"lon\": [54.0, 103.8], \"lat\": [24.0, 1.3667], \"mode\": \"lines\", \"hoverinfo\": \"none\", \"line\": {\"width\": 1.2, \"color\": \"red\"}, \"opacity\": 0.00525}, {\"type\": \"scattergeo\", \"lon\": [24.0, -97.0], \"lat\": [-29.0, 38.0], \"mode\": \"lines\", \"hoverinfo\": \"none\", \"line\": {\"width\": 1.2, \"color\": \"red\"}, \"opacity\": 0.00525}, {\"type\": \"scattergeo\", \"lon\": [12.8333, -97.0], \"lat\": [42.8333, 38.0], \"mode\": \"lines\", \"hoverinfo\": \"none\", \"line\": {\"width\": 1.2, \"color\": \"red\"}, \"opacity\": 0.005}, {\"type\": \"scattergeo\", \"lon\": [47.6581, -2.0], \"lat\": [29.3375, 54.0], \"mode\": \"lines\", \"hoverinfo\": \"none\", \"line\": {\"width\": 1.2, \"color\": \"red\"}, \"opacity\": 0.005}, {\"type\": \"scattergeo\", \"lon\": [105.0, 35.8333], \"lat\": [35.0, 33.8333], \"mode\": \"lines\", \"hoverinfo\": \"none\", \"line\": {\"width\": 1.2, \"color\": \"red\"}, \"opacity\": 0.005}, {\"type\": \"scattergeo\", \"lon\": [35.0, 54.0], \"lat\": [39.0, 24.0], \"mode\": \"lines\", \"hoverinfo\": \"none\", \"line\": {\"width\": 1.2, \"color\": \"red\"}, \"opacity\": 0.005}, {\"type\": \"scattergeo\", \"lon\": [25.0, 54.0], \"lat\": [46.0, 24.0], \"mode\": \"lines\", \"hoverinfo\": \"none\", \"line\": {\"width\": 1.2, \"color\": \"red\"}, \"opacity\": 0.005}, {\"type\": \"scattergeo\", \"lon\": [35.0, -4.55], \"lat\": [39.0, 54.23], \"mode\": \"lines\", \"hoverinfo\": \"none\", \"line\": {\"width\": 1.2, \"color\": \"red\"}, \"opacity\": 0.005}, {\"type\": \"scattergeo\", \"lon\": [25.0, 54.0], \"lat\": [43.0, 24.0], \"mode\": \"lines\", \"hoverinfo\": \"none\", \"line\": {\"width\": 1.2, \"color\": \"red\"}, \"opacity\": 0.005}, {\"type\": \"scattergeo\", \"lon\": [100.0, 105.0], \"lat\": [60.0, 35.0], \"mode\": \"lines\", \"hoverinfo\": \"none\", \"line\": {\"width\": 1.2, \"color\": \"red\"}, \"opacity\": 0.005}, {\"type\": \"scattergeo\", \"lon\": [35.25, 36.0], \"lat\": [32.0, 31.0], \"mode\": \"lines\", \"hoverinfo\": \"none\", \"line\": {\"width\": 1.2, \"color\": \"red\"}, \"opacity\": 0.005}, {\"type\": \"scattergeo\", \"lon\": [47.5, 8.0], \"lat\": [40.5, 47.0], \"mode\": \"lines\", \"hoverinfo\": \"none\", \"line\": {\"width\": 1.2, \"color\": \"red\"}, \"opacity\": 0.005}, {\"type\": \"scattergeo\", \"lon\": [20.0, 100.0], \"lat\": [47.0, 60.0], \"mode\": \"lines\", \"hoverinfo\": \"none\", \"line\": {\"width\": 1.2, \"color\": \"red\"}, \"opacity\": 0.005}, {\"type\": \"scattergeo\", \"lon\": [-76.0, -97.0], \"lat\": [24.25, 38.0], \"mode\": \"lines\", \"hoverinfo\": \"none\", \"line\": {\"width\": 1.2, \"color\": \"red\"}, \"opacity\": 0.005}, {\"type\": \"scattergeo\", \"lon\": [8.0, 103.8], \"lat\": [47.0, 1.3667], \"mode\": \"lines\", \"hoverinfo\": \"none\", \"line\": {\"width\": 1.2, \"color\": \"red\"}, \"opacity\": 0.005}, {\"type\": \"scattergeo\", \"lon\": [-76.0, 9.5333], \"lat\": [24.25, 47.1667], \"mode\": \"lines\", \"hoverinfo\": \"none\", \"line\": {\"width\": 1.2, \"color\": \"red\"}, \"opacity\": 0.005}, {\"type\": \"scattergeo\", \"lon\": [-90.25, -80.0], \"lat\": [15.5, 9.0], \"mode\": \"lines\", \"hoverinfo\": \"none\", \"line\": {\"width\": 1.2, \"color\": \"red\"}, \"opacity\": 0.005}, {\"type\": \"scattergeo\", \"lon\": [8.0, -4.55], \"lat\": [10.0, 54.23], \"mode\": \"lines\", \"hoverinfo\": \"none\", \"line\": {\"width\": 1.2, \"color\": \"red\"}, \"opacity\": 0.005}, {\"type\": \"scattergeo\", \"lon\": [-64.0, 114.1667], \"lat\": [-34.0, 22.25], \"mode\": \"lines\", \"hoverinfo\": \"none\", \"line\": {\"width\": 1.2, \"color\": \"red\"}, \"opacity\": 0.005}, {\"type\": \"scattergeo\", \"lon\": [-63.1667, 34.75], \"lat\": [18.25, 31.5], \"mode\": \"lines\", \"hoverinfo\": \"none\", \"line\": {\"width\": 1.2, \"color\": \"red\"}, \"opacity\": 0.005}, {\"type\": \"scattergeo\", \"lon\": [-61.3333, -97.0], \"lat\": [15.4167, 38.0], \"mode\": \"lines\", \"hoverinfo\": \"none\", \"line\": {\"width\": 1.2, \"color\": \"red\"}, \"opacity\": 0.005}, {\"type\": \"scattergeo\", \"lon\": [30.0, 54.0], \"lat\": [27.0, 24.0], \"mode\": \"lines\", \"hoverinfo\": \"none\", \"line\": {\"width\": 1.2, \"color\": \"red\"}, \"opacity\": 0.00475}, {\"type\": \"scattergeo\", \"lon\": [127.5, 105.0], \"lat\": [37.0, 35.0], \"mode\": \"lines\", \"hoverinfo\": \"none\", \"line\": {\"width\": 1.2, \"color\": \"red\"}, \"opacity\": 0.00475}, {\"type\": \"scattergeo\", \"lon\": [-61.3333, -80.0], \"lat\": [15.4167, 9.0], \"mode\": \"lines\", \"hoverinfo\": \"none\", \"line\": {\"width\": 1.2, \"color\": \"red\"}, \"opacity\": 0.00475}, {\"type\": \"scattergeo\", \"lon\": [20.0, 114.1667], \"lat\": [47.0, 22.25], \"mode\": \"lines\", \"hoverinfo\": \"none\", \"line\": {\"width\": 1.2, \"color\": \"red\"}, \"opacity\": 0.00475}, {\"type\": \"scattergeo\", \"lon\": [47.6581, 8.0], \"lat\": [29.3375, 47.0], \"mode\": \"lines\", \"hoverinfo\": \"none\", \"line\": {\"width\": 1.2, \"color\": \"red\"}, \"opacity\": 0.00475}, {\"type\": \"scattergeo\", \"lon\": [122.0, 100.0], \"lat\": [13.0, 15.0], \"mode\": \"lines\", \"hoverinfo\": \"none\", \"line\": {\"width\": 1.2, \"color\": \"red\"}, \"opacity\": 0.00475}, {\"type\": \"scattergeo\", \"lon\": [138.0, 100.0], \"lat\": [36.0, 15.0], \"mode\": \"lines\", \"hoverinfo\": \"none\", \"line\": {\"width\": 1.2, \"color\": \"red\"}, \"opacity\": 0.00475}, {\"type\": \"scattergeo\", \"lon\": [-88.75, 33.0], \"lat\": [17.25, 35.0], \"mode\": \"lines\", \"hoverinfo\": \"none\", \"line\": {\"width\": 1.2, \"color\": \"red\"}, \"opacity\": 0.00475}, {\"type\": \"scattergeo\", \"lon\": [-4.0, -97.0], \"lat\": [40.0, 38.0], \"mode\": \"lines\", \"hoverinfo\": \"none\", \"line\": {\"width\": 1.2, \"color\": \"red\"}, \"opacity\": 0.00475}, {\"type\": \"scattergeo\", \"lon\": [-4.55, 9.5333], \"lat\": [54.23, 47.1667], \"mode\": \"lines\", \"hoverinfo\": \"none\", \"line\": {\"width\": 1.2, \"color\": \"red\"}, \"opacity\": 0.00475}, {\"type\": \"scattergeo\", \"lon\": [9.5333, -4.55], \"lat\": [47.1667, 54.23], \"mode\": \"lines\", \"hoverinfo\": \"none\", \"line\": {\"width\": 1.2, \"color\": \"red\"}, \"opacity\": 0.00475}, {\"type\": \"scattergeo\", \"lon\": [33.0, -2.56], \"lat\": [35.0, 49.5], \"mode\": \"lines\", \"hoverinfo\": \"none\", \"line\": {\"width\": 1.2, \"color\": \"red\"}, \"opacity\": 0.00475}, {\"type\": \"scattergeo\", \"lon\": [33.0, -5.3667], \"lat\": [35.0, 36.1833], \"mode\": \"lines\", \"hoverinfo\": \"none\", \"line\": {\"width\": 1.2, \"color\": \"red\"}, \"opacity\": 0.00475}, {\"type\": \"scattergeo\", \"lon\": [26.0, 8.0], \"lat\": [59.0, 47.0], \"mode\": \"lines\", \"hoverinfo\": \"none\", \"line\": {\"width\": 1.2, \"color\": \"red\"}, \"opacity\": 0.00475}, {\"type\": \"scattergeo\", \"lon\": [2.0, 54.0], \"lat\": [46.0, 24.0], \"mode\": \"lines\", \"hoverinfo\": \"none\", \"line\": {\"width\": 1.2, \"color\": \"red\"}, \"opacity\": 0.00475}, {\"type\": \"scattergeo\", \"lon\": [33.0, -62.75], \"lat\": [35.0, 17.3333], \"mode\": \"lines\", \"hoverinfo\": \"none\", \"line\": {\"width\": 1.2, \"color\": \"red\"}, \"opacity\": 0.00475}, {\"type\": \"scattergeo\", \"lon\": [-5.3667, 36.0], \"lat\": [36.1833, 31.0], \"mode\": \"lines\", \"hoverinfo\": \"none\", \"line\": {\"width\": 1.2, \"color\": \"red\"}, \"opacity\": 0.00475}, {\"type\": \"scattergeo\", \"lon\": [-97.0, -64.0], \"lat\": [38.0, -34.0], \"mode\": \"lines\", \"hoverinfo\": \"none\", \"line\": {\"width\": 1.2, \"color\": \"red\"}, \"opacity\": 0.00475}, {\"type\": \"scattergeo\", \"lon\": [-61.2, 8.0], \"lat\": [13.25, 47.0], \"mode\": \"lines\", \"hoverinfo\": \"none\", \"line\": {\"width\": 1.2, \"color\": \"red\"}, \"opacity\": 0.00475}, {\"type\": \"scattergeo\", \"lon\": [15.5, 8.0], \"lat\": [49.75, 47.0], \"mode\": \"lines\", \"hoverinfo\": \"none\", \"line\": {\"width\": 1.2, \"color\": \"red\"}, \"opacity\": 0.00475}, {\"type\": \"scattergeo\", \"lon\": [-65.0, -88.9167], \"lat\": [-17.0, 13.8333], \"mode\": \"lines\", \"hoverinfo\": \"none\", \"line\": {\"width\": 1.2, \"color\": \"red\"}, \"opacity\": 0.0045}, {\"type\": \"scattergeo\", \"lon\": [-63.1667, -2.56], \"lat\": [18.25, 49.5], \"mode\": \"lines\", \"hoverinfo\": \"none\", \"line\": {\"width\": 1.2, \"color\": \"red\"}, \"opacity\": 0.0045}, {\"type\": \"scattergeo\", \"lon\": [68.0, 54.0], \"lat\": [48.0, 24.0], \"mode\": \"lines\", \"hoverinfo\": \"none\", \"line\": {\"width\": 1.2, \"color\": \"red\"}, \"opacity\": 0.0045}, {\"type\": \"scattergeo\", \"lon\": [-4.55, 100.0], \"lat\": [54.23, 60.0], \"mode\": \"lines\", \"hoverinfo\": \"none\", \"line\": {\"width\": 1.2, \"color\": \"red\"}, \"opacity\": 0.0045}, {\"type\": \"scattergeo\", \"lon\": [-76.0, -77.5], \"lat\": [24.25, -2.0], \"mode\": \"lines\", \"hoverinfo\": \"none\", \"line\": {\"width\": 1.2, \"color\": \"red\"}, \"opacity\": 0.0045}, {\"type\": \"scattergeo\", \"lon\": [20.0, 33.0], \"lat\": [52.0, 35.0], \"mode\": \"lines\", \"hoverinfo\": \"none\", \"line\": {\"width\": 1.2, \"color\": \"red\"}, \"opacity\": 0.0045}, {\"type\": \"scattergeo\", \"lon\": [-2.13, 2.0], \"lat\": [49.21, 46.0], \"mode\": \"lines\", \"hoverinfo\": \"none\", \"line\": {\"width\": 1.2, \"color\": \"red\"}, \"opacity\": 0.0045}, {\"type\": \"scattergeo\", \"lon\": [-84.0, -80.0], \"lat\": [10.0, 9.0], \"mode\": \"lines\", \"hoverinfo\": \"none\", \"line\": {\"width\": 1.2, \"color\": \"red\"}, \"opacity\": 0.0045}, {\"type\": \"scattergeo\", \"lon\": [174.0, 7.4], \"lat\": [-41.0, 43.7333], \"mode\": \"lines\", \"hoverinfo\": \"none\", \"line\": {\"width\": 1.2, \"color\": \"red\"}, \"opacity\": 0.0045}, {\"type\": \"scattergeo\", \"lon\": [33.0, -76.0], \"lat\": [35.0, 24.25], \"mode\": \"lines\", \"hoverinfo\": \"none\", \"line\": {\"width\": 1.2, \"color\": \"red\"}, \"opacity\": 0.0045}, {\"type\": \"scattergeo\", \"lon\": [38.0, 8.0], \"lat\": [35.0, 47.0], \"mode\": \"lines\", \"hoverinfo\": \"none\", \"line\": {\"width\": 1.2, \"color\": \"red\"}, \"opacity\": 0.0045}, {\"type\": \"scattergeo\", \"lon\": [15.5, 8.0], \"lat\": [45.1667, 47.0], \"mode\": \"lines\", \"hoverinfo\": \"none\", \"line\": {\"width\": 1.2, \"color\": \"red\"}, \"opacity\": 0.0045}, {\"type\": \"scattergeo\", \"lon\": [77.0, 54.0], \"lat\": [20.0, 24.0], \"mode\": \"lines\", \"hoverinfo\": \"none\", \"line\": {\"width\": 1.2, \"color\": \"red\"}, \"opacity\": 0.0045}, {\"type\": \"scattergeo\", \"lon\": [-77.5, -80.0], \"lat\": [-2.0, 9.0], \"mode\": \"lines\", \"hoverinfo\": \"none\", \"line\": {\"width\": 1.2, \"color\": \"red\"}, \"opacity\": 0.0045}, {\"type\": \"scattergeo\", \"lon\": [6.1667, -2.56], \"lat\": [49.75, 49.5], \"mode\": \"lines\", \"hoverinfo\": \"none\", \"line\": {\"width\": 1.2, \"color\": \"red\"}, \"opacity\": 0.0045}, {\"type\": \"scattergeo\", \"lon\": [57.55, 114.1667], \"lat\": [-20.2833, 22.25], \"mode\": \"lines\", \"hoverinfo\": \"none\", \"line\": {\"width\": 1.2, \"color\": \"red\"}, \"opacity\": 0.0045}, {\"type\": \"scattergeo\", \"lon\": [5.75, 8.0], \"lat\": [52.5, 47.0], \"mode\": \"lines\", \"hoverinfo\": \"none\", \"line\": {\"width\": 1.2, \"color\": \"red\"}, \"opacity\": 0.0045}, {\"type\": \"scattergeo\", \"lon\": [-90.25, 122.0], \"lat\": [15.5, 13.0], \"mode\": \"lines\", \"hoverinfo\": \"none\", \"line\": {\"width\": 1.2, \"color\": \"red\"}, \"opacity\": 0.0045}, {\"type\": \"scattergeo\", \"lon\": [34.0, -2.0], \"lat\": [-13.5, 54.0], \"mode\": \"lines\", \"hoverinfo\": \"none\", \"line\": {\"width\": 1.2, \"color\": \"red\"}, \"opacity\": 0.0045}, {\"type\": \"scattergeo\", \"lon\": [168.0, 114.1667], \"lat\": [9.0, 22.25], \"mode\": \"lines\", \"hoverinfo\": \"none\", \"line\": {\"width\": 1.2, \"color\": \"red\"}, \"opacity\": 0.0045}, {\"type\": \"scattergeo\", \"lon\": [25.0, 100.0], \"lat\": [57.0, 60.0], \"mode\": \"lines\", \"hoverinfo\": \"none\", \"line\": {\"width\": 1.2, \"color\": \"red\"}, \"opacity\": 0.0045}, {\"type\": \"scattergeo\", \"lon\": [114.1667, 54.0], \"lat\": [22.25, 24.0], \"mode\": \"lines\", \"hoverinfo\": \"none\", \"line\": {\"width\": 1.2, \"color\": \"red\"}, \"opacity\": 0.0045}, {\"type\": \"scattergeo\", \"lon\": [133.0, 54.0], \"lat\": [-27.0, 24.0], \"mode\": \"lines\", \"hoverinfo\": \"none\", \"line\": {\"width\": 1.2, \"color\": \"red\"}, \"opacity\": 0.00425}, {\"type\": \"scattergeo\", \"lon\": [-2.0, 15.5], \"lat\": [54.0, 49.75], \"mode\": \"lines\", \"hoverinfo\": \"none\", \"line\": {\"width\": 1.2, \"color\": \"red\"}, \"opacity\": 0.00425}, {\"type\": \"scattergeo\", \"lon\": [32.0, 25.0], \"lat\": [49.0, 57.0], \"mode\": \"lines\", \"hoverinfo\": \"none\", \"line\": {\"width\": 1.2, \"color\": \"red\"}, \"opacity\": 0.00425}, {\"type\": \"scattergeo\", \"lon\": [105.0, 8.0], \"lat\": [18.0, 47.0], \"mode\": \"lines\", \"hoverinfo\": \"none\", \"line\": {\"width\": 1.2, \"color\": \"red\"}, \"opacity\": 0.00425}, {\"type\": \"scattergeo\", \"lon\": [133.0, 105.0], \"lat\": [-27.0, 35.0], \"mode\": \"lines\", \"hoverinfo\": \"none\", \"line\": {\"width\": 1.2, \"color\": \"red\"}, \"opacity\": 0.00425}, {\"type\": \"scattergeo\", \"lon\": [-80.5, -2.56], \"lat\": [19.5, 49.5], \"mode\": \"lines\", \"hoverinfo\": \"none\", \"line\": {\"width\": 1.2, \"color\": \"red\"}, \"opacity\": 0.00425}, {\"type\": \"scattergeo\", \"lon\": [-64.5, -64.0], \"lat\": [18.5, -34.0], \"mode\": \"lines\", \"hoverinfo\": \"none\", \"line\": {\"width\": 1.2, \"color\": \"red\"}, \"opacity\": 0.00425}, {\"type\": \"scattergeo\", \"lon\": [-4.55, 7.4], \"lat\": [54.23, 43.7333], \"mode\": \"lines\", \"hoverinfo\": \"none\", \"line\": {\"width\": 1.2, \"color\": \"red\"}, \"opacity\": 0.00425}, {\"type\": \"scattergeo\", \"lon\": [-76.0, 6.1667], \"lat\": [24.25, 49.75], \"mode\": \"lines\", \"hoverinfo\": \"none\", \"line\": {\"width\": 1.2, \"color\": \"red\"}, \"opacity\": 0.00425}, {\"type\": \"scattergeo\", \"lon\": [-18.0, -80.0], \"lat\": [65.0, 9.0], \"mode\": \"lines\", \"hoverinfo\": \"none\", \"line\": {\"width\": 1.2, \"color\": \"red\"}, \"opacity\": 0.00425}, {\"type\": \"scattergeo\", \"lon\": [-2.13, 51.25], \"lat\": [49.21, 25.5], \"mode\": \"lines\", \"hoverinfo\": \"none\", \"line\": {\"width\": 1.2, \"color\": \"red\"}, \"opacity\": 0.00425}, {\"type\": \"scattergeo\", \"lon\": [-66.0, -76.0], \"lat\": [8.0, 24.25], \"mode\": \"lines\", \"hoverinfo\": \"none\", \"line\": {\"width\": 1.2, \"color\": \"red\"}, \"opacity\": 0.00425}, {\"type\": \"scattergeo\", \"lon\": [105.0, -2.13], \"lat\": [18.0, 49.21], \"mode\": \"lines\", \"hoverinfo\": \"none\", \"line\": {\"width\": 1.2, \"color\": \"red\"}, \"opacity\": 0.00425}, {\"type\": \"scattergeo\", \"lon\": [35.8333, -2.56], \"lat\": [33.8333, 49.5], \"mode\": \"lines\", \"hoverinfo\": \"none\", \"line\": {\"width\": 1.2, \"color\": \"red\"}, \"opacity\": 0.00425}, {\"type\": \"scattergeo\", \"lon\": [-97.0, -66.0], \"lat\": [38.0, 8.0], \"mode\": \"lines\", \"hoverinfo\": \"none\", \"line\": {\"width\": 1.2, \"color\": \"red\"}, \"opacity\": 0.00425}, {\"type\": \"scattergeo\", \"lon\": [-76.0, -8.0], \"lat\": [24.25, 39.5], \"mode\": \"lines\", \"hoverinfo\": \"none\", \"line\": {\"width\": 1.2, \"color\": \"red\"}, \"opacity\": 0.00425}, {\"type\": \"scattergeo\", \"lon\": [17.0, -2.0], \"lat\": [-22.0, 54.0], \"mode\": \"lines\", \"hoverinfo\": \"none\", \"line\": {\"width\": 1.2, \"color\": \"red\"}, \"opacity\": 0.00425}, {\"type\": \"scattergeo\", \"lon\": [54.0, 32.0], \"lat\": [24.0, 49.0], \"mode\": \"lines\", \"hoverinfo\": \"none\", \"line\": {\"width\": 1.2, \"color\": \"red\"}, \"opacity\": 0.00425}, {\"type\": \"scattergeo\", \"lon\": [2.0, 100.0], \"lat\": [46.0, 15.0], \"mode\": \"lines\", \"hoverinfo\": \"none\", \"line\": {\"width\": 1.2, \"color\": \"red\"}, \"opacity\": 0.00425}, {\"type\": \"scattergeo\", \"lon\": [168.0, 33.0], \"lat\": [9.0, 35.0], \"mode\": \"lines\", \"hoverinfo\": \"none\", \"line\": {\"width\": 1.2, \"color\": \"red\"}, \"opacity\": 0.00425}, {\"type\": \"scattergeo\", \"lon\": [-76.0, -55.0], \"lat\": [24.25, -10.0], \"mode\": \"lines\", \"hoverinfo\": \"none\", \"line\": {\"width\": 1.2, \"color\": \"red\"}, \"opacity\": 0.00425}, {\"type\": \"scattergeo\", \"lon\": [8.0, -2.13], \"lat\": [10.0, 49.21], \"mode\": \"lines\", \"hoverinfo\": \"none\", \"line\": {\"width\": 1.2, \"color\": \"red\"}, \"opacity\": 0.00425}, {\"type\": \"scattergeo\", \"lon\": [24.0, -4.55], \"lat\": [-22.0, 54.23], \"mode\": \"lines\", \"hoverinfo\": \"none\", \"line\": {\"width\": 1.2, \"color\": \"red\"}, \"opacity\": 0.00425}, {\"type\": \"scattergeo\", \"lon\": [47.5, 25.0], \"lat\": [40.5, 57.0], \"mode\": \"lines\", \"hoverinfo\": \"none\", \"line\": {\"width\": 1.2, \"color\": \"red\"}, \"opacity\": 0.00425}, {\"type\": \"scattergeo\", \"lon\": [15.0, 100.0], \"lat\": [62.0, 15.0], \"mode\": \"lines\", \"hoverinfo\": \"none\", \"line\": {\"width\": 1.2, \"color\": \"red\"}, \"opacity\": 0.00425}, {\"type\": \"scattergeo\", \"lon\": [14.5833, -2.0], \"lat\": [35.8333, 54.0], \"mode\": \"lines\", \"hoverinfo\": \"none\", \"line\": {\"width\": 1.2, \"color\": \"red\"}, \"opacity\": 0.00425}, {\"type\": \"scattergeo\", \"lon\": [54.0, 6.1667], \"lat\": [24.0, 49.75], \"mode\": \"lines\", \"hoverinfo\": \"none\", \"line\": {\"width\": 1.2, \"color\": \"red\"}, \"opacity\": 0.00425}, {\"type\": \"scattergeo\", \"lon\": [57.0, 54.0], \"lat\": [21.0, 24.0], \"mode\": \"lines\", \"hoverinfo\": \"none\", \"line\": {\"width\": 1.2, \"color\": \"red\"}, \"opacity\": 0.00425}, {\"type\": \"scattergeo\", \"lon\": [50.55, -2.0], \"lat\": [26.0, 54.0], \"mode\": \"lines\", \"hoverinfo\": \"none\", \"line\": {\"width\": 1.2, \"color\": \"red\"}, \"opacity\": 0.00425}, {\"type\": \"scattergeo\", \"lon\": [68.0, -97.0], \"lat\": [48.0, 38.0], \"mode\": \"lines\", \"hoverinfo\": \"none\", \"line\": {\"width\": 1.2, \"color\": \"red\"}, \"opacity\": 0.00425}, {\"type\": \"scattergeo\", \"lon\": [70.0, 8.0], \"lat\": [30.0, 47.0], \"mode\": \"lines\", \"hoverinfo\": \"none\", \"line\": {\"width\": 1.2, \"color\": \"red\"}, \"opacity\": 0.00425}, {\"type\": \"scattergeo\", \"lon\": [70.0, 114.1667], \"lat\": [30.0, 22.25], \"mode\": \"lines\", \"hoverinfo\": \"none\", \"line\": {\"width\": 1.2, \"color\": \"red\"}, \"opacity\": 0.00425}, {\"type\": \"scattergeo\", \"lon\": [6.1667, 114.1667], \"lat\": [49.75, 22.25], \"mode\": \"lines\", \"hoverinfo\": \"none\", \"line\": {\"width\": 1.2, \"color\": \"red\"}, \"opacity\": 0.00425}, {\"type\": \"scattergeo\", \"lon\": [14.5833, -2.13], \"lat\": [35.8333, 49.21], \"mode\": \"lines\", \"hoverinfo\": \"none\", \"line\": {\"width\": 1.2, \"color\": \"red\"}, \"opacity\": 0.004}, {\"type\": \"scattergeo\", \"lon\": [-80.5, 54.0], \"lat\": [19.5, 24.0], \"mode\": \"lines\", \"hoverinfo\": \"none\", \"line\": {\"width\": 1.2, \"color\": \"red\"}, \"opacity\": 0.004}, {\"type\": \"scattergeo\", \"lon\": [-76.0, 57.55], \"lat\": [24.25, -20.2833], \"mode\": \"lines\", \"hoverinfo\": \"none\", \"line\": {\"width\": 1.2, \"color\": \"red\"}, \"opacity\": 0.004}, {\"type\": \"scattergeo\", \"lon\": [-2.0, 8.0], \"lat\": [54.0, 10.0], \"mode\": \"lines\", \"hoverinfo\": \"none\", \"line\": {\"width\": 1.2, \"color\": \"red\"}, \"opacity\": 0.004}, {\"type\": \"scattergeo\", \"lon\": [103.8, -97.0], \"lat\": [1.3667, 38.0], \"mode\": \"lines\", \"hoverinfo\": \"none\", \"line\": {\"width\": 1.2, \"color\": \"red\"}, \"opacity\": 0.004}, {\"type\": \"scattergeo\", \"lon\": [-102.0, -80.0], \"lat\": [23.0, 9.0], \"mode\": \"lines\", \"hoverinfo\": \"none\", \"line\": {\"width\": 1.2, \"color\": \"red\"}, \"opacity\": 0.004}, {\"type\": \"scattergeo\", \"lon\": [55.6667, -76.0], \"lat\": [-4.5833, 24.25], \"mode\": \"lines\", \"hoverinfo\": \"none\", \"line\": {\"width\": 1.2, \"color\": \"red\"}, \"opacity\": 0.004}, {\"type\": \"scattergeo\", \"lon\": [-56.0, -97.0], \"lat\": [-33.0, 38.0], \"mode\": \"lines\", \"hoverinfo\": \"none\", \"line\": {\"width\": 1.2, \"color\": \"red\"}, \"opacity\": 0.004}, {\"type\": \"scattergeo\", \"lon\": [34.75, 33.0], \"lat\": [31.5, 35.0], \"mode\": \"lines\", \"hoverinfo\": \"none\", \"line\": {\"width\": 1.2, \"color\": \"red\"}, \"opacity\": 0.004}, {\"type\": \"scattergeo\", \"lon\": [-88.75, -4.55], \"lat\": [17.25, 54.23], \"mode\": \"lines\", \"hoverinfo\": \"none\", \"line\": {\"width\": 1.2, \"color\": \"red\"}, \"opacity\": 0.004}, {\"type\": \"scattergeo\", \"lon\": [53.0, -2.13], \"lat\": [32.0, 49.21], \"mode\": \"lines\", \"hoverinfo\": \"none\", \"line\": {\"width\": 1.2, \"color\": \"red\"}, \"opacity\": 0.004}, {\"type\": \"scattergeo\", \"lon\": [-2.56, -95.0], \"lat\": [49.5, 60.0], \"mode\": \"lines\", \"hoverinfo\": \"none\", \"line\": {\"width\": 1.2, \"color\": \"red\"}, \"opacity\": 0.004}, {\"type\": \"scattergeo\", \"lon\": [122.0, 36.0], \"lat\": [13.0, 31.0], \"mode\": \"lines\", \"hoverinfo\": \"none\", \"line\": {\"width\": 1.2, \"color\": \"red\"}, \"opacity\": 0.004}, {\"type\": \"scattergeo\", \"lon\": [122.0, -80.0], \"lat\": [13.0, 9.0], \"mode\": \"lines\", \"hoverinfo\": \"none\", \"line\": {\"width\": 1.2, \"color\": \"red\"}, \"opacity\": 0.004}, {\"type\": \"scattergeo\", \"lon\": [-8.0, 114.1667], \"lat\": [53.0, 22.25], \"mode\": \"lines\", \"hoverinfo\": \"none\", \"line\": {\"width\": 1.2, \"color\": \"red\"}, \"opacity\": 0.004}, {\"type\": \"scattergeo\", \"lon\": [133.0, 55.6667], \"lat\": [-27.0, -4.5833], \"mode\": \"lines\", \"hoverinfo\": \"none\", \"line\": {\"width\": 1.2, \"color\": \"red\"}, \"opacity\": 0.004}, {\"type\": \"scattergeo\", \"lon\": [53.0, -2.0], \"lat\": [32.0, 54.0], \"mode\": \"lines\", \"hoverinfo\": \"none\", \"line\": {\"width\": 1.2, \"color\": \"red\"}, \"opacity\": 0.004}, {\"type\": \"scattergeo\", \"lon\": [-64.0, 36.0], \"lat\": [-34.0, 31.0], \"mode\": \"lines\", \"hoverinfo\": \"none\", \"line\": {\"width\": 1.2, \"color\": \"red\"}, \"opacity\": 0.004}, {\"type\": \"scattergeo\", \"lon\": [-172.3333, -55.0], \"lat\": [-13.5833, -10.0], \"mode\": \"lines\", \"hoverinfo\": \"none\", \"line\": {\"width\": 1.2, \"color\": \"red\"}, \"opacity\": 0.004}, {\"type\": \"scattergeo\", \"lon\": [5.75, -2.13], \"lat\": [52.5, 49.21], \"mode\": \"lines\", \"hoverinfo\": \"none\", \"line\": {\"width\": 1.2, \"color\": \"red\"}, \"opacity\": 0.004}, {\"type\": \"scattergeo\", \"lon\": [-2.13, 24.0], \"lat\": [49.21, -29.0], \"mode\": \"lines\", \"hoverinfo\": \"none\", \"line\": {\"width\": 1.2, \"color\": \"red\"}, \"opacity\": 0.004}, {\"type\": \"scattergeo\", \"lon\": [2.0, 105.0], \"lat\": [46.0, 35.0], \"mode\": \"lines\", \"hoverinfo\": \"none\", \"line\": {\"width\": 1.2, \"color\": \"red\"}, \"opacity\": 0.004}, {\"type\": \"scattergeo\", \"lon\": [2.0, 14.5833], \"lat\": [46.0, 35.8333], \"mode\": \"lines\", \"hoverinfo\": \"none\", \"line\": {\"width\": 1.2, \"color\": \"red\"}, \"opacity\": 0.004}, {\"type\": \"scattergeo\", \"lon\": [10.0, -2.0], \"lat\": [62.0, 54.0], \"mode\": \"lines\", \"hoverinfo\": \"none\", \"line\": {\"width\": 1.2, \"color\": \"red\"}, \"opacity\": 0.004}, {\"type\": \"scattergeo\", \"lon\": [25.0, 8.0], \"lat\": [46.0, 47.0], \"mode\": \"lines\", \"hoverinfo\": \"none\", \"line\": {\"width\": 1.2, \"color\": \"red\"}, \"opacity\": 0.004}, {\"type\": \"scattergeo\", \"lon\": [-2.0, -56.0], \"lat\": [54.0, -33.0], \"mode\": \"lines\", \"hoverinfo\": \"none\", \"line\": {\"width\": 1.2, \"color\": \"red\"}, \"opacity\": 0.004}, {\"type\": \"scattergeo\", \"lon\": [4.0, 54.0], \"lat\": [50.8333, 24.0], \"mode\": \"lines\", \"hoverinfo\": \"none\", \"line\": {\"width\": 1.2, \"color\": \"red\"}, \"opacity\": 0.00375}, {\"type\": \"scattergeo\", \"lon\": [-2.0, 9.5333], \"lat\": [54.0, 47.1667], \"mode\": \"lines\", \"hoverinfo\": \"none\", \"line\": {\"width\": 1.2, \"color\": \"red\"}, \"opacity\": 0.00375}, {\"type\": \"scattergeo\", \"lon\": [-172.3333, 9.5333], \"lat\": [-13.5833, 47.1667], \"mode\": \"lines\", \"hoverinfo\": \"none\", \"line\": {\"width\": 1.2, \"color\": \"red\"}, \"opacity\": 0.00375}, {\"type\": \"scattergeo\", \"lon\": [17.0, -2.0], \"lat\": [25.0, 54.0], \"mode\": \"lines\", \"hoverinfo\": \"none\", \"line\": {\"width\": 1.2, \"color\": \"red\"}, \"opacity\": 0.00375}, {\"type\": \"scattergeo\", \"lon\": [-5.3667, -2.13], \"lat\": [36.1833, 49.21], \"mode\": \"lines\", \"hoverinfo\": \"none\", \"line\": {\"width\": 1.2, \"color\": \"red\"}, \"opacity\": 0.00375}, {\"type\": \"scattergeo\", \"lon\": [-8.0, -2.56], \"lat\": [53.0, 49.5], \"mode\": \"lines\", \"hoverinfo\": \"none\", \"line\": {\"width\": 1.2, \"color\": \"red\"}, \"opacity\": 0.00375}, {\"type\": \"scattergeo\", \"lon\": [-102.0, 6.1667], \"lat\": [23.0, 49.75], \"mode\": \"lines\", \"hoverinfo\": \"none\", \"line\": {\"width\": 1.2, \"color\": \"red\"}, \"opacity\": 0.00375}, {\"type\": \"scattergeo\", \"lon\": [13.3333, 114.1667], \"lat\": [47.3333, 22.25], \"mode\": \"lines\", \"hoverinfo\": \"none\", \"line\": {\"width\": 1.2, \"color\": \"red\"}, \"opacity\": 0.00375}, {\"type\": \"scattergeo\", \"lon\": [8.0, 5.75], \"lat\": [47.0, 52.5], \"mode\": \"lines\", \"hoverinfo\": \"none\", \"line\": {\"width\": 1.2, \"color\": \"red\"}, \"opacity\": 0.00375}, {\"type\": \"scattergeo\", \"lon\": [6.1667, 36.0], \"lat\": [49.75, 31.0], \"mode\": \"lines\", \"hoverinfo\": \"none\", \"line\": {\"width\": 1.2, \"color\": \"red\"}, \"opacity\": 0.00375}, {\"type\": \"scattergeo\", \"lon\": [9.0, 100.0], \"lat\": [51.0, 60.0], \"mode\": \"lines\", \"hoverinfo\": \"none\", \"line\": {\"width\": 1.2, \"color\": \"red\"}, \"opacity\": 0.00375}, {\"type\": \"scattergeo\", \"lon\": [-2.0, -5.0], \"lat\": [54.0, 8.0], \"mode\": \"lines\", \"hoverinfo\": \"none\", \"line\": {\"width\": 1.2, \"color\": \"red\"}, \"opacity\": 0.00375}, {\"type\": \"scattergeo\", \"lon\": [4.0, -80.0], \"lat\": [50.8333, 9.0], \"mode\": \"lines\", \"hoverinfo\": \"none\", \"line\": {\"width\": 1.2, \"color\": \"red\"}, \"opacity\": 0.00375}, {\"type\": \"scattergeo\", \"lon\": [174.0, -76.0], \"lat\": [-41.0, 24.25], \"mode\": \"lines\", \"hoverinfo\": \"none\", \"line\": {\"width\": 1.2, \"color\": \"red\"}, \"opacity\": 0.00375}, {\"type\": \"scattergeo\", \"lon\": [-2.0, 25.0], \"lat\": [54.0, 57.0], \"mode\": \"lines\", \"hoverinfo\": \"none\", \"line\": {\"width\": 1.2, \"color\": \"red\"}, \"opacity\": 0.00375}, {\"type\": \"scattergeo\", \"lon\": [-88.75, -80.0], \"lat\": [17.25, 9.0], \"mode\": \"lines\", \"hoverinfo\": \"none\", \"line\": {\"width\": 1.2, \"color\": \"red\"}, \"opacity\": 0.00375}, {\"type\": \"scattergeo\", \"lon\": [-95.0, -80.0], \"lat\": [60.0, 9.0], \"mode\": \"lines\", \"hoverinfo\": \"none\", \"line\": {\"width\": 1.2, \"color\": \"red\"}, \"opacity\": 0.00375}, {\"type\": \"scattergeo\", \"lon\": [-2.13, 5.75], \"lat\": [49.21, 52.5], \"mode\": \"lines\", \"hoverinfo\": \"none\", \"line\": {\"width\": 1.2, \"color\": \"red\"}, \"opacity\": 0.00375}, {\"type\": \"scattergeo\", \"lon\": [-2.13, 174.0], \"lat\": [49.21, -41.0], \"mode\": \"lines\", \"hoverinfo\": \"none\", \"line\": {\"width\": 1.2, \"color\": \"red\"}, \"opacity\": 0.00375}, {\"type\": \"scattergeo\", \"lon\": [55.6667, -56.0], \"lat\": [-4.5833, -33.0], \"mode\": \"lines\", \"hoverinfo\": \"none\", \"line\": {\"width\": 1.2, \"color\": \"red\"}, \"opacity\": 0.00375}, {\"type\": \"scattergeo\", \"lon\": [2.0, 34.75], \"lat\": [46.0, 31.5], \"mode\": \"lines\", \"hoverinfo\": \"none\", \"line\": {\"width\": 1.2, \"color\": \"red\"}, \"opacity\": 0.00375}, {\"type\": \"scattergeo\", \"lon\": [-2.13, 100.0], \"lat\": [49.21, 15.0], \"mode\": \"lines\", \"hoverinfo\": \"none\", \"line\": {\"width\": 1.2, \"color\": \"red\"}, \"opacity\": 0.00375}, {\"type\": \"scattergeo\", \"lon\": [43.5, 33.0], \"lat\": [42.0, 35.0], \"mode\": \"lines\", \"hoverinfo\": \"none\", \"line\": {\"width\": 1.2, \"color\": \"red\"}, \"opacity\": 0.00375}, {\"type\": \"scattergeo\", \"lon\": [8.0, 33.0], \"lat\": [10.0, 35.0], \"mode\": \"lines\", \"hoverinfo\": \"none\", \"line\": {\"width\": 1.2, \"color\": \"red\"}, \"opacity\": 0.00375}, {\"type\": \"scattergeo\", \"lon\": [100.0, -5.3667], \"lat\": [60.0, 36.1833], \"mode\": \"lines\", \"hoverinfo\": \"none\", \"line\": {\"width\": 1.2, \"color\": \"red\"}, \"opacity\": 0.00375}, {\"type\": \"scattergeo\", \"lon\": [68.0, 114.1667], \"lat\": [48.0, 22.25], \"mode\": \"lines\", \"hoverinfo\": \"none\", \"line\": {\"width\": 1.2, \"color\": \"red\"}, \"opacity\": 0.00375}, {\"type\": \"scattergeo\", \"lon\": [68.0, 25.0], \"lat\": [48.0, 57.0], \"mode\": \"lines\", \"hoverinfo\": \"none\", \"line\": {\"width\": 1.2, \"color\": \"red\"}, \"opacity\": 0.00375}, {\"type\": \"scattergeo\", \"lon\": [-80.0, -64.5], \"lat\": [9.0, 18.5], \"mode\": \"lines\", \"hoverinfo\": \"none\", \"line\": {\"width\": 1.2, \"color\": \"red\"}, \"opacity\": 0.00375}, {\"type\": \"scattergeo\", \"lon\": [-80.0, 25.0], \"lat\": [9.0, 57.0], \"mode\": \"lines\", \"hoverinfo\": \"none\", \"line\": {\"width\": 1.2, \"color\": \"red\"}, \"opacity\": 0.00375}, {\"type\": \"scattergeo\", \"lon\": [-80.0, 36.0], \"lat\": [9.0, 31.0], \"mode\": \"lines\", \"hoverinfo\": \"none\", \"line\": {\"width\": 1.2, \"color\": \"red\"}, \"opacity\": 0.00375}, {\"type\": \"scattergeo\", \"lon\": [105.0, 114.1667], \"lat\": [13.0, 22.25], \"mode\": \"lines\", \"hoverinfo\": \"none\", \"line\": {\"width\": 1.2, \"color\": \"red\"}, \"opacity\": 0.00375}, {\"type\": \"scattergeo\", \"lon\": [-62.75, -76.0], \"lat\": [17.3333, 24.25], \"mode\": \"lines\", \"hoverinfo\": \"none\", \"line\": {\"width\": 1.2, \"color\": \"red\"}, \"opacity\": 0.00375}, {\"type\": \"scattergeo\", \"lon\": [25.0, 8.0], \"lat\": [0.0, 47.0], \"mode\": \"lines\", \"hoverinfo\": \"none\", \"line\": {\"width\": 1.2, \"color\": \"red\"}, \"opacity\": 0.00375}, {\"type\": \"scattergeo\", \"lon\": [6.1667, 33.0], \"lat\": [49.75, 35.0], \"mode\": \"lines\", \"hoverinfo\": \"none\", \"line\": {\"width\": 1.2, \"color\": \"red\"}, \"opacity\": 0.00375}, {\"type\": \"scattergeo\", \"lon\": [-4.0, 14.5833], \"lat\": [40.0, 35.8333], \"mode\": \"lines\", \"hoverinfo\": \"none\", \"line\": {\"width\": 1.2, \"color\": \"red\"}, \"opacity\": 0.00375}, {\"type\": \"scattergeo\", \"lon\": [-2.13, -80.5], \"lat\": [49.21, 19.5], \"mode\": \"lines\", \"hoverinfo\": \"none\", \"line\": {\"width\": 1.2, \"color\": \"red\"}, \"opacity\": 0.00375}, {\"type\": \"scattergeo\", \"lon\": [100.0, 32.0], \"lat\": [60.0, 49.0], \"mode\": \"lines\", \"hoverinfo\": \"none\", \"line\": {\"width\": 1.2, \"color\": \"red\"}, \"opacity\": 0.00375}, {\"type\": \"scattergeo\", \"lon\": [-2.0, 45.0], \"lat\": [54.0, 25.0], \"mode\": \"lines\", \"hoverinfo\": \"none\", \"line\": {\"width\": 1.2, \"color\": \"red\"}, \"opacity\": 0.00375}, {\"type\": \"scattergeo\", \"lon\": [-2.56, 33.0], \"lat\": [49.5, 35.0], \"mode\": \"lines\", \"hoverinfo\": \"none\", \"line\": {\"width\": 1.2, \"color\": \"red\"}, \"opacity\": 0.0035}, {\"type\": \"scattergeo\", \"lon\": [-2.0, -59.5333], \"lat\": [54.0, 13.1667], \"mode\": \"lines\", \"hoverinfo\": \"none\", \"line\": {\"width\": 1.2, \"color\": \"red\"}, \"opacity\": 0.0035}, {\"type\": \"scattergeo\", \"lon\": [105.0, 100.0], \"lat\": [35.0, 15.0], \"mode\": \"lines\", \"hoverinfo\": \"none\", \"line\": {\"width\": 1.2, \"color\": \"red\"}, \"opacity\": 0.0035}, {\"type\": \"scattergeo\", \"lon\": [35.8333, 7.4], \"lat\": [33.8333, 43.7333], \"mode\": \"lines\", \"hoverinfo\": \"none\", \"line\": {\"width\": 1.2, \"color\": \"red\"}, \"opacity\": 0.0035}, {\"type\": \"scattergeo\", \"lon\": [6.1667, -2.13], \"lat\": [49.75, 49.21], \"mode\": \"lines\", \"hoverinfo\": \"none\", \"line\": {\"width\": 1.2, \"color\": \"red\"}, \"opacity\": 0.0035}, {\"type\": \"scattergeo\", \"lon\": [-2.13, -95.0], \"lat\": [49.21, 60.0], \"mode\": \"lines\", \"hoverinfo\": \"none\", \"line\": {\"width\": 1.2, \"color\": \"red\"}, \"opacity\": 0.0035}, {\"type\": \"scattergeo\", \"lon\": [55.6667, -2.13], \"lat\": [-4.5833, 49.21], \"mode\": \"lines\", \"hoverinfo\": \"none\", \"line\": {\"width\": 1.2, \"color\": \"red\"}, \"opacity\": 0.0035}, {\"type\": \"scattergeo\", \"lon\": [9.0, 8.0], \"lat\": [34.0, 47.0], \"mode\": \"lines\", \"hoverinfo\": \"none\", \"line\": {\"width\": 1.2, \"color\": \"red\"}, \"opacity\": 0.0035}, {\"type\": \"scattergeo\", \"lon\": [174.0, 103.8], \"lat\": [-41.0, 1.3667], \"mode\": \"lines\", \"hoverinfo\": \"none\", \"line\": {\"width\": 1.2, \"color\": \"red\"}, \"opacity\": 0.0035}, {\"type\": \"scattergeo\", \"lon\": [9.0, 100.0], \"lat\": [51.0, 15.0], \"mode\": \"lines\", \"hoverinfo\": \"none\", \"line\": {\"width\": 1.2, \"color\": \"red\"}, \"opacity\": 0.0035}, {\"type\": \"scattergeo\", \"lon\": [168.0, 54.0], \"lat\": [9.0, 24.0], \"mode\": \"lines\", \"hoverinfo\": \"none\", \"line\": {\"width\": 1.2, \"color\": \"red\"}, \"opacity\": 0.0035}, {\"type\": \"scattergeo\", \"lon\": [2.0, 100.0], \"lat\": [46.0, 60.0], \"mode\": \"lines\", \"hoverinfo\": \"none\", \"line\": {\"width\": 1.2, \"color\": \"red\"}, \"opacity\": 0.0035}, {\"type\": \"scattergeo\", \"lon\": [6.1667, -5.3667], \"lat\": [49.75, 36.1833], \"mode\": \"lines\", \"hoverinfo\": \"none\", \"line\": {\"width\": 1.2, \"color\": \"red\"}, \"opacity\": 0.0035}, {\"type\": \"scattergeo\", \"lon\": [-80.0, -71.0], \"lat\": [9.0, -30.0], \"mode\": \"lines\", \"hoverinfo\": \"none\", \"line\": {\"width\": 1.2, \"color\": \"red\"}, \"opacity\": 0.0035}, {\"type\": \"scattergeo\", \"lon\": [90.0, 114.1667], \"lat\": [24.0, 22.25], \"mode\": \"lines\", \"hoverinfo\": \"none\", \"line\": {\"width\": 1.2, \"color\": \"red\"}, \"opacity\": 0.0035}, {\"type\": \"scattergeo\", \"lon\": [-63.1667, -76.0], \"lat\": [18.25, 24.25], \"mode\": \"lines\", \"hoverinfo\": \"none\", \"line\": {\"width\": 1.2, \"color\": \"red\"}, \"opacity\": 0.0035}, {\"type\": \"scattergeo\", \"lon\": [4.0, -2.56], \"lat\": [50.8333, 49.5], \"mode\": \"lines\", \"hoverinfo\": \"none\", \"line\": {\"width\": 1.2, \"color\": \"red\"}, \"opacity\": 0.0035}, {\"type\": \"scattergeo\", \"lon\": [-88.75, 6.1667], \"lat\": [17.25, 49.75], \"mode\": \"lines\", \"hoverinfo\": \"none\", \"line\": {\"width\": 1.2, \"color\": \"red\"}, \"opacity\": 0.0035}, {\"type\": \"scattergeo\", \"lon\": [7.4, -97.0], \"lat\": [43.7333, 38.0], \"mode\": \"lines\", \"hoverinfo\": \"none\", \"line\": {\"width\": 1.2, \"color\": \"red\"}, \"opacity\": 0.0035}, {\"type\": \"scattergeo\", \"lon\": [-71.0, 105.0], \"lat\": [-30.0, 35.0], \"mode\": \"lines\", \"hoverinfo\": \"none\", \"line\": {\"width\": 1.2, \"color\": \"red\"}, \"opacity\": 0.0035}, {\"type\": \"scattergeo\", \"lon\": [-2.0, 12.8333], \"lat\": [54.0, 42.8333], \"mode\": \"lines\", \"hoverinfo\": \"none\", \"line\": {\"width\": 1.2, \"color\": \"red\"}, \"opacity\": 0.0035}, {\"type\": \"scattergeo\", \"lon\": [57.55, 100.0], \"lat\": [-20.2833, 60.0], \"mode\": \"lines\", \"hoverinfo\": \"none\", \"line\": {\"width\": 1.2, \"color\": \"red\"}, \"opacity\": 0.0035}, {\"type\": \"scattergeo\", \"lon\": [-4.0, 6.1667], \"lat\": [40.0, 49.75], \"mode\": \"lines\", \"hoverinfo\": \"none\", \"line\": {\"width\": 1.2, \"color\": \"red\"}, \"opacity\": 0.0035}, {\"type\": \"scattergeo\", \"lon\": [7.4, 36.0], \"lat\": [43.7333, 31.0], \"mode\": \"lines\", \"hoverinfo\": \"none\", \"line\": {\"width\": 1.2, \"color\": \"red\"}, \"opacity\": 0.0035}, {\"type\": \"scattergeo\", \"lon\": [-95.0, 100.0], \"lat\": [60.0, 15.0], \"mode\": \"lines\", \"hoverinfo\": \"none\", \"line\": {\"width\": 1.2, \"color\": \"red\"}, \"opacity\": 0.0035}, {\"type\": \"scattergeo\", \"lon\": [103.8, -4.55], \"lat\": [1.3667, 54.23], \"mode\": \"lines\", \"hoverinfo\": \"none\", \"line\": {\"width\": 1.2, \"color\": \"red\"}, \"opacity\": 0.0035}, {\"type\": \"scattergeo\", \"lon\": [-9.5, -2.0], \"lat\": [6.5, 54.0], \"mode\": \"lines\", \"hoverinfo\": \"none\", \"line\": {\"width\": 1.2, \"color\": \"red\"}, \"opacity\": 0.0035}, {\"type\": \"scattergeo\", \"lon\": [103.8, 6.1667], \"lat\": [1.3667, 49.75], \"mode\": \"lines\", \"hoverinfo\": \"none\", \"line\": {\"width\": 1.2, \"color\": \"red\"}, \"opacity\": 0.0035}, {\"type\": \"scattergeo\", \"lon\": [64.0, 55.6667], \"lat\": [41.0, -4.5833], \"mode\": \"lines\", \"hoverinfo\": \"none\", \"line\": {\"width\": 1.2, \"color\": \"red\"}, \"opacity\": 0.0035}, {\"type\": \"scattergeo\", \"lon\": [-2.56, 6.1667], \"lat\": [49.5, 49.75], \"mode\": \"lines\", \"hoverinfo\": \"none\", \"line\": {\"width\": 1.2, \"color\": \"red\"}, \"opacity\": 0.0035}, {\"type\": \"scattergeo\", \"lon\": [7.4, 2.0], \"lat\": [43.7333, 46.0], \"mode\": \"lines\", \"hoverinfo\": \"none\", \"line\": {\"width\": 1.2, \"color\": \"red\"}, \"opacity\": 0.0035}, {\"type\": \"scattergeo\", \"lon\": [-76.0, -80.5], \"lat\": [24.25, 19.5], \"mode\": \"lines\", \"hoverinfo\": \"none\", \"line\": {\"width\": 1.2, \"color\": \"red\"}, \"opacity\": 0.0035}, {\"type\": \"scattergeo\", \"lon\": [112.5, 8.0], \"lat\": [2.5, 47.0], \"mode\": \"lines\", \"hoverinfo\": \"none\", \"line\": {\"width\": 1.2, \"color\": \"red\"}, \"opacity\": 0.0035}, {\"type\": \"scattergeo\", \"lon\": [-2.0, -172.3333], \"lat\": [54.0, -13.5833], \"mode\": \"lines\", \"hoverinfo\": \"none\", \"line\": {\"width\": 1.2, \"color\": \"red\"}, \"opacity\": 0.0035}, {\"type\": \"scattergeo\", \"lon\": [45.0, 100.0], \"lat\": [40.0, 60.0], \"mode\": \"lines\", \"hoverinfo\": \"none\", \"line\": {\"width\": 1.2, \"color\": \"red\"}, \"opacity\": 0.0035}, {\"type\": \"scattergeo\", \"lon\": [-8.0, -2.13], \"lat\": [39.5, 49.21], \"mode\": \"lines\", \"hoverinfo\": \"none\", \"line\": {\"width\": 1.2, \"color\": \"red\"}, \"opacity\": 0.0035}, {\"type\": \"scattergeo\", \"lon\": [-95.0, 7.4], \"lat\": [60.0, 43.7333], \"mode\": \"lines\", \"hoverinfo\": \"none\", \"line\": {\"width\": 1.2, \"color\": \"red\"}, \"opacity\": 0.0035}, {\"type\": \"scattergeo\", \"lon\": [8.0, 35.8333], \"lat\": [47.0, 33.8333], \"mode\": \"lines\", \"hoverinfo\": \"none\", \"line\": {\"width\": 1.2, \"color\": \"red\"}, \"opacity\": 0.0035}, {\"type\": \"scattergeo\", \"lon\": [-2.56, -64.75], \"lat\": [49.5, 32.3333], \"mode\": \"lines\", \"hoverinfo\": \"none\", \"line\": {\"width\": 1.2, \"color\": \"red\"}, \"opacity\": 0.00325}, {\"type\": \"scattergeo\", \"lon\": [-2.56, 9.5333], \"lat\": [49.5, 47.1667], \"mode\": \"lines\", \"hoverinfo\": \"none\", \"line\": {\"width\": 1.2, \"color\": \"red\"}, \"opacity\": 0.00325}, {\"type\": \"scattergeo\", \"lon\": [2.0, -80.0], \"lat\": [46.0, 9.0], \"mode\": \"lines\", \"hoverinfo\": \"none\", \"line\": {\"width\": 1.2, \"color\": \"red\"}, \"opacity\": 0.00325}, {\"type\": \"scattergeo\", \"lon\": [-4.55, -56.0], \"lat\": [54.23, -33.0], \"mode\": \"lines\", \"hoverinfo\": \"none\", \"line\": {\"width\": 1.2, \"color\": \"red\"}, \"opacity\": 0.00325}, {\"type\": \"scattergeo\", \"lon\": [-2.0, 24.0], \"lat\": [54.0, -29.0], \"mode\": \"lines\", \"hoverinfo\": \"none\", \"line\": {\"width\": 1.2, \"color\": \"red\"}, \"opacity\": 0.00325}, {\"type\": \"scattergeo\", \"lon\": [-2.13, 100.0], \"lat\": [49.21, 60.0], \"mode\": \"lines\", \"hoverinfo\": \"none\", \"line\": {\"width\": 1.2, \"color\": \"red\"}, \"opacity\": 0.00325}, {\"type\": \"scattergeo\", \"lon\": [-24.0, -2.13], \"lat\": [16.0, 49.21], \"mode\": \"lines\", \"hoverinfo\": \"none\", \"line\": {\"width\": 1.2, \"color\": \"red\"}, \"opacity\": 0.00325}, {\"type\": \"scattergeo\", \"lon\": [-95.0, 100.0], \"lat\": [60.0, 60.0], \"mode\": \"lines\", \"hoverinfo\": \"none\", \"line\": {\"width\": 1.2, \"color\": \"red\"}, \"opacity\": 0.00325}, {\"type\": \"scattergeo\", \"lon\": [-8.0, -4.55], \"lat\": [39.5, 54.23], \"mode\": \"lines\", \"hoverinfo\": \"none\", \"line\": {\"width\": 1.2, \"color\": \"red\"}, \"opacity\": 0.00325}, {\"type\": \"scattergeo\", \"lon\": [51.25, -2.0], \"lat\": [25.5, 54.0], \"mode\": \"lines\", \"hoverinfo\": \"none\", \"line\": {\"width\": 1.2, \"color\": \"red\"}, \"opacity\": 0.00325}, {\"type\": \"scattergeo\", \"lon\": [28.0, 100.0], \"lat\": [53.0, 60.0], \"mode\": \"lines\", \"hoverinfo\": \"none\", \"line\": {\"width\": 1.2, \"color\": \"red\"}, \"opacity\": 0.00325}, {\"type\": \"scattergeo\", \"lon\": [-24.0, -95.0], \"lat\": [16.0, 60.0], \"mode\": \"lines\", \"hoverinfo\": \"none\", \"line\": {\"width\": 1.2, \"color\": \"red\"}, \"opacity\": 0.00325}, {\"type\": \"scattergeo\", \"lon\": [103.8, 54.0], \"lat\": [1.3667, 24.0], \"mode\": \"lines\", \"hoverinfo\": \"none\", \"line\": {\"width\": 1.2, \"color\": \"red\"}, \"opacity\": 0.00325}, {\"type\": \"scattergeo\", \"lon\": [-84.0, -77.5], \"lat\": [10.0, -2.0], \"mode\": \"lines\", \"hoverinfo\": \"none\", \"line\": {\"width\": 1.2, \"color\": \"red\"}, \"opacity\": 0.00325}, {\"type\": \"scattergeo\", \"lon\": [-64.75, -2.13], \"lat\": [32.3333, 49.21], \"mode\": \"lines\", \"hoverinfo\": \"none\", \"line\": {\"width\": 1.2, \"color\": \"red\"}, \"opacity\": 0.00325}, {\"type\": \"scattergeo\", \"lon\": [38.0, 36.0], \"lat\": [35.0, 31.0], \"mode\": \"lines\", \"hoverinfo\": \"none\", \"line\": {\"width\": 1.2, \"color\": \"red\"}, \"opacity\": 0.00325}, {\"type\": \"scattergeo\", \"lon\": [35.8333, 114.1667], \"lat\": [33.8333, 22.25], \"mode\": \"lines\", \"hoverinfo\": \"none\", \"line\": {\"width\": 1.2, \"color\": \"red\"}, \"opacity\": 0.00325}, {\"type\": \"scattergeo\", \"lon\": [12.0, -2.13], \"lat\": [6.0, 49.21], \"mode\": \"lines\", \"hoverinfo\": \"none\", \"line\": {\"width\": 1.2, \"color\": \"red\"}, \"opacity\": 0.00325}, {\"type\": \"scattergeo\", \"lon\": [35.0, 6.1667], \"lat\": [39.0, 49.75], \"mode\": \"lines\", \"hoverinfo\": \"none\", \"line\": {\"width\": 1.2, \"color\": \"red\"}, \"opacity\": 0.00325}, {\"type\": \"scattergeo\", \"lon\": [-80.5, -4.55], \"lat\": [19.5, 54.23], \"mode\": \"lines\", \"hoverinfo\": \"none\", \"line\": {\"width\": 1.2, \"color\": \"red\"}, \"opacity\": 0.00325}, {\"type\": \"scattergeo\", \"lon\": [5.75, 33.0], \"lat\": [52.5, 35.0], \"mode\": \"lines\", \"hoverinfo\": \"none\", \"line\": {\"width\": 1.2, \"color\": \"red\"}, \"opacity\": 0.00325}, {\"type\": \"scattergeo\", \"lon\": [-88.75, 14.5833], \"lat\": [17.25, 35.8333], \"mode\": \"lines\", \"hoverinfo\": \"none\", \"line\": {\"width\": 1.2, \"color\": \"red\"}, \"opacity\": 0.00325}, {\"type\": \"scattergeo\", \"lon\": [-2.13, -59.5333], \"lat\": [49.21, 13.1667], \"mode\": \"lines\", \"hoverinfo\": \"none\", \"line\": {\"width\": 1.2, \"color\": \"red\"}, \"opacity\": 0.00325}, {\"type\": \"scattergeo\", \"lon\": [7.4, -2.13], \"lat\": [43.7333, 49.21], \"mode\": \"lines\", \"hoverinfo\": \"none\", \"line\": {\"width\": 1.2, \"color\": \"red\"}, \"opacity\": 0.00325}, {\"type\": \"scattergeo\", \"lon\": [-97.0, 33.0], \"lat\": [38.0, 35.0], \"mode\": \"lines\", \"hoverinfo\": \"none\", \"line\": {\"width\": 1.2, \"color\": \"red\"}, \"opacity\": 0.00325}, {\"type\": \"scattergeo\", \"lon\": [15.5, 114.1667], \"lat\": [49.75, 22.25], \"mode\": \"lines\", \"hoverinfo\": \"none\", \"line\": {\"width\": 1.2, \"color\": \"red\"}, \"opacity\": 0.00325}, {\"type\": \"scattergeo\", \"lon\": [-97.0, -70.6667], \"lat\": [38.0, 19.0], \"mode\": \"lines\", \"hoverinfo\": \"none\", \"line\": {\"width\": 1.2, \"color\": \"red\"}, \"opacity\": 0.00325}, {\"type\": \"scattergeo\", \"lon\": [14.5833, 57.55], \"lat\": [35.8333, -20.2833], \"mode\": \"lines\", \"hoverinfo\": \"none\", \"line\": {\"width\": 1.2, \"color\": \"red\"}, \"opacity\": 0.00325}, {\"type\": \"scattergeo\", \"lon\": [105.0, 105.0], \"lat\": [46.0, 35.0], \"mode\": \"lines\", \"hoverinfo\": \"none\", \"line\": {\"width\": 1.2, \"color\": \"red\"}, \"opacity\": 0.00325}, {\"type\": \"scattergeo\", \"lon\": [64.0, 100.0], \"lat\": [41.0, 60.0], \"mode\": \"lines\", \"hoverinfo\": \"none\", \"line\": {\"width\": 1.2, \"color\": \"red\"}, \"opacity\": 0.00325}, {\"type\": \"scattergeo\", \"lon\": [-66.0, 36.0], \"lat\": [8.0, 31.0], \"mode\": \"lines\", \"hoverinfo\": \"none\", \"line\": {\"width\": 1.2, \"color\": \"red\"}, \"opacity\": 0.00325}, {\"type\": \"scattergeo\", \"lon\": [-64.5, -59.5333], \"lat\": [18.5, 13.1667], \"mode\": \"lines\", \"hoverinfo\": \"none\", \"line\": {\"width\": 1.2, \"color\": \"red\"}, \"opacity\": 0.00325}, {\"type\": \"scattergeo\", \"lon\": [25.0, 26.0], \"lat\": [57.0, 59.0], \"mode\": \"lines\", \"hoverinfo\": \"none\", \"line\": {\"width\": 1.2, \"color\": \"red\"}, \"opacity\": 0.00325}, {\"type\": \"scattergeo\", \"lon\": [-95.0, -97.0], \"lat\": [60.0, 38.0], \"mode\": \"lines\", \"hoverinfo\": \"none\", \"line\": {\"width\": 1.2, \"color\": \"red\"}, \"opacity\": 0.003}, {\"type\": \"scattergeo\", \"lon\": [-88.75, -97.0], \"lat\": [17.25, 38.0], \"mode\": \"lines\", \"hoverinfo\": \"none\", \"line\": {\"width\": 1.2, \"color\": \"red\"}, \"opacity\": 0.003}, {\"type\": \"scattergeo\", \"lon\": [20.0, 8.0], \"lat\": [52.0, 47.0], \"mode\": \"lines\", \"hoverinfo\": \"none\", \"line\": {\"width\": 1.2, \"color\": \"red\"}, \"opacity\": 0.003}, {\"type\": \"scattergeo\", \"lon\": [-76.0, -80.0], \"lat\": [-10.0, 9.0], \"mode\": \"lines\", \"hoverinfo\": \"none\", \"line\": {\"width\": 1.2, \"color\": \"red\"}, \"opacity\": 0.003}, {\"type\": \"scattergeo\", \"lon\": [-102.0, -2.0], \"lat\": [23.0, 54.0], \"mode\": \"lines\", \"hoverinfo\": \"none\", \"line\": {\"width\": 1.2, \"color\": \"red\"}, \"opacity\": 0.003}, {\"type\": \"scattergeo\", \"lon\": [8.0, 100.0], \"lat\": [47.0, 60.0], \"mode\": \"lines\", \"hoverinfo\": \"none\", \"line\": {\"width\": 1.2, \"color\": \"red\"}, \"opacity\": 0.003}, {\"type\": \"scattergeo\", \"lon\": [-102.0, 114.1667], \"lat\": [23.0, 22.25], \"mode\": \"lines\", \"hoverinfo\": \"none\", \"line\": {\"width\": 1.2, \"color\": \"red\"}, \"opacity\": 0.003}, {\"type\": \"scattergeo\", \"lon\": [98.0, 114.1667], \"lat\": [22.0, 22.25], \"mode\": \"lines\", \"hoverinfo\": \"none\", \"line\": {\"width\": 1.2, \"color\": \"red\"}, \"opacity\": 0.003}, {\"type\": \"scattergeo\", \"lon\": [-5.3667, 26.0], \"lat\": [36.1833, 59.0], \"mode\": \"lines\", \"hoverinfo\": \"none\", \"line\": {\"width\": 1.2, \"color\": \"red\"}, \"opacity\": 0.003}, {\"type\": \"scattergeo\", \"lon\": [-80.0, -8.0], \"lat\": [9.0, 53.0], \"mode\": \"lines\", \"hoverinfo\": \"none\", \"line\": {\"width\": 1.2, \"color\": \"red\"}, \"opacity\": 0.003}, {\"type\": \"scattergeo\", \"lon\": [-2.56, -80.0], \"lat\": [49.5, 9.0], \"mode\": \"lines\", \"hoverinfo\": \"none\", \"line\": {\"width\": 1.2, \"color\": \"red\"}, \"opacity\": 0.003}, {\"type\": \"scattergeo\", \"lon\": [174.0, -2.56], \"lat\": [-41.0, 49.5], \"mode\": \"lines\", \"hoverinfo\": \"none\", \"line\": {\"width\": 1.2, \"color\": \"red\"}, \"opacity\": 0.003}, {\"type\": \"scattergeo\", \"lon\": [-95.0, 36.0], \"lat\": [60.0, 31.0], \"mode\": \"lines\", \"hoverinfo\": \"none\", \"line\": {\"width\": 1.2, \"color\": \"red\"}, \"opacity\": 0.003}, {\"type\": \"scattergeo\", \"lon\": [112.5, 105.0], \"lat\": [2.5, 35.0], \"mode\": \"lines\", \"hoverinfo\": \"none\", \"line\": {\"width\": 1.2, \"color\": \"red\"}, \"opacity\": 0.003}, {\"type\": \"scattergeo\", \"lon\": [20.0, -2.0], \"lat\": [52.0, 54.0], \"mode\": \"lines\", \"hoverinfo\": \"none\", \"line\": {\"width\": 1.2, \"color\": \"red\"}, \"opacity\": 0.003}, {\"type\": \"scattergeo\", \"lon\": [5.75, -2.56], \"lat\": [52.5, 49.5], \"mode\": \"lines\", \"hoverinfo\": \"none\", \"line\": {\"width\": 1.2, \"color\": \"red\"}, \"opacity\": 0.003}, {\"type\": \"scattergeo\", \"lon\": [-88.75, -62.75], \"lat\": [17.25, 17.3333], \"mode\": \"lines\", \"hoverinfo\": \"none\", \"line\": {\"width\": 1.2, \"color\": \"red\"}, \"opacity\": 0.003}, {\"type\": \"scattergeo\", \"lon\": [-8.0, -2.0], \"lat\": [39.5, 54.0], \"mode\": \"lines\", \"hoverinfo\": \"none\", \"line\": {\"width\": 1.2, \"color\": \"red\"}, \"opacity\": 0.003}, {\"type\": \"scattergeo\", \"lon\": [30.0, 54.0], \"lat\": [-15.0, 24.0], \"mode\": \"lines\", \"hoverinfo\": \"none\", \"line\": {\"width\": 1.2, \"color\": \"red\"}, \"opacity\": 0.003}, {\"type\": \"scattergeo\", \"lon\": [18.5, -8.0], \"lat\": [-12.5, 39.5], \"mode\": \"lines\", \"hoverinfo\": \"none\", \"line\": {\"width\": 1.2, \"color\": \"red\"}, \"opacity\": 0.003}, {\"type\": \"scattergeo\", \"lon\": [2.0, 57.55], \"lat\": [46.0, -20.2833], \"mode\": \"lines\", \"hoverinfo\": \"none\", \"line\": {\"width\": 1.2, \"color\": \"red\"}, \"opacity\": 0.003}, {\"type\": \"scattergeo\", \"lon\": [-172.3333, 100.0], \"lat\": [-13.5833, 15.0], \"mode\": \"lines\", \"hoverinfo\": \"none\", \"line\": {\"width\": 1.2, \"color\": \"red\"}, \"opacity\": 0.003}, {\"type\": \"scattergeo\", \"lon\": [-63.1667, 103.8], \"lat\": [18.25, 1.3667], \"mode\": \"lines\", \"hoverinfo\": \"none\", \"line\": {\"width\": 1.2, \"color\": \"red\"}, \"opacity\": 0.003}, {\"type\": \"scattergeo\", \"lon\": [-172.3333, -4.0], \"lat\": [-13.5833, 40.0], \"mode\": \"lines\", \"hoverinfo\": \"none\", \"line\": {\"width\": 1.2, \"color\": \"red\"}, \"opacity\": 0.003}, {\"type\": \"scattergeo\", \"lon\": [-172.3333, -72.0], \"lat\": [-13.5833, 4.0], \"mode\": \"lines\", \"hoverinfo\": \"none\", \"line\": {\"width\": 1.2, \"color\": \"red\"}, \"opacity\": 0.003}, {\"type\": \"scattergeo\", \"lon\": [11.75, 114.1667], \"lat\": [-1.0, 22.25], \"mode\": \"lines\", \"hoverinfo\": \"none\", \"line\": {\"width\": 1.2, \"color\": \"red\"}, \"opacity\": 0.003}, {\"type\": \"scattergeo\", \"lon\": [-97.0, -64.5], \"lat\": [38.0, 18.5], \"mode\": \"lines\", \"hoverinfo\": \"none\", \"line\": {\"width\": 1.2, \"color\": \"red\"}, \"opacity\": 0.003}, {\"type\": \"scattergeo\", \"lon\": [13.3333, -2.0], \"lat\": [47.3333, 54.0], \"mode\": \"lines\", \"hoverinfo\": \"none\", \"line\": {\"width\": 1.2, \"color\": \"red\"}, \"opacity\": 0.003}, {\"type\": \"scattergeo\", \"lon\": [-56.0, -64.0], \"lat\": [-33.0, -34.0], \"mode\": \"lines\", \"hoverinfo\": \"none\", \"line\": {\"width\": 1.2, \"color\": \"red\"}, \"opacity\": 0.003}, {\"type\": \"scattergeo\", \"lon\": [32.0, 114.1667], \"lat\": [49.0, 22.25], \"mode\": \"lines\", \"hoverinfo\": \"none\", \"line\": {\"width\": 1.2, \"color\": \"red\"}, \"opacity\": 0.003}, {\"type\": \"scattergeo\", \"lon\": [35.0, -2.0], \"lat\": [-6.0, 54.0], \"mode\": \"lines\", \"hoverinfo\": \"none\", \"line\": {\"width\": 1.2, \"color\": \"red\"}, \"opacity\": 0.003}, {\"type\": \"scattergeo\", \"lon\": [35.0, 8.0], \"lat\": [-6.0, 47.0], \"mode\": \"lines\", \"hoverinfo\": \"none\", \"line\": {\"width\": 1.2, \"color\": \"red\"}, \"opacity\": 0.003}, {\"type\": \"scattergeo\", \"lon\": [47.5, -2.0], \"lat\": [40.5, 54.0], \"mode\": \"lines\", \"hoverinfo\": \"none\", \"line\": {\"width\": 1.2, \"color\": \"red\"}, \"opacity\": 0.003}, {\"type\": \"scattergeo\", \"lon\": [47.5, 114.1667], \"lat\": [40.5, 22.25], \"mode\": \"lines\", \"hoverinfo\": \"none\", \"line\": {\"width\": 1.2, \"color\": \"red\"}, \"opacity\": 0.003}, {\"type\": \"scattergeo\", \"lon\": [100.0, 19.0], \"lat\": [15.0, 15.0], \"mode\": \"lines\", \"hoverinfo\": \"none\", \"line\": {\"width\": 1.2, \"color\": \"red\"}, \"opacity\": 0.003}, {\"type\": \"scattergeo\", \"lon\": [100.0, -4.55], \"lat\": [15.0, 54.23], \"mode\": \"lines\", \"hoverinfo\": \"none\", \"line\": {\"width\": 1.2, \"color\": \"red\"}, \"opacity\": 0.003}, {\"type\": \"scattergeo\", \"lon\": [55.6667, 32.0], \"lat\": [-4.5833, 49.0], \"mode\": \"lines\", \"hoverinfo\": \"none\", \"line\": {\"width\": 1.2, \"color\": \"red\"}, \"opacity\": 0.003}, {\"type\": \"scattergeo\", \"lon\": [55.6667, 57.55], \"lat\": [-4.5833, -20.2833], \"mode\": \"lines\", \"hoverinfo\": \"none\", \"line\": {\"width\": 1.2, \"color\": \"red\"}, \"opacity\": 0.003}, {\"type\": \"scattergeo\", \"lon\": [29.0, 54.0], \"lat\": [47.0, 24.0], \"mode\": \"lines\", \"hoverinfo\": \"none\", \"line\": {\"width\": 1.2, \"color\": \"red\"}, \"opacity\": 0.003}, {\"type\": \"scattergeo\", \"lon\": [-4.0, -2.13], \"lat\": [40.0, 49.21], \"mode\": \"lines\", \"hoverinfo\": \"none\", \"line\": {\"width\": 1.2, \"color\": \"red\"}, \"opacity\": 0.003}, {\"type\": \"scattergeo\", \"lon\": [51.25, 36.0], \"lat\": [25.5, 31.0], \"mode\": \"lines\", \"hoverinfo\": \"none\", \"line\": {\"width\": 1.2, \"color\": \"red\"}, \"opacity\": 0.003}, {\"type\": \"scattergeo\", \"lon\": [73.0, -2.13], \"lat\": [3.25, 49.21], \"mode\": \"lines\", \"hoverinfo\": \"none\", \"line\": {\"width\": 1.2, \"color\": \"red\"}, \"opacity\": 0.003}, {\"type\": \"scattergeo\", \"lon\": [112.5, -76.0], \"lat\": [2.5, 24.25], \"mode\": \"lines\", \"hoverinfo\": \"none\", \"line\": {\"width\": 1.2, \"color\": \"red\"}, \"opacity\": 0.003}, {\"type\": \"scattergeo\", \"lon\": [-16.5667, -2.0], \"lat\": [13.4667, 54.0], \"mode\": \"lines\", \"hoverinfo\": \"none\", \"line\": {\"width\": 1.2, \"color\": \"red\"}, \"opacity\": 0.003}, {\"type\": \"scattergeo\", \"lon\": [-84.0, -97.0], \"lat\": [10.0, 38.0], \"mode\": \"lines\", \"hoverinfo\": \"none\", \"line\": {\"width\": 1.2, \"color\": \"red\"}, \"opacity\": 0.003}, {\"type\": \"scattergeo\", \"lon\": [9.0, -64.5], \"lat\": [51.0, 18.5], \"mode\": \"lines\", \"hoverinfo\": \"none\", \"line\": {\"width\": 1.2, \"color\": \"red\"}, \"opacity\": 0.003}, {\"type\": \"scattergeo\", \"lon\": [38.0, 57.55], \"lat\": [1.0, -20.2833], \"mode\": \"lines\", \"hoverinfo\": \"none\", \"line\": {\"width\": 1.2, \"color\": \"red\"}, \"opacity\": 0.003}, {\"type\": \"scattergeo\", \"lon\": [12.8333, -2.13], \"lat\": [42.8333, 49.21], \"mode\": \"lines\", \"hoverinfo\": \"none\", \"line\": {\"width\": 1.2, \"color\": \"red\"}, \"opacity\": 0.003}, {\"type\": \"scattergeo\", \"lon\": [-77.5, 114.1667], \"lat\": [18.25, 22.25], \"mode\": \"lines\", \"hoverinfo\": \"none\", \"line\": {\"width\": 1.2, \"color\": \"red\"}, \"opacity\": 0.003}, {\"type\": \"scattergeo\", \"lon\": [-80.5, -97.0], \"lat\": [19.5, 38.0], \"mode\": \"lines\", \"hoverinfo\": \"none\", \"line\": {\"width\": 1.2, \"color\": \"red\"}, \"opacity\": 0.003}, {\"type\": \"scattergeo\", \"lon\": [47.6581, -4.55], \"lat\": [29.3375, 54.23], \"mode\": \"lines\", \"hoverinfo\": \"none\", \"line\": {\"width\": 1.2, \"color\": \"red\"}, \"opacity\": 0.003}, {\"type\": \"scattergeo\", \"lon\": [-80.5, -80.0], \"lat\": [19.5, 9.0], \"mode\": \"lines\", \"hoverinfo\": \"none\", \"line\": {\"width\": 1.2, \"color\": \"red\"}, \"opacity\": 0.003}, {\"type\": \"scattergeo\", \"lon\": [-84.0, -62.75], \"lat\": [10.0, 17.3333], \"mode\": \"lines\", \"hoverinfo\": \"none\", \"line\": {\"width\": 1.2, \"color\": \"red\"}, \"opacity\": 0.003}, {\"type\": \"scattergeo\", \"lon\": [12.8333, -2.0], \"lat\": [42.8333, 54.0], \"mode\": \"lines\", \"hoverinfo\": \"none\", \"line\": {\"width\": 1.2, \"color\": \"red\"}, \"opacity\": 0.003}, {\"type\": \"scattergeo\", \"lon\": [47.6581, 54.0], \"lat\": [29.3375, 24.0], \"mode\": \"lines\", \"hoverinfo\": \"none\", \"line\": {\"width\": 1.2, \"color\": \"red\"}, \"opacity\": 0.003}, {\"type\": \"scattergeo\", \"lon\": [-159.7667, 114.1667], \"lat\": [-21.2333, 22.25], \"mode\": \"lines\", \"hoverinfo\": \"none\", \"line\": {\"width\": 1.2, \"color\": \"red\"}, \"opacity\": 0.003}, {\"type\": \"scattergeo\", \"lon\": [20.0, 6.1667], \"lat\": [47.0, 49.75], \"mode\": \"lines\", \"hoverinfo\": \"none\", \"line\": {\"width\": 1.2, \"color\": \"red\"}, \"opacity\": 0.003}, {\"type\": \"scattergeo\", \"lon\": [-62.75, -2.0], \"lat\": [17.3333, 54.0], \"mode\": \"lines\", \"hoverinfo\": \"none\", \"line\": {\"width\": 1.2, \"color\": \"red\"}, \"opacity\": 0.003}, {\"type\": \"scattergeo\", \"lon\": [138.0, 105.0], \"lat\": [36.0, 35.0], \"mode\": \"lines\", \"hoverinfo\": \"none\", \"line\": {\"width\": 1.2, \"color\": \"red\"}, \"opacity\": 0.003}, {\"type\": \"scattergeo\", \"lon\": [-62.75, -88.75], \"lat\": [17.3333, 17.25], \"mode\": \"lines\", \"hoverinfo\": \"none\", \"line\": {\"width\": 1.2, \"color\": \"red\"}, \"opacity\": 0.003}, {\"type\": \"scattergeo\", \"lon\": [7.4, 103.8], \"lat\": [43.7333, 1.3667], \"mode\": \"lines\", \"hoverinfo\": \"none\", \"line\": {\"width\": 1.2, \"color\": \"red\"}, \"opacity\": 0.003}, {\"type\": \"scattergeo\", \"lon\": [114.1667, -95.0], \"lat\": [22.25, 60.0], \"mode\": \"lines\", \"hoverinfo\": \"none\", \"line\": {\"width\": 1.2, \"color\": \"red\"}, \"opacity\": 0.003}, {\"type\": \"scattergeo\", \"lon\": [33.0, 25.0], \"lat\": [35.0, 57.0], \"mode\": \"lines\", \"hoverinfo\": \"none\", \"line\": {\"width\": 1.2, \"color\": \"red\"}, \"opacity\": 0.003}, {\"type\": \"scattergeo\", \"lon\": [113.55, 103.8], \"lat\": [22.1667, 1.3667], \"mode\": \"lines\", \"hoverinfo\": \"none\", \"line\": {\"width\": 1.2, \"color\": \"red\"}, \"opacity\": 0.003}, {\"type\": \"scattergeo\", \"lon\": [22.0, 114.1667], \"lat\": [39.0, 22.25], \"mode\": \"lines\", \"hoverinfo\": \"none\", \"line\": {\"width\": 1.2, \"color\": \"red\"}, \"opacity\": 0.003}, {\"type\": \"scattergeo\", \"lon\": [105.0, -2.13], \"lat\": [35.0, 49.21], \"mode\": \"lines\", \"hoverinfo\": \"none\", \"line\": {\"width\": 1.2, \"color\": \"red\"}, \"opacity\": 0.003}, {\"type\": \"scattergeo\", \"lon\": [53.0, -2.56], \"lat\": [32.0, 49.5], \"mode\": \"lines\", \"hoverinfo\": \"none\", \"line\": {\"width\": 1.2, \"color\": \"red\"}, \"opacity\": 0.003}, {\"type\": \"scattergeo\", \"lon\": [25.0, -2.0], \"lat\": [57.0, 54.0], \"mode\": \"lines\", \"hoverinfo\": \"none\", \"line\": {\"width\": 1.2, \"color\": \"red\"}, \"opacity\": 0.003}, {\"type\": \"scattergeo\", \"lon\": [6.1667, 100.0], \"lat\": [49.75, 60.0], \"mode\": \"lines\", \"hoverinfo\": \"none\", \"line\": {\"width\": 1.2, \"color\": \"red\"}, \"opacity\": 0.003}, {\"type\": \"scattergeo\", \"lon\": [53.0, 8.0], \"lat\": [32.0, 47.0], \"mode\": \"lines\", \"hoverinfo\": \"none\", \"line\": {\"width\": 1.2, \"color\": \"red\"}, \"opacity\": 0.003}, {\"type\": \"scattergeo\", \"lon\": [12.8333, -76.0], \"lat\": [42.8333, 24.25], \"mode\": \"lines\", \"hoverinfo\": \"none\", \"line\": {\"width\": 1.2, \"color\": \"red\"}, \"opacity\": 0.00275}, {\"type\": \"scattergeo\", \"lon\": [24.0, -5.3667], \"lat\": [-29.0, 36.1833], \"mode\": \"lines\", \"hoverinfo\": \"none\", \"line\": {\"width\": 1.2, \"color\": \"red\"}, \"opacity\": 0.00275}, {\"type\": \"scattergeo\", \"lon\": [-71.5833, -2.13], \"lat\": [21.75, 49.21], \"mode\": \"lines\", \"hoverinfo\": \"none\", \"line\": {\"width\": 1.2, \"color\": \"red\"}, \"opacity\": 0.00275}, {\"type\": \"scattergeo\", \"lon\": [-71.5833, -5.3667], \"lat\": [21.75, 36.1833], \"mode\": \"lines\", \"hoverinfo\": \"none\", \"line\": {\"width\": 1.2, \"color\": \"red\"}, \"opacity\": 0.00275}, {\"type\": \"scattergeo\", \"lon\": [55.6667, -4.0], \"lat\": [-4.5833, 40.0], \"mode\": \"lines\", \"hoverinfo\": \"none\", \"line\": {\"width\": 1.2, \"color\": \"red\"}, \"opacity\": 0.00275}, {\"type\": \"scattergeo\", \"lon\": [53.0, -172.3333], \"lat\": [32.0, -13.5833], \"mode\": \"lines\", \"hoverinfo\": \"none\", \"line\": {\"width\": 1.2, \"color\": \"red\"}, \"opacity\": 0.00275}, {\"type\": \"scattergeo\", \"lon\": [55.6667, 1.6], \"lat\": [-4.5833, 42.5], \"mode\": \"lines\", \"hoverinfo\": \"none\", \"line\": {\"width\": 1.2, \"color\": \"red\"}, \"opacity\": 0.00275}, {\"type\": \"scattergeo\", \"lon\": [15.0, 6.1667], \"lat\": [62.0, 49.75], \"mode\": \"lines\", \"hoverinfo\": \"none\", \"line\": {\"width\": 1.2, \"color\": \"red\"}, \"opacity\": 0.00275}, {\"type\": \"scattergeo\", \"lon\": [21.0, -2.13], \"lat\": [44.0, 49.21], \"mode\": \"lines\", \"hoverinfo\": \"none\", \"line\": {\"width\": 1.2, \"color\": \"red\"}, \"opacity\": 0.00275}, {\"type\": \"scattergeo\", \"lon\": [30.0, -4.55], \"lat\": [-15.0, 54.23], \"mode\": \"lines\", \"hoverinfo\": \"none\", \"line\": {\"width\": 1.2, \"color\": \"red\"}, \"opacity\": 0.00275}, {\"type\": \"scattergeo\", \"lon\": [138.0, 121.0], \"lat\": [36.0, 23.5], \"mode\": \"lines\", \"hoverinfo\": \"none\", \"line\": {\"width\": 1.2, \"color\": \"red\"}, \"opacity\": 0.00275}, {\"type\": \"scattergeo\", \"lon\": [30.0, -2.13], \"lat\": [-20.0, 49.21], \"mode\": \"lines\", \"hoverinfo\": \"none\", \"line\": {\"width\": 1.2, \"color\": \"red\"}, \"opacity\": 0.00275}, {\"type\": \"scattergeo\", \"lon\": [9.0, 7.4], \"lat\": [51.0, 43.7333], \"mode\": \"lines\", \"hoverinfo\": \"none\", \"line\": {\"width\": 1.2, \"color\": \"red\"}, \"opacity\": 0.00275}, {\"type\": \"scattergeo\", \"lon\": [-172.3333, 6.1667], \"lat\": [-13.5833, 49.75], \"mode\": \"lines\", \"hoverinfo\": \"none\", \"line\": {\"width\": 1.2, \"color\": \"red\"}, \"opacity\": 0.00275}, {\"type\": \"scattergeo\", \"lon\": [35.0, -8.0], \"lat\": [39.0, 53.0], \"mode\": \"lines\", \"hoverinfo\": \"none\", \"line\": {\"width\": 1.2, \"color\": \"red\"}, \"opacity\": 0.00275}, {\"type\": \"scattergeo\", \"lon\": [-2.0, 133.0], \"lat\": [54.0, -27.0], \"mode\": \"lines\", \"hoverinfo\": \"none\", \"line\": {\"width\": 1.2, \"color\": \"red\"}, \"opacity\": 0.00275}, {\"type\": \"scattergeo\", \"lon\": [120.0, 100.0], \"lat\": [-5.0, 15.0], \"mode\": \"lines\", \"hoverinfo\": \"none\", \"line\": {\"width\": 1.2, \"color\": \"red\"}, \"opacity\": 0.00275}, {\"type\": \"scattergeo\", \"lon\": [2.0, -76.0], \"lat\": [46.0, 24.25], \"mode\": \"lines\", \"hoverinfo\": \"none\", \"line\": {\"width\": 1.2, \"color\": \"red\"}, \"opacity\": 0.00275}, {\"type\": \"scattergeo\", \"lon\": [-4.55, -80.0], \"lat\": [54.23, 9.0], \"mode\": \"lines\", \"hoverinfo\": \"none\", \"line\": {\"width\": 1.2, \"color\": \"red\"}, \"opacity\": 0.00275}, {\"type\": \"scattergeo\", \"lon\": [32.0, 14.5833], \"lat\": [49.0, 35.8333], \"mode\": \"lines\", \"hoverinfo\": \"none\", \"line\": {\"width\": 1.2, \"color\": \"red\"}, \"opacity\": 0.00275}, {\"type\": \"scattergeo\", \"lon\": [12.8333, -80.0], \"lat\": [42.8333, 9.0], \"mode\": \"lines\", \"hoverinfo\": \"none\", \"line\": {\"width\": 1.2, \"color\": \"red\"}, \"opacity\": 0.00275}, {\"type\": \"scattergeo\", \"lon\": [33.0, 34.75], \"lat\": [35.0, 31.5], \"mode\": \"lines\", \"hoverinfo\": \"none\", \"line\": {\"width\": 1.2, \"color\": \"red\"}, \"opacity\": 0.00275}, {\"type\": \"scattergeo\", \"lon\": [34.75, -80.0], \"lat\": [31.5, 9.0], \"mode\": \"lines\", \"hoverinfo\": \"none\", \"line\": {\"width\": 1.2, \"color\": \"red\"}, \"opacity\": 0.00275}, {\"type\": \"scattergeo\", \"lon\": [-97.0, 34.75], \"lat\": [38.0, 31.5], \"mode\": \"lines\", \"hoverinfo\": \"none\", \"line\": {\"width\": 1.2, \"color\": \"red\"}, \"opacity\": 0.00275}, {\"type\": \"scattergeo\", \"lon\": [-2.0, 9.0], \"lat\": [54.0, 51.0], \"mode\": \"lines\", \"hoverinfo\": \"none\", \"line\": {\"width\": 1.2, \"color\": \"red\"}, \"opacity\": 0.00275}, {\"type\": \"scattergeo\", \"lon\": [-2.0, -80.5], \"lat\": [54.0, 19.5], \"mode\": \"lines\", \"hoverinfo\": \"none\", \"line\": {\"width\": 1.2, \"color\": \"red\"}, \"opacity\": 0.00275}, {\"type\": \"scattergeo\", \"lon\": [12.8333, -2.56], \"lat\": [42.8333, 49.5], \"mode\": \"lines\", \"hoverinfo\": \"none\", \"line\": {\"width\": 1.2, \"color\": \"red\"}, \"opacity\": 0.00275}, {\"type\": \"scattergeo\", \"lon\": [-172.3333, -76.0], \"lat\": [-13.5833, 24.25], \"mode\": \"lines\", \"hoverinfo\": \"none\", \"line\": {\"width\": 1.2, \"color\": \"red\"}, \"opacity\": 0.00275}, {\"type\": \"scattergeo\", \"lon\": [28.0, 26.0], \"lat\": [53.0, 59.0], \"mode\": \"lines\", \"hoverinfo\": \"none\", \"line\": {\"width\": 1.2, \"color\": \"red\"}, \"opacity\": 0.00275}, {\"type\": \"scattergeo\", \"lon\": [100.0, -80.0], \"lat\": [60.0, 9.0], \"mode\": \"lines\", \"hoverinfo\": \"none\", \"line\": {\"width\": 1.2, \"color\": \"red\"}, \"opacity\": 0.00275}, {\"type\": \"scattergeo\", \"lon\": [30.0, -2.13], \"lat\": [27.0, 49.21], \"mode\": \"lines\", \"hoverinfo\": \"none\", \"line\": {\"width\": 1.2, \"color\": \"red\"}, \"opacity\": 0.00275}, {\"type\": \"scattergeo\", \"lon\": [-55.0, -2.0], \"lat\": [-10.0, 54.0], \"mode\": \"lines\", \"hoverinfo\": \"none\", \"line\": {\"width\": 1.2, \"color\": \"red\"}, \"opacity\": 0.00275}, {\"type\": \"scattergeo\", \"lon\": [-80.0, -76.0], \"lat\": [9.0, -10.0], \"mode\": \"lines\", \"hoverinfo\": \"none\", \"line\": {\"width\": 1.2, \"color\": \"red\"}, \"opacity\": 0.00275}, {\"type\": \"scattergeo\", \"lon\": [-2.56, 100.0], \"lat\": [49.5, 15.0], \"mode\": \"lines\", \"hoverinfo\": \"none\", \"line\": {\"width\": 1.2, \"color\": \"red\"}, \"opacity\": 0.00275}, {\"type\": \"scattergeo\", \"lon\": [47.6581, -2.56], \"lat\": [29.3375, 49.5], \"mode\": \"lines\", \"hoverinfo\": \"none\", \"line\": {\"width\": 1.2, \"color\": \"red\"}, \"opacity\": 0.00275}, {\"type\": \"scattergeo\", \"lon\": [12.0, 33.0], \"lat\": [6.0, 35.0], \"mode\": \"lines\", \"hoverinfo\": \"none\", \"line\": {\"width\": 1.2, \"color\": \"red\"}, \"opacity\": 0.00275}, {\"type\": \"scattergeo\", \"lon\": [14.5833, 100.0], \"lat\": [35.8333, 60.0], \"mode\": \"lines\", \"hoverinfo\": \"none\", \"line\": {\"width\": 1.2, \"color\": \"red\"}, \"opacity\": 0.00275}, {\"type\": \"scattergeo\", \"lon\": [114.1667, 57.55], \"lat\": [22.25, -20.2833], \"mode\": \"lines\", \"hoverinfo\": \"none\", \"line\": {\"width\": 1.2, \"color\": \"red\"}, \"opacity\": 0.00275}, {\"type\": \"scattergeo\", \"lon\": [114.1667, -76.0], \"lat\": [22.25, 24.25], \"mode\": \"lines\", \"hoverinfo\": \"none\", \"line\": {\"width\": 1.2, \"color\": \"red\"}, \"opacity\": 0.00275}, {\"type\": \"scattergeo\", \"lon\": [-72.4167, -2.13], \"lat\": [19.0, 49.21], \"mode\": \"lines\", \"hoverinfo\": \"none\", \"line\": {\"width\": 1.2, \"color\": \"red\"}, \"opacity\": 0.00275}, {\"type\": \"scattergeo\", \"lon\": [-70.6667, -56.0], \"lat\": [19.0, -33.0], \"mode\": \"lines\", \"hoverinfo\": \"none\", \"line\": {\"width\": 1.2, \"color\": \"red\"}, \"opacity\": 0.00275}, {\"type\": \"scattergeo\", \"lon\": [57.55, -56.0], \"lat\": [-20.2833, -33.0], \"mode\": \"lines\", \"hoverinfo\": \"none\", \"line\": {\"width\": 1.2, \"color\": \"red\"}, \"opacity\": 0.00275}, {\"type\": \"scattergeo\", \"lon\": [43.5, 100.0], \"lat\": [42.0, 60.0], \"mode\": \"lines\", \"hoverinfo\": \"none\", \"line\": {\"width\": 1.2, \"color\": \"red\"}, \"opacity\": 0.00275}, {\"type\": \"scattergeo\", \"lon\": [5.75, 100.0], \"lat\": [52.5, 60.0], \"mode\": \"lines\", \"hoverinfo\": \"none\", \"line\": {\"width\": 1.2, \"color\": \"red\"}, \"opacity\": 0.00275}, {\"type\": \"scattergeo\", \"lon\": [9.0, -2.0], \"lat\": [51.0, 54.0], \"mode\": \"lines\", \"hoverinfo\": \"none\", \"line\": {\"width\": 1.2, \"color\": \"red\"}, \"opacity\": 0.00275}, {\"type\": \"scattergeo\", \"lon\": [8.0, 9.0], \"lat\": [47.0, 51.0], \"mode\": \"lines\", \"hoverinfo\": \"none\", \"line\": {\"width\": 1.2, \"color\": \"red\"}, \"opacity\": 0.00275}, {\"type\": \"scattergeo\", \"lon\": [-62.75, -77.5], \"lat\": [17.3333, -2.0], \"mode\": \"lines\", \"hoverinfo\": \"none\", \"line\": {\"width\": 1.2, \"color\": \"red\"}, \"opacity\": 0.00275}, {\"type\": \"scattergeo\", \"lon\": [-8.0, 114.1667], \"lat\": [39.5, 22.25], \"mode\": \"lines\", \"hoverinfo\": \"none\", \"line\": {\"width\": 1.2, \"color\": \"red\"}, \"opacity\": 0.00275}, {\"type\": \"scattergeo\", \"lon\": [-5.3667, 114.1667], \"lat\": [36.1833, 22.25], \"mode\": \"lines\", \"hoverinfo\": \"none\", \"line\": {\"width\": 1.2, \"color\": \"red\"}, \"opacity\": 0.00275}, {\"type\": \"scattergeo\", \"lon\": [-72.0, -77.5], \"lat\": [4.0, -2.0], \"mode\": \"lines\", \"hoverinfo\": \"none\", \"line\": {\"width\": 1.2, \"color\": \"red\"}, \"opacity\": 0.00275}, {\"type\": \"scattergeo\", \"lon\": [35.8333, 100.0], \"lat\": [33.8333, 15.0], \"mode\": \"lines\", \"hoverinfo\": \"none\", \"line\": {\"width\": 1.2, \"color\": \"red\"}, \"opacity\": 0.00275}, {\"type\": \"scattergeo\", \"lon\": [-102.0, 14.5833], \"lat\": [23.0, 35.8333], \"mode\": \"lines\", \"hoverinfo\": \"none\", \"line\": {\"width\": 1.2, \"color\": \"red\"}, \"opacity\": 0.00275}, {\"type\": \"scattergeo\", \"lon\": [-4.0, -2.56], \"lat\": [40.0, 49.5], \"mode\": \"lines\", \"hoverinfo\": \"none\", \"line\": {\"width\": 1.2, \"color\": \"red\"}, \"opacity\": 0.00275}, {\"type\": \"scattergeo\", \"lon\": [51.25, -4.55], \"lat\": [25.5, 54.23], \"mode\": \"lines\", \"hoverinfo\": \"none\", \"line\": {\"width\": 1.2, \"color\": \"red\"}, \"opacity\": 0.00275}, {\"type\": \"scattergeo\", \"lon\": [-95.0, 33.0], \"lat\": [60.0, 35.0], \"mode\": \"lines\", \"hoverinfo\": \"none\", \"line\": {\"width\": 1.2, \"color\": \"red\"}, \"opacity\": 0.00275}, {\"type\": \"scattergeo\", \"lon\": [-95.0, -4.55], \"lat\": [60.0, 54.23], \"mode\": \"lines\", \"hoverinfo\": \"none\", \"line\": {\"width\": 1.2, \"color\": \"red\"}, \"opacity\": 0.00275}, {\"type\": \"scattergeo\", \"lon\": [47.6581, 36.0], \"lat\": [29.3375, 31.0], \"mode\": \"lines\", \"hoverinfo\": \"none\", \"line\": {\"width\": 1.2, \"color\": \"red\"}, \"opacity\": 0.00275}, {\"type\": \"scattergeo\", \"locations\": [\"HKG\", \"TWN\", \"CHN\", \"CHE\", \"SGP\", \"BRA\", \"PAN\", \"WSM\", \"LIE\", \"ESP\", \"THA\", \"COL\", \"JEY\", \"AND\", \"SYC\", \"IRL\", \"BEL\", \"ISR\", \"GIB\", \"GGY\", \"ARE\", \"CYP\", \"VEN\", \"IMN\", \"LBN\", \"DNK\", \"URY\", \"JOR\", \"BHS\", \"GBR\", \"BLZ\", \"LUX\", \"ECU\", \"GTM\", \"DEU\", \"MUS\", \"TUR\", \"USA\", \"MCO\", \"EST\", \"NIU\", \"CZE\", \"NLD\", \"HUN\", \"CRI\", \"PRT\", \"CYM\", \"ZAF\", \"MLT\", \"NZL\", \"CIV\", \"DOM\", \"FRA\", \"ITA\", \"CAN\", \"RUS\", \"GRC\", \"SAU\", \"QAT\", \"MEX\", \"PER\", \"BMU\", \"SLV\", \"AUS\", \"KNA\", \"ARG\", \"JPN\", \"AUT\", \"ASM\", \"PRY\", \"CHL\", \"EGY\", \"SWE\", \"VGB\", \"POL\", \"SVN\", \"PHL\", \"LCA\", \"IDN\", \"HND\", \"KOR\", \"VCT\", \"KWT\", \"HTI\", \"ZWE\", \"SDN\", \"NIC\", \"TCA\", \"LVA\", \"NGA\", \"UKR\", \"AIA\", \"KEN\", \"ROU\", \"NOR\", \"BOL\", \"LTU\", \"VNM\", \"ABW\", \"BGR\", \"MYS\", \"FIN\", \"IRN\", \"LSO\", \"MOZ\", \"MAC\", \"GHA\", \"GEO\", \"YEM\", \"ATG\", \"IND\", \"MKD\", \"MAR\", \"SEN\", \"DMA\", \"NAM\", \"BWA\", \"CUB\", \"LBR\", \"COK\", \"SYR\", \"BLR\", \"DJI\", \"BRB\", \"TUN\", \"BHR\", \"HRV\", \"NRU\", \"AZE\", \"PAK\", \"LBY\", \"UGA\", \"UZB\", \"TTO\", \"ISL\", \"LKA\", \"VIR\", \"TZA\", \"PRI\", \"MWI\", \"TCD\", \"GUM\", \"OMN\", \"JAM\", \"MLI\", \"MNE\", \"KAZ\", \"VUT\", \"MDA\", \"AGO\", \"BGD\", \"CAF\", \"BRN\", \"ALB\", \"CMR\", \"ZMB\", \"SVK\", \"KHM\", \"MNG\", \"BFA\", \"NPL\", \"CPV\", \"IRQ\", \"COD\", \"LAO\", \"SRB\", \"DZA\", \"MDV\", \"MDG\", \"SLE\", \"RWA\", \"SOM\", \"ARM\", \"SWZ\", \"TKM\", \"MTQ\", \"TJK\", \"FJI\", \"GAB\", \"MMR\", \"MHL\", \"GMB\", \"TGO\", \"BEN\", \"GIN\", \"SUR\", \"BIH\", \"NER\", \"ETH\", \"GUY\", \"PSE\", \"GNB\", \"SLB\", \"GNQ\", \"REU\", \"PNG\", \"GRD\", \"SMR\", \"KGZ\", \"PRK\"], \"lon\": [114.1667, 121.0, 105.0, 8.0, 103.8, -55.0, -80.0, -172.3333, 9.5333, -4.0, 100.0, -72.0, -2.13, 1.6, 55.6667, -8.0, 4.0, 34.75, -5.3667, -2.56, 54.0, 33.0, -66.0, -4.55, 35.8333, 10.0, -56.0, 36.0, -76.0, -2.0, -88.75, 6.1667, -77.5, -90.25, 9.0, 57.55, 35.0, -97.0, 7.4, 26.0, -169.8667, 15.5, 5.75, 20.0, -84.0, -8.0, -80.5, 24.0, 14.5833, 174.0, -5.0, -70.6667, 2.0, 12.8333, -95.0, 100.0, 22.0, 45.0, 51.25, -102.0, -76.0, -64.75, -88.9167, 133.0, -62.75, -64.0, 138.0, 13.3333, -170.0, -58.0, -71.0, 30.0, 15.0, -64.5, 20.0, 15.0, 122.0, -61.1333, 120.0, -86.5, 127.5, -61.2, 47.6581, -72.4167, 30.0, 30.0, -85.0, -71.5833, 25.0, 8.0, 32.0, -63.1667, 38.0, 25.0, 10.0, -65.0, 24.0, 106.0, -69.9667, 25.0, 112.5, 26.0, 53.0, 28.5, 35.0, 113.55, -2.0, 43.5, 48.0, -61.8, 77.0, 22.0, -5.0, -14.0, -61.3333, 17.0, 24.0, -80.0, -9.5, -159.7667, 38.0, 28.0, 43.0, -59.5333, 9.0, 50.55, 15.5, 166.9167, 47.5, 70.0, 17.0, 32.0, 64.0, -61.0, -18.0, 81.0, -64.8333, 35.0, -66.5, 34.0, 19.0, 144.7833, 57.0, -77.5, -4.0, 19.0, 68.0, 167.0, 29.0, 18.5, 90.0, 21.0, 114.6667, 20.0, 12.0, 30.0, 19.5, 105.0, 105.0, -2.0, 84.0, -24.0, 44.0, 25.0, 105.0, 21.0, 3.0, 73.0, 47.0, -11.5, 30.0, 49.0, 45.0, 31.5, 60.0, -61.0, 71.0, 175.0, 11.75, 98.0, 168.0, -16.5667, 1.1667, 2.25, -10.0, -56.0, 18.0, 8.0, 38.0, -59.0, 35.25, -15.0, 159.0, 10.0, 55.6, 147.0, -61.6667, 12.4167, 75.0, 127.0], \"lat\": [22.25, 23.5, 35.0, 47.0, 1.3667, -10.0, 9.0, -13.5833, 47.1667, 40.0, 15.0, 4.0, 49.21, 42.5, -4.5833, 53.0, 50.8333, 31.5, 36.1833, 49.5, 24.0, 35.0, 8.0, 54.23, 33.8333, 56.0, -33.0, 31.0, 24.25, 54.0, 17.25, 49.75, -2.0, 15.5, 51.0, -20.2833, 39.0, 38.0, 43.7333, 59.0, -19.0333, 49.75, 52.5, 47.0, 10.0, 39.5, 19.5, -29.0, 35.8333, -41.0, 8.0, 19.0, 46.0, 42.8333, 60.0, 60.0, 39.0, 25.0, 25.5, 23.0, -10.0, 32.3333, 13.8333, -27.0, 17.3333, -34.0, 36.0, 47.3333, -14.3333, -23.0, -30.0, 27.0, 62.0, 18.5, 52.0, 46.0, 13.0, 13.8833, -5.0, 15.0, 37.0, 13.25, 29.3375, 19.0, -20.0, 15.0, 13.0, 21.75, 57.0, 10.0, 49.0, 18.25, 1.0, 46.0, 62.0, -17.0, 56.0, 16.0, 12.5, 43.0, 2.5, 64.0, 32.0, -29.5, -18.25, 22.1667, 8.0, 42.0, 15.0, 17.05, 20.0, 41.8333, 32.0, 14.0, 15.4167, -22.0, -22.0, 21.5, 6.5, -21.2333, 35.0, 53.0, 11.5, 13.1667, 34.0, 26.0, 45.1667, -0.5333, 40.5, 30.0, 25.0, 1.0, 41.0, 11.0, 65.0, 7.0, 18.3333, -6.0, 18.25, -13.5, 15.0, 13.4667, 21.0, 18.25, 17.0, 42.0, 48.0, -16.0, 47.0, -12.5, 24.0, 7.0, 4.5, 41.0, 6.0, -15.0, 48.6667, 13.0, 46.0, 13.0, 28.0, 16.0, 33.0, 0.0, 18.0, 44.0, 28.0, 3.25, -20.0, 8.5, -2.0, 10.0, 40.0, -26.5, 40.0, 14.6667, 39.0, -18.0, -1.0, 22.0, 9.0, 13.4667, 8.0, 9.5, 11.0, 4.0, 44.0, 16.0, 8.0, 5.0, 32.0, 12.0, -8.0, 2.0, -21.1, -6.0, 12.1167, 43.7667, 41.0, 40.0], \"hoverinfo\": \"text\", \"text\": [\"Hong Kong\", \"Taiwan\", \"China\", \"Switzerland\", \"Singapore\", \"Brazil\", \"Panama\", \"Samoa\", \"Liechtenstein\", \"Spain\", \"Thailand\", \"Colombia\", \"Jersey\", \"Andorra\", \"Seychelles\", \"Ireland\", \"Belgium\", \"Israel\", \"Gibraltar\", \"Guernsey\", \"United Arab Emirates\", \"Cyprus\", \"Venezuela\", \"Isle of Man\", \"Lebanon\", \"Denmark\", \"Uruguay\", \"Jordan\", \"Bahamas\", \"United Kingdom\", \"Belize\", \"Luxembourg\", \"Ecuador\", \"Guatemala\", \"Germany\", \"Mauritius\", \"Turkey\", \"United States\", \"Monaco\", \"Estonia\", \"Niue\", \"Czech Republic\", \"Netherlands\", \"Hungary\", \"Costa Rica\", \"Portugal\", \"Cayman Islands\", \"South Africa\", \"Malta\", \"New Zealand\", \"C\\u00f4te d'Ivoire\", \"Dominican Republic\", \"France\", \"Italy\", \"Canada\", \"Russia\", \"Greece\", \"Saudi Arabia\", \"Qatar\", \"Mexico\", \"Peru\", \"Bermuda\", \"El Salvador\", \"Australia\", \"Saint Kitts and Nevis\", \"Argentina\", \"Japan\", \"Austria\", \"American Samoa\", \"Paraguay\", \"Chile\", \"Egypt\", \"Sweden\", \"British Virgin Islands\", \"Poland\", \"Slovenia\", \"Philippines\", \"Saint Lucia\", \"Indonesia\", \"Honduras\", \"South Korea\", \"Saint Vincent and the Grenadines\", \"Kuwait\", \"Haiti\", \"Zimbabwe\", \"Sudan\", \"Nicaragua\", \"Turks and Caicos Islands\", \"Latvia\", \"Nigeria\", \"Ukraine\", \"Anguilla\", \"Kenya\", \"Romania\", \"Norway\", \"Bolivia\", \"Lithuania\", \"Viet Nam\", \"Aruba\", \"Bulgaria\", \"Malaysia\", \"Finland\", \"Iran\", \"Lesotho\", \"Mozambique\", \"Macao\", \"Ghana\", \"Georgia\", \"Yemen\", \"Antigua and Barbuda\", \"India\", \"Macedonia\", \"Morocco\", \"Senegal\", \"Dominica\", \"Namibia\", \"Botswana\", \"Cuba\", \"Liberia\", \"Cook Islands\", \"Syria\", \"Belarus\", \"Djibouti\", \"Barbados\", \"Tunisia\", \"Bahrain\", \"Croatia\", \"Nauru\", \"Azerbaijan\", \"Pakistan\", \"Libya\", \"Uganda\", \"Uzbekistan\", \"Trinidad and Tobago\", \"Iceland\", \"Sri Lanka\", \"U.S. Virgin Islands\", \"Tanzania\", \"Puerto Rico\", \"Malawi\", \"Chad\", \"Guam\", \"Oman\", \"Jamaica\", \"Mali\", \"Montenegro\", \"Kazakhstan\", \"Vanuatu\", \"Moldova\", \"Angola\", \"Bangladesh\", \"Central African Republic\", \"Brunei\", \"Albania\", \"Cameroon\", \"Zambia\", \"Slovakia\", \"Cambodia\", \"Mongolia\", \"Burkina Faso\", \"Nepal\", \"Cape Verde\", \"Iraq\", \"DR Congo\", \"Laos\", \"Serbia\", \"Algeria\", \"Maldives\", \"Madagascar\", \"Sierra Leone\", \"Rwanda\", \"Somalia\", \"Armenia\", \"Swaziland\", \"Turkmenistan\", \"Martinique\", \"Tajikistan\", \"Fiji\", \"Gabon\", \"Myanmar\", \"Marshall Islands\", \"Gambia\", \"Togo\", \"Benin\", \"Guinea\", \"Suriname\", \"Bosnia and Herzegovina\", \"Niger\", \"Ethiopia\", \"Guyana\", \"Palestine\", \"Guinea-Bissau\", \"Solomon Islands\", \"Equatorial Guinea\", \"R\\u00e9union\", \"Papua New Guinea\", \"Grenada\", \"San Marino\", \"Kyrgyzstan\", \"North Korea\"], \"mode\": \"markers\", \"marker\": {\"size\": 2, \"color\": \"rgb(255, 0, 0)\", \"line\": {\"width\": 3, \"color\": \"rgba(68, 68, 68, 0)\"}}}], {\"title\": \"Panama Papers edges\", \"showlegend\": false, \"geo\": {\"showcountries\": true, \"countrycolor\": \"rgb(217, 217, 217)\", \"showframe\": false, \"resolution\": 10, \"showcoastlines\": false, \"projection\": {\"type\": \"Mercator\"}, \"bgcolor\": \"rgba(255, 255, 255, 0.0)\"}}, {\"showLink\": true, \"linkText\": \"Export to plot.ly\", \"plotlyServerURL\": \"https://plot.ly\"})});</script><script type=\"text/javascript\">window.addEventListener(\"resize\", function(){window._Plotly.Plots.resize(document.getElementById(\"b39730a2-fc3d-4c90-a12d-edd04f248e0a\"));});</script>"
      ],
      "text/vnd.plotly.v1+html": [
       "<div id=\"b39730a2-fc3d-4c90-a12d-edd04f248e0a\" style=\"height: 525px; width: 100%;\" class=\"plotly-graph-div\"></div><script type=\"text/javascript\">require([\"plotly\"], function(Plotly) { window.PLOTLYENV=window.PLOTLYENV || {};window.PLOTLYENV.BASE_URL=\"https://plot.ly\";Plotly.newPlot(\"b39730a2-fc3d-4c90-a12d-edd04f248e0a\", [{\"type\": \"scattergeo\", \"lon\": [105.0, 114.1667], \"lat\": [35.0, 22.25], \"mode\": \"lines\", \"hoverinfo\": \"none\", \"line\": {\"width\": 1.2, \"color\": \"red\"}, \"opacity\": 5.51}, {\"type\": \"scattergeo\", \"lon\": [-64.5, 114.1667], \"lat\": [18.5, 22.25], \"mode\": \"lines\", \"hoverinfo\": \"none\", \"line\": {\"width\": 1.2, \"color\": \"red\"}, \"opacity\": 1.3205}, {\"type\": \"scattergeo\", \"lon\": [-64.5, 8.0], \"lat\": [18.5, 47.0], \"mode\": \"lines\", \"hoverinfo\": \"none\", \"line\": {\"width\": 1.2, \"color\": \"red\"}, \"opacity\": 1.0875}, {\"type\": \"scattergeo\", \"lon\": [6.1667, -80.0], \"lat\": [49.75, 9.0], \"mode\": \"lines\", \"hoverinfo\": \"none\", \"line\": {\"width\": 1.2, \"color\": \"red\"}, \"opacity\": 1.04825}, {\"type\": \"scattergeo\", \"lon\": [-80.0, 8.0], \"lat\": [9.0, 47.0], \"mode\": \"lines\", \"hoverinfo\": \"none\", \"line\": {\"width\": 1.2, \"color\": \"red\"}, \"opacity\": 1.02325}, {\"type\": \"scattergeo\", \"lon\": [-76.0, -76.0], \"lat\": [-10.0, 24.25], \"mode\": \"lines\", \"hoverinfo\": \"none\", \"line\": {\"width\": 1.2, \"color\": \"red\"}, \"opacity\": 0.958}, {\"type\": \"scattergeo\", \"lon\": [-172.3333, 114.1667], \"lat\": [-13.5833, 22.25], \"mode\": \"lines\", \"hoverinfo\": \"none\", \"line\": {\"width\": 1.2, \"color\": \"red\"}, \"opacity\": 0.7105}, {\"type\": \"scattergeo\", \"lon\": [55.6667, 54.0], \"lat\": [-4.5833, 24.0], \"mode\": \"lines\", \"hoverinfo\": \"none\", \"line\": {\"width\": 1.2, \"color\": \"red\"}, \"opacity\": 0.65}, {\"type\": \"scattergeo\", \"lon\": [33.0, 54.0], \"lat\": [35.0, 24.0], \"mode\": \"lines\", \"hoverinfo\": \"none\", \"line\": {\"width\": 1.2, \"color\": \"red\"}, \"opacity\": 0.5165}, {\"type\": \"scattergeo\", \"lon\": [-97.0, 114.1667], \"lat\": [38.0, 22.25], \"mode\": \"lines\", \"hoverinfo\": \"none\", \"line\": {\"width\": 1.2, \"color\": \"red\"}, \"opacity\": 0.466}, {\"type\": \"scattergeo\", \"lon\": [24.0, -2.13], \"lat\": [-29.0, 49.21], \"mode\": \"lines\", \"hoverinfo\": \"none\", \"line\": {\"width\": 1.2, \"color\": \"red\"}, \"opacity\": 0.45}, {\"type\": \"scattergeo\", \"lon\": [15.5, -172.3333], \"lat\": [49.75, -13.5833], \"mode\": \"lines\", \"hoverinfo\": \"none\", \"line\": {\"width\": 1.2, \"color\": \"red\"}, \"opacity\": 0.40775}, {\"type\": \"scattergeo\", \"lon\": [-2.0, 36.0], \"lat\": [54.0, 31.0], \"mode\": \"lines\", \"hoverinfo\": \"none\", \"line\": {\"width\": 1.2, \"color\": \"red\"}, \"opacity\": 0.4075}, {\"type\": \"scattergeo\", \"lon\": [121.0, 114.1667], \"lat\": [23.5, 22.25], \"mode\": \"lines\", \"hoverinfo\": \"none\", \"line\": {\"width\": 1.2, \"color\": \"red\"}, \"opacity\": 0.40375}, {\"type\": \"scattergeo\", \"lon\": [-95.0, -88.75], \"lat\": [60.0, 17.25], \"mode\": \"lines\", \"hoverinfo\": \"none\", \"line\": {\"width\": 1.2, \"color\": \"red\"}, \"opacity\": 0.2945}, {\"type\": \"scattergeo\", \"lon\": [112.5, 103.8], \"lat\": [2.5, 1.3667], \"mode\": \"lines\", \"hoverinfo\": \"none\", \"line\": {\"width\": 1.2, \"color\": \"red\"}, \"opacity\": 0.27475}, {\"type\": \"scattergeo\", \"lon\": [-64.5, 103.8], \"lat\": [18.5, 1.3667], \"mode\": \"lines\", \"hoverinfo\": \"none\", \"line\": {\"width\": 1.2, \"color\": \"red\"}, \"opacity\": 0.258}, {\"type\": \"scattergeo\", \"lon\": [-2.13, -2.0], \"lat\": [49.21, 54.0], \"mode\": \"lines\", \"hoverinfo\": \"none\", \"line\": {\"width\": 1.2, \"color\": \"red\"}, \"opacity\": 0.249}, {\"type\": \"scattergeo\", \"lon\": [120.0, 103.8], \"lat\": [-5.0, 1.3667], \"mode\": \"lines\", \"hoverinfo\": \"none\", \"line\": {\"width\": 1.2, \"color\": \"red\"}, \"opacity\": 0.23725}, {\"type\": \"scattergeo\", \"lon\": [-2.13, 8.0], \"lat\": [49.21, 47.0], \"mode\": \"lines\", \"hoverinfo\": \"none\", \"line\": {\"width\": 1.2, \"color\": \"red\"}, \"opacity\": 0.22325}, {\"type\": \"scattergeo\", \"lon\": [-64.5, -2.13], \"lat\": [18.5, 49.21], \"mode\": \"lines\", \"hoverinfo\": \"none\", \"line\": {\"width\": 1.2, \"color\": \"red\"}, \"opacity\": 0.21625}, {\"type\": \"scattergeo\", \"lon\": [33.0, 55.6667], \"lat\": [35.0, -4.5833], \"mode\": \"lines\", \"hoverinfo\": \"none\", \"line\": {\"width\": 1.2, \"color\": \"red\"}, \"opacity\": 0.20925}, {\"type\": \"scattergeo\", \"lon\": [100.0, 8.0], \"lat\": [60.0, 47.0], \"mode\": \"lines\", \"hoverinfo\": \"none\", \"line\": {\"width\": 1.2, \"color\": \"red\"}, \"opacity\": 0.20725}, {\"type\": \"scattergeo\", \"lon\": [-2.0, 8.0], \"lat\": [54.0, 47.0], \"mode\": \"lines\", \"hoverinfo\": \"none\", \"line\": {\"width\": 1.2, \"color\": \"red\"}, \"opacity\": 0.20725}, {\"type\": \"scattergeo\", \"lon\": [-64.0, -56.0], \"lat\": [-34.0, -33.0], \"mode\": \"lines\", \"hoverinfo\": \"none\", \"line\": {\"width\": 1.2, \"color\": \"red\"}, \"opacity\": 0.207}, {\"type\": \"scattergeo\", \"lon\": [24.0, -2.56], \"lat\": [-29.0, 49.5], \"mode\": \"lines\", \"hoverinfo\": \"none\", \"line\": {\"width\": 1.2, \"color\": \"red\"}, \"opacity\": 0.206}, {\"type\": \"scattergeo\", \"lon\": [-64.5, 54.0], \"lat\": [18.5, 24.0], \"mode\": \"lines\", \"hoverinfo\": \"none\", \"line\": {\"width\": 1.2, \"color\": \"red\"}, \"opacity\": 0.2015}, {\"type\": \"scattergeo\", \"lon\": [-76.0, 8.0], \"lat\": [24.25, 47.0], \"mode\": \"lines\", \"hoverinfo\": \"none\", \"line\": {\"width\": 1.2, \"color\": \"red\"}, \"opacity\": 0.2005}, {\"type\": \"scattergeo\", \"lon\": [-2.0, -5.3667], \"lat\": [54.0, 36.1833], \"mode\": \"lines\", \"hoverinfo\": \"none\", \"line\": {\"width\": 1.2, \"color\": \"red\"}, \"opacity\": 0.195}, {\"type\": \"scattergeo\", \"lon\": [103.8, 114.1667], \"lat\": [1.3667, 22.25], \"mode\": \"lines\", \"hoverinfo\": \"none\", \"line\": {\"width\": 1.2, \"color\": \"red\"}, \"opacity\": 0.18275}, {\"type\": \"scattergeo\", \"lon\": [12.8333, 7.4], \"lat\": [42.8333, 43.7333], \"mode\": \"lines\", \"hoverinfo\": \"none\", \"line\": {\"width\": 1.2, \"color\": \"red\"}, \"opacity\": 0.179}, {\"type\": \"scattergeo\", \"lon\": [-64.5, -4.55], \"lat\": [18.5, 54.23], \"mode\": \"lines\", \"hoverinfo\": \"none\", \"line\": {\"width\": 1.2, \"color\": \"red\"}, \"opacity\": 0.17075}, {\"type\": \"scattergeo\", \"lon\": [20.0, 33.0], \"lat\": [47.0, 35.0], \"mode\": \"lines\", \"hoverinfo\": \"none\", \"line\": {\"width\": 1.2, \"color\": \"red\"}, \"opacity\": 0.16675}, {\"type\": \"scattergeo\", \"lon\": [-64.5, -2.0], \"lat\": [18.5, 54.0], \"mode\": \"lines\", \"hoverinfo\": \"none\", \"line\": {\"width\": 1.2, \"color\": \"red\"}, \"opacity\": 0.1625}, {\"type\": \"scattergeo\", \"lon\": [-55.0, -56.0], \"lat\": [-10.0, -33.0], \"mode\": \"lines\", \"hoverinfo\": \"none\", \"line\": {\"width\": 1.2, \"color\": \"red\"}, \"opacity\": 0.162}, {\"type\": \"scattergeo\", \"lon\": [-2.0, -2.13], \"lat\": [54.0, 49.21], \"mode\": \"lines\", \"hoverinfo\": \"none\", \"line\": {\"width\": 1.2, \"color\": \"red\"}, \"opacity\": 0.1585}, {\"type\": \"scattergeo\", \"lon\": [54.0, -2.0], \"lat\": [24.0, 54.0], \"mode\": \"lines\", \"hoverinfo\": \"none\", \"line\": {\"width\": 1.2, \"color\": \"red\"}, \"opacity\": 0.15375}, {\"type\": \"scattergeo\", \"lon\": [133.0, 114.1667], \"lat\": [-27.0, 22.25], \"mode\": \"lines\", \"hoverinfo\": \"none\", \"line\": {\"width\": 1.2, \"color\": \"red\"}, \"opacity\": 0.14975}, {\"type\": \"scattergeo\", \"lon\": [-2.0, -2.56], \"lat\": [54.0, 49.5], \"mode\": \"lines\", \"hoverinfo\": \"none\", \"line\": {\"width\": 1.2, \"color\": \"red\"}, \"opacity\": 0.149}, {\"type\": \"scattergeo\", \"lon\": [55.6667, -80.0], \"lat\": [-4.5833, 9.0], \"mode\": \"lines\", \"hoverinfo\": \"none\", \"line\": {\"width\": 1.2, \"color\": \"red\"}, \"opacity\": 0.14875}, {\"type\": \"scattergeo\", \"lon\": [-2.13, -2.56], \"lat\": [49.21, 49.5], \"mode\": \"lines\", \"hoverinfo\": \"none\", \"line\": {\"width\": 1.2, \"color\": \"red\"}, \"opacity\": 0.1455}, {\"type\": \"scattergeo\", \"lon\": [-76.0, 54.0], \"lat\": [24.25, 24.0], \"mode\": \"lines\", \"hoverinfo\": \"none\", \"line\": {\"width\": 1.2, \"color\": \"red\"}, \"opacity\": 0.144}, {\"type\": \"scattergeo\", \"lon\": [-80.0, -76.0], \"lat\": [9.0, 24.25], \"mode\": \"lines\", \"hoverinfo\": \"none\", \"line\": {\"width\": 1.2, \"color\": \"red\"}, \"opacity\": 0.141}, {\"type\": \"scattergeo\", \"lon\": [100.0, 54.0], \"lat\": [60.0, 24.0], \"mode\": \"lines\", \"hoverinfo\": \"none\", \"line\": {\"width\": 1.2, \"color\": \"red\"}, \"opacity\": 0.1385}, {\"type\": \"scattergeo\", \"lon\": [-172.3333, -80.0], \"lat\": [-13.5833, 9.0], \"mode\": \"lines\", \"hoverinfo\": \"none\", \"line\": {\"width\": 1.2, \"color\": \"red\"}, \"opacity\": 0.134}, {\"type\": \"scattergeo\", \"lon\": [-62.75, 33.0], \"lat\": [17.3333, 35.0], \"mode\": \"lines\", \"hoverinfo\": \"none\", \"line\": {\"width\": 1.2, \"color\": \"red\"}, \"opacity\": 0.13275}, {\"type\": \"scattergeo\", \"lon\": [-64.5, -5.3667], \"lat\": [18.5, 36.1833], \"mode\": \"lines\", \"hoverinfo\": \"none\", \"line\": {\"width\": 1.2, \"color\": \"red\"}, \"opacity\": 0.1265}, {\"type\": \"scattergeo\", \"lon\": [167.0, -172.3333], \"lat\": [-16.0, -13.5833], \"mode\": \"lines\", \"hoverinfo\": \"none\", \"line\": {\"width\": 1.2, \"color\": \"red\"}, \"opacity\": 0.12525}, {\"type\": \"scattergeo\", \"lon\": [-64.5, -2.56], \"lat\": [18.5, 49.5], \"mode\": \"lines\", \"hoverinfo\": \"none\", \"line\": {\"width\": 1.2, \"color\": \"red\"}, \"opacity\": 0.125}, {\"type\": \"scattergeo\", \"lon\": [33.0, -172.3333], \"lat\": [35.0, -13.5833], \"mode\": \"lines\", \"hoverinfo\": \"none\", \"line\": {\"width\": 1.2, \"color\": \"red\"}, \"opacity\": 0.123}, {\"type\": \"scattergeo\", \"lon\": [55.6667, 100.0], \"lat\": [-4.5833, 60.0], \"mode\": \"lines\", \"hoverinfo\": \"none\", \"line\": {\"width\": 1.2, \"color\": \"red\"}, \"opacity\": 0.11725}, {\"type\": \"scattergeo\", \"lon\": [9.5333, 8.0], \"lat\": [47.1667, 47.0], \"mode\": \"lines\", \"hoverinfo\": \"none\", \"line\": {\"width\": 1.2, \"color\": \"red\"}, \"opacity\": 0.11675}, {\"type\": \"scattergeo\", \"lon\": [-2.0, -4.55], \"lat\": [54.0, 54.23], \"mode\": \"lines\", \"hoverinfo\": \"none\", \"line\": {\"width\": 1.2, \"color\": \"red\"}, \"opacity\": 0.111}, {\"type\": \"scattergeo\", \"lon\": [-80.0, 6.1667], \"lat\": [9.0, 49.75], \"mode\": \"lines\", \"hoverinfo\": \"none\", \"line\": {\"width\": 1.2, \"color\": \"red\"}, \"opacity\": 0.11075}, {\"type\": \"scattergeo\", \"lon\": [35.0, 8.0], \"lat\": [39.0, 47.0], \"mode\": \"lines\", \"hoverinfo\": \"none\", \"line\": {\"width\": 1.2, \"color\": \"red\"}, \"opacity\": 0.1095}, {\"type\": \"scattergeo\", \"lon\": [-172.3333, 105.0], \"lat\": [-13.5833, 35.0], \"mode\": \"lines\", \"hoverinfo\": \"none\", \"line\": {\"width\": 1.2, \"color\": \"red\"}, \"opacity\": 0.10775}, {\"type\": \"scattergeo\", \"lon\": [112.5, 114.1667], \"lat\": [2.5, 22.25], \"mode\": \"lines\", \"hoverinfo\": \"none\", \"line\": {\"width\": 1.2, \"color\": \"red\"}, \"opacity\": 0.106}, {\"type\": \"scattergeo\", \"lon\": [-61.3333, -172.3333], \"lat\": [15.4167, -13.5833], \"mode\": \"lines\", \"hoverinfo\": \"none\", \"line\": {\"width\": 1.2, \"color\": \"red\"}, \"opacity\": 0.1}, {\"type\": \"scattergeo\", \"lon\": [8.0, 54.0], \"lat\": [47.0, 24.0], \"mode\": \"lines\", \"hoverinfo\": \"none\", \"line\": {\"width\": 1.2, \"color\": \"red\"}, \"opacity\": 0.09975}, {\"type\": \"scattergeo\", \"lon\": [-55.0, 8.0], \"lat\": [-10.0, 47.0], \"mode\": \"lines\", \"hoverinfo\": \"none\", \"line\": {\"width\": 1.2, \"color\": \"red\"}, \"opacity\": 0.09825}, {\"type\": \"scattergeo\", \"lon\": [-2.56, 8.0], \"lat\": [49.5, 47.0], \"mode\": \"lines\", \"hoverinfo\": \"none\", \"line\": {\"width\": 1.2, \"color\": \"red\"}, \"opacity\": 0.0965}, {\"type\": \"scattergeo\", \"lon\": [-64.5, 33.0], \"lat\": [18.5, 35.0], \"mode\": \"lines\", \"hoverinfo\": \"none\", \"line\": {\"width\": 1.2, \"color\": \"red\"}, \"opacity\": 0.096}, {\"type\": \"scattergeo\", \"lon\": [-80.5, 114.1667], \"lat\": [19.5, 22.25], \"mode\": \"lines\", \"hoverinfo\": \"none\", \"line\": {\"width\": 1.2, \"color\": \"red\"}, \"opacity\": 0.0945}, {\"type\": \"scattergeo\", \"lon\": [-2.0, 114.1667], \"lat\": [54.0, 22.25], \"mode\": \"lines\", \"hoverinfo\": \"none\", \"line\": {\"width\": 1.2, \"color\": \"red\"}, \"opacity\": 0.09275}, {\"type\": \"scattergeo\", \"lon\": [-4.55, -2.13], \"lat\": [54.23, 49.21], \"mode\": \"lines\", \"hoverinfo\": \"none\", \"line\": {\"width\": 1.2, \"color\": \"red\"}, \"opacity\": 0.0915}, {\"type\": \"scattergeo\", \"lon\": [-95.0, 114.1667], \"lat\": [60.0, 22.25], \"mode\": \"lines\", \"hoverinfo\": \"none\", \"line\": {\"width\": 1.2, \"color\": \"red\"}, \"opacity\": 0.08575}, {\"type\": \"scattergeo\", \"lon\": [-2.56, -2.0], \"lat\": [49.5, 54.0], \"mode\": \"lines\", \"hoverinfo\": \"none\", \"line\": {\"width\": 1.2, \"color\": \"red\"}, \"opacity\": 0.084}, {\"type\": \"scattergeo\", \"lon\": [-76.0, 103.8], \"lat\": [24.25, 1.3667], \"mode\": \"lines\", \"hoverinfo\": \"none\", \"line\": {\"width\": 1.2, \"color\": \"red\"}, \"opacity\": 0.08325}, {\"type\": \"scattergeo\", \"lon\": [138.0, 114.1667], \"lat\": [36.0, 22.25], \"mode\": \"lines\", \"hoverinfo\": \"none\", \"line\": {\"width\": 1.2, \"color\": \"red\"}, \"opacity\": 0.0825}, {\"type\": \"scattergeo\", \"lon\": [-64.5, 6.1667], \"lat\": [18.5, 49.75], \"mode\": \"lines\", \"hoverinfo\": \"none\", \"line\": {\"width\": 1.2, \"color\": \"red\"}, \"opacity\": 0.08125}, {\"type\": \"scattergeo\", \"lon\": [-172.3333, 8.0], \"lat\": [-13.5833, 47.0], \"mode\": \"lines\", \"hoverinfo\": \"none\", \"line\": {\"width\": 1.2, \"color\": \"red\"}, \"opacity\": 0.08075}, {\"type\": \"scattergeo\", \"lon\": [54.0, 36.0], \"lat\": [24.0, 31.0], \"mode\": \"lines\", \"hoverinfo\": \"none\", \"line\": {\"width\": 1.2, \"color\": \"red\"}, \"opacity\": 0.08025}, {\"type\": \"scattergeo\", \"lon\": [8.0, 57.55], \"lat\": [47.0, -20.2833], \"mode\": \"lines\", \"hoverinfo\": \"none\", \"line\": {\"width\": 1.2, \"color\": \"red\"}, \"opacity\": 0.07975}, {\"type\": \"scattergeo\", \"lon\": [-64.5, 105.0], \"lat\": [18.5, 35.0], \"mode\": \"lines\", \"hoverinfo\": \"none\", \"line\": {\"width\": 1.2, \"color\": \"red\"}, \"opacity\": 0.078}, {\"type\": \"scattergeo\", \"lon\": [-64.5, 100.0], \"lat\": [18.5, 60.0], \"mode\": \"lines\", \"hoverinfo\": \"none\", \"line\": {\"width\": 1.2, \"color\": \"red\"}, \"opacity\": 0.077}, {\"type\": \"scattergeo\", \"lon\": [-55.0, -97.0], \"lat\": [-10.0, 38.0], \"mode\": \"lines\", \"hoverinfo\": \"none\", \"line\": {\"width\": 1.2, \"color\": \"red\"}, \"opacity\": 0.075}, {\"type\": \"scattergeo\", \"lon\": [-80.0, 9.5333], \"lat\": [9.0, 47.1667], \"mode\": \"lines\", \"hoverinfo\": \"none\", \"line\": {\"width\": 1.2, \"color\": \"red\"}, \"opacity\": 0.07425}, {\"type\": \"scattergeo\", \"lon\": [-2.13, 57.55], \"lat\": [49.21, -20.2833], \"mode\": \"lines\", \"hoverinfo\": \"none\", \"line\": {\"width\": 1.2, \"color\": \"red\"}, \"opacity\": 0.07425}, {\"type\": \"scattergeo\", \"lon\": [2.0, 8.0], \"lat\": [46.0, 47.0], \"mode\": \"lines\", \"hoverinfo\": \"none\", \"line\": {\"width\": 1.2, \"color\": \"red\"}, \"opacity\": 0.07425}, {\"type\": \"scattergeo\", \"lon\": [-76.0, 33.0], \"lat\": [24.25, 35.0], \"mode\": \"lines\", \"hoverinfo\": \"none\", \"line\": {\"width\": 1.2, \"color\": \"red\"}, \"opacity\": 0.074}, {\"type\": \"scattergeo\", \"lon\": [-62.75, -172.3333], \"lat\": [17.3333, -13.5833], \"mode\": \"lines\", \"hoverinfo\": \"none\", \"line\": {\"width\": 1.2, \"color\": \"red\"}, \"opacity\": 0.07375}, {\"type\": \"scattergeo\", \"lon\": [-80.0, -2.0], \"lat\": [9.0, 54.0], \"mode\": \"lines\", \"hoverinfo\": \"none\", \"line\": {\"width\": 1.2, \"color\": \"red\"}, \"opacity\": 0.0735}, {\"type\": \"scattergeo\", \"lon\": [35.8333, 36.0], \"lat\": [33.8333, 31.0], \"mode\": \"lines\", \"hoverinfo\": \"none\", \"line\": {\"width\": 1.2, \"color\": \"red\"}, \"opacity\": 0.07075}, {\"type\": \"scattergeo\", \"lon\": [-4.55, 33.0], \"lat\": [54.23, 35.0], \"mode\": \"lines\", \"hoverinfo\": \"none\", \"line\": {\"width\": 1.2, \"color\": \"red\"}, \"opacity\": 0.07075}, {\"type\": \"scattergeo\", \"lon\": [-2.56, -2.13], \"lat\": [49.5, 49.21], \"mode\": \"lines\", \"hoverinfo\": \"none\", \"line\": {\"width\": 1.2, \"color\": \"red\"}, \"opacity\": 0.0695}, {\"type\": \"scattergeo\", \"lon\": [55.6667, 8.0], \"lat\": [-4.5833, 47.0], \"mode\": \"lines\", \"hoverinfo\": \"none\", \"line\": {\"width\": 1.2, \"color\": \"red\"}, \"opacity\": 0.06925}, {\"type\": \"scattergeo\", \"lon\": [113.55, 114.1667], \"lat\": [22.1667, 22.25], \"mode\": \"lines\", \"hoverinfo\": \"none\", \"line\": {\"width\": 1.2, \"color\": \"red\"}, \"opacity\": 0.0665}, {\"type\": \"scattergeo\", \"lon\": [57.55, -172.3333], \"lat\": [-20.2833, -13.5833], \"mode\": \"lines\", \"hoverinfo\": \"none\", \"line\": {\"width\": 1.2, \"color\": \"red\"}, \"opacity\": 0.06525}, {\"type\": \"scattergeo\", \"lon\": [-80.0, 54.0], \"lat\": [9.0, 24.0], \"mode\": \"lines\", \"hoverinfo\": \"none\", \"line\": {\"width\": 1.2, \"color\": \"red\"}, \"opacity\": 0.065}, {\"type\": \"scattergeo\", \"lon\": [8.0, -169.8667], \"lat\": [47.0, -19.0333], \"mode\": \"lines\", \"hoverinfo\": \"none\", \"line\": {\"width\": 1.2, \"color\": \"red\"}, \"opacity\": 0.06325}, {\"type\": \"scattergeo\", \"lon\": [-4.0, 8.0], \"lat\": [40.0, 47.0], \"mode\": \"lines\", \"hoverinfo\": \"none\", \"line\": {\"width\": 1.2, \"color\": \"red\"}, \"opacity\": 0.063}, {\"type\": \"scattergeo\", \"lon\": [-64.5, 9.5333], \"lat\": [18.5, 47.1667], \"mode\": \"lines\", \"hoverinfo\": \"none\", \"line\": {\"width\": 1.2, \"color\": \"red\"}, \"opacity\": 0.0625}, {\"type\": \"scattergeo\", \"lon\": [-172.3333, 121.0], \"lat\": [-13.5833, 23.5], \"mode\": \"lines\", \"hoverinfo\": \"none\", \"line\": {\"width\": 1.2, \"color\": \"red\"}, \"opacity\": 0.06225}, {\"type\": \"scattergeo\", \"lon\": [8.0, -76.0], \"lat\": [47.0, 24.25], \"mode\": \"lines\", \"hoverinfo\": \"none\", \"line\": {\"width\": 1.2, \"color\": \"red\"}, \"opacity\": 0.06125}, {\"type\": \"scattergeo\", \"lon\": [122.0, 114.1667], \"lat\": [13.0, 22.25], \"mode\": \"lines\", \"hoverinfo\": \"none\", \"line\": {\"width\": 1.2, \"color\": \"red\"}, \"opacity\": 0.06125}, {\"type\": \"scattergeo\", \"lon\": [100.0, 26.0], \"lat\": [60.0, 59.0], \"mode\": \"lines\", \"hoverinfo\": \"none\", \"line\": {\"width\": 1.2, \"color\": \"red\"}, \"opacity\": 0.06075}, {\"type\": \"scattergeo\", \"lon\": [-64.5, -76.0], \"lat\": [18.5, 24.25], \"mode\": \"lines\", \"hoverinfo\": \"none\", \"line\": {\"width\": 1.2, \"color\": \"red\"}, \"opacity\": 0.05975}, {\"type\": \"scattergeo\", \"lon\": [-172.3333, 103.8], \"lat\": [-13.5833, 1.3667], \"mode\": \"lines\", \"hoverinfo\": \"none\", \"line\": {\"width\": 1.2, \"color\": \"red\"}, \"opacity\": 0.05925}, {\"type\": \"scattergeo\", \"lon\": [-56.0, -64.5], \"lat\": [-33.0, 18.5], \"mode\": \"lines\", \"hoverinfo\": \"none\", \"line\": {\"width\": 1.2, \"color\": \"red\"}, \"opacity\": 0.059}, {\"type\": \"scattergeo\", \"lon\": [-2.13, -4.55], \"lat\": [49.21, 54.23], \"mode\": \"lines\", \"hoverinfo\": \"none\", \"line\": {\"width\": 1.2, \"color\": \"red\"}, \"opacity\": 0.05875}, {\"type\": \"scattergeo\", \"lon\": [-88.75, 25.0], \"lat\": [17.25, 57.0], \"mode\": \"lines\", \"hoverinfo\": \"none\", \"line\": {\"width\": 1.2, \"color\": \"red\"}, \"opacity\": 0.05825}, {\"type\": \"scattergeo\", \"lon\": [-97.0, 8.0], \"lat\": [38.0, 47.0], \"mode\": \"lines\", \"hoverinfo\": \"none\", \"line\": {\"width\": 1.2, \"color\": \"red\"}, \"opacity\": 0.05775}, {\"type\": \"scattergeo\", \"lon\": [-4.55, 54.0], \"lat\": [54.23, 24.0], \"mode\": \"lines\", \"hoverinfo\": \"none\", \"line\": {\"width\": 1.2, \"color\": \"red\"}, \"opacity\": 0.05725}, {\"type\": \"scattergeo\", \"lon\": [100.0, 114.1667], \"lat\": [15.0, 22.25], \"mode\": \"lines\", \"hoverinfo\": \"none\", \"line\": {\"width\": 1.2, \"color\": \"red\"}, \"opacity\": 0.05675}, {\"type\": \"scattergeo\", \"lon\": [54.0, 8.0], \"lat\": [24.0, 47.0], \"mode\": \"lines\", \"hoverinfo\": \"none\", \"line\": {\"width\": 1.2, \"color\": \"red\"}, \"opacity\": 0.05525}, {\"type\": \"scattergeo\", \"lon\": [-80.0, 26.0], \"lat\": [9.0, 59.0], \"mode\": \"lines\", \"hoverinfo\": \"none\", \"line\": {\"width\": 1.2, \"color\": \"red\"}, \"opacity\": 0.055}, {\"type\": \"scattergeo\", \"lon\": [-72.4167, 114.1667], \"lat\": [19.0, 22.25], \"mode\": \"lines\", \"hoverinfo\": \"none\", \"line\": {\"width\": 1.2, \"color\": \"red\"}, \"opacity\": 0.055}, {\"type\": \"scattergeo\", \"lon\": [100.0, 114.1667], \"lat\": [60.0, 22.25], \"mode\": \"lines\", \"hoverinfo\": \"none\", \"line\": {\"width\": 1.2, \"color\": \"red\"}, \"opacity\": 0.0545}, {\"type\": \"scattergeo\", \"lon\": [114.1667, 105.0], \"lat\": [22.25, 35.0], \"mode\": \"lines\", \"hoverinfo\": \"none\", \"line\": {\"width\": 1.2, \"color\": \"red\"}, \"opacity\": 0.05225}, {\"type\": \"scattergeo\", \"lon\": [55.6667, -2.0], \"lat\": [-4.5833, 54.0], \"mode\": \"lines\", \"hoverinfo\": \"none\", \"line\": {\"width\": 1.2, \"color\": \"red\"}, \"opacity\": 0.05225}, {\"type\": \"scattergeo\", \"lon\": [121.0, 103.8], \"lat\": [23.5, 1.3667], \"mode\": \"lines\", \"hoverinfo\": \"none\", \"line\": {\"width\": 1.2, \"color\": \"red\"}, \"opacity\": 0.0515}, {\"type\": \"scattergeo\", \"lon\": [55.6667, 6.1667], \"lat\": [-4.5833, 49.75], \"mode\": \"lines\", \"hoverinfo\": \"none\", \"line\": {\"width\": 1.2, \"color\": \"red\"}, \"opacity\": 0.0515}, {\"type\": \"scattergeo\", \"lon\": [45.0, 36.0], \"lat\": [25.0, 31.0], \"mode\": \"lines\", \"hoverinfo\": \"none\", \"line\": {\"width\": 1.2, \"color\": \"red\"}, \"opacity\": 0.05075}, {\"type\": \"scattergeo\", \"lon\": [100.0, 33.0], \"lat\": [60.0, 35.0], \"mode\": \"lines\", \"hoverinfo\": \"none\", \"line\": {\"width\": 1.2, \"color\": \"red\"}, \"opacity\": 0.0505}, {\"type\": \"scattergeo\", \"lon\": [-2.56, 114.1667], \"lat\": [49.5, 22.25], \"mode\": \"lines\", \"hoverinfo\": \"none\", \"line\": {\"width\": 1.2, \"color\": \"red\"}, \"opacity\": 0.0505}, {\"type\": \"scattergeo\", \"lon\": [114.1667, 103.8], \"lat\": [22.25, 1.3667], \"mode\": \"lines\", \"hoverinfo\": \"none\", \"line\": {\"width\": 1.2, \"color\": \"red\"}, \"opacity\": 0.05025}, {\"type\": \"scattergeo\", \"lon\": [-61.8, -172.3333], \"lat\": [17.05, -13.5833], \"mode\": \"lines\", \"hoverinfo\": \"none\", \"line\": {\"width\": 1.2, \"color\": \"red\"}, \"opacity\": 0.05025}, {\"type\": \"scattergeo\", \"lon\": [-2.56, -4.55], \"lat\": [49.5, 54.23], \"mode\": \"lines\", \"hoverinfo\": \"none\", \"line\": {\"width\": 1.2, \"color\": \"red\"}, \"opacity\": 0.05}, {\"type\": \"scattergeo\", \"lon\": [-63.1667, 12.8333], \"lat\": [18.25, 42.8333], \"mode\": \"lines\", \"hoverinfo\": \"none\", \"line\": {\"width\": 1.2, \"color\": \"red\"}, \"opacity\": 0.05}, {\"type\": \"scattergeo\", \"lon\": [-18.0, 6.1667], \"lat\": [65.0, 49.75], \"mode\": \"lines\", \"hoverinfo\": \"none\", \"line\": {\"width\": 1.2, \"color\": \"red\"}, \"opacity\": 0.04925}, {\"type\": \"scattergeo\", \"lon\": [34.75, 8.0], \"lat\": [31.5, 47.0], \"mode\": \"lines\", \"hoverinfo\": \"none\", \"line\": {\"width\": 1.2, \"color\": \"red\"}, \"opacity\": 0.04925}, {\"type\": \"scattergeo\", \"lon\": [-76.0, 114.1667], \"lat\": [24.25, 22.25], \"mode\": \"lines\", \"hoverinfo\": \"none\", \"line\": {\"width\": 1.2, \"color\": \"red\"}, \"opacity\": 0.04925}, {\"type\": \"scattergeo\", \"lon\": [45.0, 8.0], \"lat\": [25.0, 47.0], \"mode\": \"lines\", \"hoverinfo\": \"none\", \"line\": {\"width\": 1.2, \"color\": \"red\"}, \"opacity\": 0.04825}, {\"type\": \"scattergeo\", \"lon\": [133.0, -172.3333], \"lat\": [-27.0, -13.5833], \"mode\": \"lines\", \"hoverinfo\": \"none\", \"line\": {\"width\": 1.2, \"color\": \"red\"}, \"opacity\": 0.048}, {\"type\": \"scattergeo\", \"lon\": [30.0, -4.55], \"lat\": [-20.0, 54.23], \"mode\": \"lines\", \"hoverinfo\": \"none\", \"line\": {\"width\": 1.2, \"color\": \"red\"}, \"opacity\": 0.048}, {\"type\": \"scattergeo\", \"lon\": [-64.5, 57.55], \"lat\": [18.5, -20.2833], \"mode\": \"lines\", \"hoverinfo\": \"none\", \"line\": {\"width\": 1.2, \"color\": \"red\"}, \"opacity\": 0.047}, {\"type\": \"scattergeo\", \"lon\": [8.0, 9.5333], \"lat\": [47.0, 47.1667], \"mode\": \"lines\", \"hoverinfo\": \"none\", \"line\": {\"width\": 1.2, \"color\": \"red\"}, \"opacity\": 0.047}, {\"type\": \"scattergeo\", \"lon\": [54.0, -172.3333], \"lat\": [24.0, -13.5833], \"mode\": \"lines\", \"hoverinfo\": \"none\", \"line\": {\"width\": 1.2, \"color\": \"red\"}, \"opacity\": 0.04675}, {\"type\": \"scattergeo\", \"lon\": [-80.0, -72.0], \"lat\": [9.0, 4.0], \"mode\": \"lines\", \"hoverinfo\": \"none\", \"line\": {\"width\": 1.2, \"color\": \"red\"}, \"opacity\": 0.0455}, {\"type\": \"scattergeo\", \"lon\": [55.6667, 114.1667], \"lat\": [-4.5833, 22.25], \"mode\": \"lines\", \"hoverinfo\": \"none\", \"line\": {\"width\": 1.2, \"color\": \"red\"}, \"opacity\": 0.04525}, {\"type\": \"scattergeo\", \"lon\": [8.0, -2.0], \"lat\": [47.0, 54.0], \"mode\": \"lines\", \"hoverinfo\": \"none\", \"line\": {\"width\": 1.2, \"color\": \"red\"}, \"opacity\": 0.04475}, {\"type\": \"scattergeo\", \"lon\": [-2.13, 114.1667], \"lat\": [49.21, 22.25], \"mode\": \"lines\", \"hoverinfo\": \"none\", \"line\": {\"width\": 1.2, \"color\": \"red\"}, \"opacity\": 0.04475}, {\"type\": \"scattergeo\", \"lon\": [-80.0, 114.1667], \"lat\": [9.0, 22.25], \"mode\": \"lines\", \"hoverinfo\": \"none\", \"line\": {\"width\": 1.2, \"color\": \"red\"}, \"opacity\": 0.04475}, {\"type\": \"scattergeo\", \"lon\": [-4.55, 8.0], \"lat\": [54.23, 47.0], \"mode\": \"lines\", \"hoverinfo\": \"none\", \"line\": {\"width\": 1.2, \"color\": \"red\"}, \"opacity\": 0.0445}, {\"type\": \"scattergeo\", \"lon\": [-2.13, 54.0], \"lat\": [49.21, 24.0], \"mode\": \"lines\", \"hoverinfo\": \"none\", \"line\": {\"width\": 1.2, \"color\": \"red\"}, \"opacity\": 0.0445}, {\"type\": \"scattergeo\", \"lon\": [-169.8667, 8.0], \"lat\": [-19.0333, 47.0], \"mode\": \"lines\", \"hoverinfo\": \"none\", \"line\": {\"width\": 1.2, \"color\": \"red\"}, \"opacity\": 0.044}, {\"type\": \"scattergeo\", \"lon\": [24.0, -172.3333], \"lat\": [-29.0, -13.5833], \"mode\": \"lines\", \"hoverinfo\": \"none\", \"line\": {\"width\": 1.2, \"color\": \"red\"}, \"opacity\": 0.04375}, {\"type\": \"scattergeo\", \"lon\": [-2.56, 57.55], \"lat\": [49.5, -20.2833], \"mode\": \"lines\", \"hoverinfo\": \"none\", \"line\": {\"width\": 1.2, \"color\": \"red\"}, \"opacity\": 0.04325}, {\"type\": \"scattergeo\", \"lon\": [-62.75, 8.0], \"lat\": [17.3333, 47.0], \"mode\": \"lines\", \"hoverinfo\": \"none\", \"line\": {\"width\": 1.2, \"color\": \"red\"}, \"opacity\": 0.043}, {\"type\": \"scattergeo\", \"lon\": [2.0, 114.1667], \"lat\": [46.0, 22.25], \"mode\": \"lines\", \"hoverinfo\": \"none\", \"line\": {\"width\": 1.2, \"color\": \"red\"}, \"opacity\": 0.0425}, {\"type\": \"scattergeo\", \"lon\": [45.0, -2.0], \"lat\": [25.0, 54.0], \"mode\": \"lines\", \"hoverinfo\": \"none\", \"line\": {\"width\": 1.2, \"color\": \"red\"}, \"opacity\": 0.04175}, {\"type\": \"scattergeo\", \"lon\": [-88.75, -172.3333], \"lat\": [17.25, -13.5833], \"mode\": \"lines\", \"hoverinfo\": \"none\", \"line\": {\"width\": 1.2, \"color\": \"red\"}, \"opacity\": 0.04125}, {\"type\": \"scattergeo\", \"lon\": [-66.0, -97.0], \"lat\": [8.0, 38.0], \"mode\": \"lines\", \"hoverinfo\": \"none\", \"line\": {\"width\": 1.2, \"color\": \"red\"}, \"opacity\": 0.041}, {\"type\": \"scattergeo\", \"lon\": [-4.55, -5.3667], \"lat\": [54.23, 36.1833], \"mode\": \"lines\", \"hoverinfo\": \"none\", \"line\": {\"width\": 1.2, \"color\": \"red\"}, \"opacity\": 0.04025}, {\"type\": \"scattergeo\", \"lon\": [-64.0, -97.0], \"lat\": [-34.0, 38.0], \"mode\": \"lines\", \"hoverinfo\": \"none\", \"line\": {\"width\": 1.2, \"color\": \"red\"}, \"opacity\": 0.03975}, {\"type\": \"scattergeo\", \"lon\": [33.0, -2.13], \"lat\": [35.0, 49.21], \"mode\": \"lines\", \"hoverinfo\": \"none\", \"line\": {\"width\": 1.2, \"color\": \"red\"}, \"opacity\": 0.03975}, {\"type\": \"scattergeo\", \"lon\": [168.0, -2.0], \"lat\": [9.0, 54.0], \"mode\": \"lines\", \"hoverinfo\": \"none\", \"line\": {\"width\": 1.2, \"color\": \"red\"}, \"opacity\": 0.03925}, {\"type\": \"scattergeo\", \"lon\": [-88.75, 8.0], \"lat\": [17.25, 47.0], \"mode\": \"lines\", \"hoverinfo\": \"none\", \"line\": {\"width\": 1.2, \"color\": \"red\"}, \"opacity\": 0.039}, {\"type\": \"scattergeo\", \"lon\": [120.0, 114.1667], \"lat\": [-5.0, 22.25], \"mode\": \"lines\", \"hoverinfo\": \"none\", \"line\": {\"width\": 1.2, \"color\": \"red\"}, \"opacity\": 0.03825}, {\"type\": \"scattergeo\", \"lon\": [6.1667, -2.0], \"lat\": [49.75, 54.0], \"mode\": \"lines\", \"hoverinfo\": \"none\", \"line\": {\"width\": 1.2, \"color\": \"red\"}, \"opacity\": 0.03775}, {\"type\": \"scattergeo\", \"lon\": [30.0, 8.0], \"lat\": [27.0, 47.0], \"mode\": \"lines\", \"hoverinfo\": \"none\", \"line\": {\"width\": 1.2, \"color\": \"red\"}, \"opacity\": 0.0375}, {\"type\": \"scattergeo\", \"lon\": [-97.0, -80.0], \"lat\": [38.0, 9.0], \"mode\": \"lines\", \"hoverinfo\": \"none\", \"line\": {\"width\": 1.2, \"color\": \"red\"}, \"opacity\": 0.03725}, {\"type\": \"scattergeo\", \"lon\": [-4.55, -2.56], \"lat\": [54.23, 49.5], \"mode\": \"lines\", \"hoverinfo\": \"none\", \"line\": {\"width\": 1.2, \"color\": \"red\"}, \"opacity\": 0.03725}, {\"type\": \"scattergeo\", \"lon\": [-64.5, 36.0], \"lat\": [18.5, 31.0], \"mode\": \"lines\", \"hoverinfo\": \"none\", \"line\": {\"width\": 1.2, \"color\": \"red\"}, \"opacity\": 0.03725}, {\"type\": \"scattergeo\", \"lon\": [30.0, -2.56], \"lat\": [-20.0, 49.5], \"mode\": \"lines\", \"hoverinfo\": \"none\", \"line\": {\"width\": 1.2, \"color\": \"red\"}, \"opacity\": 0.03675}, {\"type\": \"scattergeo\", \"lon\": [127.5, 114.1667], \"lat\": [37.0, 22.25], \"mode\": \"lines\", \"hoverinfo\": \"none\", \"line\": {\"width\": 1.2, \"color\": \"red\"}, \"opacity\": 0.0365}, {\"type\": \"scattergeo\", \"lon\": [6.1667, -70.6667], \"lat\": [49.75, 19.0], \"mode\": \"lines\", \"hoverinfo\": \"none\", \"line\": {\"width\": 1.2, \"color\": \"red\"}, \"opacity\": 0.03625}, {\"type\": \"scattergeo\", \"lon\": [-62.75, 100.0], \"lat\": [17.3333, 60.0], \"mode\": \"lines\", \"hoverinfo\": \"none\", \"line\": {\"width\": 1.2, \"color\": \"red\"}, \"opacity\": 0.03625}, {\"type\": \"scattergeo\", \"lon\": [-8.0, 8.0], \"lat\": [39.5, 47.0], \"mode\": \"lines\", \"hoverinfo\": \"none\", \"line\": {\"width\": 1.2, \"color\": \"red\"}, \"opacity\": 0.036}, {\"type\": \"scattergeo\", \"lon\": [-55.0, -64.5], \"lat\": [-10.0, 18.5], \"mode\": \"lines\", \"hoverinfo\": \"none\", \"line\": {\"width\": 1.2, \"color\": \"red\"}, \"opacity\": 0.03575}, {\"type\": \"scattergeo\", \"lon\": [100.0, -2.0], \"lat\": [60.0, 54.0], \"mode\": \"lines\", \"hoverinfo\": \"none\", \"line\": {\"width\": 1.2, \"color\": \"red\"}, \"opacity\": 0.03525}, {\"type\": \"scattergeo\", \"lon\": [8.0, -2.13], \"lat\": [47.0, 49.21], \"mode\": \"lines\", \"hoverinfo\": \"none\", \"line\": {\"width\": 1.2, \"color\": \"red\"}, \"opacity\": 0.035}, {\"type\": \"scattergeo\", \"lon\": [-64.5, -97.0], \"lat\": [18.5, 38.0], \"mode\": \"lines\", \"hoverinfo\": \"none\", \"line\": {\"width\": 1.2, \"color\": \"red\"}, \"opacity\": 0.03475}, {\"type\": \"scattergeo\", \"lon\": [-80.0, -77.5], \"lat\": [9.0, -2.0], \"mode\": \"lines\", \"hoverinfo\": \"none\", \"line\": {\"width\": 1.2, \"color\": \"red\"}, \"opacity\": 0.0345}, {\"type\": \"scattergeo\", \"lon\": [-2.0, -8.0], \"lat\": [54.0, 53.0], \"mode\": \"lines\", \"hoverinfo\": \"none\", \"line\": {\"width\": 1.2, \"color\": \"red\"}, \"opacity\": 0.0335}, {\"type\": \"scattergeo\", \"lon\": [105.0, 103.8], \"lat\": [35.0, 1.3667], \"mode\": \"lines\", \"hoverinfo\": \"none\", \"line\": {\"width\": 1.2, \"color\": \"red\"}, \"opacity\": 0.0335}, {\"type\": \"scattergeo\", \"lon\": [-2.0, 33.0], \"lat\": [54.0, 35.0], \"mode\": \"lines\", \"hoverinfo\": \"none\", \"line\": {\"width\": 1.2, \"color\": \"red\"}, \"opacity\": 0.03325}, {\"type\": \"scattergeo\", \"lon\": [70.0, -2.0], \"lat\": [30.0, 54.0], \"mode\": \"lines\", \"hoverinfo\": \"none\", \"line\": {\"width\": 1.2, \"color\": \"red\"}, \"opacity\": 0.033}, {\"type\": \"scattergeo\", \"lon\": [55.6667, 9.5333], \"lat\": [-4.5833, 47.1667], \"mode\": \"lines\", \"hoverinfo\": \"none\", \"line\": {\"width\": 1.2, \"color\": \"red\"}, \"opacity\": 0.033}, {\"type\": \"scattergeo\", \"lon\": [33.0, 100.0], \"lat\": [35.0, 60.0], \"mode\": \"lines\", \"hoverinfo\": \"none\", \"line\": {\"width\": 1.2, \"color\": \"red\"}, \"opacity\": 0.033}, {\"type\": \"scattergeo\", \"lon\": [-2.13, 103.8], \"lat\": [49.21, 1.3667], \"mode\": \"lines\", \"hoverinfo\": \"none\", \"line\": {\"width\": 1.2, \"color\": \"red\"}, \"opacity\": 0.03225}, {\"type\": \"scattergeo\", \"lon\": [-62.75, 7.4], \"lat\": [17.3333, 43.7333], \"mode\": \"lines\", \"hoverinfo\": \"none\", \"line\": {\"width\": 1.2, \"color\": \"red\"}, \"opacity\": 0.03225}, {\"type\": \"scattergeo\", \"lon\": [-80.5, 8.0], \"lat\": [19.5, 47.0], \"mode\": \"lines\", \"hoverinfo\": \"none\", \"line\": {\"width\": 1.2, \"color\": \"red\"}, \"opacity\": 0.032}, {\"type\": \"scattergeo\", \"lon\": [36.0, 8.0], \"lat\": [31.0, 47.0], \"mode\": \"lines\", \"hoverinfo\": \"none\", \"line\": {\"width\": 1.2, \"color\": \"red\"}, \"opacity\": 0.03125}, {\"type\": \"scattergeo\", \"lon\": [32.0, 54.0], \"lat\": [49.0, 24.0], \"mode\": \"lines\", \"hoverinfo\": \"none\", \"line\": {\"width\": 1.2, \"color\": \"red\"}, \"opacity\": 0.03125}, {\"type\": \"scattergeo\", \"lon\": [8.0, -2.56], \"lat\": [47.0, 49.5], \"mode\": \"lines\", \"hoverinfo\": \"none\", \"line\": {\"width\": 1.2, \"color\": \"red\"}, \"opacity\": 0.03125}, {\"type\": \"scattergeo\", \"lon\": [-64.75, -95.0], \"lat\": [32.3333, 60.0], \"mode\": \"lines\", \"hoverinfo\": \"none\", \"line\": {\"width\": 1.2, \"color\": \"red\"}, \"opacity\": 0.03125}, {\"type\": \"scattergeo\", \"lon\": [105.0, 121.0], \"lat\": [35.0, 23.5], \"mode\": \"lines\", \"hoverinfo\": \"none\", \"line\": {\"width\": 1.2, \"color\": \"red\"}, \"opacity\": 0.03125}, {\"type\": \"scattergeo\", \"lon\": [-97.0, 105.0], \"lat\": [38.0, 35.0], \"mode\": \"lines\", \"hoverinfo\": \"none\", \"line\": {\"width\": 1.2, \"color\": \"red\"}, \"opacity\": 0.03125}, {\"type\": \"scattergeo\", \"lon\": [55.6667, -2.56], \"lat\": [-4.5833, 49.5], \"mode\": \"lines\", \"hoverinfo\": \"none\", \"line\": {\"width\": 1.2, \"color\": \"red\"}, \"opacity\": 0.031}, {\"type\": \"scattergeo\", \"lon\": [33.0, 8.0], \"lat\": [35.0, 47.0], \"mode\": \"lines\", \"hoverinfo\": \"none\", \"line\": {\"width\": 1.2, \"color\": \"red\"}, \"opacity\": 0.03075}, {\"type\": \"scattergeo\", \"lon\": [55.6667, 33.0], \"lat\": [-4.5833, 35.0], \"mode\": \"lines\", \"hoverinfo\": \"none\", \"line\": {\"width\": 1.2, \"color\": \"red\"}, \"opacity\": 0.03075}, {\"type\": \"scattergeo\", \"lon\": [77.0, 114.1667], \"lat\": [20.0, 22.25], \"mode\": \"lines\", \"hoverinfo\": \"none\", \"line\": {\"width\": 1.2, \"color\": \"red\"}, \"opacity\": 0.0305}, {\"type\": \"scattergeo\", \"lon\": [100.0, 25.0], \"lat\": [60.0, 57.0], \"mode\": \"lines\", \"hoverinfo\": \"none\", \"line\": {\"width\": 1.2, \"color\": \"red\"}, \"opacity\": 0.0305}, {\"type\": \"scattergeo\", \"lon\": [-2.0, 100.0], \"lat\": [54.0, 60.0], \"mode\": \"lines\", \"hoverinfo\": \"none\", \"line\": {\"width\": 1.2, \"color\": \"red\"}, \"opacity\": 0.0295}, {\"type\": \"scattergeo\", \"lon\": [35.8333, 8.0], \"lat\": [33.8333, 47.0], \"mode\": \"lines\", \"hoverinfo\": \"none\", \"line\": {\"width\": 1.2, \"color\": \"red\"}, \"opacity\": 0.02925}, {\"type\": \"scattergeo\", \"lon\": [-56.0, -58.0], \"lat\": [-33.0, -23.0], \"mode\": \"lines\", \"hoverinfo\": \"none\", \"line\": {\"width\": 1.2, \"color\": \"red\"}, \"opacity\": 0.029}, {\"type\": \"scattergeo\", \"lon\": [-80.0, -56.0], \"lat\": [9.0, -33.0], \"mode\": \"lines\", \"hoverinfo\": \"none\", \"line\": {\"width\": 1.2, \"color\": \"red\"}, \"opacity\": 0.02875}, {\"type\": \"scattergeo\", \"lon\": [121.0, 105.0], \"lat\": [23.5, 35.0], \"mode\": \"lines\", \"hoverinfo\": \"none\", \"line\": {\"width\": 1.2, \"color\": \"red\"}, \"opacity\": 0.02825}, {\"type\": \"scattergeo\", \"lon\": [-64.75, 114.1667], \"lat\": [32.3333, 22.25], \"mode\": \"lines\", \"hoverinfo\": \"none\", \"line\": {\"width\": 1.2, \"color\": \"red\"}, \"opacity\": 0.02825}, {\"type\": \"scattergeo\", \"lon\": [-80.0, 1.6], \"lat\": [9.0, 42.5], \"mode\": \"lines\", \"hoverinfo\": \"none\", \"line\": {\"width\": 1.2, \"color\": \"red\"}, \"opacity\": 0.028}, {\"type\": \"scattergeo\", \"lon\": [-64.5, -80.0], \"lat\": [18.5, 9.0], \"mode\": \"lines\", \"hoverinfo\": \"none\", \"line\": {\"width\": 1.2, \"color\": \"red\"}, \"opacity\": 0.02775}, {\"type\": \"scattergeo\", \"lon\": [-84.0, 14.5833], \"lat\": [10.0, 35.8333], \"mode\": \"lines\", \"hoverinfo\": \"none\", \"line\": {\"width\": 1.2, \"color\": \"red\"}, \"opacity\": 0.027}, {\"type\": \"scattergeo\", \"lon\": [-2.0, 54.0], \"lat\": [54.0, 24.0], \"mode\": \"lines\", \"hoverinfo\": \"none\", \"line\": {\"width\": 1.2, \"color\": \"red\"}, \"opacity\": 0.027}, {\"type\": \"scattergeo\", \"lon\": [-62.75, -2.56], \"lat\": [17.3333, 49.5], \"mode\": \"lines\", \"hoverinfo\": \"none\", \"line\": {\"width\": 1.2, \"color\": \"red\"}, \"opacity\": 0.027}, {\"type\": \"scattergeo\", \"lon\": [77.0, 103.8], \"lat\": [20.0, 1.3667], \"mode\": \"lines\", \"hoverinfo\": \"none\", \"line\": {\"width\": 1.2, \"color\": \"red\"}, \"opacity\": 0.0265}, {\"type\": \"scattergeo\", \"lon\": [-76.0, -2.56], \"lat\": [24.25, 49.5], \"mode\": \"lines\", \"hoverinfo\": \"none\", \"line\": {\"width\": 1.2, \"color\": \"red\"}, \"opacity\": 0.0265}, {\"type\": \"scattergeo\", \"lon\": [2.0, 6.1667], \"lat\": [46.0, 49.75], \"mode\": \"lines\", \"hoverinfo\": \"none\", \"line\": {\"width\": 1.2, \"color\": \"red\"}, \"opacity\": 0.0265}, {\"type\": \"scattergeo\", \"lon\": [7.4, 8.0], \"lat\": [43.7333, 47.0], \"mode\": \"lines\", \"hoverinfo\": \"none\", \"line\": {\"width\": 1.2, \"color\": \"red\"}, \"opacity\": 0.02625}, {\"type\": \"scattergeo\", \"lon\": [-64.5, 5.75], \"lat\": [18.5, 52.5], \"mode\": \"lines\", \"hoverinfo\": \"none\", \"line\": {\"width\": 1.2, \"color\": \"red\"}, \"opacity\": 0.026}, {\"type\": \"scattergeo\", \"lon\": [6.1667, 8.0], \"lat\": [49.75, 47.0], \"mode\": \"lines\", \"hoverinfo\": \"none\", \"line\": {\"width\": 1.2, \"color\": \"red\"}, \"opacity\": 0.026}, {\"type\": \"scattergeo\", \"lon\": [-4.55, -2.0], \"lat\": [54.23, 54.0], \"mode\": \"lines\", \"hoverinfo\": \"none\", \"line\": {\"width\": 1.2, \"color\": \"red\"}, \"opacity\": 0.025}, {\"type\": \"scattergeo\", \"lon\": [57.55, 8.0], \"lat\": [-20.2833, 47.0], \"mode\": \"lines\", \"hoverinfo\": \"none\", \"line\": {\"width\": 1.2, \"color\": \"red\"}, \"opacity\": 0.025}, {\"type\": \"scattergeo\", \"lon\": [-97.0, -2.0], \"lat\": [38.0, 54.0], \"mode\": \"lines\", \"hoverinfo\": \"none\", \"line\": {\"width\": 1.2, \"color\": \"red\"}, \"opacity\": 0.02475}, {\"type\": \"scattergeo\", \"lon\": [24.0, 8.0], \"lat\": [-29.0, 47.0], \"mode\": \"lines\", \"hoverinfo\": \"none\", \"line\": {\"width\": 1.2, \"color\": \"red\"}, \"opacity\": 0.02475}, {\"type\": \"scattergeo\", \"lon\": [-55.0, 6.1667], \"lat\": [-10.0, 49.75], \"mode\": \"lines\", \"hoverinfo\": \"none\", \"line\": {\"width\": 1.2, \"color\": \"red\"}, \"opacity\": 0.02475}, {\"type\": \"scattergeo\", \"lon\": [24.0, -4.55], \"lat\": [-29.0, 54.23], \"mode\": \"lines\", \"hoverinfo\": \"none\", \"line\": {\"width\": 1.2, \"color\": \"red\"}, \"opacity\": 0.0245}, {\"type\": \"scattergeo\", \"lon\": [9.0, 114.1667], \"lat\": [51.0, 22.25], \"mode\": \"lines\", \"hoverinfo\": \"none\", \"line\": {\"width\": 1.2, \"color\": \"red\"}, \"opacity\": 0.0245}, {\"type\": \"scattergeo\", \"lon\": [-76.0, -2.13], \"lat\": [24.25, 49.21], \"mode\": \"lines\", \"hoverinfo\": \"none\", \"line\": {\"width\": 1.2, \"color\": \"red\"}, \"opacity\": 0.024}, {\"type\": \"scattergeo\", \"lon\": [4.0, 6.1667], \"lat\": [50.8333, 49.75], \"mode\": \"lines\", \"hoverinfo\": \"none\", \"line\": {\"width\": 1.2, \"color\": \"red\"}, \"opacity\": 0.024}, {\"type\": \"scattergeo\", \"lon\": [19.5, 7.4], \"lat\": [48.6667, 43.7333], \"mode\": \"lines\", \"hoverinfo\": \"none\", \"line\": {\"width\": 1.2, \"color\": \"red\"}, \"opacity\": 0.02375}, {\"type\": \"scattergeo\", \"lon\": [9.0, -80.0], \"lat\": [51.0, 9.0], \"mode\": \"lines\", \"hoverinfo\": \"none\", \"line\": {\"width\": 1.2, \"color\": \"red\"}, \"opacity\": 0.02375}, {\"type\": \"scattergeo\", \"lon\": [-2.0, -97.0], \"lat\": [54.0, 38.0], \"mode\": \"lines\", \"hoverinfo\": \"none\", \"line\": {\"width\": 1.2, \"color\": \"red\"}, \"opacity\": 0.0235}, {\"type\": \"scattergeo\", \"lon\": [12.8333, 114.1667], \"lat\": [42.8333, 22.25], \"mode\": \"lines\", \"hoverinfo\": \"none\", \"line\": {\"width\": 1.2, \"color\": \"red\"}, \"opacity\": 0.0235}, {\"type\": \"scattergeo\", \"lon\": [57.55, -2.56], \"lat\": [-20.2833, 49.5], \"mode\": \"lines\", \"hoverinfo\": \"none\", \"line\": {\"width\": 1.2, \"color\": \"red\"}, \"opacity\": 0.0235}, {\"type\": \"scattergeo\", \"lon\": [-2.0, 7.4], \"lat\": [54.0, 43.7333], \"mode\": \"lines\", \"hoverinfo\": \"none\", \"line\": {\"width\": 1.2, \"color\": \"red\"}, \"opacity\": 0.02325}, {\"type\": \"scattergeo\", \"lon\": [-80.0, 7.4], \"lat\": [9.0, 43.7333], \"mode\": \"lines\", \"hoverinfo\": \"none\", \"line\": {\"width\": 1.2, \"color\": \"red\"}, \"opacity\": 0.02325}, {\"type\": \"scattergeo\", \"lon\": [-97.0, 36.0], \"lat\": [38.0, 31.0], \"mode\": \"lines\", \"hoverinfo\": \"none\", \"line\": {\"width\": 1.2, \"color\": \"red\"}, \"opacity\": 0.02325}, {\"type\": \"scattergeo\", \"lon\": [133.0, -2.56], \"lat\": [-27.0, 49.5], \"mode\": \"lines\", \"hoverinfo\": \"none\", \"line\": {\"width\": 1.2, \"color\": \"red\"}, \"opacity\": 0.02325}, {\"type\": \"scattergeo\", \"lon\": [22.0, 8.0], \"lat\": [39.0, 47.0], \"mode\": \"lines\", \"hoverinfo\": \"none\", \"line\": {\"width\": 1.2, \"color\": \"red\"}, \"opacity\": 0.02325}, {\"type\": \"scattergeo\", \"lon\": [57.55, -2.0], \"lat\": [-20.2833, 54.0], \"mode\": \"lines\", \"hoverinfo\": \"none\", \"line\": {\"width\": 1.2, \"color\": \"red\"}, \"opacity\": 0.02325}, {\"type\": \"scattergeo\", \"lon\": [-2.0, 57.55], \"lat\": [54.0, -20.2833], \"mode\": \"lines\", \"hoverinfo\": \"none\", \"line\": {\"width\": 1.2, \"color\": \"red\"}, \"opacity\": 0.0225}, {\"type\": \"scattergeo\", \"lon\": [-64.5, 7.4], \"lat\": [18.5, 43.7333], \"mode\": \"lines\", \"hoverinfo\": \"none\", \"line\": {\"width\": 1.2, \"color\": \"red\"}, \"opacity\": 0.0225}, {\"type\": \"scattergeo\", \"lon\": [8.0, -5.3667], \"lat\": [47.0, 36.1833], \"mode\": \"lines\", \"hoverinfo\": \"none\", \"line\": {\"width\": 1.2, \"color\": \"red\"}, \"opacity\": 0.0225}, {\"type\": \"scattergeo\", \"lon\": [-97.0, 103.8], \"lat\": [38.0, 1.3667], \"mode\": \"lines\", \"hoverinfo\": \"none\", \"line\": {\"width\": 1.2, \"color\": \"red\"}, \"opacity\": 0.0225}, {\"type\": \"scattergeo\", \"lon\": [8.0, 14.5833], \"lat\": [47.0, 35.8333], \"mode\": \"lines\", \"hoverinfo\": \"none\", \"line\": {\"width\": 1.2, \"color\": \"red\"}, \"opacity\": 0.02225}, {\"type\": \"scattergeo\", \"lon\": [-102.0, -97.0], \"lat\": [23.0, 38.0], \"mode\": \"lines\", \"hoverinfo\": \"none\", \"line\": {\"width\": 1.2, \"color\": \"red\"}, \"opacity\": 0.02225}, {\"type\": \"scattergeo\", \"lon\": [-95.0, 8.0], \"lat\": [60.0, 47.0], \"mode\": \"lines\", \"hoverinfo\": \"none\", \"line\": {\"width\": 1.2, \"color\": \"red\"}, \"opacity\": 0.02225}, {\"type\": \"scattergeo\", \"lon\": [-2.0, 5.75], \"lat\": [54.0, 52.5], \"mode\": \"lines\", \"hoverinfo\": \"none\", \"line\": {\"width\": 1.2, \"color\": \"red\"}, \"opacity\": 0.022}, {\"type\": \"scattergeo\", \"lon\": [-64.5, 26.0], \"lat\": [18.5, 59.0], \"mode\": \"lines\", \"hoverinfo\": \"none\", \"line\": {\"width\": 1.2, \"color\": \"red\"}, \"opacity\": 0.022}, {\"type\": \"scattergeo\", \"lon\": [100.0, 103.8], \"lat\": [15.0, 1.3667], \"mode\": \"lines\", \"hoverinfo\": \"none\", \"line\": {\"width\": 1.2, \"color\": \"red\"}, \"opacity\": 0.022}, {\"type\": \"scattergeo\", \"lon\": [24.0, -2.56], \"lat\": [-22.0, 49.5], \"mode\": \"lines\", \"hoverinfo\": \"none\", \"line\": {\"width\": 1.2, \"color\": \"red\"}, \"opacity\": 0.02175}, {\"type\": \"scattergeo\", \"lon\": [103.8, -95.0], \"lat\": [1.3667, 60.0], \"mode\": \"lines\", \"hoverinfo\": \"none\", \"line\": {\"width\": 1.2, \"color\": \"red\"}, \"opacity\": 0.02175}, {\"type\": \"scattergeo\", \"lon\": [-2.0, 100.0], \"lat\": [54.0, 15.0], \"mode\": \"lines\", \"hoverinfo\": \"none\", \"line\": {\"width\": 1.2, \"color\": \"red\"}, \"opacity\": 0.0215}, {\"type\": \"scattergeo\", \"lon\": [33.0, -64.5], \"lat\": [35.0, 18.5], \"mode\": \"lines\", \"hoverinfo\": \"none\", \"line\": {\"width\": 1.2, \"color\": \"red\"}, \"opacity\": 0.0215}, {\"type\": \"scattergeo\", \"lon\": [-80.0, -55.0], \"lat\": [9.0, -10.0], \"mode\": \"lines\", \"hoverinfo\": \"none\", \"line\": {\"width\": 1.2, \"color\": \"red\"}, \"opacity\": 0.0215}, {\"type\": \"scattergeo\", \"lon\": [32.0, 100.0], \"lat\": [49.0, 60.0], \"mode\": \"lines\", \"hoverinfo\": \"none\", \"line\": {\"width\": 1.2, \"color\": \"red\"}, \"opacity\": 0.0215}, {\"type\": \"scattergeo\", \"lon\": [22.0, 54.0], \"lat\": [39.0, 24.0], \"mode\": \"lines\", \"hoverinfo\": \"none\", \"line\": {\"width\": 1.2, \"color\": \"red\"}, \"opacity\": 0.02125}, {\"type\": \"scattergeo\", \"lon\": [54.0, -5.3667], \"lat\": [24.0, 36.1833], \"mode\": \"lines\", \"hoverinfo\": \"none\", \"line\": {\"width\": 1.2, \"color\": \"red\"}, \"opacity\": 0.02125}, {\"type\": \"scattergeo\", \"lon\": [33.0, -4.55], \"lat\": [35.0, 54.23], \"mode\": \"lines\", \"hoverinfo\": \"none\", \"line\": {\"width\": 1.2, \"color\": \"red\"}, \"opacity\": 0.02125}, {\"type\": \"scattergeo\", \"lon\": [33.0, -2.0], \"lat\": [35.0, 54.0], \"mode\": \"lines\", \"hoverinfo\": \"none\", \"line\": {\"width\": 1.2, \"color\": \"red\"}, \"opacity\": 0.02125}, {\"type\": \"scattergeo\", \"lon\": [-72.0, -80.0], \"lat\": [4.0, 9.0], \"mode\": \"lines\", \"hoverinfo\": \"none\", \"line\": {\"width\": 1.2, \"color\": \"red\"}, \"opacity\": 0.02075}, {\"type\": \"scattergeo\", \"lon\": [-2.13, 9.5333], \"lat\": [49.21, 47.1667], \"mode\": \"lines\", \"hoverinfo\": \"none\", \"line\": {\"width\": 1.2, \"color\": \"red\"}, \"opacity\": 0.02075}, {\"type\": \"scattergeo\", \"lon\": [5.75, 114.1667], \"lat\": [52.5, 22.25], \"mode\": \"lines\", \"hoverinfo\": \"none\", \"line\": {\"width\": 1.2, \"color\": \"red\"}, \"opacity\": 0.0205}, {\"type\": \"scattergeo\", \"lon\": [100.0, -4.55], \"lat\": [60.0, 54.23], \"mode\": \"lines\", \"hoverinfo\": \"none\", \"line\": {\"width\": 1.2, \"color\": \"red\"}, \"opacity\": 0.02}, {\"type\": \"scattergeo\", \"lon\": [174.0, 114.1667], \"lat\": [-41.0, 22.25], \"mode\": \"lines\", \"hoverinfo\": \"none\", \"line\": {\"width\": 1.2, \"color\": \"red\"}, \"opacity\": 0.02}, {\"type\": \"scattergeo\", \"lon\": [54.0, -4.55], \"lat\": [24.0, 54.23], \"mode\": \"lines\", \"hoverinfo\": \"none\", \"line\": {\"width\": 1.2, \"color\": \"red\"}, \"opacity\": 0.02}, {\"type\": \"scattergeo\", \"lon\": [167.0, 55.6667], \"lat\": [-16.0, -4.5833], \"mode\": \"lines\", \"hoverinfo\": \"none\", \"line\": {\"width\": 1.2, \"color\": \"red\"}, \"opacity\": 0.02}, {\"type\": \"scattergeo\", \"lon\": [9.5333, -5.3667], \"lat\": [47.1667, 36.1833], \"mode\": \"lines\", \"hoverinfo\": \"none\", \"line\": {\"width\": 1.2, \"color\": \"red\"}, \"opacity\": 0.01975}, {\"type\": \"scattergeo\", \"lon\": [77.0, -4.55], \"lat\": [20.0, 54.23], \"mode\": \"lines\", \"hoverinfo\": \"none\", \"line\": {\"width\": 1.2, \"color\": \"red\"}, \"opacity\": 0.01975}, {\"type\": \"scattergeo\", \"lon\": [-62.75, -4.55], \"lat\": [17.3333, 54.23], \"mode\": \"lines\", \"hoverinfo\": \"none\", \"line\": {\"width\": 1.2, \"color\": \"red\"}, \"opacity\": 0.01975}, {\"type\": \"scattergeo\", \"lon\": [32.0, 8.0], \"lat\": [49.0, 47.0], \"mode\": \"lines\", \"hoverinfo\": \"none\", \"line\": {\"width\": 1.2, \"color\": \"red\"}, \"opacity\": 0.01975}, {\"type\": \"scattergeo\", \"lon\": [-5.3667, 8.0], \"lat\": [36.1833, 47.0], \"mode\": \"lines\", \"hoverinfo\": \"none\", \"line\": {\"width\": 1.2, \"color\": \"red\"}, \"opacity\": 0.01975}, {\"type\": \"scattergeo\", \"lon\": [-2.0, 6.1667], \"lat\": [54.0, 49.75], \"mode\": \"lines\", \"hoverinfo\": \"none\", \"line\": {\"width\": 1.2, \"color\": \"red\"}, \"opacity\": 0.0195}, {\"type\": \"scattergeo\", \"lon\": [-63.1667, -72.0], \"lat\": [18.25, 4.0], \"mode\": \"lines\", \"hoverinfo\": \"none\", \"line\": {\"width\": 1.2, \"color\": \"red\"}, \"opacity\": 0.01925}, {\"type\": \"scattergeo\", \"lon\": [-64.5, 34.75], \"lat\": [18.5, 31.5], \"mode\": \"lines\", \"hoverinfo\": \"none\", \"line\": {\"width\": 1.2, \"color\": \"red\"}, \"opacity\": 0.01925}, {\"type\": \"scattergeo\", \"lon\": [24.0, -2.0], \"lat\": [-29.0, 54.0], \"mode\": \"lines\", \"hoverinfo\": \"none\", \"line\": {\"width\": 1.2, \"color\": \"red\"}, \"opacity\": 0.01925}, {\"type\": \"scattergeo\", \"lon\": [-88.75, 114.1667], \"lat\": [17.25, 22.25], \"mode\": \"lines\", \"hoverinfo\": \"none\", \"line\": {\"width\": 1.2, \"color\": \"red\"}, \"opacity\": 0.01925}, {\"type\": \"scattergeo\", \"lon\": [4.0, 8.0], \"lat\": [50.8333, 47.0], \"mode\": \"lines\", \"hoverinfo\": \"none\", \"line\": {\"width\": 1.2, \"color\": \"red\"}, \"opacity\": 0.01925}, {\"type\": \"scattergeo\", \"lon\": [133.0, 103.8], \"lat\": [-27.0, 1.3667], \"mode\": \"lines\", \"hoverinfo\": \"none\", \"line\": {\"width\": 1.2, \"color\": \"red\"}, \"opacity\": 0.019}, {\"type\": \"scattergeo\", \"lon\": [-97.0, 54.0], \"lat\": [38.0, 24.0], \"mode\": \"lines\", \"hoverinfo\": \"none\", \"line\": {\"width\": 1.2, \"color\": \"red\"}, \"opacity\": 0.019}, {\"type\": \"scattergeo\", \"lon\": [-64.5, 14.5833], \"lat\": [18.5, 35.8333], \"mode\": \"lines\", \"hoverinfo\": \"none\", \"line\": {\"width\": 1.2, \"color\": \"red\"}, \"opacity\": 0.01875}, {\"type\": \"scattergeo\", \"lon\": [-63.1667, 54.0], \"lat\": [18.25, 24.0], \"mode\": \"lines\", \"hoverinfo\": \"none\", \"line\": {\"width\": 1.2, \"color\": \"red\"}, \"opacity\": 0.01875}, {\"type\": \"scattergeo\", \"lon\": [-8.0, -2.13], \"lat\": [53.0, 49.21], \"mode\": \"lines\", \"hoverinfo\": \"none\", \"line\": {\"width\": 1.2, \"color\": \"red\"}, \"opacity\": 0.01875}, {\"type\": \"scattergeo\", \"lon\": [-97.0, -2.56], \"lat\": [38.0, 49.5], \"mode\": \"lines\", \"hoverinfo\": \"none\", \"line\": {\"width\": 1.2, \"color\": \"red\"}, \"opacity\": 0.01875}, {\"type\": \"scattergeo\", \"lon\": [-97.0, -76.0], \"lat\": [38.0, 24.25], \"mode\": \"lines\", \"hoverinfo\": \"none\", \"line\": {\"width\": 1.2, \"color\": \"red\"}, \"opacity\": 0.0185}, {\"type\": \"scattergeo\", \"lon\": [-97.0, -2.13], \"lat\": [38.0, 49.21], \"mode\": \"lines\", \"hoverinfo\": \"none\", \"line\": {\"width\": 1.2, \"color\": \"red\"}, \"opacity\": 0.0185}, {\"type\": \"scattergeo\", \"lon\": [-66.0, -80.0], \"lat\": [8.0, 9.0], \"mode\": \"lines\", \"hoverinfo\": \"none\", \"line\": {\"width\": 1.2, \"color\": \"red\"}, \"opacity\": 0.0185}, {\"type\": \"scattergeo\", \"lon\": [-97.0, -88.75], \"lat\": [38.0, 17.25], \"mode\": \"lines\", \"hoverinfo\": \"none\", \"line\": {\"width\": 1.2, \"color\": \"red\"}, \"opacity\": 0.0185}, {\"type\": \"scattergeo\", \"lon\": [-2.13, -5.3667], \"lat\": [49.21, 36.1833], \"mode\": \"lines\", \"hoverinfo\": \"none\", \"line\": {\"width\": 1.2, \"color\": \"red\"}, \"opacity\": 0.01825}, {\"type\": \"scattergeo\", \"lon\": [-72.0, 8.0], \"lat\": [4.0, 47.0], \"mode\": \"lines\", \"hoverinfo\": \"none\", \"line\": {\"width\": 1.2, \"color\": \"red\"}, \"opacity\": 0.018}, {\"type\": \"scattergeo\", \"lon\": [-80.0, -84.0], \"lat\": [9.0, 10.0], \"mode\": \"lines\", \"hoverinfo\": \"none\", \"line\": {\"width\": 1.2, \"color\": \"red\"}, \"opacity\": 0.018}, {\"type\": \"scattergeo\", \"lon\": [-80.0, -97.0], \"lat\": [9.0, 38.0], \"mode\": \"lines\", \"hoverinfo\": \"none\", \"line\": {\"width\": 1.2, \"color\": \"red\"}, \"opacity\": 0.018}, {\"type\": \"scattergeo\", \"lon\": [8.0, 114.1667], \"lat\": [47.0, 22.25], \"mode\": \"lines\", \"hoverinfo\": \"none\", \"line\": {\"width\": 1.2, \"color\": \"red\"}, \"opacity\": 0.018}, {\"type\": \"scattergeo\", \"lon\": [-2.56, 54.0], \"lat\": [49.5, 24.0], \"mode\": \"lines\", \"hoverinfo\": \"none\", \"line\": {\"width\": 1.2, \"color\": \"red\"}, \"opacity\": 0.01775}, {\"type\": \"scattergeo\", \"lon\": [-2.0, 34.75], \"lat\": [54.0, 31.5], \"mode\": \"lines\", \"hoverinfo\": \"none\", \"line\": {\"width\": 1.2, \"color\": \"red\"}, \"opacity\": 0.0175}, {\"type\": \"scattergeo\", \"lon\": [2.0, -2.0], \"lat\": [46.0, 54.0], \"mode\": \"lines\", \"hoverinfo\": \"none\", \"line\": {\"width\": 1.2, \"color\": \"red\"}, \"opacity\": 0.0175}, {\"type\": \"scattergeo\", \"lon\": [57.55, 55.6667], \"lat\": [-20.2833, -4.5833], \"mode\": \"lines\", \"hoverinfo\": \"none\", \"line\": {\"width\": 1.2, \"color\": \"red\"}, \"opacity\": 0.0175}, {\"type\": \"scattergeo\", \"lon\": [54.0, -2.13], \"lat\": [24.0, 49.21], \"mode\": \"lines\", \"hoverinfo\": \"none\", \"line\": {\"width\": 1.2, \"color\": \"red\"}, \"opacity\": 0.0175}, {\"type\": \"scattergeo\", \"lon\": [38.0, 8.0], \"lat\": [1.0, 47.0], \"mode\": \"lines\", \"hoverinfo\": \"none\", \"line\": {\"width\": 1.2, \"color\": \"red\"}, \"opacity\": 0.0175}, {\"type\": \"scattergeo\", \"lon\": [10.0, -2.56], \"lat\": [62.0, 49.5], \"mode\": \"lines\", \"hoverinfo\": \"none\", \"line\": {\"width\": 1.2, \"color\": \"red\"}, \"opacity\": 0.0175}, {\"type\": \"scattergeo\", \"lon\": [100.0, -76.0], \"lat\": [60.0, 24.25], \"mode\": \"lines\", \"hoverinfo\": \"none\", \"line\": {\"width\": 1.2, \"color\": \"red\"}, \"opacity\": 0.0175}, {\"type\": \"scattergeo\", \"lon\": [77.0, 33.0], \"lat\": [20.0, 35.0], \"mode\": \"lines\", \"hoverinfo\": \"none\", \"line\": {\"width\": 1.2, \"color\": \"red\"}, \"opacity\": 0.01725}, {\"type\": \"scattergeo\", \"lon\": [-97.0, -77.5], \"lat\": [38.0, -2.0], \"mode\": \"lines\", \"hoverinfo\": \"none\", \"line\": {\"width\": 1.2, \"color\": \"red\"}, \"opacity\": 0.01725}, {\"type\": \"scattergeo\", \"lon\": [-172.3333, 54.0], \"lat\": [-13.5833, 24.0], \"mode\": \"lines\", \"hoverinfo\": \"none\", \"line\": {\"width\": 1.2, \"color\": \"red\"}, \"opacity\": 0.01725}, {\"type\": \"scattergeo\", \"lon\": [-95.0, -2.0], \"lat\": [60.0, 54.0], \"mode\": \"lines\", \"hoverinfo\": \"none\", \"line\": {\"width\": 1.2, \"color\": \"red\"}, \"opacity\": 0.017}, {\"type\": \"scattergeo\", \"lon\": [100.0, -2.13], \"lat\": [60.0, 49.21], \"mode\": \"lines\", \"hoverinfo\": \"none\", \"line\": {\"width\": 1.2, \"color\": \"red\"}, \"opacity\": 0.017}, {\"type\": \"scattergeo\", \"lon\": [54.0, 33.0], \"lat\": [24.0, 35.0], \"mode\": \"lines\", \"hoverinfo\": \"none\", \"line\": {\"width\": 1.2, \"color\": \"red\"}, \"opacity\": 0.017}, {\"type\": \"scattergeo\", \"lon\": [-70.6667, -61.3333], \"lat\": [19.0, 15.4167], \"mode\": \"lines\", \"hoverinfo\": \"none\", \"line\": {\"width\": 1.2, \"color\": \"red\"}, \"opacity\": 0.017}, {\"type\": \"scattergeo\", \"lon\": [-2.0, 14.5833], \"lat\": [54.0, 35.8333], \"mode\": \"lines\", \"hoverinfo\": \"none\", \"line\": {\"width\": 1.2, \"color\": \"red\"}, \"opacity\": 0.01675}, {\"type\": \"scattergeo\", \"lon\": [24.0, 57.55], \"lat\": [-29.0, -20.2833], \"mode\": \"lines\", \"hoverinfo\": \"none\", \"line\": {\"width\": 1.2, \"color\": \"red\"}, \"opacity\": 0.01675}, {\"type\": \"scattergeo\", \"lon\": [8.0, 7.4], \"lat\": [47.0, 43.7333], \"mode\": \"lines\", \"hoverinfo\": \"none\", \"line\": {\"width\": 1.2, \"color\": \"red\"}, \"opacity\": 0.01675}, {\"type\": \"scattergeo\", \"lon\": [100.0, 6.1667], \"lat\": [60.0, 49.75], \"mode\": \"lines\", \"hoverinfo\": \"none\", \"line\": {\"width\": 1.2, \"color\": \"red\"}, \"opacity\": 0.0165}, {\"type\": \"scattergeo\", \"lon\": [-9.5, 33.0], \"lat\": [6.5, 35.0], \"mode\": \"lines\", \"hoverinfo\": \"none\", \"line\": {\"width\": 1.2, \"color\": \"red\"}, \"opacity\": 0.0165}, {\"type\": \"scattergeo\", \"lon\": [-5.3667, -2.0], \"lat\": [36.1833, 54.0], \"mode\": \"lines\", \"hoverinfo\": \"none\", \"line\": {\"width\": 1.2, \"color\": \"red\"}, \"opacity\": 0.0165}, {\"type\": \"scattergeo\", \"lon\": [-97.0, 100.0], \"lat\": [38.0, 15.0], \"mode\": \"lines\", \"hoverinfo\": \"none\", \"line\": {\"width\": 1.2, \"color\": \"red\"}, \"opacity\": 0.01625}, {\"type\": \"scattergeo\", \"lon\": [114.1667, 8.0], \"lat\": [22.25, 47.0], \"mode\": \"lines\", \"hoverinfo\": \"none\", \"line\": {\"width\": 1.2, \"color\": \"red\"}, \"opacity\": 0.01625}, {\"type\": \"scattergeo\", \"lon\": [8.0, 6.1667], \"lat\": [47.0, 49.75], \"mode\": \"lines\", \"hoverinfo\": \"none\", \"line\": {\"width\": 1.2, \"color\": \"red\"}, \"opacity\": 0.01625}, {\"type\": \"scattergeo\", \"lon\": [106.0, 114.1667], \"lat\": [16.0, 22.25], \"mode\": \"lines\", \"hoverinfo\": \"none\", \"line\": {\"width\": 1.2, \"color\": \"red\"}, \"opacity\": 0.016}, {\"type\": \"scattergeo\", \"lon\": [-88.75, 100.0], \"lat\": [17.25, 60.0], \"mode\": \"lines\", \"hoverinfo\": \"none\", \"line\": {\"width\": 1.2, \"color\": \"red\"}, \"opacity\": 0.016}, {\"type\": \"scattergeo\", \"lon\": [-55.0, -88.75], \"lat\": [-10.0, 17.25], \"mode\": \"lines\", \"hoverinfo\": \"none\", \"line\": {\"width\": 1.2, \"color\": \"red\"}, \"opacity\": 0.016}, {\"type\": \"scattergeo\", \"lon\": [-2.0, 103.8], \"lat\": [54.0, 1.3667], \"mode\": \"lines\", \"hoverinfo\": \"none\", \"line\": {\"width\": 1.2, \"color\": \"red\"}, \"opacity\": 0.01575}, {\"type\": \"scattergeo\", \"lon\": [-90.25, -97.0], \"lat\": [15.5, 38.0], \"mode\": \"lines\", \"hoverinfo\": \"none\", \"line\": {\"width\": 1.2, \"color\": \"red\"}, \"opacity\": 0.01575}, {\"type\": \"scattergeo\", \"lon\": [-62.75, 55.6667], \"lat\": [17.3333, -4.5833], \"mode\": \"lines\", \"hoverinfo\": \"none\", \"line\": {\"width\": 1.2, \"color\": \"red\"}, \"opacity\": 0.01575}, {\"type\": \"scattergeo\", \"lon\": [-4.0, -5.3667], \"lat\": [40.0, 36.1833], \"mode\": \"lines\", \"hoverinfo\": \"none\", \"line\": {\"width\": 1.2, \"color\": \"red\"}, \"opacity\": 0.01575}, {\"type\": \"scattergeo\", \"lon\": [-2.0, 32.0], \"lat\": [54.0, 49.0], \"mode\": \"lines\", \"hoverinfo\": \"none\", \"line\": {\"width\": 1.2, \"color\": \"red\"}, \"opacity\": 0.01575}, {\"type\": \"scattergeo\", \"lon\": [9.5333, -2.0], \"lat\": [47.1667, 54.0], \"mode\": \"lines\", \"hoverinfo\": \"none\", \"line\": {\"width\": 1.2, \"color\": \"red\"}, \"opacity\": 0.01575}, {\"type\": \"scattergeo\", \"lon\": [8.0, 36.0], \"lat\": [47.0, 31.0], \"mode\": \"lines\", \"hoverinfo\": \"none\", \"line\": {\"width\": 1.2, \"color\": \"red\"}, \"opacity\": 0.0155}, {\"type\": \"scattergeo\", \"lon\": [36.0, 57.55], \"lat\": [31.0, -20.2833], \"mode\": \"lines\", \"hoverinfo\": \"none\", \"line\": {\"width\": 1.2, \"color\": \"red\"}, \"opacity\": 0.0155}, {\"type\": \"scattergeo\", \"lon\": [-71.0, -56.0], \"lat\": [-30.0, -33.0], \"mode\": \"lines\", \"hoverinfo\": \"none\", \"line\": {\"width\": 1.2, \"color\": \"red\"}, \"opacity\": 0.01525}, {\"type\": \"scattergeo\", \"lon\": [174.0, 8.0], \"lat\": [-41.0, 47.0], \"mode\": \"lines\", \"hoverinfo\": \"none\", \"line\": {\"width\": 1.2, \"color\": \"red\"}, \"opacity\": 0.01525}, {\"type\": \"scattergeo\", \"lon\": [8.0, -4.55], \"lat\": [47.0, 54.23], \"mode\": \"lines\", \"hoverinfo\": \"none\", \"line\": {\"width\": 1.2, \"color\": \"red\"}, \"opacity\": 0.015}, {\"type\": \"scattergeo\", \"lon\": [-61.3333, 55.6667], \"lat\": [15.4167, -4.5833], \"mode\": \"lines\", \"hoverinfo\": \"none\", \"line\": {\"width\": 1.2, \"color\": \"red\"}, \"opacity\": 0.015}, {\"type\": \"scattergeo\", \"lon\": [-2.13, 36.0], \"lat\": [49.21, 31.0], \"mode\": \"lines\", \"hoverinfo\": \"none\", \"line\": {\"width\": 1.2, \"color\": \"red\"}, \"opacity\": 0.01475}, {\"type\": \"scattergeo\", \"lon\": [47.6581, -2.13], \"lat\": [29.3375, 49.21], \"mode\": \"lines\", \"hoverinfo\": \"none\", \"line\": {\"width\": 1.2, \"color\": \"red\"}, \"opacity\": 0.01475}, {\"type\": \"scattergeo\", \"lon\": [-80.0, -4.55], \"lat\": [9.0, 54.23], \"mode\": \"lines\", \"hoverinfo\": \"none\", \"line\": {\"width\": 1.2, \"color\": \"red\"}, \"opacity\": 0.01475}, {\"type\": \"scattergeo\", \"lon\": [12.8333, 8.0], \"lat\": [42.8333, 47.0], \"mode\": \"lines\", \"hoverinfo\": \"none\", \"line\": {\"width\": 1.2, \"color\": \"red\"}, \"opacity\": 0.01475}, {\"type\": \"scattergeo\", \"lon\": [103.8, 8.0], \"lat\": [1.3667, 47.0], \"mode\": \"lines\", \"hoverinfo\": \"none\", \"line\": {\"width\": 1.2, \"color\": \"red\"}, \"opacity\": 0.01475}, {\"type\": \"scattergeo\", \"lon\": [-56.0, -80.0], \"lat\": [-33.0, 9.0], \"mode\": \"lines\", \"hoverinfo\": \"none\", \"line\": {\"width\": 1.2, \"color\": \"red\"}, \"opacity\": 0.0145}, {\"type\": \"scattergeo\", \"lon\": [-64.5, -55.0], \"lat\": [18.5, -10.0], \"mode\": \"lines\", \"hoverinfo\": \"none\", \"line\": {\"width\": 1.2, \"color\": \"red\"}, \"opacity\": 0.0145}, {\"type\": \"scattergeo\", \"lon\": [-4.0, 114.1667], \"lat\": [40.0, 22.25], \"mode\": \"lines\", \"hoverinfo\": \"none\", \"line\": {\"width\": 1.2, \"color\": \"red\"}, \"opacity\": 0.01425}, {\"type\": \"scattergeo\", \"lon\": [105.0, 8.0], \"lat\": [35.0, 47.0], \"mode\": \"lines\", \"hoverinfo\": \"none\", \"line\": {\"width\": 1.2, \"color\": \"red\"}, \"opacity\": 0.01425}, {\"type\": \"scattergeo\", \"lon\": [15.5, 55.6667], \"lat\": [49.75, -4.5833], \"mode\": \"lines\", \"hoverinfo\": \"none\", \"line\": {\"width\": 1.2, \"color\": \"red\"}, \"opacity\": 0.01425}, {\"type\": \"scattergeo\", \"lon\": [-80.0, 33.0], \"lat\": [9.0, 35.0], \"mode\": \"lines\", \"hoverinfo\": \"none\", \"line\": {\"width\": 1.2, \"color\": \"red\"}, \"opacity\": 0.01425}, {\"type\": \"scattergeo\", \"lon\": [133.0, 33.0], \"lat\": [-27.0, 35.0], \"mode\": \"lines\", \"hoverinfo\": \"none\", \"line\": {\"width\": 1.2, \"color\": \"red\"}, \"opacity\": 0.01425}, {\"type\": \"scattergeo\", \"lon\": [45.0, -2.13], \"lat\": [25.0, 49.21], \"mode\": \"lines\", \"hoverinfo\": \"none\", \"line\": {\"width\": 1.2, \"color\": \"red\"}, \"opacity\": 0.01425}, {\"type\": \"scattergeo\", \"lon\": [-2.0, 2.0], \"lat\": [54.0, 46.0], \"mode\": \"lines\", \"hoverinfo\": \"none\", \"line\": {\"width\": 1.2, \"color\": \"red\"}, \"opacity\": 0.01425}, {\"type\": \"scattergeo\", \"lon\": [-64.5, 100.0], \"lat\": [18.5, 15.0], \"mode\": \"lines\", \"hoverinfo\": \"none\", \"line\": {\"width\": 1.2, \"color\": \"red\"}, \"opacity\": 0.014}, {\"type\": \"scattergeo\", \"lon\": [-80.0, 100.0], \"lat\": [9.0, 60.0], \"mode\": \"lines\", \"hoverinfo\": \"none\", \"line\": {\"width\": 1.2, \"color\": \"red\"}, \"opacity\": 0.014}, {\"type\": \"scattergeo\", \"lon\": [-2.13, 7.4], \"lat\": [49.21, 43.7333], \"mode\": \"lines\", \"hoverinfo\": \"none\", \"line\": {\"width\": 1.2, \"color\": \"red\"}, \"opacity\": 0.014}, {\"type\": \"scattergeo\", \"lon\": [-2.13, -88.75], \"lat\": [49.21, 17.25], \"mode\": \"lines\", \"hoverinfo\": \"none\", \"line\": {\"width\": 1.2, \"color\": \"red\"}, \"opacity\": 0.014}, {\"type\": \"scattergeo\", \"lon\": [-8.0, -5.3667], \"lat\": [53.0, 36.1833], \"mode\": \"lines\", \"hoverinfo\": \"none\", \"line\": {\"width\": 1.2, \"color\": \"red\"}, \"opacity\": 0.014}, {\"type\": \"scattergeo\", \"lon\": [112.5, -2.0], \"lat\": [2.5, 54.0], \"mode\": \"lines\", \"hoverinfo\": \"none\", \"line\": {\"width\": 1.2, \"color\": \"red\"}, \"opacity\": 0.014}, {\"type\": \"scattergeo\", \"lon\": [-2.0, -80.0], \"lat\": [54.0, 9.0], \"mode\": \"lines\", \"hoverinfo\": \"none\", \"line\": {\"width\": 1.2, \"color\": \"red\"}, \"opacity\": 0.01375}, {\"type\": \"scattergeo\", \"lon\": [-169.8667, 6.1667], \"lat\": [-19.0333, 49.75], \"mode\": \"lines\", \"hoverinfo\": \"none\", \"line\": {\"width\": 1.2, \"color\": \"red\"}, \"opacity\": 0.01375}, {\"type\": \"scattergeo\", \"lon\": [68.0, 8.0], \"lat\": [48.0, 47.0], \"mode\": \"lines\", \"hoverinfo\": \"none\", \"line\": {\"width\": 1.2, \"color\": \"red\"}, \"opacity\": 0.01375}, {\"type\": \"scattergeo\", \"lon\": [55.6667, 105.0], \"lat\": [-4.5833, 35.0], \"mode\": \"lines\", \"hoverinfo\": \"none\", \"line\": {\"width\": 1.2, \"color\": \"red\"}, \"opacity\": 0.0135}, {\"type\": \"scattergeo\", \"lon\": [-63.1667, -77.5], \"lat\": [18.25, -2.0], \"mode\": \"lines\", \"hoverinfo\": \"none\", \"line\": {\"width\": 1.2, \"color\": \"red\"}, \"opacity\": 0.0135}, {\"type\": \"scattergeo\", \"lon\": [8.0, -80.0], \"lat\": [47.0, 9.0], \"mode\": \"lines\", \"hoverinfo\": \"none\", \"line\": {\"width\": 1.2, \"color\": \"red\"}, \"opacity\": 0.0135}, {\"type\": \"scattergeo\", \"lon\": [34.75, -2.0], \"lat\": [31.5, 54.0], \"mode\": \"lines\", \"hoverinfo\": \"none\", \"line\": {\"width\": 1.2, \"color\": \"red\"}, \"opacity\": 0.0135}, {\"type\": \"scattergeo\", \"lon\": [168.0, 8.0], \"lat\": [9.0, 47.0], \"mode\": \"lines\", \"hoverinfo\": \"none\", \"line\": {\"width\": 1.2, \"color\": \"red\"}, \"opacity\": 0.0135}, {\"type\": \"scattergeo\", \"lon\": [-80.0, -2.13], \"lat\": [9.0, 49.21], \"mode\": \"lines\", \"hoverinfo\": \"none\", \"line\": {\"width\": 1.2, \"color\": \"red\"}, \"opacity\": 0.01325}, {\"type\": \"scattergeo\", \"lon\": [114.1667, -2.13], \"lat\": [22.25, 49.21], \"mode\": \"lines\", \"hoverinfo\": \"none\", \"line\": {\"width\": 1.2, \"color\": \"red\"}, \"opacity\": 0.01325}, {\"type\": \"scattergeo\", \"lon\": [-55.0, -80.0], \"lat\": [-10.0, 9.0], \"mode\": \"lines\", \"hoverinfo\": \"none\", \"line\": {\"width\": 1.2, \"color\": \"red\"}, \"opacity\": 0.01325}, {\"type\": \"scattergeo\", \"lon\": [30.0, -2.0], \"lat\": [27.0, 54.0], \"mode\": \"lines\", \"hoverinfo\": \"none\", \"line\": {\"width\": 1.2, \"color\": \"red\"}, \"opacity\": 0.01325}, {\"type\": \"scattergeo\", \"lon\": [8.0, -2.0], \"lat\": [10.0, 54.0], \"mode\": \"lines\", \"hoverinfo\": \"none\", \"line\": {\"width\": 1.2, \"color\": \"red\"}, \"opacity\": 0.013}, {\"type\": \"scattergeo\", \"lon\": [14.5833, 8.0], \"lat\": [35.8333, 47.0], \"mode\": \"lines\", \"hoverinfo\": \"none\", \"line\": {\"width\": 1.2, \"color\": \"red\"}, \"opacity\": 0.013}, {\"type\": \"scattergeo\", \"lon\": [-64.5, -84.0], \"lat\": [18.5, 10.0], \"mode\": \"lines\", \"hoverinfo\": \"none\", \"line\": {\"width\": 1.2, \"color\": \"red\"}, \"opacity\": 0.013}, {\"type\": \"scattergeo\", \"lon\": [-2.0, -76.0], \"lat\": [54.0, 24.25], \"mode\": \"lines\", \"hoverinfo\": \"none\", \"line\": {\"width\": 1.2, \"color\": \"red\"}, \"opacity\": 0.013}, {\"type\": \"scattergeo\", \"lon\": [114.1667, -2.0], \"lat\": [22.25, 54.0], \"mode\": \"lines\", \"hoverinfo\": \"none\", \"line\": {\"width\": 1.2, \"color\": \"red\"}, \"opacity\": 0.013}, {\"type\": \"scattergeo\", \"lon\": [-80.0, -90.25], \"lat\": [9.0, 15.5], \"mode\": \"lines\", \"hoverinfo\": \"none\", \"line\": {\"width\": 1.2, \"color\": \"red\"}, \"opacity\": 0.01275}, {\"type\": \"scattergeo\", \"lon\": [-80.5, 103.8], \"lat\": [19.5, 1.3667], \"mode\": \"lines\", \"hoverinfo\": \"none\", \"line\": {\"width\": 1.2, \"color\": \"red\"}, \"opacity\": 0.01275}, {\"type\": \"scattergeo\", \"lon\": [-97.0, -56.0], \"lat\": [38.0, -33.0], \"mode\": \"lines\", \"hoverinfo\": \"none\", \"line\": {\"width\": 1.2, \"color\": \"red\"}, \"opacity\": 0.01275}, {\"type\": \"scattergeo\", \"lon\": [112.5, 100.0], \"lat\": [2.5, 15.0], \"mode\": \"lines\", \"hoverinfo\": \"none\", \"line\": {\"width\": 1.2, \"color\": \"red\"}, \"opacity\": 0.0125}, {\"type\": \"scattergeo\", \"lon\": [22.0, 33.0], \"lat\": [39.0, 35.0], \"mode\": \"lines\", \"hoverinfo\": \"none\", \"line\": {\"width\": 1.2, \"color\": \"red\"}, \"opacity\": 0.0125}, {\"type\": \"scattergeo\", \"lon\": [-9.5, 8.0], \"lat\": [6.5, 47.0], \"mode\": \"lines\", \"hoverinfo\": \"none\", \"line\": {\"width\": 1.2, \"color\": \"red\"}, \"opacity\": 0.0125}, {\"type\": \"scattergeo\", \"lon\": [6.1667, -4.55], \"lat\": [49.75, 54.23], \"mode\": \"lines\", \"hoverinfo\": \"none\", \"line\": {\"width\": 1.2, \"color\": \"red\"}, \"opacity\": 0.0125}, {\"type\": \"scattergeo\", \"lon\": [-2.0, 35.8333], \"lat\": [54.0, 33.8333], \"mode\": \"lines\", \"hoverinfo\": \"none\", \"line\": {\"width\": 1.2, \"color\": \"red\"}, \"opacity\": 0.01225}, {\"type\": \"scattergeo\", \"lon\": [30.0, 57.55], \"lat\": [-20.0, -20.2833], \"mode\": \"lines\", \"hoverinfo\": \"none\", \"line\": {\"width\": 1.2, \"color\": \"red\"}, \"opacity\": 0.01225}, {\"type\": \"scattergeo\", \"lon\": [-9.5, 114.1667], \"lat\": [6.5, 22.25], \"mode\": \"lines\", \"hoverinfo\": \"none\", \"line\": {\"width\": 1.2, \"color\": \"red\"}, \"opacity\": 0.01225}, {\"type\": \"scattergeo\", \"lon\": [15.0, 114.1667], \"lat\": [62.0, 22.25], \"mode\": \"lines\", \"hoverinfo\": \"none\", \"line\": {\"width\": 1.2, \"color\": \"red\"}, \"opacity\": 0.01225}, {\"type\": \"scattergeo\", \"lon\": [-64.5, -90.25], \"lat\": [18.5, 15.5], \"mode\": \"lines\", \"hoverinfo\": \"none\", \"line\": {\"width\": 1.2, \"color\": \"red\"}, \"opacity\": 0.012}, {\"type\": \"scattergeo\", \"lon\": [-55.0, 7.4], \"lat\": [-10.0, 43.7333], \"mode\": \"lines\", \"hoverinfo\": \"none\", \"line\": {\"width\": 1.2, \"color\": \"red\"}, \"opacity\": 0.012}, {\"type\": \"scattergeo\", \"lon\": [68.0, 100.0], \"lat\": [48.0, 60.0], \"mode\": \"lines\", \"hoverinfo\": \"none\", \"line\": {\"width\": 1.2, \"color\": \"red\"}, \"opacity\": 0.012}, {\"type\": \"scattergeo\", \"lon\": [34.75, 114.1667], \"lat\": [31.5, 22.25], \"mode\": \"lines\", \"hoverinfo\": \"none\", \"line\": {\"width\": 1.2, \"color\": \"red\"}, \"opacity\": 0.01175}, {\"type\": \"scattergeo\", \"lon\": [21.0, 114.1667], \"lat\": [7.0, 22.25], \"mode\": \"lines\", \"hoverinfo\": \"none\", \"line\": {\"width\": 1.2, \"color\": \"red\"}, \"opacity\": 0.01175}, {\"type\": \"scattergeo\", \"lon\": [-64.5, -77.5], \"lat\": [18.5, -2.0], \"mode\": \"lines\", \"hoverinfo\": \"none\", \"line\": {\"width\": 1.2, \"color\": \"red\"}, \"opacity\": 0.01175}, {\"type\": \"scattergeo\", \"lon\": [34.75, 100.0], \"lat\": [31.5, 60.0], \"mode\": \"lines\", \"hoverinfo\": \"none\", \"line\": {\"width\": 1.2, \"color\": \"red\"}, \"opacity\": 0.01175}, {\"type\": \"scattergeo\", \"lon\": [-80.5, 105.0], \"lat\": [19.5, 35.0], \"mode\": \"lines\", \"hoverinfo\": \"none\", \"line\": {\"width\": 1.2, \"color\": \"red\"}, \"opacity\": 0.01175}, {\"type\": \"scattergeo\", \"lon\": [32.0, -2.0], \"lat\": [49.0, 54.0], \"mode\": \"lines\", \"hoverinfo\": \"none\", \"line\": {\"width\": 1.2, \"color\": \"red\"}, \"opacity\": 0.01175}, {\"type\": \"scattergeo\", \"lon\": [114.1667, -97.0], \"lat\": [22.25, 38.0], \"mode\": \"lines\", \"hoverinfo\": \"none\", \"line\": {\"width\": 1.2, \"color\": \"red\"}, \"opacity\": 0.0115}, {\"type\": \"scattergeo\", \"lon\": [-97.0, 14.5833], \"lat\": [38.0, 35.8333], \"mode\": \"lines\", \"hoverinfo\": \"none\", \"line\": {\"width\": 1.2, \"color\": \"red\"}, \"opacity\": 0.0115}, {\"type\": \"scattergeo\", \"lon\": [-169.8667, 103.8], \"lat\": [-19.0333, 1.3667], \"mode\": \"lines\", \"hoverinfo\": \"none\", \"line\": {\"width\": 1.2, \"color\": \"red\"}, \"opacity\": 0.0115}, {\"type\": \"scattergeo\", \"lon\": [-76.0, 100.0], \"lat\": [24.25, 60.0], \"mode\": \"lines\", \"hoverinfo\": \"none\", \"line\": {\"width\": 1.2, \"color\": \"red\"}, \"opacity\": 0.0115}, {\"type\": \"scattergeo\", \"lon\": [54.0, 114.1667], \"lat\": [24.0, 22.25], \"mode\": \"lines\", \"hoverinfo\": \"none\", \"line\": {\"width\": 1.2, \"color\": \"red\"}, \"opacity\": 0.0115}, {\"type\": \"scattergeo\", \"lon\": [-2.13, 34.75], \"lat\": [49.21, 31.5], \"mode\": \"lines\", \"hoverinfo\": \"none\", \"line\": {\"width\": 1.2, \"color\": \"red\"}, \"opacity\": 0.01125}, {\"type\": \"scattergeo\", \"lon\": [-84.0, -76.0], \"lat\": [10.0, 24.25], \"mode\": \"lines\", \"hoverinfo\": \"none\", \"line\": {\"width\": 1.2, \"color\": \"red\"}, \"opacity\": 0.01125}, {\"type\": \"scattergeo\", \"lon\": [174.0, -2.0], \"lat\": [-41.0, 54.0], \"mode\": \"lines\", \"hoverinfo\": \"none\", \"line\": {\"width\": 1.2, \"color\": \"red\"}, \"opacity\": 0.01125}, {\"type\": \"scattergeo\", \"lon\": [-64.5, 55.6667], \"lat\": [18.5, -4.5833], \"mode\": \"lines\", \"hoverinfo\": \"none\", \"line\": {\"width\": 1.2, \"color\": \"red\"}, \"opacity\": 0.01125}, {\"type\": \"scattergeo\", \"lon\": [70.0, 54.0], \"lat\": [30.0, 24.0], \"mode\": \"lines\", \"hoverinfo\": \"none\", \"line\": {\"width\": 1.2, \"color\": \"red\"}, \"opacity\": 0.01125}, {\"type\": \"scattergeo\", \"lon\": [55.6667, 35.8333], \"lat\": [-4.5833, 33.8333], \"mode\": \"lines\", \"hoverinfo\": \"none\", \"line\": {\"width\": 1.2, \"color\": \"red\"}, \"opacity\": 0.01125}, {\"type\": \"scattergeo\", \"lon\": [55.6667, -4.55], \"lat\": [-4.5833, 54.23], \"mode\": \"lines\", \"hoverinfo\": \"none\", \"line\": {\"width\": 1.2, \"color\": \"red\"}, \"opacity\": 0.01125}, {\"type\": \"scattergeo\", \"lon\": [77.0, 8.0], \"lat\": [20.0, 47.0], \"mode\": \"lines\", \"hoverinfo\": \"none\", \"line\": {\"width\": 1.2, \"color\": \"red\"}, \"opacity\": 0.01125}, {\"type\": \"scattergeo\", \"lon\": [-76.0, -5.3667], \"lat\": [24.25, 36.1833], \"mode\": \"lines\", \"hoverinfo\": \"none\", \"line\": {\"width\": 1.2, \"color\": \"red\"}, \"opacity\": 0.011}, {\"type\": \"scattergeo\", \"lon\": [-5.3667, -5.0], \"lat\": [36.1833, 32.0], \"mode\": \"lines\", \"hoverinfo\": \"none\", \"line\": {\"width\": 1.2, \"color\": \"red\"}, \"opacity\": 0.011}, {\"type\": \"scattergeo\", \"lon\": [57.55, -4.55], \"lat\": [-20.2833, 54.23], \"mode\": \"lines\", \"hoverinfo\": \"none\", \"line\": {\"width\": 1.2, \"color\": \"red\"}, \"opacity\": 0.011}, {\"type\": \"scattergeo\", \"lon\": [12.8333, 6.1667], \"lat\": [42.8333, 49.75], \"mode\": \"lines\", \"hoverinfo\": \"none\", \"line\": {\"width\": 1.2, \"color\": \"red\"}, \"opacity\": 0.011}, {\"type\": \"scattergeo\", \"lon\": [35.8333, -2.0], \"lat\": [33.8333, 54.0], \"mode\": \"lines\", \"hoverinfo\": \"none\", \"line\": {\"width\": 1.2, \"color\": \"red\"}, \"opacity\": 0.011}, {\"type\": \"scattergeo\", \"lon\": [24.0, 7.4], \"lat\": [-29.0, 43.7333], \"mode\": \"lines\", \"hoverinfo\": \"none\", \"line\": {\"width\": 1.2, \"color\": \"red\"}, \"opacity\": 0.011}, {\"type\": \"scattergeo\", \"lon\": [-63.1667, 8.0], \"lat\": [18.25, 47.0], \"mode\": \"lines\", \"hoverinfo\": \"none\", \"line\": {\"width\": 1.2, \"color\": \"red\"}, \"opacity\": 0.01075}, {\"type\": \"scattergeo\", \"lon\": [-76.0, -2.0], \"lat\": [24.25, 54.0], \"mode\": \"lines\", \"hoverinfo\": \"none\", \"line\": {\"width\": 1.2, \"color\": \"red\"}, \"opacity\": 0.01075}, {\"type\": \"scattergeo\", \"lon\": [-172.3333, 34.75], \"lat\": [-13.5833, 31.5], \"mode\": \"lines\", \"hoverinfo\": \"none\", \"line\": {\"width\": 1.2, \"color\": \"red\"}, \"opacity\": 0.01075}, {\"type\": \"scattergeo\", \"lon\": [100.0, -97.0], \"lat\": [60.0, 38.0], \"mode\": \"lines\", \"hoverinfo\": \"none\", \"line\": {\"width\": 1.2, \"color\": \"red\"}, \"opacity\": 0.01075}, {\"type\": \"scattergeo\", \"lon\": [-64.5, 121.0], \"lat\": [18.5, 23.5], \"mode\": \"lines\", \"hoverinfo\": \"none\", \"line\": {\"width\": 1.2, \"color\": \"red\"}, \"opacity\": 0.01075}, {\"type\": \"scattergeo\", \"lon\": [35.8333, -2.13], \"lat\": [33.8333, 49.21], \"mode\": \"lines\", \"hoverinfo\": \"none\", \"line\": {\"width\": 1.2, \"color\": \"red\"}, \"opacity\": 0.01075}, {\"type\": \"scattergeo\", \"lon\": [-8.0, 5.75], \"lat\": [39.5, 52.5], \"mode\": \"lines\", \"hoverinfo\": \"none\", \"line\": {\"width\": 1.2, \"color\": \"red\"}, \"opacity\": 0.01075}, {\"type\": \"scattergeo\", \"lon\": [-66.0, 8.0], \"lat\": [8.0, 47.0], \"mode\": \"lines\", \"hoverinfo\": \"none\", \"line\": {\"width\": 1.2, \"color\": \"red\"}, \"opacity\": 0.01075}, {\"type\": \"scattergeo\", \"lon\": [-80.5, -2.13], \"lat\": [19.5, 49.21], \"mode\": \"lines\", \"hoverinfo\": \"none\", \"line\": {\"width\": 1.2, \"color\": \"red\"}, \"opacity\": 0.0105}, {\"type\": \"scattergeo\", \"lon\": [15.0, -2.56], \"lat\": [62.0, 49.5], \"mode\": \"lines\", \"hoverinfo\": \"none\", \"line\": {\"width\": 1.2, \"color\": \"red\"}, \"opacity\": 0.0105}, {\"type\": \"scattergeo\", \"lon\": [38.0, -2.0], \"lat\": [1.0, 54.0], \"mode\": \"lines\", \"hoverinfo\": \"none\", \"line\": {\"width\": 1.2, \"color\": \"red\"}, \"opacity\": 0.0105}, {\"type\": \"scattergeo\", \"lon\": [103.8, -2.0], \"lat\": [1.3667, 54.0], \"mode\": \"lines\", \"hoverinfo\": \"none\", \"line\": {\"width\": 1.2, \"color\": \"red\"}, \"opacity\": 0.0105}, {\"type\": \"scattergeo\", \"lon\": [77.0, -2.0], \"lat\": [20.0, 54.0], \"mode\": \"lines\", \"hoverinfo\": \"none\", \"line\": {\"width\": 1.2, \"color\": \"red\"}, \"opacity\": 0.0105}, {\"type\": \"scattergeo\", \"lon\": [-72.0, -97.0], \"lat\": [4.0, 38.0], \"mode\": \"lines\", \"hoverinfo\": \"none\", \"line\": {\"width\": 1.2, \"color\": \"red\"}, \"opacity\": 0.01025}, {\"type\": \"scattergeo\", \"lon\": [103.8, -2.13], \"lat\": [1.3667, 49.21], \"mode\": \"lines\", \"hoverinfo\": \"none\", \"line\": {\"width\": 1.2, \"color\": \"red\"}, \"opacity\": 0.01025}, {\"type\": \"scattergeo\", \"lon\": [43.5, 8.0], \"lat\": [42.0, 47.0], \"mode\": \"lines\", \"hoverinfo\": \"none\", \"line\": {\"width\": 1.2, \"color\": \"red\"}, \"opacity\": 0.01025}, {\"type\": \"scattergeo\", \"lon\": [-88.75, -56.0], \"lat\": [17.25, -33.0], \"mode\": \"lines\", \"hoverinfo\": \"none\", \"line\": {\"width\": 1.2, \"color\": \"red\"}, \"opacity\": 0.01025}, {\"type\": \"scattergeo\", \"lon\": [-64.75, 8.0], \"lat\": [32.3333, 47.0], \"mode\": \"lines\", \"hoverinfo\": \"none\", \"line\": {\"width\": 1.2, \"color\": \"red\"}, \"opacity\": 0.01025}, {\"type\": \"scattergeo\", \"lon\": [-4.55, 14.5833], \"lat\": [54.23, 35.8333], \"mode\": \"lines\", \"hoverinfo\": \"none\", \"line\": {\"width\": 1.2, \"color\": \"red\"}, \"opacity\": 0.01025}, {\"type\": \"scattergeo\", \"lon\": [-76.0, -56.0], \"lat\": [24.25, -33.0], \"mode\": \"lines\", \"hoverinfo\": \"none\", \"line\": {\"width\": 1.2, \"color\": \"red\"}, \"opacity\": 0.01}, {\"type\": \"scattergeo\", \"lon\": [-64.0, 8.0], \"lat\": [-34.0, 47.0], \"mode\": \"lines\", \"hoverinfo\": \"none\", \"line\": {\"width\": 1.2, \"color\": \"red\"}, \"opacity\": 0.01}, {\"type\": \"scattergeo\", \"lon\": [-77.5, -97.0], \"lat\": [-2.0, 38.0], \"mode\": \"lines\", \"hoverinfo\": \"none\", \"line\": {\"width\": 1.2, \"color\": \"red\"}, \"opacity\": 0.01}, {\"type\": \"scattergeo\", \"lon\": [-4.55, -97.0], \"lat\": [54.23, 38.0], \"mode\": \"lines\", \"hoverinfo\": \"none\", \"line\": {\"width\": 1.2, \"color\": \"red\"}, \"opacity\": 0.01}, {\"type\": \"scattergeo\", \"lon\": [-2.13, -76.0], \"lat\": [49.21, 24.25], \"mode\": \"lines\", \"hoverinfo\": \"none\", \"line\": {\"width\": 1.2, \"color\": \"red\"}, \"opacity\": 0.01}, {\"type\": \"scattergeo\", \"lon\": [55.6667, 103.8], \"lat\": [-4.5833, 1.3667], \"mode\": \"lines\", \"hoverinfo\": \"none\", \"line\": {\"width\": 1.2, \"color\": \"red\"}, \"opacity\": 0.01}, {\"type\": \"scattergeo\", \"lon\": [-80.0, -88.75], \"lat\": [9.0, 17.25], \"mode\": \"lines\", \"hoverinfo\": \"none\", \"line\": {\"width\": 1.2, \"color\": \"red\"}, \"opacity\": 0.01}, {\"type\": \"scattergeo\", \"lon\": [7.4, 54.0], \"lat\": [43.7333, 24.0], \"mode\": \"lines\", \"hoverinfo\": \"none\", \"line\": {\"width\": 1.2, \"color\": \"red\"}, \"opacity\": 0.01}, {\"type\": \"scattergeo\", \"lon\": [133.0, -2.0], \"lat\": [-27.0, 54.0], \"mode\": \"lines\", \"hoverinfo\": \"none\", \"line\": {\"width\": 1.2, \"color\": \"red\"}, \"opacity\": 0.01}, {\"type\": \"scattergeo\", \"lon\": [54.0, 55.6667], \"lat\": [24.0, -4.5833], \"mode\": \"lines\", \"hoverinfo\": \"none\", \"line\": {\"width\": 1.2, \"color\": \"red\"}, \"opacity\": 0.01}, {\"type\": \"scattergeo\", \"lon\": [-95.0, 105.0], \"lat\": [60.0, 35.0], \"mode\": \"lines\", \"hoverinfo\": \"none\", \"line\": {\"width\": 1.2, \"color\": \"red\"}, \"opacity\": 0.00975}, {\"type\": \"scattergeo\", \"lon\": [-80.0, -4.0], \"lat\": [9.0, 40.0], \"mode\": \"lines\", \"hoverinfo\": \"none\", \"line\": {\"width\": 1.2, \"color\": \"red\"}, \"opacity\": 0.00975}, {\"type\": \"scattergeo\", \"lon\": [114.1667, 100.0], \"lat\": [22.25, 15.0], \"mode\": \"lines\", \"hoverinfo\": \"none\", \"line\": {\"width\": 1.2, \"color\": \"red\"}, \"opacity\": 0.00975}, {\"type\": \"scattergeo\", \"lon\": [-5.3667, 24.0], \"lat\": [36.1833, -29.0], \"mode\": \"lines\", \"hoverinfo\": \"none\", \"line\": {\"width\": 1.2, \"color\": \"red\"}, \"opacity\": 0.00975}, {\"type\": \"scattergeo\", \"lon\": [100.0, 55.6667], \"lat\": [60.0, -4.5833], \"mode\": \"lines\", \"hoverinfo\": \"none\", \"line\": {\"width\": 1.2, \"color\": \"red\"}, \"opacity\": 0.00975}, {\"type\": \"scattergeo\", \"lon\": [-4.55, 57.55], \"lat\": [54.23, -20.2833], \"mode\": \"lines\", \"hoverinfo\": \"none\", \"line\": {\"width\": 1.2, \"color\": \"red\"}, \"opacity\": 0.00975}, {\"type\": \"scattergeo\", \"lon\": [-77.5, -76.0], \"lat\": [-2.0, 24.25], \"mode\": \"lines\", \"hoverinfo\": \"none\", \"line\": {\"width\": 1.2, \"color\": \"red\"}, \"opacity\": 0.0095}, {\"type\": \"scattergeo\", \"lon\": [-97.0, -72.0], \"lat\": [38.0, 4.0], \"mode\": \"lines\", \"hoverinfo\": \"none\", \"line\": {\"width\": 1.2, \"color\": \"red\"}, \"opacity\": 0.0095}, {\"type\": \"scattergeo\", \"lon\": [-5.0, 8.0], \"lat\": [32.0, 47.0], \"mode\": \"lines\", \"hoverinfo\": \"none\", \"line\": {\"width\": 1.2, \"color\": \"red\"}, \"opacity\": 0.0095}, {\"type\": \"scattergeo\", \"lon\": [-58.0, -56.0], \"lat\": [-23.0, -33.0], \"mode\": \"lines\", \"hoverinfo\": \"none\", \"line\": {\"width\": 1.2, \"color\": \"red\"}, \"opacity\": 0.0095}, {\"type\": \"scattergeo\", \"lon\": [29.0, 100.0], \"lat\": [47.0, 60.0], \"mode\": \"lines\", \"hoverinfo\": \"none\", \"line\": {\"width\": 1.2, \"color\": \"red\"}, \"opacity\": 0.0095}, {\"type\": \"scattergeo\", \"lon\": [-76.0, 7.4], \"lat\": [24.25, 43.7333], \"mode\": \"lines\", \"hoverinfo\": \"none\", \"line\": {\"width\": 1.2, \"color\": \"red\"}, \"opacity\": 0.0095}, {\"type\": \"scattergeo\", \"lon\": [8.0, 8.0], \"lat\": [10.0, 47.0], \"mode\": \"lines\", \"hoverinfo\": \"none\", \"line\": {\"width\": 1.2, \"color\": \"red\"}, \"opacity\": 0.0095}, {\"type\": \"scattergeo\", \"lon\": [24.0, 114.1667], \"lat\": [-29.0, 22.25], \"mode\": \"lines\", \"hoverinfo\": \"none\", \"line\": {\"width\": 1.2, \"color\": \"red\"}, \"opacity\": 0.00925}, {\"type\": \"scattergeo\", \"lon\": [4.0, 114.1667], \"lat\": [50.8333, 22.25], \"mode\": \"lines\", \"hoverinfo\": \"none\", \"line\": {\"width\": 1.2, \"color\": \"red\"}, \"opacity\": 0.00925}, {\"type\": \"scattergeo\", \"lon\": [-64.5, -56.0], \"lat\": [18.5, -33.0], \"mode\": \"lines\", \"hoverinfo\": \"none\", \"line\": {\"width\": 1.2, \"color\": \"red\"}, \"opacity\": 0.00925}, {\"type\": \"scattergeo\", \"lon\": [-80.0, 103.8], \"lat\": [9.0, 1.3667], \"mode\": \"lines\", \"hoverinfo\": \"none\", \"line\": {\"width\": 1.2, \"color\": \"red\"}, \"opacity\": 0.00925}, {\"type\": \"scattergeo\", \"lon\": [-4.0, -172.3333], \"lat\": [40.0, -13.5833], \"mode\": \"lines\", \"hoverinfo\": \"none\", \"line\": {\"width\": 1.2, \"color\": \"red\"}, \"opacity\": 0.00925}, {\"type\": \"scattergeo\", \"lon\": [-64.0, -80.0], \"lat\": [-34.0, 9.0], \"mode\": \"lines\", \"hoverinfo\": \"none\", \"line\": {\"width\": 1.2, \"color\": \"red\"}, \"opacity\": 0.00925}, {\"type\": \"scattergeo\", \"lon\": [7.4, -4.55], \"lat\": [43.7333, 54.23], \"mode\": \"lines\", \"hoverinfo\": \"none\", \"line\": {\"width\": 1.2, \"color\": \"red\"}, \"opacity\": 0.00925}, {\"type\": \"scattergeo\", \"lon\": [105.0, 114.1667], \"lat\": [46.0, 22.25], \"mode\": \"lines\", \"hoverinfo\": \"none\", \"line\": {\"width\": 1.2, \"color\": \"red\"}, \"opacity\": 0.00925}, {\"type\": \"scattergeo\", \"lon\": [35.8333, 54.0], \"lat\": [33.8333, 24.0], \"mode\": \"lines\", \"hoverinfo\": \"none\", \"line\": {\"width\": 1.2, \"color\": \"red\"}, \"opacity\": 0.00925}, {\"type\": \"scattergeo\", \"lon\": [-97.0, -4.55], \"lat\": [38.0, 54.23], \"mode\": \"lines\", \"hoverinfo\": \"none\", \"line\": {\"width\": 1.2, \"color\": \"red\"}, \"opacity\": 0.009}, {\"type\": \"scattergeo\", \"lon\": [-2.13, -97.0], \"lat\": [49.21, 38.0], \"mode\": \"lines\", \"hoverinfo\": \"none\", \"line\": {\"width\": 1.2, \"color\": \"red\"}, \"opacity\": 0.009}, {\"type\": \"scattergeo\", \"lon\": [133.0, -2.13], \"lat\": [-27.0, 49.21], \"mode\": \"lines\", \"hoverinfo\": \"none\", \"line\": {\"width\": 1.2, \"color\": \"red\"}, \"opacity\": 0.009}, {\"type\": \"scattergeo\", \"lon\": [-84.0, 8.0], \"lat\": [10.0, 47.0], \"mode\": \"lines\", \"hoverinfo\": \"none\", \"line\": {\"width\": 1.2, \"color\": \"red\"}, \"opacity\": 0.009}, {\"type\": \"scattergeo\", \"lon\": [7.4, 6.1667], \"lat\": [43.7333, 49.75], \"mode\": \"lines\", \"hoverinfo\": \"none\", \"line\": {\"width\": 1.2, \"color\": \"red\"}, \"opacity\": 0.009}, {\"type\": \"scattergeo\", \"lon\": [50.55, 36.0], \"lat\": [26.0, 31.0], \"mode\": \"lines\", \"hoverinfo\": \"none\", \"line\": {\"width\": 1.2, \"color\": \"red\"}, \"opacity\": 0.009}, {\"type\": \"scattergeo\", \"lon\": [-2.13, -80.0], \"lat\": [49.21, 9.0], \"mode\": \"lines\", \"hoverinfo\": \"none\", \"line\": {\"width\": 1.2, \"color\": \"red\"}, \"opacity\": 0.009}, {\"type\": \"scattergeo\", \"lon\": [100.0, 9.5333], \"lat\": [60.0, 47.1667], \"mode\": \"lines\", \"hoverinfo\": \"none\", \"line\": {\"width\": 1.2, \"color\": \"red\"}, \"opacity\": 0.009}, {\"type\": \"scattergeo\", \"lon\": [6.1667, -8.0], \"lat\": [49.75, 39.5], \"mode\": \"lines\", \"hoverinfo\": \"none\", \"line\": {\"width\": 1.2, \"color\": \"red\"}, \"opacity\": 0.009}, {\"type\": \"scattergeo\", \"lon\": [8.0, 35.8333], \"lat\": [10.0, 33.8333], \"mode\": \"lines\", \"hoverinfo\": \"none\", \"line\": {\"width\": 1.2, \"color\": \"red\"}, \"opacity\": 0.009}, {\"type\": \"scattergeo\", \"lon\": [8.0, 36.0], \"lat\": [10.0, 31.0], \"mode\": \"lines\", \"hoverinfo\": \"none\", \"line\": {\"width\": 1.2, \"color\": \"red\"}, \"opacity\": 0.009}, {\"type\": \"scattergeo\", \"lon\": [9.5333, 54.0], \"lat\": [47.1667, 24.0], \"mode\": \"lines\", \"hoverinfo\": \"none\", \"line\": {\"width\": 1.2, \"color\": \"red\"}, \"opacity\": 0.00875}, {\"type\": \"scattergeo\", \"lon\": [103.8, 100.0], \"lat\": [1.3667, 15.0], \"mode\": \"lines\", \"hoverinfo\": \"none\", \"line\": {\"width\": 1.2, \"color\": \"red\"}, \"opacity\": 0.00875}, {\"type\": \"scattergeo\", \"lon\": [-80.5, -2.0], \"lat\": [19.5, 54.0], \"mode\": \"lines\", \"hoverinfo\": \"none\", \"line\": {\"width\": 1.2, \"color\": \"red\"}, \"opacity\": 0.00875}, {\"type\": \"scattergeo\", \"lon\": [-4.0, -56.0], \"lat\": [40.0, -33.0], \"mode\": \"lines\", \"hoverinfo\": \"none\", \"line\": {\"width\": 1.2, \"color\": \"red\"}, \"opacity\": 0.00875}, {\"type\": \"scattergeo\", \"lon\": [54.0, 77.0], \"lat\": [24.0, 20.0], \"mode\": \"lines\", \"hoverinfo\": \"none\", \"line\": {\"width\": 1.2, \"color\": \"red\"}, \"opacity\": 0.00875}, {\"type\": \"scattergeo\", \"lon\": [30.0, 36.0], \"lat\": [27.0, 31.0], \"mode\": \"lines\", \"hoverinfo\": \"none\", \"line\": {\"width\": 1.2, \"color\": \"red\"}, \"opacity\": 0.00875}, {\"type\": \"scattergeo\", \"lon\": [9.0, 8.0], \"lat\": [51.0, 47.0], \"mode\": \"lines\", \"hoverinfo\": \"none\", \"line\": {\"width\": 1.2, \"color\": \"red\"}, \"opacity\": 0.00875}, {\"type\": \"scattergeo\", \"lon\": [-97.0, 100.0], \"lat\": [38.0, 60.0], \"mode\": \"lines\", \"hoverinfo\": \"none\", \"line\": {\"width\": 1.2, \"color\": \"red\"}, \"opacity\": 0.00875}, {\"type\": \"scattergeo\", \"lon\": [2.0, 103.8], \"lat\": [46.0, 1.3667], \"mode\": \"lines\", \"hoverinfo\": \"none\", \"line\": {\"width\": 1.2, \"color\": \"red\"}, \"opacity\": 0.00875}, {\"type\": \"scattergeo\", \"lon\": [-88.75, 34.75], \"lat\": [17.25, 31.5], \"mode\": \"lines\", \"hoverinfo\": \"none\", \"line\": {\"width\": 1.2, \"color\": \"red\"}, \"opacity\": 0.00875}, {\"type\": \"scattergeo\", \"lon\": [-2.13, 33.0], \"lat\": [49.21, 35.0], \"mode\": \"lines\", \"hoverinfo\": \"none\", \"line\": {\"width\": 1.2, \"color\": \"red\"}, \"opacity\": 0.0085}, {\"type\": \"scattergeo\", \"lon\": [-55.0, 114.1667], \"lat\": [-10.0, 22.25], \"mode\": \"lines\", \"hoverinfo\": \"none\", \"line\": {\"width\": 1.2, \"color\": \"red\"}, \"opacity\": 0.0085}, {\"type\": \"scattergeo\", \"lon\": [9.5333, -2.56], \"lat\": [47.1667, 49.5], \"mode\": \"lines\", \"hoverinfo\": \"none\", \"line\": {\"width\": 1.2, \"color\": \"red\"}, \"opacity\": 0.0085}, {\"type\": \"scattergeo\", \"lon\": [55.6667, 7.4], \"lat\": [-4.5833, 43.7333], \"mode\": \"lines\", \"hoverinfo\": \"none\", \"line\": {\"width\": 1.2, \"color\": \"red\"}, \"opacity\": 0.0085}, {\"type\": \"scattergeo\", \"lon\": [54.0, -2.56], \"lat\": [24.0, 49.5], \"mode\": \"lines\", \"hoverinfo\": \"none\", \"line\": {\"width\": 1.2, \"color\": \"red\"}, \"opacity\": 0.0085}, {\"type\": \"scattergeo\", \"lon\": [122.0, 103.8], \"lat\": [13.0, 1.3667], \"mode\": \"lines\", \"hoverinfo\": \"none\", \"line\": {\"width\": 1.2, \"color\": \"red\"}, \"opacity\": 0.0085}, {\"type\": \"scattergeo\", \"lon\": [-4.55, 114.1667], \"lat\": [54.23, 22.25], \"mode\": \"lines\", \"hoverinfo\": \"none\", \"line\": {\"width\": 1.2, \"color\": \"red\"}, \"opacity\": 0.0085}, {\"type\": \"scattergeo\", \"lon\": [-64.5, 35.8333], \"lat\": [18.5, 33.8333], \"mode\": \"lines\", \"hoverinfo\": \"none\", \"line\": {\"width\": 1.2, \"color\": \"red\"}, \"opacity\": 0.0085}, {\"type\": \"scattergeo\", \"lon\": [32.0, 33.0], \"lat\": [49.0, 35.0], \"mode\": \"lines\", \"hoverinfo\": \"none\", \"line\": {\"width\": 1.2, \"color\": \"red\"}, \"opacity\": 0.0085}, {\"type\": \"scattergeo\", \"lon\": [49.0, 114.1667], \"lat\": [10.0, 22.25], \"mode\": \"lines\", \"hoverinfo\": \"none\", \"line\": {\"width\": 1.2, \"color\": \"red\"}, \"opacity\": 0.00825}, {\"type\": \"scattergeo\", \"lon\": [-5.3667, -4.55], \"lat\": [36.1833, 54.23], \"mode\": \"lines\", \"hoverinfo\": \"none\", \"line\": {\"width\": 1.2, \"color\": \"red\"}, \"opacity\": 0.00825}, {\"type\": \"scattergeo\", \"lon\": [100.0, -2.0], \"lat\": [15.0, 54.0], \"mode\": \"lines\", \"hoverinfo\": \"none\", \"line\": {\"width\": 1.2, \"color\": \"red\"}, \"opacity\": 0.00825}, {\"type\": \"scattergeo\", \"lon\": [-8.0, -2.0], \"lat\": [53.0, 54.0], \"mode\": \"lines\", \"hoverinfo\": \"none\", \"line\": {\"width\": 1.2, \"color\": \"red\"}, \"opacity\": 0.00825}, {\"type\": \"scattergeo\", \"lon\": [-2.56, -5.3667], \"lat\": [49.5, 36.1833], \"mode\": \"lines\", \"hoverinfo\": \"none\", \"line\": {\"width\": 1.2, \"color\": \"red\"}, \"opacity\": 0.00825}, {\"type\": \"scattergeo\", \"lon\": [114.1667, 6.1667], \"lat\": [22.25, 49.75], \"mode\": \"lines\", \"hoverinfo\": \"none\", \"line\": {\"width\": 1.2, \"color\": \"red\"}, \"opacity\": 0.00825}, {\"type\": \"scattergeo\", \"lon\": [-5.3667, -4.0], \"lat\": [36.1833, 40.0], \"mode\": \"lines\", \"hoverinfo\": \"none\", \"line\": {\"width\": 1.2, \"color\": \"red\"}, \"opacity\": 0.00825}, {\"type\": \"scattergeo\", \"lon\": [-172.3333, -4.55], \"lat\": [-13.5833, 54.23], \"mode\": \"lines\", \"hoverinfo\": \"none\", \"line\": {\"width\": 1.2, \"color\": \"red\"}, \"opacity\": 0.00825}, {\"type\": \"scattergeo\", \"lon\": [-4.0, -2.0], \"lat\": [40.0, 54.0], \"mode\": \"lines\", \"hoverinfo\": \"none\", \"line\": {\"width\": 1.2, \"color\": \"red\"}, \"opacity\": 0.00825}, {\"type\": \"scattergeo\", \"lon\": [-95.0, 54.0], \"lat\": [60.0, 24.0], \"mode\": \"lines\", \"hoverinfo\": \"none\", \"line\": {\"width\": 1.2, \"color\": \"red\"}, \"opacity\": 0.00825}, {\"type\": \"scattergeo\", \"lon\": [-97.0, 7.4], \"lat\": [38.0, 43.7333], \"mode\": \"lines\", \"hoverinfo\": \"none\", \"line\": {\"width\": 1.2, \"color\": \"red\"}, \"opacity\": 0.008}, {\"type\": \"scattergeo\", \"lon\": [9.0, 6.1667], \"lat\": [51.0, 49.75], \"mode\": \"lines\", \"hoverinfo\": \"none\", \"line\": {\"width\": 1.2, \"color\": \"red\"}, \"opacity\": 0.008}, {\"type\": \"scattergeo\", \"lon\": [57.55, -2.13], \"lat\": [-20.2833, 49.21], \"mode\": \"lines\", \"hoverinfo\": \"none\", \"line\": {\"width\": 1.2, \"color\": \"red\"}, \"opacity\": 0.008}, {\"type\": \"scattergeo\", \"lon\": [-97.0, -90.25], \"lat\": [38.0, 15.5], \"mode\": \"lines\", \"hoverinfo\": \"none\", \"line\": {\"width\": 1.2, \"color\": \"red\"}, \"opacity\": 0.008}, {\"type\": \"scattergeo\", \"lon\": [114.6667, 103.8], \"lat\": [4.5, 1.3667], \"mode\": \"lines\", \"hoverinfo\": \"none\", \"line\": {\"width\": 1.2, \"color\": \"red\"}, \"opacity\": 0.008}, {\"type\": \"scattergeo\", \"lon\": [-64.5, -4.0], \"lat\": [18.5, 40.0], \"mode\": \"lines\", \"hoverinfo\": \"none\", \"line\": {\"width\": 1.2, \"color\": \"red\"}, \"opacity\": 0.008}, {\"type\": \"scattergeo\", \"lon\": [34.75, -2.13], \"lat\": [31.5, 49.21], \"mode\": \"lines\", \"hoverinfo\": \"none\", \"line\": {\"width\": 1.2, \"color\": \"red\"}, \"opacity\": 0.008}, {\"type\": \"scattergeo\", \"lon\": [45.0, 54.0], \"lat\": [25.0, 24.0], \"mode\": \"lines\", \"hoverinfo\": \"none\", \"line\": {\"width\": 1.2, \"color\": \"red\"}, \"opacity\": 0.008}, {\"type\": \"scattergeo\", \"lon\": [105.0, -2.0], \"lat\": [35.0, 54.0], \"mode\": \"lines\", \"hoverinfo\": \"none\", \"line\": {\"width\": 1.2, \"color\": \"red\"}, \"opacity\": 0.00775}, {\"type\": \"scattergeo\", \"lon\": [-55.0, -76.0], \"lat\": [-10.0, 24.25], \"mode\": \"lines\", \"hoverinfo\": \"none\", \"line\": {\"width\": 1.2, \"color\": \"red\"}, \"opacity\": 0.00775}, {\"type\": \"scattergeo\", \"lon\": [-76.0, -80.0], \"lat\": [24.25, 9.0], \"mode\": \"lines\", \"hoverinfo\": \"none\", \"line\": {\"width\": 1.2, \"color\": \"red\"}, \"opacity\": 0.00775}, {\"type\": \"scattergeo\", \"lon\": [-8.0, -4.55], \"lat\": [53.0, 54.23], \"mode\": \"lines\", \"hoverinfo\": \"none\", \"line\": {\"width\": 1.2, \"color\": \"red\"}, \"opacity\": 0.00775}, {\"type\": \"scattergeo\", \"lon\": [54.0, -97.0], \"lat\": [24.0, 38.0], \"mode\": \"lines\", \"hoverinfo\": \"none\", \"line\": {\"width\": 1.2, \"color\": \"red\"}, \"opacity\": 0.00775}, {\"type\": \"scattergeo\", \"lon\": [36.0, -2.0], \"lat\": [31.0, 54.0], \"mode\": \"lines\", \"hoverinfo\": \"none\", \"line\": {\"width\": 1.2, \"color\": \"red\"}, \"opacity\": 0.00775}, {\"type\": \"scattergeo\", \"lon\": [38.0, -2.13], \"lat\": [1.0, 49.21], \"mode\": \"lines\", \"hoverinfo\": \"none\", \"line\": {\"width\": 1.2, \"color\": \"red\"}, \"opacity\": 0.00775}, {\"type\": \"scattergeo\", \"lon\": [12.8333, 14.5833], \"lat\": [42.8333, 35.8333], \"mode\": \"lines\", \"hoverinfo\": \"none\", \"line\": {\"width\": 1.2, \"color\": \"red\"}, \"opacity\": 0.00775}, {\"type\": \"scattergeo\", \"lon\": [33.0, 9.5333], \"lat\": [35.0, 47.1667], \"mode\": \"lines\", \"hoverinfo\": \"none\", \"line\": {\"width\": 1.2, \"color\": \"red\"}, \"opacity\": 0.00775}, {\"type\": \"scattergeo\", \"lon\": [-76.0, -4.55], \"lat\": [24.25, 54.23], \"mode\": \"lines\", \"hoverinfo\": \"none\", \"line\": {\"width\": 1.2, \"color\": \"red\"}, \"opacity\": 0.0075}, {\"type\": \"scattergeo\", \"lon\": [-172.3333, -88.75], \"lat\": [-13.5833, 17.25], \"mode\": \"lines\", \"hoverinfo\": \"none\", \"line\": {\"width\": 1.2, \"color\": \"red\"}, \"opacity\": 0.0075}, {\"type\": \"scattergeo\", \"lon\": [7.4, -2.0], \"lat\": [43.7333, 54.0], \"mode\": \"lines\", \"hoverinfo\": \"none\", \"line\": {\"width\": 1.2, \"color\": \"red\"}, \"opacity\": 0.0075}, {\"type\": \"scattergeo\", \"lon\": [-2.13, 6.1667], \"lat\": [49.21, 49.75], \"mode\": \"lines\", \"hoverinfo\": \"none\", \"line\": {\"width\": 1.2, \"color\": \"red\"}, \"opacity\": 0.0075}, {\"type\": \"scattergeo\", \"lon\": [-88.75, 54.0], \"lat\": [17.25, 24.0], \"mode\": \"lines\", \"hoverinfo\": \"none\", \"line\": {\"width\": 1.2, \"color\": \"red\"}, \"opacity\": 0.0075}, {\"type\": \"scattergeo\", \"lon\": [8.0, -8.0], \"lat\": [47.0, 39.5], \"mode\": \"lines\", \"hoverinfo\": \"none\", \"line\": {\"width\": 1.2, \"color\": \"red\"}, \"opacity\": 0.0075}, {\"type\": \"scattergeo\", \"lon\": [33.0, 114.1667], \"lat\": [35.0, 22.25], \"mode\": \"lines\", \"hoverinfo\": \"none\", \"line\": {\"width\": 1.2, \"color\": \"red\"}, \"opacity\": 0.0075}, {\"type\": \"scattergeo\", \"lon\": [-80.0, -66.0], \"lat\": [9.0, 8.0], \"mode\": \"lines\", \"hoverinfo\": \"none\", \"line\": {\"width\": 1.2, \"color\": \"red\"}, \"opacity\": 0.00725}, {\"type\": \"scattergeo\", \"lon\": [-4.0, -80.0], \"lat\": [40.0, 9.0], \"mode\": \"lines\", \"hoverinfo\": \"none\", \"line\": {\"width\": 1.2, \"color\": \"red\"}, \"opacity\": 0.00725}, {\"type\": \"scattergeo\", \"lon\": [13.3333, -4.55], \"lat\": [47.3333, 54.23], \"mode\": \"lines\", \"hoverinfo\": \"none\", \"line\": {\"width\": 1.2, \"color\": \"red\"}, \"opacity\": 0.00725}, {\"type\": \"scattergeo\", \"lon\": [54.0, 57.55], \"lat\": [24.0, -20.2833], \"mode\": \"lines\", \"hoverinfo\": \"none\", \"line\": {\"width\": 1.2, \"color\": \"red\"}, \"opacity\": 0.00725}, {\"type\": \"scattergeo\", \"lon\": [35.0, 55.6667], \"lat\": [39.0, -4.5833], \"mode\": \"lines\", \"hoverinfo\": \"none\", \"line\": {\"width\": 1.2, \"color\": \"red\"}, \"opacity\": 0.00725}, {\"type\": \"scattergeo\", \"lon\": [-64.0, -76.0], \"lat\": [-34.0, 24.25], \"mode\": \"lines\", \"hoverinfo\": \"none\", \"line\": {\"width\": 1.2, \"color\": \"red\"}, \"opacity\": 0.00725}, {\"type\": \"scattergeo\", \"lon\": [51.25, -2.13], \"lat\": [25.5, 49.21], \"mode\": \"lines\", \"hoverinfo\": \"none\", \"line\": {\"width\": 1.2, \"color\": \"red\"}, \"opacity\": 0.00725}, {\"type\": \"scattergeo\", \"lon\": [-66.0, -72.0], \"lat\": [8.0, 4.0], \"mode\": \"lines\", \"hoverinfo\": \"none\", \"line\": {\"width\": 1.2, \"color\": \"red\"}, \"opacity\": 0.00725}, {\"type\": \"scattergeo\", \"lon\": [6.1667, -64.5], \"lat\": [49.75, 18.5], \"mode\": \"lines\", \"hoverinfo\": \"none\", \"line\": {\"width\": 1.2, \"color\": \"red\"}, \"opacity\": 0.007}, {\"type\": \"scattergeo\", \"lon\": [8.0, -97.0], \"lat\": [47.0, 38.0], \"mode\": \"lines\", \"hoverinfo\": \"none\", \"line\": {\"width\": 1.2, \"color\": \"red\"}, \"opacity\": 0.007}, {\"type\": \"scattergeo\", \"lon\": [106.0, 103.8], \"lat\": [16.0, 1.3667], \"mode\": \"lines\", \"hoverinfo\": \"none\", \"line\": {\"width\": 1.2, \"color\": \"red\"}, \"opacity\": 0.007}, {\"type\": \"scattergeo\", \"lon\": [35.0, -2.0], \"lat\": [39.0, 54.0], \"mode\": \"lines\", \"hoverinfo\": \"none\", \"line\": {\"width\": 1.2, \"color\": \"red\"}, \"opacity\": 0.007}, {\"type\": \"scattergeo\", \"lon\": [-4.0, 1.6], \"lat\": [40.0, 42.5], \"mode\": \"lines\", \"hoverinfo\": \"none\", \"line\": {\"width\": 1.2, \"color\": \"red\"}, \"opacity\": 0.007}, {\"type\": \"scattergeo\", \"lon\": [138.0, 103.8], \"lat\": [36.0, 1.3667], \"mode\": \"lines\", \"hoverinfo\": \"none\", \"line\": {\"width\": 1.2, \"color\": \"red\"}, \"opacity\": 0.007}, {\"type\": \"scattergeo\", \"lon\": [35.0, 114.1667], \"lat\": [39.0, 22.25], \"mode\": \"lines\", \"hoverinfo\": \"none\", \"line\": {\"width\": 1.2, \"color\": \"red\"}, \"opacity\": 0.007}, {\"type\": \"scattergeo\", \"lon\": [114.1667, 121.0], \"lat\": [22.25, 23.5], \"mode\": \"lines\", \"hoverinfo\": \"none\", \"line\": {\"width\": 1.2, \"color\": \"red\"}, \"opacity\": 0.007}, {\"type\": \"scattergeo\", \"lon\": [25.0, 8.0], \"lat\": [57.0, 47.0], \"mode\": \"lines\", \"hoverinfo\": \"none\", \"line\": {\"width\": 1.2, \"color\": \"red\"}, \"opacity\": 0.007}, {\"type\": \"scattergeo\", \"lon\": [77.0, -2.13], \"lat\": [20.0, 49.21], \"mode\": \"lines\", \"hoverinfo\": \"none\", \"line\": {\"width\": 1.2, \"color\": \"red\"}, \"opacity\": 0.007}, {\"type\": \"scattergeo\", \"lon\": [100.0, -97.0], \"lat\": [15.0, 38.0], \"mode\": \"lines\", \"hoverinfo\": \"none\", \"line\": {\"width\": 1.2, \"color\": \"red\"}, \"opacity\": 0.007}, {\"type\": \"scattergeo\", \"lon\": [24.0, 54.0], \"lat\": [-29.0, 24.0], \"mode\": \"lines\", \"hoverinfo\": \"none\", \"line\": {\"width\": 1.2, \"color\": \"red\"}, \"opacity\": 0.007}, {\"type\": \"scattergeo\", \"lon\": [127.5, 103.8], \"lat\": [37.0, 1.3667], \"mode\": \"lines\", \"hoverinfo\": \"none\", \"line\": {\"width\": 1.2, \"color\": \"red\"}, \"opacity\": 0.007}, {\"type\": \"scattergeo\", \"lon\": [112.5, -84.0], \"lat\": [2.5, 10.0], \"mode\": \"lines\", \"hoverinfo\": \"none\", \"line\": {\"width\": 1.2, \"color\": \"red\"}, \"opacity\": 0.007}, {\"type\": \"scattergeo\", \"lon\": [-2.56, 7.4], \"lat\": [49.5, 43.7333], \"mode\": \"lines\", \"hoverinfo\": \"none\", \"line\": {\"width\": 1.2, \"color\": \"red\"}, \"opacity\": 0.007}, {\"type\": \"scattergeo\", \"lon\": [103.8, 105.0], \"lat\": [1.3667, 35.0], \"mode\": \"lines\", \"hoverinfo\": \"none\", \"line\": {\"width\": 1.2, \"color\": \"red\"}, \"opacity\": 0.00675}, {\"type\": \"scattergeo\", \"lon\": [9.5333, -4.0], \"lat\": [47.1667, 40.0], \"mode\": \"lines\", \"hoverinfo\": \"none\", \"line\": {\"width\": 1.2, \"color\": \"red\"}, \"opacity\": 0.00675}, {\"type\": \"scattergeo\", \"lon\": [33.0, 26.0], \"lat\": [35.0, 59.0], \"mode\": \"lines\", \"hoverinfo\": \"none\", \"line\": {\"width\": 1.2, \"color\": \"red\"}, \"opacity\": 0.00675}, {\"type\": \"scattergeo\", \"lon\": [20.0, 114.1667], \"lat\": [52.0, 22.25], \"mode\": \"lines\", \"hoverinfo\": \"none\", \"line\": {\"width\": 1.2, \"color\": \"red\"}, \"opacity\": 0.00675}, {\"type\": \"scattergeo\", \"lon\": [-5.3667, -2.56], \"lat\": [36.1833, 49.5], \"mode\": \"lines\", \"hoverinfo\": \"none\", \"line\": {\"width\": 1.2, \"color\": \"red\"}, \"opacity\": 0.00675}, {\"type\": \"scattergeo\", \"lon\": [-61.3333, -70.6667], \"lat\": [15.4167, 19.0], \"mode\": \"lines\", \"hoverinfo\": \"none\", \"line\": {\"width\": 1.2, \"color\": \"red\"}, \"opacity\": 0.00675}, {\"type\": \"scattergeo\", \"lon\": [-2.56, -76.0], \"lat\": [49.5, 24.25], \"mode\": \"lines\", \"hoverinfo\": \"none\", \"line\": {\"width\": 1.2, \"color\": \"red\"}, \"opacity\": 0.00675}, {\"type\": \"scattergeo\", \"lon\": [-95.0, -2.56], \"lat\": [60.0, 49.5], \"mode\": \"lines\", \"hoverinfo\": \"none\", \"line\": {\"width\": 1.2, \"color\": \"red\"}, \"opacity\": 0.00675}, {\"type\": \"scattergeo\", \"lon\": [64.0, 25.0], \"lat\": [41.0, 57.0], \"mode\": \"lines\", \"hoverinfo\": \"none\", \"line\": {\"width\": 1.2, \"color\": \"red\"}, \"opacity\": 0.00675}, {\"type\": \"scattergeo\", \"lon\": [55.6667, -77.5], \"lat\": [-4.5833, -2.0], \"mode\": \"lines\", \"hoverinfo\": \"none\", \"line\": {\"width\": 1.2, \"color\": \"red\"}, \"opacity\": 0.00675}, {\"type\": \"scattergeo\", \"lon\": [45.0, -2.56], \"lat\": [25.0, 49.5], \"mode\": \"lines\", \"hoverinfo\": \"none\", \"line\": {\"width\": 1.2, \"color\": \"red\"}, \"opacity\": 0.00675}, {\"type\": \"scattergeo\", \"lon\": [55.6667, 100.0], \"lat\": [-4.5833, 15.0], \"mode\": \"lines\", \"hoverinfo\": \"none\", \"line\": {\"width\": 1.2, \"color\": \"red\"}, \"opacity\": 0.00675}, {\"type\": \"scattergeo\", \"lon\": [-64.75, -2.56], \"lat\": [32.3333, 49.5], \"mode\": \"lines\", \"hoverinfo\": \"none\", \"line\": {\"width\": 1.2, \"color\": \"red\"}, \"opacity\": 0.00675}, {\"type\": \"scattergeo\", \"lon\": [-97.0, -5.3667], \"lat\": [38.0, 36.1833], \"mode\": \"lines\", \"hoverinfo\": \"none\", \"line\": {\"width\": 1.2, \"color\": \"red\"}, \"opacity\": 0.00675}, {\"type\": \"scattergeo\", \"lon\": [133.0, 100.0], \"lat\": [-27.0, 15.0], \"mode\": \"lines\", \"hoverinfo\": \"none\", \"line\": {\"width\": 1.2, \"color\": \"red\"}, \"opacity\": 0.00675}, {\"type\": \"scattergeo\", \"lon\": [133.0, -4.55], \"lat\": [-27.0, 54.23], \"mode\": \"lines\", \"hoverinfo\": \"none\", \"line\": {\"width\": 1.2, \"color\": \"red\"}, \"opacity\": 0.00675}, {\"type\": \"scattergeo\", \"lon\": [55.6667, -55.0], \"lat\": [-4.5833, -10.0], \"mode\": \"lines\", \"hoverinfo\": \"none\", \"line\": {\"width\": 1.2, \"color\": \"red\"}, \"opacity\": 0.00675}, {\"type\": \"scattergeo\", \"lon\": [-80.0, 14.5833], \"lat\": [9.0, 35.8333], \"mode\": \"lines\", \"hoverinfo\": \"none\", \"line\": {\"width\": 1.2, \"color\": \"red\"}, \"opacity\": 0.00675}, {\"type\": \"scattergeo\", \"lon\": [-80.0, 35.8333], \"lat\": [9.0, 33.8333], \"mode\": \"lines\", \"hoverinfo\": \"none\", \"line\": {\"width\": 1.2, \"color\": \"red\"}, \"opacity\": 0.00675}, {\"type\": \"scattergeo\", \"lon\": [7.4, 114.1667], \"lat\": [43.7333, 22.25], \"mode\": \"lines\", \"hoverinfo\": \"none\", \"line\": {\"width\": 1.2, \"color\": \"red\"}, \"opacity\": 0.00675}, {\"type\": \"scattergeo\", \"lon\": [35.0, -2.13], \"lat\": [39.0, 49.21], \"mode\": \"lines\", \"hoverinfo\": \"none\", \"line\": {\"width\": 1.2, \"color\": \"red\"}, \"opacity\": 0.00675}, {\"type\": \"scattergeo\", \"lon\": [-70.6667, -97.0], \"lat\": [19.0, 38.0], \"mode\": \"lines\", \"hoverinfo\": \"none\", \"line\": {\"width\": 1.2, \"color\": \"red\"}, \"opacity\": 0.0065}, {\"type\": \"scattergeo\", \"lon\": [-64.5, -8.0], \"lat\": [18.5, 39.5], \"mode\": \"lines\", \"hoverinfo\": \"none\", \"line\": {\"width\": 1.2, \"color\": \"red\"}, \"opacity\": 0.0065}, {\"type\": \"scattergeo\", \"lon\": [-80.0, -2.56], \"lat\": [9.0, 49.5], \"mode\": \"lines\", \"hoverinfo\": \"none\", \"line\": {\"width\": 1.2, \"color\": \"red\"}, \"opacity\": 0.0065}, {\"type\": \"scattergeo\", \"lon\": [133.0, 32.0], \"lat\": [-27.0, 49.0], \"mode\": \"lines\", \"hoverinfo\": \"none\", \"line\": {\"width\": 1.2, \"color\": \"red\"}, \"opacity\": 0.0065}, {\"type\": \"scattergeo\", \"lon\": [-169.8667, 114.1667], \"lat\": [-19.0333, 22.25], \"mode\": \"lines\", \"hoverinfo\": \"none\", \"line\": {\"width\": 1.2, \"color\": \"red\"}, \"opacity\": 0.0065}, {\"type\": \"scattergeo\", \"lon\": [100.0, 8.0], \"lat\": [15.0, 47.0], \"mode\": \"lines\", \"hoverinfo\": \"none\", \"line\": {\"width\": 1.2, \"color\": \"red\"}, \"opacity\": 0.0065}, {\"type\": \"scattergeo\", \"lon\": [9.5333, -2.13], \"lat\": [47.1667, 49.21], \"mode\": \"lines\", \"hoverinfo\": \"none\", \"line\": {\"width\": 1.2, \"color\": \"red\"}, \"opacity\": 0.0065}, {\"type\": \"scattergeo\", \"lon\": [10.0, 6.1667], \"lat\": [62.0, 49.75], \"mode\": \"lines\", \"hoverinfo\": \"none\", \"line\": {\"width\": 1.2, \"color\": \"red\"}, \"opacity\": 0.0065}, {\"type\": \"scattergeo\", \"lon\": [174.0, -4.55], \"lat\": [-41.0, 54.23], \"mode\": \"lines\", \"hoverinfo\": \"none\", \"line\": {\"width\": 1.2, \"color\": \"red\"}, \"opacity\": 0.0065}, {\"type\": \"scattergeo\", \"lon\": [133.0, 8.0], \"lat\": [-27.0, 47.0], \"mode\": \"lines\", \"hoverinfo\": \"none\", \"line\": {\"width\": 1.2, \"color\": \"red\"}, \"opacity\": 0.0065}, {\"type\": \"scattergeo\", \"lon\": [12.8333, 54.0], \"lat\": [42.8333, 24.0], \"mode\": \"lines\", \"hoverinfo\": \"none\", \"line\": {\"width\": 1.2, \"color\": \"red\"}, \"opacity\": 0.0065}, {\"type\": \"scattergeo\", \"lon\": [114.1667, -2.56], \"lat\": [22.25, 49.5], \"mode\": \"lines\", \"hoverinfo\": \"none\", \"line\": {\"width\": 1.2, \"color\": \"red\"}, \"opacity\": 0.0065}, {\"type\": \"scattergeo\", \"lon\": [-172.3333, -2.0], \"lat\": [-13.5833, 54.0], \"mode\": \"lines\", \"hoverinfo\": \"none\", \"line\": {\"width\": 1.2, \"color\": \"red\"}, \"opacity\": 0.0065}, {\"type\": \"scattergeo\", \"lon\": [-2.0, 22.0], \"lat\": [54.0, 39.0], \"mode\": \"lines\", \"hoverinfo\": \"none\", \"line\": {\"width\": 1.2, \"color\": \"red\"}, \"opacity\": 0.0065}, {\"type\": \"scattergeo\", \"lon\": [8.0, 33.0], \"lat\": [47.0, 35.0], \"mode\": \"lines\", \"hoverinfo\": \"none\", \"line\": {\"width\": 1.2, \"color\": \"red\"}, \"opacity\": 0.0065}, {\"type\": \"scattergeo\", \"lon\": [-2.56, -97.0], \"lat\": [49.5, 38.0], \"mode\": \"lines\", \"hoverinfo\": \"none\", \"line\": {\"width\": 1.2, \"color\": \"red\"}, \"opacity\": 0.0065}, {\"type\": \"scattergeo\", \"lon\": [22.0, 6.1667], \"lat\": [39.0, 49.75], \"mode\": \"lines\", \"hoverinfo\": \"none\", \"line\": {\"width\": 1.2, \"color\": \"red\"}, \"opacity\": 0.0065}, {\"type\": \"scattergeo\", \"lon\": [33.0, 6.1667], \"lat\": [35.0, 49.75], \"mode\": \"lines\", \"hoverinfo\": \"none\", \"line\": {\"width\": 1.2, \"color\": \"red\"}, \"opacity\": 0.00625}, {\"type\": \"scattergeo\", \"lon\": [18.5, 8.0], \"lat\": [-12.5, 47.0], \"mode\": \"lines\", \"hoverinfo\": \"none\", \"line\": {\"width\": 1.2, \"color\": \"red\"}, \"opacity\": 0.00625}, {\"type\": \"scattergeo\", \"lon\": [-64.5, -72.0], \"lat\": [18.5, 4.0], \"mode\": \"lines\", \"hoverinfo\": \"none\", \"line\": {\"width\": 1.2, \"color\": \"red\"}, \"opacity\": 0.00625}, {\"type\": \"scattergeo\", \"lon\": [-95.0, 103.8], \"lat\": [60.0, 1.3667], \"mode\": \"lines\", \"hoverinfo\": \"none\", \"line\": {\"width\": 1.2, \"color\": \"red\"}, \"opacity\": 0.00625}, {\"type\": \"scattergeo\", \"lon\": [54.0, 100.0], \"lat\": [24.0, 60.0], \"mode\": \"lines\", \"hoverinfo\": \"none\", \"line\": {\"width\": 1.2, \"color\": \"red\"}, \"opacity\": 0.00625}, {\"type\": \"scattergeo\", \"lon\": [-2.13, -8.0], \"lat\": [49.21, 53.0], \"mode\": \"lines\", \"hoverinfo\": \"none\", \"line\": {\"width\": 1.2, \"color\": \"red\"}, \"opacity\": 0.00625}, {\"type\": \"scattergeo\", \"lon\": [2.0, 35.8333], \"lat\": [46.0, 33.8333], \"mode\": \"lines\", \"hoverinfo\": \"none\", \"line\": {\"width\": 1.2, \"color\": \"red\"}, \"opacity\": 0.00625}, {\"type\": \"scattergeo\", \"lon\": [-64.5, -70.6667], \"lat\": [18.5, 19.0], \"mode\": \"lines\", \"hoverinfo\": \"none\", \"line\": {\"width\": 1.2, \"color\": \"red\"}, \"opacity\": 0.00625}, {\"type\": \"scattergeo\", \"lon\": [-2.56, 103.8], \"lat\": [49.5, 1.3667], \"mode\": \"lines\", \"hoverinfo\": \"none\", \"line\": {\"width\": 1.2, \"color\": \"red\"}, \"opacity\": 0.00625}, {\"type\": \"scattergeo\", \"lon\": [-80.0, -70.6667], \"lat\": [9.0, 19.0], \"mode\": \"lines\", \"hoverinfo\": \"none\", \"line\": {\"width\": 1.2, \"color\": \"red\"}, \"opacity\": 0.00625}, {\"type\": \"scattergeo\", \"lon\": [-62.75, 114.1667], \"lat\": [17.3333, 22.25], \"mode\": \"lines\", \"hoverinfo\": \"none\", \"line\": {\"width\": 1.2, \"color\": \"red\"}, \"opacity\": 0.00625}, {\"type\": \"scattergeo\", \"lon\": [55.6667, -172.3333], \"lat\": [-4.5833, -13.5833], \"mode\": \"lines\", \"hoverinfo\": \"none\", \"line\": {\"width\": 1.2, \"color\": \"red\"}, \"opacity\": 0.006}, {\"type\": \"scattergeo\", \"lon\": [31.5, -2.56], \"lat\": [-26.5, 49.5], \"mode\": \"lines\", \"hoverinfo\": \"none\", \"line\": {\"width\": 1.2, \"color\": \"red\"}, \"opacity\": 0.006}, {\"type\": \"scattergeo\", \"lon\": [15.0, 8.0], \"lat\": [62.0, 47.0], \"mode\": \"lines\", \"hoverinfo\": \"none\", \"line\": {\"width\": 1.2, \"color\": \"red\"}, \"opacity\": 0.006}, {\"type\": \"scattergeo\", \"lon\": [-88.75, 55.6667], \"lat\": [17.25, -4.5833], \"mode\": \"lines\", \"hoverinfo\": \"none\", \"line\": {\"width\": 1.2, \"color\": \"red\"}, \"opacity\": 0.006}, {\"type\": \"scattergeo\", \"lon\": [-9.5, -4.55], \"lat\": [6.5, 54.23], \"mode\": \"lines\", \"hoverinfo\": \"none\", \"line\": {\"width\": 1.2, \"color\": \"red\"}, \"opacity\": 0.006}, {\"type\": \"scattergeo\", \"lon\": [-64.5, 20.0], \"lat\": [18.5, 47.0], \"mode\": \"lines\", \"hoverinfo\": \"none\", \"line\": {\"width\": 1.2, \"color\": \"red\"}, \"opacity\": 0.006}, {\"type\": \"scattergeo\", \"lon\": [34.75, 54.0], \"lat\": [31.5, 24.0], \"mode\": \"lines\", \"hoverinfo\": \"none\", \"line\": {\"width\": 1.2, \"color\": \"red\"}, \"opacity\": 0.006}, {\"type\": \"scattergeo\", \"lon\": [174.0, -97.0], \"lat\": [-41.0, 38.0], \"mode\": \"lines\", \"hoverinfo\": \"none\", \"line\": {\"width\": 1.2, \"color\": \"red\"}, \"opacity\": 0.006}, {\"type\": \"scattergeo\", \"lon\": [-2.0, 105.0], \"lat\": [54.0, 35.0], \"mode\": \"lines\", \"hoverinfo\": \"none\", \"line\": {\"width\": 1.2, \"color\": \"red\"}, \"opacity\": 0.006}, {\"type\": \"scattergeo\", \"lon\": [-80.0, -5.3667], \"lat\": [9.0, 36.1833], \"mode\": \"lines\", \"hoverinfo\": \"none\", \"line\": {\"width\": 1.2, \"color\": \"red\"}, \"opacity\": 0.006}, {\"type\": \"scattergeo\", \"lon\": [-4.0, -76.0], \"lat\": [40.0, 24.25], \"mode\": \"lines\", \"hoverinfo\": \"none\", \"line\": {\"width\": 1.2, \"color\": \"red\"}, \"opacity\": 0.006}, {\"type\": \"scattergeo\", \"lon\": [25.0, 33.0], \"lat\": [43.0, 35.0], \"mode\": \"lines\", \"hoverinfo\": \"none\", \"line\": {\"width\": 1.2, \"color\": \"red\"}, \"opacity\": 0.00575}, {\"type\": \"scattergeo\", \"lon\": [-97.0, 121.0], \"lat\": [38.0, 23.5], \"mode\": \"lines\", \"hoverinfo\": \"none\", \"line\": {\"width\": 1.2, \"color\": \"red\"}, \"opacity\": 0.00575}, {\"type\": \"scattergeo\", \"lon\": [9.5333, 6.1667], \"lat\": [47.1667, 49.75], \"mode\": \"lines\", \"hoverinfo\": \"none\", \"line\": {\"width\": 1.2, \"color\": \"red\"}, \"opacity\": 0.00575}, {\"type\": \"scattergeo\", \"lon\": [-63.1667, 114.1667], \"lat\": [18.25, 22.25], \"mode\": \"lines\", \"hoverinfo\": \"none\", \"line\": {\"width\": 1.2, \"color\": \"red\"}, \"opacity\": 0.00575}, {\"type\": \"scattergeo\", \"lon\": [-62.75, 103.8], \"lat\": [17.3333, 1.3667], \"mode\": \"lines\", \"hoverinfo\": \"none\", \"line\": {\"width\": 1.2, \"color\": \"red\"}, \"opacity\": 0.00575}, {\"type\": \"scattergeo\", \"lon\": [114.1667, 100.0], \"lat\": [22.25, 60.0], \"mode\": \"lines\", \"hoverinfo\": \"none\", \"line\": {\"width\": 1.2, \"color\": \"red\"}, \"opacity\": 0.00575}, {\"type\": \"scattergeo\", \"lon\": [17.0, 8.0], \"lat\": [25.0, 47.0], \"mode\": \"lines\", \"hoverinfo\": \"none\", \"line\": {\"width\": 1.2, \"color\": \"red\"}, \"opacity\": 0.00575}, {\"type\": \"scattergeo\", \"lon\": [-61.8, 55.6667], \"lat\": [17.05, -4.5833], \"mode\": \"lines\", \"hoverinfo\": \"none\", \"line\": {\"width\": 1.2, \"color\": \"red\"}, \"opacity\": 0.00575}, {\"type\": \"scattergeo\", \"lon\": [8.0, 34.75], \"lat\": [47.0, 31.5], \"mode\": \"lines\", \"hoverinfo\": \"none\", \"line\": {\"width\": 1.2, \"color\": \"red\"}, \"opacity\": 0.00575}, {\"type\": \"scattergeo\", \"lon\": [-5.3667, 6.1667], \"lat\": [36.1833, 49.75], \"mode\": \"lines\", \"hoverinfo\": \"none\", \"line\": {\"width\": 1.2, \"color\": \"red\"}, \"opacity\": 0.00575}, {\"type\": \"scattergeo\", \"lon\": [7.4, -2.56], \"lat\": [43.7333, 49.5], \"mode\": \"lines\", \"hoverinfo\": \"none\", \"line\": {\"width\": 1.2, \"color\": \"red\"}, \"opacity\": 0.00575}, {\"type\": \"scattergeo\", \"lon\": [-102.0, 8.0], \"lat\": [23.0, 47.0], \"mode\": \"lines\", \"hoverinfo\": \"none\", \"line\": {\"width\": 1.2, \"color\": \"red\"}, \"opacity\": 0.00575}, {\"type\": \"scattergeo\", \"lon\": [2.0, -2.56], \"lat\": [46.0, 49.5], \"mode\": \"lines\", \"hoverinfo\": \"none\", \"line\": {\"width\": 1.2, \"color\": \"red\"}, \"opacity\": 0.00575}, {\"type\": \"scattergeo\", \"lon\": [122.0, -2.13], \"lat\": [13.0, 49.21], \"mode\": \"lines\", \"hoverinfo\": \"none\", \"line\": {\"width\": 1.2, \"color\": \"red\"}, \"opacity\": 0.0055}, {\"type\": \"scattergeo\", \"lon\": [25.0, 8.0], \"lat\": [43.0, 47.0], \"mode\": \"lines\", \"hoverinfo\": \"none\", \"line\": {\"width\": 1.2, \"color\": \"red\"}, \"opacity\": 0.0055}, {\"type\": \"scattergeo\", \"lon\": [19.0, 114.1667], \"lat\": [15.0, 22.25], \"mode\": \"lines\", \"hoverinfo\": \"none\", \"line\": {\"width\": 1.2, \"color\": \"red\"}, \"opacity\": 0.0055}, {\"type\": \"scattergeo\", \"lon\": [9.5333, -5.0], \"lat\": [47.1667, 32.0], \"mode\": \"lines\", \"hoverinfo\": \"none\", \"line\": {\"width\": 1.2, \"color\": \"red\"}, \"opacity\": 0.0055}, {\"type\": \"scattergeo\", \"lon\": [-102.0, -76.0], \"lat\": [23.0, 24.25], \"mode\": \"lines\", \"hoverinfo\": \"none\", \"line\": {\"width\": 1.2, \"color\": \"red\"}, \"opacity\": 0.0055}, {\"type\": \"scattergeo\", \"lon\": [30.0, -90.25], \"lat\": [27.0, 15.5], \"mode\": \"lines\", \"hoverinfo\": \"none\", \"line\": {\"width\": 1.2, \"color\": \"red\"}, \"opacity\": 0.0055}, {\"type\": \"scattergeo\", \"lon\": [-4.0, 7.4], \"lat\": [40.0, 43.7333], \"mode\": \"lines\", \"hoverinfo\": \"none\", \"line\": {\"width\": 1.2, \"color\": \"red\"}, \"opacity\": 0.0055}, {\"type\": \"scattergeo\", \"lon\": [-95.0, -2.13], \"lat\": [60.0, 49.21], \"mode\": \"lines\", \"hoverinfo\": \"none\", \"line\": {\"width\": 1.2, \"color\": \"red\"}, \"opacity\": 0.0055}, {\"type\": \"scattergeo\", \"lon\": [-97.0, -84.0], \"lat\": [38.0, 10.0], \"mode\": \"lines\", \"hoverinfo\": \"none\", \"line\": {\"width\": 1.2, \"color\": \"red\"}, \"opacity\": 0.0055}, {\"type\": \"scattergeo\", \"lon\": [-8.0, 8.0], \"lat\": [53.0, 47.0], \"mode\": \"lines\", \"hoverinfo\": \"none\", \"line\": {\"width\": 1.2, \"color\": \"red\"}, \"opacity\": 0.0055}, {\"type\": \"scattergeo\", \"lon\": [18.5, 5.75], \"lat\": [-12.5, 52.5], \"mode\": \"lines\", \"hoverinfo\": \"none\", \"line\": {\"width\": 1.2, \"color\": \"red\"}, \"opacity\": 0.0055}, {\"type\": \"scattergeo\", \"lon\": [-64.5, 25.0], \"lat\": [18.5, 57.0], \"mode\": \"lines\", \"hoverinfo\": \"none\", \"line\": {\"width\": 1.2, \"color\": \"red\"}, \"opacity\": 0.0055}, {\"type\": \"scattergeo\", \"lon\": [57.55, 103.8], \"lat\": [-20.2833, 1.3667], \"mode\": \"lines\", \"hoverinfo\": \"none\", \"line\": {\"width\": 1.2, \"color\": \"red\"}, \"opacity\": 0.0055}, {\"type\": \"scattergeo\", \"lon\": [-2.0, -95.0], \"lat\": [54.0, 60.0], \"mode\": \"lines\", \"hoverinfo\": \"none\", \"line\": {\"width\": 1.2, \"color\": \"red\"}, \"opacity\": 0.0055}, {\"type\": \"scattergeo\", \"lon\": [53.0, 114.1667], \"lat\": [32.0, 22.25], \"mode\": \"lines\", \"hoverinfo\": \"none\", \"line\": {\"width\": 1.2, \"color\": \"red\"}, \"opacity\": 0.0055}, {\"type\": \"scattergeo\", \"lon\": [32.0, -2.13], \"lat\": [49.0, 49.21], \"mode\": \"lines\", \"hoverinfo\": \"none\", \"line\": {\"width\": 1.2, \"color\": \"red\"}, \"opacity\": 0.0055}, {\"type\": \"scattergeo\", \"lon\": [-64.75, -2.0], \"lat\": [32.3333, 54.0], \"mode\": \"lines\", \"hoverinfo\": \"none\", \"line\": {\"width\": 1.2, \"color\": \"red\"}, \"opacity\": 0.0055}, {\"type\": \"scattergeo\", \"lon\": [33.0, 32.0], \"lat\": [35.0, 49.0], \"mode\": \"lines\", \"hoverinfo\": \"none\", \"line\": {\"width\": 1.2, \"color\": \"red\"}, \"opacity\": 0.00525}, {\"type\": \"scattergeo\", \"lon\": [-72.0, -76.0], \"lat\": [4.0, 24.25], \"mode\": \"lines\", \"hoverinfo\": \"none\", \"line\": {\"width\": 1.2, \"color\": \"red\"}, \"opacity\": 0.00525}, {\"type\": \"scattergeo\", \"lon\": [114.1667, -4.55], \"lat\": [22.25, 54.23], \"mode\": \"lines\", \"hoverinfo\": \"none\", \"line\": {\"width\": 1.2, \"color\": \"red\"}, \"opacity\": 0.00525}, {\"type\": \"scattergeo\", \"lon\": [20.0, 8.0], \"lat\": [47.0, 47.0], \"mode\": \"lines\", \"hoverinfo\": \"none\", \"line\": {\"width\": 1.2, \"color\": \"red\"}, \"opacity\": 0.00525}, {\"type\": \"scattergeo\", \"lon\": [2.0, -4.55], \"lat\": [46.0, 54.23], \"mode\": \"lines\", \"hoverinfo\": \"none\", \"line\": {\"width\": 1.2, \"color\": \"red\"}, \"opacity\": 0.00525}, {\"type\": \"scattergeo\", \"lon\": [13.3333, 8.0], \"lat\": [47.3333, 47.0], \"mode\": \"lines\", \"hoverinfo\": \"none\", \"line\": {\"width\": 1.2, \"color\": \"red\"}, \"opacity\": 0.00525}, {\"type\": \"scattergeo\", \"lon\": [51.25, 6.1667], \"lat\": [25.5, 49.75], \"mode\": \"lines\", \"hoverinfo\": \"none\", \"line\": {\"width\": 1.2, \"color\": \"red\"}, \"opacity\": 0.00525}, {\"type\": \"scattergeo\", \"lon\": [112.5, -2.13], \"lat\": [2.5, 49.21], \"mode\": \"lines\", \"hoverinfo\": \"none\", \"line\": {\"width\": 1.2, \"color\": \"red\"}, \"opacity\": 0.00525}, {\"type\": \"scattergeo\", \"lon\": [-97.0, 6.1667], \"lat\": [38.0, 49.75], \"mode\": \"lines\", \"hoverinfo\": \"none\", \"line\": {\"width\": 1.2, \"color\": \"red\"}, \"opacity\": 0.00525}, {\"type\": \"scattergeo\", \"lon\": [22.0, -2.0], \"lat\": [39.0, 54.0], \"mode\": \"lines\", \"hoverinfo\": \"none\", \"line\": {\"width\": 1.2, \"color\": \"red\"}, \"opacity\": 0.00525}, {\"type\": \"scattergeo\", \"lon\": [-66.0, 1.6], \"lat\": [8.0, 42.5], \"mode\": \"lines\", \"hoverinfo\": \"none\", \"line\": {\"width\": 1.2, \"color\": \"red\"}, \"opacity\": 0.00525}, {\"type\": \"scattergeo\", \"lon\": [-56.0, 8.0], \"lat\": [-33.0, 47.0], \"mode\": \"lines\", \"hoverinfo\": \"none\", \"line\": {\"width\": 1.2, \"color\": \"red\"}, \"opacity\": 0.00525}, {\"type\": \"scattergeo\", \"lon\": [-66.0, 114.1667], \"lat\": [8.0, 22.25], \"mode\": \"lines\", \"hoverinfo\": \"none\", \"line\": {\"width\": 1.2, \"color\": \"red\"}, \"opacity\": 0.00525}, {\"type\": \"scattergeo\", \"lon\": [54.0, 103.8], \"lat\": [24.0, 1.3667], \"mode\": \"lines\", \"hoverinfo\": \"none\", \"line\": {\"width\": 1.2, \"color\": \"red\"}, \"opacity\": 0.00525}, {\"type\": \"scattergeo\", \"lon\": [24.0, -97.0], \"lat\": [-29.0, 38.0], \"mode\": \"lines\", \"hoverinfo\": \"none\", \"line\": {\"width\": 1.2, \"color\": \"red\"}, \"opacity\": 0.00525}, {\"type\": \"scattergeo\", \"lon\": [12.8333, -97.0], \"lat\": [42.8333, 38.0], \"mode\": \"lines\", \"hoverinfo\": \"none\", \"line\": {\"width\": 1.2, \"color\": \"red\"}, \"opacity\": 0.005}, {\"type\": \"scattergeo\", \"lon\": [47.6581, -2.0], \"lat\": [29.3375, 54.0], \"mode\": \"lines\", \"hoverinfo\": \"none\", \"line\": {\"width\": 1.2, \"color\": \"red\"}, \"opacity\": 0.005}, {\"type\": \"scattergeo\", \"lon\": [105.0, 35.8333], \"lat\": [35.0, 33.8333], \"mode\": \"lines\", \"hoverinfo\": \"none\", \"line\": {\"width\": 1.2, \"color\": \"red\"}, \"opacity\": 0.005}, {\"type\": \"scattergeo\", \"lon\": [35.0, 54.0], \"lat\": [39.0, 24.0], \"mode\": \"lines\", \"hoverinfo\": \"none\", \"line\": {\"width\": 1.2, \"color\": \"red\"}, \"opacity\": 0.005}, {\"type\": \"scattergeo\", \"lon\": [25.0, 54.0], \"lat\": [46.0, 24.0], \"mode\": \"lines\", \"hoverinfo\": \"none\", \"line\": {\"width\": 1.2, \"color\": \"red\"}, \"opacity\": 0.005}, {\"type\": \"scattergeo\", \"lon\": [35.0, -4.55], \"lat\": [39.0, 54.23], \"mode\": \"lines\", \"hoverinfo\": \"none\", \"line\": {\"width\": 1.2, \"color\": \"red\"}, \"opacity\": 0.005}, {\"type\": \"scattergeo\", \"lon\": [25.0, 54.0], \"lat\": [43.0, 24.0], \"mode\": \"lines\", \"hoverinfo\": \"none\", \"line\": {\"width\": 1.2, \"color\": \"red\"}, \"opacity\": 0.005}, {\"type\": \"scattergeo\", \"lon\": [100.0, 105.0], \"lat\": [60.0, 35.0], \"mode\": \"lines\", \"hoverinfo\": \"none\", \"line\": {\"width\": 1.2, \"color\": \"red\"}, \"opacity\": 0.005}, {\"type\": \"scattergeo\", \"lon\": [35.25, 36.0], \"lat\": [32.0, 31.0], \"mode\": \"lines\", \"hoverinfo\": \"none\", \"line\": {\"width\": 1.2, \"color\": \"red\"}, \"opacity\": 0.005}, {\"type\": \"scattergeo\", \"lon\": [47.5, 8.0], \"lat\": [40.5, 47.0], \"mode\": \"lines\", \"hoverinfo\": \"none\", \"line\": {\"width\": 1.2, \"color\": \"red\"}, \"opacity\": 0.005}, {\"type\": \"scattergeo\", \"lon\": [20.0, 100.0], \"lat\": [47.0, 60.0], \"mode\": \"lines\", \"hoverinfo\": \"none\", \"line\": {\"width\": 1.2, \"color\": \"red\"}, \"opacity\": 0.005}, {\"type\": \"scattergeo\", \"lon\": [-76.0, -97.0], \"lat\": [24.25, 38.0], \"mode\": \"lines\", \"hoverinfo\": \"none\", \"line\": {\"width\": 1.2, \"color\": \"red\"}, \"opacity\": 0.005}, {\"type\": \"scattergeo\", \"lon\": [8.0, 103.8], \"lat\": [47.0, 1.3667], \"mode\": \"lines\", \"hoverinfo\": \"none\", \"line\": {\"width\": 1.2, \"color\": \"red\"}, \"opacity\": 0.005}, {\"type\": \"scattergeo\", \"lon\": [-76.0, 9.5333], \"lat\": [24.25, 47.1667], \"mode\": \"lines\", \"hoverinfo\": \"none\", \"line\": {\"width\": 1.2, \"color\": \"red\"}, \"opacity\": 0.005}, {\"type\": \"scattergeo\", \"lon\": [-90.25, -80.0], \"lat\": [15.5, 9.0], \"mode\": \"lines\", \"hoverinfo\": \"none\", \"line\": {\"width\": 1.2, \"color\": \"red\"}, \"opacity\": 0.005}, {\"type\": \"scattergeo\", \"lon\": [8.0, -4.55], \"lat\": [10.0, 54.23], \"mode\": \"lines\", \"hoverinfo\": \"none\", \"line\": {\"width\": 1.2, \"color\": \"red\"}, \"opacity\": 0.005}, {\"type\": \"scattergeo\", \"lon\": [-64.0, 114.1667], \"lat\": [-34.0, 22.25], \"mode\": \"lines\", \"hoverinfo\": \"none\", \"line\": {\"width\": 1.2, \"color\": \"red\"}, \"opacity\": 0.005}, {\"type\": \"scattergeo\", \"lon\": [-63.1667, 34.75], \"lat\": [18.25, 31.5], \"mode\": \"lines\", \"hoverinfo\": \"none\", \"line\": {\"width\": 1.2, \"color\": \"red\"}, \"opacity\": 0.005}, {\"type\": \"scattergeo\", \"lon\": [-61.3333, -97.0], \"lat\": [15.4167, 38.0], \"mode\": \"lines\", \"hoverinfo\": \"none\", \"line\": {\"width\": 1.2, \"color\": \"red\"}, \"opacity\": 0.005}, {\"type\": \"scattergeo\", \"lon\": [30.0, 54.0], \"lat\": [27.0, 24.0], \"mode\": \"lines\", \"hoverinfo\": \"none\", \"line\": {\"width\": 1.2, \"color\": \"red\"}, \"opacity\": 0.00475}, {\"type\": \"scattergeo\", \"lon\": [127.5, 105.0], \"lat\": [37.0, 35.0], \"mode\": \"lines\", \"hoverinfo\": \"none\", \"line\": {\"width\": 1.2, \"color\": \"red\"}, \"opacity\": 0.00475}, {\"type\": \"scattergeo\", \"lon\": [-61.3333, -80.0], \"lat\": [15.4167, 9.0], \"mode\": \"lines\", \"hoverinfo\": \"none\", \"line\": {\"width\": 1.2, \"color\": \"red\"}, \"opacity\": 0.00475}, {\"type\": \"scattergeo\", \"lon\": [20.0, 114.1667], \"lat\": [47.0, 22.25], \"mode\": \"lines\", \"hoverinfo\": \"none\", \"line\": {\"width\": 1.2, \"color\": \"red\"}, \"opacity\": 0.00475}, {\"type\": \"scattergeo\", \"lon\": [47.6581, 8.0], \"lat\": [29.3375, 47.0], \"mode\": \"lines\", \"hoverinfo\": \"none\", \"line\": {\"width\": 1.2, \"color\": \"red\"}, \"opacity\": 0.00475}, {\"type\": \"scattergeo\", \"lon\": [122.0, 100.0], \"lat\": [13.0, 15.0], \"mode\": \"lines\", \"hoverinfo\": \"none\", \"line\": {\"width\": 1.2, \"color\": \"red\"}, \"opacity\": 0.00475}, {\"type\": \"scattergeo\", \"lon\": [138.0, 100.0], \"lat\": [36.0, 15.0], \"mode\": \"lines\", \"hoverinfo\": \"none\", \"line\": {\"width\": 1.2, \"color\": \"red\"}, \"opacity\": 0.00475}, {\"type\": \"scattergeo\", \"lon\": [-88.75, 33.0], \"lat\": [17.25, 35.0], \"mode\": \"lines\", \"hoverinfo\": \"none\", \"line\": {\"width\": 1.2, \"color\": \"red\"}, \"opacity\": 0.00475}, {\"type\": \"scattergeo\", \"lon\": [-4.0, -97.0], \"lat\": [40.0, 38.0], \"mode\": \"lines\", \"hoverinfo\": \"none\", \"line\": {\"width\": 1.2, \"color\": \"red\"}, \"opacity\": 0.00475}, {\"type\": \"scattergeo\", \"lon\": [-4.55, 9.5333], \"lat\": [54.23, 47.1667], \"mode\": \"lines\", \"hoverinfo\": \"none\", \"line\": {\"width\": 1.2, \"color\": \"red\"}, \"opacity\": 0.00475}, {\"type\": \"scattergeo\", \"lon\": [9.5333, -4.55], \"lat\": [47.1667, 54.23], \"mode\": \"lines\", \"hoverinfo\": \"none\", \"line\": {\"width\": 1.2, \"color\": \"red\"}, \"opacity\": 0.00475}, {\"type\": \"scattergeo\", \"lon\": [33.0, -2.56], \"lat\": [35.0, 49.5], \"mode\": \"lines\", \"hoverinfo\": \"none\", \"line\": {\"width\": 1.2, \"color\": \"red\"}, \"opacity\": 0.00475}, {\"type\": \"scattergeo\", \"lon\": [33.0, -5.3667], \"lat\": [35.0, 36.1833], \"mode\": \"lines\", \"hoverinfo\": \"none\", \"line\": {\"width\": 1.2, \"color\": \"red\"}, \"opacity\": 0.00475}, {\"type\": \"scattergeo\", \"lon\": [26.0, 8.0], \"lat\": [59.0, 47.0], \"mode\": \"lines\", \"hoverinfo\": \"none\", \"line\": {\"width\": 1.2, \"color\": \"red\"}, \"opacity\": 0.00475}, {\"type\": \"scattergeo\", \"lon\": [2.0, 54.0], \"lat\": [46.0, 24.0], \"mode\": \"lines\", \"hoverinfo\": \"none\", \"line\": {\"width\": 1.2, \"color\": \"red\"}, \"opacity\": 0.00475}, {\"type\": \"scattergeo\", \"lon\": [33.0, -62.75], \"lat\": [35.0, 17.3333], \"mode\": \"lines\", \"hoverinfo\": \"none\", \"line\": {\"width\": 1.2, \"color\": \"red\"}, \"opacity\": 0.00475}, {\"type\": \"scattergeo\", \"lon\": [-5.3667, 36.0], \"lat\": [36.1833, 31.0], \"mode\": \"lines\", \"hoverinfo\": \"none\", \"line\": {\"width\": 1.2, \"color\": \"red\"}, \"opacity\": 0.00475}, {\"type\": \"scattergeo\", \"lon\": [-97.0, -64.0], \"lat\": [38.0, -34.0], \"mode\": \"lines\", \"hoverinfo\": \"none\", \"line\": {\"width\": 1.2, \"color\": \"red\"}, \"opacity\": 0.00475}, {\"type\": \"scattergeo\", \"lon\": [-61.2, 8.0], \"lat\": [13.25, 47.0], \"mode\": \"lines\", \"hoverinfo\": \"none\", \"line\": {\"width\": 1.2, \"color\": \"red\"}, \"opacity\": 0.00475}, {\"type\": \"scattergeo\", \"lon\": [15.5, 8.0], \"lat\": [49.75, 47.0], \"mode\": \"lines\", \"hoverinfo\": \"none\", \"line\": {\"width\": 1.2, \"color\": \"red\"}, \"opacity\": 0.00475}, {\"type\": \"scattergeo\", \"lon\": [-65.0, -88.9167], \"lat\": [-17.0, 13.8333], \"mode\": \"lines\", \"hoverinfo\": \"none\", \"line\": {\"width\": 1.2, \"color\": \"red\"}, \"opacity\": 0.0045}, {\"type\": \"scattergeo\", \"lon\": [-63.1667, -2.56], \"lat\": [18.25, 49.5], \"mode\": \"lines\", \"hoverinfo\": \"none\", \"line\": {\"width\": 1.2, \"color\": \"red\"}, \"opacity\": 0.0045}, {\"type\": \"scattergeo\", \"lon\": [68.0, 54.0], \"lat\": [48.0, 24.0], \"mode\": \"lines\", \"hoverinfo\": \"none\", \"line\": {\"width\": 1.2, \"color\": \"red\"}, \"opacity\": 0.0045}, {\"type\": \"scattergeo\", \"lon\": [-4.55, 100.0], \"lat\": [54.23, 60.0], \"mode\": \"lines\", \"hoverinfo\": \"none\", \"line\": {\"width\": 1.2, \"color\": \"red\"}, \"opacity\": 0.0045}, {\"type\": \"scattergeo\", \"lon\": [-76.0, -77.5], \"lat\": [24.25, -2.0], \"mode\": \"lines\", \"hoverinfo\": \"none\", \"line\": {\"width\": 1.2, \"color\": \"red\"}, \"opacity\": 0.0045}, {\"type\": \"scattergeo\", \"lon\": [20.0, 33.0], \"lat\": [52.0, 35.0], \"mode\": \"lines\", \"hoverinfo\": \"none\", \"line\": {\"width\": 1.2, \"color\": \"red\"}, \"opacity\": 0.0045}, {\"type\": \"scattergeo\", \"lon\": [-2.13, 2.0], \"lat\": [49.21, 46.0], \"mode\": \"lines\", \"hoverinfo\": \"none\", \"line\": {\"width\": 1.2, \"color\": \"red\"}, \"opacity\": 0.0045}, {\"type\": \"scattergeo\", \"lon\": [-84.0, -80.0], \"lat\": [10.0, 9.0], \"mode\": \"lines\", \"hoverinfo\": \"none\", \"line\": {\"width\": 1.2, \"color\": \"red\"}, \"opacity\": 0.0045}, {\"type\": \"scattergeo\", \"lon\": [174.0, 7.4], \"lat\": [-41.0, 43.7333], \"mode\": \"lines\", \"hoverinfo\": \"none\", \"line\": {\"width\": 1.2, \"color\": \"red\"}, \"opacity\": 0.0045}, {\"type\": \"scattergeo\", \"lon\": [33.0, -76.0], \"lat\": [35.0, 24.25], \"mode\": \"lines\", \"hoverinfo\": \"none\", \"line\": {\"width\": 1.2, \"color\": \"red\"}, \"opacity\": 0.0045}, {\"type\": \"scattergeo\", \"lon\": [38.0, 8.0], \"lat\": [35.0, 47.0], \"mode\": \"lines\", \"hoverinfo\": \"none\", \"line\": {\"width\": 1.2, \"color\": \"red\"}, \"opacity\": 0.0045}, {\"type\": \"scattergeo\", \"lon\": [15.5, 8.0], \"lat\": [45.1667, 47.0], \"mode\": \"lines\", \"hoverinfo\": \"none\", \"line\": {\"width\": 1.2, \"color\": \"red\"}, \"opacity\": 0.0045}, {\"type\": \"scattergeo\", \"lon\": [77.0, 54.0], \"lat\": [20.0, 24.0], \"mode\": \"lines\", \"hoverinfo\": \"none\", \"line\": {\"width\": 1.2, \"color\": \"red\"}, \"opacity\": 0.0045}, {\"type\": \"scattergeo\", \"lon\": [-77.5, -80.0], \"lat\": [-2.0, 9.0], \"mode\": \"lines\", \"hoverinfo\": \"none\", \"line\": {\"width\": 1.2, \"color\": \"red\"}, \"opacity\": 0.0045}, {\"type\": \"scattergeo\", \"lon\": [6.1667, -2.56], \"lat\": [49.75, 49.5], \"mode\": \"lines\", \"hoverinfo\": \"none\", \"line\": {\"width\": 1.2, \"color\": \"red\"}, \"opacity\": 0.0045}, {\"type\": \"scattergeo\", \"lon\": [57.55, 114.1667], \"lat\": [-20.2833, 22.25], \"mode\": \"lines\", \"hoverinfo\": \"none\", \"line\": {\"width\": 1.2, \"color\": \"red\"}, \"opacity\": 0.0045}, {\"type\": \"scattergeo\", \"lon\": [5.75, 8.0], \"lat\": [52.5, 47.0], \"mode\": \"lines\", \"hoverinfo\": \"none\", \"line\": {\"width\": 1.2, \"color\": \"red\"}, \"opacity\": 0.0045}, {\"type\": \"scattergeo\", \"lon\": [-90.25, 122.0], \"lat\": [15.5, 13.0], \"mode\": \"lines\", \"hoverinfo\": \"none\", \"line\": {\"width\": 1.2, \"color\": \"red\"}, \"opacity\": 0.0045}, {\"type\": \"scattergeo\", \"lon\": [34.0, -2.0], \"lat\": [-13.5, 54.0], \"mode\": \"lines\", \"hoverinfo\": \"none\", \"line\": {\"width\": 1.2, \"color\": \"red\"}, \"opacity\": 0.0045}, {\"type\": \"scattergeo\", \"lon\": [168.0, 114.1667], \"lat\": [9.0, 22.25], \"mode\": \"lines\", \"hoverinfo\": \"none\", \"line\": {\"width\": 1.2, \"color\": \"red\"}, \"opacity\": 0.0045}, {\"type\": \"scattergeo\", \"lon\": [25.0, 100.0], \"lat\": [57.0, 60.0], \"mode\": \"lines\", \"hoverinfo\": \"none\", \"line\": {\"width\": 1.2, \"color\": \"red\"}, \"opacity\": 0.0045}, {\"type\": \"scattergeo\", \"lon\": [114.1667, 54.0], \"lat\": [22.25, 24.0], \"mode\": \"lines\", \"hoverinfo\": \"none\", \"line\": {\"width\": 1.2, \"color\": \"red\"}, \"opacity\": 0.0045}, {\"type\": \"scattergeo\", \"lon\": [133.0, 54.0], \"lat\": [-27.0, 24.0], \"mode\": \"lines\", \"hoverinfo\": \"none\", \"line\": {\"width\": 1.2, \"color\": \"red\"}, \"opacity\": 0.00425}, {\"type\": \"scattergeo\", \"lon\": [-2.0, 15.5], \"lat\": [54.0, 49.75], \"mode\": \"lines\", \"hoverinfo\": \"none\", \"line\": {\"width\": 1.2, \"color\": \"red\"}, \"opacity\": 0.00425}, {\"type\": \"scattergeo\", \"lon\": [32.0, 25.0], \"lat\": [49.0, 57.0], \"mode\": \"lines\", \"hoverinfo\": \"none\", \"line\": {\"width\": 1.2, \"color\": \"red\"}, \"opacity\": 0.00425}, {\"type\": \"scattergeo\", \"lon\": [105.0, 8.0], \"lat\": [18.0, 47.0], \"mode\": \"lines\", \"hoverinfo\": \"none\", \"line\": {\"width\": 1.2, \"color\": \"red\"}, \"opacity\": 0.00425}, {\"type\": \"scattergeo\", \"lon\": [133.0, 105.0], \"lat\": [-27.0, 35.0], \"mode\": \"lines\", \"hoverinfo\": \"none\", \"line\": {\"width\": 1.2, \"color\": \"red\"}, \"opacity\": 0.00425}, {\"type\": \"scattergeo\", \"lon\": [-80.5, -2.56], \"lat\": [19.5, 49.5], \"mode\": \"lines\", \"hoverinfo\": \"none\", \"line\": {\"width\": 1.2, \"color\": \"red\"}, \"opacity\": 0.00425}, {\"type\": \"scattergeo\", \"lon\": [-64.5, -64.0], \"lat\": [18.5, -34.0], \"mode\": \"lines\", \"hoverinfo\": \"none\", \"line\": {\"width\": 1.2, \"color\": \"red\"}, \"opacity\": 0.00425}, {\"type\": \"scattergeo\", \"lon\": [-4.55, 7.4], \"lat\": [54.23, 43.7333], \"mode\": \"lines\", \"hoverinfo\": \"none\", \"line\": {\"width\": 1.2, \"color\": \"red\"}, \"opacity\": 0.00425}, {\"type\": \"scattergeo\", \"lon\": [-76.0, 6.1667], \"lat\": [24.25, 49.75], \"mode\": \"lines\", \"hoverinfo\": \"none\", \"line\": {\"width\": 1.2, \"color\": \"red\"}, \"opacity\": 0.00425}, {\"type\": \"scattergeo\", \"lon\": [-18.0, -80.0], \"lat\": [65.0, 9.0], \"mode\": \"lines\", \"hoverinfo\": \"none\", \"line\": {\"width\": 1.2, \"color\": \"red\"}, \"opacity\": 0.00425}, {\"type\": \"scattergeo\", \"lon\": [-2.13, 51.25], \"lat\": [49.21, 25.5], \"mode\": \"lines\", \"hoverinfo\": \"none\", \"line\": {\"width\": 1.2, \"color\": \"red\"}, \"opacity\": 0.00425}, {\"type\": \"scattergeo\", \"lon\": [-66.0, -76.0], \"lat\": [8.0, 24.25], \"mode\": \"lines\", \"hoverinfo\": \"none\", \"line\": {\"width\": 1.2, \"color\": \"red\"}, \"opacity\": 0.00425}, {\"type\": \"scattergeo\", \"lon\": [105.0, -2.13], \"lat\": [18.0, 49.21], \"mode\": \"lines\", \"hoverinfo\": \"none\", \"line\": {\"width\": 1.2, \"color\": \"red\"}, \"opacity\": 0.00425}, {\"type\": \"scattergeo\", \"lon\": [35.8333, -2.56], \"lat\": [33.8333, 49.5], \"mode\": \"lines\", \"hoverinfo\": \"none\", \"line\": {\"width\": 1.2, \"color\": \"red\"}, \"opacity\": 0.00425}, {\"type\": \"scattergeo\", \"lon\": [-97.0, -66.0], \"lat\": [38.0, 8.0], \"mode\": \"lines\", \"hoverinfo\": \"none\", \"line\": {\"width\": 1.2, \"color\": \"red\"}, \"opacity\": 0.00425}, {\"type\": \"scattergeo\", \"lon\": [-76.0, -8.0], \"lat\": [24.25, 39.5], \"mode\": \"lines\", \"hoverinfo\": \"none\", \"line\": {\"width\": 1.2, \"color\": \"red\"}, \"opacity\": 0.00425}, {\"type\": \"scattergeo\", \"lon\": [17.0, -2.0], \"lat\": [-22.0, 54.0], \"mode\": \"lines\", \"hoverinfo\": \"none\", \"line\": {\"width\": 1.2, \"color\": \"red\"}, \"opacity\": 0.00425}, {\"type\": \"scattergeo\", \"lon\": [54.0, 32.0], \"lat\": [24.0, 49.0], \"mode\": \"lines\", \"hoverinfo\": \"none\", \"line\": {\"width\": 1.2, \"color\": \"red\"}, \"opacity\": 0.00425}, {\"type\": \"scattergeo\", \"lon\": [2.0, 100.0], \"lat\": [46.0, 15.0], \"mode\": \"lines\", \"hoverinfo\": \"none\", \"line\": {\"width\": 1.2, \"color\": \"red\"}, \"opacity\": 0.00425}, {\"type\": \"scattergeo\", \"lon\": [168.0, 33.0], \"lat\": [9.0, 35.0], \"mode\": \"lines\", \"hoverinfo\": \"none\", \"line\": {\"width\": 1.2, \"color\": \"red\"}, \"opacity\": 0.00425}, {\"type\": \"scattergeo\", \"lon\": [-76.0, -55.0], \"lat\": [24.25, -10.0], \"mode\": \"lines\", \"hoverinfo\": \"none\", \"line\": {\"width\": 1.2, \"color\": \"red\"}, \"opacity\": 0.00425}, {\"type\": \"scattergeo\", \"lon\": [8.0, -2.13], \"lat\": [10.0, 49.21], \"mode\": \"lines\", \"hoverinfo\": \"none\", \"line\": {\"width\": 1.2, \"color\": \"red\"}, \"opacity\": 0.00425}, {\"type\": \"scattergeo\", \"lon\": [24.0, -4.55], \"lat\": [-22.0, 54.23], \"mode\": \"lines\", \"hoverinfo\": \"none\", \"line\": {\"width\": 1.2, \"color\": \"red\"}, \"opacity\": 0.00425}, {\"type\": \"scattergeo\", \"lon\": [47.5, 25.0], \"lat\": [40.5, 57.0], \"mode\": \"lines\", \"hoverinfo\": \"none\", \"line\": {\"width\": 1.2, \"color\": \"red\"}, \"opacity\": 0.00425}, {\"type\": \"scattergeo\", \"lon\": [15.0, 100.0], \"lat\": [62.0, 15.0], \"mode\": \"lines\", \"hoverinfo\": \"none\", \"line\": {\"width\": 1.2, \"color\": \"red\"}, \"opacity\": 0.00425}, {\"type\": \"scattergeo\", \"lon\": [14.5833, -2.0], \"lat\": [35.8333, 54.0], \"mode\": \"lines\", \"hoverinfo\": \"none\", \"line\": {\"width\": 1.2, \"color\": \"red\"}, \"opacity\": 0.00425}, {\"type\": \"scattergeo\", \"lon\": [54.0, 6.1667], \"lat\": [24.0, 49.75], \"mode\": \"lines\", \"hoverinfo\": \"none\", \"line\": {\"width\": 1.2, \"color\": \"red\"}, \"opacity\": 0.00425}, {\"type\": \"scattergeo\", \"lon\": [57.0, 54.0], \"lat\": [21.0, 24.0], \"mode\": \"lines\", \"hoverinfo\": \"none\", \"line\": {\"width\": 1.2, \"color\": \"red\"}, \"opacity\": 0.00425}, {\"type\": \"scattergeo\", \"lon\": [50.55, -2.0], \"lat\": [26.0, 54.0], \"mode\": \"lines\", \"hoverinfo\": \"none\", \"line\": {\"width\": 1.2, \"color\": \"red\"}, \"opacity\": 0.00425}, {\"type\": \"scattergeo\", \"lon\": [68.0, -97.0], \"lat\": [48.0, 38.0], \"mode\": \"lines\", \"hoverinfo\": \"none\", \"line\": {\"width\": 1.2, \"color\": \"red\"}, \"opacity\": 0.00425}, {\"type\": \"scattergeo\", \"lon\": [70.0, 8.0], \"lat\": [30.0, 47.0], \"mode\": \"lines\", \"hoverinfo\": \"none\", \"line\": {\"width\": 1.2, \"color\": \"red\"}, \"opacity\": 0.00425}, {\"type\": \"scattergeo\", \"lon\": [70.0, 114.1667], \"lat\": [30.0, 22.25], \"mode\": \"lines\", \"hoverinfo\": \"none\", \"line\": {\"width\": 1.2, \"color\": \"red\"}, \"opacity\": 0.00425}, {\"type\": \"scattergeo\", \"lon\": [6.1667, 114.1667], \"lat\": [49.75, 22.25], \"mode\": \"lines\", \"hoverinfo\": \"none\", \"line\": {\"width\": 1.2, \"color\": \"red\"}, \"opacity\": 0.00425}, {\"type\": \"scattergeo\", \"lon\": [14.5833, -2.13], \"lat\": [35.8333, 49.21], \"mode\": \"lines\", \"hoverinfo\": \"none\", \"line\": {\"width\": 1.2, \"color\": \"red\"}, \"opacity\": 0.004}, {\"type\": \"scattergeo\", \"lon\": [-80.5, 54.0], \"lat\": [19.5, 24.0], \"mode\": \"lines\", \"hoverinfo\": \"none\", \"line\": {\"width\": 1.2, \"color\": \"red\"}, \"opacity\": 0.004}, {\"type\": \"scattergeo\", \"lon\": [-76.0, 57.55], \"lat\": [24.25, -20.2833], \"mode\": \"lines\", \"hoverinfo\": \"none\", \"line\": {\"width\": 1.2, \"color\": \"red\"}, \"opacity\": 0.004}, {\"type\": \"scattergeo\", \"lon\": [-2.0, 8.0], \"lat\": [54.0, 10.0], \"mode\": \"lines\", \"hoverinfo\": \"none\", \"line\": {\"width\": 1.2, \"color\": \"red\"}, \"opacity\": 0.004}, {\"type\": \"scattergeo\", \"lon\": [103.8, -97.0], \"lat\": [1.3667, 38.0], \"mode\": \"lines\", \"hoverinfo\": \"none\", \"line\": {\"width\": 1.2, \"color\": \"red\"}, \"opacity\": 0.004}, {\"type\": \"scattergeo\", \"lon\": [-102.0, -80.0], \"lat\": [23.0, 9.0], \"mode\": \"lines\", \"hoverinfo\": \"none\", \"line\": {\"width\": 1.2, \"color\": \"red\"}, \"opacity\": 0.004}, {\"type\": \"scattergeo\", \"lon\": [55.6667, -76.0], \"lat\": [-4.5833, 24.25], \"mode\": \"lines\", \"hoverinfo\": \"none\", \"line\": {\"width\": 1.2, \"color\": \"red\"}, \"opacity\": 0.004}, {\"type\": \"scattergeo\", \"lon\": [-56.0, -97.0], \"lat\": [-33.0, 38.0], \"mode\": \"lines\", \"hoverinfo\": \"none\", \"line\": {\"width\": 1.2, \"color\": \"red\"}, \"opacity\": 0.004}, {\"type\": \"scattergeo\", \"lon\": [34.75, 33.0], \"lat\": [31.5, 35.0], \"mode\": \"lines\", \"hoverinfo\": \"none\", \"line\": {\"width\": 1.2, \"color\": \"red\"}, \"opacity\": 0.004}, {\"type\": \"scattergeo\", \"lon\": [-88.75, -4.55], \"lat\": [17.25, 54.23], \"mode\": \"lines\", \"hoverinfo\": \"none\", \"line\": {\"width\": 1.2, \"color\": \"red\"}, \"opacity\": 0.004}, {\"type\": \"scattergeo\", \"lon\": [53.0, -2.13], \"lat\": [32.0, 49.21], \"mode\": \"lines\", \"hoverinfo\": \"none\", \"line\": {\"width\": 1.2, \"color\": \"red\"}, \"opacity\": 0.004}, {\"type\": \"scattergeo\", \"lon\": [-2.56, -95.0], \"lat\": [49.5, 60.0], \"mode\": \"lines\", \"hoverinfo\": \"none\", \"line\": {\"width\": 1.2, \"color\": \"red\"}, \"opacity\": 0.004}, {\"type\": \"scattergeo\", \"lon\": [122.0, 36.0], \"lat\": [13.0, 31.0], \"mode\": \"lines\", \"hoverinfo\": \"none\", \"line\": {\"width\": 1.2, \"color\": \"red\"}, \"opacity\": 0.004}, {\"type\": \"scattergeo\", \"lon\": [122.0, -80.0], \"lat\": [13.0, 9.0], \"mode\": \"lines\", \"hoverinfo\": \"none\", \"line\": {\"width\": 1.2, \"color\": \"red\"}, \"opacity\": 0.004}, {\"type\": \"scattergeo\", \"lon\": [-8.0, 114.1667], \"lat\": [53.0, 22.25], \"mode\": \"lines\", \"hoverinfo\": \"none\", \"line\": {\"width\": 1.2, \"color\": \"red\"}, \"opacity\": 0.004}, {\"type\": \"scattergeo\", \"lon\": [133.0, 55.6667], \"lat\": [-27.0, -4.5833], \"mode\": \"lines\", \"hoverinfo\": \"none\", \"line\": {\"width\": 1.2, \"color\": \"red\"}, \"opacity\": 0.004}, {\"type\": \"scattergeo\", \"lon\": [53.0, -2.0], \"lat\": [32.0, 54.0], \"mode\": \"lines\", \"hoverinfo\": \"none\", \"line\": {\"width\": 1.2, \"color\": \"red\"}, \"opacity\": 0.004}, {\"type\": \"scattergeo\", \"lon\": [-64.0, 36.0], \"lat\": [-34.0, 31.0], \"mode\": \"lines\", \"hoverinfo\": \"none\", \"line\": {\"width\": 1.2, \"color\": \"red\"}, \"opacity\": 0.004}, {\"type\": \"scattergeo\", \"lon\": [-172.3333, -55.0], \"lat\": [-13.5833, -10.0], \"mode\": \"lines\", \"hoverinfo\": \"none\", \"line\": {\"width\": 1.2, \"color\": \"red\"}, \"opacity\": 0.004}, {\"type\": \"scattergeo\", \"lon\": [5.75, -2.13], \"lat\": [52.5, 49.21], \"mode\": \"lines\", \"hoverinfo\": \"none\", \"line\": {\"width\": 1.2, \"color\": \"red\"}, \"opacity\": 0.004}, {\"type\": \"scattergeo\", \"lon\": [-2.13, 24.0], \"lat\": [49.21, -29.0], \"mode\": \"lines\", \"hoverinfo\": \"none\", \"line\": {\"width\": 1.2, \"color\": \"red\"}, \"opacity\": 0.004}, {\"type\": \"scattergeo\", \"lon\": [2.0, 105.0], \"lat\": [46.0, 35.0], \"mode\": \"lines\", \"hoverinfo\": \"none\", \"line\": {\"width\": 1.2, \"color\": \"red\"}, \"opacity\": 0.004}, {\"type\": \"scattergeo\", \"lon\": [2.0, 14.5833], \"lat\": [46.0, 35.8333], \"mode\": \"lines\", \"hoverinfo\": \"none\", \"line\": {\"width\": 1.2, \"color\": \"red\"}, \"opacity\": 0.004}, {\"type\": \"scattergeo\", \"lon\": [10.0, -2.0], \"lat\": [62.0, 54.0], \"mode\": \"lines\", \"hoverinfo\": \"none\", \"line\": {\"width\": 1.2, \"color\": \"red\"}, \"opacity\": 0.004}, {\"type\": \"scattergeo\", \"lon\": [25.0, 8.0], \"lat\": [46.0, 47.0], \"mode\": \"lines\", \"hoverinfo\": \"none\", \"line\": {\"width\": 1.2, \"color\": \"red\"}, \"opacity\": 0.004}, {\"type\": \"scattergeo\", \"lon\": [-2.0, -56.0], \"lat\": [54.0, -33.0], \"mode\": \"lines\", \"hoverinfo\": \"none\", \"line\": {\"width\": 1.2, \"color\": \"red\"}, \"opacity\": 0.004}, {\"type\": \"scattergeo\", \"lon\": [4.0, 54.0], \"lat\": [50.8333, 24.0], \"mode\": \"lines\", \"hoverinfo\": \"none\", \"line\": {\"width\": 1.2, \"color\": \"red\"}, \"opacity\": 0.00375}, {\"type\": \"scattergeo\", \"lon\": [-2.0, 9.5333], \"lat\": [54.0, 47.1667], \"mode\": \"lines\", \"hoverinfo\": \"none\", \"line\": {\"width\": 1.2, \"color\": \"red\"}, \"opacity\": 0.00375}, {\"type\": \"scattergeo\", \"lon\": [-172.3333, 9.5333], \"lat\": [-13.5833, 47.1667], \"mode\": \"lines\", \"hoverinfo\": \"none\", \"line\": {\"width\": 1.2, \"color\": \"red\"}, \"opacity\": 0.00375}, {\"type\": \"scattergeo\", \"lon\": [17.0, -2.0], \"lat\": [25.0, 54.0], \"mode\": \"lines\", \"hoverinfo\": \"none\", \"line\": {\"width\": 1.2, \"color\": \"red\"}, \"opacity\": 0.00375}, {\"type\": \"scattergeo\", \"lon\": [-5.3667, -2.13], \"lat\": [36.1833, 49.21], \"mode\": \"lines\", \"hoverinfo\": \"none\", \"line\": {\"width\": 1.2, \"color\": \"red\"}, \"opacity\": 0.00375}, {\"type\": \"scattergeo\", \"lon\": [-8.0, -2.56], \"lat\": [53.0, 49.5], \"mode\": \"lines\", \"hoverinfo\": \"none\", \"line\": {\"width\": 1.2, \"color\": \"red\"}, \"opacity\": 0.00375}, {\"type\": \"scattergeo\", \"lon\": [-102.0, 6.1667], \"lat\": [23.0, 49.75], \"mode\": \"lines\", \"hoverinfo\": \"none\", \"line\": {\"width\": 1.2, \"color\": \"red\"}, \"opacity\": 0.00375}, {\"type\": \"scattergeo\", \"lon\": [13.3333, 114.1667], \"lat\": [47.3333, 22.25], \"mode\": \"lines\", \"hoverinfo\": \"none\", \"line\": {\"width\": 1.2, \"color\": \"red\"}, \"opacity\": 0.00375}, {\"type\": \"scattergeo\", \"lon\": [8.0, 5.75], \"lat\": [47.0, 52.5], \"mode\": \"lines\", \"hoverinfo\": \"none\", \"line\": {\"width\": 1.2, \"color\": \"red\"}, \"opacity\": 0.00375}, {\"type\": \"scattergeo\", \"lon\": [6.1667, 36.0], \"lat\": [49.75, 31.0], \"mode\": \"lines\", \"hoverinfo\": \"none\", \"line\": {\"width\": 1.2, \"color\": \"red\"}, \"opacity\": 0.00375}, {\"type\": \"scattergeo\", \"lon\": [9.0, 100.0], \"lat\": [51.0, 60.0], \"mode\": \"lines\", \"hoverinfo\": \"none\", \"line\": {\"width\": 1.2, \"color\": \"red\"}, \"opacity\": 0.00375}, {\"type\": \"scattergeo\", \"lon\": [-2.0, -5.0], \"lat\": [54.0, 8.0], \"mode\": \"lines\", \"hoverinfo\": \"none\", \"line\": {\"width\": 1.2, \"color\": \"red\"}, \"opacity\": 0.00375}, {\"type\": \"scattergeo\", \"lon\": [4.0, -80.0], \"lat\": [50.8333, 9.0], \"mode\": \"lines\", \"hoverinfo\": \"none\", \"line\": {\"width\": 1.2, \"color\": \"red\"}, \"opacity\": 0.00375}, {\"type\": \"scattergeo\", \"lon\": [174.0, -76.0], \"lat\": [-41.0, 24.25], \"mode\": \"lines\", \"hoverinfo\": \"none\", \"line\": {\"width\": 1.2, \"color\": \"red\"}, \"opacity\": 0.00375}, {\"type\": \"scattergeo\", \"lon\": [-2.0, 25.0], \"lat\": [54.0, 57.0], \"mode\": \"lines\", \"hoverinfo\": \"none\", \"line\": {\"width\": 1.2, \"color\": \"red\"}, \"opacity\": 0.00375}, {\"type\": \"scattergeo\", \"lon\": [-88.75, -80.0], \"lat\": [17.25, 9.0], \"mode\": \"lines\", \"hoverinfo\": \"none\", \"line\": {\"width\": 1.2, \"color\": \"red\"}, \"opacity\": 0.00375}, {\"type\": \"scattergeo\", \"lon\": [-95.0, -80.0], \"lat\": [60.0, 9.0], \"mode\": \"lines\", \"hoverinfo\": \"none\", \"line\": {\"width\": 1.2, \"color\": \"red\"}, \"opacity\": 0.00375}, {\"type\": \"scattergeo\", \"lon\": [-2.13, 5.75], \"lat\": [49.21, 52.5], \"mode\": \"lines\", \"hoverinfo\": \"none\", \"line\": {\"width\": 1.2, \"color\": \"red\"}, \"opacity\": 0.00375}, {\"type\": \"scattergeo\", \"lon\": [-2.13, 174.0], \"lat\": [49.21, -41.0], \"mode\": \"lines\", \"hoverinfo\": \"none\", \"line\": {\"width\": 1.2, \"color\": \"red\"}, \"opacity\": 0.00375}, {\"type\": \"scattergeo\", \"lon\": [55.6667, -56.0], \"lat\": [-4.5833, -33.0], \"mode\": \"lines\", \"hoverinfo\": \"none\", \"line\": {\"width\": 1.2, \"color\": \"red\"}, \"opacity\": 0.00375}, {\"type\": \"scattergeo\", \"lon\": [2.0, 34.75], \"lat\": [46.0, 31.5], \"mode\": \"lines\", \"hoverinfo\": \"none\", \"line\": {\"width\": 1.2, \"color\": \"red\"}, \"opacity\": 0.00375}, {\"type\": \"scattergeo\", \"lon\": [-2.13, 100.0], \"lat\": [49.21, 15.0], \"mode\": \"lines\", \"hoverinfo\": \"none\", \"line\": {\"width\": 1.2, \"color\": \"red\"}, \"opacity\": 0.00375}, {\"type\": \"scattergeo\", \"lon\": [43.5, 33.0], \"lat\": [42.0, 35.0], \"mode\": \"lines\", \"hoverinfo\": \"none\", \"line\": {\"width\": 1.2, \"color\": \"red\"}, \"opacity\": 0.00375}, {\"type\": \"scattergeo\", \"lon\": [8.0, 33.0], \"lat\": [10.0, 35.0], \"mode\": \"lines\", \"hoverinfo\": \"none\", \"line\": {\"width\": 1.2, \"color\": \"red\"}, \"opacity\": 0.00375}, {\"type\": \"scattergeo\", \"lon\": [100.0, -5.3667], \"lat\": [60.0, 36.1833], \"mode\": \"lines\", \"hoverinfo\": \"none\", \"line\": {\"width\": 1.2, \"color\": \"red\"}, \"opacity\": 0.00375}, {\"type\": \"scattergeo\", \"lon\": [68.0, 114.1667], \"lat\": [48.0, 22.25], \"mode\": \"lines\", \"hoverinfo\": \"none\", \"line\": {\"width\": 1.2, \"color\": \"red\"}, \"opacity\": 0.00375}, {\"type\": \"scattergeo\", \"lon\": [68.0, 25.0], \"lat\": [48.0, 57.0], \"mode\": \"lines\", \"hoverinfo\": \"none\", \"line\": {\"width\": 1.2, \"color\": \"red\"}, \"opacity\": 0.00375}, {\"type\": \"scattergeo\", \"lon\": [-80.0, -64.5], \"lat\": [9.0, 18.5], \"mode\": \"lines\", \"hoverinfo\": \"none\", \"line\": {\"width\": 1.2, \"color\": \"red\"}, \"opacity\": 0.00375}, {\"type\": \"scattergeo\", \"lon\": [-80.0, 25.0], \"lat\": [9.0, 57.0], \"mode\": \"lines\", \"hoverinfo\": \"none\", \"line\": {\"width\": 1.2, \"color\": \"red\"}, \"opacity\": 0.00375}, {\"type\": \"scattergeo\", \"lon\": [-80.0, 36.0], \"lat\": [9.0, 31.0], \"mode\": \"lines\", \"hoverinfo\": \"none\", \"line\": {\"width\": 1.2, \"color\": \"red\"}, \"opacity\": 0.00375}, {\"type\": \"scattergeo\", \"lon\": [105.0, 114.1667], \"lat\": [13.0, 22.25], \"mode\": \"lines\", \"hoverinfo\": \"none\", \"line\": {\"width\": 1.2, \"color\": \"red\"}, \"opacity\": 0.00375}, {\"type\": \"scattergeo\", \"lon\": [-62.75, -76.0], \"lat\": [17.3333, 24.25], \"mode\": \"lines\", \"hoverinfo\": \"none\", \"line\": {\"width\": 1.2, \"color\": \"red\"}, \"opacity\": 0.00375}, {\"type\": \"scattergeo\", \"lon\": [25.0, 8.0], \"lat\": [0.0, 47.0], \"mode\": \"lines\", \"hoverinfo\": \"none\", \"line\": {\"width\": 1.2, \"color\": \"red\"}, \"opacity\": 0.00375}, {\"type\": \"scattergeo\", \"lon\": [6.1667, 33.0], \"lat\": [49.75, 35.0], \"mode\": \"lines\", \"hoverinfo\": \"none\", \"line\": {\"width\": 1.2, \"color\": \"red\"}, \"opacity\": 0.00375}, {\"type\": \"scattergeo\", \"lon\": [-4.0, 14.5833], \"lat\": [40.0, 35.8333], \"mode\": \"lines\", \"hoverinfo\": \"none\", \"line\": {\"width\": 1.2, \"color\": \"red\"}, \"opacity\": 0.00375}, {\"type\": \"scattergeo\", \"lon\": [-2.13, -80.5], \"lat\": [49.21, 19.5], \"mode\": \"lines\", \"hoverinfo\": \"none\", \"line\": {\"width\": 1.2, \"color\": \"red\"}, \"opacity\": 0.00375}, {\"type\": \"scattergeo\", \"lon\": [100.0, 32.0], \"lat\": [60.0, 49.0], \"mode\": \"lines\", \"hoverinfo\": \"none\", \"line\": {\"width\": 1.2, \"color\": \"red\"}, \"opacity\": 0.00375}, {\"type\": \"scattergeo\", \"lon\": [-2.0, 45.0], \"lat\": [54.0, 25.0], \"mode\": \"lines\", \"hoverinfo\": \"none\", \"line\": {\"width\": 1.2, \"color\": \"red\"}, \"opacity\": 0.00375}, {\"type\": \"scattergeo\", \"lon\": [-2.56, 33.0], \"lat\": [49.5, 35.0], \"mode\": \"lines\", \"hoverinfo\": \"none\", \"line\": {\"width\": 1.2, \"color\": \"red\"}, \"opacity\": 0.0035}, {\"type\": \"scattergeo\", \"lon\": [-2.0, -59.5333], \"lat\": [54.0, 13.1667], \"mode\": \"lines\", \"hoverinfo\": \"none\", \"line\": {\"width\": 1.2, \"color\": \"red\"}, \"opacity\": 0.0035}, {\"type\": \"scattergeo\", \"lon\": [105.0, 100.0], \"lat\": [35.0, 15.0], \"mode\": \"lines\", \"hoverinfo\": \"none\", \"line\": {\"width\": 1.2, \"color\": \"red\"}, \"opacity\": 0.0035}, {\"type\": \"scattergeo\", \"lon\": [35.8333, 7.4], \"lat\": [33.8333, 43.7333], \"mode\": \"lines\", \"hoverinfo\": \"none\", \"line\": {\"width\": 1.2, \"color\": \"red\"}, \"opacity\": 0.0035}, {\"type\": \"scattergeo\", \"lon\": [6.1667, -2.13], \"lat\": [49.75, 49.21], \"mode\": \"lines\", \"hoverinfo\": \"none\", \"line\": {\"width\": 1.2, \"color\": \"red\"}, \"opacity\": 0.0035}, {\"type\": \"scattergeo\", \"lon\": [-2.13, -95.0], \"lat\": [49.21, 60.0], \"mode\": \"lines\", \"hoverinfo\": \"none\", \"line\": {\"width\": 1.2, \"color\": \"red\"}, \"opacity\": 0.0035}, {\"type\": \"scattergeo\", \"lon\": [55.6667, -2.13], \"lat\": [-4.5833, 49.21], \"mode\": \"lines\", \"hoverinfo\": \"none\", \"line\": {\"width\": 1.2, \"color\": \"red\"}, \"opacity\": 0.0035}, {\"type\": \"scattergeo\", \"lon\": [9.0, 8.0], \"lat\": [34.0, 47.0], \"mode\": \"lines\", \"hoverinfo\": \"none\", \"line\": {\"width\": 1.2, \"color\": \"red\"}, \"opacity\": 0.0035}, {\"type\": \"scattergeo\", \"lon\": [174.0, 103.8], \"lat\": [-41.0, 1.3667], \"mode\": \"lines\", \"hoverinfo\": \"none\", \"line\": {\"width\": 1.2, \"color\": \"red\"}, \"opacity\": 0.0035}, {\"type\": \"scattergeo\", \"lon\": [9.0, 100.0], \"lat\": [51.0, 15.0], \"mode\": \"lines\", \"hoverinfo\": \"none\", \"line\": {\"width\": 1.2, \"color\": \"red\"}, \"opacity\": 0.0035}, {\"type\": \"scattergeo\", \"lon\": [168.0, 54.0], \"lat\": [9.0, 24.0], \"mode\": \"lines\", \"hoverinfo\": \"none\", \"line\": {\"width\": 1.2, \"color\": \"red\"}, \"opacity\": 0.0035}, {\"type\": \"scattergeo\", \"lon\": [2.0, 100.0], \"lat\": [46.0, 60.0], \"mode\": \"lines\", \"hoverinfo\": \"none\", \"line\": {\"width\": 1.2, \"color\": \"red\"}, \"opacity\": 0.0035}, {\"type\": \"scattergeo\", \"lon\": [6.1667, -5.3667], \"lat\": [49.75, 36.1833], \"mode\": \"lines\", \"hoverinfo\": \"none\", \"line\": {\"width\": 1.2, \"color\": \"red\"}, \"opacity\": 0.0035}, {\"type\": \"scattergeo\", \"lon\": [-80.0, -71.0], \"lat\": [9.0, -30.0], \"mode\": \"lines\", \"hoverinfo\": \"none\", \"line\": {\"width\": 1.2, \"color\": \"red\"}, \"opacity\": 0.0035}, {\"type\": \"scattergeo\", \"lon\": [90.0, 114.1667], \"lat\": [24.0, 22.25], \"mode\": \"lines\", \"hoverinfo\": \"none\", \"line\": {\"width\": 1.2, \"color\": \"red\"}, \"opacity\": 0.0035}, {\"type\": \"scattergeo\", \"lon\": [-63.1667, -76.0], \"lat\": [18.25, 24.25], \"mode\": \"lines\", \"hoverinfo\": \"none\", \"line\": {\"width\": 1.2, \"color\": \"red\"}, \"opacity\": 0.0035}, {\"type\": \"scattergeo\", \"lon\": [4.0, -2.56], \"lat\": [50.8333, 49.5], \"mode\": \"lines\", \"hoverinfo\": \"none\", \"line\": {\"width\": 1.2, \"color\": \"red\"}, \"opacity\": 0.0035}, {\"type\": \"scattergeo\", \"lon\": [-88.75, 6.1667], \"lat\": [17.25, 49.75], \"mode\": \"lines\", \"hoverinfo\": \"none\", \"line\": {\"width\": 1.2, \"color\": \"red\"}, \"opacity\": 0.0035}, {\"type\": \"scattergeo\", \"lon\": [7.4, -97.0], \"lat\": [43.7333, 38.0], \"mode\": \"lines\", \"hoverinfo\": \"none\", \"line\": {\"width\": 1.2, \"color\": \"red\"}, \"opacity\": 0.0035}, {\"type\": \"scattergeo\", \"lon\": [-71.0, 105.0], \"lat\": [-30.0, 35.0], \"mode\": \"lines\", \"hoverinfo\": \"none\", \"line\": {\"width\": 1.2, \"color\": \"red\"}, \"opacity\": 0.0035}, {\"type\": \"scattergeo\", \"lon\": [-2.0, 12.8333], \"lat\": [54.0, 42.8333], \"mode\": \"lines\", \"hoverinfo\": \"none\", \"line\": {\"width\": 1.2, \"color\": \"red\"}, \"opacity\": 0.0035}, {\"type\": \"scattergeo\", \"lon\": [57.55, 100.0], \"lat\": [-20.2833, 60.0], \"mode\": \"lines\", \"hoverinfo\": \"none\", \"line\": {\"width\": 1.2, \"color\": \"red\"}, \"opacity\": 0.0035}, {\"type\": \"scattergeo\", \"lon\": [-4.0, 6.1667], \"lat\": [40.0, 49.75], \"mode\": \"lines\", \"hoverinfo\": \"none\", \"line\": {\"width\": 1.2, \"color\": \"red\"}, \"opacity\": 0.0035}, {\"type\": \"scattergeo\", \"lon\": [7.4, 36.0], \"lat\": [43.7333, 31.0], \"mode\": \"lines\", \"hoverinfo\": \"none\", \"line\": {\"width\": 1.2, \"color\": \"red\"}, \"opacity\": 0.0035}, {\"type\": \"scattergeo\", \"lon\": [-95.0, 100.0], \"lat\": [60.0, 15.0], \"mode\": \"lines\", \"hoverinfo\": \"none\", \"line\": {\"width\": 1.2, \"color\": \"red\"}, \"opacity\": 0.0035}, {\"type\": \"scattergeo\", \"lon\": [103.8, -4.55], \"lat\": [1.3667, 54.23], \"mode\": \"lines\", \"hoverinfo\": \"none\", \"line\": {\"width\": 1.2, \"color\": \"red\"}, \"opacity\": 0.0035}, {\"type\": \"scattergeo\", \"lon\": [-9.5, -2.0], \"lat\": [6.5, 54.0], \"mode\": \"lines\", \"hoverinfo\": \"none\", \"line\": {\"width\": 1.2, \"color\": \"red\"}, \"opacity\": 0.0035}, {\"type\": \"scattergeo\", \"lon\": [103.8, 6.1667], \"lat\": [1.3667, 49.75], \"mode\": \"lines\", \"hoverinfo\": \"none\", \"line\": {\"width\": 1.2, \"color\": \"red\"}, \"opacity\": 0.0035}, {\"type\": \"scattergeo\", \"lon\": [64.0, 55.6667], \"lat\": [41.0, -4.5833], \"mode\": \"lines\", \"hoverinfo\": \"none\", \"line\": {\"width\": 1.2, \"color\": \"red\"}, \"opacity\": 0.0035}, {\"type\": \"scattergeo\", \"lon\": [-2.56, 6.1667], \"lat\": [49.5, 49.75], \"mode\": \"lines\", \"hoverinfo\": \"none\", \"line\": {\"width\": 1.2, \"color\": \"red\"}, \"opacity\": 0.0035}, {\"type\": \"scattergeo\", \"lon\": [7.4, 2.0], \"lat\": [43.7333, 46.0], \"mode\": \"lines\", \"hoverinfo\": \"none\", \"line\": {\"width\": 1.2, \"color\": \"red\"}, \"opacity\": 0.0035}, {\"type\": \"scattergeo\", \"lon\": [-76.0, -80.5], \"lat\": [24.25, 19.5], \"mode\": \"lines\", \"hoverinfo\": \"none\", \"line\": {\"width\": 1.2, \"color\": \"red\"}, \"opacity\": 0.0035}, {\"type\": \"scattergeo\", \"lon\": [112.5, 8.0], \"lat\": [2.5, 47.0], \"mode\": \"lines\", \"hoverinfo\": \"none\", \"line\": {\"width\": 1.2, \"color\": \"red\"}, \"opacity\": 0.0035}, {\"type\": \"scattergeo\", \"lon\": [-2.0, -172.3333], \"lat\": [54.0, -13.5833], \"mode\": \"lines\", \"hoverinfo\": \"none\", \"line\": {\"width\": 1.2, \"color\": \"red\"}, \"opacity\": 0.0035}, {\"type\": \"scattergeo\", \"lon\": [45.0, 100.0], \"lat\": [40.0, 60.0], \"mode\": \"lines\", \"hoverinfo\": \"none\", \"line\": {\"width\": 1.2, \"color\": \"red\"}, \"opacity\": 0.0035}, {\"type\": \"scattergeo\", \"lon\": [-8.0, -2.13], \"lat\": [39.5, 49.21], \"mode\": \"lines\", \"hoverinfo\": \"none\", \"line\": {\"width\": 1.2, \"color\": \"red\"}, \"opacity\": 0.0035}, {\"type\": \"scattergeo\", \"lon\": [-95.0, 7.4], \"lat\": [60.0, 43.7333], \"mode\": \"lines\", \"hoverinfo\": \"none\", \"line\": {\"width\": 1.2, \"color\": \"red\"}, \"opacity\": 0.0035}, {\"type\": \"scattergeo\", \"lon\": [8.0, 35.8333], \"lat\": [47.0, 33.8333], \"mode\": \"lines\", \"hoverinfo\": \"none\", \"line\": {\"width\": 1.2, \"color\": \"red\"}, \"opacity\": 0.0035}, {\"type\": \"scattergeo\", \"lon\": [-2.56, -64.75], \"lat\": [49.5, 32.3333], \"mode\": \"lines\", \"hoverinfo\": \"none\", \"line\": {\"width\": 1.2, \"color\": \"red\"}, \"opacity\": 0.00325}, {\"type\": \"scattergeo\", \"lon\": [-2.56, 9.5333], \"lat\": [49.5, 47.1667], \"mode\": \"lines\", \"hoverinfo\": \"none\", \"line\": {\"width\": 1.2, \"color\": \"red\"}, \"opacity\": 0.00325}, {\"type\": \"scattergeo\", \"lon\": [2.0, -80.0], \"lat\": [46.0, 9.0], \"mode\": \"lines\", \"hoverinfo\": \"none\", \"line\": {\"width\": 1.2, \"color\": \"red\"}, \"opacity\": 0.00325}, {\"type\": \"scattergeo\", \"lon\": [-4.55, -56.0], \"lat\": [54.23, -33.0], \"mode\": \"lines\", \"hoverinfo\": \"none\", \"line\": {\"width\": 1.2, \"color\": \"red\"}, \"opacity\": 0.00325}, {\"type\": \"scattergeo\", \"lon\": [-2.0, 24.0], \"lat\": [54.0, -29.0], \"mode\": \"lines\", \"hoverinfo\": \"none\", \"line\": {\"width\": 1.2, \"color\": \"red\"}, \"opacity\": 0.00325}, {\"type\": \"scattergeo\", \"lon\": [-2.13, 100.0], \"lat\": [49.21, 60.0], \"mode\": \"lines\", \"hoverinfo\": \"none\", \"line\": {\"width\": 1.2, \"color\": \"red\"}, \"opacity\": 0.00325}, {\"type\": \"scattergeo\", \"lon\": [-24.0, -2.13], \"lat\": [16.0, 49.21], \"mode\": \"lines\", \"hoverinfo\": \"none\", \"line\": {\"width\": 1.2, \"color\": \"red\"}, \"opacity\": 0.00325}, {\"type\": \"scattergeo\", \"lon\": [-95.0, 100.0], \"lat\": [60.0, 60.0], \"mode\": \"lines\", \"hoverinfo\": \"none\", \"line\": {\"width\": 1.2, \"color\": \"red\"}, \"opacity\": 0.00325}, {\"type\": \"scattergeo\", \"lon\": [-8.0, -4.55], \"lat\": [39.5, 54.23], \"mode\": \"lines\", \"hoverinfo\": \"none\", \"line\": {\"width\": 1.2, \"color\": \"red\"}, \"opacity\": 0.00325}, {\"type\": \"scattergeo\", \"lon\": [51.25, -2.0], \"lat\": [25.5, 54.0], \"mode\": \"lines\", \"hoverinfo\": \"none\", \"line\": {\"width\": 1.2, \"color\": \"red\"}, \"opacity\": 0.00325}, {\"type\": \"scattergeo\", \"lon\": [28.0, 100.0], \"lat\": [53.0, 60.0], \"mode\": \"lines\", \"hoverinfo\": \"none\", \"line\": {\"width\": 1.2, \"color\": \"red\"}, \"opacity\": 0.00325}, {\"type\": \"scattergeo\", \"lon\": [-24.0, -95.0], \"lat\": [16.0, 60.0], \"mode\": \"lines\", \"hoverinfo\": \"none\", \"line\": {\"width\": 1.2, \"color\": \"red\"}, \"opacity\": 0.00325}, {\"type\": \"scattergeo\", \"lon\": [103.8, 54.0], \"lat\": [1.3667, 24.0], \"mode\": \"lines\", \"hoverinfo\": \"none\", \"line\": {\"width\": 1.2, \"color\": \"red\"}, \"opacity\": 0.00325}, {\"type\": \"scattergeo\", \"lon\": [-84.0, -77.5], \"lat\": [10.0, -2.0], \"mode\": \"lines\", \"hoverinfo\": \"none\", \"line\": {\"width\": 1.2, \"color\": \"red\"}, \"opacity\": 0.00325}, {\"type\": \"scattergeo\", \"lon\": [-64.75, -2.13], \"lat\": [32.3333, 49.21], \"mode\": \"lines\", \"hoverinfo\": \"none\", \"line\": {\"width\": 1.2, \"color\": \"red\"}, \"opacity\": 0.00325}, {\"type\": \"scattergeo\", \"lon\": [38.0, 36.0], \"lat\": [35.0, 31.0], \"mode\": \"lines\", \"hoverinfo\": \"none\", \"line\": {\"width\": 1.2, \"color\": \"red\"}, \"opacity\": 0.00325}, {\"type\": \"scattergeo\", \"lon\": [35.8333, 114.1667], \"lat\": [33.8333, 22.25], \"mode\": \"lines\", \"hoverinfo\": \"none\", \"line\": {\"width\": 1.2, \"color\": \"red\"}, \"opacity\": 0.00325}, {\"type\": \"scattergeo\", \"lon\": [12.0, -2.13], \"lat\": [6.0, 49.21], \"mode\": \"lines\", \"hoverinfo\": \"none\", \"line\": {\"width\": 1.2, \"color\": \"red\"}, \"opacity\": 0.00325}, {\"type\": \"scattergeo\", \"lon\": [35.0, 6.1667], \"lat\": [39.0, 49.75], \"mode\": \"lines\", \"hoverinfo\": \"none\", \"line\": {\"width\": 1.2, \"color\": \"red\"}, \"opacity\": 0.00325}, {\"type\": \"scattergeo\", \"lon\": [-80.5, -4.55], \"lat\": [19.5, 54.23], \"mode\": \"lines\", \"hoverinfo\": \"none\", \"line\": {\"width\": 1.2, \"color\": \"red\"}, \"opacity\": 0.00325}, {\"type\": \"scattergeo\", \"lon\": [5.75, 33.0], \"lat\": [52.5, 35.0], \"mode\": \"lines\", \"hoverinfo\": \"none\", \"line\": {\"width\": 1.2, \"color\": \"red\"}, \"opacity\": 0.00325}, {\"type\": \"scattergeo\", \"lon\": [-88.75, 14.5833], \"lat\": [17.25, 35.8333], \"mode\": \"lines\", \"hoverinfo\": \"none\", \"line\": {\"width\": 1.2, \"color\": \"red\"}, \"opacity\": 0.00325}, {\"type\": \"scattergeo\", \"lon\": [-2.13, -59.5333], \"lat\": [49.21, 13.1667], \"mode\": \"lines\", \"hoverinfo\": \"none\", \"line\": {\"width\": 1.2, \"color\": \"red\"}, \"opacity\": 0.00325}, {\"type\": \"scattergeo\", \"lon\": [7.4, -2.13], \"lat\": [43.7333, 49.21], \"mode\": \"lines\", \"hoverinfo\": \"none\", \"line\": {\"width\": 1.2, \"color\": \"red\"}, \"opacity\": 0.00325}, {\"type\": \"scattergeo\", \"lon\": [-97.0, 33.0], \"lat\": [38.0, 35.0], \"mode\": \"lines\", \"hoverinfo\": \"none\", \"line\": {\"width\": 1.2, \"color\": \"red\"}, \"opacity\": 0.00325}, {\"type\": \"scattergeo\", \"lon\": [15.5, 114.1667], \"lat\": [49.75, 22.25], \"mode\": \"lines\", \"hoverinfo\": \"none\", \"line\": {\"width\": 1.2, \"color\": \"red\"}, \"opacity\": 0.00325}, {\"type\": \"scattergeo\", \"lon\": [-97.0, -70.6667], \"lat\": [38.0, 19.0], \"mode\": \"lines\", \"hoverinfo\": \"none\", \"line\": {\"width\": 1.2, \"color\": \"red\"}, \"opacity\": 0.00325}, {\"type\": \"scattergeo\", \"lon\": [14.5833, 57.55], \"lat\": [35.8333, -20.2833], \"mode\": \"lines\", \"hoverinfo\": \"none\", \"line\": {\"width\": 1.2, \"color\": \"red\"}, \"opacity\": 0.00325}, {\"type\": \"scattergeo\", \"lon\": [105.0, 105.0], \"lat\": [46.0, 35.0], \"mode\": \"lines\", \"hoverinfo\": \"none\", \"line\": {\"width\": 1.2, \"color\": \"red\"}, \"opacity\": 0.00325}, {\"type\": \"scattergeo\", \"lon\": [64.0, 100.0], \"lat\": [41.0, 60.0], \"mode\": \"lines\", \"hoverinfo\": \"none\", \"line\": {\"width\": 1.2, \"color\": \"red\"}, \"opacity\": 0.00325}, {\"type\": \"scattergeo\", \"lon\": [-66.0, 36.0], \"lat\": [8.0, 31.0], \"mode\": \"lines\", \"hoverinfo\": \"none\", \"line\": {\"width\": 1.2, \"color\": \"red\"}, \"opacity\": 0.00325}, {\"type\": \"scattergeo\", \"lon\": [-64.5, -59.5333], \"lat\": [18.5, 13.1667], \"mode\": \"lines\", \"hoverinfo\": \"none\", \"line\": {\"width\": 1.2, \"color\": \"red\"}, \"opacity\": 0.00325}, {\"type\": \"scattergeo\", \"lon\": [25.0, 26.0], \"lat\": [57.0, 59.0], \"mode\": \"lines\", \"hoverinfo\": \"none\", \"line\": {\"width\": 1.2, \"color\": \"red\"}, \"opacity\": 0.00325}, {\"type\": \"scattergeo\", \"lon\": [-95.0, -97.0], \"lat\": [60.0, 38.0], \"mode\": \"lines\", \"hoverinfo\": \"none\", \"line\": {\"width\": 1.2, \"color\": \"red\"}, \"opacity\": 0.003}, {\"type\": \"scattergeo\", \"lon\": [-88.75, -97.0], \"lat\": [17.25, 38.0], \"mode\": \"lines\", \"hoverinfo\": \"none\", \"line\": {\"width\": 1.2, \"color\": \"red\"}, \"opacity\": 0.003}, {\"type\": \"scattergeo\", \"lon\": [20.0, 8.0], \"lat\": [52.0, 47.0], \"mode\": \"lines\", \"hoverinfo\": \"none\", \"line\": {\"width\": 1.2, \"color\": \"red\"}, \"opacity\": 0.003}, {\"type\": \"scattergeo\", \"lon\": [-76.0, -80.0], \"lat\": [-10.0, 9.0], \"mode\": \"lines\", \"hoverinfo\": \"none\", \"line\": {\"width\": 1.2, \"color\": \"red\"}, \"opacity\": 0.003}, {\"type\": \"scattergeo\", \"lon\": [-102.0, -2.0], \"lat\": [23.0, 54.0], \"mode\": \"lines\", \"hoverinfo\": \"none\", \"line\": {\"width\": 1.2, \"color\": \"red\"}, \"opacity\": 0.003}, {\"type\": \"scattergeo\", \"lon\": [8.0, 100.0], \"lat\": [47.0, 60.0], \"mode\": \"lines\", \"hoverinfo\": \"none\", \"line\": {\"width\": 1.2, \"color\": \"red\"}, \"opacity\": 0.003}, {\"type\": \"scattergeo\", \"lon\": [-102.0, 114.1667], \"lat\": [23.0, 22.25], \"mode\": \"lines\", \"hoverinfo\": \"none\", \"line\": {\"width\": 1.2, \"color\": \"red\"}, \"opacity\": 0.003}, {\"type\": \"scattergeo\", \"lon\": [98.0, 114.1667], \"lat\": [22.0, 22.25], \"mode\": \"lines\", \"hoverinfo\": \"none\", \"line\": {\"width\": 1.2, \"color\": \"red\"}, \"opacity\": 0.003}, {\"type\": \"scattergeo\", \"lon\": [-5.3667, 26.0], \"lat\": [36.1833, 59.0], \"mode\": \"lines\", \"hoverinfo\": \"none\", \"line\": {\"width\": 1.2, \"color\": \"red\"}, \"opacity\": 0.003}, {\"type\": \"scattergeo\", \"lon\": [-80.0, -8.0], \"lat\": [9.0, 53.0], \"mode\": \"lines\", \"hoverinfo\": \"none\", \"line\": {\"width\": 1.2, \"color\": \"red\"}, \"opacity\": 0.003}, {\"type\": \"scattergeo\", \"lon\": [-2.56, -80.0], \"lat\": [49.5, 9.0], \"mode\": \"lines\", \"hoverinfo\": \"none\", \"line\": {\"width\": 1.2, \"color\": \"red\"}, \"opacity\": 0.003}, {\"type\": \"scattergeo\", \"lon\": [174.0, -2.56], \"lat\": [-41.0, 49.5], \"mode\": \"lines\", \"hoverinfo\": \"none\", \"line\": {\"width\": 1.2, \"color\": \"red\"}, \"opacity\": 0.003}, {\"type\": \"scattergeo\", \"lon\": [-95.0, 36.0], \"lat\": [60.0, 31.0], \"mode\": \"lines\", \"hoverinfo\": \"none\", \"line\": {\"width\": 1.2, \"color\": \"red\"}, \"opacity\": 0.003}, {\"type\": \"scattergeo\", \"lon\": [112.5, 105.0], \"lat\": [2.5, 35.0], \"mode\": \"lines\", \"hoverinfo\": \"none\", \"line\": {\"width\": 1.2, \"color\": \"red\"}, \"opacity\": 0.003}, {\"type\": \"scattergeo\", \"lon\": [20.0, -2.0], \"lat\": [52.0, 54.0], \"mode\": \"lines\", \"hoverinfo\": \"none\", \"line\": {\"width\": 1.2, \"color\": \"red\"}, \"opacity\": 0.003}, {\"type\": \"scattergeo\", \"lon\": [5.75, -2.56], \"lat\": [52.5, 49.5], \"mode\": \"lines\", \"hoverinfo\": \"none\", \"line\": {\"width\": 1.2, \"color\": \"red\"}, \"opacity\": 0.003}, {\"type\": \"scattergeo\", \"lon\": [-88.75, -62.75], \"lat\": [17.25, 17.3333], \"mode\": \"lines\", \"hoverinfo\": \"none\", \"line\": {\"width\": 1.2, \"color\": \"red\"}, \"opacity\": 0.003}, {\"type\": \"scattergeo\", \"lon\": [-8.0, -2.0], \"lat\": [39.5, 54.0], \"mode\": \"lines\", \"hoverinfo\": \"none\", \"line\": {\"width\": 1.2, \"color\": \"red\"}, \"opacity\": 0.003}, {\"type\": \"scattergeo\", \"lon\": [30.0, 54.0], \"lat\": [-15.0, 24.0], \"mode\": \"lines\", \"hoverinfo\": \"none\", \"line\": {\"width\": 1.2, \"color\": \"red\"}, \"opacity\": 0.003}, {\"type\": \"scattergeo\", \"lon\": [18.5, -8.0], \"lat\": [-12.5, 39.5], \"mode\": \"lines\", \"hoverinfo\": \"none\", \"line\": {\"width\": 1.2, \"color\": \"red\"}, \"opacity\": 0.003}, {\"type\": \"scattergeo\", \"lon\": [2.0, 57.55], \"lat\": [46.0, -20.2833], \"mode\": \"lines\", \"hoverinfo\": \"none\", \"line\": {\"width\": 1.2, \"color\": \"red\"}, \"opacity\": 0.003}, {\"type\": \"scattergeo\", \"lon\": [-172.3333, 100.0], \"lat\": [-13.5833, 15.0], \"mode\": \"lines\", \"hoverinfo\": \"none\", \"line\": {\"width\": 1.2, \"color\": \"red\"}, \"opacity\": 0.003}, {\"type\": \"scattergeo\", \"lon\": [-63.1667, 103.8], \"lat\": [18.25, 1.3667], \"mode\": \"lines\", \"hoverinfo\": \"none\", \"line\": {\"width\": 1.2, \"color\": \"red\"}, \"opacity\": 0.003}, {\"type\": \"scattergeo\", \"lon\": [-172.3333, -4.0], \"lat\": [-13.5833, 40.0], \"mode\": \"lines\", \"hoverinfo\": \"none\", \"line\": {\"width\": 1.2, \"color\": \"red\"}, \"opacity\": 0.003}, {\"type\": \"scattergeo\", \"lon\": [-172.3333, -72.0], \"lat\": [-13.5833, 4.0], \"mode\": \"lines\", \"hoverinfo\": \"none\", \"line\": {\"width\": 1.2, \"color\": \"red\"}, \"opacity\": 0.003}, {\"type\": \"scattergeo\", \"lon\": [11.75, 114.1667], \"lat\": [-1.0, 22.25], \"mode\": \"lines\", \"hoverinfo\": \"none\", \"line\": {\"width\": 1.2, \"color\": \"red\"}, \"opacity\": 0.003}, {\"type\": \"scattergeo\", \"lon\": [-97.0, -64.5], \"lat\": [38.0, 18.5], \"mode\": \"lines\", \"hoverinfo\": \"none\", \"line\": {\"width\": 1.2, \"color\": \"red\"}, \"opacity\": 0.003}, {\"type\": \"scattergeo\", \"lon\": [13.3333, -2.0], \"lat\": [47.3333, 54.0], \"mode\": \"lines\", \"hoverinfo\": \"none\", \"line\": {\"width\": 1.2, \"color\": \"red\"}, \"opacity\": 0.003}, {\"type\": \"scattergeo\", \"lon\": [-56.0, -64.0], \"lat\": [-33.0, -34.0], \"mode\": \"lines\", \"hoverinfo\": \"none\", \"line\": {\"width\": 1.2, \"color\": \"red\"}, \"opacity\": 0.003}, {\"type\": \"scattergeo\", \"lon\": [32.0, 114.1667], \"lat\": [49.0, 22.25], \"mode\": \"lines\", \"hoverinfo\": \"none\", \"line\": {\"width\": 1.2, \"color\": \"red\"}, \"opacity\": 0.003}, {\"type\": \"scattergeo\", \"lon\": [35.0, -2.0], \"lat\": [-6.0, 54.0], \"mode\": \"lines\", \"hoverinfo\": \"none\", \"line\": {\"width\": 1.2, \"color\": \"red\"}, \"opacity\": 0.003}, {\"type\": \"scattergeo\", \"lon\": [35.0, 8.0], \"lat\": [-6.0, 47.0], \"mode\": \"lines\", \"hoverinfo\": \"none\", \"line\": {\"width\": 1.2, \"color\": \"red\"}, \"opacity\": 0.003}, {\"type\": \"scattergeo\", \"lon\": [47.5, -2.0], \"lat\": [40.5, 54.0], \"mode\": \"lines\", \"hoverinfo\": \"none\", \"line\": {\"width\": 1.2, \"color\": \"red\"}, \"opacity\": 0.003}, {\"type\": \"scattergeo\", \"lon\": [47.5, 114.1667], \"lat\": [40.5, 22.25], \"mode\": \"lines\", \"hoverinfo\": \"none\", \"line\": {\"width\": 1.2, \"color\": \"red\"}, \"opacity\": 0.003}, {\"type\": \"scattergeo\", \"lon\": [100.0, 19.0], \"lat\": [15.0, 15.0], \"mode\": \"lines\", \"hoverinfo\": \"none\", \"line\": {\"width\": 1.2, \"color\": \"red\"}, \"opacity\": 0.003}, {\"type\": \"scattergeo\", \"lon\": [100.0, -4.55], \"lat\": [15.0, 54.23], \"mode\": \"lines\", \"hoverinfo\": \"none\", \"line\": {\"width\": 1.2, \"color\": \"red\"}, \"opacity\": 0.003}, {\"type\": \"scattergeo\", \"lon\": [55.6667, 32.0], \"lat\": [-4.5833, 49.0], \"mode\": \"lines\", \"hoverinfo\": \"none\", \"line\": {\"width\": 1.2, \"color\": \"red\"}, \"opacity\": 0.003}, {\"type\": \"scattergeo\", \"lon\": [55.6667, 57.55], \"lat\": [-4.5833, -20.2833], \"mode\": \"lines\", \"hoverinfo\": \"none\", \"line\": {\"width\": 1.2, \"color\": \"red\"}, \"opacity\": 0.003}, {\"type\": \"scattergeo\", \"lon\": [29.0, 54.0], \"lat\": [47.0, 24.0], \"mode\": \"lines\", \"hoverinfo\": \"none\", \"line\": {\"width\": 1.2, \"color\": \"red\"}, \"opacity\": 0.003}, {\"type\": \"scattergeo\", \"lon\": [-4.0, -2.13], \"lat\": [40.0, 49.21], \"mode\": \"lines\", \"hoverinfo\": \"none\", \"line\": {\"width\": 1.2, \"color\": \"red\"}, \"opacity\": 0.003}, {\"type\": \"scattergeo\", \"lon\": [51.25, 36.0], \"lat\": [25.5, 31.0], \"mode\": \"lines\", \"hoverinfo\": \"none\", \"line\": {\"width\": 1.2, \"color\": \"red\"}, \"opacity\": 0.003}, {\"type\": \"scattergeo\", \"lon\": [73.0, -2.13], \"lat\": [3.25, 49.21], \"mode\": \"lines\", \"hoverinfo\": \"none\", \"line\": {\"width\": 1.2, \"color\": \"red\"}, \"opacity\": 0.003}, {\"type\": \"scattergeo\", \"lon\": [112.5, -76.0], \"lat\": [2.5, 24.25], \"mode\": \"lines\", \"hoverinfo\": \"none\", \"line\": {\"width\": 1.2, \"color\": \"red\"}, \"opacity\": 0.003}, {\"type\": \"scattergeo\", \"lon\": [-16.5667, -2.0], \"lat\": [13.4667, 54.0], \"mode\": \"lines\", \"hoverinfo\": \"none\", \"line\": {\"width\": 1.2, \"color\": \"red\"}, \"opacity\": 0.003}, {\"type\": \"scattergeo\", \"lon\": [-84.0, -97.0], \"lat\": [10.0, 38.0], \"mode\": \"lines\", \"hoverinfo\": \"none\", \"line\": {\"width\": 1.2, \"color\": \"red\"}, \"opacity\": 0.003}, {\"type\": \"scattergeo\", \"lon\": [9.0, -64.5], \"lat\": [51.0, 18.5], \"mode\": \"lines\", \"hoverinfo\": \"none\", \"line\": {\"width\": 1.2, \"color\": \"red\"}, \"opacity\": 0.003}, {\"type\": \"scattergeo\", \"lon\": [38.0, 57.55], \"lat\": [1.0, -20.2833], \"mode\": \"lines\", \"hoverinfo\": \"none\", \"line\": {\"width\": 1.2, \"color\": \"red\"}, \"opacity\": 0.003}, {\"type\": \"scattergeo\", \"lon\": [12.8333, -2.13], \"lat\": [42.8333, 49.21], \"mode\": \"lines\", \"hoverinfo\": \"none\", \"line\": {\"width\": 1.2, \"color\": \"red\"}, \"opacity\": 0.003}, {\"type\": \"scattergeo\", \"lon\": [-77.5, 114.1667], \"lat\": [18.25, 22.25], \"mode\": \"lines\", \"hoverinfo\": \"none\", \"line\": {\"width\": 1.2, \"color\": \"red\"}, \"opacity\": 0.003}, {\"type\": \"scattergeo\", \"lon\": [-80.5, -97.0], \"lat\": [19.5, 38.0], \"mode\": \"lines\", \"hoverinfo\": \"none\", \"line\": {\"width\": 1.2, \"color\": \"red\"}, \"opacity\": 0.003}, {\"type\": \"scattergeo\", \"lon\": [47.6581, -4.55], \"lat\": [29.3375, 54.23], \"mode\": \"lines\", \"hoverinfo\": \"none\", \"line\": {\"width\": 1.2, \"color\": \"red\"}, \"opacity\": 0.003}, {\"type\": \"scattergeo\", \"lon\": [-80.5, -80.0], \"lat\": [19.5, 9.0], \"mode\": \"lines\", \"hoverinfo\": \"none\", \"line\": {\"width\": 1.2, \"color\": \"red\"}, \"opacity\": 0.003}, {\"type\": \"scattergeo\", \"lon\": [-84.0, -62.75], \"lat\": [10.0, 17.3333], \"mode\": \"lines\", \"hoverinfo\": \"none\", \"line\": {\"width\": 1.2, \"color\": \"red\"}, \"opacity\": 0.003}, {\"type\": \"scattergeo\", \"lon\": [12.8333, -2.0], \"lat\": [42.8333, 54.0], \"mode\": \"lines\", \"hoverinfo\": \"none\", \"line\": {\"width\": 1.2, \"color\": \"red\"}, \"opacity\": 0.003}, {\"type\": \"scattergeo\", \"lon\": [47.6581, 54.0], \"lat\": [29.3375, 24.0], \"mode\": \"lines\", \"hoverinfo\": \"none\", \"line\": {\"width\": 1.2, \"color\": \"red\"}, \"opacity\": 0.003}, {\"type\": \"scattergeo\", \"lon\": [-159.7667, 114.1667], \"lat\": [-21.2333, 22.25], \"mode\": \"lines\", \"hoverinfo\": \"none\", \"line\": {\"width\": 1.2, \"color\": \"red\"}, \"opacity\": 0.003}, {\"type\": \"scattergeo\", \"lon\": [20.0, 6.1667], \"lat\": [47.0, 49.75], \"mode\": \"lines\", \"hoverinfo\": \"none\", \"line\": {\"width\": 1.2, \"color\": \"red\"}, \"opacity\": 0.003}, {\"type\": \"scattergeo\", \"lon\": [-62.75, -2.0], \"lat\": [17.3333, 54.0], \"mode\": \"lines\", \"hoverinfo\": \"none\", \"line\": {\"width\": 1.2, \"color\": \"red\"}, \"opacity\": 0.003}, {\"type\": \"scattergeo\", \"lon\": [138.0, 105.0], \"lat\": [36.0, 35.0], \"mode\": \"lines\", \"hoverinfo\": \"none\", \"line\": {\"width\": 1.2, \"color\": \"red\"}, \"opacity\": 0.003}, {\"type\": \"scattergeo\", \"lon\": [-62.75, -88.75], \"lat\": [17.3333, 17.25], \"mode\": \"lines\", \"hoverinfo\": \"none\", \"line\": {\"width\": 1.2, \"color\": \"red\"}, \"opacity\": 0.003}, {\"type\": \"scattergeo\", \"lon\": [7.4, 103.8], \"lat\": [43.7333, 1.3667], \"mode\": \"lines\", \"hoverinfo\": \"none\", \"line\": {\"width\": 1.2, \"color\": \"red\"}, \"opacity\": 0.003}, {\"type\": \"scattergeo\", \"lon\": [114.1667, -95.0], \"lat\": [22.25, 60.0], \"mode\": \"lines\", \"hoverinfo\": \"none\", \"line\": {\"width\": 1.2, \"color\": \"red\"}, \"opacity\": 0.003}, {\"type\": \"scattergeo\", \"lon\": [33.0, 25.0], \"lat\": [35.0, 57.0], \"mode\": \"lines\", \"hoverinfo\": \"none\", \"line\": {\"width\": 1.2, \"color\": \"red\"}, \"opacity\": 0.003}, {\"type\": \"scattergeo\", \"lon\": [113.55, 103.8], \"lat\": [22.1667, 1.3667], \"mode\": \"lines\", \"hoverinfo\": \"none\", \"line\": {\"width\": 1.2, \"color\": \"red\"}, \"opacity\": 0.003}, {\"type\": \"scattergeo\", \"lon\": [22.0, 114.1667], \"lat\": [39.0, 22.25], \"mode\": \"lines\", \"hoverinfo\": \"none\", \"line\": {\"width\": 1.2, \"color\": \"red\"}, \"opacity\": 0.003}, {\"type\": \"scattergeo\", \"lon\": [105.0, -2.13], \"lat\": [35.0, 49.21], \"mode\": \"lines\", \"hoverinfo\": \"none\", \"line\": {\"width\": 1.2, \"color\": \"red\"}, \"opacity\": 0.003}, {\"type\": \"scattergeo\", \"lon\": [53.0, -2.56], \"lat\": [32.0, 49.5], \"mode\": \"lines\", \"hoverinfo\": \"none\", \"line\": {\"width\": 1.2, \"color\": \"red\"}, \"opacity\": 0.003}, {\"type\": \"scattergeo\", \"lon\": [25.0, -2.0], \"lat\": [57.0, 54.0], \"mode\": \"lines\", \"hoverinfo\": \"none\", \"line\": {\"width\": 1.2, \"color\": \"red\"}, \"opacity\": 0.003}, {\"type\": \"scattergeo\", \"lon\": [6.1667, 100.0], \"lat\": [49.75, 60.0], \"mode\": \"lines\", \"hoverinfo\": \"none\", \"line\": {\"width\": 1.2, \"color\": \"red\"}, \"opacity\": 0.003}, {\"type\": \"scattergeo\", \"lon\": [53.0, 8.0], \"lat\": [32.0, 47.0], \"mode\": \"lines\", \"hoverinfo\": \"none\", \"line\": {\"width\": 1.2, \"color\": \"red\"}, \"opacity\": 0.003}, {\"type\": \"scattergeo\", \"lon\": [12.8333, -76.0], \"lat\": [42.8333, 24.25], \"mode\": \"lines\", \"hoverinfo\": \"none\", \"line\": {\"width\": 1.2, \"color\": \"red\"}, \"opacity\": 0.00275}, {\"type\": \"scattergeo\", \"lon\": [24.0, -5.3667], \"lat\": [-29.0, 36.1833], \"mode\": \"lines\", \"hoverinfo\": \"none\", \"line\": {\"width\": 1.2, \"color\": \"red\"}, \"opacity\": 0.00275}, {\"type\": \"scattergeo\", \"lon\": [-71.5833, -2.13], \"lat\": [21.75, 49.21], \"mode\": \"lines\", \"hoverinfo\": \"none\", \"line\": {\"width\": 1.2, \"color\": \"red\"}, \"opacity\": 0.00275}, {\"type\": \"scattergeo\", \"lon\": [-71.5833, -5.3667], \"lat\": [21.75, 36.1833], \"mode\": \"lines\", \"hoverinfo\": \"none\", \"line\": {\"width\": 1.2, \"color\": \"red\"}, \"opacity\": 0.00275}, {\"type\": \"scattergeo\", \"lon\": [55.6667, -4.0], \"lat\": [-4.5833, 40.0], \"mode\": \"lines\", \"hoverinfo\": \"none\", \"line\": {\"width\": 1.2, \"color\": \"red\"}, \"opacity\": 0.00275}, {\"type\": \"scattergeo\", \"lon\": [53.0, -172.3333], \"lat\": [32.0, -13.5833], \"mode\": \"lines\", \"hoverinfo\": \"none\", \"line\": {\"width\": 1.2, \"color\": \"red\"}, \"opacity\": 0.00275}, {\"type\": \"scattergeo\", \"lon\": [55.6667, 1.6], \"lat\": [-4.5833, 42.5], \"mode\": \"lines\", \"hoverinfo\": \"none\", \"line\": {\"width\": 1.2, \"color\": \"red\"}, \"opacity\": 0.00275}, {\"type\": \"scattergeo\", \"lon\": [15.0, 6.1667], \"lat\": [62.0, 49.75], \"mode\": \"lines\", \"hoverinfo\": \"none\", \"line\": {\"width\": 1.2, \"color\": \"red\"}, \"opacity\": 0.00275}, {\"type\": \"scattergeo\", \"lon\": [21.0, -2.13], \"lat\": [44.0, 49.21], \"mode\": \"lines\", \"hoverinfo\": \"none\", \"line\": {\"width\": 1.2, \"color\": \"red\"}, \"opacity\": 0.00275}, {\"type\": \"scattergeo\", \"lon\": [30.0, -4.55], \"lat\": [-15.0, 54.23], \"mode\": \"lines\", \"hoverinfo\": \"none\", \"line\": {\"width\": 1.2, \"color\": \"red\"}, \"opacity\": 0.00275}, {\"type\": \"scattergeo\", \"lon\": [138.0, 121.0], \"lat\": [36.0, 23.5], \"mode\": \"lines\", \"hoverinfo\": \"none\", \"line\": {\"width\": 1.2, \"color\": \"red\"}, \"opacity\": 0.00275}, {\"type\": \"scattergeo\", \"lon\": [30.0, -2.13], \"lat\": [-20.0, 49.21], \"mode\": \"lines\", \"hoverinfo\": \"none\", \"line\": {\"width\": 1.2, \"color\": \"red\"}, \"opacity\": 0.00275}, {\"type\": \"scattergeo\", \"lon\": [9.0, 7.4], \"lat\": [51.0, 43.7333], \"mode\": \"lines\", \"hoverinfo\": \"none\", \"line\": {\"width\": 1.2, \"color\": \"red\"}, \"opacity\": 0.00275}, {\"type\": \"scattergeo\", \"lon\": [-172.3333, 6.1667], \"lat\": [-13.5833, 49.75], \"mode\": \"lines\", \"hoverinfo\": \"none\", \"line\": {\"width\": 1.2, \"color\": \"red\"}, \"opacity\": 0.00275}, {\"type\": \"scattergeo\", \"lon\": [35.0, -8.0], \"lat\": [39.0, 53.0], \"mode\": \"lines\", \"hoverinfo\": \"none\", \"line\": {\"width\": 1.2, \"color\": \"red\"}, \"opacity\": 0.00275}, {\"type\": \"scattergeo\", \"lon\": [-2.0, 133.0], \"lat\": [54.0, -27.0], \"mode\": \"lines\", \"hoverinfo\": \"none\", \"line\": {\"width\": 1.2, \"color\": \"red\"}, \"opacity\": 0.00275}, {\"type\": \"scattergeo\", \"lon\": [120.0, 100.0], \"lat\": [-5.0, 15.0], \"mode\": \"lines\", \"hoverinfo\": \"none\", \"line\": {\"width\": 1.2, \"color\": \"red\"}, \"opacity\": 0.00275}, {\"type\": \"scattergeo\", \"lon\": [2.0, -76.0], \"lat\": [46.0, 24.25], \"mode\": \"lines\", \"hoverinfo\": \"none\", \"line\": {\"width\": 1.2, \"color\": \"red\"}, \"opacity\": 0.00275}, {\"type\": \"scattergeo\", \"lon\": [-4.55, -80.0], \"lat\": [54.23, 9.0], \"mode\": \"lines\", \"hoverinfo\": \"none\", \"line\": {\"width\": 1.2, \"color\": \"red\"}, \"opacity\": 0.00275}, {\"type\": \"scattergeo\", \"lon\": [32.0, 14.5833], \"lat\": [49.0, 35.8333], \"mode\": \"lines\", \"hoverinfo\": \"none\", \"line\": {\"width\": 1.2, \"color\": \"red\"}, \"opacity\": 0.00275}, {\"type\": \"scattergeo\", \"lon\": [12.8333, -80.0], \"lat\": [42.8333, 9.0], \"mode\": \"lines\", \"hoverinfo\": \"none\", \"line\": {\"width\": 1.2, \"color\": \"red\"}, \"opacity\": 0.00275}, {\"type\": \"scattergeo\", \"lon\": [33.0, 34.75], \"lat\": [35.0, 31.5], \"mode\": \"lines\", \"hoverinfo\": \"none\", \"line\": {\"width\": 1.2, \"color\": \"red\"}, \"opacity\": 0.00275}, {\"type\": \"scattergeo\", \"lon\": [34.75, -80.0], \"lat\": [31.5, 9.0], \"mode\": \"lines\", \"hoverinfo\": \"none\", \"line\": {\"width\": 1.2, \"color\": \"red\"}, \"opacity\": 0.00275}, {\"type\": \"scattergeo\", \"lon\": [-97.0, 34.75], \"lat\": [38.0, 31.5], \"mode\": \"lines\", \"hoverinfo\": \"none\", \"line\": {\"width\": 1.2, \"color\": \"red\"}, \"opacity\": 0.00275}, {\"type\": \"scattergeo\", \"lon\": [-2.0, 9.0], \"lat\": [54.0, 51.0], \"mode\": \"lines\", \"hoverinfo\": \"none\", \"line\": {\"width\": 1.2, \"color\": \"red\"}, \"opacity\": 0.00275}, {\"type\": \"scattergeo\", \"lon\": [-2.0, -80.5], \"lat\": [54.0, 19.5], \"mode\": \"lines\", \"hoverinfo\": \"none\", \"line\": {\"width\": 1.2, \"color\": \"red\"}, \"opacity\": 0.00275}, {\"type\": \"scattergeo\", \"lon\": [12.8333, -2.56], \"lat\": [42.8333, 49.5], \"mode\": \"lines\", \"hoverinfo\": \"none\", \"line\": {\"width\": 1.2, \"color\": \"red\"}, \"opacity\": 0.00275}, {\"type\": \"scattergeo\", \"lon\": [-172.3333, -76.0], \"lat\": [-13.5833, 24.25], \"mode\": \"lines\", \"hoverinfo\": \"none\", \"line\": {\"width\": 1.2, \"color\": \"red\"}, \"opacity\": 0.00275}, {\"type\": \"scattergeo\", \"lon\": [28.0, 26.0], \"lat\": [53.0, 59.0], \"mode\": \"lines\", \"hoverinfo\": \"none\", \"line\": {\"width\": 1.2, \"color\": \"red\"}, \"opacity\": 0.00275}, {\"type\": \"scattergeo\", \"lon\": [100.0, -80.0], \"lat\": [60.0, 9.0], \"mode\": \"lines\", \"hoverinfo\": \"none\", \"line\": {\"width\": 1.2, \"color\": \"red\"}, \"opacity\": 0.00275}, {\"type\": \"scattergeo\", \"lon\": [30.0, -2.13], \"lat\": [27.0, 49.21], \"mode\": \"lines\", \"hoverinfo\": \"none\", \"line\": {\"width\": 1.2, \"color\": \"red\"}, \"opacity\": 0.00275}, {\"type\": \"scattergeo\", \"lon\": [-55.0, -2.0], \"lat\": [-10.0, 54.0], \"mode\": \"lines\", \"hoverinfo\": \"none\", \"line\": {\"width\": 1.2, \"color\": \"red\"}, \"opacity\": 0.00275}, {\"type\": \"scattergeo\", \"lon\": [-80.0, -76.0], \"lat\": [9.0, -10.0], \"mode\": \"lines\", \"hoverinfo\": \"none\", \"line\": {\"width\": 1.2, \"color\": \"red\"}, \"opacity\": 0.00275}, {\"type\": \"scattergeo\", \"lon\": [-2.56, 100.0], \"lat\": [49.5, 15.0], \"mode\": \"lines\", \"hoverinfo\": \"none\", \"line\": {\"width\": 1.2, \"color\": \"red\"}, \"opacity\": 0.00275}, {\"type\": \"scattergeo\", \"lon\": [47.6581, -2.56], \"lat\": [29.3375, 49.5], \"mode\": \"lines\", \"hoverinfo\": \"none\", \"line\": {\"width\": 1.2, \"color\": \"red\"}, \"opacity\": 0.00275}, {\"type\": \"scattergeo\", \"lon\": [12.0, 33.0], \"lat\": [6.0, 35.0], \"mode\": \"lines\", \"hoverinfo\": \"none\", \"line\": {\"width\": 1.2, \"color\": \"red\"}, \"opacity\": 0.00275}, {\"type\": \"scattergeo\", \"lon\": [14.5833, 100.0], \"lat\": [35.8333, 60.0], \"mode\": \"lines\", \"hoverinfo\": \"none\", \"line\": {\"width\": 1.2, \"color\": \"red\"}, \"opacity\": 0.00275}, {\"type\": \"scattergeo\", \"lon\": [114.1667, 57.55], \"lat\": [22.25, -20.2833], \"mode\": \"lines\", \"hoverinfo\": \"none\", \"line\": {\"width\": 1.2, \"color\": \"red\"}, \"opacity\": 0.00275}, {\"type\": \"scattergeo\", \"lon\": [114.1667, -76.0], \"lat\": [22.25, 24.25], \"mode\": \"lines\", \"hoverinfo\": \"none\", \"line\": {\"width\": 1.2, \"color\": \"red\"}, \"opacity\": 0.00275}, {\"type\": \"scattergeo\", \"lon\": [-72.4167, -2.13], \"lat\": [19.0, 49.21], \"mode\": \"lines\", \"hoverinfo\": \"none\", \"line\": {\"width\": 1.2, \"color\": \"red\"}, \"opacity\": 0.00275}, {\"type\": \"scattergeo\", \"lon\": [-70.6667, -56.0], \"lat\": [19.0, -33.0], \"mode\": \"lines\", \"hoverinfo\": \"none\", \"line\": {\"width\": 1.2, \"color\": \"red\"}, \"opacity\": 0.00275}, {\"type\": \"scattergeo\", \"lon\": [57.55, -56.0], \"lat\": [-20.2833, -33.0], \"mode\": \"lines\", \"hoverinfo\": \"none\", \"line\": {\"width\": 1.2, \"color\": \"red\"}, \"opacity\": 0.00275}, {\"type\": \"scattergeo\", \"lon\": [43.5, 100.0], \"lat\": [42.0, 60.0], \"mode\": \"lines\", \"hoverinfo\": \"none\", \"line\": {\"width\": 1.2, \"color\": \"red\"}, \"opacity\": 0.00275}, {\"type\": \"scattergeo\", \"lon\": [5.75, 100.0], \"lat\": [52.5, 60.0], \"mode\": \"lines\", \"hoverinfo\": \"none\", \"line\": {\"width\": 1.2, \"color\": \"red\"}, \"opacity\": 0.00275}, {\"type\": \"scattergeo\", \"lon\": [9.0, -2.0], \"lat\": [51.0, 54.0], \"mode\": \"lines\", \"hoverinfo\": \"none\", \"line\": {\"width\": 1.2, \"color\": \"red\"}, \"opacity\": 0.00275}, {\"type\": \"scattergeo\", \"lon\": [8.0, 9.0], \"lat\": [47.0, 51.0], \"mode\": \"lines\", \"hoverinfo\": \"none\", \"line\": {\"width\": 1.2, \"color\": \"red\"}, \"opacity\": 0.00275}, {\"type\": \"scattergeo\", \"lon\": [-62.75, -77.5], \"lat\": [17.3333, -2.0], \"mode\": \"lines\", \"hoverinfo\": \"none\", \"line\": {\"width\": 1.2, \"color\": \"red\"}, \"opacity\": 0.00275}, {\"type\": \"scattergeo\", \"lon\": [-8.0, 114.1667], \"lat\": [39.5, 22.25], \"mode\": \"lines\", \"hoverinfo\": \"none\", \"line\": {\"width\": 1.2, \"color\": \"red\"}, \"opacity\": 0.00275}, {\"type\": \"scattergeo\", \"lon\": [-5.3667, 114.1667], \"lat\": [36.1833, 22.25], \"mode\": \"lines\", \"hoverinfo\": \"none\", \"line\": {\"width\": 1.2, \"color\": \"red\"}, \"opacity\": 0.00275}, {\"type\": \"scattergeo\", \"lon\": [-72.0, -77.5], \"lat\": [4.0, -2.0], \"mode\": \"lines\", \"hoverinfo\": \"none\", \"line\": {\"width\": 1.2, \"color\": \"red\"}, \"opacity\": 0.00275}, {\"type\": \"scattergeo\", \"lon\": [35.8333, 100.0], \"lat\": [33.8333, 15.0], \"mode\": \"lines\", \"hoverinfo\": \"none\", \"line\": {\"width\": 1.2, \"color\": \"red\"}, \"opacity\": 0.00275}, {\"type\": \"scattergeo\", \"lon\": [-102.0, 14.5833], \"lat\": [23.0, 35.8333], \"mode\": \"lines\", \"hoverinfo\": \"none\", \"line\": {\"width\": 1.2, \"color\": \"red\"}, \"opacity\": 0.00275}, {\"type\": \"scattergeo\", \"lon\": [-4.0, -2.56], \"lat\": [40.0, 49.5], \"mode\": \"lines\", \"hoverinfo\": \"none\", \"line\": {\"width\": 1.2, \"color\": \"red\"}, \"opacity\": 0.00275}, {\"type\": \"scattergeo\", \"lon\": [51.25, -4.55], \"lat\": [25.5, 54.23], \"mode\": \"lines\", \"hoverinfo\": \"none\", \"line\": {\"width\": 1.2, \"color\": \"red\"}, \"opacity\": 0.00275}, {\"type\": \"scattergeo\", \"lon\": [-95.0, 33.0], \"lat\": [60.0, 35.0], \"mode\": \"lines\", \"hoverinfo\": \"none\", \"line\": {\"width\": 1.2, \"color\": \"red\"}, \"opacity\": 0.00275}, {\"type\": \"scattergeo\", \"lon\": [-95.0, -4.55], \"lat\": [60.0, 54.23], \"mode\": \"lines\", \"hoverinfo\": \"none\", \"line\": {\"width\": 1.2, \"color\": \"red\"}, \"opacity\": 0.00275}, {\"type\": \"scattergeo\", \"lon\": [47.6581, 36.0], \"lat\": [29.3375, 31.0], \"mode\": \"lines\", \"hoverinfo\": \"none\", \"line\": {\"width\": 1.2, \"color\": \"red\"}, \"opacity\": 0.00275}, {\"type\": \"scattergeo\", \"locations\": [\"HKG\", \"TWN\", \"CHN\", \"CHE\", \"SGP\", \"BRA\", \"PAN\", \"WSM\", \"LIE\", \"ESP\", \"THA\", \"COL\", \"JEY\", \"AND\", \"SYC\", \"IRL\", \"BEL\", \"ISR\", \"GIB\", \"GGY\", \"ARE\", \"CYP\", \"VEN\", \"IMN\", \"LBN\", \"DNK\", \"URY\", \"JOR\", \"BHS\", \"GBR\", \"BLZ\", \"LUX\", \"ECU\", \"GTM\", \"DEU\", \"MUS\", \"TUR\", \"USA\", \"MCO\", \"EST\", \"NIU\", \"CZE\", \"NLD\", \"HUN\", \"CRI\", \"PRT\", \"CYM\", \"ZAF\", \"MLT\", \"NZL\", \"CIV\", \"DOM\", \"FRA\", \"ITA\", \"CAN\", \"RUS\", \"GRC\", \"SAU\", \"QAT\", \"MEX\", \"PER\", \"BMU\", \"SLV\", \"AUS\", \"KNA\", \"ARG\", \"JPN\", \"AUT\", \"ASM\", \"PRY\", \"CHL\", \"EGY\", \"SWE\", \"VGB\", \"POL\", \"SVN\", \"PHL\", \"LCA\", \"IDN\", \"HND\", \"KOR\", \"VCT\", \"KWT\", \"HTI\", \"ZWE\", \"SDN\", \"NIC\", \"TCA\", \"LVA\", \"NGA\", \"UKR\", \"AIA\", \"KEN\", \"ROU\", \"NOR\", \"BOL\", \"LTU\", \"VNM\", \"ABW\", \"BGR\", \"MYS\", \"FIN\", \"IRN\", \"LSO\", \"MOZ\", \"MAC\", \"GHA\", \"GEO\", \"YEM\", \"ATG\", \"IND\", \"MKD\", \"MAR\", \"SEN\", \"DMA\", \"NAM\", \"BWA\", \"CUB\", \"LBR\", \"COK\", \"SYR\", \"BLR\", \"DJI\", \"BRB\", \"TUN\", \"BHR\", \"HRV\", \"NRU\", \"AZE\", \"PAK\", \"LBY\", \"UGA\", \"UZB\", \"TTO\", \"ISL\", \"LKA\", \"VIR\", \"TZA\", \"PRI\", \"MWI\", \"TCD\", \"GUM\", \"OMN\", \"JAM\", \"MLI\", \"MNE\", \"KAZ\", \"VUT\", \"MDA\", \"AGO\", \"BGD\", \"CAF\", \"BRN\", \"ALB\", \"CMR\", \"ZMB\", \"SVK\", \"KHM\", \"MNG\", \"BFA\", \"NPL\", \"CPV\", \"IRQ\", \"COD\", \"LAO\", \"SRB\", \"DZA\", \"MDV\", \"MDG\", \"SLE\", \"RWA\", \"SOM\", \"ARM\", \"SWZ\", \"TKM\", \"MTQ\", \"TJK\", \"FJI\", \"GAB\", \"MMR\", \"MHL\", \"GMB\", \"TGO\", \"BEN\", \"GIN\", \"SUR\", \"BIH\", \"NER\", \"ETH\", \"GUY\", \"PSE\", \"GNB\", \"SLB\", \"GNQ\", \"REU\", \"PNG\", \"GRD\", \"SMR\", \"KGZ\", \"PRK\"], \"lon\": [114.1667, 121.0, 105.0, 8.0, 103.8, -55.0, -80.0, -172.3333, 9.5333, -4.0, 100.0, -72.0, -2.13, 1.6, 55.6667, -8.0, 4.0, 34.75, -5.3667, -2.56, 54.0, 33.0, -66.0, -4.55, 35.8333, 10.0, -56.0, 36.0, -76.0, -2.0, -88.75, 6.1667, -77.5, -90.25, 9.0, 57.55, 35.0, -97.0, 7.4, 26.0, -169.8667, 15.5, 5.75, 20.0, -84.0, -8.0, -80.5, 24.0, 14.5833, 174.0, -5.0, -70.6667, 2.0, 12.8333, -95.0, 100.0, 22.0, 45.0, 51.25, -102.0, -76.0, -64.75, -88.9167, 133.0, -62.75, -64.0, 138.0, 13.3333, -170.0, -58.0, -71.0, 30.0, 15.0, -64.5, 20.0, 15.0, 122.0, -61.1333, 120.0, -86.5, 127.5, -61.2, 47.6581, -72.4167, 30.0, 30.0, -85.0, -71.5833, 25.0, 8.0, 32.0, -63.1667, 38.0, 25.0, 10.0, -65.0, 24.0, 106.0, -69.9667, 25.0, 112.5, 26.0, 53.0, 28.5, 35.0, 113.55, -2.0, 43.5, 48.0, -61.8, 77.0, 22.0, -5.0, -14.0, -61.3333, 17.0, 24.0, -80.0, -9.5, -159.7667, 38.0, 28.0, 43.0, -59.5333, 9.0, 50.55, 15.5, 166.9167, 47.5, 70.0, 17.0, 32.0, 64.0, -61.0, -18.0, 81.0, -64.8333, 35.0, -66.5, 34.0, 19.0, 144.7833, 57.0, -77.5, -4.0, 19.0, 68.0, 167.0, 29.0, 18.5, 90.0, 21.0, 114.6667, 20.0, 12.0, 30.0, 19.5, 105.0, 105.0, -2.0, 84.0, -24.0, 44.0, 25.0, 105.0, 21.0, 3.0, 73.0, 47.0, -11.5, 30.0, 49.0, 45.0, 31.5, 60.0, -61.0, 71.0, 175.0, 11.75, 98.0, 168.0, -16.5667, 1.1667, 2.25, -10.0, -56.0, 18.0, 8.0, 38.0, -59.0, 35.25, -15.0, 159.0, 10.0, 55.6, 147.0, -61.6667, 12.4167, 75.0, 127.0], \"lat\": [22.25, 23.5, 35.0, 47.0, 1.3667, -10.0, 9.0, -13.5833, 47.1667, 40.0, 15.0, 4.0, 49.21, 42.5, -4.5833, 53.0, 50.8333, 31.5, 36.1833, 49.5, 24.0, 35.0, 8.0, 54.23, 33.8333, 56.0, -33.0, 31.0, 24.25, 54.0, 17.25, 49.75, -2.0, 15.5, 51.0, -20.2833, 39.0, 38.0, 43.7333, 59.0, -19.0333, 49.75, 52.5, 47.0, 10.0, 39.5, 19.5, -29.0, 35.8333, -41.0, 8.0, 19.0, 46.0, 42.8333, 60.0, 60.0, 39.0, 25.0, 25.5, 23.0, -10.0, 32.3333, 13.8333, -27.0, 17.3333, -34.0, 36.0, 47.3333, -14.3333, -23.0, -30.0, 27.0, 62.0, 18.5, 52.0, 46.0, 13.0, 13.8833, -5.0, 15.0, 37.0, 13.25, 29.3375, 19.0, -20.0, 15.0, 13.0, 21.75, 57.0, 10.0, 49.0, 18.25, 1.0, 46.0, 62.0, -17.0, 56.0, 16.0, 12.5, 43.0, 2.5, 64.0, 32.0, -29.5, -18.25, 22.1667, 8.0, 42.0, 15.0, 17.05, 20.0, 41.8333, 32.0, 14.0, 15.4167, -22.0, -22.0, 21.5, 6.5, -21.2333, 35.0, 53.0, 11.5, 13.1667, 34.0, 26.0, 45.1667, -0.5333, 40.5, 30.0, 25.0, 1.0, 41.0, 11.0, 65.0, 7.0, 18.3333, -6.0, 18.25, -13.5, 15.0, 13.4667, 21.0, 18.25, 17.0, 42.0, 48.0, -16.0, 47.0, -12.5, 24.0, 7.0, 4.5, 41.0, 6.0, -15.0, 48.6667, 13.0, 46.0, 13.0, 28.0, 16.0, 33.0, 0.0, 18.0, 44.0, 28.0, 3.25, -20.0, 8.5, -2.0, 10.0, 40.0, -26.5, 40.0, 14.6667, 39.0, -18.0, -1.0, 22.0, 9.0, 13.4667, 8.0, 9.5, 11.0, 4.0, 44.0, 16.0, 8.0, 5.0, 32.0, 12.0, -8.0, 2.0, -21.1, -6.0, 12.1167, 43.7667, 41.0, 40.0], \"hoverinfo\": \"text\", \"text\": [\"Hong Kong\", \"Taiwan\", \"China\", \"Switzerland\", \"Singapore\", \"Brazil\", \"Panama\", \"Samoa\", \"Liechtenstein\", \"Spain\", \"Thailand\", \"Colombia\", \"Jersey\", \"Andorra\", \"Seychelles\", \"Ireland\", \"Belgium\", \"Israel\", \"Gibraltar\", \"Guernsey\", \"United Arab Emirates\", \"Cyprus\", \"Venezuela\", \"Isle of Man\", \"Lebanon\", \"Denmark\", \"Uruguay\", \"Jordan\", \"Bahamas\", \"United Kingdom\", \"Belize\", \"Luxembourg\", \"Ecuador\", \"Guatemala\", \"Germany\", \"Mauritius\", \"Turkey\", \"United States\", \"Monaco\", \"Estonia\", \"Niue\", \"Czech Republic\", \"Netherlands\", \"Hungary\", \"Costa Rica\", \"Portugal\", \"Cayman Islands\", \"South Africa\", \"Malta\", \"New Zealand\", \"C\\u00f4te d'Ivoire\", \"Dominican Republic\", \"France\", \"Italy\", \"Canada\", \"Russia\", \"Greece\", \"Saudi Arabia\", \"Qatar\", \"Mexico\", \"Peru\", \"Bermuda\", \"El Salvador\", \"Australia\", \"Saint Kitts and Nevis\", \"Argentina\", \"Japan\", \"Austria\", \"American Samoa\", \"Paraguay\", \"Chile\", \"Egypt\", \"Sweden\", \"British Virgin Islands\", \"Poland\", \"Slovenia\", \"Philippines\", \"Saint Lucia\", \"Indonesia\", \"Honduras\", \"South Korea\", \"Saint Vincent and the Grenadines\", \"Kuwait\", \"Haiti\", \"Zimbabwe\", \"Sudan\", \"Nicaragua\", \"Turks and Caicos Islands\", \"Latvia\", \"Nigeria\", \"Ukraine\", \"Anguilla\", \"Kenya\", \"Romania\", \"Norway\", \"Bolivia\", \"Lithuania\", \"Viet Nam\", \"Aruba\", \"Bulgaria\", \"Malaysia\", \"Finland\", \"Iran\", \"Lesotho\", \"Mozambique\", \"Macao\", \"Ghana\", \"Georgia\", \"Yemen\", \"Antigua and Barbuda\", \"India\", \"Macedonia\", \"Morocco\", \"Senegal\", \"Dominica\", \"Namibia\", \"Botswana\", \"Cuba\", \"Liberia\", \"Cook Islands\", \"Syria\", \"Belarus\", \"Djibouti\", \"Barbados\", \"Tunisia\", \"Bahrain\", \"Croatia\", \"Nauru\", \"Azerbaijan\", \"Pakistan\", \"Libya\", \"Uganda\", \"Uzbekistan\", \"Trinidad and Tobago\", \"Iceland\", \"Sri Lanka\", \"U.S. Virgin Islands\", \"Tanzania\", \"Puerto Rico\", \"Malawi\", \"Chad\", \"Guam\", \"Oman\", \"Jamaica\", \"Mali\", \"Montenegro\", \"Kazakhstan\", \"Vanuatu\", \"Moldova\", \"Angola\", \"Bangladesh\", \"Central African Republic\", \"Brunei\", \"Albania\", \"Cameroon\", \"Zambia\", \"Slovakia\", \"Cambodia\", \"Mongolia\", \"Burkina Faso\", \"Nepal\", \"Cape Verde\", \"Iraq\", \"DR Congo\", \"Laos\", \"Serbia\", \"Algeria\", \"Maldives\", \"Madagascar\", \"Sierra Leone\", \"Rwanda\", \"Somalia\", \"Armenia\", \"Swaziland\", \"Turkmenistan\", \"Martinique\", \"Tajikistan\", \"Fiji\", \"Gabon\", \"Myanmar\", \"Marshall Islands\", \"Gambia\", \"Togo\", \"Benin\", \"Guinea\", \"Suriname\", \"Bosnia and Herzegovina\", \"Niger\", \"Ethiopia\", \"Guyana\", \"Palestine\", \"Guinea-Bissau\", \"Solomon Islands\", \"Equatorial Guinea\", \"R\\u00e9union\", \"Papua New Guinea\", \"Grenada\", \"San Marino\", \"Kyrgyzstan\", \"North Korea\"], \"mode\": \"markers\", \"marker\": {\"size\": 2, \"color\": \"rgb(255, 0, 0)\", \"line\": {\"width\": 3, \"color\": \"rgba(68, 68, 68, 0)\"}}}], {\"title\": \"Panama Papers edges\", \"showlegend\": false, \"geo\": {\"showcountries\": true, \"countrycolor\": \"rgb(217, 217, 217)\", \"showframe\": false, \"resolution\": 10, \"showcoastlines\": false, \"projection\": {\"type\": \"Mercator\"}, \"bgcolor\": \"rgba(255, 255, 255, 0.0)\"}}, {\"showLink\": true, \"linkText\": \"Export to plot.ly\", \"plotlyServerURL\": \"https://plot.ly\"})});</script><script type=\"text/javascript\">window.addEventListener(\"resize\", function(){window._Plotly.Plots.resize(document.getElementById(\"b39730a2-fc3d-4c90-a12d-edd04f248e0a\"));});</script>"
      ]
     },
     "metadata": {},
     "output_type": "display_data"
    }
   ],
   "source": [
    "countries = [ dict(\n",
    "        type = 'scattergeo',\n",
    "        locations = pp_countries['country_codes'],\n",
    "        lon = pp_countries['long'],\n",
    "        lat = pp_countries['lat'],\n",
    "        hoverinfo = 'text',\n",
    "        text = pp_countries['countries'],\n",
    "        mode = 'markers',\n",
    "        marker = dict( \n",
    "            size=2, \n",
    "            color='rgb(255, 0, 0)',\n",
    "            line = dict(\n",
    "                width=3,\n",
    "                color='rgba(68, 68, 68, 0)'\n",
    "            )\n",
    "        ))]\n",
    "  \n",
    "edges = []\n",
    "for i in range(len(pp_edges_international)):\n",
    "    \n",
    "    edges.append(\n",
    "        dict(\n",
    "            type = 'scattergeo',\n",
    "            lon = [pp_edges_international['long_1'][i], pp_edges_international['long_2'][i]],\n",
    "            lat = [pp_edges_international['lat_1'][i], pp_edges_international['lat_2'][i]],\n",
    "            mode = 'lines',\n",
    "            hoverinfo = 'none',\n",
    "            line = dict(\n",
    "                width = 1.2, # pp_edges_international['count'][i]/1000,\n",
    "                color = 'red',\n",
    "            ),\n",
    "            opacity = pp_edges_international['count'][i]/4000,\n",
    "        )\n",
    "    )\n",
    "    \n",
    "layout = dict(\n",
    "        title = 'Panama Papers edges',\n",
    "        showlegend = False, \n",
    "        geo = dict(\n",
    "        showcountries = True,\n",
    "        countrycolor = \"rgb(217, 217, 217)\",\n",
    "        showframe = False,\n",
    "        resolution = 10,\n",
    "        showcoastlines = False,\n",
    "        projection = dict(type = 'Mercator'),\n",
    "        bgcolor = 'rgba(255, 255, 255, 0.0)'\n",
    "    ))\n",
    "    \n",
    "fig = dict(data=edges + countries, layout=layout)\n",
    "iplot(fig, validate=False)"
   ]
  }
 ],
 "metadata": {
  "kernelspec": {
   "display_name": "Python 3",
   "language": "python",
   "name": "python3"
  },
  "language_info": {
   "codemirror_mode": {
    "name": "ipython",
    "version": 3
   },
   "file_extension": ".py",
   "mimetype": "text/x-python",
   "name": "python",
   "nbconvert_exporter": "python",
   "pygments_lexer": "ipython3",
   "version": "3.6.7"
  }
 },
 "nbformat": 4,
 "nbformat_minor": 2
}
